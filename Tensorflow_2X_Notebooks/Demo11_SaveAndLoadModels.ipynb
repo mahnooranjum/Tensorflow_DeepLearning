{
  "nbformat": 4,
  "nbformat_minor": 0,
  "metadata": {
    "colab": {
      "name": "Demo11_SaveAndLoadModels.ipynb",
      "provenance": [],
      "collapsed_sections": []
    },
    "kernelspec": {
      "name": "python3",
      "display_name": "Python 3"
    }
  },
  "cells": [
    {
      "cell_type": "markdown",
      "metadata": {
        "id": "P9bJCDjdlgG6",
        "colab_type": "text"
      },
      "source": [
        "# **Spit some [tensor] flow**\n",
        "\n",
        "We need to learn the intricacies of tensorflow to master deep learning\n",
        "\n",
        "`This is how we write code`"
      ]
    },
    {
      "cell_type": "code",
      "metadata": {
        "id": "aQwc0re5mFld",
        "colab_type": "code",
        "outputId": "bc7369e5-6477-4555-db35-e8d1e20722d9",
        "colab": {
          "base_uri": "https://localhost:8080/",
          "height": 35
        }
      },
      "source": [
        "import numpy as np\n",
        "import matplotlib.pyplot as plt\n",
        "import tensorflow as tf\n",
        "print(tf.__version__)"
      ],
      "execution_count": 2,
      "outputs": [
        {
          "output_type": "stream",
          "text": [
            "2.2.0-rc4\n"
          ],
          "name": "stdout"
        }
      ]
    },
    {
      "cell_type": "code",
      "metadata": {
        "id": "qyw8HvOuBEZm",
        "colab_type": "code",
        "outputId": "c3be32ab-1da5-4385-b770-93fedebe2024",
        "colab": {
          "base_uri": "https://localhost:8080/",
          "height": 35
        }
      },
      "source": [
        "from sklearn.datasets import load_breast_cancer\n",
        "data = load_breast_cancer()\n",
        "type(data)\n",
        "print(data.keys())"
      ],
      "execution_count": 3,
      "outputs": [
        {
          "output_type": "stream",
          "text": [
            "dict_keys(['data', 'target', 'target_names', 'DESCR', 'feature_names', 'filename'])\n"
          ],
          "name": "stdout"
        }
      ]
    },
    {
      "cell_type": "code",
      "metadata": {
        "id": "41JwZflmB4qr",
        "colab_type": "code",
        "outputId": "05d3b204-5fbc-4629-82aa-dba252f55e40",
        "colab": {
          "base_uri": "https://localhost:8080/",
          "height": 208
        }
      },
      "source": [
        "print(data.target_names)\n",
        "print(\"============================================\")\n",
        "print(data.feature_names)"
      ],
      "execution_count": 4,
      "outputs": [
        {
          "output_type": "stream",
          "text": [
            "['malignant' 'benign']\n",
            "============================================\n",
            "['mean radius' 'mean texture' 'mean perimeter' 'mean area'\n",
            " 'mean smoothness' 'mean compactness' 'mean concavity'\n",
            " 'mean concave points' 'mean symmetry' 'mean fractal dimension'\n",
            " 'radius error' 'texture error' 'perimeter error' 'area error'\n",
            " 'smoothness error' 'compactness error' 'concavity error'\n",
            " 'concave points error' 'symmetry error' 'fractal dimension error'\n",
            " 'worst radius' 'worst texture' 'worst perimeter' 'worst area'\n",
            " 'worst smoothness' 'worst compactness' 'worst concavity'\n",
            " 'worst concave points' 'worst symmetry' 'worst fractal dimension']\n"
          ],
          "name": "stdout"
        }
      ]
    },
    {
      "cell_type": "code",
      "metadata": {
        "id": "7hQGKjLvBT6z",
        "colab_type": "code",
        "colab": {}
      },
      "source": [
        "X = data.data"
      ],
      "execution_count": 0,
      "outputs": []
    },
    {
      "cell_type": "code",
      "metadata": {
        "id": "ovyPUHaZBqu8",
        "colab_type": "code",
        "colab": {}
      },
      "source": [
        "y = data.target"
      ],
      "execution_count": 0,
      "outputs": []
    },
    {
      "cell_type": "code",
      "metadata": {
        "id": "BSOcVLhKCGOa",
        "colab_type": "code",
        "colab": {}
      },
      "source": [
        "# TRAIN TEST SPLIT\n",
        "from sklearn.model_selection import train_test_split\n",
        "\n",
        "X_train, X_test, y_train, y_test = train_test_split(X, y, test_size = 0.2)"
      ],
      "execution_count": 0,
      "outputs": []
    },
    {
      "cell_type": "code",
      "metadata": {
        "id": "bqh-eNkNCb7D",
        "colab_type": "code",
        "colab": {}
      },
      "source": [
        "N, D = X_train.shape"
      ],
      "execution_count": 0,
      "outputs": []
    },
    {
      "cell_type": "code",
      "metadata": {
        "id": "WA8o1DP8CvGT",
        "colab_type": "code",
        "colab": {}
      },
      "source": [
        "from sklearn.preprocessing import StandardScaler \n",
        "scaleObj = StandardScaler()\n",
        "X_train = scaleObj.fit_transform(X_train)\n",
        "X_test = scaleObj.transform(X_test)\n"
      ],
      "execution_count": 0,
      "outputs": []
    },
    {
      "cell_type": "code",
      "metadata": {
        "id": "mIv1FdhRDRrc",
        "colab_type": "code",
        "outputId": "e5574330-5430-4320-ff88-3987fa65fd14",
        "colab": {
          "base_uri": "https://localhost:8080/",
          "height": 1000
        }
      },
      "source": [
        "model = tf.keras.models.Sequential([\n",
        "                                    tf.keras.layers.Input(shape=(D,)),\n",
        "                                    tf.keras.layers.Dense(1,activation='sigmoid')\n",
        "])\n",
        "\n",
        "\n",
        "model.compile(\n",
        "    optimizer = 'adam',\n",
        "    loss = 'binary_crossentropy',\n",
        "    metrics = ['accuracy']\n",
        ")\n",
        "\n",
        "report = model.fit(X_train, y_train, validation_data=(X_test, y_test), epochs=100)"
      ],
      "execution_count": 10,
      "outputs": [
        {
          "output_type": "stream",
          "text": [
            "Epoch 1/100\n",
            "15/15 [==============================] - 0s 15ms/step - loss: 0.9097 - accuracy: 0.2923 - val_loss: 0.8689 - val_accuracy: 0.3596\n",
            "Epoch 2/100\n",
            "15/15 [==============================] - 0s 3ms/step - loss: 0.8011 - accuracy: 0.4022 - val_loss: 0.7612 - val_accuracy: 0.4561\n",
            "Epoch 3/100\n",
            "15/15 [==============================] - 0s 3ms/step - loss: 0.7082 - accuracy: 0.5407 - val_loss: 0.6703 - val_accuracy: 0.6316\n",
            "Epoch 4/100\n",
            "15/15 [==============================] - 0s 3ms/step - loss: 0.6326 - accuracy: 0.6725 - val_loss: 0.5964 - val_accuracy: 0.7281\n",
            "Epoch 5/100\n",
            "15/15 [==============================] - 0s 4ms/step - loss: 0.5716 - accuracy: 0.7341 - val_loss: 0.5350 - val_accuracy: 0.7895\n",
            "Epoch 6/100\n",
            "15/15 [==============================] - 0s 4ms/step - loss: 0.5200 - accuracy: 0.8000 - val_loss: 0.4860 - val_accuracy: 0.8509\n",
            "Epoch 7/100\n",
            "15/15 [==============================] - 0s 4ms/step - loss: 0.4792 - accuracy: 0.8330 - val_loss: 0.4455 - val_accuracy: 0.8860\n",
            "Epoch 8/100\n",
            "15/15 [==============================] - 0s 4ms/step - loss: 0.4441 - accuracy: 0.8659 - val_loss: 0.4119 - val_accuracy: 0.8947\n",
            "Epoch 9/100\n",
            "15/15 [==============================] - 0s 4ms/step - loss: 0.4146 - accuracy: 0.8879 - val_loss: 0.3835 - val_accuracy: 0.9123\n",
            "Epoch 10/100\n",
            "15/15 [==============================] - 0s 4ms/step - loss: 0.3891 - accuracy: 0.8989 - val_loss: 0.3592 - val_accuracy: 0.9123\n",
            "Epoch 11/100\n",
            "15/15 [==============================] - 0s 4ms/step - loss: 0.3669 - accuracy: 0.9143 - val_loss: 0.3376 - val_accuracy: 0.9211\n",
            "Epoch 12/100\n",
            "15/15 [==============================] - 0s 4ms/step - loss: 0.3471 - accuracy: 0.9231 - val_loss: 0.3192 - val_accuracy: 0.9298\n",
            "Epoch 13/100\n",
            "15/15 [==============================] - 0s 4ms/step - loss: 0.3297 - accuracy: 0.9275 - val_loss: 0.3034 - val_accuracy: 0.9386\n",
            "Epoch 14/100\n",
            "15/15 [==============================] - 0s 4ms/step - loss: 0.3141 - accuracy: 0.9341 - val_loss: 0.2888 - val_accuracy: 0.9386\n",
            "Epoch 15/100\n",
            "15/15 [==============================] - 0s 3ms/step - loss: 0.3005 - accuracy: 0.9385 - val_loss: 0.2757 - val_accuracy: 0.9474\n",
            "Epoch 16/100\n",
            "15/15 [==============================] - 0s 4ms/step - loss: 0.2879 - accuracy: 0.9407 - val_loss: 0.2640 - val_accuracy: 0.9561\n",
            "Epoch 17/100\n",
            "15/15 [==============================] - 0s 4ms/step - loss: 0.2765 - accuracy: 0.9451 - val_loss: 0.2530 - val_accuracy: 0.9561\n",
            "Epoch 18/100\n",
            "15/15 [==============================] - 0s 4ms/step - loss: 0.2659 - accuracy: 0.9473 - val_loss: 0.2434 - val_accuracy: 0.9561\n",
            "Epoch 19/100\n",
            "15/15 [==============================] - 0s 4ms/step - loss: 0.2563 - accuracy: 0.9473 - val_loss: 0.2346 - val_accuracy: 0.9561\n",
            "Epoch 20/100\n",
            "15/15 [==============================] - 0s 4ms/step - loss: 0.2475 - accuracy: 0.9473 - val_loss: 0.2267 - val_accuracy: 0.9561\n",
            "Epoch 21/100\n",
            "15/15 [==============================] - 0s 4ms/step - loss: 0.2395 - accuracy: 0.9473 - val_loss: 0.2191 - val_accuracy: 0.9649\n",
            "Epoch 22/100\n",
            "15/15 [==============================] - 0s 4ms/step - loss: 0.2321 - accuracy: 0.9516 - val_loss: 0.2123 - val_accuracy: 0.9649\n",
            "Epoch 23/100\n",
            "15/15 [==============================] - 0s 4ms/step - loss: 0.2251 - accuracy: 0.9560 - val_loss: 0.2060 - val_accuracy: 0.9649\n",
            "Epoch 24/100\n",
            "15/15 [==============================] - 0s 4ms/step - loss: 0.2185 - accuracy: 0.9604 - val_loss: 0.2002 - val_accuracy: 0.9649\n",
            "Epoch 25/100\n",
            "15/15 [==============================] - 0s 4ms/step - loss: 0.2126 - accuracy: 0.9582 - val_loss: 0.1948 - val_accuracy: 0.9737\n",
            "Epoch 26/100\n",
            "15/15 [==============================] - 0s 4ms/step - loss: 0.2070 - accuracy: 0.9648 - val_loss: 0.1899 - val_accuracy: 0.9737\n",
            "Epoch 27/100\n",
            "15/15 [==============================] - 0s 4ms/step - loss: 0.2019 - accuracy: 0.9692 - val_loss: 0.1852 - val_accuracy: 0.9737\n",
            "Epoch 28/100\n",
            "15/15 [==============================] - 0s 4ms/step - loss: 0.1969 - accuracy: 0.9692 - val_loss: 0.1808 - val_accuracy: 0.9737\n",
            "Epoch 29/100\n",
            "15/15 [==============================] - 0s 4ms/step - loss: 0.1923 - accuracy: 0.9692 - val_loss: 0.1767 - val_accuracy: 0.9737\n",
            "Epoch 30/100\n",
            "15/15 [==============================] - 0s 4ms/step - loss: 0.1881 - accuracy: 0.9692 - val_loss: 0.1727 - val_accuracy: 0.9737\n",
            "Epoch 31/100\n",
            "15/15 [==============================] - 0s 4ms/step - loss: 0.1838 - accuracy: 0.9692 - val_loss: 0.1693 - val_accuracy: 0.9737\n",
            "Epoch 32/100\n",
            "15/15 [==============================] - 0s 4ms/step - loss: 0.1799 - accuracy: 0.9714 - val_loss: 0.1661 - val_accuracy: 0.9737\n",
            "Epoch 33/100\n",
            "15/15 [==============================] - 0s 4ms/step - loss: 0.1763 - accuracy: 0.9714 - val_loss: 0.1628 - val_accuracy: 0.9737\n",
            "Epoch 34/100\n",
            "15/15 [==============================] - 0s 4ms/step - loss: 0.1728 - accuracy: 0.9714 - val_loss: 0.1597 - val_accuracy: 0.9737\n",
            "Epoch 35/100\n",
            "15/15 [==============================] - 0s 4ms/step - loss: 0.1696 - accuracy: 0.9714 - val_loss: 0.1568 - val_accuracy: 0.9737\n",
            "Epoch 36/100\n",
            "15/15 [==============================] - 0s 4ms/step - loss: 0.1666 - accuracy: 0.9714 - val_loss: 0.1541 - val_accuracy: 0.9737\n",
            "Epoch 37/100\n",
            "15/15 [==============================] - 0s 4ms/step - loss: 0.1636 - accuracy: 0.9714 - val_loss: 0.1515 - val_accuracy: 0.9737\n",
            "Epoch 38/100\n",
            "15/15 [==============================] - 0s 4ms/step - loss: 0.1608 - accuracy: 0.9714 - val_loss: 0.1491 - val_accuracy: 0.9737\n",
            "Epoch 39/100\n",
            "15/15 [==============================] - 0s 4ms/step - loss: 0.1582 - accuracy: 0.9714 - val_loss: 0.1467 - val_accuracy: 0.9737\n",
            "Epoch 40/100\n",
            "15/15 [==============================] - 0s 4ms/step - loss: 0.1556 - accuracy: 0.9714 - val_loss: 0.1444 - val_accuracy: 0.9737\n",
            "Epoch 41/100\n",
            "15/15 [==============================] - 0s 4ms/step - loss: 0.1532 - accuracy: 0.9714 - val_loss: 0.1422 - val_accuracy: 0.9737\n",
            "Epoch 42/100\n",
            "15/15 [==============================] - 0s 4ms/step - loss: 0.1508 - accuracy: 0.9714 - val_loss: 0.1403 - val_accuracy: 0.9737\n",
            "Epoch 43/100\n",
            "15/15 [==============================] - 0s 4ms/step - loss: 0.1485 - accuracy: 0.9714 - val_loss: 0.1384 - val_accuracy: 0.9649\n",
            "Epoch 44/100\n",
            "15/15 [==============================] - 0s 4ms/step - loss: 0.1465 - accuracy: 0.9714 - val_loss: 0.1367 - val_accuracy: 0.9649\n",
            "Epoch 45/100\n",
            "15/15 [==============================] - 0s 4ms/step - loss: 0.1444 - accuracy: 0.9736 - val_loss: 0.1350 - val_accuracy: 0.9649\n",
            "Epoch 46/100\n",
            "15/15 [==============================] - 0s 4ms/step - loss: 0.1424 - accuracy: 0.9736 - val_loss: 0.1331 - val_accuracy: 0.9649\n",
            "Epoch 47/100\n",
            "15/15 [==============================] - 0s 4ms/step - loss: 0.1405 - accuracy: 0.9736 - val_loss: 0.1314 - val_accuracy: 0.9649\n",
            "Epoch 48/100\n",
            "15/15 [==============================] - 0s 4ms/step - loss: 0.1387 - accuracy: 0.9736 - val_loss: 0.1299 - val_accuracy: 0.9649\n",
            "Epoch 49/100\n",
            "15/15 [==============================] - 0s 3ms/step - loss: 0.1368 - accuracy: 0.9736 - val_loss: 0.1283 - val_accuracy: 0.9649\n",
            "Epoch 50/100\n",
            "15/15 [==============================] - 0s 4ms/step - loss: 0.1352 - accuracy: 0.9736 - val_loss: 0.1267 - val_accuracy: 0.9649\n",
            "Epoch 51/100\n",
            "15/15 [==============================] - 0s 4ms/step - loss: 0.1336 - accuracy: 0.9736 - val_loss: 0.1254 - val_accuracy: 0.9649\n",
            "Epoch 52/100\n",
            "15/15 [==============================] - 0s 4ms/step - loss: 0.1320 - accuracy: 0.9736 - val_loss: 0.1241 - val_accuracy: 0.9649\n",
            "Epoch 53/100\n",
            "15/15 [==============================] - 0s 4ms/step - loss: 0.1305 - accuracy: 0.9736 - val_loss: 0.1228 - val_accuracy: 0.9649\n",
            "Epoch 54/100\n",
            "15/15 [==============================] - 0s 4ms/step - loss: 0.1290 - accuracy: 0.9736 - val_loss: 0.1214 - val_accuracy: 0.9649\n",
            "Epoch 55/100\n",
            "15/15 [==============================] - 0s 6ms/step - loss: 0.1276 - accuracy: 0.9758 - val_loss: 0.1205 - val_accuracy: 0.9649\n",
            "Epoch 56/100\n",
            "15/15 [==============================] - 0s 4ms/step - loss: 0.1261 - accuracy: 0.9758 - val_loss: 0.1194 - val_accuracy: 0.9649\n",
            "Epoch 57/100\n",
            "15/15 [==============================] - 0s 4ms/step - loss: 0.1247 - accuracy: 0.9758 - val_loss: 0.1182 - val_accuracy: 0.9649\n",
            "Epoch 58/100\n",
            "15/15 [==============================] - 0s 4ms/step - loss: 0.1234 - accuracy: 0.9758 - val_loss: 0.1170 - val_accuracy: 0.9649\n",
            "Epoch 59/100\n",
            "15/15 [==============================] - 0s 4ms/step - loss: 0.1221 - accuracy: 0.9758 - val_loss: 0.1160 - val_accuracy: 0.9649\n",
            "Epoch 60/100\n",
            "15/15 [==============================] - 0s 4ms/step - loss: 0.1209 - accuracy: 0.9780 - val_loss: 0.1149 - val_accuracy: 0.9649\n",
            "Epoch 61/100\n",
            "15/15 [==============================] - 0s 4ms/step - loss: 0.1198 - accuracy: 0.9780 - val_loss: 0.1139 - val_accuracy: 0.9649\n",
            "Epoch 62/100\n",
            "15/15 [==============================] - 0s 4ms/step - loss: 0.1186 - accuracy: 0.9780 - val_loss: 0.1130 - val_accuracy: 0.9649\n",
            "Epoch 63/100\n",
            "15/15 [==============================] - 0s 4ms/step - loss: 0.1176 - accuracy: 0.9780 - val_loss: 0.1122 - val_accuracy: 0.9649\n",
            "Epoch 64/100\n",
            "15/15 [==============================] - 0s 4ms/step - loss: 0.1164 - accuracy: 0.9802 - val_loss: 0.1113 - val_accuracy: 0.9649\n",
            "Epoch 65/100\n",
            "15/15 [==============================] - 0s 4ms/step - loss: 0.1155 - accuracy: 0.9802 - val_loss: 0.1105 - val_accuracy: 0.9649\n",
            "Epoch 66/100\n",
            "15/15 [==============================] - 0s 4ms/step - loss: 0.1145 - accuracy: 0.9802 - val_loss: 0.1097 - val_accuracy: 0.9649\n",
            "Epoch 67/100\n",
            "15/15 [==============================] - 0s 4ms/step - loss: 0.1135 - accuracy: 0.9802 - val_loss: 0.1088 - val_accuracy: 0.9649\n",
            "Epoch 68/100\n",
            "15/15 [==============================] - 0s 4ms/step - loss: 0.1126 - accuracy: 0.9802 - val_loss: 0.1081 - val_accuracy: 0.9649\n",
            "Epoch 69/100\n",
            "15/15 [==============================] - 0s 4ms/step - loss: 0.1116 - accuracy: 0.9802 - val_loss: 0.1073 - val_accuracy: 0.9649\n",
            "Epoch 70/100\n",
            "15/15 [==============================] - 0s 4ms/step - loss: 0.1107 - accuracy: 0.9802 - val_loss: 0.1065 - val_accuracy: 0.9649\n",
            "Epoch 71/100\n",
            "15/15 [==============================] - 0s 4ms/step - loss: 0.1099 - accuracy: 0.9802 - val_loss: 0.1058 - val_accuracy: 0.9649\n",
            "Epoch 72/100\n",
            "15/15 [==============================] - 0s 4ms/step - loss: 0.1091 - accuracy: 0.9824 - val_loss: 0.1052 - val_accuracy: 0.9649\n",
            "Epoch 73/100\n",
            "15/15 [==============================] - 0s 4ms/step - loss: 0.1083 - accuracy: 0.9824 - val_loss: 0.1045 - val_accuracy: 0.9649\n",
            "Epoch 74/100\n",
            "15/15 [==============================] - 0s 4ms/step - loss: 0.1074 - accuracy: 0.9824 - val_loss: 0.1039 - val_accuracy: 0.9649\n",
            "Epoch 75/100\n",
            "15/15 [==============================] - 0s 4ms/step - loss: 0.1066 - accuracy: 0.9824 - val_loss: 0.1033 - val_accuracy: 0.9649\n",
            "Epoch 76/100\n",
            "15/15 [==============================] - 0s 4ms/step - loss: 0.1058 - accuracy: 0.9824 - val_loss: 0.1027 - val_accuracy: 0.9649\n",
            "Epoch 77/100\n",
            "15/15 [==============================] - 0s 4ms/step - loss: 0.1050 - accuracy: 0.9824 - val_loss: 0.1021 - val_accuracy: 0.9649\n",
            "Epoch 78/100\n",
            "15/15 [==============================] - 0s 4ms/step - loss: 0.1043 - accuracy: 0.9824 - val_loss: 0.1016 - val_accuracy: 0.9649\n",
            "Epoch 79/100\n",
            "15/15 [==============================] - 0s 4ms/step - loss: 0.1035 - accuracy: 0.9824 - val_loss: 0.1008 - val_accuracy: 0.9649\n",
            "Epoch 80/100\n",
            "15/15 [==============================] - 0s 4ms/step - loss: 0.1028 - accuracy: 0.9824 - val_loss: 0.1003 - val_accuracy: 0.9649\n",
            "Epoch 81/100\n",
            "15/15 [==============================] - 0s 4ms/step - loss: 0.1022 - accuracy: 0.9824 - val_loss: 0.0999 - val_accuracy: 0.9649\n",
            "Epoch 82/100\n",
            "15/15 [==============================] - 0s 4ms/step - loss: 0.1015 - accuracy: 0.9824 - val_loss: 0.0995 - val_accuracy: 0.9649\n",
            "Epoch 83/100\n",
            "15/15 [==============================] - 0s 4ms/step - loss: 0.1008 - accuracy: 0.9824 - val_loss: 0.0989 - val_accuracy: 0.9649\n",
            "Epoch 84/100\n",
            "15/15 [==============================] - 0s 4ms/step - loss: 0.1002 - accuracy: 0.9824 - val_loss: 0.0985 - val_accuracy: 0.9649\n",
            "Epoch 85/100\n",
            "15/15 [==============================] - 0s 4ms/step - loss: 0.0995 - accuracy: 0.9824 - val_loss: 0.0980 - val_accuracy: 0.9649\n",
            "Epoch 86/100\n",
            "15/15 [==============================] - 0s 4ms/step - loss: 0.0989 - accuracy: 0.9824 - val_loss: 0.0977 - val_accuracy: 0.9649\n",
            "Epoch 87/100\n",
            "15/15 [==============================] - 0s 4ms/step - loss: 0.0982 - accuracy: 0.9824 - val_loss: 0.0972 - val_accuracy: 0.9649\n",
            "Epoch 88/100\n",
            "15/15 [==============================] - 0s 4ms/step - loss: 0.0976 - accuracy: 0.9824 - val_loss: 0.0968 - val_accuracy: 0.9649\n",
            "Epoch 89/100\n",
            "15/15 [==============================] - 0s 4ms/step - loss: 0.0970 - accuracy: 0.9824 - val_loss: 0.0964 - val_accuracy: 0.9649\n",
            "Epoch 90/100\n",
            "15/15 [==============================] - 0s 4ms/step - loss: 0.0965 - accuracy: 0.9824 - val_loss: 0.0959 - val_accuracy: 0.9649\n",
            "Epoch 91/100\n",
            "15/15 [==============================] - 0s 4ms/step - loss: 0.0959 - accuracy: 0.9824 - val_loss: 0.0955 - val_accuracy: 0.9649\n",
            "Epoch 92/100\n",
            "15/15 [==============================] - 0s 4ms/step - loss: 0.0954 - accuracy: 0.9824 - val_loss: 0.0951 - val_accuracy: 0.9649\n",
            "Epoch 93/100\n",
            "15/15 [==============================] - 0s 4ms/step - loss: 0.0948 - accuracy: 0.9824 - val_loss: 0.0948 - val_accuracy: 0.9649\n",
            "Epoch 94/100\n",
            "15/15 [==============================] - 0s 4ms/step - loss: 0.0943 - accuracy: 0.9824 - val_loss: 0.0944 - val_accuracy: 0.9649\n",
            "Epoch 95/100\n",
            "15/15 [==============================] - 0s 4ms/step - loss: 0.0938 - accuracy: 0.9824 - val_loss: 0.0939 - val_accuracy: 0.9649\n",
            "Epoch 96/100\n",
            "15/15 [==============================] - 0s 4ms/step - loss: 0.0933 - accuracy: 0.9824 - val_loss: 0.0935 - val_accuracy: 0.9649\n",
            "Epoch 97/100\n",
            "15/15 [==============================] - 0s 4ms/step - loss: 0.0927 - accuracy: 0.9824 - val_loss: 0.0932 - val_accuracy: 0.9649\n",
            "Epoch 98/100\n",
            "15/15 [==============================] - 0s 4ms/step - loss: 0.0923 - accuracy: 0.9824 - val_loss: 0.0929 - val_accuracy: 0.9649\n",
            "Epoch 99/100\n",
            "15/15 [==============================] - 0s 4ms/step - loss: 0.0918 - accuracy: 0.9824 - val_loss: 0.0926 - val_accuracy: 0.9649\n",
            "Epoch 100/100\n",
            "15/15 [==============================] - 0s 4ms/step - loss: 0.0913 - accuracy: 0.9824 - val_loss: 0.0923 - val_accuracy: 0.9649\n"
          ],
          "name": "stdout"
        }
      ]
    },
    {
      "cell_type": "code",
      "metadata": {
        "id": "pQE2TTKnh75m",
        "colab_type": "code",
        "colab": {}
      },
      "source": [
        "y_pred = model.predict(X_test)"
      ],
      "execution_count": 0,
      "outputs": []
    },
    {
      "cell_type": "code",
      "metadata": {
        "id": "WO32VafQiDMO",
        "colab_type": "code",
        "colab": {}
      },
      "source": [
        "y_pred = np.round(y_pred).flatten()"
      ],
      "execution_count": 0,
      "outputs": []
    },
    {
      "cell_type": "code",
      "metadata": {
        "id": "qy3CyzCFiKiN",
        "colab_type": "code",
        "outputId": "aa53dd2f-6350-4a0a-ee3d-f4162d6316b0",
        "colab": {
          "base_uri": "https://localhost:8080/",
          "height": 35
        }
      },
      "source": [
        "print(\"Accuracy: \", np.mean(y_pred == y_test))"
      ],
      "execution_count": 13,
      "outputs": [
        {
          "output_type": "stream",
          "text": [
            "Accuracy:  0.9649122807017544\n"
          ],
          "name": "stdout"
        }
      ]
    },
    {
      "cell_type": "code",
      "metadata": {
        "id": "LuietUFpEG5a",
        "colab_type": "code",
        "outputId": "25cb7fd5-d9a2-48b8-cc32-2fb5ed106b46",
        "colab": {
          "base_uri": "https://localhost:8080/",
          "height": 87
        }
      },
      "source": [
        "print(\"Train eval: \", model.evaluate(X_train, y_train))\n",
        "print(\"Test eval: \", model.evaluate(X_test, y_test))"
      ],
      "execution_count": 14,
      "outputs": [
        {
          "output_type": "stream",
          "text": [
            "15/15 [==============================] - 0s 1ms/step - loss: 0.0910 - accuracy: 0.9824\n",
            "Train eval:  [0.09098686277866364, 0.9824175834655762]\n",
            "4/4 [==============================] - 0s 2ms/step - loss: 0.0923 - accuracy: 0.9649\n",
            "Test eval:  [0.09230788052082062, 0.9649122953414917]\n"
          ],
          "name": "stdout"
        }
      ]
    },
    {
      "cell_type": "markdown",
      "metadata": {
        "id": "t9Gs0ZQhil2O",
        "colab_type": "text"
      },
      "source": [
        "## SCIKIT LEARN EVALUATION METRICS"
      ]
    },
    {
      "cell_type": "code",
      "metadata": {
        "id": "dPz8dvWyifJm",
        "colab_type": "code",
        "outputId": "d4cd9d5e-3981-4bd3-c83f-b9348dd8c391",
        "colab": {
          "base_uri": "https://localhost:8080/",
          "height": 52
        }
      },
      "source": [
        "# Making the Confusion Matrix\n",
        "from sklearn.metrics import confusion_matrix\n",
        "con_mat = confusion_matrix(y_test, y_pred)\n",
        "con_mat"
      ],
      "execution_count": 15,
      "outputs": [
        {
          "output_type": "execute_result",
          "data": {
            "text/plain": [
              "array([[41,  4],\n",
              "       [ 0, 69]])"
            ]
          },
          "metadata": {
            "tags": []
          },
          "execution_count": 15
        }
      ]
    },
    {
      "cell_type": "code",
      "metadata": {
        "id": "zraSRtcSjEtN",
        "colab_type": "code",
        "outputId": "047bdda1-4084-4626-9b35-db57a9e90dc3",
        "colab": {
          "base_uri": "https://localhost:8080/",
          "height": 35
        }
      },
      "source": [
        "# Making the Confusion Matrix\n",
        "from sklearn.metrics import accuracy_score\n",
        "acc_score = accuracy_score(y_test, y_pred)\n",
        "acc_score"
      ],
      "execution_count": 16,
      "outputs": [
        {
          "output_type": "execute_result",
          "data": {
            "text/plain": [
              "0.9649122807017544"
            ]
          },
          "metadata": {
            "tags": []
          },
          "execution_count": 16
        }
      ]
    },
    {
      "cell_type": "code",
      "metadata": {
        "id": "clLHxtHzjApv",
        "colab_type": "code",
        "outputId": "b51b7c35-a482-441d-a88b-512be23ab030",
        "colab": {
          "base_uri": "https://localhost:8080/",
          "height": 173
        }
      },
      "source": [
        "from sklearn.metrics import classification_report\n",
        "class_report = classification_report(y_test, y_pred)\n",
        "print(class_report)"
      ],
      "execution_count": 17,
      "outputs": [
        {
          "output_type": "stream",
          "text": [
            "              precision    recall  f1-score   support\n",
            "\n",
            "           0       1.00      0.91      0.95        45\n",
            "           1       0.95      1.00      0.97        69\n",
            "\n",
            "    accuracy                           0.96       114\n",
            "   macro avg       0.97      0.96      0.96       114\n",
            "weighted avg       0.97      0.96      0.96       114\n",
            "\n"
          ],
          "name": "stdout"
        }
      ]
    },
    {
      "cell_type": "markdown",
      "metadata": {
        "id": "G5jBA1oCkieH",
        "colab_type": "text"
      },
      "source": [
        "## SAVE A MODEL"
      ]
    },
    {
      "cell_type": "code",
      "metadata": {
        "id": "ns7zWGL3kp3K",
        "colab_type": "code",
        "colab": {}
      },
      "source": [
        "model.save(\"M1_breastCancer.h5\")"
      ],
      "execution_count": 0,
      "outputs": []
    },
    {
      "cell_type": "code",
      "metadata": {
        "id": "BwjSncTi4E0w",
        "colab_type": "code",
        "colab": {
          "base_uri": "https://localhost:8080/",
          "height": 121
        },
        "outputId": "99816464-3af2-4876-a0c6-2e8bec8d579c"
      },
      "source": [
        "!ls -la "
      ],
      "execution_count": 21,
      "outputs": [
        {
          "output_type": "stream",
          "text": [
            "total 36\n",
            "drwxr-xr-x 1 root root  4096 May 10 18:37 .\n",
            "drwxr-xr-x 1 root root  4096 May 10 18:33 ..\n",
            "drwxr-xr-x 1 root root  4096 May  7 16:13 .config\n",
            "-rw-r--r-- 1 root root 18480 May 10 18:38 M1_breastCancer.h5\n",
            "drwxr-xr-x 1 root root  4096 May  4 16:26 sample_data\n"
          ],
          "name": "stdout"
        }
      ]
    },
    {
      "cell_type": "markdown",
      "metadata": {
        "id": "fsn8S4KrklU-",
        "colab_type": "text"
      },
      "source": [
        "## LOAD A MODEL"
      ]
    },
    {
      "cell_type": "code",
      "metadata": {
        "id": "A0a60Daq4LEg",
        "colab_type": "code",
        "colab": {
          "base_uri": "https://localhost:8080/",
          "height": 35
        },
        "outputId": "8b3b8574-3cde-48ce-8913-0992c8326c52"
      },
      "source": [
        "model  = tf.keras.models.load_model('M1_breastCancer.h5')\n",
        "from sklearn.metrics import accuracy_score\n",
        "acc_score = accuracy_score(y_test, y_pred)\n",
        "acc_score"
      ],
      "execution_count": 22,
      "outputs": [
        {
          "output_type": "execute_result",
          "data": {
            "text/plain": [
              "0.9649122807017544"
            ]
          },
          "metadata": {
            "tags": []
          },
          "execution_count": 22
        }
      ]
    }
  ]
}