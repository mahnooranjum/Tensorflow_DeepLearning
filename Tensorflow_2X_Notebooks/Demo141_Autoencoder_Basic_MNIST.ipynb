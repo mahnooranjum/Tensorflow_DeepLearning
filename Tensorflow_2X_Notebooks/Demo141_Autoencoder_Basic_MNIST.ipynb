{
  "nbformat": 4,
  "nbformat_minor": 0,
  "metadata": {
    "colab": {
      "name": "Demo141_Autoencoder_Basic_MNIST.ipynb",
      "provenance": [],
      "collapsed_sections": []
    },
    "kernelspec": {
      "name": "python3",
      "display_name": "Python 3"
    }
  },
  "cells": [
    {
      "cell_type": "markdown",
      "metadata": {
        "id": "P9bJCDjdlgG6",
        "colab_type": "text"
      },
      "source": [
        "# **Spit some [tensor] flow**\n",
        "\n",
        "We need to learn the intricacies of tensorflow to master deep learning\n",
        "\n"
      ]
    },
    {
      "cell_type": "code",
      "metadata": {
        "id": "aQwc0re5mFld",
        "colab_type": "code",
        "outputId": "a7292ffa-db2d-41fa-c950-031bb5e9e738",
        "colab": {
          "base_uri": "https://localhost:8080/",
          "height": 34
        }
      },
      "source": [
        "import numpy as np\n",
        "import pandas as pd\n",
        "import matplotlib.pyplot as plt\n",
        "import tensorflow as tf\n",
        "import cv2\n",
        "print(tf.__version__)"
      ],
      "execution_count": 1,
      "outputs": [
        {
          "output_type": "stream",
          "text": [
            "2.2.0\n"
          ],
          "name": "stdout"
        }
      ]
    },
    {
      "cell_type": "code",
      "metadata": {
        "id": "CaBxIWkog_i-",
        "colab_type": "code",
        "colab": {}
      },
      "source": [
        "from tensorflow.keras.layers import Input, Conv2D, Dropout, Dense, Flatten\n",
        "from tensorflow.keras.models import Model"
      ],
      "execution_count": 0,
      "outputs": []
    },
    {
      "cell_type": "code",
      "metadata": {
        "id": "zhCnvW2e2Xrv",
        "colab_type": "code",
        "colab": {}
      },
      "source": [
        "from tensorflow.keras.datasets import mnist\n",
        "(X_train, y_train), (X_test, y_test) = mnist.load_data()"
      ],
      "execution_count": 0,
      "outputs": []
    },
    {
      "cell_type": "code",
      "metadata": {
        "id": "w6qLYai-2x-O",
        "colab_type": "code",
        "outputId": "4e936e2e-b9f2-4d72-bc01-364e5504daf7",
        "colab": {
          "base_uri": "https://localhost:8080/",
          "height": 52
        }
      },
      "source": [
        "X_train, X_test = X_train / 255.0 , X_test / 255.0 \n",
        "print(X_train.shape)\n",
        "print(X_test.shape)"
      ],
      "execution_count": 16,
      "outputs": [
        {
          "output_type": "stream",
          "text": [
            "(60000, 28, 28)\n",
            "(10000, 28, 28)\n"
          ],
          "name": "stdout"
        }
      ]
    },
    {
      "cell_type": "code",
      "metadata": {
        "id": "UEphzMZC3DRu",
        "colab_type": "code",
        "outputId": "c3f3c7fe-2fc2-4ae0-aaa5-300c3c60eb0a",
        "colab": {
          "base_uri": "https://localhost:8080/",
          "height": 52
        }
      },
      "source": [
        "# X_train = np.expand_dims(X_train, -1)\n",
        "# X_test = np.expand_dims(X_test, -1)\n",
        "print(X_train.shape)\n",
        "print(X_test.shape)\n",
        "# SHAPE \n",
        "# N x H x W x Colors \n",
        "# Colors = 1 for grayscale \n",
        "# Fashion MNIST is grayscale"
      ],
      "execution_count": 17,
      "outputs": [
        {
          "output_type": "stream",
          "text": [
            "(60000, 28, 28)\n",
            "(10000, 28, 28)\n"
          ],
          "name": "stdout"
        }
      ]
    },
    {
      "cell_type": "code",
      "metadata": {
        "id": "IBVVrC-znpYd",
        "colab_type": "code",
        "colab": {
          "base_uri": "https://localhost:8080/",
          "height": 52
        },
        "outputId": "3ebbd1b6-537d-4273-afdf-3f3c082de7dd"
      },
      "source": [
        "X_train = X_train.reshape(X_train.shape[0],-1)\n",
        "X_test = X_test.reshape(X_test.shape[0],-1)\n",
        "print(X_train.shape)\n",
        "print(X_test.shape)"
      ],
      "execution_count": 18,
      "outputs": [
        {
          "output_type": "stream",
          "text": [
            "(60000, 784)\n",
            "(10000, 784)\n"
          ],
          "name": "stdout"
        }
      ]
    },
    {
      "cell_type": "code",
      "metadata": {
        "id": "F-F3OFyE3QiF",
        "colab_type": "code",
        "outputId": "b3a2367b-7c5b-4cb1-99d8-7edc6044ad5e",
        "colab": {
          "base_uri": "https://localhost:8080/",
          "height": 34
        }
      },
      "source": [
        "classes = len(set(y_train))\n",
        "print(classes)"
      ],
      "execution_count": 19,
      "outputs": [
        {
          "output_type": "stream",
          "text": [
            "10\n"
          ],
          "name": "stdout"
        }
      ]
    },
    {
      "cell_type": "code",
      "metadata": {
        "id": "Z42Ozm3Np5me",
        "colab_type": "code",
        "colab": {
          "base_uri": "https://localhost:8080/",
          "height": 34
        },
        "outputId": "bfd3f191-319b-4a90-ccab-557302a59dec"
      },
      "source": [
        " X_train[0].shape"
      ],
      "execution_count": 21,
      "outputs": [
        {
          "output_type": "execute_result",
          "data": {
            "text/plain": [
              "(784,)"
            ]
          },
          "metadata": {
            "tags": []
          },
          "execution_count": 21
        }
      ]
    },
    {
      "cell_type": "code",
      "metadata": {
        "id": "gsm4l9-Z3kX2",
        "colab_type": "code",
        "colab": {}
      },
      "source": [
        "input_shape = X_train[0].shape"
      ],
      "execution_count": 0,
      "outputs": []
    },
    {
      "cell_type": "markdown",
      "metadata": {
        "id": "5mvydbDkBxW5",
        "colab_type": "text"
      },
      "source": [
        "## ZEROS\n"
      ]
    },
    {
      "cell_type": "code",
      "metadata": {
        "id": "35SNHNC74Gk2",
        "colab_type": "code",
        "colab": {}
      },
      "source": [
        "i_layer = Input(shape = input_shape)\n",
        "h_layer = Dense(128, activation='relu')(i_layer)\n",
        "h_layer = Dense(64, activation='relu')(h_layer)\n",
        "h_layer = Dense(128, activation='relu')(h_layer)\n",
        "o_layer = Dense(X_train[0].shape[0], activation=None)(h_layer)\n",
        "model = Model(i_layer, o_layer)\n"
      ],
      "execution_count": 0,
      "outputs": []
    },
    {
      "cell_type": "code",
      "metadata": {
        "id": "PK4XdoUd5q7n",
        "colab_type": "code",
        "outputId": "4806109f-7d83-4788-ea86-e6ea4fea7785",
        "colab": {
          "base_uri": "https://localhost:8080/",
          "height": 721
        }
      },
      "source": [
        "model.compile(optimizer='adam', \n",
        "              loss = \"mse\")\n",
        "\n",
        "report = model.fit(X_train, X_train, epochs=20, batch_size=200)"
      ],
      "execution_count": 67,
      "outputs": [
        {
          "output_type": "stream",
          "text": [
            "Epoch 1/20\n",
            "300/300 [==============================] - 3s 9ms/step - loss: 0.0356\n",
            "Epoch 2/20\n",
            "300/300 [==============================] - 3s 9ms/step - loss: 0.0181\n",
            "Epoch 3/20\n",
            "300/300 [==============================] - 3s 11ms/step - loss: 0.0162\n",
            "Epoch 4/20\n",
            "300/300 [==============================] - 3s 11ms/step - loss: 0.0157\n",
            "Epoch 5/20\n",
            "300/300 [==============================] - 3s 11ms/step - loss: 0.0155\n",
            "Epoch 6/20\n",
            "300/300 [==============================] - 3s 9ms/step - loss: 0.0154\n",
            "Epoch 7/20\n",
            "300/300 [==============================] - 3s 9ms/step - loss: 0.0153\n",
            "Epoch 8/20\n",
            "300/300 [==============================] - 3s 9ms/step - loss: 0.0152\n",
            "Epoch 9/20\n",
            "300/300 [==============================] - 3s 9ms/step - loss: 0.0152\n",
            "Epoch 10/20\n",
            "300/300 [==============================] - 3s 10ms/step - loss: 0.0149\n",
            "Epoch 11/20\n",
            "300/300 [==============================] - 3s 9ms/step - loss: 0.0148\n",
            "Epoch 12/20\n",
            "300/300 [==============================] - 3s 9ms/step - loss: 0.0147\n",
            "Epoch 13/20\n",
            "300/300 [==============================] - 3s 9ms/step - loss: 0.0147\n",
            "Epoch 14/20\n",
            "300/300 [==============================] - 3s 9ms/step - loss: 0.0146\n",
            "Epoch 15/20\n",
            "300/300 [==============================] - 3s 9ms/step - loss: 0.0145\n",
            "Epoch 16/20\n",
            "300/300 [==============================] - 3s 9ms/step - loss: 0.0144\n",
            "Epoch 17/20\n",
            "300/300 [==============================] - 3s 9ms/step - loss: 0.0143\n",
            "Epoch 18/20\n",
            "300/300 [==============================] - 3s 8ms/step - loss: 0.0142\n",
            "Epoch 19/20\n",
            "300/300 [==============================] - 3s 9ms/step - loss: 0.0140\n",
            "Epoch 20/20\n",
            "300/300 [==============================] - 3s 9ms/step - loss: 0.0138\n"
          ],
          "name": "stdout"
        }
      ]
    },
    {
      "cell_type": "code",
      "metadata": {
        "id": "4-R6Ju97tX03",
        "colab_type": "code",
        "colab": {
          "base_uri": "https://localhost:8080/",
          "height": 282
        },
        "outputId": "3e21a5e8-e7ca-4028-ca62-d98e617a4a0c"
      },
      "source": [
        "idx = np.random.randint(0, len(X_train))\n",
        "fig,ax = plt.subplots(1,2,figsize=(10,4))\n",
        "ax[0].imshow(X_train[idx].reshape(28,28), cmap='gray')\n",
        "X_decoded = model.predict(X_train[[idx]])\n",
        "ax[1].imshow(X_decoded.reshape(28,28), cmap='gray')"
      ],
      "execution_count": 68,
      "outputs": [
        {
          "output_type": "execute_result",
          "data": {
            "text/plain": [
              "<matplotlib.image.AxesImage at 0x7f9495647470>"
            ]
          },
          "metadata": {
            "tags": []
          },
          "execution_count": 68
        },
        {
          "output_type": "display_data",
          "data": {
            "image/png": "[encoded data removed]",
            "text/plain": [
              "<Figure size 720x288 with 2 Axes>"
            ]
          },
          "metadata": {
            "tags": [],
            "needs_background": "light"
          }
        }
      ]
    },
    {
      "cell_type": "code",
      "metadata": {
        "id": "9lJtnIT2vXI4",
        "colab_type": "code",
        "colab": {}
      },
      "source": [
        ""
      ],
      "execution_count": 0,
      "outputs": []
    }
  ]
}