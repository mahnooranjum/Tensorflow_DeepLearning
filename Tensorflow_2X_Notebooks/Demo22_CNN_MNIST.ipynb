{
  "nbformat": 4,
  "nbformat_minor": 0,
  "metadata": {
    "colab": {
      "name": "Demo22_CNN_MNIST.ipynb",
      "provenance": [],
      "collapsed_sections": []
    },
    "kernelspec": {
      "name": "python3",
      "display_name": "Python 3"
    }
  },
  "cells": [
    {
      "cell_type": "markdown",
      "metadata": {
        "id": "P9bJCDjdlgG6",
        "colab_type": "text"
      },
      "source": [
        "# **Spit some [tensor] flow**\n",
        "\n",
        "We need to learn the intricacies of tensorflow to master deep learning\n",
        "\n",
        "`Let's get this over with`\n",
        "\n"
      ]
    },
    {
      "cell_type": "code",
      "metadata": {
        "id": "aQwc0re5mFld",
        "colab_type": "code",
        "outputId": "27667d62-a88a-47df-fb6f-28df48f89ddb",
        "colab": {
          "base_uri": "https://localhost:8080/",
          "height": 35
        }
      },
      "source": [
        "import numpy as np\n",
        "import pandas as pd\n",
        "import matplotlib.pyplot as plt\n",
        "import tensorflow as tf\n",
        "import cv2\n",
        "print(tf.__version__)"
      ],
      "execution_count": 5,
      "outputs": [
        {
          "output_type": "stream",
          "text": [
            "2.2.0\n"
          ],
          "name": "stdout"
        }
      ]
    },
    {
      "cell_type": "markdown",
      "metadata": {
        "id": "2prPNQ7eg1iT",
        "colab_type": "text"
      },
      "source": [
        "## As a rule of thumb\n",
        "\n",
        "Remember that the pooling operation decreases the size of the image, and we lose information.\n",
        "\n",
        "However, the number of features generally increases and we get more features extracted from the images.\n",
        "\n",
        "The choices of hyperparams bother us sometimes, because DL has a lot of trial and error involved, we can choose the \n",
        "\n",
        "- learning rate\n",
        "\n",
        "- number of layers\n",
        "\n",
        "- number of neurons per layer \n",
        "\n",
        "- feature size \n",
        "\n",
        "- feature number \n",
        "\n",
        "- pooling size \n",
        "\n",
        "- stride \n",
        "\n",
        "On a side note, if you use strided convolution layers, they will decrease the size of the image as well\n",
        "\n",
        "\n",
        "If we have images with different sizes as inputs; for example; H1 x W1 x 3 and H2 x W2 x 3, then the output will be flatten-ed to different sizes, this won't work for DENSE layers as they do not have change-able input sizes, so we use global max pooling to make a vector of size 1 x 1 x (#_Of_Feature_Maps_)"
      ]
    },
    {
      "cell_type": "code",
      "metadata": {
        "id": "CaBxIWkog_i-",
        "colab_type": "code",
        "colab": {}
      },
      "source": [
        "from tensorflow.keras.layers import Input, Conv2D, Dropout, Dense, Flatten\n",
        "from tensorflow.keras.models import Model"
      ],
      "execution_count": 0,
      "outputs": []
    },
    {
      "cell_type": "code",
      "metadata": {
        "id": "zhCnvW2e2Xrv",
        "colab_type": "code",
        "colab": {
          "base_uri": "https://localhost:8080/",
          "height": 52
        },
        "outputId": "5913a059-ecbd-43f3-efe7-69be14886b07"
      },
      "source": [
        "from tensorflow.keras.datasets import mnist\n",
        "(X_train, y_train), (X_test, y_test) = mnist.load_data()"
      ],
      "execution_count": 2,
      "outputs": [
        {
          "output_type": "stream",
          "text": [
            "Downloading data from https://storage.googleapis.com/tensorflow/tf-keras-datasets/mnist.npz\n",
            "11493376/11490434 [==============================] - 0s 0us/step\n"
          ],
          "name": "stdout"
        }
      ]
    },
    {
      "cell_type": "code",
      "metadata": {
        "id": "w6qLYai-2x-O",
        "colab_type": "code",
        "outputId": "ed64176f-7608-4139-bab8-538baf33d88f",
        "colab": {
          "base_uri": "https://localhost:8080/",
          "height": 52
        }
      },
      "source": [
        "X_train, X_test = X_train / 255.0 , X_test / 255.0 \n",
        "print(X_train.shape)\n",
        "print(X_test.shape)"
      ],
      "execution_count": 3,
      "outputs": [
        {
          "output_type": "stream",
          "text": [
            "(60000, 28, 28)\n",
            "(10000, 28, 28)\n"
          ],
          "name": "stdout"
        }
      ]
    },
    {
      "cell_type": "code",
      "metadata": {
        "id": "UEphzMZC3DRu",
        "colab_type": "code",
        "outputId": "9cfb577b-d137-434e-b53c-2cd2f4a069ae",
        "colab": {
          "base_uri": "https://localhost:8080/",
          "height": 52
        }
      },
      "source": [
        "X_train = np.expand_dims(X_train, -1)\n",
        "X_test = np.expand_dims(X_test, -1)\n",
        "print(X_train.shape)\n",
        "print(X_test.shape)\n",
        "# SHAPE \n",
        "# N x H x W x Colors \n",
        "# Colors = 1 for grayscale \n",
        "# Fashion MNIST is grayscale"
      ],
      "execution_count": 6,
      "outputs": [
        {
          "output_type": "stream",
          "text": [
            "(60000, 28, 28, 1)\n",
            "(10000, 28, 28, 1)\n"
          ],
          "name": "stdout"
        }
      ]
    },
    {
      "cell_type": "code",
      "metadata": {
        "id": "F-F3OFyE3QiF",
        "colab_type": "code",
        "outputId": "fe172493-90f5-4e8c-f15b-2f7451667f1c",
        "colab": {
          "base_uri": "https://localhost:8080/",
          "height": 35
        }
      },
      "source": [
        "classes = len(set(y_train))\n",
        "print(classes)"
      ],
      "execution_count": 7,
      "outputs": [
        {
          "output_type": "stream",
          "text": [
            "10\n"
          ],
          "name": "stdout"
        }
      ]
    },
    {
      "cell_type": "code",
      "metadata": {
        "id": "gsm4l9-Z3kX2",
        "colab_type": "code",
        "colab": {}
      },
      "source": [
        "input_shape = X_train[0].shape"
      ],
      "execution_count": 0,
      "outputs": []
    },
    {
      "cell_type": "code",
      "metadata": {
        "id": "35SNHNC74Gk2",
        "colab_type": "code",
        "colab": {}
      },
      "source": [
        "i_layer = Input(shape = input_shape)\n",
        "h_layer = Conv2D(32, (3,3), strides = 2, activation='relu')(i_layer)\n",
        "h_layer = Conv2D(64, (3,3), strides = 2, activation='relu')(h_layer)\n",
        "h_layer = Flatten()(h_layer)\n",
        "h_layer = Dropout(0.4)(h_layer)\n",
        "h_layer = Dense(128, activation='relu')(h_layer)\n",
        "h_layer = Dropout(0.4)(h_layer)\n",
        "o_layer = Dense(classes, activation='softmax')(h_layer)\n",
        "\n",
        "model = Model(i_layer, o_layer)\n"
      ],
      "execution_count": 0,
      "outputs": []
    },
    {
      "cell_type": "code",
      "metadata": {
        "id": "PK4XdoUd5q7n",
        "colab_type": "code",
        "outputId": "57b29725-4f7b-4c10-ab88-f2deeb53c074",
        "colab": {
          "base_uri": "https://localhost:8080/",
          "height": 364
        }
      },
      "source": [
        "model.compile(optimizer='adam', \n",
        "              loss = 'sparse_categorical_crossentropy',\n",
        "              metrics = ['accuracy'])\n",
        "\n",
        "report = model.fit(X_train, y_train, validation_data=(X_test, y_test), epochs=10)"
      ],
      "execution_count": 13,
      "outputs": [
        {
          "output_type": "stream",
          "text": [
            "Epoch 1/10\n",
            "1875/1875 [==============================] - 21s 11ms/step - loss: 0.1393 - accuracy: 0.9578 - val_loss: 0.0544 - val_accuracy: 0.9835\n",
            "Epoch 2/10\n",
            "1875/1875 [==============================] - 21s 11ms/step - loss: 0.0936 - accuracy: 0.9719 - val_loss: 0.0404 - val_accuracy: 0.9882\n",
            "Epoch 3/10\n",
            "1875/1875 [==============================] - 21s 11ms/step - loss: 0.0755 - accuracy: 0.9764 - val_loss: 0.0398 - val_accuracy: 0.9873\n",
            "Epoch 4/10\n",
            "1875/1875 [==============================] - 22s 12ms/step - loss: 0.0660 - accuracy: 0.9798 - val_loss: 0.0340 - val_accuracy: 0.9892\n",
            "Epoch 5/10\n",
            "1875/1875 [==============================] - 21s 11ms/step - loss: 0.0591 - accuracy: 0.9819 - val_loss: 0.0319 - val_accuracy: 0.9895\n",
            "Epoch 6/10\n",
            "1875/1875 [==============================] - 21s 11ms/step - loss: 0.0522 - accuracy: 0.9833 - val_loss: 0.0306 - val_accuracy: 0.9901\n",
            "Epoch 7/10\n",
            "1875/1875 [==============================] - 22s 12ms/step - loss: 0.0488 - accuracy: 0.9845 - val_loss: 0.0318 - val_accuracy: 0.9892\n",
            "Epoch 8/10\n",
            "1875/1875 [==============================] - 22s 12ms/step - loss: 0.0463 - accuracy: 0.9852 - val_loss: 0.0303 - val_accuracy: 0.9905\n",
            "Epoch 9/10\n",
            "1875/1875 [==============================] - 22s 12ms/step - loss: 0.0446 - accuracy: 0.9856 - val_loss: 0.0296 - val_accuracy: 0.9908\n",
            "Epoch 10/10\n",
            "1875/1875 [==============================] - 22s 12ms/step - loss: 0.0413 - accuracy: 0.9870 - val_loss: 0.0297 - val_accuracy: 0.9899\n"
          ],
          "name": "stdout"
        }
      ]
    },
    {
      "cell_type": "code",
      "metadata": {
        "id": "j3lYJaM27c6P",
        "colab_type": "code",
        "colab": {}
      },
      "source": [
        "y_pred = model.predict(X_test).argmax(axis=1) \n",
        "# only for sparse categorical crossentropy"
      ],
      "execution_count": 0,
      "outputs": []
    },
    {
      "cell_type": "code",
      "metadata": {
        "id": "q6QCr7_78B8Q",
        "colab_type": "code",
        "colab": {}
      },
      "source": [
        "# Taken from https://www.kaggle.com/zalando-research/fashionmnist?select=fashion-mnist_test.csv\n",
        "labels = list(range(0, classes))"
      ],
      "execution_count": 0,
      "outputs": []
    },
    {
      "cell_type": "code",
      "metadata": {
        "id": "duq0lNCE7FoP",
        "colab_type": "code",
        "colab": {}
      },
      "source": [
        "def evaluation_tf(report, y_test, y_pred, classes):\n",
        "  plt.plot(report.history['loss'], label = 'training_loss')\n",
        "  plt.plot(report.history['val_loss'], label = 'validation_loss')\n",
        "  plt.legend()\n",
        "  plt.show()\n",
        "  plt.plot(report.history['accuracy'], label = 'training_accuracy')\n",
        "  plt.plot(report.history['val_accuracy'], label = 'validation_accuracy')\n",
        "  plt.legend()\n",
        "  plt.show()\n",
        "  from sklearn.metrics import confusion_matrix\n",
        "  import itertools\n",
        "  cm = confusion_matrix(y_test, y_pred)\n",
        "\n",
        "  plt.figure(figsize=(10,10))\n",
        "  plt.imshow(cm, cmap=plt.cm.Blues)\n",
        "  for i,j in itertools.product(range(cm.shape[0]), range(cm.shape[1])):\n",
        "    plt.text(j, i, format(cm[i,j], 'd'),\n",
        "            horizontalalignment = 'center',\n",
        "            color='black')\n",
        "  plt.xlabel(\"Predicted labels\")\n",
        "  plt.ylabel(\"True labels\")\n",
        "  plt.xticks(range(0,classes))\n",
        "  plt.yticks(range(0,classes))\n",
        "  plt.title('Confusion matrix')\n",
        "  plt.colorbar()\n",
        "  plt.show()"
      ],
      "execution_count": 0,
      "outputs": []
    },
    {
      "cell_type": "code",
      "metadata": {
        "id": "y95yLDYa8pvG",
        "colab_type": "code",
        "outputId": "53fadeaf-00e0-4b28-cae7-0726248337c1",
        "colab": {
          "base_uri": "https://localhost:8080/",
          "height": 1000
        }
      },
      "source": [
        "evaluation_tf(report, y_test, y_pred, classes)"
      ],
      "execution_count": 21,
      "outputs": [
        {
          "output_type": "display_data",
          "data": {
            "image/png": "[encoded data removed]",
            "text/plain": [
              "<Figure size 432x288 with 1 Axes>"
            ]
          },
          "metadata": {
            "tags": [],
            "needs_background": "light"
          }
        },
        {
          "output_type": "display_data",
          "data": {
            "image/png": "[encoded data removed]",
            "text/plain": [
              "<Figure size 432x288 with 1 Axes>"
            ]
          },
          "metadata": {
            "tags": [],
            "needs_background": "light"
          }
        },
        {
          "output_type": "display_data",
          "data": {
            "image/png": "[encoded data removed]",
            "text/plain": [
              "<Figure size 720x720 with 2 Axes>"
            ]
          },
          "metadata": {
            "tags": [],
            "needs_background": "light"
          }
        }
      ]
    },
    {
      "cell_type": "code",
      "metadata": {
        "id": "SjUTUYEe7peW",
        "colab_type": "code",
        "outputId": "daa2f3e4-05ac-40e6-d443-2bab8eb104f5",
        "colab": {
          "base_uri": "https://localhost:8080/",
          "height": 299
        }
      },
      "source": [
        "misshits = np.where(y_pred!=y_test)[0]\n",
        "index = np.random.choice(misshits)\n",
        "plt.imshow(X_test[index].reshape(28,28), cmap='gray')\n",
        "plt.title(\"Predicted = \" + str(labels[y_pred[index]]) + \", Real = \" + str(labels[y_test[index]]))"
      ],
      "execution_count": 26,
      "outputs": [
        {
          "output_type": "execute_result",
          "data": {
            "text/plain": [
              "Text(0.5, 1.0, 'Predicted = 4, Real = 8')"
            ]
          },
          "metadata": {
            "tags": []
          },
          "execution_count": 26
        },
        {
          "output_type": "display_data",
          "data": {
            "image/png": "[encoded data removed]",
            "text/plain": [
              "<Figure size 432x288 with 1 Axes>"
            ]
          },
          "metadata": {
            "tags": [],
            "needs_background": "light"
          }
        }
      ]
    }
  ]
}