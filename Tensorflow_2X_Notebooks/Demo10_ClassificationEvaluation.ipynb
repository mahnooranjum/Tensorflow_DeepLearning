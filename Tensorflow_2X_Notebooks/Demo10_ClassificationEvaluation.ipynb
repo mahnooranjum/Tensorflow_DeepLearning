{
  "nbformat": 4,
  "nbformat_minor": 0,
  "metadata": {
    "colab": {
      "name": "Demo10_ClassificationEvaluation.ipynb",
      "provenance": [],
      "collapsed_sections": []
    },
    "kernelspec": {
      "name": "python3",
      "display_name": "Python 3"
    }
  },
  "cells": [
    {
      "cell_type": "markdown",
      "metadata": {
        "id": "P9bJCDjdlgG6",
        "colab_type": "text"
      },
      "source": [
        "# **Spit some [tensor] flow**\n",
        "\n",
        "We need to learn the intricacies of tensorflow to master deep learning\n",
        "\n",
        "`This is how we write code`"
      ]
    },
    {
      "cell_type": "code",
      "metadata": {
        "id": "aQwc0re5mFld",
        "colab_type": "code",
        "outputId": "c48a10df-b9c3-4500-9b09-681c6701caa3",
        "colab": {
          "base_uri": "https://localhost:8080/",
          "height": 35
        }
      },
      "source": [
        "import numpy as np\n",
        "import matplotlib.pyplot as plt\n",
        "import tensorflow as tf\n",
        "print(tf.__version__)"
      ],
      "execution_count": 1,
      "outputs": [
        {
          "output_type": "stream",
          "text": [
            "2.2.0-rc4\n"
          ],
          "name": "stdout"
        }
      ]
    },
    {
      "cell_type": "code",
      "metadata": {
        "id": "qyw8HvOuBEZm",
        "colab_type": "code",
        "outputId": "6975a348-9010-46b7-fd39-61313736ea7f",
        "colab": {
          "base_uri": "https://localhost:8080/",
          "height": 35
        }
      },
      "source": [
        "from sklearn.datasets import load_breast_cancer\n",
        "data = load_breast_cancer()\n",
        "type(data)\n",
        "print(data.keys())"
      ],
      "execution_count": 3,
      "outputs": [
        {
          "output_type": "stream",
          "text": [
            "dict_keys(['data', 'target', 'target_names', 'DESCR', 'feature_names', 'filename'])\n"
          ],
          "name": "stdout"
        }
      ]
    },
    {
      "cell_type": "code",
      "metadata": {
        "id": "41JwZflmB4qr",
        "colab_type": "code",
        "outputId": "6bf6d970-d413-47d4-8ea6-eb8f74dcef6e",
        "colab": {
          "base_uri": "https://localhost:8080/",
          "height": 208
        }
      },
      "source": [
        "print(data.target_names)\n",
        "print(\"============================================\")\n",
        "print(data.feature_names)"
      ],
      "execution_count": 4,
      "outputs": [
        {
          "output_type": "stream",
          "text": [
            "['malignant' 'benign']\n",
            "============================================\n",
            "['mean radius' 'mean texture' 'mean perimeter' 'mean area'\n",
            " 'mean smoothness' 'mean compactness' 'mean concavity'\n",
            " 'mean concave points' 'mean symmetry' 'mean fractal dimension'\n",
            " 'radius error' 'texture error' 'perimeter error' 'area error'\n",
            " 'smoothness error' 'compactness error' 'concavity error'\n",
            " 'concave points error' 'symmetry error' 'fractal dimension error'\n",
            " 'worst radius' 'worst texture' 'worst perimeter' 'worst area'\n",
            " 'worst smoothness' 'worst compactness' 'worst concavity'\n",
            " 'worst concave points' 'worst symmetry' 'worst fractal dimension']\n"
          ],
          "name": "stdout"
        }
      ]
    },
    {
      "cell_type": "code",
      "metadata": {
        "id": "7hQGKjLvBT6z",
        "colab_type": "code",
        "colab": {}
      },
      "source": [
        "X = data.data"
      ],
      "execution_count": 0,
      "outputs": []
    },
    {
      "cell_type": "code",
      "metadata": {
        "id": "ovyPUHaZBqu8",
        "colab_type": "code",
        "colab": {}
      },
      "source": [
        "y = data.target"
      ],
      "execution_count": 0,
      "outputs": []
    },
    {
      "cell_type": "code",
      "metadata": {
        "id": "BSOcVLhKCGOa",
        "colab_type": "code",
        "colab": {}
      },
      "source": [
        "# TRAIN TEST SPLIT\n",
        "from sklearn.model_selection import train_test_split\n",
        "\n",
        "X_train, X_test, y_train, y_test = train_test_split(X, y, test_size = 0.2)"
      ],
      "execution_count": 0,
      "outputs": []
    },
    {
      "cell_type": "code",
      "metadata": {
        "id": "bqh-eNkNCb7D",
        "colab_type": "code",
        "colab": {}
      },
      "source": [
        "N, D = X_train.shape"
      ],
      "execution_count": 0,
      "outputs": []
    },
    {
      "cell_type": "code",
      "metadata": {
        "id": "WA8o1DP8CvGT",
        "colab_type": "code",
        "colab": {}
      },
      "source": [
        "from sklearn.preprocessing import StandardScaler \n",
        "scaleObj = StandardScaler()\n",
        "X_train = scaleObj.fit_transform(X_train)\n",
        "X_test = scaleObj.transform(X_test)\n"
      ],
      "execution_count": 0,
      "outputs": []
    },
    {
      "cell_type": "code",
      "metadata": {
        "id": "mIv1FdhRDRrc",
        "colab_type": "code",
        "outputId": "62513536-1337-437f-9576-83fd16f09790",
        "colab": {
          "base_uri": "https://localhost:8080/",
          "height": 1000
        }
      },
      "source": [
        "model = tf.keras.models.Sequential([\n",
        "                                    tf.keras.layers.Input(shape=(D,)),\n",
        "                                    tf.keras.layers.Dense(1,activation='sigmoid')\n",
        "])\n",
        "\n",
        "\n",
        "model.compile(\n",
        "    optimizer = 'adam',\n",
        "    loss = 'binary_crossentropy',\n",
        "    metrics = ['accuracy']\n",
        ")\n",
        "\n",
        "report = model.fit(X_train, y_train, validation_data=(X_test, y_test), epochs=100)"
      ],
      "execution_count": 10,
      "outputs": [
        {
          "output_type": "stream",
          "text": [
            "Epoch 1/100\n",
            "15/15 [==============================] - 0s 13ms/step - loss: 1.0934 - accuracy: 0.3297 - val_loss: 0.9659 - val_accuracy: 0.4035\n",
            "Epoch 2/100\n",
            "15/15 [==============================] - 0s 4ms/step - loss: 0.9869 - accuracy: 0.4154 - val_loss: 0.8868 - val_accuracy: 0.4561\n",
            "Epoch 3/100\n",
            "15/15 [==============================] - 0s 3ms/step - loss: 0.8901 - accuracy: 0.4813 - val_loss: 0.8181 - val_accuracy: 0.5088\n",
            "Epoch 4/100\n",
            "15/15 [==============================] - 0s 3ms/step - loss: 0.8094 - accuracy: 0.5538 - val_loss: 0.7548 - val_accuracy: 0.5439\n",
            "Epoch 5/100\n",
            "15/15 [==============================] - 0s 4ms/step - loss: 0.7339 - accuracy: 0.5978 - val_loss: 0.7001 - val_accuracy: 0.5526\n",
            "Epoch 6/100\n",
            "15/15 [==============================] - 0s 3ms/step - loss: 0.6725 - accuracy: 0.6440 - val_loss: 0.6490 - val_accuracy: 0.5965\n",
            "Epoch 7/100\n",
            "15/15 [==============================] - 0s 3ms/step - loss: 0.6168 - accuracy: 0.6857 - val_loss: 0.6046 - val_accuracy: 0.6491\n",
            "Epoch 8/100\n",
            "15/15 [==============================] - 0s 3ms/step - loss: 0.5693 - accuracy: 0.7275 - val_loss: 0.5626 - val_accuracy: 0.6754\n",
            "Epoch 9/100\n",
            "15/15 [==============================] - 0s 3ms/step - loss: 0.5274 - accuracy: 0.7692 - val_loss: 0.5265 - val_accuracy: 0.6930\n",
            "Epoch 10/100\n",
            "15/15 [==============================] - 0s 4ms/step - loss: 0.4920 - accuracy: 0.7912 - val_loss: 0.4957 - val_accuracy: 0.7193\n",
            "Epoch 11/100\n",
            "15/15 [==============================] - 0s 3ms/step - loss: 0.4617 - accuracy: 0.8088 - val_loss: 0.4680 - val_accuracy: 0.7368\n",
            "Epoch 12/100\n",
            "15/15 [==============================] - 0s 4ms/step - loss: 0.4352 - accuracy: 0.8242 - val_loss: 0.4435 - val_accuracy: 0.7895\n",
            "Epoch 13/100\n",
            "15/15 [==============================] - 0s 3ms/step - loss: 0.4122 - accuracy: 0.8374 - val_loss: 0.4209 - val_accuracy: 0.7982\n",
            "Epoch 14/100\n",
            "15/15 [==============================] - 0s 3ms/step - loss: 0.3913 - accuracy: 0.8527 - val_loss: 0.4007 - val_accuracy: 0.8246\n",
            "Epoch 15/100\n",
            "15/15 [==============================] - 0s 3ms/step - loss: 0.3732 - accuracy: 0.8659 - val_loss: 0.3814 - val_accuracy: 0.8684\n",
            "Epoch 16/100\n",
            "15/15 [==============================] - 0s 3ms/step - loss: 0.3560 - accuracy: 0.8659 - val_loss: 0.3642 - val_accuracy: 0.8684\n",
            "Epoch 17/100\n",
            "15/15 [==============================] - 0s 4ms/step - loss: 0.3413 - accuracy: 0.8703 - val_loss: 0.3478 - val_accuracy: 0.8772\n",
            "Epoch 18/100\n",
            "15/15 [==============================] - 0s 3ms/step - loss: 0.3269 - accuracy: 0.8813 - val_loss: 0.3333 - val_accuracy: 0.8860\n",
            "Epoch 19/100\n",
            "15/15 [==============================] - 0s 4ms/step - loss: 0.3142 - accuracy: 0.8857 - val_loss: 0.3195 - val_accuracy: 0.9035\n",
            "Epoch 20/100\n",
            "15/15 [==============================] - 0s 3ms/step - loss: 0.3024 - accuracy: 0.8923 - val_loss: 0.3070 - val_accuracy: 0.9123\n",
            "Epoch 21/100\n",
            "15/15 [==============================] - 0s 4ms/step - loss: 0.2915 - accuracy: 0.8989 - val_loss: 0.2957 - val_accuracy: 0.9123\n",
            "Epoch 22/100\n",
            "15/15 [==============================] - 0s 3ms/step - loss: 0.2817 - accuracy: 0.9033 - val_loss: 0.2853 - val_accuracy: 0.9211\n",
            "Epoch 23/100\n",
            "15/15 [==============================] - 0s 3ms/step - loss: 0.2728 - accuracy: 0.9121 - val_loss: 0.2753 - val_accuracy: 0.9211\n",
            "Epoch 24/100\n",
            "15/15 [==============================] - 0s 4ms/step - loss: 0.2641 - accuracy: 0.9143 - val_loss: 0.2657 - val_accuracy: 0.9211\n",
            "Epoch 25/100\n",
            "15/15 [==============================] - 0s 3ms/step - loss: 0.2562 - accuracy: 0.9187 - val_loss: 0.2570 - val_accuracy: 0.9211\n",
            "Epoch 26/100\n",
            "15/15 [==============================] - 0s 3ms/step - loss: 0.2487 - accuracy: 0.9231 - val_loss: 0.2490 - val_accuracy: 0.9211\n",
            "Epoch 27/100\n",
            "15/15 [==============================] - 0s 3ms/step - loss: 0.2417 - accuracy: 0.9231 - val_loss: 0.2417 - val_accuracy: 0.9211\n",
            "Epoch 28/100\n",
            "15/15 [==============================] - 0s 4ms/step - loss: 0.2353 - accuracy: 0.9297 - val_loss: 0.2346 - val_accuracy: 0.9386\n",
            "Epoch 29/100\n",
            "15/15 [==============================] - 0s 3ms/step - loss: 0.2296 - accuracy: 0.9297 - val_loss: 0.2280 - val_accuracy: 0.9386\n",
            "Epoch 30/100\n",
            "15/15 [==============================] - 0s 4ms/step - loss: 0.2239 - accuracy: 0.9297 - val_loss: 0.2221 - val_accuracy: 0.9474\n",
            "Epoch 31/100\n",
            "15/15 [==============================] - 0s 3ms/step - loss: 0.2188 - accuracy: 0.9319 - val_loss: 0.2165 - val_accuracy: 0.9649\n",
            "Epoch 32/100\n",
            "15/15 [==============================] - 0s 3ms/step - loss: 0.2139 - accuracy: 0.9341 - val_loss: 0.2113 - val_accuracy: 0.9649\n",
            "Epoch 33/100\n",
            "15/15 [==============================] - 0s 3ms/step - loss: 0.2095 - accuracy: 0.9363 - val_loss: 0.2064 - val_accuracy: 0.9649\n",
            "Epoch 34/100\n",
            "15/15 [==============================] - 0s 3ms/step - loss: 0.2051 - accuracy: 0.9385 - val_loss: 0.2016 - val_accuracy: 0.9649\n",
            "Epoch 35/100\n",
            "15/15 [==============================] - 0s 3ms/step - loss: 0.2011 - accuracy: 0.9429 - val_loss: 0.1970 - val_accuracy: 0.9649\n",
            "Epoch 36/100\n",
            "15/15 [==============================] - 0s 3ms/step - loss: 0.1972 - accuracy: 0.9429 - val_loss: 0.1929 - val_accuracy: 0.9649\n",
            "Epoch 37/100\n",
            "15/15 [==============================] - 0s 3ms/step - loss: 0.1936 - accuracy: 0.9451 - val_loss: 0.1888 - val_accuracy: 0.9649\n",
            "Epoch 38/100\n",
            "15/15 [==============================] - 0s 4ms/step - loss: 0.1900 - accuracy: 0.9473 - val_loss: 0.1849 - val_accuracy: 0.9649\n",
            "Epoch 39/100\n",
            "15/15 [==============================] - 0s 3ms/step - loss: 0.1866 - accuracy: 0.9473 - val_loss: 0.1812 - val_accuracy: 0.9737\n",
            "Epoch 40/100\n",
            "15/15 [==============================] - 0s 3ms/step - loss: 0.1835 - accuracy: 0.9495 - val_loss: 0.1776 - val_accuracy: 0.9737\n",
            "Epoch 41/100\n",
            "15/15 [==============================] - 0s 3ms/step - loss: 0.1804 - accuracy: 0.9495 - val_loss: 0.1742 - val_accuracy: 0.9737\n",
            "Epoch 42/100\n",
            "15/15 [==============================] - 0s 3ms/step - loss: 0.1776 - accuracy: 0.9495 - val_loss: 0.1712 - val_accuracy: 0.9737\n",
            "Epoch 43/100\n",
            "15/15 [==============================] - 0s 3ms/step - loss: 0.1748 - accuracy: 0.9516 - val_loss: 0.1680 - val_accuracy: 0.9737\n",
            "Epoch 44/100\n",
            "15/15 [==============================] - 0s 3ms/step - loss: 0.1722 - accuracy: 0.9516 - val_loss: 0.1651 - val_accuracy: 0.9737\n",
            "Epoch 45/100\n",
            "15/15 [==============================] - 0s 3ms/step - loss: 0.1695 - accuracy: 0.9516 - val_loss: 0.1623 - val_accuracy: 0.9825\n",
            "Epoch 46/100\n",
            "15/15 [==============================] - 0s 4ms/step - loss: 0.1671 - accuracy: 0.9516 - val_loss: 0.1595 - val_accuracy: 0.9825\n",
            "Epoch 47/100\n",
            "15/15 [==============================] - 0s 4ms/step - loss: 0.1647 - accuracy: 0.9538 - val_loss: 0.1567 - val_accuracy: 0.9825\n",
            "Epoch 48/100\n",
            "15/15 [==============================] - 0s 3ms/step - loss: 0.1623 - accuracy: 0.9538 - val_loss: 0.1542 - val_accuracy: 0.9825\n",
            "Epoch 49/100\n",
            "15/15 [==============================] - 0s 3ms/step - loss: 0.1601 - accuracy: 0.9582 - val_loss: 0.1516 - val_accuracy: 0.9825\n",
            "Epoch 50/100\n",
            "15/15 [==============================] - 0s 3ms/step - loss: 0.1581 - accuracy: 0.9582 - val_loss: 0.1494 - val_accuracy: 0.9825\n",
            "Epoch 51/100\n",
            "15/15 [==============================] - 0s 3ms/step - loss: 0.1561 - accuracy: 0.9582 - val_loss: 0.1472 - val_accuracy: 0.9825\n",
            "Epoch 52/100\n",
            "15/15 [==============================] - 0s 3ms/step - loss: 0.1542 - accuracy: 0.9604 - val_loss: 0.1450 - val_accuracy: 0.9825\n",
            "Epoch 53/100\n",
            "15/15 [==============================] - 0s 3ms/step - loss: 0.1524 - accuracy: 0.9604 - val_loss: 0.1427 - val_accuracy: 0.9825\n",
            "Epoch 54/100\n",
            "15/15 [==============================] - 0s 3ms/step - loss: 0.1505 - accuracy: 0.9626 - val_loss: 0.1407 - val_accuracy: 0.9825\n",
            "Epoch 55/100\n",
            "15/15 [==============================] - 0s 3ms/step - loss: 0.1488 - accuracy: 0.9648 - val_loss: 0.1386 - val_accuracy: 0.9825\n",
            "Epoch 56/100\n",
            "15/15 [==============================] - 0s 4ms/step - loss: 0.1472 - accuracy: 0.9648 - val_loss: 0.1367 - val_accuracy: 0.9825\n",
            "Epoch 57/100\n",
            "15/15 [==============================] - 0s 3ms/step - loss: 0.1456 - accuracy: 0.9648 - val_loss: 0.1349 - val_accuracy: 0.9825\n",
            "Epoch 58/100\n",
            "15/15 [==============================] - 0s 4ms/step - loss: 0.1442 - accuracy: 0.9648 - val_loss: 0.1332 - val_accuracy: 0.9912\n",
            "Epoch 59/100\n",
            "15/15 [==============================] - 0s 3ms/step - loss: 0.1426 - accuracy: 0.9670 - val_loss: 0.1314 - val_accuracy: 0.9912\n",
            "Epoch 60/100\n",
            "15/15 [==============================] - 0s 3ms/step - loss: 0.1412 - accuracy: 0.9670 - val_loss: 0.1298 - val_accuracy: 0.9912\n",
            "Epoch 61/100\n",
            "15/15 [==============================] - 0s 3ms/step - loss: 0.1399 - accuracy: 0.9692 - val_loss: 0.1284 - val_accuracy: 0.9912\n",
            "Epoch 62/100\n",
            "15/15 [==============================] - 0s 3ms/step - loss: 0.1387 - accuracy: 0.9692 - val_loss: 0.1270 - val_accuracy: 0.9912\n",
            "Epoch 63/100\n",
            "15/15 [==============================] - 0s 3ms/step - loss: 0.1373 - accuracy: 0.9692 - val_loss: 0.1255 - val_accuracy: 0.9912\n",
            "Epoch 64/100\n",
            "15/15 [==============================] - 0s 3ms/step - loss: 0.1361 - accuracy: 0.9692 - val_loss: 0.1240 - val_accuracy: 0.9912\n",
            "Epoch 65/100\n",
            "15/15 [==============================] - 0s 4ms/step - loss: 0.1349 - accuracy: 0.9692 - val_loss: 0.1226 - val_accuracy: 0.9912\n",
            "Epoch 66/100\n",
            "15/15 [==============================] - 0s 3ms/step - loss: 0.1337 - accuracy: 0.9670 - val_loss: 0.1210 - val_accuracy: 0.9912\n",
            "Epoch 67/100\n",
            "15/15 [==============================] - 0s 3ms/step - loss: 0.1326 - accuracy: 0.9692 - val_loss: 0.1197 - val_accuracy: 0.9912\n",
            "Epoch 68/100\n",
            "15/15 [==============================] - 0s 3ms/step - loss: 0.1315 - accuracy: 0.9692 - val_loss: 0.1185 - val_accuracy: 0.9912\n",
            "Epoch 69/100\n",
            "15/15 [==============================] - 0s 3ms/step - loss: 0.1304 - accuracy: 0.9692 - val_loss: 0.1172 - val_accuracy: 0.9912\n",
            "Epoch 70/100\n",
            "15/15 [==============================] - 0s 3ms/step - loss: 0.1293 - accuracy: 0.9670 - val_loss: 0.1159 - val_accuracy: 0.9912\n",
            "Epoch 71/100\n",
            "15/15 [==============================] - 0s 4ms/step - loss: 0.1282 - accuracy: 0.9670 - val_loss: 0.1147 - val_accuracy: 0.9912\n",
            "Epoch 72/100\n",
            "15/15 [==============================] - 0s 3ms/step - loss: 0.1272 - accuracy: 0.9670 - val_loss: 0.1136 - val_accuracy: 0.9912\n",
            "Epoch 73/100\n",
            "15/15 [==============================] - 0s 3ms/step - loss: 0.1262 - accuracy: 0.9670 - val_loss: 0.1124 - val_accuracy: 0.9912\n",
            "Epoch 74/100\n",
            "15/15 [==============================] - 0s 4ms/step - loss: 0.1253 - accuracy: 0.9692 - val_loss: 0.1113 - val_accuracy: 0.9912\n",
            "Epoch 75/100\n",
            "15/15 [==============================] - 0s 3ms/step - loss: 0.1244 - accuracy: 0.9714 - val_loss: 0.1101 - val_accuracy: 0.9912\n",
            "Epoch 76/100\n",
            "15/15 [==============================] - 0s 3ms/step - loss: 0.1235 - accuracy: 0.9714 - val_loss: 0.1091 - val_accuracy: 0.9912\n",
            "Epoch 77/100\n",
            "15/15 [==============================] - 0s 3ms/step - loss: 0.1226 - accuracy: 0.9714 - val_loss: 0.1081 - val_accuracy: 0.9912\n",
            "Epoch 78/100\n",
            "15/15 [==============================] - 0s 3ms/step - loss: 0.1218 - accuracy: 0.9736 - val_loss: 0.1073 - val_accuracy: 0.9912\n",
            "Epoch 79/100\n",
            "15/15 [==============================] - 0s 3ms/step - loss: 0.1210 - accuracy: 0.9736 - val_loss: 0.1062 - val_accuracy: 0.9912\n",
            "Epoch 80/100\n",
            "15/15 [==============================] - 0s 3ms/step - loss: 0.1201 - accuracy: 0.9736 - val_loss: 0.1052 - val_accuracy: 0.9912\n",
            "Epoch 81/100\n",
            "15/15 [==============================] - 0s 3ms/step - loss: 0.1193 - accuracy: 0.9714 - val_loss: 0.1042 - val_accuracy: 0.9912\n",
            "Epoch 82/100\n",
            "15/15 [==============================] - 0s 4ms/step - loss: 0.1185 - accuracy: 0.9714 - val_loss: 0.1034 - val_accuracy: 0.9912\n",
            "Epoch 83/100\n",
            "15/15 [==============================] - 0s 3ms/step - loss: 0.1177 - accuracy: 0.9736 - val_loss: 0.1025 - val_accuracy: 0.9912\n",
            "Epoch 84/100\n",
            "15/15 [==============================] - 0s 4ms/step - loss: 0.1170 - accuracy: 0.9736 - val_loss: 0.1015 - val_accuracy: 0.9912\n",
            "Epoch 85/100\n",
            "15/15 [==============================] - 0s 3ms/step - loss: 0.1162 - accuracy: 0.9736 - val_loss: 0.1007 - val_accuracy: 0.9912\n",
            "Epoch 86/100\n",
            "15/15 [==============================] - 0s 3ms/step - loss: 0.1155 - accuracy: 0.9736 - val_loss: 0.0998 - val_accuracy: 0.9912\n",
            "Epoch 87/100\n",
            "15/15 [==============================] - 0s 3ms/step - loss: 0.1148 - accuracy: 0.9736 - val_loss: 0.0990 - val_accuracy: 0.9912\n",
            "Epoch 88/100\n",
            "15/15 [==============================] - 0s 3ms/step - loss: 0.1141 - accuracy: 0.9758 - val_loss: 0.0983 - val_accuracy: 0.9912\n",
            "Epoch 89/100\n",
            "15/15 [==============================] - 0s 3ms/step - loss: 0.1135 - accuracy: 0.9736 - val_loss: 0.0974 - val_accuracy: 0.9912\n",
            "Epoch 90/100\n",
            "15/15 [==============================] - 0s 3ms/step - loss: 0.1128 - accuracy: 0.9736 - val_loss: 0.0966 - val_accuracy: 0.9912\n",
            "Epoch 91/100\n",
            "15/15 [==============================] - 0s 3ms/step - loss: 0.1122 - accuracy: 0.9736 - val_loss: 0.0959 - val_accuracy: 0.9912\n",
            "Epoch 92/100\n",
            "15/15 [==============================] - 0s 3ms/step - loss: 0.1116 - accuracy: 0.9736 - val_loss: 0.0950 - val_accuracy: 0.9912\n",
            "Epoch 93/100\n",
            "15/15 [==============================] - 0s 4ms/step - loss: 0.1109 - accuracy: 0.9736 - val_loss: 0.0942 - val_accuracy: 0.9912\n",
            "Epoch 94/100\n",
            "15/15 [==============================] - 0s 4ms/step - loss: 0.1103 - accuracy: 0.9736 - val_loss: 0.0936 - val_accuracy: 0.9912\n",
            "Epoch 95/100\n",
            "15/15 [==============================] - 0s 3ms/step - loss: 0.1098 - accuracy: 0.9736 - val_loss: 0.0929 - val_accuracy: 0.9912\n",
            "Epoch 96/100\n",
            "15/15 [==============================] - 0s 3ms/step - loss: 0.1091 - accuracy: 0.9736 - val_loss: 0.0922 - val_accuracy: 1.0000\n",
            "Epoch 97/100\n",
            "15/15 [==============================] - 0s 4ms/step - loss: 0.1086 - accuracy: 0.9736 - val_loss: 0.0915 - val_accuracy: 1.0000\n",
            "Epoch 98/100\n",
            "15/15 [==============================] - 0s 3ms/step - loss: 0.1080 - accuracy: 0.9736 - val_loss: 0.0908 - val_accuracy: 1.0000\n",
            "Epoch 99/100\n",
            "15/15 [==============================] - 0s 3ms/step - loss: 0.1075 - accuracy: 0.9736 - val_loss: 0.0902 - val_accuracy: 1.0000\n",
            "Epoch 100/100\n",
            "15/15 [==============================] - 0s 3ms/step - loss: 0.1069 - accuracy: 0.9736 - val_loss: 0.0896 - val_accuracy: 1.0000\n"
          ],
          "name": "stdout"
        }
      ]
    },
    {
      "cell_type": "code",
      "metadata": {
        "id": "pQE2TTKnh75m",
        "colab_type": "code",
        "colab": {}
      },
      "source": [
        "y_pred = model.predict(X_test)"
      ],
      "execution_count": 0,
      "outputs": []
    },
    {
      "cell_type": "code",
      "metadata": {
        "id": "WO32VafQiDMO",
        "colab_type": "code",
        "colab": {}
      },
      "source": [
        "y_pred = np.round(y_pred).flatten()"
      ],
      "execution_count": 0,
      "outputs": []
    },
    {
      "cell_type": "code",
      "metadata": {
        "id": "qy3CyzCFiKiN",
        "colab_type": "code",
        "colab": {
          "base_uri": "https://localhost:8080/",
          "height": 35
        },
        "outputId": "11a6221d-bae4-4d86-fcac-c08cf321bff5"
      },
      "source": [
        "print(\"Accuracy: \", np.mean(y_pred == y_test))"
      ],
      "execution_count": 20,
      "outputs": [
        {
          "output_type": "stream",
          "text": [
            "Accuracy:  1.0\n"
          ],
          "name": "stdout"
        }
      ]
    },
    {
      "cell_type": "code",
      "metadata": {
        "id": "LuietUFpEG5a",
        "colab_type": "code",
        "outputId": "dafd34bb-dba5-4cbe-ff15-69579212ec7c",
        "colab": {
          "base_uri": "https://localhost:8080/",
          "height": 87
        }
      },
      "source": [
        "print(\"Train eval: \", model.evaluate(X_train, y_train))\n",
        "print(\"Test eval: \", model.evaluate(X_test, y_test))"
      ],
      "execution_count": 21,
      "outputs": [
        {
          "output_type": "stream",
          "text": [
            "15/15 [==============================] - 0s 1ms/step - loss: 0.1066 - accuracy: 0.9736\n",
            "Train eval:  [0.10657969862222672, 0.9736263751983643]\n",
            "4/4 [==============================] - 0s 2ms/step - loss: 0.0896 - accuracy: 1.0000\n",
            "Test eval:  [0.08960564434528351, 1.0]\n"
          ],
          "name": "stdout"
        }
      ]
    },
    {
      "cell_type": "markdown",
      "metadata": {
        "id": "t9Gs0ZQhil2O",
        "colab_type": "text"
      },
      "source": [
        "## SCIKIT LEARN EVALUATION METRICS"
      ]
    },
    {
      "cell_type": "code",
      "metadata": {
        "id": "dPz8dvWyifJm",
        "colab_type": "code",
        "colab": {
          "base_uri": "https://localhost:8080/",
          "height": 52
        },
        "outputId": "9bf5fdc2-379c-413c-dbca-452f78b142aa"
      },
      "source": [
        "# Making the Confusion Matrix\n",
        "from sklearn.metrics import confusion_matrix\n",
        "con_mat = confusion_matrix(y_test, y_pred)\n",
        "con_mat"
      ],
      "execution_count": 28,
      "outputs": [
        {
          "output_type": "execute_result",
          "data": {
            "text/plain": [
              "array([[38,  0],\n",
              "       [ 0, 76]])"
            ]
          },
          "metadata": {
            "tags": []
          },
          "execution_count": 28
        }
      ]
    },
    {
      "cell_type": "code",
      "metadata": {
        "id": "zraSRtcSjEtN",
        "colab_type": "code",
        "colab": {
          "base_uri": "https://localhost:8080/",
          "height": 35
        },
        "outputId": "1c6054b0-afa3-4130-988d-1f755dabcea4"
      },
      "source": [
        "# Making the Confusion Matrix\n",
        "from sklearn.metrics import accuracy_score\n",
        "acc_score = accuracy_score(y_test, y_pred)\n",
        "acc_score"
      ],
      "execution_count": 29,
      "outputs": [
        {
          "output_type": "execute_result",
          "data": {
            "text/plain": [
              "1.0"
            ]
          },
          "metadata": {
            "tags": []
          },
          "execution_count": 29
        }
      ]
    },
    {
      "cell_type": "code",
      "metadata": {
        "id": "clLHxtHzjApv",
        "colab_type": "code",
        "colab": {
          "base_uri": "https://localhost:8080/",
          "height": 173
        },
        "outputId": "1e270356-3a57-4e97-e473-3a868f5111ca"
      },
      "source": [
        "from sklearn.metrics import classification_report\n",
        "class_report = classification_report(y_test, y_pred)\n",
        "print(class_report)"
      ],
      "execution_count": 31,
      "outputs": [
        {
          "output_type": "stream",
          "text": [
            "              precision    recall  f1-score   support\n",
            "\n",
            "           0       1.00      1.00      1.00        38\n",
            "           1       1.00      1.00      1.00        76\n",
            "\n",
            "    accuracy                           1.00       114\n",
            "   macro avg       1.00      1.00      1.00       114\n",
            "weighted avg       1.00      1.00      1.00       114\n",
            "\n"
          ],
          "name": "stdout"
        }
      ]
    }
  ]
}