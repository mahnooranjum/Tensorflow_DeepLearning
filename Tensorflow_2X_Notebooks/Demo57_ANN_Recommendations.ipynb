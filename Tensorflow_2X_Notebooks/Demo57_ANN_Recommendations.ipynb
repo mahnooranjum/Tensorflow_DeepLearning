{
  "nbformat": 4,
  "nbformat_minor": 0,
  "metadata": {
    "accelerator": "GPU",
    "colab": {
      "name": "Demo57_ANN_Recommendations.ipynb",
      "provenance": [],
      "collapsed_sections": []
    },
    "kernelspec": {
      "display_name": "Python 3",
      "language": "python",
      "name": "python3"
    },
    "language_info": {
      "codemirror_mode": {
        "name": "ipython",
        "version": 3
      },
      "file_extension": ".py",
      "mimetype": "text/x-python",
      "name": "python",
      "nbconvert_exporter": "python",
      "pygments_lexer": "ipython3",
      "version": "3.7.3"
    }
  },
  "cells": [
    {
      "cell_type": "markdown",
      "metadata": {
        "colab_type": "text",
        "id": "P9bJCDjdlgG6"
      },
      "source": [
        "# **Spit some [tensor] flow**\n",
        "\n",
        "We need to learn the intricacies of tensorflow to master deep learning\n",
        "\n",
        "`Let's get this over with`\n",
        "\n"
      ]
    },
    {
      "cell_type": "code",
      "metadata": {
        "colab_type": "code",
        "id": "aQwc0re5mFld",
        "outputId": "fda6faaa-83c3-42f2-8d22-73a615cdabcf",
        "colab": {
          "base_uri": "https://localhost:8080/",
          "height": 35
        }
      },
      "source": [
        "import numpy as np\n",
        "import pandas as pd\n",
        "import matplotlib.pyplot as plt\n",
        "import tensorflow as tf\n",
        "print(tf.__version__)"
      ],
      "execution_count": 0,
      "outputs": [
        {
          "output_type": "stream",
          "text": [
            "2.2.0\n"
          ],
          "name": "stdout"
        }
      ]
    },
    {
      "cell_type": "markdown",
      "metadata": {
        "colab_type": "text",
        "id": "rOBIh9V2wcZ_"
      },
      "source": [
        "## Recommender systems use the concepts of Embedding layers of NLP"
      ]
    },
    {
      "cell_type": "code",
      "metadata": {
        "colab_type": "code",
        "id": "CaBxIWkog_i-",
        "colab": {}
      },
      "source": [
        "from tensorflow.keras.layers import Input, Dense, Embedding, Dropout, Concatenate, Flatten\n",
        "from tensorflow.keras.models import Model\n",
        "from tensorflow.keras.optimizers import SGD, Adam, Adamax\n",
        "from tensorflow.keras.preprocessing.text import Tokenizer\n",
        "from tensorflow.keras.preprocessing.sequence import pad_sequences\n",
        "import sklearn"
      ],
      "execution_count": 0,
      "outputs": []
    },
    {
      "cell_type": "markdown",
      "metadata": {
        "colab_type": "text",
        "id": "ofiCPRlY3MUV"
      },
      "source": [
        "## Let's import the dataset\n"
      ]
    },
    {
      "cell_type": "code",
      "metadata": {
        "colab_type": "code",
        "id": "8SOM6u4_eBlz",
        "colab": {},
        "outputId": "d2d2eefe-5799-49e0-9938-72adc8d4dd10"
      },
      "source": [
        "# Get dataset https://www.kaggle.com/grouplens/movielens-20m-dataset?select=rating.csv\n",
        "\n",
        "data = pd.read_csv('rating.csv')\n",
        "data.head()"
      ],
      "execution_count": 0,
      "outputs": [
        {
          "output_type": "execute_result",
          "data": {
            "text/html": [
              "<div>\n",
              "<style scoped>\n",
              "    .dataframe tbody tr th:only-of-type {\n",
              "        vertical-align: middle;\n",
              "    }\n",
              "\n",
              "    .dataframe tbody tr th {\n",
              "        vertical-align: top;\n",
              "    }\n",
              "\n",
              "    .dataframe thead th {\n",
              "        text-align: right;\n",
              "    }\n",
              "</style>\n",
              "<table border=\"1\" class=\"dataframe\">\n",
              "  <thead>\n",
              "    <tr style=\"text-align: right;\">\n",
              "      <th></th>\n",
              "      <th>userId</th>\n",
              "      <th>movieId</th>\n",
              "      <th>rating</th>\n",
              "      <th>timestamp</th>\n",
              "    </tr>\n",
              "  </thead>\n",
              "  <tbody>\n",
              "    <tr>\n",
              "      <th>0</th>\n",
              "      <td>1</td>\n",
              "      <td>2</td>\n",
              "      <td>3.5</td>\n",
              "      <td>2005-04-02 23:53:47</td>\n",
              "    </tr>\n",
              "    <tr>\n",
              "      <th>1</th>\n",
              "      <td>1</td>\n",
              "      <td>29</td>\n",
              "      <td>3.5</td>\n",
              "      <td>2005-04-02 23:31:16</td>\n",
              "    </tr>\n",
              "    <tr>\n",
              "      <th>2</th>\n",
              "      <td>1</td>\n",
              "      <td>32</td>\n",
              "      <td>3.5</td>\n",
              "      <td>2005-04-02 23:33:39</td>\n",
              "    </tr>\n",
              "    <tr>\n",
              "      <th>3</th>\n",
              "      <td>1</td>\n",
              "      <td>47</td>\n",
              "      <td>3.5</td>\n",
              "      <td>2005-04-02 23:32:07</td>\n",
              "    </tr>\n",
              "    <tr>\n",
              "      <th>4</th>\n",
              "      <td>1</td>\n",
              "      <td>50</td>\n",
              "      <td>3.5</td>\n",
              "      <td>2005-04-02 23:29:40</td>\n",
              "    </tr>\n",
              "  </tbody>\n",
              "</table>\n",
              "</div>"
            ],
            "text/plain": [
              "   userId  movieId  rating            timestamp\n",
              "0       1        2     3.5  2005-04-02 23:53:47\n",
              "1       1       29     3.5  2005-04-02 23:31:16\n",
              "2       1       32     3.5  2005-04-02 23:33:39\n",
              "3       1       47     3.5  2005-04-02 23:32:07\n",
              "4       1       50     3.5  2005-04-02 23:29:40"
            ]
          },
          "metadata": {
            "tags": []
          },
          "execution_count": 24
        }
      ]
    },
    {
      "cell_type": "code",
      "metadata": {
        "colab_type": "code",
        "id": "zcprBzurypnO",
        "outputId": "710e8e30-9788-4866-cacd-a38723a02908",
        "colab": {
          "base_uri": "https://localhost:8080/",
          "height": 35
        }
      },
      "source": [
        "data.userId = pd.Categorical(data.userId)\n",
        "data[\"processed_userId\"] = data.userId.cat.codes\n",
        "data.head()"
      ],
      "execution_count": 0,
      "outputs": [
        {
          "output_type": "execute_result",
          "data": {
            "text/html": [
              "<div>\n",
              "<style scoped>\n",
              "    .dataframe tbody tr th:only-of-type {\n",
              "        vertical-align: middle;\n",
              "    }\n",
              "\n",
              "    .dataframe tbody tr th {\n",
              "        vertical-align: top;\n",
              "    }\n",
              "\n",
              "    .dataframe thead th {\n",
              "        text-align: right;\n",
              "    }\n",
              "</style>\n",
              "<table border=\"1\" class=\"dataframe\">\n",
              "  <thead>\n",
              "    <tr style=\"text-align: right;\">\n",
              "      <th></th>\n",
              "      <th>userId</th>\n",
              "      <th>movieId</th>\n",
              "      <th>rating</th>\n",
              "      <th>timestamp</th>\n",
              "      <th>processed_userId</th>\n",
              "    </tr>\n",
              "  </thead>\n",
              "  <tbody>\n",
              "    <tr>\n",
              "      <th>0</th>\n",
              "      <td>1</td>\n",
              "      <td>2</td>\n",
              "      <td>3.5</td>\n",
              "      <td>2005-04-02 23:53:47</td>\n",
              "      <td>0</td>\n",
              "    </tr>\n",
              "    <tr>\n",
              "      <th>1</th>\n",
              "      <td>1</td>\n",
              "      <td>29</td>\n",
              "      <td>3.5</td>\n",
              "      <td>2005-04-02 23:31:16</td>\n",
              "      <td>0</td>\n",
              "    </tr>\n",
              "    <tr>\n",
              "      <th>2</th>\n",
              "      <td>1</td>\n",
              "      <td>32</td>\n",
              "      <td>3.5</td>\n",
              "      <td>2005-04-02 23:33:39</td>\n",
              "      <td>0</td>\n",
              "    </tr>\n",
              "    <tr>\n",
              "      <th>3</th>\n",
              "      <td>1</td>\n",
              "      <td>47</td>\n",
              "      <td>3.5</td>\n",
              "      <td>2005-04-02 23:32:07</td>\n",
              "      <td>0</td>\n",
              "    </tr>\n",
              "    <tr>\n",
              "      <th>4</th>\n",
              "      <td>1</td>\n",
              "      <td>50</td>\n",
              "      <td>3.5</td>\n",
              "      <td>2005-04-02 23:29:40</td>\n",
              "      <td>0</td>\n",
              "    </tr>\n",
              "  </tbody>\n",
              "</table>\n",
              "</div>"
            ],
            "text/plain": [
              "  userId  movieId  rating            timestamp  processed_userId\n",
              "0      1        2     3.5  2005-04-02 23:53:47                 0\n",
              "1      1       29     3.5  2005-04-02 23:31:16                 0\n",
              "2      1       32     3.5  2005-04-02 23:33:39                 0\n",
              "3      1       47     3.5  2005-04-02 23:32:07                 0\n",
              "4      1       50     3.5  2005-04-02 23:29:40                 0"
            ]
          },
          "metadata": {
            "tags": []
          },
          "execution_count": 25
        }
      ]
    },
    {
      "cell_type": "code",
      "metadata": {
        "id": "5UCEnvyxGSaJ",
        "colab_type": "code",
        "colab": {},
        "outputId": "1e6314f9-476c-4e6f-cc55-37bcec74b73c"
      },
      "source": [
        "data.movieId = pd.Categorical(data.movieId)\n",
        "data[\"processed_movieId\"] = data.movieId.cat.codes\n",
        "data.head()"
      ],
      "execution_count": 0,
      "outputs": [
        {
          "output_type": "execute_result",
          "data": {
            "text/html": [
              "<div>\n",
              "<style scoped>\n",
              "    .dataframe tbody tr th:only-of-type {\n",
              "        vertical-align: middle;\n",
              "    }\n",
              "\n",
              "    .dataframe tbody tr th {\n",
              "        vertical-align: top;\n",
              "    }\n",
              "\n",
              "    .dataframe thead th {\n",
              "        text-align: right;\n",
              "    }\n",
              "</style>\n",
              "<table border=\"1\" class=\"dataframe\">\n",
              "  <thead>\n",
              "    <tr style=\"text-align: right;\">\n",
              "      <th></th>\n",
              "      <th>userId</th>\n",
              "      <th>movieId</th>\n",
              "      <th>rating</th>\n",
              "      <th>timestamp</th>\n",
              "      <th>processed_userId</th>\n",
              "      <th>processed_movieId</th>\n",
              "    </tr>\n",
              "  </thead>\n",
              "  <tbody>\n",
              "    <tr>\n",
              "      <th>0</th>\n",
              "      <td>1</td>\n",
              "      <td>2</td>\n",
              "      <td>3.5</td>\n",
              "      <td>2005-04-02 23:53:47</td>\n",
              "      <td>0</td>\n",
              "      <td>1</td>\n",
              "    </tr>\n",
              "    <tr>\n",
              "      <th>1</th>\n",
              "      <td>1</td>\n",
              "      <td>29</td>\n",
              "      <td>3.5</td>\n",
              "      <td>2005-04-02 23:31:16</td>\n",
              "      <td>0</td>\n",
              "      <td>28</td>\n",
              "    </tr>\n",
              "    <tr>\n",
              "      <th>2</th>\n",
              "      <td>1</td>\n",
              "      <td>32</td>\n",
              "      <td>3.5</td>\n",
              "      <td>2005-04-02 23:33:39</td>\n",
              "      <td>0</td>\n",
              "      <td>31</td>\n",
              "    </tr>\n",
              "    <tr>\n",
              "      <th>3</th>\n",
              "      <td>1</td>\n",
              "      <td>47</td>\n",
              "      <td>3.5</td>\n",
              "      <td>2005-04-02 23:32:07</td>\n",
              "      <td>0</td>\n",
              "      <td>46</td>\n",
              "    </tr>\n",
              "    <tr>\n",
              "      <th>4</th>\n",
              "      <td>1</td>\n",
              "      <td>50</td>\n",
              "      <td>3.5</td>\n",
              "      <td>2005-04-02 23:29:40</td>\n",
              "      <td>0</td>\n",
              "      <td>49</td>\n",
              "    </tr>\n",
              "  </tbody>\n",
              "</table>\n",
              "</div>"
            ],
            "text/plain": [
              "  userId movieId  rating            timestamp  processed_userId  \\\n",
              "0      1       2     3.5  2005-04-02 23:53:47                 0   \n",
              "1      1      29     3.5  2005-04-02 23:31:16                 0   \n",
              "2      1      32     3.5  2005-04-02 23:33:39                 0   \n",
              "3      1      47     3.5  2005-04-02 23:32:07                 0   \n",
              "4      1      50     3.5  2005-04-02 23:29:40                 0   \n",
              "\n",
              "   processed_movieId  \n",
              "0                  1  \n",
              "1                 28  \n",
              "2                 31  \n",
              "3                 46  \n",
              "4                 49  "
            ]
          },
          "metadata": {
            "tags": []
          },
          "execution_count": 26
        }
      ]
    },
    {
      "cell_type": "code",
      "metadata": {
        "colab_type": "code",
        "id": "VuDp5lA6yntA",
        "colab": {}
      },
      "source": [
        "userId = data['processed_userId']\n",
        "movieId = data['processed_movieId']\n",
        "ratings = data['rating']"
      ],
      "execution_count": 0,
      "outputs": []
    },
    {
      "cell_type": "code",
      "metadata": {
        "id": "Xv0ZqghxGSaO",
        "colab_type": "code",
        "colab": {}
      },
      "source": [
        "N = len(set(userId))\n",
        "D = len(set(movieId))\n",
        "E = 15 "
      ],
      "execution_count": 0,
      "outputs": []
    },
    {
      "cell_type": "code",
      "metadata": {
        "id": "yf0eiV7xGSaQ",
        "colab_type": "code",
        "colab": {}
      },
      "source": [
        "u_layer = Input(shape=(1,))\n",
        "m_layer = Input(shape=(1,))\n",
        "u_embedding = Embedding(N, E)(u_layer)\n",
        "m_embedding = Embedding(D, E)(m_layer)\n",
        "\n",
        "# The output for embeddings is samples x T x E === samples x 1 x E migrated from NLP\n",
        "\n",
        "u_embedding = Flatten()(u_embedding)\n",
        "m_embedding = Flatten()(m_embedding)\n",
        "# The output for flatten is samples x E === samples x E \n",
        "\n",
        "i_layer = Concatenate()([u_embedding, m_embedding])\n",
        "h_layer = Dense(512, activation = 'relu')(i_layer)\n",
        "h_layer = Dense(512, activation = 'relu')(h_layer)\n",
        "o_layer = Dense(1)(h_layer)\n"
      ],
      "execution_count": 0,
      "outputs": []
    },
    {
      "cell_type": "code",
      "metadata": {
        "id": "Ynsxuxd4GSaS",
        "colab_type": "code",
        "colab": {}
      },
      "source": [
        "model = Model([u_layer, m_layer], o_layer)"
      ],
      "execution_count": 0,
      "outputs": []
    },
    {
      "cell_type": "code",
      "metadata": {
        "id": "Pd1my7DbGSaU",
        "colab_type": "code",
        "colab": {}
      },
      "source": [
        "model.compile(loss = 'mse',\n",
        "             optimizer = SGD(lr=0.1, momentum = 0.8))"
      ],
      "execution_count": 0,
      "outputs": []
    },
    {
      "cell_type": "code",
      "metadata": {
        "colab_type": "code",
        "id": "JYDsmaT7saNC",
        "colab": {}
      },
      "source": [
        "# TRAIN TEST SPLIT\n",
        "userId, movieId, ratings = sklearn.utils.shuffle(userId, movieId, ratings)\n",
        "split = int(0.2 * len(ratings))\n",
        "train_userId = userId[split:]\n",
        "train_movieId = movieId[split:]\n",
        "train_ratings = ratings[split:]\n",
        "\n",
        "test_userId = userId[:split]\n",
        "test_movieId = movieId[:split]\n",
        "test_ratings = ratings[:split]"
      ],
      "execution_count": 0,
      "outputs": []
    },
    {
      "cell_type": "code",
      "metadata": {
        "id": "igx9dZTYGSaY",
        "colab_type": "code",
        "colab": {},
        "outputId": "5ad255ff-4f8e-43f9-9c61-4378943eece3"
      },
      "source": [
        "print(train_userId.shape)\n",
        "print(train_movieId.shape)\n",
        "print(train_ratings.shape)\n",
        "print(test_userId.shape)\n",
        "print(test_movieId.shape)\n",
        "print(test_ratings.shape)"
      ],
      "execution_count": 0,
      "outputs": [
        {
          "output_type": "stream",
          "text": [
            "(16000211,)\n",
            "(16000211,)\n",
            "(16000211,)\n",
            "(4000052,)\n",
            "(4000052,)\n",
            "(4000052,)\n"
          ],
          "name": "stdout"
        }
      ]
    },
    {
      "cell_type": "code",
      "metadata": {
        "id": "OK62MYkHGSaa",
        "colab_type": "code",
        "colab": {}
      },
      "source": [
        "normalizer_ratings = train_ratings.mean()\n",
        "train_ratings = train_ratings - normalizer_ratings\n",
        "test_ratings = test_ratings - normalizer_ratings"
      ],
      "execution_count": 0,
      "outputs": []
    },
    {
      "cell_type": "code",
      "metadata": {
        "id": "uuU5ExrEGSac",
        "colab_type": "code",
        "colab": {},
        "outputId": "9c9e6a7c-f024-4002-d3ed-5eafc00bf07c"
      },
      "source": [
        "report = model.fit(x = [train_userId, train_movieId],\n",
        "                   y = train_ratings,\n",
        "                   epochs = 20, \n",
        "                   batch_size = 2048, \n",
        "                   validation_data = ([test_userId, test_movieId], test_ratings)) "
      ],
      "execution_count": 0,
      "outputs": [
        {
          "output_type": "stream",
          "text": [
            "Epoch 1/20\n",
            "7813/7813 [==============================] - 135s 17ms/step - loss: 0.7708 - val_loss: 0.7437\n",
            "Epoch 2/20\n",
            "7813/7813 [==============================] - 138s 18ms/step - loss: 0.7174 - val_loss: 0.7083\n",
            "Epoch 3/20\n",
            "7813/7813 [==============================] - 140s 18ms/step - loss: 0.6933 - val_loss: 0.6963\n",
            "Epoch 4/20\n",
            "7813/7813 [==============================] - 138s 18ms/step - loss: 0.6822 - val_loss: 0.6911\n",
            "Epoch 5/20\n",
            "7813/7813 [==============================] - 137s 18ms/step - loss: 0.6735 - val_loss: 0.6852\n",
            "Epoch 6/20\n",
            "7813/7813 [==============================] - 136s 17ms/step - loss: 0.6647 - val_loss: 0.6783\n",
            "Epoch 7/20\n",
            "7813/7813 [==============================] - 141s 18ms/step - loss: 0.6570 - val_loss: 0.6743\n",
            "Epoch 8/20\n",
            "7813/7813 [==============================] - 145s 19ms/step - loss: 0.6508 - val_loss: 0.6731\n",
            "Epoch 9/20\n",
            "7813/7813 [==============================] - 147s 19ms/step - loss: 0.6456 - val_loss: 0.6694\n",
            "Epoch 10/20\n",
            "7813/7813 [==============================] - 145s 19ms/step - loss: 0.6406 - val_loss: 0.6655\n",
            "Epoch 11/20\n",
            "7813/7813 [==============================] - 140s 18ms/step - loss: 0.6348 - val_loss: 0.6622 loss: \n",
            "Epoch 12/20\n",
            "7813/7813 [==============================] - 145s 19ms/step - loss: 0.6268 - val_loss: 0.6556\n",
            "Epoch 13/20\n",
            "7813/7813 [==============================] - 149s 19ms/step - loss: 0.6169 - val_loss: 0.6511\n",
            "Epoch 14/20\n",
            "7813/7813 [==============================] - 150s 19ms/step - loss: 0.6077 - val_loss: 0.6459\n",
            "Epoch 15/20\n",
            "7813/7813 [==============================] - 151s 19ms/step - loss: 0.6000 - val_loss: 0.6424\n",
            "Epoch 16/20\n",
            "7813/7813 [==============================] - 152s 20ms/step - loss: 0.5933 - val_loss: 0.6415\n",
            "Epoch 17/20\n",
            "7813/7813 [==============================] - 169s 22ms/step - loss: 0.5871 - val_loss: 0.6383\n",
            "Epoch 18/20\n",
            "7813/7813 [==============================] - 159s 20ms/step - loss: 0.5812 - val_loss: 0.6360\n",
            "Epoch 19/20\n",
            "7813/7813 [==============================] - 145s 19ms/step - loss: 0.5754 - val_loss: 0.6361\n",
            "Epoch 20/20\n",
            "7813/7813 [==============================] - 151s 19ms/step - loss: 0.5695 - val_loss: 0.6343\n"
          ],
          "name": "stdout"
        }
      ]
    },
    {
      "cell_type": "markdown",
      "metadata": {
        "colab_type": "text",
        "id": "LCDu_lnNk__z"
      },
      "source": [
        "## let's see the results"
      ]
    },
    {
      "cell_type": "code",
      "metadata": {
        "id": "_47xuoRrGSae",
        "colab_type": "code",
        "colab": {},
        "outputId": "148a1bfb-1bc4-4021-c7e6-86ecea5604cb"
      },
      "source": [
        "plt.plot(report.history['loss'], label=\"train_loss\")\n",
        "plt.plot(report.history['val_loss'], label=\"validation_loss\")\n",
        "plt.legend()\n",
        "plt.show()"
      ],
      "execution_count": 0,
      "outputs": [
        {
          "output_type": "display_data",
          "data": {
            "image/png": "[encoded data removed]",
            "text/plain": [
              "<Figure size 432x288 with 1 Axes>"
            ]
          },
          "metadata": {
            "tags": [],
            "needs_background": "light"
          }
        }
      ]
    },
    {
      "cell_type": "code",
      "metadata": {
        "id": "c1tnaItYGSag",
        "colab_type": "code",
        "colab": {}
      },
      "source": [
        ""
      ],
      "execution_count": 0,
      "outputs": []
    }
  ]
}