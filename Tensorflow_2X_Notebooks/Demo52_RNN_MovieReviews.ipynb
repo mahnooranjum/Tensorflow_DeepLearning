{
  "nbformat": 4,
  "nbformat_minor": 0,
  "metadata": {
    "colab": {
      "name": "Demo52_RNN_MovieReviews.ipynb",
      "provenance": [],
      "collapsed_sections": []
    },
    "kernelspec": {
      "name": "python3",
      "display_name": "Python 3"
    },
    "accelerator": "GPU"
  },
  "cells": [
    {
      "cell_type": "markdown",
      "metadata": {
        "id": "P9bJCDjdlgG6",
        "colab_type": "text"
      },
      "source": [
        "# **Spit some [tensor] flow**\n",
        "\n",
        "We need to learn the intricacies of tensorflow to master deep learning\n",
        "\n",
        "`Let's get this over with`\n",
        "\n"
      ]
    },
    {
      "cell_type": "code",
      "metadata": {
        "id": "aQwc0re5mFld",
        "colab_type": "code",
        "outputId": "c487842b-8a6f-41bb-b395-98a2ebc14d31",
        "colab": {
          "base_uri": "https://localhost:8080/",
          "height": 35
        }
      },
      "source": [
        "import numpy as np\n",
        "import pandas as pd\n",
        "import matplotlib.pyplot as plt\n",
        "import tensorflow as tf\n",
        "import cv2\n",
        "print(tf.__version__)"
      ],
      "execution_count": 1,
      "outputs": [
        {
          "output_type": "stream",
          "text": [
            "2.2.0\n"
          ],
          "name": "stdout"
        }
      ]
    },
    {
      "cell_type": "markdown",
      "metadata": {
        "id": "0KL1p_roy9zM",
        "colab_type": "text"
      },
      "source": [
        "## Look at the following equations \n",
        "\n",
        "Well now we're going to go into the details of the implementation; \n",
        "\n",
        "```\n",
        "x_pred_t = w0 + w1 * x_t-1 + w2 * x_t-2 + w3 * x_t-3 + w4 * x_t-4\n",
        "\n",
        "x_pred_t+1 = w0 + w1 * x_pred_t + w2 * x_t-1 + w3 * x_t-2 + w4 * x_t-3\n",
        "```\n",
        "\n",
        "This is an autoregressive model now. \n",
        "\n",
        "```\n",
        "x_pred_5 = w0 + w1 * x_4 + w2 * x_3 + w3 * x_2 + w4 * x_1\n",
        "\n",
        "x_pred_6 = w0 + w1 * x_pred_5 + w2 * x_4 + w3 * x_3 + w4 * x_2\n",
        "\n",
        "```\n",
        "\n",
        "We know that the predictions at time T in an RNN depend on all the previous times. Thus, indirectly, y(t) depends on x(t), x(t-1), x(t-2),....., x(2), x(1)\n",
        "\n",
        "To optimize the weights, we must take the derivative of the equation containing the weights; however, there will be numerous W_input_to_hidden weights in the network. \n",
        "\n",
        "\n",
        "The RNN keeps nesting the older timestamps; the derivatives use multiplication and chain rule in composite functions, thus, the more older the timestamp, the more its gradient vanishes.\n",
        "\n",
        "## So how do GRU's work?\n",
        "\n",
        "Throwback to the RNN equation: \n",
        "\n",
        "h(t) = activation(W(x,h) x(t) + W(h,h) h(t-1) + b(h))\n",
        "\n",
        "GRU's calulate two other things to calculate h(t):\n",
        "\n",
        "- update gate vector z(t)\n",
        "\n",
        "- reset gate vector r(t)\n",
        "\n",
        "z(t) = sigmoid(W(x,z) x(t) + W(h,z) h(t-1) + b(z))\n",
        "\n",
        "r(t) = sigmoid(W(x,r) x(t) + W(h,r) h(t-1) + b(r))\n",
        "\n",
        "```\n",
        "h(t) = (1 - z(t)) * h(t-1)  +\n",
        "\n",
        "        z(t) tanh(W(x,h) x(t) + W(h,h) (r(t) * h(t-1)) + b(h))\n",
        "```\n",
        "\n",
        "(*) ==== element wise multiplication\n",
        "\n",
        "z(t), r(t), h(t) ===== Size U\n",
        "\n",
        "## Z(t) \n",
        "\n",
        "Should we take the new value of h(t)? or keep h(t-1)? \n",
        "\n",
        "- z(t) close to 0, take h(t-1)\n",
        "\n",
        "- z(t) close to 1, take h(t)\n",
        "\n",
        "So: \n",
        "\n",
        "```\n",
        "h(t) = (1 - z(t)) * h(t-1)  +\n",
        "\n",
        "        z(t) tanh(W(x,h) x(t) + W(h,h) (r(t) * h(t-1)) + b(h))\n",
        "```\n",
        "\n",
        "Becomes \n",
        "\n",
        "```\n",
        "h(t) = (factor keep h(t-1)) * h(t-1) + \n",
        "\n",
        "       (discard h(t-1)) * RNN(x(t), h(t-1))\n",
        "```\n",
        "\n",
        "## R(t) \n",
        "\n",
        "Change the value of h(t-1) \n",
        "\n",
        "- r(t) close to 0, zero value h(t-1)\n",
        "\n",
        "- r(t) close to 1, keep value h(t-1)\n",
        "\n",
        "\n",
        "## So how do LSTM's work?\n",
        "\n",
        "### https://towardsdatascience.com/\n",
        "\n",
        "We add another state to the mix, the cell state c(t)\n",
        "\n",
        "we add three different neurons:\n",
        "\n",
        "forget neuron = f(t) \n",
        "\n",
        "This gate decides which information should be thrown away or kept. Input from h(t-1) and x(t) is passed through this gate; and it uses sigmoid to either forget (0) or remember (1) it.\n",
        "\n",
        "\n",
        "input gate neuron = i(t)\n",
        "\n",
        "We use this to update the cell state. We pass the h(t-1) and x(t) to the sigmoid function. This will decide which values will be updated in the cell state.\n",
        "\n",
        "output gate neuron = o(t) \n",
        "\n",
        "The output gate decides what the next hidden state h(t) should be. Remember that the hidden state contains information on previous inputs. The hidden state is also used for predictions. \n",
        "\n",
        "First, we pass the previous hidden state and the current input into a sigmoid function.\n",
        "\n",
        "Then we pass the newly modified cell state to the tanh function. \n",
        "\n",
        "We multiply the tanh output with the sigmoid output to decide what information the hidden state should carry. \n",
        "\n",
        "The output is the hidden state. \n",
        "\n",
        "The new cell state and the new hidden is then carried over to the next time step.\n",
        "\n",
        "```\n",
        "\n",
        "f(t) = sigmoid ( W(x,f) x(t) + W(h, f)h(t-1) + b(f) )\n",
        "\n",
        "i(t) = sigmoid ( W(x,i) x(t) + W(h, i)h(t-1) + b(i) ) \n",
        "\n",
        "o(t) = sigmoid ( W(x,o) x(t) + W(h, o)h(t-1) + b(o) ) \n",
        "\n",
        "\n",
        "c(t) = f(t) * c(t-1) + \n",
        "\n",
        "       i(t) * tanh ( W(x,c) x(t) + W(h,c) h(t-1) + b(c) ) \n",
        "\n",
        "\n",
        "h(t) = o(t) * tanh( c(t) )\n",
        "\n",
        "```\n",
        "\n",
        "## So we OHE the last NLP problem, why not do the same and feed it to the neural network? Well because, features in a language, are not independent. \n",
        "\n",
        "\n",
        "Let's explore this: \n",
        "\n",
        "The quick brown fox jumps over __________________\n",
        "\n",
        "See you know the end of this sentence because you know the words right? \n",
        "\n",
        "well wb this: \n",
        "\n",
        "over _____________________\n",
        "\n",
        "Now we don't know the end of this sentence. \n",
        "\n",
        "So in tensorflow, to save computations, we have the embedding layer: \n",
        "\n",
        "### Step 1: Words to ints\n",
        "\n",
        "Nothing deep about deep learning ----> 13 43 32 43 98\n",
        "\n",
        "### Step 2: Ints to word vector \n",
        "\n",
        "13 43 32 43 98 ------> [0.9, 1.2] [-0.4, 0.2] [0.3, 0.3] [-0.4, 0.2] [0.2, 0.5] \n",
        "\n",
        "T -----> T x D\n",
        "\n",
        "\n",
        "### We can use word2vec to make sure the embedding layer has similar words close to each other\n"
      ]
    },
    {
      "cell_type": "code",
      "metadata": {
        "id": "CaBxIWkog_i-",
        "colab_type": "code",
        "colab": {}
      },
      "source": [
        "from tensorflow.keras.layers import Input, Dropout, Dense, Flatten, SimpleRNN, LSTM, GlobalMaxPooling1D, Embedding\n",
        "from tensorflow.keras.models import Model\n",
        "from tensorflow.keras.optimizers import SGD, Adam, Adamax\n",
        "from tensorflow.keras.preprocessing.text import Tokenizer\n",
        "from tensorflow.keras.preprocessing.sequence import pad_sequences"
      ],
      "execution_count": 0,
      "outputs": []
    },
    {
      "cell_type": "markdown",
      "metadata": {
        "id": "ofiCPRlY3MUV",
        "colab_type": "text"
      },
      "source": [
        "## Let's import the dataset\n"
      ]
    },
    {
      "cell_type": "code",
      "metadata": {
        "id": "ovloe8cp0wpa",
        "colab_type": "code",
        "colab": {}
      },
      "source": [
        "def evaluation_tf(report, y_test, y_pred, classes):\n",
        "  plt.plot(report.history['loss'], label = 'training_loss')\n",
        "  plt.plot(report.history['val_loss'], label = 'validation_loss')\n",
        "  plt.legend()\n",
        "  plt.show()\n",
        "  plt.plot(report.history['accuracy'], label = 'training_accuracy')\n",
        "  plt.plot(report.history['val_accuracy'], label = 'validation_accuracy')\n",
        "  plt.legend()\n",
        "  plt.show()\n",
        "\n",
        "  from sklearn.metrics import confusion_matrix\n",
        "  import itertools\n",
        "  cm = confusion_matrix(y_test, y_pred)\n",
        "\n",
        "  plt.figure(figsize=(10,10))\n",
        "  plt.imshow(cm, cmap=plt.cm.Blues)\n",
        "  for i,j in itertools.product(range(cm.shape[0]), range(cm.shape[1])):\n",
        "    plt.text(j, i, format(cm[i,j], 'd'),\n",
        "            horizontalalignment = 'center',\n",
        "            color='black')\n",
        "  plt.xlabel(\"Predicted labels\")\n",
        "  plt.ylabel(\"True labels\")\n",
        "  plt.xticks(range(0,classes))\n",
        "  plt.yticks(range(0,classes))\n",
        "  plt.title('Confusion matrix')\n",
        "  plt.colorbar()\n",
        "  plt.show()"
      ],
      "execution_count": 0,
      "outputs": []
    },
    {
      "cell_type": "code",
      "metadata": {
        "id": "PKsiBvQv3PKy",
        "colab_type": "code",
        "outputId": "f87a4827-5b90-4191-844f-94b33cf94553",
        "colab": {
          "base_uri": "https://localhost:8080/",
          "height": 202
        }
      },
      "source": [
        "data = pd.read_csv(\"sample_data/train.tsv\", delimiter='\\t')\n",
        "data.head()\n"
      ],
      "execution_count": 12,
      "outputs": [
        {
          "output_type": "execute_result",
          "data": {
            "text/html": [
              "<div>\n",
              "<style scoped>\n",
              "    .dataframe tbody tr th:only-of-type {\n",
              "        vertical-align: middle;\n",
              "    }\n",
              "\n",
              "    .dataframe tbody tr th {\n",
              "        vertical-align: top;\n",
              "    }\n",
              "\n",
              "    .dataframe thead th {\n",
              "        text-align: right;\n",
              "    }\n",
              "</style>\n",
              "<table border=\"1\" class=\"dataframe\">\n",
              "  <thead>\n",
              "    <tr style=\"text-align: right;\">\n",
              "      <th></th>\n",
              "      <th>PhraseId</th>\n",
              "      <th>SentenceId</th>\n",
              "      <th>Phrase</th>\n",
              "      <th>Sentiment</th>\n",
              "    </tr>\n",
              "  </thead>\n",
              "  <tbody>\n",
              "    <tr>\n",
              "      <th>0</th>\n",
              "      <td>1</td>\n",
              "      <td>1</td>\n",
              "      <td>A series of escapades demonstrating the adage ...</td>\n",
              "      <td>1</td>\n",
              "    </tr>\n",
              "    <tr>\n",
              "      <th>1</th>\n",
              "      <td>2</td>\n",
              "      <td>1</td>\n",
              "      <td>A series of escapades demonstrating the adage ...</td>\n",
              "      <td>2</td>\n",
              "    </tr>\n",
              "    <tr>\n",
              "      <th>2</th>\n",
              "      <td>3</td>\n",
              "      <td>1</td>\n",
              "      <td>A series</td>\n",
              "      <td>2</td>\n",
              "    </tr>\n",
              "    <tr>\n",
              "      <th>3</th>\n",
              "      <td>4</td>\n",
              "      <td>1</td>\n",
              "      <td>A</td>\n",
              "      <td>2</td>\n",
              "    </tr>\n",
              "    <tr>\n",
              "      <th>4</th>\n",
              "      <td>5</td>\n",
              "      <td>1</td>\n",
              "      <td>series</td>\n",
              "      <td>2</td>\n",
              "    </tr>\n",
              "  </tbody>\n",
              "</table>\n",
              "</div>"
            ],
            "text/plain": [
              "   PhraseId  ...  Sentiment\n",
              "0         1  ...          1\n",
              "1         2  ...          2\n",
              "2         3  ...          2\n",
              "3         4  ...          2\n",
              "4         5  ...          2\n",
              "\n",
              "[5 rows x 4 columns]"
            ]
          },
          "metadata": {
            "tags": []
          },
          "execution_count": 12
        }
      ]
    },
    {
      "cell_type": "code",
      "metadata": {
        "id": "zcprBzurypnO",
        "colab_type": "code",
        "colab": {
          "base_uri": "https://localhost:8080/",
          "height": 35
        },
        "outputId": "222cbb88-d98b-48aa-b66a-24cc66bba224"
      },
      "source": [
        "Y = len(data.Sentiment.unique())\n",
        "print(Y)"
      ],
      "execution_count": 13,
      "outputs": [
        {
          "output_type": "stream",
          "text": [
            "5\n"
          ],
          "name": "stdout"
        }
      ]
    },
    {
      "cell_type": "code",
      "metadata": {
        "id": "VuDp5lA6yntA",
        "colab_type": "code",
        "colab": {}
      },
      "source": [
        "X = data.iloc[:, 2]\n",
        "y = data.iloc[:, -1].values"
      ],
      "execution_count": 0,
      "outputs": []
    },
    {
      "cell_type": "code",
      "metadata": {
        "id": "JYDsmaT7saNC",
        "colab_type": "code",
        "colab": {}
      },
      "source": [
        "# TRAIN TEST SPLIT\n",
        "from sklearn.model_selection import train_test_split\n",
        "X_train, X_test, y_train, y_test = train_test_split(X, y, test_size = 0.2)"
      ],
      "execution_count": 0,
      "outputs": []
    },
    {
      "cell_type": "code",
      "metadata": {
        "id": "50xq7FV0sIm7",
        "colab_type": "code",
        "colab": {}
      },
      "source": [
        "MAX_SIZE = 20000\n",
        "tokenizer = Tokenizer(num_words=MAX_SIZE)\n",
        "tokenizer.fit_on_texts(X_train)\n",
        "sequences_train = tokenizer.texts_to_sequences(X_train)\n",
        "sequences_test = tokenizer.texts_to_sequences(X_test)\n"
      ],
      "execution_count": 0,
      "outputs": []
    },
    {
      "cell_type": "code",
      "metadata": {
        "id": "ht8S7bwxs4HL",
        "colab_type": "code",
        "outputId": "2a04b638-ca27-4372-b85c-abeaf010b05f",
        "colab": {
          "base_uri": "https://localhost:8080/",
          "height": 35
        }
      },
      "source": [
        "word2index = tokenizer.word_index\n",
        "V = len(word2index)\n",
        "print(\"tokens = \" + str(V))"
      ],
      "execution_count": 17,
      "outputs": [
        {
          "output_type": "stream",
          "text": [
            "tokens = 15270\n"
          ],
          "name": "stdout"
        }
      ]
    },
    {
      "cell_type": "code",
      "metadata": {
        "id": "4n82_EtouTL4",
        "colab_type": "code",
        "colab": {}
      },
      "source": [
        "X_train = pad_sequences(sequences_train)"
      ],
      "execution_count": 0,
      "outputs": []
    },
    {
      "cell_type": "code",
      "metadata": {
        "id": "yNnkVkDcxh__",
        "colab_type": "code",
        "colab": {}
      },
      "source": [
        "X_test = pad_sequences(sequences_test, maxlen=X_train.shape[1])"
      ],
      "execution_count": 0,
      "outputs": []
    },
    {
      "cell_type": "code",
      "metadata": {
        "id": "JJuANjZRuIfg",
        "colab_type": "code",
        "outputId": "eb53313b-8460-46cd-ea34-8b6a97e685c9",
        "colab": {
          "base_uri": "https://localhost:8080/",
          "height": 87
        }
      },
      "source": [
        "print(X_train.shape)\n",
        "print(X_test.shape)\n",
        "print(y_train.shape)\n",
        "print(y_test.shape)\n",
        "\n",
        "N, T = X_train.shape"
      ],
      "execution_count": 22,
      "outputs": [
        {
          "output_type": "stream",
          "text": [
            "(124848, 49)\n",
            "(31212, 49)\n",
            "(124848,)\n",
            "(31212,)\n"
          ],
          "name": "stdout"
        }
      ]
    },
    {
      "cell_type": "code",
      "metadata": {
        "id": "lPU77_iSvtAJ",
        "colab_type": "code",
        "colab": {}
      },
      "source": [
        "# Let's talk about D, what is it and how do we set it? \n",
        "# This is the dimensionality of the embedding layer, essentially the vector that each word becomes \n",
        "\n",
        "D = 10 \n",
        "# hidden units\n",
        "U = 20\n"
      ],
      "execution_count": 0,
      "outputs": []
    },
    {
      "cell_type": "code",
      "metadata": {
        "id": "RqLDjaKpwQxP",
        "colab_type": "code",
        "colab": {}
      },
      "source": [
        "i_layer = Input(shape = (T,))\n",
        "h_layer = Embedding(V+1, D)(i_layer)\n",
        "# V+1 because https://github.com/tensorflow/tensorflow/issues/38619\n",
        "h_layer = LSTM(U,return_sequences=True)(h_layer)\n",
        "h_layer = GlobalMaxPooling1D()(h_layer)\n",
        "o_layer = Dense(Y, activation='softmax')(h_layer)\n",
        "\n",
        "model = Model(i_layer, o_layer)"
      ],
      "execution_count": 0,
      "outputs": []
    },
    {
      "cell_type": "code",
      "metadata": {
        "id": "TW9j4VVFxVuS",
        "colab_type": "code",
        "colab": {}
      },
      "source": [
        "model.compile(\n",
        "    optimizer='adam',\n",
        "    loss='sparse_categorical_crossentropy',\n",
        "    metrics=['accuracy'])"
      ],
      "execution_count": 0,
      "outputs": []
    },
    {
      "cell_type": "code",
      "metadata": {
        "id": "lf9hTfOGxZn5",
        "colab_type": "code",
        "outputId": "02a8480d-ad31-4ba3-cbf6-4c8f3f1c2538",
        "colab": {
          "base_uri": "https://localhost:8080/",
          "height": 711
        }
      },
      "source": [
        "report = model.fit(X_train, y_train, epochs = 20, validation_data=(X_test, y_test))"
      ],
      "execution_count": 26,
      "outputs": [
        {
          "output_type": "stream",
          "text": [
            "Epoch 1/20\n",
            "3902/3902 [==============================] - 28s 7ms/step - loss: 1.1607 - accuracy: 0.5403 - val_loss: 1.0141 - val_accuracy: 0.5921\n",
            "Epoch 2/20\n",
            "3902/3902 [==============================] - 28s 7ms/step - loss: 0.8765 - accuracy: 0.6462 - val_loss: 0.8574 - val_accuracy: 0.6496\n",
            "Epoch 3/20\n",
            "3902/3902 [==============================] - 28s 7ms/step - loss: 0.7807 - accuracy: 0.6803 - val_loss: 0.8312 - val_accuracy: 0.6626\n",
            "Epoch 4/20\n",
            "3902/3902 [==============================] - 28s 7ms/step - loss: 0.7334 - accuracy: 0.6983 - val_loss: 0.8164 - val_accuracy: 0.6701\n",
            "Epoch 5/20\n",
            "3902/3902 [==============================] - 28s 7ms/step - loss: 0.6985 - accuracy: 0.7128 - val_loss: 0.8145 - val_accuracy: 0.6703\n",
            "Epoch 6/20\n",
            "3902/3902 [==============================] - 28s 7ms/step - loss: 0.6707 - accuracy: 0.7242 - val_loss: 0.8211 - val_accuracy: 0.6689\n",
            "Epoch 7/20\n",
            "3902/3902 [==============================] - 29s 7ms/step - loss: 0.6469 - accuracy: 0.7344 - val_loss: 0.8277 - val_accuracy: 0.6679\n",
            "Epoch 8/20\n",
            "3902/3902 [==============================] - 29s 7ms/step - loss: 0.6252 - accuracy: 0.7426 - val_loss: 0.8401 - val_accuracy: 0.6674\n",
            "Epoch 9/20\n",
            "3902/3902 [==============================] - 29s 7ms/step - loss: 0.6072 - accuracy: 0.7503 - val_loss: 0.8507 - val_accuracy: 0.6608\n",
            "Epoch 10/20\n",
            "3902/3902 [==============================] - 28s 7ms/step - loss: 0.5901 - accuracy: 0.7573 - val_loss: 0.8633 - val_accuracy: 0.6659\n",
            "Epoch 11/20\n",
            "3902/3902 [==============================] - 28s 7ms/step - loss: 0.5753 - accuracy: 0.7622 - val_loss: 0.8801 - val_accuracy: 0.6597\n",
            "Epoch 12/20\n",
            "3902/3902 [==============================] - 30s 8ms/step - loss: 0.5614 - accuracy: 0.7685 - val_loss: 0.8912 - val_accuracy: 0.6604\n",
            "Epoch 13/20\n",
            "3902/3902 [==============================] - 30s 8ms/step - loss: 0.5491 - accuracy: 0.7739 - val_loss: 0.9000 - val_accuracy: 0.6593\n",
            "Epoch 14/20\n",
            "3902/3902 [==============================] - 30s 8ms/step - loss: 0.5370 - accuracy: 0.7785 - val_loss: 0.9073 - val_accuracy: 0.6584\n",
            "Epoch 15/20\n",
            "3902/3902 [==============================] - 29s 7ms/step - loss: 0.5264 - accuracy: 0.7822 - val_loss: 0.9245 - val_accuracy: 0.6564\n",
            "Epoch 16/20\n",
            "3902/3902 [==============================] - 29s 7ms/step - loss: 0.5160 - accuracy: 0.7867 - val_loss: 0.9417 - val_accuracy: 0.6526\n",
            "Epoch 17/20\n",
            "3902/3902 [==============================] - 29s 8ms/step - loss: 0.5068 - accuracy: 0.7895 - val_loss: 0.9480 - val_accuracy: 0.6533\n",
            "Epoch 18/20\n",
            "3902/3902 [==============================] - 29s 7ms/step - loss: 0.4977 - accuracy: 0.7941 - val_loss: 0.9605 - val_accuracy: 0.6503\n",
            "Epoch 19/20\n",
            "3902/3902 [==============================] - 29s 8ms/step - loss: 0.4893 - accuracy: 0.7960 - val_loss: 0.9740 - val_accuracy: 0.6518\n",
            "Epoch 20/20\n",
            "3902/3902 [==============================] - 29s 7ms/step - loss: 0.4806 - accuracy: 0.7994 - val_loss: 0.9895 - val_accuracy: 0.6509\n"
          ],
          "name": "stdout"
        }
      ]
    },
    {
      "cell_type": "code",
      "metadata": {
        "id": "8xVbWzu2BTjT",
        "colab_type": "code",
        "outputId": "393100a8-3d9a-47c1-d4d5-f6817d91edb2",
        "colab": {
          "base_uri": "https://localhost:8080/",
          "height": 283
        }
      },
      "source": [
        "plt.plot(report.history['loss'], label='training_loss')\n",
        "plt.plot(report.history['val_loss'], label='validation_loss')\n",
        "plt.legend()"
      ],
      "execution_count": 27,
      "outputs": [
        {
          "output_type": "execute_result",
          "data": {
            "text/plain": [
              "<matplotlib.legend.Legend at 0x7f937a60fcf8>"
            ]
          },
          "metadata": {
            "tags": []
          },
          "execution_count": 27
        },
        {
          "output_type": "display_data",
          "data": {
            "image/png": "[encoded data removed]",
            "text/plain": [
              "<Figure size 432x288 with 1 Axes>"
            ]
          },
          "metadata": {
            "tags": [],
            "needs_background": "light"
          }
        }
      ]
    },
    {
      "cell_type": "markdown",
      "metadata": {
        "id": "LCDu_lnNk__z",
        "colab_type": "text"
      },
      "source": [
        "## Seems like the model is overfitting, let's tune it"
      ]
    },
    {
      "cell_type": "code",
      "metadata": {
        "id": "IdoyZVtylNyV",
        "colab_type": "code",
        "colab": {}
      },
      "source": [
        "# Let's talk about D, what is it and how do we set it? \n",
        "# This is the dimensionality of the embedding layer, essentially the vector that each word becomes \n",
        "\n",
        "D = 15\n",
        "# hidden units\n",
        "U = 30\n"
      ],
      "execution_count": 0,
      "outputs": []
    },
    {
      "cell_type": "code",
      "metadata": {
        "id": "CN0HxNM7lGhe",
        "colab_type": "code",
        "colab": {}
      },
      "source": [
        "i_layer = Input(shape = (T,))\n",
        "h_layer = Embedding(V+1, D)(i_layer)\n",
        "# V+1 because https://github.com/tensorflow/tensorflow/issues/38619\n",
        "\n",
        "h_layer = LSTM(U,return_sequences=True)(h_layer)\n",
        "h_layer = GlobalMaxPooling1D()(h_layer)\n",
        "h_layer = Dense(5, activation='relu')(h_layer)\n",
        "h_layer = Dropout(0.3)(h_layer)\n",
        "o_layer = Dense(Y, activation='softmax')(h_layer)\n",
        "\n",
        "model = Model(i_layer, o_layer)"
      ],
      "execution_count": 0,
      "outputs": []
    },
    {
      "cell_type": "code",
      "metadata": {
        "id": "8wGS96l5lInT",
        "colab_type": "code",
        "colab": {}
      },
      "source": [
        "model.compile(\n",
        "    optimizer='adam',\n",
        "    loss='sparse_categorical_crossentropy',\n",
        "    metrics=['accuracy'])"
      ],
      "execution_count": 0,
      "outputs": []
    },
    {
      "cell_type": "code",
      "metadata": {
        "id": "MP4d4FnNlYJq",
        "colab_type": "code",
        "colab": {
          "base_uri": "https://localhost:8080/",
          "height": 364
        },
        "outputId": "d2cc79f2-c148-47a2-ed57-e0b8e79d39c1"
      },
      "source": [
        "report = model.fit(X_train, y_train, epochs = 10, validation_data=(X_test, y_test))"
      ],
      "execution_count": 93,
      "outputs": [
        {
          "output_type": "stream",
          "text": [
            "Epoch 1/10\n",
            "3902/3902 [==============================] - 31s 8ms/step - loss: 1.1781 - accuracy: 0.5279 - val_loss: 1.0957 - val_accuracy: 0.5421\n",
            "Epoch 2/10\n",
            "3902/3902 [==============================] - 31s 8ms/step - loss: 1.0955 - accuracy: 0.5518 - val_loss: 1.0789 - val_accuracy: 0.5565\n",
            "Epoch 3/10\n",
            "3902/3902 [==============================] - 31s 8ms/step - loss: 1.0683 - accuracy: 0.5555 - val_loss: 1.0723 - val_accuracy: 0.5551\n",
            "Epoch 4/10\n",
            "3902/3902 [==============================] - 31s 8ms/step - loss: 1.0416 - accuracy: 0.5587 - val_loss: 1.0673 - val_accuracy: 0.5588\n",
            "Epoch 5/10\n",
            "3902/3902 [==============================] - 31s 8ms/step - loss: 0.9975 - accuracy: 0.5733 - val_loss: 0.9965 - val_accuracy: 0.6119\n",
            "Epoch 6/10\n",
            "3902/3902 [==============================] - 31s 8ms/step - loss: 0.9157 - accuracy: 0.6253 - val_loss: 0.9387 - val_accuracy: 0.6368\n",
            "Epoch 7/10\n",
            "3902/3902 [==============================] - 32s 8ms/step - loss: 0.8761 - accuracy: 0.6441 - val_loss: 0.9158 - val_accuracy: 0.6419\n",
            "Epoch 8/10\n",
            "3902/3902 [==============================] - 32s 8ms/step - loss: 0.8511 - accuracy: 0.6550 - val_loss: 0.9234 - val_accuracy: 0.6453\n",
            "Epoch 9/10\n",
            "3902/3902 [==============================] - 32s 8ms/step - loss: 0.8308 - accuracy: 0.6598 - val_loss: 0.9285 - val_accuracy: 0.6479\n",
            "Epoch 10/10\n",
            "3902/3902 [==============================] - 31s 8ms/step - loss: 0.8111 - accuracy: 0.6633 - val_loss: 0.9211 - val_accuracy: 0.6442\n"
          ],
          "name": "stdout"
        }
      ]
    },
    {
      "cell_type": "code",
      "metadata": {
        "id": "pJiPuixjn7mK",
        "colab_type": "code",
        "colab": {
          "base_uri": "https://localhost:8080/",
          "height": 283
        },
        "outputId": "019c43f1-14f6-4535-adf4-f271995f11b1"
      },
      "source": [
        "plt.plot(report.history['loss'], label='training_loss')\n",
        "plt.plot(report.history['val_loss'], label='validation_loss')\n",
        "plt.legend()"
      ],
      "execution_count": 95,
      "outputs": [
        {
          "output_type": "execute_result",
          "data": {
            "text/plain": [
              "<matplotlib.legend.Legend at 0x7f93465630b8>"
            ]
          },
          "metadata": {
            "tags": []
          },
          "execution_count": 95
        },
        {
          "output_type": "display_data",
          "data": {
            "image/png": "[encoded data removed]",
            "text/plain": [
              "<Figure size 432x288 with 1 Axes>"
            ]
          },
          "metadata": {
            "tags": [],
            "needs_background": "light"
          }
        }
      ]
    },
    {
      "cell_type": "code",
      "metadata": {
        "id": "2LCYzpejInF1",
        "colab_type": "code",
        "outputId": "8eaa86a7-54d7-43f1-af17-23d2c480e739",
        "colab": {
          "base_uri": "https://localhost:8080/",
          "height": 52
        }
      },
      "source": [
        "print(X_train.shape)\n",
        "print(X_test.shape)"
      ],
      "execution_count": 96,
      "outputs": [
        {
          "output_type": "stream",
          "text": [
            "(124848, 49)\n",
            "(31212, 49)\n"
          ],
          "name": "stdout"
        }
      ]
    },
    {
      "cell_type": "code",
      "metadata": {
        "id": "2UQR3P1VNyjR",
        "colab_type": "code",
        "colab": {}
      },
      "source": [
        "y_pred = model.predict(X_test).argmax(axis=1)"
      ],
      "execution_count": 0,
      "outputs": []
    },
    {
      "cell_type": "code",
      "metadata": {
        "id": "9n8i58Dd1q19",
        "colab_type": "code",
        "colab": {
          "base_uri": "https://localhost:8080/",
          "height": 1000
        },
        "outputId": "f5d121d6-8d88-44be-e878-c5f0773b3222"
      },
      "source": [
        "evaluation_tf(report, y_test, y_pred, Y)"
      ],
      "execution_count": 103,
      "outputs": [
        {
          "output_type": "display_data",
          "data": {
            "image/png": "[encoded data removed]",
            "text/plain": [
              "<Figure size 432x288 with 1 Axes>"
            ]
          },
          "metadata": {
            "tags": [],
            "needs_background": "light"
          }
        },
        {
          "output_type": "display_data",
          "data": {
            "image/png": "[encoded data removed]",
            "text/plain": [
              "<Figure size 432x288 with 1 Axes>"
            ]
          },
          "metadata": {
            "tags": [],
            "needs_background": "light"
          }
        },
        {
          "output_type": "display_data",
          "data": {
            "image/png": "[encoded data removed]",
            "text/plain": [
              "<Figure size 720x720 with 2 Axes>"
            ]
          },
          "metadata": {
            "tags": [],
            "needs_background": "light"
          }
        }
      ]
    }
  ]
}