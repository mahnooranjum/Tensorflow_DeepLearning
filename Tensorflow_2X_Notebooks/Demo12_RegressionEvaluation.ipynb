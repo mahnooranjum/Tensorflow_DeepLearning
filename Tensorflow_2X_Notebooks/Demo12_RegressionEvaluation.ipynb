{
  "nbformat": 4,
  "nbformat_minor": 0,
  "metadata": {
    "colab": {
      "name": "Demo12_RegressionEvaluation.ipynb",
      "provenance": [],
      "collapsed_sections": []
    },
    "kernelspec": {
      "name": "python3",
      "display_name": "Python 3"
    }
  },
  "cells": [
    {
      "cell_type": "markdown",
      "metadata": {
        "id": "P9bJCDjdlgG6",
        "colab_type": "text"
      },
      "source": [
        "# **Spit some [tensor] flow**\n",
        "\n",
        "We need to learn the intricacies of tensorflow to master deep learning\n",
        "\n",
        "`This is how we write code`\n",
        "\n",
        "## Let's make some data to work on"
      ]
    },
    {
      "cell_type": "code",
      "metadata": {
        "id": "aQwc0re5mFld",
        "colab_type": "code",
        "outputId": "bb684f0d-64ed-4922-bb78-3e43c1802547",
        "colab": {
          "base_uri": "https://localhost:8080/",
          "height": 35
        }
      },
      "source": [
        "import numpy as np\n",
        "import pandas as pd\n",
        "import matplotlib.pyplot as plt\n",
        "import tensorflow as tf\n",
        "print(tf.__version__)"
      ],
      "execution_count": 2,
      "outputs": [
        {
          "output_type": "stream",
          "text": [
            "2.2.0-rc4\n"
          ],
          "name": "stdout"
        }
      ]
    },
    {
      "cell_type": "code",
      "metadata": {
        "id": "qyw8HvOuBEZm",
        "colab_type": "code",
        "outputId": "7ee4684f-982a-4e00-8171-3f8c54698959",
        "colab": {
          "base_uri": "https://localhost:8080/",
          "height": 265
        }
      },
      "source": [
        "from sklearn.datasets import make_regression\n",
        "\n",
        "# Regression Dataset\n",
        "n = 10000\n",
        "X, y = make_regression(n_samples=n, n_features=1, noise=70)\n",
        "X = X.reshape(n)\n",
        "datadict = {'data': X, 'target': y}\n",
        "data = pd.DataFrame(data=datadict)\n",
        "plt.scatter(X,y)\n",
        "plt.show()"
      ],
      "execution_count": 3,
      "outputs": [
        {
          "output_type": "display_data",
          "data": {
            "image/png": "[encoded data removed]",
            "text/plain": [
              "<Figure size 432x288 with 1 Axes>"
            ]
          },
          "metadata": {
            "tags": [],
            "needs_background": "light"
          }
        }
      ]
    },
    {
      "cell_type": "code",
      "metadata": {
        "id": "7hQGKjLvBT6z",
        "colab_type": "code",
        "outputId": "e0e72e58-c85d-4afe-dc3b-a76908fe937c",
        "colab": {
          "base_uri": "https://localhost:8080/",
          "height": 35
        }
      },
      "source": [
        "X = data.iloc[:,[0]].values\n",
        "type(X)"
      ],
      "execution_count": 4,
      "outputs": [
        {
          "output_type": "execute_result",
          "data": {
            "text/plain": [
              "numpy.ndarray"
            ]
          },
          "metadata": {
            "tags": []
          },
          "execution_count": 4
        }
      ]
    },
    {
      "cell_type": "code",
      "metadata": {
        "id": "ovyPUHaZBqu8",
        "colab_type": "code",
        "colab": {}
      },
      "source": [
        "y = data.target.values"
      ],
      "execution_count": 0,
      "outputs": []
    },
    {
      "cell_type": "code",
      "metadata": {
        "id": "BSOcVLhKCGOa",
        "colab_type": "code",
        "colab": {}
      },
      "source": [
        "# TRAIN TEST SPLIT\n",
        "from sklearn.model_selection import train_test_split\n",
        "\n",
        "X_train, X_test, y_train, y_test = train_test_split(X, y, test_size = 0.2)"
      ],
      "execution_count": 0,
      "outputs": []
    },
    {
      "cell_type": "code",
      "metadata": {
        "id": "bqh-eNkNCb7D",
        "colab_type": "code",
        "colab": {}
      },
      "source": [
        "N, D = X_train.shape"
      ],
      "execution_count": 0,
      "outputs": []
    },
    {
      "cell_type": "code",
      "metadata": {
        "id": "WA8o1DP8CvGT",
        "colab_type": "code",
        "colab": {}
      },
      "source": [
        "from sklearn.preprocessing import StandardScaler \n",
        "scaleObj = StandardScaler()\n",
        "X_train = scaleObj.fit_transform(X_train)\n",
        "X_test = scaleObj.transform(X_test)\n"
      ],
      "execution_count": 0,
      "outputs": []
    },
    {
      "cell_type": "code",
      "metadata": {
        "id": "mIv1FdhRDRrc",
        "colab_type": "code",
        "outputId": "6a466141-fb22-4541-f40d-75c9c4fa35a4",
        "colab": {
          "base_uri": "https://localhost:8080/",
          "height": 1000
        }
      },
      "source": [
        "model = tf.keras.models.Sequential([\n",
        "                                    tf.keras.layers.Input(shape=(D,)),\n",
        "                                    tf.keras.layers.Dense(1)\n",
        "])\n",
        "\n",
        "\n",
        "model.compile(\n",
        "    optimizer = tf.keras.optimizers.SGD(0.001, 0.99),\n",
        "    loss = 'mse',\n",
        "    metrics = ['mse']\n",
        ")\n",
        "\n",
        "# https://www.tensorflow.org/api_docs/python/tf/keras/callbacks/LearningRateScheduler\n",
        "def scheduler(epoch):\n",
        "  if epoch < 10:\n",
        "    return 0.001\n",
        "  else:\n",
        "    return 0.001 * tf.math.exp(0.1 * (10 - epoch))\n",
        "\n",
        "\n",
        "callback = tf.keras.callbacks.LearningRateScheduler(scheduler)\n",
        "\n",
        "report = model.fit(X_train, y_train, validation_data=(X_test, y_test), epochs=100)"
      ],
      "execution_count": 9,
      "outputs": [
        {
          "output_type": "stream",
          "text": [
            "Epoch 1/100\n",
            "250/250 [==============================] - 0s 2ms/step - loss: 5836.3296 - mse: 5836.3296 - val_loss: 5243.8994 - val_mse: 5243.8994\n",
            "Epoch 2/100\n",
            "250/250 [==============================] - 0s 1ms/step - loss: 5168.0571 - mse: 5168.0571 - val_loss: 5256.9980 - val_mse: 5256.9980\n",
            "Epoch 3/100\n",
            "250/250 [==============================] - 0s 1ms/step - loss: 5109.0298 - mse: 5109.0298 - val_loss: 5208.0986 - val_mse: 5208.0986\n",
            "Epoch 4/100\n",
            "250/250 [==============================] - 0s 1ms/step - loss: 5100.4653 - mse: 5100.4653 - val_loss: 5204.8838 - val_mse: 5204.8838\n",
            "Epoch 5/100\n",
            "250/250 [==============================] - 0s 1ms/step - loss: 5092.0571 - mse: 5092.0571 - val_loss: 5189.7324 - val_mse: 5189.7324\n",
            "Epoch 6/100\n",
            "250/250 [==============================] - 0s 1ms/step - loss: 5094.2554 - mse: 5094.2554 - val_loss: 5231.4390 - val_mse: 5231.4390\n",
            "Epoch 7/100\n",
            "250/250 [==============================] - 0s 1ms/step - loss: 5124.6489 - mse: 5124.6489 - val_loss: 5326.0171 - val_mse: 5326.0171\n",
            "Epoch 8/100\n",
            "250/250 [==============================] - 0s 1ms/step - loss: 5130.3052 - mse: 5130.3052 - val_loss: 5188.1792 - val_mse: 5188.1792\n",
            "Epoch 9/100\n",
            "250/250 [==============================] - 0s 1ms/step - loss: 5093.0483 - mse: 5093.0483 - val_loss: 5199.2539 - val_mse: 5199.2539\n",
            "Epoch 10/100\n",
            "250/250 [==============================] - 0s 1ms/step - loss: 5088.6294 - mse: 5088.6294 - val_loss: 5190.1450 - val_mse: 5190.1450\n",
            "Epoch 11/100\n",
            "250/250 [==============================] - 0s 1ms/step - loss: 5094.3994 - mse: 5094.3994 - val_loss: 5205.1904 - val_mse: 5205.1904\n",
            "Epoch 12/100\n",
            "250/250 [==============================] - 0s 1ms/step - loss: 5100.4331 - mse: 5100.4331 - val_loss: 5179.7246 - val_mse: 5179.7246\n",
            "Epoch 13/100\n",
            "250/250 [==============================] - 0s 1ms/step - loss: 5093.1890 - mse: 5093.1890 - val_loss: 5200.1230 - val_mse: 5200.1230\n",
            "Epoch 14/100\n",
            "250/250 [==============================] - 0s 1ms/step - loss: 5095.5439 - mse: 5095.5439 - val_loss: 5234.2705 - val_mse: 5234.2705\n",
            "Epoch 15/100\n",
            "250/250 [==============================] - 0s 1ms/step - loss: 5085.8359 - mse: 5085.8359 - val_loss: 5184.1489 - val_mse: 5184.1489\n",
            "Epoch 16/100\n",
            "250/250 [==============================] - 0s 1ms/step - loss: 5090.7661 - mse: 5090.7661 - val_loss: 5210.3325 - val_mse: 5210.3325\n",
            "Epoch 17/100\n",
            "250/250 [==============================] - 0s 1ms/step - loss: 5082.6777 - mse: 5082.6777 - val_loss: 5187.9736 - val_mse: 5187.9736\n",
            "Epoch 18/100\n",
            "250/250 [==============================] - 0s 1ms/step - loss: 5108.7681 - mse: 5108.7681 - val_loss: 5219.5327 - val_mse: 5219.5327\n",
            "Epoch 19/100\n",
            "250/250 [==============================] - 0s 1ms/step - loss: 5136.7681 - mse: 5136.7681 - val_loss: 5193.6030 - val_mse: 5193.6030\n",
            "Epoch 20/100\n",
            "250/250 [==============================] - 0s 1ms/step - loss: 5107.9253 - mse: 5107.9253 - val_loss: 5210.1499 - val_mse: 5210.1499\n",
            "Epoch 21/100\n",
            "250/250 [==============================] - 0s 1ms/step - loss: 5096.1631 - mse: 5096.1631 - val_loss: 5273.4585 - val_mse: 5273.4585\n",
            "Epoch 22/100\n",
            "250/250 [==============================] - 0s 1ms/step - loss: 5097.4297 - mse: 5097.4297 - val_loss: 5205.6431 - val_mse: 5205.6431\n",
            "Epoch 23/100\n",
            "250/250 [==============================] - 0s 1ms/step - loss: 5092.3174 - mse: 5092.3174 - val_loss: 5180.1138 - val_mse: 5180.1138\n",
            "Epoch 24/100\n",
            "250/250 [==============================] - 0s 1ms/step - loss: 5093.9951 - mse: 5093.9951 - val_loss: 5198.9536 - val_mse: 5198.9536\n",
            "Epoch 25/100\n",
            "250/250 [==============================] - 0s 1ms/step - loss: 5101.0576 - mse: 5101.0576 - val_loss: 5263.0186 - val_mse: 5263.0186\n",
            "Epoch 26/100\n",
            "250/250 [==============================] - 0s 1ms/step - loss: 5084.2349 - mse: 5084.2349 - val_loss: 5190.7939 - val_mse: 5190.7939\n",
            "Epoch 27/100\n",
            "250/250 [==============================] - 0s 1ms/step - loss: 5148.4414 - mse: 5148.4414 - val_loss: 5199.2305 - val_mse: 5199.2305\n",
            "Epoch 28/100\n",
            "250/250 [==============================] - 0s 1ms/step - loss: 5148.5483 - mse: 5148.5483 - val_loss: 5358.6934 - val_mse: 5358.6934\n",
            "Epoch 29/100\n",
            "250/250 [==============================] - 0s 1ms/step - loss: 5121.3330 - mse: 5121.3330 - val_loss: 5197.9087 - val_mse: 5197.9087\n",
            "Epoch 30/100\n",
            "250/250 [==============================] - 0s 1ms/step - loss: 5088.4697 - mse: 5088.4697 - val_loss: 5236.4946 - val_mse: 5236.4946\n",
            "Epoch 31/100\n",
            "250/250 [==============================] - 0s 1ms/step - loss: 5089.7529 - mse: 5089.7529 - val_loss: 5209.5605 - val_mse: 5209.5605\n",
            "Epoch 32/100\n",
            "250/250 [==============================] - 0s 1ms/step - loss: 5102.2598 - mse: 5102.2598 - val_loss: 5274.2568 - val_mse: 5274.2568\n",
            "Epoch 33/100\n",
            "250/250 [==============================] - 0s 1ms/step - loss: 5119.4185 - mse: 5119.4185 - val_loss: 5221.3218 - val_mse: 5221.3218\n",
            "Epoch 34/100\n",
            "250/250 [==============================] - 0s 1ms/step - loss: 5095.7656 - mse: 5095.7656 - val_loss: 5213.8760 - val_mse: 5213.8760\n",
            "Epoch 35/100\n",
            "250/250 [==============================] - 0s 1ms/step - loss: 5080.5967 - mse: 5080.5967 - val_loss: 5184.1494 - val_mse: 5184.1494\n",
            "Epoch 36/100\n",
            "250/250 [==============================] - 0s 1ms/step - loss: 5083.1206 - mse: 5083.1206 - val_loss: 5188.6152 - val_mse: 5188.6152\n",
            "Epoch 37/100\n",
            "250/250 [==============================] - 0s 1ms/step - loss: 5088.4492 - mse: 5088.4492 - val_loss: 5192.6812 - val_mse: 5192.6812\n",
            "Epoch 38/100\n",
            "250/250 [==============================] - 0s 1ms/step - loss: 5116.7437 - mse: 5116.7437 - val_loss: 5188.7944 - val_mse: 5188.7944\n",
            "Epoch 39/100\n",
            "250/250 [==============================] - 0s 1ms/step - loss: 5111.7720 - mse: 5111.7720 - val_loss: 5198.9448 - val_mse: 5198.9448\n",
            "Epoch 40/100\n",
            "250/250 [==============================] - 0s 1ms/step - loss: 5082.0303 - mse: 5082.0303 - val_loss: 5186.0049 - val_mse: 5186.0049\n",
            "Epoch 41/100\n",
            "250/250 [==============================] - 0s 1ms/step - loss: 5083.8901 - mse: 5083.8901 - val_loss: 5197.0381 - val_mse: 5197.0381\n",
            "Epoch 42/100\n",
            "250/250 [==============================] - 0s 1ms/step - loss: 5104.5571 - mse: 5104.5571 - val_loss: 5189.3281 - val_mse: 5189.3281\n",
            "Epoch 43/100\n",
            "250/250 [==============================] - 0s 1ms/step - loss: 5100.4834 - mse: 5100.4834 - val_loss: 5181.4741 - val_mse: 5181.4741\n",
            "Epoch 44/100\n",
            "250/250 [==============================] - 0s 1ms/step - loss: 5117.1030 - mse: 5117.1030 - val_loss: 5219.3462 - val_mse: 5219.3462\n",
            "Epoch 45/100\n",
            "250/250 [==============================] - 0s 1ms/step - loss: 5103.8389 - mse: 5103.8389 - val_loss: 5220.1289 - val_mse: 5220.1289\n",
            "Epoch 46/100\n",
            "250/250 [==============================] - 0s 1ms/step - loss: 5089.0908 - mse: 5089.0908 - val_loss: 5185.6089 - val_mse: 5185.6089\n",
            "Epoch 47/100\n",
            "250/250 [==============================] - 0s 1ms/step - loss: 5138.1040 - mse: 5138.1040 - val_loss: 5235.4551 - val_mse: 5235.4551\n",
            "Epoch 48/100\n",
            "250/250 [==============================] - 0s 1ms/step - loss: 5107.9243 - mse: 5107.9243 - val_loss: 5207.4893 - val_mse: 5207.4893\n",
            "Epoch 49/100\n",
            "250/250 [==============================] - 0s 1ms/step - loss: 5084.8979 - mse: 5084.8979 - val_loss: 5198.9067 - val_mse: 5198.9067\n",
            "Epoch 50/100\n",
            "250/250 [==============================] - 0s 1ms/step - loss: 5083.8042 - mse: 5083.8042 - val_loss: 5180.9097 - val_mse: 5180.9097\n",
            "Epoch 51/100\n",
            "250/250 [==============================] - 0s 1ms/step - loss: 5098.5005 - mse: 5098.5005 - val_loss: 5186.3184 - val_mse: 5186.3184\n",
            "Epoch 52/100\n",
            "250/250 [==============================] - 0s 1ms/step - loss: 5097.1001 - mse: 5097.1001 - val_loss: 5189.8794 - val_mse: 5189.8794\n",
            "Epoch 53/100\n",
            "250/250 [==============================] - 0s 1ms/step - loss: 5098.2622 - mse: 5098.2622 - val_loss: 5195.7007 - val_mse: 5195.7007\n",
            "Epoch 54/100\n",
            "250/250 [==============================] - 0s 1ms/step - loss: 5091.5869 - mse: 5091.5869 - val_loss: 5215.7661 - val_mse: 5215.7661\n",
            "Epoch 55/100\n",
            "250/250 [==============================] - 0s 1ms/step - loss: 5102.0229 - mse: 5102.0229 - val_loss: 5245.1748 - val_mse: 5245.1748\n",
            "Epoch 56/100\n",
            "250/250 [==============================] - 0s 1ms/step - loss: 5153.8003 - mse: 5153.8003 - val_loss: 5253.8555 - val_mse: 5253.8555\n",
            "Epoch 57/100\n",
            "250/250 [==============================] - 0s 1ms/step - loss: 5103.9663 - mse: 5103.9663 - val_loss: 5238.3867 - val_mse: 5238.3867\n",
            "Epoch 58/100\n",
            "250/250 [==============================] - 0s 1ms/step - loss: 5098.5073 - mse: 5098.5073 - val_loss: 5198.3862 - val_mse: 5198.3862\n",
            "Epoch 59/100\n",
            "250/250 [==============================] - 0s 1ms/step - loss: 5083.0371 - mse: 5083.0371 - val_loss: 5201.3804 - val_mse: 5201.3804\n",
            "Epoch 60/100\n",
            "250/250 [==============================] - 0s 1ms/step - loss: 5089.3955 - mse: 5089.3955 - val_loss: 5178.6099 - val_mse: 5178.6099\n",
            "Epoch 61/100\n",
            "250/250 [==============================] - 0s 1ms/step - loss: 5105.4268 - mse: 5105.4268 - val_loss: 5214.8516 - val_mse: 5214.8516\n",
            "Epoch 62/100\n",
            "250/250 [==============================] - 0s 1ms/step - loss: 5083.4863 - mse: 5083.4863 - val_loss: 5248.4653 - val_mse: 5248.4653\n",
            "Epoch 63/100\n",
            "250/250 [==============================] - 0s 1ms/step - loss: 5092.7192 - mse: 5092.7192 - val_loss: 5189.9980 - val_mse: 5189.9980\n",
            "Epoch 64/100\n",
            "250/250 [==============================] - 0s 1ms/step - loss: 5103.4766 - mse: 5103.4766 - val_loss: 5208.7373 - val_mse: 5208.7373\n",
            "Epoch 65/100\n",
            "250/250 [==============================] - 0s 1ms/step - loss: 5101.2700 - mse: 5101.2700 - val_loss: 5227.5435 - val_mse: 5227.5435\n",
            "Epoch 66/100\n",
            "250/250 [==============================] - 0s 1ms/step - loss: 5110.4189 - mse: 5110.4189 - val_loss: 5201.7852 - val_mse: 5201.7852\n",
            "Epoch 67/100\n",
            "250/250 [==============================] - 0s 1ms/step - loss: 5085.5732 - mse: 5085.5732 - val_loss: 5232.6865 - val_mse: 5232.6865\n",
            "Epoch 68/100\n",
            "250/250 [==============================] - 0s 1ms/step - loss: 5104.2852 - mse: 5104.2852 - val_loss: 5181.9819 - val_mse: 5181.9819\n",
            "Epoch 69/100\n",
            "250/250 [==============================] - 0s 1ms/step - loss: 5107.3032 - mse: 5107.3032 - val_loss: 5200.0439 - val_mse: 5200.0439\n",
            "Epoch 70/100\n",
            "250/250 [==============================] - 0s 1ms/step - loss: 5099.1245 - mse: 5099.1245 - val_loss: 5198.8994 - val_mse: 5198.8994\n",
            "Epoch 71/100\n",
            "250/250 [==============================] - 0s 1ms/step - loss: 5083.1025 - mse: 5083.1025 - val_loss: 5179.6548 - val_mse: 5179.6548\n",
            "Epoch 72/100\n",
            "250/250 [==============================] - 0s 1ms/step - loss: 5087.4956 - mse: 5087.4956 - val_loss: 5184.6816 - val_mse: 5184.6816\n",
            "Epoch 73/100\n",
            "250/250 [==============================] - 0s 1ms/step - loss: 5115.9419 - mse: 5115.9419 - val_loss: 5219.2051 - val_mse: 5219.2051\n",
            "Epoch 74/100\n",
            "250/250 [==============================] - 0s 1ms/step - loss: 5095.7856 - mse: 5095.7856 - val_loss: 5224.9438 - val_mse: 5224.9438\n",
            "Epoch 75/100\n",
            "250/250 [==============================] - 0s 1ms/step - loss: 5134.4292 - mse: 5134.4292 - val_loss: 5193.1133 - val_mse: 5193.1133\n",
            "Epoch 76/100\n",
            "250/250 [==============================] - 0s 1ms/step - loss: 5100.2988 - mse: 5100.2988 - val_loss: 5342.7925 - val_mse: 5342.7925\n",
            "Epoch 77/100\n",
            "250/250 [==============================] - 0s 1ms/step - loss: 5126.3501 - mse: 5126.3501 - val_loss: 5204.0649 - val_mse: 5204.0649\n",
            "Epoch 78/100\n",
            "250/250 [==============================] - 0s 1ms/step - loss: 5088.6836 - mse: 5088.6836 - val_loss: 5200.0610 - val_mse: 5200.0610\n",
            "Epoch 79/100\n",
            "250/250 [==============================] - 0s 1ms/step - loss: 5108.3340 - mse: 5108.3340 - val_loss: 5240.1577 - val_mse: 5240.1577\n",
            "Epoch 80/100\n",
            "250/250 [==============================] - 0s 1ms/step - loss: 5092.1406 - mse: 5092.1406 - val_loss: 5189.5054 - val_mse: 5189.5054\n",
            "Epoch 81/100\n",
            "250/250 [==============================] - 0s 1ms/step - loss: 5121.3491 - mse: 5121.3491 - val_loss: 5208.4458 - val_mse: 5208.4458\n",
            "Epoch 82/100\n",
            "250/250 [==============================] - 0s 1ms/step - loss: 5082.3081 - mse: 5082.3081 - val_loss: 5205.9888 - val_mse: 5205.9888\n",
            "Epoch 83/100\n",
            "250/250 [==============================] - 0s 1ms/step - loss: 5098.8975 - mse: 5098.8975 - val_loss: 5202.6738 - val_mse: 5202.6738\n",
            "Epoch 84/100\n",
            "250/250 [==============================] - 0s 1ms/step - loss: 5079.5610 - mse: 5079.5610 - val_loss: 5198.1313 - val_mse: 5198.1313\n",
            "Epoch 85/100\n",
            "250/250 [==============================] - 0s 1ms/step - loss: 5093.6606 - mse: 5093.6606 - val_loss: 5180.6484 - val_mse: 5180.6484\n",
            "Epoch 86/100\n",
            "250/250 [==============================] - 0s 1ms/step - loss: 5092.0557 - mse: 5092.0557 - val_loss: 5182.6304 - val_mse: 5182.6304\n",
            "Epoch 87/100\n",
            "250/250 [==============================] - 0s 1ms/step - loss: 5085.1733 - mse: 5085.1733 - val_loss: 5185.2158 - val_mse: 5185.2158\n",
            "Epoch 88/100\n",
            "250/250 [==============================] - 0s 1ms/step - loss: 5103.4678 - mse: 5103.4678 - val_loss: 5207.4971 - val_mse: 5207.4971\n",
            "Epoch 89/100\n",
            "250/250 [==============================] - 0s 1ms/step - loss: 5108.3999 - mse: 5108.3999 - val_loss: 5246.3174 - val_mse: 5246.3174\n",
            "Epoch 90/100\n",
            "250/250 [==============================] - 0s 1ms/step - loss: 5085.6338 - mse: 5085.6338 - val_loss: 5198.6582 - val_mse: 5198.6582\n",
            "Epoch 91/100\n",
            "250/250 [==============================] - 0s 1ms/step - loss: 5131.6069 - mse: 5131.6069 - val_loss: 5200.2490 - val_mse: 5200.2490\n",
            "Epoch 92/100\n",
            "250/250 [==============================] - 0s 1ms/step - loss: 5112.2393 - mse: 5112.2393 - val_loss: 5192.1289 - val_mse: 5192.1289\n",
            "Epoch 93/100\n",
            "250/250 [==============================] - 0s 1ms/step - loss: 5099.2974 - mse: 5099.2974 - val_loss: 5220.4971 - val_mse: 5220.4971\n",
            "Epoch 94/100\n",
            "250/250 [==============================] - 0s 1ms/step - loss: 5115.2520 - mse: 5115.2520 - val_loss: 5200.2861 - val_mse: 5200.2861\n",
            "Epoch 95/100\n",
            "250/250 [==============================] - 0s 1ms/step - loss: 5083.1177 - mse: 5083.1177 - val_loss: 5182.3267 - val_mse: 5182.3267\n",
            "Epoch 96/100\n",
            "250/250 [==============================] - 0s 1ms/step - loss: 5091.7109 - mse: 5091.7109 - val_loss: 5265.5054 - val_mse: 5265.5054\n",
            "Epoch 97/100\n",
            "250/250 [==============================] - 0s 1ms/step - loss: 5090.1484 - mse: 5090.1484 - val_loss: 5182.3442 - val_mse: 5182.3442\n",
            "Epoch 98/100\n",
            "250/250 [==============================] - 0s 1ms/step - loss: 5081.9805 - mse: 5081.9805 - val_loss: 5235.5923 - val_mse: 5235.5923\n",
            "Epoch 99/100\n",
            "250/250 [==============================] - 0s 1ms/step - loss: 5116.6641 - mse: 5116.6641 - val_loss: 5201.9580 - val_mse: 5201.9580\n",
            "Epoch 100/100\n",
            "250/250 [==============================] - 0s 1ms/step - loss: 5103.2905 - mse: 5103.2905 - val_loss: 5222.1406 - val_mse: 5222.1406\n"
          ],
          "name": "stdout"
        }
      ]
    },
    {
      "cell_type": "code",
      "metadata": {
        "id": "MSj0kifiSDfW",
        "colab_type": "code",
        "outputId": "d9850eff-e1b9-4214-c7c1-f1bf4aeddc57",
        "colab": {
          "base_uri": "https://localhost:8080/",
          "height": 283
        }
      },
      "source": [
        "plt.plot(report.history['loss'], label=\"loss = SGD\")"
      ],
      "execution_count": 10,
      "outputs": [
        {
          "output_type": "execute_result",
          "data": {
            "text/plain": [
              "[<matplotlib.lines.Line2D at 0x7fd14a204908>]"
            ]
          },
          "metadata": {
            "tags": []
          },
          "execution_count": 10
        },
        {
          "output_type": "display_data",
          "data": {
            "image/png": "[encoded data removed]",
            "text/plain": [
              "<Figure size 432x288 with 1 Axes>"
            ]
          },
          "metadata": {
            "tags": [],
            "needs_background": "light"
          }
        }
      ]
    },
    {
      "cell_type": "code",
      "metadata": {
        "id": "kVRFwm6HSN0s",
        "colab_type": "code",
        "outputId": "5b67af8c-6e2c-4e6c-eada-32f55e95e75b",
        "colab": {
          "base_uri": "https://localhost:8080/",
          "height": 35
        }
      },
      "source": [
        "w = model.layers[0].get_weights()[0][0]\n",
        "print(w)"
      ],
      "execution_count": 11,
      "outputs": [
        {
          "output_type": "stream",
          "text": [
            "[63.815567]\n"
          ],
          "name": "stdout"
        }
      ]
    },
    {
      "cell_type": "code",
      "metadata": {
        "id": "JgHtyGJCtS-_",
        "colab_type": "code",
        "outputId": "1389f288-c3c4-4b09-e2df-a694fb851d4d",
        "colab": {
          "base_uri": "https://localhost:8080/",
          "height": 69
        }
      },
      "source": [
        "print(X.shape)\n",
        "print(y.shape)\n",
        "print(w.shape)"
      ],
      "execution_count": 12,
      "outputs": [
        {
          "output_type": "stream",
          "text": [
            "(10000, 1)\n",
            "(10000,)\n",
            "(1,)\n"
          ],
          "name": "stdout"
        }
      ]
    },
    {
      "cell_type": "code",
      "metadata": {
        "id": "go6hbWDAuEfp",
        "colab_type": "code",
        "outputId": "7eb499fc-2e4b-46a5-928f-33362bd1d1fe",
        "colab": {
          "base_uri": "https://localhost:8080/",
          "height": 52
        }
      },
      "source": [
        "print(type(X))\n",
        "print(type(w))"
      ],
      "execution_count": 13,
      "outputs": [
        {
          "output_type": "stream",
          "text": [
            "<class 'numpy.ndarray'>\n",
            "<class 'numpy.ndarray'>\n"
          ],
          "name": "stdout"
        }
      ]
    },
    {
      "cell_type": "code",
      "metadata": {
        "id": "yt3ghC0xt1oF",
        "colab_type": "code",
        "outputId": "24309d4a-636c-4948-a7aa-8386e5e337e7",
        "colab": {
          "base_uri": "https://localhost:8080/",
          "height": 265
        }
      },
      "source": [
        "y_predicted = w.dot(X.transpose())\n",
        "plt.scatter(X,y)\n",
        "plt.plot(X,y_predicted, 'r', 5)\n",
        "plt.show()"
      ],
      "execution_count": 14,
      "outputs": [
        {
          "output_type": "display_data",
          "data": {
            "image/png": "[encoded data removed]",
            "text/plain": [
              "<Figure size 432x288 with 1 Axes>"
            ]
          },
          "metadata": {
            "tags": [],
            "needs_background": "light"
          }
        }
      ]
    },
    {
      "cell_type": "markdown",
      "metadata": {
        "id": "_EyZ4qEClXaf",
        "colab_type": "text"
      },
      "source": [
        "## Evaluate Regression"
      ]
    },
    {
      "cell_type": "code",
      "metadata": {
        "id": "7D8JIQ9jlcIm",
        "colab_type": "code",
        "colab": {
          "base_uri": "https://localhost:8080/",
          "height": 265
        },
        "outputId": "964d6f5b-b97c-4f72-d957-4000b8a1c3df"
      },
      "source": [
        "y_pred = model.predict(X_test).flatten()\n",
        "plt.scatter(X_test, y_test)\n",
        "plt.plot(X_test, y_pred, 'r')\n",
        "plt.show()"
      ],
      "execution_count": 25,
      "outputs": [
        {
          "output_type": "display_data",
          "data": {
            "image/png": "[encoded data removed]",
            "text/plain": [
              "<Figure size 432x288 with 1 Axes>"
            ]
          },
          "metadata": {
            "tags": [],
            "needs_background": "light"
          }
        }
      ]
    },
    {
      "cell_type": "code",
      "metadata": {
        "id": "mS6BTzg-mRpg",
        "colab_type": "code",
        "colab": {
          "base_uri": "https://localhost:8080/",
          "height": 35
        },
        "outputId": "4a313a96-7651-495a-cf22-f55206070475"
      },
      "source": [
        "from sklearn.metrics import mean_absolute_error\n",
        "mae = mean_absolute_error(y_test, y_pred)\n",
        "print(mae)"
      ],
      "execution_count": 26,
      "outputs": [
        {
          "output_type": "stream",
          "text": [
            "57.773892862866845\n"
          ],
          "name": "stdout"
        }
      ]
    },
    {
      "cell_type": "code",
      "metadata": {
        "id": "KIn4O9dGnBa2",
        "colab_type": "code",
        "colab": {
          "base_uri": "https://localhost:8080/",
          "height": 35
        },
        "outputId": "e561d3c4-9a9c-4398-fe50-5b7eb82743a4"
      },
      "source": [
        "from sklearn.metrics import mean_squared_error\n",
        "mse = mean_squared_error(y_test, y_pred)\n",
        "print(mse)"
      ],
      "execution_count": 27,
      "outputs": [
        {
          "output_type": "stream",
          "text": [
            "5222.140755657213\n"
          ],
          "name": "stdout"
        }
      ]
    },
    {
      "cell_type": "code",
      "metadata": {
        "id": "LuietUFpEG5a",
        "colab_type": "code",
        "outputId": "1c27e638-106d-4b67-8a16-bb2ce04258e9",
        "colab": {
          "base_uri": "https://localhost:8080/",
          "height": 87
        }
      },
      "source": [
        "print(\"Train eval: \", model.evaluate(X_train, y_train))\n",
        "print(\"Test eval: \", model.evaluate(X_test, y_test))\n"
      ],
      "execution_count": 22,
      "outputs": [
        {
          "output_type": "stream",
          "text": [
            "250/250 [==============================] - 0s 1ms/step - loss: 5142.3340 - mse: 5142.3340\n",
            "Train eval:  [5142.333984375, 5142.333984375]\n",
            "63/63 [==============================] - 0s 1ms/step - loss: 5222.1406 - mse: 5222.1406\n",
            "Test eval:  [5222.140625, 5222.140625]\n"
          ],
          "name": "stdout"
        }
      ]
    }
  ]
}