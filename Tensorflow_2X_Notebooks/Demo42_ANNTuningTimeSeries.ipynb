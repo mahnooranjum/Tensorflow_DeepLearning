{
  "nbformat": 4,
  "nbformat_minor": 0,
  "metadata": {
    "colab": {
      "name": "Demo42_ANNTuningTimeSeries.ipynb",
      "provenance": [],
      "collapsed_sections": []
    },
    "kernelspec": {
      "name": "python3",
      "display_name": "Python 3"
    },
    "accelerator": "GPU"
  },
  "cells": [
    {
      "cell_type": "markdown",
      "metadata": {
        "id": "P9bJCDjdlgG6",
        "colab_type": "text"
      },
      "source": [
        "# **Spit some [tensor] flow**\n",
        "\n",
        "We need to learn the intricacies of tensorflow to master deep learning\n",
        "\n",
        "`Let's get this over with`\n",
        "\n"
      ]
    },
    {
      "cell_type": "code",
      "metadata": {
        "id": "aQwc0re5mFld",
        "colab_type": "code",
        "outputId": "a23ab6ef-534d-411d-edce-a25eb192caca",
        "colab": {
          "base_uri": "https://localhost:8080/",
          "height": 34
        }
      },
      "source": [
        "import numpy as np\n",
        "import pandas as pd\n",
        "import matplotlib.pyplot as plt\n",
        "import tensorflow as tf\n",
        "import cv2\n",
        "print(tf.__version__)"
      ],
      "execution_count": 0,
      "outputs": [
        {
          "output_type": "stream",
          "text": [
            "2.2.0\n"
          ],
          "name": "stdout"
        }
      ]
    },
    {
      "cell_type": "markdown",
      "metadata": {
        "id": "tkC_gv6Zdn1J",
        "colab_type": "text"
      },
      "source": [
        "## We already have \n",
        "\n",
        "N = Number of Samples\n",
        "D = Number of features or the dimensions \n",
        "\n",
        "How will we represent the time-axis? By T\n",
        "\n",
        "\n",
        "Our dataset will not be N x D now, it will be N x T x D \n",
        "\n",
        "In TF and Keras, we usually deal with equal length sequences. Let's talk about:\n",
        "\n",
        "## Stocks\n",
        "\n",
        "We have one stock price so D = 1\n",
        "\n",
        "To have a signal where D is greater than 1, we must have different inputs, e.g., GPS longitude and latitude \n",
        "\n",
        "T will give us the window size of area-of-interest. This is the area we look at, to predict the next value\n",
        "\n",
        "N will be the number of windows in the time series\n",
        "\n",
        "Thus, for a sequence of length L and a window size of T, we have N = L - T + 1\n",
        "\n",
        "What if we have D=200, i.e., we are looking at 200 stock prices at the same time\n",
        "\n",
        "Window size = T \n",
        "Stocks we watch = D \n",
        "Sample size = T x D \n",
        "\n",
        "Total samples = N = L - T + 1\n",
        "\n",
        "We need data to be N x T x D because this is the pythonista staandard! \n",
        "\n",
        "We use N x D for tabular data and N x H x W x C for images; N always corresponds to the samples, D is always the number of features, H is the height, W the width and C the channels; they can either be colors, or the # of feature maps in between CNN layers\n",
        "\n"
      ]
    },
    {
      "cell_type": "markdown",
      "metadata": {
        "id": "6tN13ctykite",
        "colab_type": "text"
      },
      "source": [
        "## Forecasting \n",
        "\n",
        "Forecasting refers to the prediction of next values in the time series. The length of prediction is the horizon i.e., if I want to predict the weather every 2 hours for the next 5 days; I will get a horizon of 5 * 24 = 120 ---> 120/2 = 60 steps\n",
        "\n",
        "\n",
        "## Total windows \n",
        "\n",
        "For length L 10 \n",
        "\n",
        "Window size T 4\n",
        "\n",
        "N = L - T + 1\n",
        "\n",
        "N = 10 - 4 + 1\n",
        "\n",
        "N = 6 + 1\n",
        "\n",
        "N = 7\n",
        "\n",
        "Let's check them out! \n",
        "\n",
        "1 2 3 4 5 6 7 8 9 10 -------> Full sequence\n",
        "\n",
        "```\n",
        "1 2 3 4 -----> 1\n",
        "\n",
        "  2 3 4 5 -----> 2\n",
        "\n",
        "    3 4 5 6 -----> 3\n",
        "\n",
        "      4 5 6 7 -----> 4\n",
        "\n",
        "        5 6 7 8 -----> 5\n",
        "\n",
        "          6 7 8 9 -----> 6\n",
        "\n",
        "            7 8 9 10 -----> 7\n",
        "```\n",
        "But wait a minute, isn't 10 the sample number we are using as the Y variable? We can not use that, thus total number of windows = L - T =  10 - 4 = 6\n"
      ]
    },
    {
      "cell_type": "markdown",
      "metadata": {
        "id": "0KL1p_roy9zM",
        "colab_type": "text"
      },
      "source": [
        "## How do we predict the time series? \n",
        "\n",
        "Well now we're going to go into the details of the implementation; \n",
        "\n",
        "```\n",
        "x_pred_t = w0 + w1 * x_t-1 + w2 * x_t-2 + w3 * x_t-3 + w4 * x_t-4\n",
        "\n",
        "x_pred_t+1 = w0 + w1 * x_pred_t + w2 * x_t-1 + w3 * x_t-2 + w4 * x_t-3\n",
        "```\n",
        "\n",
        "This is an autoregressive model now. \n",
        "\n",
        "```\n",
        "x_pred_5 = w0 + w1 * x_4 + w2 * x_3 + w3 * x_2 + w4 * x_1\n",
        "\n",
        "x_pred_6 = w0 + w1 * x_pred_5 + w2 * x_4 + w3 * x_3 + w4 * x_2\n",
        "\n",
        "```\n"
      ]
    },
    {
      "cell_type": "code",
      "metadata": {
        "id": "CaBxIWkog_i-",
        "colab_type": "code",
        "colab": {}
      },
      "source": [
        "from tensorflow.keras.layers import Input, Dropout, Dense\n",
        "from tensorflow.keras.models import Model\n",
        "from tensorflow.keras.optimizers import SGD, Adam, Adamax"
      ],
      "execution_count": 0,
      "outputs": []
    },
    {
      "cell_type": "markdown",
      "metadata": {
        "id": "ofiCPRlY3MUV",
        "colab_type": "text"
      },
      "source": [
        "## Let's get some synthetic data"
      ]
    },
    {
      "cell_type": "code",
      "metadata": {
        "id": "PKsiBvQv3PKy",
        "colab_type": "code",
        "outputId": "95c528e8-5fdc-440d-e0eb-383a71661850",
        "colab": {
          "base_uri": "https://localhost:8080/",
          "height": 295
        }
      },
      "source": [
        "n = 501\n",
        "x = 0.1 * np.arange(1,n)\n",
        "data = np.cos(x) + np.random.randn(n-1) * 0.1\n",
        "\n",
        "# Visualising the dataset\n",
        "plt.plot(x, data, color = 'red')\n",
        "plt.title('X Plot')\n",
        "plt.xlabel('X')\n",
        "plt.ylabel('y')\n",
        "plt.show()\n"
      ],
      "execution_count": 0,
      "outputs": [
        {
          "output_type": "display_data",
          "data": {
            "image/png": "[encoded data removed]",
            "text/plain": [
              "<Figure size 432x288 with 1 Axes>"
            ]
          },
          "metadata": {
            "tags": [],
            "needs_background": "light"
          }
        }
      ]
    },
    {
      "cell_type": "code",
      "metadata": {
        "id": "7FMT9DUV_mzN",
        "colab_type": "code",
        "outputId": "71bf76b4-3df6-4428-cb92-4bd35728bd82",
        "colab": {
          "base_uri": "https://localhost:8080/",
          "height": 68
        }
      },
      "source": [
        "T = 40\n",
        "X = []\n",
        "y = []\n",
        "print(len(data))  \n",
        "print(\"The last sample would be: 500 - 10 = \" + str((len(data)-T)) )\n",
        "print(\"BUT data[1000] can not be used! so, we must go from 1 to 979 \")"
      ],
      "execution_count": 0,
      "outputs": [
        {
          "output_type": "stream",
          "text": [
            "500\n",
            "The last sample would be: 500 - 10 = 460\n",
            "BUT data[1000] can not be used! so, we must go from 1 to 979 \n"
          ],
          "name": "stdout"
        }
      ]
    },
    {
      "cell_type": "code",
      "metadata": {
        "id": "s6NII-fuCTkl",
        "colab_type": "code",
        "colab": {}
      },
      "source": [
        "for i in range(len(data) - T):\n",
        "  x = data[i:i+T]\n",
        "  X.append(x)\n",
        "  y_temp = data[i+T]\n",
        "  y.append(y_temp)"
      ],
      "execution_count": 0,
      "outputs": []
    },
    {
      "cell_type": "code",
      "metadata": {
        "id": "0nB4lR65DC9i",
        "colab_type": "code",
        "colab": {}
      },
      "source": [
        "X = np.array(X)\n",
        "y = np.array(y)"
      ],
      "execution_count": 0,
      "outputs": []
    },
    {
      "cell_type": "code",
      "metadata": {
        "id": "j6TzIr6pC8C5",
        "colab_type": "code",
        "outputId": "d7dfdd7c-71ac-4119-e527-d3131d1523fe",
        "colab": {
          "base_uri": "https://localhost:8080/",
          "height": 51
        }
      },
      "source": [
        "print(X.shape)\n",
        "print(y.shape)\n",
        "\n",
        "N, T = X.shape"
      ],
      "execution_count": 0,
      "outputs": [
        {
          "output_type": "stream",
          "text": [
            "(460, 40)\n",
            "(460,)\n"
          ],
          "name": "stdout"
        }
      ]
    },
    {
      "cell_type": "code",
      "metadata": {
        "id": "9Ob8G90SDwfb",
        "colab_type": "code",
        "colab": {}
      },
      "source": [
        "i_layer = Input(shape = (T, ))\n",
        "o_layer = Dense(1)(i_layer)\n",
        "model = Model(i_layer, o_layer)\n",
        "model.compile(loss = 'mse',\n",
        "              optimizer = Adam(lr = 0.3))"
      ],
      "execution_count": 0,
      "outputs": []
    },
    {
      "cell_type": "code",
      "metadata": {
        "id": "A936E2iuElkz",
        "colab_type": "code",
        "outputId": "9593df91-63ce-405f-c1f3-82518c4792c9",
        "colab": {
          "base_uri": "https://localhost:8080/",
          "height": 1000
        }
      },
      "source": [
        "index = -N//4\n",
        "report = model.fit(X[:index], y[:index], epochs=100, validation_data=(X[index:], y[index:]))"
      ],
      "execution_count": 0,
      "outputs": [
        {
          "output_type": "stream",
          "text": [
            "Epoch 1/100\n",
            "11/11 [==============================] - 0s 7ms/step - loss: 8.6135 - val_loss: 6.3333\n",
            "Epoch 2/100\n",
            "11/11 [==============================] - 0s 4ms/step - loss: 2.3468 - val_loss: 1.5458\n",
            "Epoch 3/100\n",
            "11/11 [==============================] - 0s 4ms/step - loss: 0.8625 - val_loss: 0.1157\n",
            "Epoch 4/100\n",
            "11/11 [==============================] - 0s 4ms/step - loss: 0.3940 - val_loss: 0.0839\n",
            "Epoch 5/100\n",
            "11/11 [==============================] - 0s 4ms/step - loss: 0.1502 - val_loss: 0.0534\n",
            "Epoch 6/100\n",
            "11/11 [==============================] - 0s 4ms/step - loss: 0.0878 - val_loss: 0.0468\n",
            "Epoch 7/100\n",
            "11/11 [==============================] - 0s 4ms/step - loss: 0.0589 - val_loss: 0.0286\n",
            "Epoch 8/100\n",
            "11/11 [==============================] - 0s 4ms/step - loss: 0.0349 - val_loss: 0.0232\n",
            "Epoch 9/100\n",
            "11/11 [==============================] - 0s 4ms/step - loss: 0.0218 - val_loss: 0.0187\n",
            "Epoch 10/100\n",
            "11/11 [==============================] - 0s 4ms/step - loss: 0.0201 - val_loss: 0.0185\n",
            "Epoch 11/100\n",
            "11/11 [==============================] - 0s 4ms/step - loss: 0.0199 - val_loss: 0.0179\n",
            "Epoch 12/100\n",
            "11/11 [==============================] - 0s 4ms/step - loss: 0.0194 - val_loss: 0.0162\n",
            "Epoch 13/100\n",
            "11/11 [==============================] - 0s 4ms/step - loss: 0.0175 - val_loss: 0.0170\n",
            "Epoch 14/100\n",
            "11/11 [==============================] - 0s 4ms/step - loss: 0.0161 - val_loss: 0.0164\n",
            "Epoch 15/100\n",
            "11/11 [==============================] - 0s 4ms/step - loss: 0.0146 - val_loss: 0.0166\n",
            "Epoch 16/100\n",
            "11/11 [==============================] - 0s 4ms/step - loss: 0.0154 - val_loss: 0.0167\n",
            "Epoch 17/100\n",
            "11/11 [==============================] - 0s 4ms/step - loss: 0.0155 - val_loss: 0.0134\n",
            "Epoch 18/100\n",
            "11/11 [==============================] - 0s 4ms/step - loss: 0.0146 - val_loss: 0.0157\n",
            "Epoch 19/100\n",
            "11/11 [==============================] - 0s 4ms/step - loss: 0.0143 - val_loss: 0.0133\n",
            "Epoch 20/100\n",
            "11/11 [==============================] - 0s 4ms/step - loss: 0.0133 - val_loss: 0.0122\n",
            "Epoch 21/100\n",
            "11/11 [==============================] - 0s 4ms/step - loss: 0.0129 - val_loss: 0.0191\n",
            "Epoch 22/100\n",
            "11/11 [==============================] - 0s 4ms/step - loss: 0.0178 - val_loss: 0.0170\n",
            "Epoch 23/100\n",
            "11/11 [==============================] - 0s 4ms/step - loss: 0.0134 - val_loss: 0.0145\n",
            "Epoch 24/100\n",
            "11/11 [==============================] - 0s 4ms/step - loss: 0.0160 - val_loss: 0.0163\n",
            "Epoch 25/100\n",
            "11/11 [==============================] - 0s 4ms/step - loss: 0.0136 - val_loss: 0.0115\n",
            "Epoch 26/100\n",
            "11/11 [==============================] - 0s 4ms/step - loss: 0.0171 - val_loss: 0.0126\n",
            "Epoch 27/100\n",
            "11/11 [==============================] - 0s 4ms/step - loss: 0.0240 - val_loss: 0.0445\n",
            "Epoch 28/100\n",
            "11/11 [==============================] - 0s 4ms/step - loss: 0.0408 - val_loss: 0.0330\n",
            "Epoch 29/100\n",
            "11/11 [==============================] - 0s 4ms/step - loss: 0.0315 - val_loss: 0.0143\n",
            "Epoch 30/100\n",
            "11/11 [==============================] - 0s 4ms/step - loss: 0.0191 - val_loss: 0.0130\n",
            "Epoch 31/100\n",
            "11/11 [==============================] - 0s 5ms/step - loss: 0.0248 - val_loss: 0.0219\n",
            "Epoch 32/100\n",
            "11/11 [==============================] - 0s 4ms/step - loss: 0.0183 - val_loss: 0.0116\n",
            "Epoch 33/100\n",
            "11/11 [==============================] - 0s 4ms/step - loss: 0.0121 - val_loss: 0.0133\n",
            "Epoch 34/100\n",
            "11/11 [==============================] - 0s 4ms/step - loss: 0.0126 - val_loss: 0.0134\n",
            "Epoch 35/100\n",
            "11/11 [==============================] - 0s 4ms/step - loss: 0.0183 - val_loss: 0.0175\n",
            "Epoch 36/100\n",
            "11/11 [==============================] - 0s 4ms/step - loss: 0.0248 - val_loss: 0.0315\n",
            "Epoch 37/100\n",
            "11/11 [==============================] - 0s 4ms/step - loss: 0.0170 - val_loss: 0.0117\n",
            "Epoch 38/100\n",
            "11/11 [==============================] - 0s 4ms/step - loss: 0.0113 - val_loss: 0.0123\n",
            "Epoch 39/100\n",
            "11/11 [==============================] - 0s 4ms/step - loss: 0.0114 - val_loss: 0.0116\n",
            "Epoch 40/100\n",
            "11/11 [==============================] - 0s 4ms/step - loss: 0.0127 - val_loss: 0.0141\n",
            "Epoch 41/100\n",
            "11/11 [==============================] - 0s 4ms/step - loss: 0.0153 - val_loss: 0.0165\n",
            "Epoch 42/100\n",
            "11/11 [==============================] - 0s 4ms/step - loss: 0.0135 - val_loss: 0.0166\n",
            "Epoch 43/100\n",
            "11/11 [==============================] - 0s 4ms/step - loss: 0.0231 - val_loss: 0.0168\n",
            "Epoch 44/100\n",
            "11/11 [==============================] - 0s 4ms/step - loss: 0.0281 - val_loss: 0.0186\n",
            "Epoch 45/100\n",
            "11/11 [==============================] - 0s 4ms/step - loss: 0.0215 - val_loss: 0.0198\n",
            "Epoch 46/100\n",
            "11/11 [==============================] - 0s 5ms/step - loss: 0.0150 - val_loss: 0.0157\n",
            "Epoch 47/100\n",
            "11/11 [==============================] - 0s 4ms/step - loss: 0.0175 - val_loss: 0.0122\n",
            "Epoch 48/100\n",
            "11/11 [==============================] - 0s 4ms/step - loss: 0.0244 - val_loss: 0.0493\n",
            "Epoch 49/100\n",
            "11/11 [==============================] - 0s 4ms/step - loss: 0.0292 - val_loss: 0.0201\n",
            "Epoch 50/100\n",
            "11/11 [==============================] - 0s 4ms/step - loss: 0.0225 - val_loss: 0.0207\n",
            "Epoch 51/100\n",
            "11/11 [==============================] - 0s 4ms/step - loss: 0.0209 - val_loss: 0.0367\n",
            "Epoch 52/100\n",
            "11/11 [==============================] - 0s 4ms/step - loss: 0.0160 - val_loss: 0.0142\n",
            "Epoch 53/100\n",
            "11/11 [==============================] - 0s 4ms/step - loss: 0.0114 - val_loss: 0.0287\n",
            "Epoch 54/100\n",
            "11/11 [==============================] - 0s 4ms/step - loss: 0.0199 - val_loss: 0.0155\n",
            "Epoch 55/100\n",
            "11/11 [==============================] - 0s 4ms/step - loss: 0.0166 - val_loss: 0.0143\n",
            "Epoch 56/100\n",
            "11/11 [==============================] - 0s 4ms/step - loss: 0.0159 - val_loss: 0.0213\n",
            "Epoch 57/100\n",
            "11/11 [==============================] - 0s 4ms/step - loss: 0.0226 - val_loss: 0.0362\n",
            "Epoch 58/100\n",
            "11/11 [==============================] - 0s 4ms/step - loss: 0.0235 - val_loss: 0.0158\n",
            "Epoch 59/100\n",
            "11/11 [==============================] - 0s 4ms/step - loss: 0.0236 - val_loss: 0.0132\n",
            "Epoch 60/100\n",
            "11/11 [==============================] - 0s 4ms/step - loss: 0.0373 - val_loss: 0.0189\n",
            "Epoch 61/100\n",
            "11/11 [==============================] - 0s 4ms/step - loss: 0.0157 - val_loss: 0.0130\n",
            "Epoch 62/100\n",
            "11/11 [==============================] - 0s 4ms/step - loss: 0.0159 - val_loss: 0.0214\n",
            "Epoch 63/100\n",
            "11/11 [==============================] - 0s 4ms/step - loss: 0.0153 - val_loss: 0.0127\n",
            "Epoch 64/100\n",
            "11/11 [==============================] - 0s 4ms/step - loss: 0.0142 - val_loss: 0.0181\n",
            "Epoch 65/100\n",
            "11/11 [==============================] - 0s 4ms/step - loss: 0.0249 - val_loss: 0.0156\n",
            "Epoch 66/100\n",
            "11/11 [==============================] - 0s 4ms/step - loss: 0.0250 - val_loss: 0.0318\n",
            "Epoch 67/100\n",
            "11/11 [==============================] - 0s 5ms/step - loss: 0.0237 - val_loss: 0.0178\n",
            "Epoch 68/100\n",
            "11/11 [==============================] - 0s 4ms/step - loss: 0.0225 - val_loss: 0.0378\n",
            "Epoch 69/100\n",
            "11/11 [==============================] - 0s 4ms/step - loss: 0.0323 - val_loss: 0.0406\n",
            "Epoch 70/100\n",
            "11/11 [==============================] - 0s 4ms/step - loss: 0.0262 - val_loss: 0.0267\n",
            "Epoch 71/100\n",
            "11/11 [==============================] - 0s 4ms/step - loss: 0.0589 - val_loss: 0.0168\n",
            "Epoch 72/100\n",
            "11/11 [==============================] - 0s 4ms/step - loss: 0.0690 - val_loss: 0.1617\n",
            "Epoch 73/100\n",
            "11/11 [==============================] - 0s 4ms/step - loss: 0.1382 - val_loss: 0.1217\n",
            "Epoch 74/100\n",
            "11/11 [==============================] - 0s 4ms/step - loss: 0.0672 - val_loss: 0.0536\n",
            "Epoch 75/100\n",
            "11/11 [==============================] - 0s 4ms/step - loss: 0.0676 - val_loss: 0.0350\n",
            "Epoch 76/100\n",
            "11/11 [==============================] - 0s 4ms/step - loss: 0.0379 - val_loss: 0.0423\n",
            "Epoch 77/100\n",
            "11/11 [==============================] - 0s 4ms/step - loss: 0.0851 - val_loss: 0.2537\n",
            "Epoch 78/100\n",
            "11/11 [==============================] - 0s 4ms/step - loss: 0.1084 - val_loss: 0.0867\n",
            "Epoch 79/100\n",
            "11/11 [==============================] - 0s 4ms/step - loss: 0.0341 - val_loss: 0.0224\n",
            "Epoch 80/100\n",
            "11/11 [==============================] - 0s 4ms/step - loss: 0.0321 - val_loss: 0.0510\n",
            "Epoch 81/100\n",
            "11/11 [==============================] - 0s 4ms/step - loss: 0.0383 - val_loss: 0.0227\n",
            "Epoch 82/100\n",
            "11/11 [==============================] - 0s 4ms/step - loss: 0.0270 - val_loss: 0.0228\n",
            "Epoch 83/100\n",
            "11/11 [==============================] - 0s 4ms/step - loss: 0.0171 - val_loss: 0.0143\n",
            "Epoch 84/100\n",
            "11/11 [==============================] - 0s 4ms/step - loss: 0.0127 - val_loss: 0.0277\n",
            "Epoch 85/100\n",
            "11/11 [==============================] - 0s 4ms/step - loss: 0.0268 - val_loss: 0.0299\n",
            "Epoch 86/100\n",
            "11/11 [==============================] - 0s 4ms/step - loss: 0.0262 - val_loss: 0.0278\n",
            "Epoch 87/100\n",
            "11/11 [==============================] - 0s 4ms/step - loss: 0.0272 - val_loss: 0.0138\n",
            "Epoch 88/100\n",
            "11/11 [==============================] - 0s 5ms/step - loss: 0.0231 - val_loss: 0.0136\n",
            "Epoch 89/100\n",
            "11/11 [==============================] - 0s 4ms/step - loss: 0.0220 - val_loss: 0.0201\n",
            "Epoch 90/100\n",
            "11/11 [==============================] - 0s 4ms/step - loss: 0.0272 - val_loss: 0.0334\n",
            "Epoch 91/100\n",
            "11/11 [==============================] - 0s 4ms/step - loss: 0.0334 - val_loss: 0.0210\n",
            "Epoch 92/100\n",
            "11/11 [==============================] - 0s 4ms/step - loss: 0.0284 - val_loss: 0.0349\n",
            "Epoch 93/100\n",
            "11/11 [==============================] - 0s 4ms/step - loss: 0.0185 - val_loss: 0.0239\n",
            "Epoch 94/100\n",
            "11/11 [==============================] - 0s 4ms/step - loss: 0.0289 - val_loss: 0.0259\n",
            "Epoch 95/100\n",
            "11/11 [==============================] - 0s 4ms/step - loss: 0.0503 - val_loss: 0.0182\n",
            "Epoch 96/100\n",
            "11/11 [==============================] - 0s 4ms/step - loss: 0.0148 - val_loss: 0.0301\n",
            "Epoch 97/100\n",
            "11/11 [==============================] - 0s 4ms/step - loss: 0.0166 - val_loss: 0.0180\n",
            "Epoch 98/100\n",
            "11/11 [==============================] - 0s 4ms/step - loss: 0.0172 - val_loss: 0.0320\n",
            "Epoch 99/100\n",
            "11/11 [==============================] - 0s 4ms/step - loss: 0.0293 - val_loss: 0.0191\n",
            "Epoch 100/100\n",
            "11/11 [==============================] - 0s 4ms/step - loss: 0.0128 - val_loss: 0.0124\n"
          ],
          "name": "stdout"
        }
      ]
    },
    {
      "cell_type": "code",
      "metadata": {
        "id": "8xVbWzu2BTjT",
        "colab_type": "code",
        "outputId": "e5587182-de45-4bee-da90-f1a2461da685",
        "colab": {
          "base_uri": "https://localhost:8080/",
          "height": 282
        }
      },
      "source": [
        "plt.plot(report.history['loss'], label='training_loss')\n",
        "plt.plot(report.history['val_loss'], label='validation_loss')\n",
        "plt.legend()"
      ],
      "execution_count": 0,
      "outputs": [
        {
          "output_type": "execute_result",
          "data": {
            "text/plain": [
              "<matplotlib.legend.Legend at 0x7fb239223b00>"
            ]
          },
          "metadata": {
            "tags": []
          },
          "execution_count": 235
        },
        {
          "output_type": "display_data",
          "data": {
            "image/png": "[encoded data removed]",
            "text/plain": [
              "<Figure size 432x288 with 1 Axes>"
            ]
          },
          "metadata": {
            "tags": [],
            "needs_background": "light"
          }
        }
      ]
    },
    {
      "cell_type": "code",
      "metadata": {
        "id": "IuarNdxvFvEW",
        "colab_type": "code",
        "colab": {}
      },
      "source": [
        "y_test = y[index:]\n",
        "y_pred = []"
      ],
      "execution_count": 0,
      "outputs": []
    },
    {
      "cell_type": "code",
      "metadata": {
        "id": "qWRNknWnF3U4",
        "colab_type": "code",
        "colab": {}
      },
      "source": [
        "X_end = X[index]\n",
        "while len(y_pred) < len(y_test):\n",
        "  pred = model.predict(X_end.reshape(1, -1))[0,0]\n",
        "  y_pred.append(pred)\n",
        "  X_end = np.roll(X_end, -1)\n",
        "  X_end[-1] = pred"
      ],
      "execution_count": 0,
      "outputs": []
    },
    {
      "cell_type": "code",
      "metadata": {
        "id": "i8dR2ZYJHt_A",
        "colab_type": "code",
        "outputId": "8b0945c7-8b73-49e8-9542-99fc2a7cbb8f",
        "colab": {
          "base_uri": "https://localhost:8080/",
          "height": 51
        }
      },
      "source": [
        "print(len(y_pred))\n",
        "print(len(y_test))"
      ],
      "execution_count": 0,
      "outputs": [
        {
          "output_type": "stream",
          "text": [
            "115\n",
            "115\n"
          ],
          "name": "stdout"
        }
      ]
    },
    {
      "cell_type": "code",
      "metadata": {
        "id": "ckP1_2XYHi0h",
        "colab_type": "code",
        "outputId": "d3f2702b-8756-4589-9377-048ee03cc74f",
        "colab": {
          "base_uri": "https://localhost:8080/",
          "height": 282
        }
      },
      "source": [
        "plt.plot(y_test, label='y_test')\n",
        "plt.plot(y_pred, label='y_pred')\n",
        "plt.legend()"
      ],
      "execution_count": 0,
      "outputs": [
        {
          "output_type": "execute_result",
          "data": {
            "text/plain": [
              "<matplotlib.legend.Legend at 0x7fb2372ccba8>"
            ]
          },
          "metadata": {
            "tags": []
          },
          "execution_count": 239
        },
        {
          "output_type": "display_data",
          "data": {
            "image/png": "[encoded data removed]",
            "text/plain": [
              "<Figure size 432x288 with 1 Axes>"
            ]
          },
          "metadata": {
            "tags": [],
            "needs_background": "light"
          }
        }
      ]
    }
  ]
}