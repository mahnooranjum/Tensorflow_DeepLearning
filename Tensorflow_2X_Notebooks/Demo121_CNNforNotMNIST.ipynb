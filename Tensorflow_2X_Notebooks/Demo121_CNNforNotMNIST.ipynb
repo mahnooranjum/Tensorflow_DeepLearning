{
  "nbformat": 4,
  "nbformat_minor": 0,
  "metadata": {
    "colab": {
      "name": "Demo121_CNNforNotMNIST.ipynb",
      "provenance": [],
      "collapsed_sections": []
    },
    "kernelspec": {
      "name": "python3",
      "display_name": "Python 3"
    }
  },
  "cells": [
    {
      "cell_type": "markdown",
      "metadata": {
        "id": "P9bJCDjdlgG6",
        "colab_type": "text"
      },
      "source": [
        "# **Spit some [tensor] flow**\n",
        "\n",
        "We need to learn the intricacies of tensorflow to master deep learning\n",
        "\n",
        "`Let's get this over with`\n",
        "\n",
        "## We'll take over the NotMNIST dataset and use a basic ANN to classify the digits"
      ]
    },
    {
      "cell_type": "code",
      "metadata": {
        "id": "aQwc0re5mFld",
        "colab_type": "code",
        "outputId": "6b3ae9d1-d611-4aea-8599-262f9ab01ae6",
        "colab": {
          "base_uri": "https://localhost:8080/",
          "height": 35
        }
      },
      "source": [
        "import numpy as np\n",
        "import pandas as pd\n",
        "import matplotlib.pyplot as plt\n",
        "import tensorflow as tf\n",
        "print(tf.__version__)"
      ],
      "execution_count": 1,
      "outputs": [
        {
          "output_type": "stream",
          "text": [
            "2.2.0\n"
          ],
          "name": "stdout"
        }
      ]
    },
    {
      "cell_type": "code",
      "metadata": {
        "id": "snz824BefAC-",
        "colab_type": "code",
        "colab": {}
      },
      "source": [
        "from tensorflow.keras.layers import Input, Dense, Dropout, Flatten, Conv2D\n",
        "from tensorflow.keras.models import Model\n",
        "from tensorflow.keras.optimizers import SGD, Adam\n",
        "from tensorflow.keras.preprocessing import image\n",
        "from tensorflow.keras.preprocessing.image import ImageDataGenerator\n",
        "from glob import glob\n",
        "import sys, os\n"
      ],
      "execution_count": 0,
      "outputs": []
    },
    {
      "cell_type": "code",
      "metadata": {
        "id": "qyw8HvOuBEZm",
        "colab_type": "code",
        "outputId": "1988974b-3d48-4152-cd67-af3ee2180fef",
        "colab": {
          "base_uri": "https://localhost:8080/",
          "height": 399
        }
      },
      "source": [
        "!wget http://yaroslavvb.com/upload/notMNIST/notMNIST_large.tar.gz\n",
        "!wget http://yaroslavvb.com/upload/notMNIST/notMNIST_small.tar.gz"
      ],
      "execution_count": 3,
      "outputs": [
        {
          "output_type": "stream",
          "text": [
            "--2020-06-02 17:52:36--  http://yaroslavvb.com/upload/notMNIST/notMNIST_large.tar.gz\n",
            "Resolving yaroslavvb.com (yaroslavvb.com)... 129.121.4.193\n",
            "Connecting to yaroslavvb.com (yaroslavvb.com)|129.121.4.193|:80... connected.\n",
            "HTTP request sent, awaiting response... 200 OK\n",
            "Length: 247336696 (236M) [application/x-gzip]\n",
            "Saving to: ‘notMNIST_large.tar.gz’\n",
            "\n",
            "notMNIST_large.tar. 100%[===================>] 235.88M  94.9MB/s    in 2.5s    \n",
            "\n",
            "2020-06-02 17:52:38 (94.9 MB/s) - ‘notMNIST_large.tar.gz’ saved [247336696/247336696]\n",
            "\n",
            "--2020-06-02 17:52:40--  http://yaroslavvb.com/upload/notMNIST/notMNIST_small.tar.gz\n",
            "Resolving yaroslavvb.com (yaroslavvb.com)... 129.121.4.193\n",
            "Connecting to yaroslavvb.com (yaroslavvb.com)|129.121.4.193|:80... connected.\n",
            "HTTP request sent, awaiting response... 200 OK\n",
            "Length: 8458043 (8.1M) [application/x-gzip]\n",
            "Saving to: ‘notMNIST_small.tar.gz’\n",
            "\n",
            "notMNIST_small.tar. 100%[===================>]   8.07M  32.8MB/s    in 0.2s    \n",
            "\n",
            "2020-06-02 17:52:40 (32.8 MB/s) - ‘notMNIST_small.tar.gz’ saved [8458043/8458043]\n",
            "\n"
          ],
          "name": "stdout"
        }
      ]
    },
    {
      "cell_type": "code",
      "metadata": {
        "id": "DXPaWBYPZlJj",
        "colab_type": "code",
        "outputId": "6785838b-83c6-44d1-ce30-6bf992ccad15",
        "colab": {
          "base_uri": "https://localhost:8080/",
          "height": 35
        }
      },
      "source": [
        "!ls "
      ],
      "execution_count": 4,
      "outputs": [
        {
          "output_type": "stream",
          "text": [
            "notMNIST_large.tar.gz  notMNIST_small.tar.gz  sample_data\n"
          ],
          "name": "stdout"
        }
      ]
    },
    {
      "cell_type": "code",
      "metadata": {
        "id": "lpuwJ23ka6Ia",
        "colab_type": "code",
        "colab": {}
      },
      "source": [
        "!tar -xzf notMNIST_large.tar.gz\n",
        "!tar -xzf notMNIST_small.tar.gz"
      ],
      "execution_count": 0,
      "outputs": []
    },
    {
      "cell_type": "code",
      "metadata": {
        "id": "l4oJJRlna--w",
        "colab_type": "code",
        "outputId": "8d032b66-51bd-488f-f587-ed8e10433b4e",
        "colab": {
          "base_uri": "https://localhost:8080/",
          "height": 52
        }
      },
      "source": [
        "!ls"
      ],
      "execution_count": 6,
      "outputs": [
        {
          "output_type": "stream",
          "text": [
            "notMNIST_large\t       notMNIST_small\t      sample_data\n",
            "notMNIST_large.tar.gz  notMNIST_small.tar.gz\n"
          ],
          "name": "stdout"
        }
      ]
    },
    {
      "cell_type": "code",
      "metadata": {
        "id": "SMfQgVANd2Yk",
        "colab_type": "code",
        "outputId": "a3fbbd9f-082b-400f-876d-ff8b56bf4926",
        "colab": {
          "base_uri": "https://localhost:8080/",
          "height": 35
        }
      },
      "source": [
        "!ls notMNIST_large"
      ],
      "execution_count": 7,
      "outputs": [
        {
          "output_type": "stream",
          "text": [
            "A  B  C  D  E  F  G  H\tI  J\n"
          ],
          "name": "stdout"
        }
      ]
    },
    {
      "cell_type": "code",
      "metadata": {
        "id": "1J1uBpp4emAn",
        "colab_type": "code",
        "outputId": "e1088aeb-3ae5-44bf-f182-3b815f686b0f",
        "colab": {
          "base_uri": "https://localhost:8080/",
          "height": 35
        }
      },
      "source": [
        "!ls notMNIST_small"
      ],
      "execution_count": 8,
      "outputs": [
        {
          "output_type": "stream",
          "text": [
            "A  B  C  D  E  F  G  H\tI  J\n"
          ],
          "name": "stdout"
        }
      ]
    },
    {
      "cell_type": "code",
      "metadata": {
        "id": "CKkrOs4NeoLF",
        "colab_type": "code",
        "colab": {}
      },
      "source": [
        "path = 'notMNIST_large'\n",
        "path_val = 'notMNIST_small'"
      ],
      "execution_count": 0,
      "outputs": []
    },
    {
      "cell_type": "code",
      "metadata": {
        "id": "E4OgFqA6ezQH",
        "colab_type": "code",
        "outputId": "ec28a4e3-1f35-4dac-fcbf-a48ae4ce0224",
        "colab": {
          "base_uri": "https://localhost:8080/",
          "height": 265
        }
      },
      "source": [
        "plt.imshow(image.load_img(path + '/A/ZGVhckpvZSBJdGFsaWMudHRm.png'))\n",
        "plt.show()"
      ],
      "execution_count": 10,
      "outputs": [
        {
          "output_type": "display_data",
          "data": {
            "image/png": "[encoded data removed]",
            "text/plain": [
              "<Figure size 432x288 with 1 Axes>"
            ]
          },
          "metadata": {
            "tags": [],
            "needs_background": "light"
          }
        }
      ]
    },
    {
      "cell_type": "code",
      "metadata": {
        "id": "PS8lVPWffQQ4",
        "colab_type": "code",
        "colab": {}
      },
      "source": [
        "IMAGE_SIZE = [28,28]\n",
        "train_images = glob(path + '/*/*.png')\n",
        "validation_images = glob(path_val + '/*/*.png')"
      ],
      "execution_count": 0,
      "outputs": []
    },
    {
      "cell_type": "code",
      "metadata": {
        "id": "A_fO2L3Sstdr",
        "colab_type": "code",
        "colab": {}
      },
      "source": [
        "# Number of classes \n",
        "classes = glob(path + '/*')"
      ],
      "execution_count": 0,
      "outputs": []
    },
    {
      "cell_type": "code",
      "metadata": {
        "id": "rM2ItewLfaPL",
        "colab_type": "code",
        "outputId": "fdcc4e71-d235-4aa6-d655-6e493718258f",
        "colab": {
          "base_uri": "https://localhost:8080/",
          "height": 55
        }
      },
      "source": [
        "print(classes)"
      ],
      "execution_count": 13,
      "outputs": [
        {
          "output_type": "stream",
          "text": [
            "['notMNIST_large/J', 'notMNIST_large/D', 'notMNIST_large/I', 'notMNIST_large/A', 'notMNIST_large/G', 'notMNIST_large/B', 'notMNIST_large/E', 'notMNIST_large/H', 'notMNIST_large/F', 'notMNIST_large/C']\n"
          ],
          "name": "stdout"
        }
      ]
    },
    {
      "cell_type": "code",
      "metadata": {
        "id": "dnbVz_5ffdIJ",
        "colab_type": "code",
        "outputId": "bc37800d-3d14-4067-eab6-91af584a4f92",
        "colab": {
          "base_uri": "https://localhost:8080/",
          "height": 265
        }
      },
      "source": [
        "plt.imshow(image.load_img(np.random.choice(train_images)))\n",
        "plt.show()"
      ],
      "execution_count": 14,
      "outputs": [
        {
          "output_type": "display_data",
          "data": {
            "image/png": "[encoded data removed]",
            "text/plain": [
              "<Figure size 432x288 with 1 Axes>"
            ]
          },
          "metadata": {
            "tags": [],
            "needs_background": "light"
          }
        }
      ]
    },
    {
      "cell_type": "code",
      "metadata": {
        "id": "IUyMIfMwfgQn",
        "colab_type": "code",
        "outputId": "416278ff-7e51-4ef8-e6c0-5e13b8669e8a",
        "colab": {
          "base_uri": "https://localhost:8080/",
          "height": 265
        }
      },
      "source": [
        "plt.imshow(image.load_img(np.random.choice(validation_images)))\n",
        "plt.show()"
      ],
      "execution_count": 15,
      "outputs": [
        {
          "output_type": "display_data",
          "data": {
            "image/png": "[encoded data removed]",
            "text/plain": [
              "<Figure size 432x288 with 1 Axes>"
            ]
          },
          "metadata": {
            "tags": [],
            "needs_background": "light"
          }
        }
      ]
    },
    {
      "cell_type": "code",
      "metadata": {
        "id": "ojdaDUeot7A5",
        "colab_type": "code",
        "colab": {}
      },
      "source": [
        "sample = image.load_img(np.random.choice(validation_images))"
      ],
      "execution_count": 0,
      "outputs": []
    },
    {
      "cell_type": "code",
      "metadata": {
        "id": "LMiK7RcLt8zg",
        "colab_type": "code",
        "outputId": "5a48d5f8-6a01-422e-d4fb-621c8f6baf33",
        "colab": {
          "base_uri": "https://localhost:8080/",
          "height": 35
        }
      },
      "source": [
        "type(sample)"
      ],
      "execution_count": 17,
      "outputs": [
        {
          "output_type": "execute_result",
          "data": {
            "text/plain": [
              "PIL.Image.Image"
            ]
          },
          "metadata": {
            "tags": []
          },
          "execution_count": 17
        }
      ]
    },
    {
      "cell_type": "code",
      "metadata": {
        "id": "X9qESpzyuFH_",
        "colab_type": "code",
        "outputId": "a201e0d9-6a5b-4ace-be6b-5c50f15086b5",
        "colab": {
          "base_uri": "https://localhost:8080/",
          "height": 35
        }
      },
      "source": [
        "sample.size"
      ],
      "execution_count": 18,
      "outputs": [
        {
          "output_type": "execute_result",
          "data": {
            "text/plain": [
              "(28, 28)"
            ]
          },
          "metadata": {
            "tags": []
          },
          "execution_count": 18
        }
      ]
    },
    {
      "cell_type": "code",
      "metadata": {
        "id": "3h6ftCh8gDEM",
        "colab_type": "code",
        "colab": {}
      },
      "source": [
        "Y = len(classes)"
      ],
      "execution_count": 0,
      "outputs": []
    },
    {
      "cell_type": "code",
      "metadata": {
        "id": "uo0LLj7Blkn5",
        "colab_type": "code",
        "outputId": "3d68c034-ec9f-4335-80e9-7200c525f04f",
        "colab": {
          "base_uri": "https://localhost:8080/",
          "height": 35
        }
      },
      "source": [
        "Y"
      ],
      "execution_count": 20,
      "outputs": [
        {
          "output_type": "execute_result",
          "data": {
            "text/plain": [
              "10"
            ]
          },
          "metadata": {
            "tags": []
          },
          "execution_count": 20
        }
      ]
    },
    {
      "cell_type": "code",
      "metadata": {
        "id": "DaHCwEoNglvt",
        "colab_type": "code",
        "outputId": "c1ac4c8e-13d5-41f4-a4a5-ba7480b583ed",
        "colab": {
          "base_uri": "https://localhost:8080/",
          "height": 52
        }
      },
      "source": [
        "print(len(train_images))\n",
        "print(len(validation_images))"
      ],
      "execution_count": 21,
      "outputs": [
        {
          "output_type": "stream",
          "text": [
            "529119\n",
            "18726\n"
          ],
          "name": "stdout"
        }
      ]
    },
    {
      "cell_type": "code",
      "metadata": {
        "id": "VYg5zxDBgiCY",
        "colab_type": "code",
        "colab": {}
      },
      "source": [
        "batch_size = 254"
      ],
      "execution_count": 0,
      "outputs": []
    },
    {
      "cell_type": "code",
      "metadata": {
        "id": "UoS_5Xr_gZOl",
        "colab_type": "code",
        "colab": {}
      },
      "source": [
        "gen_object = ImageDataGenerator(rescale=1.0/255.0)"
      ],
      "execution_count": 0,
      "outputs": []
    },
    {
      "cell_type": "code",
      "metadata": {
        "id": "Ye5Fpqs2idl5",
        "colab_type": "code",
        "colab": {}
      },
      "source": [
        "I_SIZE = IMAGE_SIZE[0] * IMAGE_SIZE[1]"
      ],
      "execution_count": 0,
      "outputs": []
    },
    {
      "cell_type": "code",
      "metadata": {
        "id": "ynH5d94Kig-4",
        "colab_type": "code",
        "outputId": "be20fdbc-8eb7-4b46-e303-e714bbf5c303",
        "colab": {
          "base_uri": "https://localhost:8080/",
          "height": 35
        }
      },
      "source": [
        "print(I_SIZE)"
      ],
      "execution_count": 25,
      "outputs": [
        {
          "output_type": "stream",
          "text": [
            "784\n"
          ],
          "name": "stdout"
        }
      ]
    },
    {
      "cell_type": "code",
      "metadata": {
        "id": "Dabkac9UgID1",
        "colab_type": "code",
        "outputId": "3148f16a-f22b-42f7-d529-0422a99c5103",
        "colab": {
          "base_uri": "https://localhost:8080/",
          "height": 52
        }
      },
      "source": [
        "train_generator = gen_object.flow_from_directory(path, target_size=IMAGE_SIZE, batch_size=1, color_mode=\"grayscale\", shuffle=True)\n",
        "validation_generator = gen_object.flow_from_directory(path_val, target_size=IMAGE_SIZE, batch_size=1,color_mode=\"grayscale\",  shuffle=True)"
      ],
      "execution_count": 26,
      "outputs": [
        {
          "output_type": "stream",
          "text": [
            "Found 529119 images belonging to 10 classes.\n",
            "Found 18726 images belonging to 10 classes.\n"
          ],
          "name": "stdout"
        }
      ]
    },
    {
      "cell_type": "code",
      "metadata": {
        "id": "ucXwF7c9hAFR",
        "colab_type": "code",
        "colab": {}
      },
      "source": [
        "N = len(train_images)\n",
        "N_val = len(validation_images)\n"
      ],
      "execution_count": 0,
      "outputs": []
    },
    {
      "cell_type": "code",
      "metadata": {
        "id": "oalQ5QEvu1oQ",
        "colab_type": "code",
        "outputId": "828bc83c-4c19-4f3b-d603-7d3f59c597a1",
        "colab": {
          "base_uri": "https://localhost:8080/",
          "height": 35
        }
      },
      "source": [
        "train_generator[1][0].shape"
      ],
      "execution_count": 28,
      "outputs": [
        {
          "output_type": "execute_result",
          "data": {
            "text/plain": [
              "(1, 28, 28, 1)"
            ]
          },
          "metadata": {
            "tags": []
          },
          "execution_count": 28
        }
      ]
    },
    {
      "cell_type": "code",
      "metadata": {
        "id": "Ky2Ip2_cwMnZ",
        "colab_type": "code",
        "outputId": "1b66e067-1767-4fe4-efd5-054dab936b2b",
        "colab": {
          "base_uri": "https://localhost:8080/",
          "height": 283
        }
      },
      "source": [
        "plt.imshow(train_generator[10][0].reshape(28,28))"
      ],
      "execution_count": 29,
      "outputs": [
        {
          "output_type": "execute_result",
          "data": {
            "text/plain": [
              "<matplotlib.image.AxesImage at 0x7feedcf9b6d8>"
            ]
          },
          "metadata": {
            "tags": []
          },
          "execution_count": 29
        },
        {
          "output_type": "display_data",
          "data": {
            "image/png": "[encoded data removed]",
            "text/plain": [
              "<Figure size 432x288 with 1 Axes>"
            ]
          },
          "metadata": {
            "tags": [],
            "needs_background": "light"
          }
        }
      ]
    },
    {
      "cell_type": "code",
      "metadata": {
        "id": "BIm5U1SotZL5",
        "colab_type": "code",
        "outputId": "a6cbbf79-e134-4c66-abf0-309e1a8dea28",
        "colab": {
          "base_uri": "https://localhost:8080/",
          "height": 35
        }
      },
      "source": [
        "train_generator[1][1].shape"
      ],
      "execution_count": 30,
      "outputs": [
        {
          "output_type": "execute_result",
          "data": {
            "text/plain": [
              "(1, 10)"
            ]
          },
          "metadata": {
            "tags": []
          },
          "execution_count": 30
        }
      ]
    },
    {
      "cell_type": "code",
      "metadata": {
        "id": "9v9owT-1u4iJ",
        "colab_type": "code",
        "outputId": "9757a9df-556b-4e3f-f507-023ab925e387",
        "colab": {
          "base_uri": "https://localhost:8080/",
          "height": 35
        }
      },
      "source": [
        "len(train_generator)"
      ],
      "execution_count": 31,
      "outputs": [
        {
          "output_type": "execute_result",
          "data": {
            "text/plain": [
              "529119"
            ]
          },
          "metadata": {
            "tags": []
          },
          "execution_count": 31
        }
      ]
    },
    {
      "cell_type": "code",
      "metadata": {
        "id": "BPItH4x5vbr5",
        "colab_type": "code",
        "colab": {}
      },
      "source": [
        "X_train = np.zeros((N, 28, 28))\n",
        "y_train = np.zeros((N, Y))"
      ],
      "execution_count": 0,
      "outputs": []
    },
    {
      "cell_type": "code",
      "metadata": {
        "id": "OGtMeXBbymkc",
        "colab_type": "code",
        "outputId": "6d884a0c-1060-486e-85d1-414e56c12273",
        "colab": {
          "base_uri": "https://localhost:8080/",
          "height": 35
        }
      },
      "source": [
        "X_train.shape"
      ],
      "execution_count": 33,
      "outputs": [
        {
          "output_type": "execute_result",
          "data": {
            "text/plain": [
              "(529119, 28, 28)"
            ]
          },
          "metadata": {
            "tags": []
          },
          "execution_count": 33
        }
      ]
    },
    {
      "cell_type": "code",
      "metadata": {
        "id": "6aiz-H9fsy9g",
        "colab_type": "code",
        "colab": {}
      },
      "source": [
        "k = 0\n",
        "while k != N:\n",
        "  try:\n",
        "    i = np.random.randint(0, N)\n",
        "    X_train[k,:] = train_generator[i][0].reshape(28,28)\n",
        "    y_train[k,:] = train_generator[i][1]\n",
        "    k+=1\n",
        "  except:\n",
        "    pass\n"
      ],
      "execution_count": 0,
      "outputs": []
    },
    {
      "cell_type": "code",
      "metadata": {
        "id": "vsbf2EJtzJz_",
        "colab_type": "code",
        "outputId": "67e72a65-7b32-49dc-81f1-e507eb3928b3",
        "colab": {
          "base_uri": "https://localhost:8080/",
          "height": 35
        }
      },
      "source": [
        "y_train[0]"
      ],
      "execution_count": 35,
      "outputs": [
        {
          "output_type": "execute_result",
          "data": {
            "text/plain": [
              "array([1., 0., 0., 0., 0., 0., 0., 0., 0., 0.])"
            ]
          },
          "metadata": {
            "tags": []
          },
          "execution_count": 35
        }
      ]
    },
    {
      "cell_type": "code",
      "metadata": {
        "id": "4TyHrYeXy1gd",
        "colab_type": "code",
        "outputId": "204a69d3-15a1-43f3-e794-9e80b1257a07",
        "colab": {
          "base_uri": "https://localhost:8080/",
          "height": 121
        }
      },
      "source": [
        "X_train[0, 0]"
      ],
      "execution_count": 36,
      "outputs": [
        {
          "output_type": "execute_result",
          "data": {
            "text/plain": [
              "array([0.        , 0.        , 0.        , 0.        , 0.        ,\n",
              "       0.        , 0.        , 0.        , 0.        , 0.        ,\n",
              "       0.        , 0.        , 0.        , 0.        , 0.        ,\n",
              "       0.        , 0.        , 0.00392157, 0.00784314, 0.        ,\n",
              "       0.17254902, 0.59607846, 0.85490203, 0.96470594, 0.91372555,\n",
              "       0.4784314 , 0.        , 0.        ])"
            ]
          },
          "metadata": {
            "tags": []
          },
          "execution_count": 36
        }
      ]
    },
    {
      "cell_type": "code",
      "metadata": {
        "id": "cpC86rU3vmp4",
        "colab_type": "code",
        "outputId": "1fbf9ca8-7028-484a-d270-a3c997bf0218",
        "colab": {
          "base_uri": "https://localhost:8080/",
          "height": 35
        }
      },
      "source": [
        "X_train.shape"
      ],
      "execution_count": 37,
      "outputs": [
        {
          "output_type": "execute_result",
          "data": {
            "text/plain": [
              "(529119, 28, 28)"
            ]
          },
          "metadata": {
            "tags": []
          },
          "execution_count": 37
        }
      ]
    },
    {
      "cell_type": "code",
      "metadata": {
        "id": "87XAlOjLvoso",
        "colab_type": "code",
        "outputId": "6bbaea11-20d7-40a0-8b14-05e0f1dad896",
        "colab": {
          "base_uri": "https://localhost:8080/",
          "height": 35
        }
      },
      "source": [
        "y_train.shape"
      ],
      "execution_count": 38,
      "outputs": [
        {
          "output_type": "execute_result",
          "data": {
            "text/plain": [
              "(529119, 10)"
            ]
          },
          "metadata": {
            "tags": []
          },
          "execution_count": 38
        }
      ]
    },
    {
      "cell_type": "code",
      "metadata": {
        "id": "cjl-Ji_pwX3-",
        "colab_type": "code",
        "outputId": "a61adef7-d8df-49cf-91fa-c234da510a67",
        "colab": {
          "base_uri": "https://localhost:8080/",
          "height": 283
        }
      },
      "source": [
        "plt.imshow(X_train[10].reshape(28,28))"
      ],
      "execution_count": 39,
      "outputs": [
        {
          "output_type": "execute_result",
          "data": {
            "text/plain": [
              "<matplotlib.image.AxesImage at 0x7feedca2c278>"
            ]
          },
          "metadata": {
            "tags": []
          },
          "execution_count": 39
        },
        {
          "output_type": "display_data",
          "data": {
            "image/png": "[encoded data removed]",
            "text/plain": [
              "<Figure size 432x288 with 1 Axes>"
            ]
          },
          "metadata": {
            "tags": [],
            "needs_background": "light"
          }
        }
      ]
    },
    {
      "cell_type": "code",
      "metadata": {
        "id": "JfIJkNUYJEEc",
        "colab_type": "code",
        "colab": {
          "base_uri": "https://localhost:8080/",
          "height": 35
        },
        "outputId": "07c5b4c2-2215-4838-cbc0-66d76baff359"
      },
      "source": [
        "X_train.shape"
      ],
      "execution_count": 40,
      "outputs": [
        {
          "output_type": "execute_result",
          "data": {
            "text/plain": [
              "(529119, 28, 28)"
            ]
          },
          "metadata": {
            "tags": []
          },
          "execution_count": 40
        }
      ]
    },
    {
      "cell_type": "code",
      "metadata": {
        "id": "UPupKYKJ0153",
        "colab_type": "code",
        "colab": {}
      },
      "source": [
        "X_test = np.zeros((N_val, 28, 28))\n",
        "y_test = np.zeros((N_val, Y))"
      ],
      "execution_count": 0,
      "outputs": []
    },
    {
      "cell_type": "code",
      "metadata": {
        "id": "6CiwUBBE0uag",
        "colab_type": "code",
        "colab": {}
      },
      "source": [
        "k = 0\n",
        "while k != N_val:\n",
        "  try:\n",
        "    i = np.random.randint(0, N_val)\n",
        "    X_test[k,:] = validation_generator[i][0].reshape(28,28)\n",
        "    y_test[k,:] = validation_generator[i][1]\n",
        "    k+=1\n",
        "  except:\n",
        "    pass\n"
      ],
      "execution_count": 0,
      "outputs": []
    },
    {
      "cell_type": "code",
      "metadata": {
        "id": "t_NAZwnOAeoo",
        "colab_type": "code",
        "outputId": "a5dd7598-49d0-4b9f-9cfb-1eec6a134365",
        "colab": {
          "base_uri": "https://localhost:8080/",
          "height": 35
        }
      },
      "source": [
        "X_test.shape"
      ],
      "execution_count": 43,
      "outputs": [
        {
          "output_type": "execute_result",
          "data": {
            "text/plain": [
              "(18726, 28, 28)"
            ]
          },
          "metadata": {
            "tags": []
          },
          "execution_count": 43
        }
      ]
    },
    {
      "cell_type": "code",
      "metadata": {
        "id": "tUL9bMtIAgpm",
        "colab_type": "code",
        "outputId": "14b39c2f-904f-46b6-a268-4a797d9de8c5",
        "colab": {
          "base_uri": "https://localhost:8080/",
          "height": 35
        }
      },
      "source": [
        "X_train.shape"
      ],
      "execution_count": 44,
      "outputs": [
        {
          "output_type": "execute_result",
          "data": {
            "text/plain": [
              "(529119, 28, 28)"
            ]
          },
          "metadata": {
            "tags": []
          },
          "execution_count": 44
        }
      ]
    },
    {
      "cell_type": "code",
      "metadata": {
        "id": "6GHV6ySnAqu_",
        "colab_type": "code",
        "outputId": "40fb2547-115e-4b47-9b5d-c5faa3b315ce",
        "colab": {
          "base_uri": "https://localhost:8080/",
          "height": 35
        }
      },
      "source": [
        "X_test.shape"
      ],
      "execution_count": 45,
      "outputs": [
        {
          "output_type": "execute_result",
          "data": {
            "text/plain": [
              "(18726, 28, 28)"
            ]
          },
          "metadata": {
            "tags": []
          },
          "execution_count": 45
        }
      ]
    },
    {
      "cell_type": "code",
      "metadata": {
        "id": "nWPuiHK9Ar4f",
        "colab_type": "code",
        "outputId": "2c4d9fd3-5ff6-48e3-95a8-4b4998cf69c2",
        "colab": {
          "base_uri": "https://localhost:8080/",
          "height": 35
        }
      },
      "source": [
        "y_train.shape"
      ],
      "execution_count": 46,
      "outputs": [
        {
          "output_type": "execute_result",
          "data": {
            "text/plain": [
              "(529119, 10)"
            ]
          },
          "metadata": {
            "tags": []
          },
          "execution_count": 46
        }
      ]
    },
    {
      "cell_type": "code",
      "metadata": {
        "id": "LS5I2wOeAvBO",
        "colab_type": "code",
        "outputId": "b84a6a32-066a-4d3b-8c3d-87cf70f0ff5f",
        "colab": {
          "base_uri": "https://localhost:8080/",
          "height": 35
        }
      },
      "source": [
        "y_test.shape"
      ],
      "execution_count": 47,
      "outputs": [
        {
          "output_type": "execute_result",
          "data": {
            "text/plain": [
              "(18726, 10)"
            ]
          },
          "metadata": {
            "tags": []
          },
          "execution_count": 47
        }
      ]
    },
    {
      "cell_type": "code",
      "metadata": {
        "id": "LH1egc3LKTrk",
        "colab_type": "code",
        "colab": {}
      },
      "source": [
        "X_train = np.expand_dims(X_train, -1)\n",
        "X_test = np.expand_dims(X_test, -1)"
      ],
      "execution_count": 0,
      "outputs": []
    },
    {
      "cell_type": "code",
      "metadata": {
        "id": "Cmt0Zek_EQmI",
        "colab_type": "code",
        "colab": {}
      },
      "source": [
        "input_shape = X_train[0].shape"
      ],
      "execution_count": 0,
      "outputs": []
    },
    {
      "cell_type": "code",
      "metadata": {
        "id": "TUaQRCs1Jcmv",
        "colab_type": "code",
        "colab": {
          "base_uri": "https://localhost:8080/",
          "height": 35
        },
        "outputId": "b69d4357-cf0a-440e-c7b0-d3442d0e49f8"
      },
      "source": [
        "print(input_shape)"
      ],
      "execution_count": 50,
      "outputs": [
        {
          "output_type": "stream",
          "text": [
            "(28, 28, 1)\n"
          ],
          "name": "stdout"
        }
      ]
    },
    {
      "cell_type": "code",
      "metadata": {
        "id": "2PGHMmndhxfa",
        "colab_type": "code",
        "colab": {}
      },
      "source": [
        "i_layer = Input(shape = input_shape)\n",
        "h_layer = Conv2D(32, (3,3), strides = 2, activation='relu')(i_layer)\n",
        "h_layer = Conv2D(64, (3,3), strides = 2, activation='relu')(h_layer)\n",
        "h_layer = Flatten()(h_layer)\n",
        "h_layer = Dropout(0.4)(h_layer)\n",
        "h_layer = Dense(128, activation='relu')(h_layer)\n",
        "h_layer = Dropout(0.4)(h_layer)\n",
        "o_layer = Dense(Y, activation='softmax')(h_layer)\n",
        "\n",
        "model = Model(i_layer, o_layer)"
      ],
      "execution_count": 0,
      "outputs": []
    },
    {
      "cell_type": "code",
      "metadata": {
        "id": "rsDKDP41nW2Z",
        "colab_type": "code",
        "outputId": "47de41f9-c7ef-4eb7-f70e-f202c177ed24",
        "colab": {
          "base_uri": "https://localhost:8080/",
          "height": 433
        }
      },
      "source": [
        "model.summary()"
      ],
      "execution_count": 52,
      "outputs": [
        {
          "output_type": "stream",
          "text": [
            "Model: \"model\"\n",
            "_________________________________________________________________\n",
            "Layer (type)                 Output Shape              Param #   \n",
            "=================================================================\n",
            "input_1 (InputLayer)         [(None, 28, 28, 1)]       0         \n",
            "_________________________________________________________________\n",
            "conv2d (Conv2D)              (None, 13, 13, 32)        320       \n",
            "_________________________________________________________________\n",
            "conv2d_1 (Conv2D)            (None, 6, 6, 64)          18496     \n",
            "_________________________________________________________________\n",
            "flatten (Flatten)            (None, 2304)              0         \n",
            "_________________________________________________________________\n",
            "dropout (Dropout)            (None, 2304)              0         \n",
            "_________________________________________________________________\n",
            "dense (Dense)                (None, 128)               295040    \n",
            "_________________________________________________________________\n",
            "dropout_1 (Dropout)          (None, 128)               0         \n",
            "_________________________________________________________________\n",
            "dense_1 (Dense)              (None, 10)                1290      \n",
            "=================================================================\n",
            "Total params: 315,146\n",
            "Trainable params: 315,146\n",
            "Non-trainable params: 0\n",
            "_________________________________________________________________\n"
          ],
          "name": "stdout"
        }
      ]
    },
    {
      "cell_type": "code",
      "metadata": {
        "id": "bYip2sQaNiNI",
        "colab_type": "code",
        "colab": {}
      },
      "source": [
        "model.compile(\n",
        "    optimizer='adam',\n",
        "    loss='categorical_crossentropy',\n",
        "    metrics=['accuracy'])"
      ],
      "execution_count": 0,
      "outputs": []
    },
    {
      "cell_type": "code",
      "metadata": {
        "id": "tEsZnuikNwv3",
        "colab_type": "code",
        "outputId": "e5a0b88f-9a68-4732-eada-b8c31dd061a1",
        "colab": {
          "base_uri": "https://localhost:8080/",
          "height": 35
        }
      },
      "source": [
        "report = model.fit(X_train, y_train, validation_data=(X_test, y_test), epochs = 1)"
      ],
      "execution_count": 54,
      "outputs": [
        {
          "output_type": "stream",
          "text": [
            "16535/16535 [==============================] - 229s 14ms/step - loss: 0.4216 - accuracy: 0.8733 - val_loss: 0.1376 - val_accuracy: 0.9619\n"
          ],
          "name": "stdout"
        }
      ]
    },
    {
      "cell_type": "code",
      "metadata": {
        "id": "LuietUFpEG5a",
        "colab_type": "code",
        "outputId": "8eb207b6-fbaf-4f79-9e7d-d2b1d16e599a",
        "colab": {
          "base_uri": "https://localhost:8080/",
          "height": 87
        }
      },
      "source": [
        "print(\"Train eval: \", model.evaluate(X_train, y_train))\n",
        "print(\"Test eval: \", model.evaluate(X_test, y_test))\n"
      ],
      "execution_count": 55,
      "outputs": [
        {
          "output_type": "stream",
          "text": [
            "16535/16535 [==============================] - 63s 4ms/step - loss: 0.2875 - accuracy: 0.9125\n",
            "Train eval:  [0.287466824054718, 0.9124563932418823]\n",
            "586/586 [==============================] - 2s 4ms/step - loss: 0.1376 - accuracy: 0.9619\n",
            "Test eval:  [0.1375988870859146, 0.9619246125221252]\n"
          ],
          "name": "stdout"
        }
      ]
    },
    {
      "cell_type": "code",
      "metadata": {
        "id": "OWba2a1fPZtn",
        "colab_type": "code",
        "colab": {}
      },
      "source": [
        "y_pred = model.predict(X_test).argmax(axis=1)"
      ],
      "execution_count": 0,
      "outputs": []
    },
    {
      "cell_type": "code",
      "metadata": {
        "id": "4MH550mZPdjG",
        "colab_type": "code",
        "outputId": "d1ca9f56-ccac-4f4e-a272-86169379ed68",
        "colab": {
          "base_uri": "https://localhost:8080/",
          "height": 52
        }
      },
      "source": [
        "print(y_test.shape)\n",
        "print(y_pred.shape)"
      ],
      "execution_count": 63,
      "outputs": [
        {
          "output_type": "stream",
          "text": [
            "(18726,)\n",
            "(18726,)\n"
          ],
          "name": "stdout"
        }
      ]
    },
    {
      "cell_type": "code",
      "metadata": {
        "id": "4TVvUj8ROdNP",
        "colab_type": "code",
        "outputId": "43cbb1ff-0d74-46bc-bec9-36e580b4cb25",
        "colab": {
          "base_uri": "https://localhost:8080/",
          "height": 580
        }
      },
      "source": [
        "from sklearn.metrics import confusion_matrix\n",
        "import itertools\n",
        "cm = confusion_matrix(y_test, y_pred)\n",
        "\n",
        "plt.figure(figsize=(10,10))\n",
        "plt.imshow(cm, cmap=plt.cm.Blues)\n",
        "for i,j in itertools.product(range(cm.shape[0]), range(cm.shape[1])):\n",
        "  plt.text(j, i, format(cm[i,j], 'd'),\n",
        "           horizontalalignment = 'center',\n",
        "           color='black')\n",
        "plt.xlabel(\"Predicted labels\")\n",
        "plt.ylabel(\"True labels\")\n",
        "plt.xticks(list(range(10)))\n",
        "plt.yticks(list(range(10)))\n",
        "plt.title('Confusion matrix')\n",
        "plt.colorbar()\n",
        "plt.show()\n"
      ],
      "execution_count": 65,
      "outputs": [
        {
          "output_type": "display_data",
          "data": {
            "image/png": "[encoded data removed]",
            "text/plain": [
              "<Figure size 720x720 with 2 Axes>"
            ]
          },
          "metadata": {
            "tags": [],
            "needs_background": "light"
          }
        }
      ]
    },
    {
      "cell_type": "code",
      "metadata": {
        "id": "g8YuWtRqGDG1",
        "colab_type": "code",
        "colab": {}
      },
      "source": [
        "labels = \"A,B,C,D,E,F,G,H,I,J\".split(\",\")"
      ],
      "execution_count": 0,
      "outputs": []
    },
    {
      "cell_type": "code",
      "metadata": {
        "id": "4O2RlW9QTgEq",
        "colab_type": "code",
        "outputId": "15a624e3-9a67-4760-9053-8f016cefcb05",
        "colab": {
          "base_uri": "https://localhost:8080/",
          "height": 299
        }
      },
      "source": [
        "misshits = np.where(y_pred!=y_test)[0]\n",
        "index = np.random.choice(misshits)\n",
        "plt.imshow(X_test[index].reshape(28,28), cmap='gray')\n",
        "plt.title(\"Predicted = \" + str(labels[y_pred[index]]) + \", Real = \" + str(labels[y_test[index]]))"
      ],
      "execution_count": 68,
      "outputs": [
        {
          "output_type": "execute_result",
          "data": {
            "text/plain": [
              "Text(0.5, 1.0, 'Predicted = A, Real = G')"
            ]
          },
          "metadata": {
            "tags": []
          },
          "execution_count": 68
        },
        {
          "output_type": "display_data",
          "data": {
            "image/png": "[encoded data removed]",
            "text/plain": [
              "<Figure size 432x288 with 1 Axes>"
            ]
          },
          "metadata": {
            "tags": [],
            "needs_background": "light"
          }
        }
      ]
    }
  ]
}