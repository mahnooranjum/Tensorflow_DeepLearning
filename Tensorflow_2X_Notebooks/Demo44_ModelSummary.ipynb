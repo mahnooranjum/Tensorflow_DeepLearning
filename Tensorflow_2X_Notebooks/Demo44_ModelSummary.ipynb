{
  "nbformat": 4,
  "nbformat_minor": 0,
  "metadata": {
    "colab": {
      "name": "Demo44_ModelSummary.ipynb",
      "provenance": [],
      "collapsed_sections": []
    },
    "kernelspec": {
      "name": "python3",
      "display_name": "Python 3"
    },
    "accelerator": "GPU"
  },
  "cells": [
    {
      "cell_type": "markdown",
      "metadata": {
        "id": "P9bJCDjdlgG6",
        "colab_type": "text"
      },
      "source": [
        "# **Spit some [tensor] flow**\n",
        "\n",
        "We need to learn the intricacies of tensorflow to master deep learning\n",
        "\n",
        "`Let's get this over with`\n",
        "\n"
      ]
    },
    {
      "cell_type": "code",
      "metadata": {
        "id": "aQwc0re5mFld",
        "colab_type": "code",
        "outputId": "f7053593-e334-4b39-81a1-57f14400744d",
        "colab": {
          "base_uri": "https://localhost:8080/",
          "height": 34
        }
      },
      "source": [
        "import numpy as np\n",
        "import pandas as pd\n",
        "import matplotlib.pyplot as plt\n",
        "import tensorflow as tf\n",
        "import cv2\n",
        "print(tf.__version__)"
      ],
      "execution_count": 3,
      "outputs": [
        {
          "output_type": "stream",
          "text": [
            "2.2.0\n"
          ],
          "name": "stdout"
        }
      ]
    },
    {
      "cell_type": "code",
      "metadata": {
        "id": "CaBxIWkog_i-",
        "colab_type": "code",
        "colab": {}
      },
      "source": [
        "from tensorflow.keras.layers import Input, Dropout, Dense, Flatten, SimpleRNN\n",
        "from tensorflow.keras.models import Model\n",
        "from tensorflow.keras.optimizers import SGD, Adam, Adamax"
      ],
      "execution_count": 0,
      "outputs": []
    },
    {
      "cell_type": "markdown",
      "metadata": {
        "id": "5wqVKh9dA5ty",
        "colab_type": "text"
      },
      "source": [
        "## Let's talk about weights in NN \n",
        "\n",
        "We will use the following notation \n",
        "\n",
        "N = Number of samples in the dataset \n",
        "\n",
        "D = Dimensions of the feature space \n",
        "\n",
        "T = Sequence length or window length \n",
        "\n",
        "U = Number of units in the layer \n",
        "\n",
        "O = Output feature space"
      ]
    },
    {
      "cell_type": "markdown",
      "metadata": {
        "id": "ofiCPRlY3MUV",
        "colab_type": "text"
      },
      "source": [
        "## Let's get some synthetic data"
      ]
    },
    {
      "cell_type": "code",
      "metadata": {
        "id": "PKsiBvQv3PKy",
        "colab_type": "code",
        "colab": {}
      },
      "source": [
        "N = 1\n",
        "T = 5\n",
        "D = 3\n",
        "Y = 2\n",
        "X = np.random.randn(N, T, D)"
      ],
      "execution_count": 0,
      "outputs": []
    },
    {
      "cell_type": "code",
      "metadata": {
        "id": "K1v36LVECRcy",
        "colab_type": "code",
        "colab": {
          "base_uri": "https://localhost:8080/",
          "height": 34
        },
        "outputId": "42229054-0c50-4dbd-c6ae-e78e9bc56904"
      },
      "source": [
        "print(X.shape)"
      ],
      "execution_count": 6,
      "outputs": [
        {
          "output_type": "stream",
          "text": [
            "(1, 5, 3)\n"
          ],
          "name": "stdout"
        }
      ]
    },
    {
      "cell_type": "code",
      "metadata": {
        "id": "mK_lEqfGCWfg",
        "colab_type": "code",
        "colab": {}
      },
      "source": [
        "U = 4\n",
        "i_layer = Input(shape = (T,D))\n",
        "h_layer = SimpleRNN(U, activation='relu')(i_layer)\n",
        "o_layer = Dense(Y)(h_layer)\n",
        "\n",
        "model = Model(i_layer, o_layer)"
      ],
      "execution_count": 0,
      "outputs": []
    },
    {
      "cell_type": "code",
      "metadata": {
        "id": "F9KaD0OQCzGB",
        "colab_type": "code",
        "colab": {
          "base_uri": "https://localhost:8080/",
          "height": 257
        },
        "outputId": "df7d5d60-407b-45a5-e2ba-255cf0a6229c"
      },
      "source": [
        "model.summary()"
      ],
      "execution_count": 10,
      "outputs": [
        {
          "output_type": "stream",
          "text": [
            "Model: \"model\"\n",
            "_________________________________________________________________\n",
            "Layer (type)                 Output Shape              Param #   \n",
            "=================================================================\n",
            "input_2 (InputLayer)         [(None, 5, 3)]            0         \n",
            "_________________________________________________________________\n",
            "simple_rnn_1 (SimpleRNN)     (None, 4)                 32        \n",
            "_________________________________________________________________\n",
            "dense_1 (Dense)              (None, 2)                 10        \n",
            "=================================================================\n",
            "Total params: 42\n",
            "Trainable params: 42\n",
            "Non-trainable params: 0\n",
            "_________________________________________________________________\n"
          ],
          "name": "stdout"
        }
      ]
    },
    {
      "cell_type": "markdown",
      "metadata": {
        "id": "tcweS5MFDUVX",
        "colab_type": "text"
      },
      "source": [
        "## We have 42 trainable parameters? Let's see: \n"
      ]
    },
    {
      "cell_type": "code",
      "metadata": {
        "id": "dwQiNuLHD6Yf",
        "colab_type": "code",
        "colab": {
          "base_uri": "https://localhost:8080/",
          "height": 34
        },
        "outputId": "c0c5bbc1-39bf-44bd-ce5a-cc0a7e370990"
      },
      "source": [
        "len(model.layers[1].get_weights())"
      ],
      "execution_count": 20,
      "outputs": [
        {
          "output_type": "execute_result",
          "data": {
            "text/plain": [
              "3"
            ]
          },
          "metadata": {
            "tags": []
          },
          "execution_count": 20
        }
      ]
    },
    {
      "cell_type": "code",
      "metadata": {
        "id": "SbLH6BitEIJH",
        "colab_type": "code",
        "colab": {
          "base_uri": "https://localhost:8080/",
          "height": 68
        },
        "outputId": "58f50f28-a5a3-4335-b89f-a37aad5fcd6d"
      },
      "source": [
        "# So we have three matrices for weights in the first hidden layer, cool!\n",
        "W1, W2, W3 = model.layers[1].get_weights()\n",
        "print(W1.shape)\n",
        "print(W2.shape)\n",
        "print(W3.shape)"
      ],
      "execution_count": 22,
      "outputs": [
        {
          "output_type": "stream",
          "text": [
            "(3, 4)\n",
            "(4, 4)\n",
            "(4,)\n"
          ],
          "name": "stdout"
        }
      ]
    },
    {
      "cell_type": "code",
      "metadata": {
        "id": "V13PMxJmEc0O",
        "colab_type": "code",
        "colab": {}
      },
      "source": [
        "# Go into the details; we are supposed to have three weights: \n",
        "# Input to hidden = D x U \n",
        "# Hidden to hidden  = U x U \n",
        "# Bias term = Vector (U)"
      ],
      "execution_count": 0,
      "outputs": []
    },
    {
      "cell_type": "code",
      "metadata": {
        "id": "wl980M-7C9Tw",
        "colab_type": "code",
        "colab": {
          "base_uri": "https://localhost:8080/",
          "height": 86
        },
        "outputId": "d7b5b36b-fdfd-4efd-88c9-7defc9ad6fc0"
      },
      "source": [
        "print(\"D*U = \" + str(D*U))\n",
        "print(\"U*U = \" + str(U*U))\n",
        "print(\"U = \" + str(U))\n",
        "print(D*U + U*U + U)"
      ],
      "execution_count": 27,
      "outputs": [
        {
          "output_type": "stream",
          "text": [
            "D*U = 12\n",
            "U*U = 16\n",
            "U = 4\n",
            "32\n"
          ],
          "name": "stdout"
        }
      ]
    },
    {
      "cell_type": "code",
      "metadata": {
        "id": "_obQ1C2gFP-x",
        "colab_type": "code",
        "colab": {
          "base_uri": "https://localhost:8080/",
          "height": 34
        },
        "outputId": "da48c780-ca2a-4821-b2cc-e5f209eb6d42"
      },
      "source": [
        "len(model.layers[2].get_weights())"
      ],
      "execution_count": 28,
      "outputs": [
        {
          "output_type": "execute_result",
          "data": {
            "text/plain": [
              "2"
            ]
          },
          "metadata": {
            "tags": []
          },
          "execution_count": 28
        }
      ]
    },
    {
      "cell_type": "code",
      "metadata": {
        "id": "7YNZ5Fb-FWXW",
        "colab_type": "code",
        "colab": {
          "base_uri": "https://localhost:8080/",
          "height": 51
        },
        "outputId": "98997973-92c9-453e-c035-5e785bb748f0"
      },
      "source": [
        "# So we have two matrices for weights in the last layer, cool!\n",
        "W1, W2 = model.layers[2].get_weights()\n",
        "print(W1.shape)\n",
        "print(W2.shape)"
      ],
      "execution_count": 30,
      "outputs": [
        {
          "output_type": "stream",
          "text": [
            "(4, 2)\n",
            "(2,)\n"
          ],
          "name": "stdout"
        }
      ]
    },
    {
      "cell_type": "code",
      "metadata": {
        "colab_type": "code",
        "outputId": "38c70d7b-94bd-4ac1-93e0-04900f1fb899",
        "id": "ZeajDV7KFoGF",
        "colab": {
          "base_uri": "https://localhost:8080/",
          "height": 68
        }
      },
      "source": [
        "print(\"U*Y = \" + str(U*Y))\n",
        "print(\"Y = \" + str(Y))\n",
        "print(U*Y + Y)"
      ],
      "execution_count": 32,
      "outputs": [
        {
          "output_type": "stream",
          "text": [
            "U*Y = 8\n",
            "Y = 2\n",
            "10\n"
          ],
          "name": "stdout"
        }
      ]
    },
    {
      "cell_type": "code",
      "metadata": {
        "id": "4BEYLtmmFd0u",
        "colab_type": "code",
        "colab": {}
      },
      "source": [
        "# Go into the details; we are supposed to have three weights: \n",
        "# Hidden to output = U x Y \n",
        "# Output bias  = Y "
      ],
      "execution_count": 0,
      "outputs": []
    }
  ]
}