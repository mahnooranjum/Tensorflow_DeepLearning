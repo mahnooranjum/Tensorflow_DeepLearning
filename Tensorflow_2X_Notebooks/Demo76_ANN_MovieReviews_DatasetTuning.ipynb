{
  "nbformat": 4,
  "nbformat_minor": 0,
  "metadata": {
    "colab": {
      "name": "Demo76_ANN_MovieReviews_DatasetTuning.ipynb",
      "provenance": [],
      "collapsed_sections": []
    },
    "kernelspec": {
      "name": "python3",
      "display_name": "Python 3"
    },
    "accelerator": "GPU"
  },
  "cells": [
    {
      "cell_type": "markdown",
      "metadata": {
        "id": "P9bJCDjdlgG6",
        "colab_type": "text"
      },
      "source": [
        "# **Spit some [tensor] flow**\n",
        "\n",
        "We need to learn the intricacies of tensorflow to master deep learning\n",
        "\n",
        "`Let's get this over with`\n",
        "\n"
      ]
    },
    {
      "cell_type": "code",
      "metadata": {
        "id": "aQwc0re5mFld",
        "colab_type": "code",
        "outputId": "2264001f-3bb8-4b73-8340-db497d5a0b11",
        "colab": {
          "base_uri": "https://localhost:8080/",
          "height": 52
        }
      },
      "source": [
        "import numpy as np\n",
        "import pandas as pd\n",
        "import matplotlib.pyplot as plt\n",
        "import tensorflow as tf\n",
        "import keras\n",
        "import cv2\n",
        "print(tf.__version__)"
      ],
      "execution_count": 2,
      "outputs": [
        {
          "output_type": "stream",
          "text": [
            "Using TensorFlow backend.\n"
          ],
          "name": "stderr"
        },
        {
          "output_type": "stream",
          "text": [
            "2.2.0\n"
          ],
          "name": "stdout"
        }
      ]
    },
    {
      "cell_type": "code",
      "metadata": {
        "id": "CaBxIWkog_i-",
        "colab_type": "code",
        "colab": {}
      },
      "source": [
        "from tensorflow.keras.layers import Input, Dropout, Dense, Flatten, SimpleRNN, LSTM, GlobalMaxPooling1D, Embedding\n",
        "from tensorflow.keras.models import Model\n",
        "from tensorflow.keras.optimizers import SGD, Adam, Adamax\n",
        "from tensorflow.keras.preprocessing.text import Tokenizer\n",
        "from tensorflow.keras.preprocessing.sequence import pad_sequences"
      ],
      "execution_count": 0,
      "outputs": []
    },
    {
      "cell_type": "markdown",
      "metadata": {
        "id": "ofiCPRlY3MUV",
        "colab_type": "text"
      },
      "source": [
        "## Let's import the dataset\n"
      ]
    },
    {
      "cell_type": "code",
      "metadata": {
        "id": "ovloe8cp0wpa",
        "colab_type": "code",
        "colab": {}
      },
      "source": [
        "def evaluation_tf(report, y_test, y_pred, classes):\n",
        "  plt.plot(report.history['loss'], label = 'training_loss')\n",
        "  plt.plot(report.history['val_loss'], label = 'validation_loss')\n",
        "  plt.legend()\n",
        "  plt.show()\n",
        "  plt.plot(report.history['accuracy'], label = 'training_accuracy')\n",
        "  plt.plot(report.history['val_accuracy'], label = 'validation_accuracy')\n",
        "  plt.legend()\n",
        "  plt.show()\n"
      ],
      "execution_count": 0,
      "outputs": []
    },
    {
      "cell_type": "code",
      "metadata": {
        "id": "PKsiBvQv3PKy",
        "colab_type": "code",
        "colab": {}
      },
      "source": [
        "from keras.datasets import imdb\n",
        "(X_train, y_train), (X_test, y_test) = imdb.load_data(path=\"imdb.npz\",\n",
        "                                                     num_words=None,\n",
        "                                                     skip_top=0,\n",
        "                                                     maxlen=None)"
      ],
      "execution_count": 0,
      "outputs": []
    },
    {
      "cell_type": "code",
      "metadata": {
        "id": "D3HkUWYLxYnX",
        "colab_type": "code",
        "colab": {
          "base_uri": "https://localhost:8080/",
          "height": 87
        },
        "outputId": "2c74dc28-207e-4a91-8930-4003384ad055"
      },
      "source": [
        "print(X_train.shape)\n",
        "print(X_test.shape)\n",
        "print(y_train.shape)\n",
        "print(y_test.shape)"
      ],
      "execution_count": 6,
      "outputs": [
        {
          "output_type": "stream",
          "text": [
            "(25000,)\n",
            "(25000,)\n",
            "(25000,)\n",
            "(25000,)\n"
          ],
          "name": "stdout"
        }
      ]
    },
    {
      "cell_type": "code",
      "metadata": {
        "id": "wFhGa3XryLfG",
        "colab_type": "code",
        "colab": {
          "base_uri": "https://localhost:8080/",
          "height": 35
        },
        "outputId": "2cb09f8f-ca71-464b-d1cc-0b209345a79d"
      },
      "source": [
        "print(X_train[np.random.randint(0,len(X_train))])"
      ],
      "execution_count": 7,
      "outputs": [
        {
          "output_type": "stream",
          "text": [
            "[1, 12039, 4, 12632, 127, 6, 117, 67102, 5, 6, 20, 91, 3939]\n"
          ],
          "name": "stdout"
        }
      ]
    },
    {
      "cell_type": "code",
      "metadata": {
        "id": "jn9Q5N70zL5V",
        "colab_type": "code",
        "colab": {
          "base_uri": "https://localhost:8080/",
          "height": 35
        },
        "outputId": "f982b88b-a8c7-4689-8dc1-2ad166f45d11"
      },
      "source": [
        "print(set(y_train))"
      ],
      "execution_count": 8,
      "outputs": [
        {
          "output_type": "stream",
          "text": [
            "{0, 1}\n"
          ],
          "name": "stdout"
        }
      ]
    },
    {
      "cell_type": "code",
      "metadata": {
        "id": "RB_v9dryyJu9",
        "colab_type": "code",
        "colab": {
          "base_uri": "https://localhost:8080/",
          "height": 35
        },
        "outputId": "f23cc28f-5506-465b-b105-22fa6ed26417"
      },
      "source": [
        "V = 5000\n",
        "tokenizer = Tokenizer(num_words=V)\n",
        "X_train = tokenizer.sequences_to_matrix(X_train, mode='binary')\n",
        "X_test = tokenizer.sequences_to_matrix(X_test, mode='binary')\n",
        "print(X_train[np.random.randint(0,len(X_train))])"
      ],
      "execution_count": 9,
      "outputs": [
        {
          "output_type": "stream",
          "text": [
            "[0. 1. 0. ... 0. 0. 0.]\n"
          ],
          "name": "stdout"
        }
      ]
    },
    {
      "cell_type": "code",
      "metadata": {
        "id": "kyVWkX8kyzfB",
        "colab_type": "code",
        "colab": {
          "base_uri": "https://localhost:8080/",
          "height": 52
        },
        "outputId": "d67dbd4a-0267-4057-c237-713a0ef5b9b5"
      },
      "source": [
        "print(X_train.shape)\n",
        "print(X_test.shape)"
      ],
      "execution_count": 10,
      "outputs": [
        {
          "output_type": "stream",
          "text": [
            "(25000, 5000)\n",
            "(25000, 5000)\n"
          ],
          "name": "stdout"
        }
      ]
    },
    {
      "cell_type": "code",
      "metadata": {
        "id": "p4Dx83zny-mO",
        "colab_type": "code",
        "colab": {
          "base_uri": "https://localhost:8080/",
          "height": 52
        },
        "outputId": "8b01d0ae-532e-44ed-f1bf-1dc5e251ccc6"
      },
      "source": [
        "classes = len(set(y_train))\n",
        "y_train = keras.utils.to_categorical(y_train, classes)\n",
        "y_test = keras.utils.to_categorical(y_test, classes)\n",
        "print(y_train.shape)\n",
        "print(y_test.shape)"
      ],
      "execution_count": 11,
      "outputs": [
        {
          "output_type": "stream",
          "text": [
            "(25000, 2)\n",
            "(25000, 2)\n"
          ],
          "name": "stdout"
        }
      ]
    },
    {
      "cell_type": "code",
      "metadata": {
        "id": "ht8S7bwxs4HL",
        "colab_type": "code",
        "outputId": "ec251c48-b170-47c9-9ca1-d265c2c145fb",
        "colab": {
          "base_uri": "https://localhost:8080/",
          "height": 35
        }
      },
      "source": [
        "print(\"tokens = \" + str(V))"
      ],
      "execution_count": 12,
      "outputs": [
        {
          "output_type": "stream",
          "text": [
            "tokens = 5000\n"
          ],
          "name": "stdout"
        }
      ]
    },
    {
      "cell_type": "code",
      "metadata": {
        "id": "RqLDjaKpwQxP",
        "colab_type": "code",
        "colab": {}
      },
      "source": [
        "i_layer = Input(shape = (V,))\n",
        "h_layer = Dense(254, activation='relu')(i_layer)\n",
        "h_layer = Dropout(0.9)(h_layer)\n",
        "o_layer = Dense(classes, activation='softmax')(h_layer)\n",
        "\n",
        "model = Model(i_layer, o_layer)"
      ],
      "execution_count": 0,
      "outputs": []
    },
    {
      "cell_type": "code",
      "metadata": {
        "id": "TW9j4VVFxVuS",
        "colab_type": "code",
        "colab": {}
      },
      "source": [
        "model.compile(\n",
        "    optimizer='adam',\n",
        "    loss='categorical_crossentropy',\n",
        "    metrics=['accuracy'])"
      ],
      "execution_count": 0,
      "outputs": []
    },
    {
      "cell_type": "code",
      "metadata": {
        "id": "lf9hTfOGxZn5",
        "colab_type": "code",
        "outputId": "234ec925-920d-43a6-d4c6-88d8dc5d97a7",
        "colab": {
          "base_uri": "https://localhost:8080/",
          "height": 1000
        }
      },
      "source": [
        "report = model.fit(X_train, y_train, epochs = 30, validation_data=(X_test, y_test))"
      ],
      "execution_count": 15,
      "outputs": [
        {
          "output_type": "stream",
          "text": [
            "Epoch 1/30\n",
            "782/782 [==============================] - 4s 5ms/step - loss: 0.4561 - accuracy: 0.7888 - val_loss: 0.2987 - val_accuracy: 0.8826\n",
            "Epoch 2/30\n",
            "782/782 [==============================] - 4s 5ms/step - loss: 0.3315 - accuracy: 0.8616 - val_loss: 0.2779 - val_accuracy: 0.8868\n",
            "Epoch 3/30\n",
            "782/782 [==============================] - 4s 5ms/step - loss: 0.3044 - accuracy: 0.8749 - val_loss: 0.2731 - val_accuracy: 0.8874\n",
            "Epoch 4/30\n",
            "782/782 [==============================] - 4s 5ms/step - loss: 0.2810 - accuracy: 0.8886 - val_loss: 0.2773 - val_accuracy: 0.8846\n",
            "Epoch 5/30\n",
            "782/782 [==============================] - 4s 5ms/step - loss: 0.2739 - accuracy: 0.8912 - val_loss: 0.2741 - val_accuracy: 0.8874\n",
            "Epoch 6/30\n",
            "782/782 [==============================] - 4s 5ms/step - loss: 0.2595 - accuracy: 0.8983 - val_loss: 0.2812 - val_accuracy: 0.8854\n",
            "Epoch 7/30\n",
            "782/782 [==============================] - 4s 5ms/step - loss: 0.2516 - accuracy: 0.9006 - val_loss: 0.2863 - val_accuracy: 0.8844\n",
            "Epoch 8/30\n",
            "782/782 [==============================] - 4s 5ms/step - loss: 0.2394 - accuracy: 0.9041 - val_loss: 0.2832 - val_accuracy: 0.8855\n",
            "Epoch 9/30\n",
            "782/782 [==============================] - 4s 5ms/step - loss: 0.2375 - accuracy: 0.9076 - val_loss: 0.2836 - val_accuracy: 0.8861\n",
            "Epoch 10/30\n",
            "782/782 [==============================] - 4s 5ms/step - loss: 0.2265 - accuracy: 0.9123 - val_loss: 0.2895 - val_accuracy: 0.8860\n",
            "Epoch 11/30\n",
            "782/782 [==============================] - 4s 5ms/step - loss: 0.2174 - accuracy: 0.9150 - val_loss: 0.2895 - val_accuracy: 0.8856\n",
            "Epoch 12/30\n",
            "782/782 [==============================] - 4s 5ms/step - loss: 0.2181 - accuracy: 0.9176 - val_loss: 0.2958 - val_accuracy: 0.8859\n",
            "Epoch 13/30\n",
            "782/782 [==============================] - 4s 5ms/step - loss: 0.2070 - accuracy: 0.9204 - val_loss: 0.3046 - val_accuracy: 0.8856\n",
            "Epoch 14/30\n",
            "782/782 [==============================] - 4s 5ms/step - loss: 0.2112 - accuracy: 0.9195 - val_loss: 0.3138 - val_accuracy: 0.8831\n",
            "Epoch 15/30\n",
            "782/782 [==============================] - 4s 5ms/step - loss: 0.2008 - accuracy: 0.9226 - val_loss: 0.3131 - val_accuracy: 0.8847\n",
            "Epoch 16/30\n",
            "782/782 [==============================] - 4s 5ms/step - loss: 0.1946 - accuracy: 0.9270 - val_loss: 0.3325 - val_accuracy: 0.8816\n",
            "Epoch 17/30\n",
            "782/782 [==============================] - 4s 5ms/step - loss: 0.1949 - accuracy: 0.9258 - val_loss: 0.3163 - val_accuracy: 0.8848\n",
            "Epoch 18/30\n",
            "782/782 [==============================] - 4s 5ms/step - loss: 0.1930 - accuracy: 0.9267 - val_loss: 0.3314 - val_accuracy: 0.8830\n",
            "Epoch 19/30\n",
            "782/782 [==============================] - 4s 5ms/step - loss: 0.1868 - accuracy: 0.9299 - val_loss: 0.3355 - val_accuracy: 0.8832\n",
            "Epoch 20/30\n",
            "782/782 [==============================] - 4s 5ms/step - loss: 0.1843 - accuracy: 0.9291 - val_loss: 0.3449 - val_accuracy: 0.8836\n",
            "Epoch 21/30\n",
            "782/782 [==============================] - 4s 5ms/step - loss: 0.1793 - accuracy: 0.9327 - val_loss: 0.3387 - val_accuracy: 0.8847\n",
            "Epoch 22/30\n",
            "782/782 [==============================] - 4s 5ms/step - loss: 0.1812 - accuracy: 0.9298 - val_loss: 0.3493 - val_accuracy: 0.8820\n",
            "Epoch 23/30\n",
            "782/782 [==============================] - 4s 5ms/step - loss: 0.1727 - accuracy: 0.9364 - val_loss: 0.3530 - val_accuracy: 0.8822\n",
            "Epoch 24/30\n",
            "782/782 [==============================] - 4s 5ms/step - loss: 0.1725 - accuracy: 0.9339 - val_loss: 0.3536 - val_accuracy: 0.8824\n",
            "Epoch 25/30\n",
            "782/782 [==============================] - 4s 5ms/step - loss: 0.1671 - accuracy: 0.9380 - val_loss: 0.3712 - val_accuracy: 0.8824\n",
            "Epoch 26/30\n",
            "782/782 [==============================] - 4s 5ms/step - loss: 0.1690 - accuracy: 0.9368 - val_loss: 0.3798 - val_accuracy: 0.8833\n",
            "Epoch 27/30\n",
            "782/782 [==============================] - 4s 5ms/step - loss: 0.1644 - accuracy: 0.9385 - val_loss: 0.3855 - val_accuracy: 0.8834\n",
            "Epoch 28/30\n",
            "782/782 [==============================] - 4s 5ms/step - loss: 0.1600 - accuracy: 0.9402 - val_loss: 0.3900 - val_accuracy: 0.8825\n",
            "Epoch 29/30\n",
            "782/782 [==============================] - 4s 5ms/step - loss: 0.1631 - accuracy: 0.9393 - val_loss: 0.3940 - val_accuracy: 0.8835\n",
            "Epoch 30/30\n",
            "782/782 [==============================] - 4s 5ms/step - loss: 0.1556 - accuracy: 0.9409 - val_loss: 0.4025 - val_accuracy: 0.8827\n"
          ],
          "name": "stdout"
        }
      ]
    },
    {
      "cell_type": "code",
      "metadata": {
        "id": "rM-24Obb109W",
        "colab_type": "code",
        "colab": {}
      },
      "source": [
        "y_pred = model.predict(X_test)"
      ],
      "execution_count": 0,
      "outputs": []
    },
    {
      "cell_type": "code",
      "metadata": {
        "id": "9n8i58Dd1q19",
        "colab_type": "code",
        "outputId": "9b0de23b-f608-4b53-ad0f-b72f5fe0eec9",
        "colab": {
          "base_uri": "https://localhost:8080/",
          "height": 513
        }
      },
      "source": [
        "evaluation_tf(report, y_test, y_pred, classes)"
      ],
      "execution_count": 17,
      "outputs": [
        {
          "output_type": "display_data",
          "data": {
            "image/png": "[encoded data removed]",
            "text/plain": [
              "<Figure size 432x288 with 1 Axes>"
            ]
          },
          "metadata": {
            "tags": [],
            "needs_background": "light"
          }
        },
        {
          "output_type": "display_data",
          "data": {
            "image/png": "[encoded data removed]",
            "text/plain": [
              "<Figure size 432x288 with 1 Axes>"
            ]
          },
          "metadata": {
            "tags": [],
            "needs_background": "light"
          }
        }
      ]
    }
  ]
}