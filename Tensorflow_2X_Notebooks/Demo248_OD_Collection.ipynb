{
 "cells": [
  {
   "cell_type": "markdown",
   "metadata": {
    "id": "4dl1jpa-65ke"
   },
   "source": [
    "# Reference https://github.com/nicknochnack/TFODCourse\n",
    "\n",
    "# 1. Import Dependencies\n",
    "\n"
   ]
  },
  {
   "cell_type": "code",
   "execution_count": 1,
   "metadata": {
    "id": "MELelV6m65kn"
   },
   "outputs": [
    {
     "name": "stdout",
     "output_type": "stream",
     "text": [
      "^C\n"
     ]
    }
   ],
   "source": [
    "!pip install opencv-python"
   ]
  },
  {
   "cell_type": "code",
   "execution_count": 2,
   "metadata": {
    "id": "Y5c4i0lJ65kq"
   },
   "outputs": [],
   "source": [
    "# Import opencv\n",
    "import cv2 \n",
    "# Import uuid\n",
    "import uuid\n",
    "# Import Operating System\n",
    "import os\n",
    "# Import time\n",
    "import time"
   ]
  },
  {
   "cell_type": "markdown",
   "metadata": {
    "id": "AFkZP7af65ks"
   },
   "source": [
    "# 2. Define Images to Collect"
   ]
  },
  {
   "cell_type": "code",
   "execution_count": 3,
   "metadata": {
    "id": "C5IJ2EIT65kt"
   },
   "outputs": [],
   "source": [
    "labels = ['thumbsup', 'thumbsdown', 'peace']"
   ]
  },
  {
   "cell_type": "markdown",
   "metadata": {
    "id": "_bfBX4l_65ku"
   },
   "source": [
    "# 3. Setup Folders "
   ]
  },
  {
   "cell_type": "code",
   "execution_count": 4,
   "metadata": {
    "id": "WQ7ic2i365kw"
   },
   "outputs": [],
   "source": [
    "IMAGES_PATH = os.path.join('Tensorflow', 'workspace', 'images', 'collectedimages')"
   ]
  },
  {
   "cell_type": "code",
   "execution_count": 5,
   "metadata": {
    "id": "D-mz3OxC65ky"
   },
   "outputs": [],
   "source": [
    "if not os.path.exists(IMAGES_PATH):\n",
    "    if os.name == 'posix': #linux\n",
    "        !mkdir -p {IMAGES_PATH}\n",
    "    if os.name == 'nt': #windows\n",
    "         !mkdir {IMAGES_PATH}\n",
    "for label in labels:\n",
    "    path = os.path.join(IMAGES_PATH, label)\n",
    "    if not os.path.exists(path):\n",
    "        !mkdir {path}"
   ]
  },
  {
   "cell_type": "markdown",
   "metadata": {
    "id": "aEZZcQTO65k1"
   },
   "source": [
    "# 4. Capture Images"
   ]
  },
  {
   "cell_type": "code",
   "execution_count": null,
   "metadata": {
    "id": "aJlooRlb65k4"
   },
   "outputs": [],
   "source": [
    "cap = cv2.VideoCapture(0)\n",
    "cv2.namedWindow(\"frame\")\n",
    "img_counter = 0\n",
    "for label in labels:\n",
    "    print(\"[INFO] Collecting for {}\".format(label))\n",
    "    while True:\n",
    "\n",
    "        ret, frame = cap.read()\n",
    "        if not ret:\n",
    "            print(\"[INFO] Failed to capture\")\n",
    "            break\n",
    "        cv2.imshow(\"frame\", frame)\n",
    "\n",
    "        key = cv2.waitKey(1)\n",
    "        if key%256 == 27:\n",
    "            # ESC pressed\n",
    "            print(\"[INFO] Closing\")\n",
    "            break\n",
    "        elif key%256 == 32:\n",
    "            # SPACE pressed\n",
    "            img_name = os.path.join(IMAGES_PATH,label,label+'.'+'{}.jpg'.format(str(uuid.uuid1())))\n",
    "            cv2.imwrite(img_name, frame)\n",
    "            print(\"[INFO] {} Saved\".format(img_name))\n",
    "            img_counter += 1\n",
    "\n",
    "cap.release()\n",
    "cv2.destroyAllWindows()"
   ]
  },
  {
   "cell_type": "code",
   "execution_count": null,
   "metadata": {
    "id": "8Owvv95w65k6"
   },
   "outputs": [],
   "source": [
    "# for label in labels:\n",
    "#     cap = cv2.VideoCapture(0)\n",
    "#     print('Collecting images for {}'.format(label))\n",
    "#     time.sleep(5)\n",
    "#     for imgnum in range(number_imgs):\n",
    "#         print('Collecting image {}'.format(imgnum))\n",
    "#         ret, frame = cap.read()\n",
    "#         imgname = os.path.join(IMAGES_PATH,label,label+'.'+'{}.jpg'.format(str(uuid.uuid1())))\n",
    "#         cv2.imwrite(imgname, frame)\n",
    "#         cv2.imshow('frame', frame)\n",
    "#         time.sleep(2)\n",
    "\n",
    "#         if cv2.waitKey(1) & 0xFF == ord('q'):\n",
    "#             break\n",
    "# cap.release()\n",
    "# cv2.destroyAllWindows()"
   ]
  },
  {
   "cell_type": "markdown",
   "metadata": {
    "id": "SxNw0AYb65k8"
   },
   "source": [
    "# 5. Image Labelling"
   ]
  },
  {
   "cell_type": "code",
   "execution_count": 6,
   "metadata": {
    "id": "OcJh47oQ65k9"
   },
   "outputs": [
    {
     "name": "stdout",
     "output_type": "stream",
     "text": [
      "Collecting pyqt5\n",
      "  Downloading PyQt5-5.15.4-cp36.cp37.cp38.cp39-none-win_amd64.whl (6.8 MB)\n",
      "Collecting lxml\n",
      "  Downloading lxml-4.6.3-cp38-cp38-win_amd64.whl (3.5 MB)\n",
      "Collecting PyQt5-sip<13,>=12.8\n",
      "  Downloading PyQt5_sip-12.9.0-cp38-cp38-win_amd64.whl (63 kB)\n",
      "Collecting PyQt5-Qt5>=5.15\n",
      "  Downloading PyQt5_Qt5-5.15.2-py3-none-win_amd64.whl (50.1 MB)\n",
      "Installing collected packages: PyQt5-sip, PyQt5-Qt5, pyqt5, lxml\n",
      "Successfully installed PyQt5-Qt5-5.15.2 PyQt5-sip-12.9.0 lxml-4.6.3 pyqt5-5.15.4\n"
     ]
    }
   ],
   "source": [
    "!pip install --upgrade pyqt5 lxml"
   ]
  },
  {
   "cell_type": "code",
   "execution_count": 7,
   "metadata": {
    "id": "0C07crLb65k-"
   },
   "outputs": [
    {
     "name": "stdout",
     "output_type": "stream",
     "text": [
      "Package                 Version\n",
      "----------------------- -------------------\n",
      "absl-py                 0.13.0\n",
      "argon2-cffi             21.1.0\n",
      "astunparse              1.6.3\n",
      "attrs                   21.2.0\n",
      "backcall                0.2.0\n",
      "bleach                  4.1.0\n",
      "cachetools              4.2.2\n",
      "certifi                 2021.5.30\n",
      "cffi                    1.14.6\n",
      "charset-normalizer      2.0.4\n",
      "colorama                0.4.4\n",
      "cycler                  0.10.0\n",
      "debugpy                 1.4.3\n",
      "decorator               5.1.0\n",
      "defusedxml              0.7.1\n",
      "entrypoints             0.3\n",
      "flatbuffers             1.12\n",
      "gast                    0.3.3\n",
      "google-auth             1.35.0\n",
      "google-auth-oauthlib    0.4.6\n",
      "google-pasta            0.2.0\n",
      "grpcio                  1.32.0\n",
      "h5py                    2.10.0\n",
      "idna                    3.2\n",
      "ipykernel               6.4.1\n",
      "ipython                 7.27.0\n",
      "ipython-genutils        0.2.0\n",
      "ipywidgets              7.6.4\n",
      "jedi                    0.18.0\n",
      "Jinja2                  3.0.1\n",
      "joblib                  1.0.1\n",
      "jsonschema              3.2.0\n",
      "jupyter                 1.0.0\n",
      "jupyter-client          7.0.2\n",
      "jupyter-console         6.4.0\n",
      "jupyter-core            4.7.1\n",
      "jupyterlab-pygments     0.1.2\n",
      "jupyterlab-widgets      1.0.1\n",
      "Keras-Preprocessing     1.1.2\n",
      "kiwisolver              1.3.2\n",
      "lxml                    4.6.3\n",
      "Markdown                3.3.4\n",
      "MarkupSafe              2.0.1\n",
      "matplotlib              3.4.3\n",
      "matplotlib-inline       0.1.3\n",
      "mediapipe               0.8.7.2\n",
      "mistune                 0.8.4\n",
      "nbclient                0.5.4\n",
      "nbconvert               6.1.0\n",
      "nbformat                5.1.3\n",
      "nest-asyncio            1.5.1\n",
      "notebook                6.4.3\n",
      "numpy                   1.19.5\n",
      "oauthlib                3.1.1\n",
      "opencv-contrib-python   4.5.3.56\n",
      "opencv-python           4.5.3.56\n",
      "opt-einsum              3.3.0\n",
      "packaging               21.0\n",
      "pandocfilters           1.4.3\n",
      "parso                   0.8.2\n",
      "pickleshare             0.7.5\n",
      "Pillow                  8.3.2\n",
      "pip                     21.2.2\n",
      "prometheus-client       0.11.0\n",
      "prompt-toolkit          3.0.20\n",
      "protobuf                3.17.3\n",
      "pyasn1                  0.4.8\n",
      "pyasn1-modules          0.2.8\n",
      "pycparser               2.20\n",
      "Pygments                2.10.0\n",
      "pyparsing               2.4.7\n",
      "PyQt5                   5.15.4\n",
      "PyQt5-Qt5               5.15.2\n",
      "PyQt5-sip               12.9.0\n",
      "pyrsistent              0.18.0\n",
      "python-dateutil         2.8.2\n",
      "pywin32                 228\n",
      "pywinpty                1.1.4\n",
      "pyzmq                   22.2.1\n",
      "qtconsole               5.1.1\n",
      "QtPy                    1.11.0\n",
      "requests                2.26.0\n",
      "requests-oauthlib       1.3.0\n",
      "rsa                     4.7.2\n",
      "scikit-learn            0.24.2\n",
      "scipy                   1.7.1\n",
      "Send2Trash              1.8.0\n",
      "setuptools              52.0.0.post20210125\n",
      "six                     1.15.0\n",
      "sklearn                 0.0\n",
      "tensorboard             2.6.0\n",
      "tensorboard-data-server 0.6.1\n",
      "tensorboard-plugin-wit  1.8.0\n",
      "tensorflow              2.4.0\n",
      "tensorflow-estimator    2.4.0\n",
      "tensorflow-gpu          2.4.0\n",
      "termcolor               1.1.0\n",
      "terminado               0.12.1\n",
      "testpath                0.5.0\n",
      "threadpoolctl           2.2.0\n",
      "tornado                 6.1\n",
      "traitlets               5.1.0\n",
      "typing-extensions       3.7.4.3\n",
      "urllib3                 1.26.6\n",
      "wcwidth                 0.2.5\n",
      "webencodings            0.5.1\n",
      "Werkzeug                2.0.1\n",
      "wheel                   0.37.0\n",
      "widgetsnbextension      3.5.1\n",
      "wincertstore            0.2\n",
      "wrapt                   1.12.1\n"
     ]
    }
   ],
   "source": [
    "!pip list "
   ]
  },
  {
   "cell_type": "code",
   "execution_count": 8,
   "metadata": {
    "id": "XjRFfD_D65k_"
   },
   "outputs": [],
   "source": [
    "LABELIMG_PATH = os.path.join('Tensorflow', 'labelimg')"
   ]
  },
  {
   "cell_type": "code",
   "execution_count": null,
   "metadata": {
    "id": "dhz_1ALj65lA"
   },
   "outputs": [],
   "source": [
    "if not os.path.exists(LABELIMG_PATH):\n",
    "    !mkdir {LABELIMG_PATH}\n",
    "    !git clone https://github.com/tzutalin/labelImg {LABELIMG_PATH}"
   ]
  },
  {
   "cell_type": "code",
   "execution_count": null,
   "metadata": {
    "id": "z4Aq2iur65lA"
   },
   "outputs": [],
   "source": [
    "if os.name == 'posix':\n",
    "    !make qt5py3\n",
    "if os.name =='nt':\n",
    "    !cd {LABELIMG_PATH} && pyrcc5 -o libs/resources.py resources.qrc"
   ]
  },
  {
   "cell_type": "code",
   "execution_count": null,
   "metadata": {
    "id": "2U-EEDWx65lA"
   },
   "outputs": [],
   "source": [
    "!cd {LABELIMG_PATH} && python labelImg.py"
   ]
  },
  {
   "cell_type": "markdown",
   "metadata": {
    "id": "HVjmW85D65lB"
   },
   "source": [
    "# 6. Move them into a Training and Testing Partition"
   ]
  },
  {
   "cell_type": "markdown",
   "metadata": {
    "id": "CwG7fE1U65lB"
   },
   "source": [
    "# OPTIONAL - 7. Compress them for Colab Training"
   ]
  },
  {
   "cell_type": "code",
   "execution_count": null,
   "metadata": {
    "id": "ROYZBw4a65lC"
   },
   "outputs": [],
   "source": [
    "TRAIN_PATH = os.path.join('Tensorflow', 'workspace', 'images', 'train')\n",
    "TEST_PATH = os.path.join('Tensorflow', 'workspace', 'images', 'test')\n",
    "ARCHIVE_PATH = os.path.join('Tensorflow', 'workspace', 'images', 'archive.tar.gz')"
   ]
  },
  {
   "cell_type": "code",
   "execution_count": null,
   "metadata": {
    "id": "XZyvRe-q65lD"
   },
   "outputs": [],
   "source": [
    "!tar -czf {ARCHIVE_PATH} {TRAIN_PATH} {TEST_PATH}"
   ]
  },
  {
   "cell_type": "code",
   "execution_count": null,
   "metadata": {
    "id": "WxuwWsqr65lD"
   },
   "outputs": [],
   "source": []
  }
 ],
 "metadata": {
  "colab": {
   "name": "Demo248_OD_Collection.ipynb",
   "provenance": []
  },
  "kernelspec": {
   "display_name": "Python 3",
   "language": "python",
   "name": "python3"
  },
  "language_info": {
   "codemirror_mode": {
    "name": "ipython",
    "version": 3
   },
   "file_extension": ".py",
   "mimetype": "text/x-python",
   "name": "python",
   "nbconvert_exporter": "python",
   "pygments_lexer": "ipython3",
   "version": "3.8.5"
  }
 },
 "nbformat": 4,
 "nbformat_minor": 1
}
