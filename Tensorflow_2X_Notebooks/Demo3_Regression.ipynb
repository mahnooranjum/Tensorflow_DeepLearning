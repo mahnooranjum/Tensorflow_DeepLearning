{
  "nbformat": 4,
  "nbformat_minor": 0,
  "metadata": {
    "colab": {
      "name": "Demo3_Regression.ipynb",
      "provenance": [],
      "collapsed_sections": []
    },
    "kernelspec": {
      "name": "python3",
      "display_name": "Python 3"
    }
  },
  "cells": [
    {
      "cell_type": "markdown",
      "metadata": {
        "id": "P9bJCDjdlgG6",
        "colab_type": "text"
      },
      "source": [
        "# **Spit some [tensor] flow**\n",
        "\n",
        "We need to learn the intricacies of tensorflow to master deep learning\n",
        "\n",
        "`This is how we write code`"
      ]
    },
    {
      "cell_type": "code",
      "metadata": {
        "id": "aQwc0re5mFld",
        "colab_type": "code",
        "outputId": "abcbfcb3-e317-4325-b8b1-54f947c6b3fd",
        "colab": {
          "base_uri": "https://localhost:8080/",
          "height": 35
        }
      },
      "source": [
        "import numpy as np\n",
        "import matplotlib.pyplot as plt\n",
        "import tensorflow as tf\n",
        "print(tf.__version__)"
      ],
      "execution_count": 13,
      "outputs": [
        {
          "output_type": "stream",
          "text": [
            "2.2.0-rc4\n"
          ],
          "name": "stdout"
        }
      ]
    },
    {
      "cell_type": "code",
      "metadata": {
        "id": "qyw8HvOuBEZm",
        "colab_type": "code",
        "outputId": "fafb7ab2-a050-4c03-83ba-ebf8276ff108",
        "colab": {
          "base_uri": "https://localhost:8080/",
          "height": 35
        }
      },
      "source": [
        "from sklearn.datasets import load_boston\n",
        "data = load_boston()\n",
        "type(data)\n",
        "print(data.keys())"
      ],
      "execution_count": 14,
      "outputs": [
        {
          "output_type": "stream",
          "text": [
            "dict_keys(['data', 'target', 'feature_names', 'DESCR', 'filename'])\n"
          ],
          "name": "stdout"
        }
      ]
    },
    {
      "cell_type": "code",
      "metadata": {
        "id": "41JwZflmB4qr",
        "colab_type": "code",
        "outputId": "b078589a-201b-434f-f6e3-92206ec252b6",
        "colab": {
          "base_uri": "https://localhost:8080/",
          "height": 711
        }
      },
      "source": [
        "print(data.target)\n",
        "print(\"============================================\")\n",
        "print(data.feature_names)"
      ],
      "execution_count": 15,
      "outputs": [
        {
          "output_type": "stream",
          "text": [
            "[24.  21.6 34.7 33.4 36.2 28.7 22.9 27.1 16.5 18.9 15.  18.9 21.7 20.4\n",
            " 18.2 19.9 23.1 17.5 20.2 18.2 13.6 19.6 15.2 14.5 15.6 13.9 16.6 14.8\n",
            " 18.4 21.  12.7 14.5 13.2 13.1 13.5 18.9 20.  21.  24.7 30.8 34.9 26.6\n",
            " 25.3 24.7 21.2 19.3 20.  16.6 14.4 19.4 19.7 20.5 25.  23.4 18.9 35.4\n",
            " 24.7 31.6 23.3 19.6 18.7 16.  22.2 25.  33.  23.5 19.4 22.  17.4 20.9\n",
            " 24.2 21.7 22.8 23.4 24.1 21.4 20.  20.8 21.2 20.3 28.  23.9 24.8 22.9\n",
            " 23.9 26.6 22.5 22.2 23.6 28.7 22.6 22.  22.9 25.  20.6 28.4 21.4 38.7\n",
            " 43.8 33.2 27.5 26.5 18.6 19.3 20.1 19.5 19.5 20.4 19.8 19.4 21.7 22.8\n",
            " 18.8 18.7 18.5 18.3 21.2 19.2 20.4 19.3 22.  20.3 20.5 17.3 18.8 21.4\n",
            " 15.7 16.2 18.  14.3 19.2 19.6 23.  18.4 15.6 18.1 17.4 17.1 13.3 17.8\n",
            " 14.  14.4 13.4 15.6 11.8 13.8 15.6 14.6 17.8 15.4 21.5 19.6 15.3 19.4\n",
            " 17.  15.6 13.1 41.3 24.3 23.3 27.  50.  50.  50.  22.7 25.  50.  23.8\n",
            " 23.8 22.3 17.4 19.1 23.1 23.6 22.6 29.4 23.2 24.6 29.9 37.2 39.8 36.2\n",
            " 37.9 32.5 26.4 29.6 50.  32.  29.8 34.9 37.  30.5 36.4 31.1 29.1 50.\n",
            " 33.3 30.3 34.6 34.9 32.9 24.1 42.3 48.5 50.  22.6 24.4 22.5 24.4 20.\n",
            " 21.7 19.3 22.4 28.1 23.7 25.  23.3 28.7 21.5 23.  26.7 21.7 27.5 30.1\n",
            " 44.8 50.  37.6 31.6 46.7 31.5 24.3 31.7 41.7 48.3 29.  24.  25.1 31.5\n",
            " 23.7 23.3 22.  20.1 22.2 23.7 17.6 18.5 24.3 20.5 24.5 26.2 24.4 24.8\n",
            " 29.6 42.8 21.9 20.9 44.  50.  36.  30.1 33.8 43.1 48.8 31.  36.5 22.8\n",
            " 30.7 50.  43.5 20.7 21.1 25.2 24.4 35.2 32.4 32.  33.2 33.1 29.1 35.1\n",
            " 45.4 35.4 46.  50.  32.2 22.  20.1 23.2 22.3 24.8 28.5 37.3 27.9 23.9\n",
            " 21.7 28.6 27.1 20.3 22.5 29.  24.8 22.  26.4 33.1 36.1 28.4 33.4 28.2\n",
            " 22.8 20.3 16.1 22.1 19.4 21.6 23.8 16.2 17.8 19.8 23.1 21.  23.8 23.1\n",
            " 20.4 18.5 25.  24.6 23.  22.2 19.3 22.6 19.8 17.1 19.4 22.2 20.7 21.1\n",
            " 19.5 18.5 20.6 19.  18.7 32.7 16.5 23.9 31.2 17.5 17.2 23.1 24.5 26.6\n",
            " 22.9 24.1 18.6 30.1 18.2 20.6 17.8 21.7 22.7 22.6 25.  19.9 20.8 16.8\n",
            " 21.9 27.5 21.9 23.1 50.  50.  50.  50.  50.  13.8 13.8 15.  13.9 13.3\n",
            " 13.1 10.2 10.4 10.9 11.3 12.3  8.8  7.2 10.5  7.4 10.2 11.5 15.1 23.2\n",
            "  9.7 13.8 12.7 13.1 12.5  8.5  5.   6.3  5.6  7.2 12.1  8.3  8.5  5.\n",
            " 11.9 27.9 17.2 27.5 15.  17.2 17.9 16.3  7.   7.2  7.5 10.4  8.8  8.4\n",
            " 16.7 14.2 20.8 13.4 11.7  8.3 10.2 10.9 11.   9.5 14.5 14.1 16.1 14.3\n",
            " 11.7 13.4  9.6  8.7  8.4 12.8 10.5 17.1 18.4 15.4 10.8 11.8 14.9 12.6\n",
            " 14.1 13.  13.4 15.2 16.1 17.8 14.9 14.1 12.7 13.5 14.9 20.  16.4 17.7\n",
            " 19.5 20.2 21.4 19.9 19.  19.1 19.1 20.1 19.9 19.6 23.2 29.8 13.8 13.3\n",
            " 16.7 12.  14.6 21.4 23.  23.7 25.  21.8 20.6 21.2 19.1 20.6 15.2  7.\n",
            "  8.1 13.6 20.1 21.8 24.5 23.1 19.7 18.3 21.2 17.5 16.8 22.4 20.6 23.9\n",
            " 22.  11.9]\n",
            "============================================\n",
            "['CRIM' 'ZN' 'INDUS' 'CHAS' 'NOX' 'RM' 'AGE' 'DIS' 'RAD' 'TAX' 'PTRATIO'\n",
            " 'B' 'LSTAT']\n"
          ],
          "name": "stdout"
        }
      ]
    },
    {
      "cell_type": "code",
      "metadata": {
        "id": "7hQGKjLvBT6z",
        "colab_type": "code",
        "colab": {}
      },
      "source": [
        "X = data.data"
      ],
      "execution_count": 0,
      "outputs": []
    },
    {
      "cell_type": "code",
      "metadata": {
        "id": "ovyPUHaZBqu8",
        "colab_type": "code",
        "colab": {}
      },
      "source": [
        "y = data.target"
      ],
      "execution_count": 0,
      "outputs": []
    },
    {
      "cell_type": "code",
      "metadata": {
        "id": "BSOcVLhKCGOa",
        "colab_type": "code",
        "colab": {}
      },
      "source": [
        "# TRAIN TEST SPLIT\n",
        "from sklearn.model_selection import train_test_split\n",
        "\n",
        "X_train, X_test, y_train, y_test = train_test_split(X, y, test_size = 0.1)"
      ],
      "execution_count": 0,
      "outputs": []
    },
    {
      "cell_type": "code",
      "metadata": {
        "id": "bqh-eNkNCb7D",
        "colab_type": "code",
        "colab": {}
      },
      "source": [
        "N, D = X_train.shape"
      ],
      "execution_count": 0,
      "outputs": []
    },
    {
      "cell_type": "code",
      "metadata": {
        "id": "WA8o1DP8CvGT",
        "colab_type": "code",
        "colab": {}
      },
      "source": [
        "from sklearn.preprocessing import StandardScaler \n",
        "scaleObj = StandardScaler()\n",
        "X_train = scaleObj.fit_transform(X_train)\n",
        "X_test = scaleObj.transform(X_test)\n"
      ],
      "execution_count": 0,
      "outputs": []
    },
    {
      "cell_type": "code",
      "metadata": {
        "id": "mIv1FdhRDRrc",
        "colab_type": "code",
        "outputId": "2d4b9b57-654b-4d02-efb6-6bf31aec9f5b",
        "colab": {
          "base_uri": "https://localhost:8080/",
          "height": 1000
        }
      },
      "source": [
        "model = tf.keras.models.Sequential([\n",
        "                                    tf.keras.layers.Input(shape=(D,)),\n",
        "                                    tf.keras.layers.Dense(1)\n",
        "])\n",
        "\n",
        "\n",
        "model.compile(\n",
        "    optimizer = tf.keras.optimizers.SGD(0.001, 0.99),\n",
        "    loss = 'mse',\n",
        "    metrics = ['mse']\n",
        ")\n",
        "\n",
        "# https://www.tensorflow.org/api_docs/python/tf/keras/callbacks/LearningRateScheduler\n",
        "def scheduler(epoch):\n",
        "  if epoch < 10:\n",
        "    return 0.001\n",
        "  else:\n",
        "    return 0.001 * tf.math.exp(0.1 * (10 - epoch))\n",
        "\n",
        "\n",
        "callback = tf.keras.callbacks.LearningRateScheduler(scheduler)\n",
        "\n",
        "report = model.fit(X_train, y_train, validation_data=(X_test, y_test), epochs=50)"
      ],
      "execution_count": 44,
      "outputs": [
        {
          "output_type": "stream",
          "text": [
            "Epoch 1/50\n",
            "15/15 [==============================] - 0s 7ms/step - loss: 510.0952 - mse: 510.0952 - val_loss: 413.0599 - val_mse: 413.0599\n",
            "Epoch 2/50\n",
            "15/15 [==============================] - 0s 3ms/step - loss: 222.0483 - mse: 222.0483 - val_loss: 129.0992 - val_mse: 129.0992\n",
            "Epoch 3/50\n",
            "15/15 [==============================] - 0s 3ms/step - loss: 54.5804 - mse: 54.5804 - val_loss: 86.3348 - val_mse: 86.3348\n",
            "Epoch 4/50\n",
            "15/15 [==============================] - 0s 3ms/step - loss: 165.5986 - mse: 165.5986 - val_loss: 282.5857 - val_mse: 282.5857\n",
            "Epoch 5/50\n",
            "15/15 [==============================] - 0s 3ms/step - loss: 285.3600 - mse: 285.3600 - val_loss: 289.8980 - val_mse: 289.8980\n",
            "Epoch 6/50\n",
            "15/15 [==============================] - 0s 4ms/step - loss: 222.2614 - mse: 222.2614 - val_loss: 141.5141 - val_mse: 141.5141\n",
            "Epoch 7/50\n",
            "15/15 [==============================] - 0s 4ms/step - loss: 75.6925 - mse: 75.6925 - val_loss: 39.6144 - val_mse: 39.6144\n",
            "Epoch 8/50\n",
            "15/15 [==============================] - 0s 3ms/step - loss: 41.8741 - mse: 41.8741 - val_loss: 96.5891 - val_mse: 96.5891\n",
            "Epoch 9/50\n",
            "15/15 [==============================] - 0s 3ms/step - loss: 105.2073 - mse: 105.2073 - val_loss: 174.1159 - val_mse: 174.1159\n",
            "Epoch 10/50\n",
            "15/15 [==============================] - 0s 3ms/step - loss: 144.6310 - mse: 144.6310 - val_loss: 150.4068 - val_mse: 150.4068\n",
            "Epoch 11/50\n",
            "15/15 [==============================] - 0s 3ms/step - loss: 91.8912 - mse: 91.8912 - val_loss: 81.7801 - val_mse: 81.7801\n",
            "Epoch 12/50\n",
            "15/15 [==============================] - 0s 4ms/step - loss: 37.9777 - mse: 37.9777 - val_loss: 43.9876 - val_mse: 43.9876\n",
            "Epoch 13/50\n",
            "15/15 [==============================] - 0s 4ms/step - loss: 41.6057 - mse: 41.6057 - val_loss: 71.0960 - val_mse: 71.0960\n",
            "Epoch 14/50\n",
            "15/15 [==============================] - 0s 3ms/step - loss: 73.2757 - mse: 73.2757 - val_loss: 81.0630 - val_mse: 81.0630\n",
            "Epoch 15/50\n",
            "15/15 [==============================] - 0s 3ms/step - loss: 77.5431 - mse: 77.5431 - val_loss: 61.6462 - val_mse: 61.6462\n",
            "Epoch 16/50\n",
            "15/15 [==============================] - 0s 3ms/step - loss: 49.2229 - mse: 49.2229 - val_loss: 35.1268 - val_mse: 35.1268\n",
            "Epoch 17/50\n",
            "15/15 [==============================] - 0s 3ms/step - loss: 26.3858 - mse: 26.3858 - val_loss: 38.4519 - val_mse: 38.4519\n",
            "Epoch 18/50\n",
            "15/15 [==============================] - 0s 3ms/step - loss: 32.3835 - mse: 32.3835 - val_loss: 59.1296 - val_mse: 59.1296\n",
            "Epoch 19/50\n",
            "15/15 [==============================] - 0s 3ms/step - loss: 49.6634 - mse: 49.6634 - val_loss: 68.0951 - val_mse: 68.0951\n",
            "Epoch 20/50\n",
            "15/15 [==============================] - 0s 3ms/step - loss: 45.2966 - mse: 45.2966 - val_loss: 53.4770 - val_mse: 53.4770\n",
            "Epoch 21/50\n",
            "15/15 [==============================] - 0s 3ms/step - loss: 31.3361 - mse: 31.3361 - val_loss: 38.8902 - val_mse: 38.8902\n",
            "Epoch 22/50\n",
            "15/15 [==============================] - 0s 4ms/step - loss: 23.3842 - mse: 23.3842 - val_loss: 37.1677 - val_mse: 37.1677\n",
            "Epoch 23/50\n",
            "15/15 [==============================] - 0s 3ms/step - loss: 31.7976 - mse: 31.7976 - val_loss: 42.4180 - val_mse: 42.4180\n",
            "Epoch 24/50\n",
            "15/15 [==============================] - 0s 4ms/step - loss: 35.6819 - mse: 35.6819 - val_loss: 42.8522 - val_mse: 42.8522\n",
            "Epoch 25/50\n",
            "15/15 [==============================] - 0s 4ms/step - loss: 30.8964 - mse: 30.8964 - val_loss: 35.1616 - val_mse: 35.1616\n",
            "Epoch 26/50\n",
            "15/15 [==============================] - 0s 3ms/step - loss: 23.1508 - mse: 23.1508 - val_loss: 33.9134 - val_mse: 33.9134\n",
            "Epoch 27/50\n",
            "15/15 [==============================] - 0s 3ms/step - loss: 23.2118 - mse: 23.2118 - val_loss: 39.2587 - val_mse: 39.2587\n",
            "Epoch 28/50\n",
            "15/15 [==============================] - 0s 3ms/step - loss: 27.6276 - mse: 27.6276 - val_loss: 44.9175 - val_mse: 44.9175\n",
            "Epoch 29/50\n",
            "15/15 [==============================] - 0s 3ms/step - loss: 29.5318 - mse: 29.5318 - val_loss: 41.4909 - val_mse: 41.4909\n",
            "Epoch 30/50\n",
            "15/15 [==============================] - 0s 3ms/step - loss: 25.6854 - mse: 25.6854 - val_loss: 40.0561 - val_mse: 40.0561\n",
            "Epoch 31/50\n",
            "15/15 [==============================] - 0s 4ms/step - loss: 24.8128 - mse: 24.8128 - val_loss: 33.9349 - val_mse: 33.9349\n",
            "Epoch 32/50\n",
            "15/15 [==============================] - 0s 3ms/step - loss: 23.5796 - mse: 23.5796 - val_loss: 37.9716 - val_mse: 37.9716\n",
            "Epoch 33/50\n",
            "15/15 [==============================] - 0s 3ms/step - loss: 27.5636 - mse: 27.5636 - val_loss: 35.9473 - val_mse: 35.9473\n",
            "Epoch 34/50\n",
            "15/15 [==============================] - 0s 3ms/step - loss: 25.8601 - mse: 25.8601 - val_loss: 36.7467 - val_mse: 36.7467\n",
            "Epoch 35/50\n",
            "15/15 [==============================] - 0s 3ms/step - loss: 23.1230 - mse: 23.1230 - val_loss: 31.9543 - val_mse: 31.9543\n",
            "Epoch 36/50\n",
            "15/15 [==============================] - 0s 3ms/step - loss: 22.7323 - mse: 22.7323 - val_loss: 35.5376 - val_mse: 35.5376\n",
            "Epoch 37/50\n",
            "15/15 [==============================] - 0s 3ms/step - loss: 23.4393 - mse: 23.4393 - val_loss: 36.5049 - val_mse: 36.5049\n",
            "Epoch 38/50\n",
            "15/15 [==============================] - 0s 3ms/step - loss: 24.9530 - mse: 24.9530 - val_loss: 38.4797 - val_mse: 38.4797\n",
            "Epoch 39/50\n",
            "15/15 [==============================] - 0s 3ms/step - loss: 23.7155 - mse: 23.7155 - val_loss: 34.4968 - val_mse: 34.4968\n",
            "Epoch 40/50\n",
            "15/15 [==============================] - 0s 4ms/step - loss: 22.4067 - mse: 22.4067 - val_loss: 35.1425 - val_mse: 35.1425\n",
            "Epoch 41/50\n",
            "15/15 [==============================] - 0s 3ms/step - loss: 22.0365 - mse: 22.0365 - val_loss: 33.5776 - val_mse: 33.5776\n",
            "Epoch 42/50\n",
            "15/15 [==============================] - 0s 4ms/step - loss: 22.9156 - mse: 22.9156 - val_loss: 34.9265 - val_mse: 34.9265\n",
            "Epoch 43/50\n",
            "15/15 [==============================] - 0s 4ms/step - loss: 23.0236 - mse: 23.0236 - val_loss: 33.2316 - val_mse: 33.2316\n",
            "Epoch 44/50\n",
            "15/15 [==============================] - 0s 3ms/step - loss: 22.4226 - mse: 22.4226 - val_loss: 34.3722 - val_mse: 34.3722\n",
            "Epoch 45/50\n",
            "15/15 [==============================] - 0s 3ms/step - loss: 21.4577 - mse: 21.4577 - val_loss: 32.7938 - val_mse: 32.7938\n",
            "Epoch 46/50\n",
            "15/15 [==============================] - 0s 3ms/step - loss: 21.7053 - mse: 21.7053 - val_loss: 35.5381 - val_mse: 35.5381\n",
            "Epoch 47/50\n",
            "15/15 [==============================] - 0s 3ms/step - loss: 22.4907 - mse: 22.4907 - val_loss: 34.7786 - val_mse: 34.7786\n",
            "Epoch 48/50\n",
            "15/15 [==============================] - 0s 3ms/step - loss: 22.5349 - mse: 22.5349 - val_loss: 35.7954 - val_mse: 35.7954\n",
            "Epoch 49/50\n",
            "15/15 [==============================] - 0s 3ms/step - loss: 21.3059 - mse: 21.3059 - val_loss: 33.8444 - val_mse: 33.8444\n",
            "Epoch 50/50\n",
            "15/15 [==============================] - 0s 4ms/step - loss: 21.4815 - mse: 21.4815 - val_loss: 33.2127 - val_mse: 33.2127\n"
          ],
          "name": "stdout"
        }
      ]
    },
    {
      "cell_type": "code",
      "metadata": {
        "id": "MSj0kifiSDfW",
        "colab_type": "code",
        "colab": {
          "base_uri": "https://localhost:8080/",
          "height": 283
        },
        "outputId": "7bdbd587-8a62-4d25-a42c-d1cf43a5b342"
      },
      "source": [
        "plt.plot(report.history['loss'], label=\"loss = SGD\")"
      ],
      "execution_count": 45,
      "outputs": [
        {
          "output_type": "execute_result",
          "data": {
            "text/plain": [
              "[<matplotlib.lines.Line2D at 0x7f01b49b0da0>]"
            ]
          },
          "metadata": {
            "tags": []
          },
          "execution_count": 45
        },
        {
          "output_type": "display_data",
          "data": {
            "image/png": "[encoded data removed]",
            "text/plain": [
              "<Figure size 432x288 with 1 Axes>"
            ]
          },
          "metadata": {
            "tags": [],
            "needs_background": "light"
          }
        }
      ]
    },
    {
      "cell_type": "code",
      "metadata": {
        "id": "kVRFwm6HSN0s",
        "colab_type": "code",
        "colab": {
          "base_uri": "https://localhost:8080/",
          "height": 243
        },
        "outputId": "cb86d019-7d22-4421-812f-70d358889a4f"
      },
      "source": [
        "w = model.layers[0].get_weights()\n",
        "print(w[0])"
      ],
      "execution_count": 41,
      "outputs": [
        {
          "output_type": "stream",
          "text": [
            "[[-0.8880968 ]\n",
            " [ 0.8578534 ]\n",
            " [ 0.10974638]\n",
            " [ 0.8998092 ]\n",
            " [-2.0369987 ]\n",
            " [ 3.0484173 ]\n",
            " [-0.35317865]\n",
            " [-3.1804998 ]\n",
            " [ 2.4824567 ]\n",
            " [-2.1088123 ]\n",
            " [-2.0630531 ]\n",
            " [ 0.71536857]\n",
            " [-3.5203145 ]]\n"
          ],
          "name": "stdout"
        }
      ]
    },
    {
      "cell_type": "code",
      "metadata": {
        "id": "LuietUFpEG5a",
        "colab_type": "code",
        "outputId": "43ae18fd-f148-420a-bc4f-9e75ad2d86bd",
        "colab": {
          "base_uri": "https://localhost:8080/",
          "height": 87
        }
      },
      "source": [
        "print(\"Train eval: \", model.evaluate(X_train, y_train))\n",
        "print(\"Test eval: \", model.evaluate(X_test, y_test))"
      ],
      "execution_count": 29,
      "outputs": [
        {
          "output_type": "stream",
          "text": [
            "15/15 [==============================] - 0s 1ms/step - loss: 20.9179 - mse: 20.9179\n",
            "Train eval:  [20.917936325073242, 20.917936325073242]\n",
            "2/2 [==============================] - 0s 3ms/step - loss: 33.5199 - mse: 33.5199\n",
            "Test eval:  [33.51986312866211, 33.51986312866211]\n"
          ],
          "name": "stdout"
        }
      ]
    }
  ]
}