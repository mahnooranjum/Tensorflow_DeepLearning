{
  "nbformat": 4,
  "nbformat_minor": 0,
  "metadata": {
    "colab": {
      "name": "Demo207_ANNforMNISTFunctionalAPI.ipynb",
      "provenance": [],
      "collapsed_sections": []
    },
    "kernelspec": {
      "name": "python3",
      "display_name": "Python 3"
    }
  },
  "cells": [
    {
      "cell_type": "code",
      "metadata": {
        "id": "aQwc0re5mFld",
        "outputId": "79874639-aa04-41f1-f112-6396697c9ba6",
        "colab": {
          "base_uri": "https://localhost:8080/",
          "height": 34
        }
      },
      "source": [
        "import numpy as np\n",
        "import pandas as pd\n",
        "import matplotlib.pyplot as plt\n",
        "import tensorflow as tf\n",
        "print(tf.__version__)"
      ],
      "execution_count": null,
      "outputs": [
        {
          "output_type": "stream",
          "text": [
            "2.3.0\n"
          ],
          "name": "stdout"
        }
      ]
    },
    {
      "cell_type": "markdown",
      "metadata": {
        "id": "S4l0LuYW_Txu"
      },
      "source": [
        "## Let's load the dataset using keras datasets "
      ]
    },
    {
      "cell_type": "code",
      "metadata": {
        "id": "qyw8HvOuBEZm"
      },
      "source": [
        "dataset = tf.keras.datasets.mnist"
      ],
      "execution_count": null,
      "outputs": []
    },
    {
      "cell_type": "code",
      "metadata": {
        "id": "kOrWzVnkLFng"
      },
      "source": [
        "(X_train, y_train), (X_test, y_test) = dataset.load_data()\n",
        "X_train, X_test = X_train/255.0 , X_test/255.0"
      ],
      "execution_count": null,
      "outputs": []
    },
    {
      "cell_type": "code",
      "metadata": {
        "id": "7hQGKjLvBT6z",
        "outputId": "cff16659-b01d-4bc5-ee7f-8e5f0357c729",
        "colab": {
          "base_uri": "https://localhost:8080/",
          "height": 87
        }
      },
      "source": [
        "print(X_train.shape)\n",
        "print(y_train.shape)\n",
        "print(X_test.shape)\n",
        "print(y_test.shape)"
      ],
      "execution_count": null,
      "outputs": [
        {
          "output_type": "stream",
          "text": [
            "(60000, 28, 28)\n",
            "(60000,)\n",
            "(10000, 28, 28)\n",
            "(10000,)\n"
          ],
          "name": "stdout"
        }
      ]
    },
    {
      "cell_type": "code",
      "metadata": {
        "id": "66i1as2G8qxU"
      },
      "source": [
        "X_train = X_train.reshape(60000, -1)\n",
        "X_test = X_test.reshape(10000, -1)"
      ],
      "execution_count": null,
      "outputs": []
    },
    {
      "cell_type": "code",
      "metadata": {
        "id": "E-blIazL807x",
        "outputId": "c9b387a8-c66e-4acf-84cb-44c225153384",
        "colab": {
          "base_uri": "https://localhost:8080/",
          "height": 87
        }
      },
      "source": [
        "print(X_train.shape)\n",
        "print(y_train.shape)\n",
        "print(X_test.shape)\n",
        "print(y_test.shape)"
      ],
      "execution_count": null,
      "outputs": [
        {
          "output_type": "stream",
          "text": [
            "(60000, 784)\n",
            "(60000,)\n",
            "(10000, 784)\n",
            "(10000,)\n"
          ],
          "name": "stdout"
        }
      ]
    },
    {
      "cell_type": "code",
      "metadata": {
        "id": "j8xsv2fD8OyO"
      },
      "source": [
        "from tensorflow.keras.layers import Input, Dense, Dropout\n",
        "from tensorflow.keras.models import Model"
      ],
      "execution_count": null,
      "outputs": []
    },
    {
      "cell_type": "code",
      "metadata": {
        "id": "EmUpfHEA8eqm"
      },
      "source": [
        "N, D = X_train.shape"
      ],
      "execution_count": null,
      "outputs": []
    },
    {
      "cell_type": "code",
      "metadata": {
        "id": "0tB-DsvR8IMx"
      },
      "source": [
        "i_layer = Input(shape = (D,))\n",
        "h_layer = Dense(64, activation='relu')(i_layer)\n",
        "h_layer = Dropout(0.5)(h_layer)\n",
        "o_layer = Dense(10, activation='softmax')(h_layer)\n",
        "model = Model(i_layer, o_layer)"
      ],
      "execution_count": null,
      "outputs": []
    },
    {
      "cell_type": "code",
      "metadata": {
        "id": "bYip2sQaNiNI"
      },
      "source": [
        "model.compile(\n",
        "    optimizer='adam',\n",
        "    loss='sparse_categorical_crossentropy',\n",
        "    metrics=['accuracy'])"
      ],
      "execution_count": null,
      "outputs": []
    },
    {
      "cell_type": "code",
      "metadata": {
        "id": "tEsZnuikNwv3",
        "outputId": "ea369251-29ed-4844-c719-97fc9e8990f3",
        "colab": {
          "base_uri": "https://localhost:8080/",
          "height": 1000
        }
      },
      "source": [
        "report = model.fit(X_train, y_train, validation_data=(X_test, y_test), epochs = 30)"
      ],
      "execution_count": null,
      "outputs": [
        {
          "output_type": "stream",
          "text": [
            "Epoch 1/30\n",
            "1875/1875 [==============================] - 3s 2ms/step - loss: 0.5067 - accuracy: 0.8490 - val_loss: 0.2063 - val_accuracy: 0.9394\n",
            "Epoch 2/30\n",
            "1875/1875 [==============================] - 3s 2ms/step - loss: 0.3162 - accuracy: 0.9064 - val_loss: 0.1587 - val_accuracy: 0.9535\n",
            "Epoch 3/30\n",
            "1875/1875 [==============================] - 3s 2ms/step - loss: 0.2744 - accuracy: 0.9180 - val_loss: 0.1459 - val_accuracy: 0.9557\n",
            "Epoch 4/30\n",
            "1875/1875 [==============================] - 3s 2ms/step - loss: 0.2522 - accuracy: 0.9243 - val_loss: 0.1340 - val_accuracy: 0.9610\n",
            "Epoch 5/30\n",
            "1875/1875 [==============================] - 3s 2ms/step - loss: 0.2378 - accuracy: 0.9286 - val_loss: 0.1262 - val_accuracy: 0.9629\n",
            "Epoch 6/30\n",
            "1875/1875 [==============================] - 3s 2ms/step - loss: 0.2286 - accuracy: 0.9304 - val_loss: 0.1223 - val_accuracy: 0.9652\n",
            "Epoch 7/30\n",
            "1875/1875 [==============================] - 3s 2ms/step - loss: 0.2229 - accuracy: 0.9326 - val_loss: 0.1234 - val_accuracy: 0.9647\n",
            "Epoch 8/30\n",
            "1875/1875 [==============================] - 3s 2ms/step - loss: 0.2133 - accuracy: 0.9356 - val_loss: 0.1162 - val_accuracy: 0.9662\n",
            "Epoch 9/30\n",
            "1875/1875 [==============================] - 3s 2ms/step - loss: 0.2088 - accuracy: 0.9359 - val_loss: 0.1137 - val_accuracy: 0.9657\n",
            "Epoch 10/30\n",
            "1875/1875 [==============================] - 3s 2ms/step - loss: 0.2045 - accuracy: 0.9360 - val_loss: 0.1170 - val_accuracy: 0.9675\n",
            "Epoch 11/30\n",
            "1875/1875 [==============================] - 3s 2ms/step - loss: 0.2015 - accuracy: 0.9386 - val_loss: 0.1163 - val_accuracy: 0.9663\n",
            "Epoch 12/30\n",
            "1875/1875 [==============================] - 3s 2ms/step - loss: 0.1955 - accuracy: 0.9394 - val_loss: 0.1114 - val_accuracy: 0.9696\n",
            "Epoch 13/30\n",
            "1875/1875 [==============================] - 3s 2ms/step - loss: 0.1921 - accuracy: 0.9399 - val_loss: 0.1164 - val_accuracy: 0.9670\n",
            "Epoch 14/30\n",
            "1875/1875 [==============================] - 3s 2ms/step - loss: 0.1894 - accuracy: 0.9395 - val_loss: 0.1109 - val_accuracy: 0.9698\n",
            "Epoch 15/30\n",
            "1875/1875 [==============================] - 3s 2ms/step - loss: 0.1845 - accuracy: 0.9419 - val_loss: 0.1122 - val_accuracy: 0.9680\n",
            "Epoch 16/30\n",
            "1875/1875 [==============================] - 3s 2ms/step - loss: 0.1841 - accuracy: 0.9422 - val_loss: 0.1102 - val_accuracy: 0.9692\n",
            "Epoch 17/30\n",
            "1875/1875 [==============================] - 3s 2ms/step - loss: 0.1811 - accuracy: 0.9430 - val_loss: 0.1173 - val_accuracy: 0.9684\n",
            "Epoch 18/30\n",
            "1875/1875 [==============================] - 3s 2ms/step - loss: 0.1791 - accuracy: 0.9438 - val_loss: 0.1085 - val_accuracy: 0.9707\n",
            "Epoch 19/30\n",
            "1875/1875 [==============================] - 3s 2ms/step - loss: 0.1755 - accuracy: 0.9449 - val_loss: 0.1112 - val_accuracy: 0.9692\n",
            "Epoch 20/30\n",
            "1875/1875 [==============================] - 3s 2ms/step - loss: 0.1749 - accuracy: 0.9442 - val_loss: 0.1117 - val_accuracy: 0.9711\n",
            "Epoch 21/30\n",
            "1875/1875 [==============================] - 3s 2ms/step - loss: 0.1759 - accuracy: 0.9451 - val_loss: 0.1116 - val_accuracy: 0.9716\n",
            "Epoch 22/30\n",
            "1875/1875 [==============================] - 3s 2ms/step - loss: 0.1703 - accuracy: 0.9452 - val_loss: 0.1163 - val_accuracy: 0.9699\n",
            "Epoch 23/30\n",
            "1875/1875 [==============================] - 3s 2ms/step - loss: 0.1711 - accuracy: 0.9457 - val_loss: 0.1154 - val_accuracy: 0.9696\n",
            "Epoch 24/30\n",
            "1875/1875 [==============================] - 3s 2ms/step - loss: 0.1694 - accuracy: 0.9456 - val_loss: 0.1122 - val_accuracy: 0.9701\n",
            "Epoch 25/30\n",
            "1875/1875 [==============================] - 3s 2ms/step - loss: 0.1667 - accuracy: 0.9463 - val_loss: 0.1140 - val_accuracy: 0.9706\n",
            "Epoch 26/30\n",
            "1875/1875 [==============================] - 3s 2ms/step - loss: 0.1665 - accuracy: 0.9470 - val_loss: 0.1142 - val_accuracy: 0.9711\n",
            "Epoch 27/30\n",
            "1875/1875 [==============================] - 3s 2ms/step - loss: 0.1639 - accuracy: 0.9463 - val_loss: 0.1133 - val_accuracy: 0.9718\n",
            "Epoch 28/30\n",
            "1875/1875 [==============================] - 3s 2ms/step - loss: 0.1611 - accuracy: 0.9488 - val_loss: 0.1180 - val_accuracy: 0.9704\n",
            "Epoch 29/30\n",
            "1875/1875 [==============================] - 3s 2ms/step - loss: 0.1624 - accuracy: 0.9484 - val_loss: 0.1151 - val_accuracy: 0.9705\n",
            "Epoch 30/30\n",
            "1875/1875 [==============================] - 3s 2ms/step - loss: 0.1617 - accuracy: 0.9484 - val_loss: 0.1181 - val_accuracy: 0.9710\n"
          ],
          "name": "stdout"
        }
      ]
    },
    {
      "cell_type": "code",
      "metadata": {
        "id": "MSj0kifiSDfW",
        "outputId": "391820fa-bdcf-456b-aac4-05cab955328a",
        "colab": {
          "base_uri": "https://localhost:8080/",
          "height": 282
        }
      },
      "source": [
        "plt.plot(report.history['loss'], label=\"loss\")\n",
        "plt.plot(report.history['val_loss'], label=\"validation_loss\")\n",
        "plt.legend()"
      ],
      "execution_count": null,
      "outputs": [
        {
          "output_type": "execute_result",
          "data": {
            "text/plain": [
              "<matplotlib.legend.Legend at 0x7f554b2404a8>"
            ]
          },
          "metadata": {
            "tags": []
          },
          "execution_count": 26
        },
        {
          "output_type": "display_data",
          "data": {
            "image/png": "[encoded data removed]",
            "text/plain": [
              "<Figure size 432x288 with 1 Axes>"
            ]
          },
          "metadata": {
            "tags": [],
            "needs_background": "light"
          }
        }
      ]
    },
    {
      "cell_type": "code",
      "metadata": {
        "id": "unry0DbzOTKh",
        "outputId": "fd87487a-ef83-46ca-ac2e-bc901d38150e",
        "colab": {
          "base_uri": "https://localhost:8080/",
          "height": 282
        }
      },
      "source": [
        "plt.plot(report.history['accuracy'], label=\"accuracy\")\n",
        "plt.plot(report.history['val_accuracy'], label=\"validation_accuracy\")\n",
        "plt.legend()"
      ],
      "execution_count": null,
      "outputs": [
        {
          "output_type": "execute_result",
          "data": {
            "text/plain": [
              "<matplotlib.legend.Legend at 0x7f555583f518>"
            ]
          },
          "metadata": {
            "tags": []
          },
          "execution_count": 27
        },
        {
          "output_type": "display_data",
          "data": {
            "image/png": "[encoded data removed]",
            "text/plain": [
              "<Figure size 432x288 with 1 Axes>"
            ]
          },
          "metadata": {
            "tags": [],
            "needs_background": "light"
          }
        }
      ]
    },
    {
      "cell_type": "code",
      "metadata": {
        "id": "LuietUFpEG5a",
        "outputId": "99751c6d-350b-468f-9c7a-b9cd693c8f8e",
        "colab": {
          "base_uri": "https://localhost:8080/",
          "height": 87
        }
      },
      "source": [
        "print(\"Train eval: \", model.evaluate(X_train, y_train))\n",
        "print(\"Test eval: \", model.evaluate(X_test, y_test))\n"
      ],
      "execution_count": null,
      "outputs": [
        {
          "output_type": "stream",
          "text": [
            "1875/1875 [==============================] - 3s 2ms/step - loss: 0.0493 - accuracy: 0.9848\n",
            "Train eval:  [0.0492866076529026, 0.9848499894142151]\n",
            "313/313 [==============================] - 0s 1ms/step - loss: 0.1181 - accuracy: 0.9710\n",
            "Test eval:  [0.11809713393449783, 0.9710000157356262]\n"
          ],
          "name": "stdout"
        }
      ]
    },
    {
      "cell_type": "code",
      "metadata": {
        "id": "OWba2a1fPZtn"
      },
      "source": [
        "y_pred = model.predict(X_test).argmax(axis=1)"
      ],
      "execution_count": null,
      "outputs": []
    },
    {
      "cell_type": "code",
      "metadata": {
        "id": "4MH550mZPdjG",
        "outputId": "38db3dbe-51bc-42a9-b934-65346a08cfad",
        "colab": {
          "base_uri": "https://localhost:8080/",
          "height": 52
        }
      },
      "source": [
        "print(y_test.shape)\n",
        "print(y_pred.shape)"
      ],
      "execution_count": null,
      "outputs": [
        {
          "output_type": "stream",
          "text": [
            "(10000,)\n",
            "(10000,)\n"
          ],
          "name": "stdout"
        }
      ]
    },
    {
      "cell_type": "code",
      "metadata": {
        "id": "4TVvUj8ROdNP",
        "outputId": "37cbd756-dd39-4d7e-9552-c25b089f2d54",
        "colab": {
          "base_uri": "https://localhost:8080/",
          "height": 580
        }
      },
      "source": [
        "from sklearn.metrics import confusion_matrix\n",
        "import itertools\n",
        "cm = confusion_matrix(y_test, y_pred)\n",
        "\n",
        "plt.figure(figsize=(10,10))\n",
        "plt.imshow(cm, cmap=plt.cm.Blues)\n",
        "for i,j in itertools.product(range(cm.shape[0]), range(cm.shape[1])):\n",
        "  plt.text(j, i, format(cm[i,j], 'd'),\n",
        "           horizontalalignment = 'center',\n",
        "           color='black')\n",
        "plt.xlabel(\"Predicted labels\")\n",
        "plt.ylabel(\"True labels\")\n",
        "plt.xticks(list(range(10)))\n",
        "plt.yticks(list(range(10)))\n",
        "plt.title('Confusion matrix')\n",
        "plt.colorbar()\n",
        "plt.show()\n"
      ],
      "execution_count": null,
      "outputs": [
        {
          "output_type": "display_data",
          "data": {
            "image/png": "[encoded data removed]",
            "text/plain": [
              "<Figure size 720x720 with 2 Axes>"
            ]
          },
          "metadata": {
            "tags": [],
            "needs_background": "light"
          }
        }
      ]
    },
    {
      "cell_type": "code",
      "metadata": {
        "id": "4O2RlW9QTgEq",
        "outputId": "2cdf394e-88a1-4ab1-e553-e3485018ef63",
        "colab": {
          "base_uri": "https://localhost:8080/",
          "height": 298
        }
      },
      "source": [
        "misshits = np.where(y_pred!=y_test)[0]\n",
        "index = np.random.choice(misshits)\n",
        "plt.imshow(X_test[index].reshape(28,28), cmap='gray')\n",
        "plt.title(\"Predicted = \" + str(y_pred[index]) + \", Real = \" + str(y_test[index]))"
      ],
      "execution_count": null,
      "outputs": [
        {
          "output_type": "execute_result",
          "data": {
            "text/plain": [
              "Text(0.5, 1.0, 'Predicted = 9, Real = 8')"
            ]
          },
          "metadata": {
            "tags": []
          },
          "execution_count": 33
        },
        {
          "output_type": "display_data",
          "data": {
            "image/png": "[encoded data removed]",
            "text/plain": [
              "<Figure size 432x288 with 1 Axes>"
            ]
          },
          "metadata": {
            "tags": [],
            "needs_background": "light"
          }
        }
      ]
    },
    {
      "cell_type": "code",
      "metadata": {
        "id": "ZGYzYLlPOi-c"
      },
      "source": [
        ""
      ],
      "execution_count": null,
      "outputs": []
    }
  ]
}