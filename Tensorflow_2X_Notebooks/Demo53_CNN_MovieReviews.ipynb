{
  "nbformat": 4,
  "nbformat_minor": 0,
  "metadata": {
    "colab": {
      "name": "Demo53_CNN_MovieReviews.ipynb",
      "provenance": [],
      "collapsed_sections": []
    },
    "kernelspec": {
      "name": "python3",
      "display_name": "Python 3"
    },
    "accelerator": "GPU"
  },
  "cells": [
    {
      "cell_type": "markdown",
      "metadata": {
        "id": "P9bJCDjdlgG6",
        "colab_type": "text"
      },
      "source": [
        "# **Spit some [tensor] flow**\n",
        "\n",
        "We need to learn the intricacies of tensorflow to master deep learning\n",
        "\n",
        "`Let's get this over with`\n",
        "\n"
      ]
    },
    {
      "cell_type": "code",
      "metadata": {
        "id": "aQwc0re5mFld",
        "colab_type": "code",
        "outputId": "fda6faaa-83c3-42f2-8d22-73a615cdabcf",
        "colab": {
          "base_uri": "https://localhost:8080/",
          "height": 35
        }
      },
      "source": [
        "import numpy as np\n",
        "import pandas as pd\n",
        "import matplotlib.pyplot as plt\n",
        "import tensorflow as tf\n",
        "print(tf.__version__)"
      ],
      "execution_count": 3,
      "outputs": [
        {
          "output_type": "stream",
          "text": [
            "2.2.0\n"
          ],
          "name": "stdout"
        }
      ]
    },
    {
      "cell_type": "markdown",
      "metadata": {
        "id": "rOBIh9V2wcZ_",
        "colab_type": "text"
      },
      "source": [
        "## We can use Convolutions to get features from text\n",
        "\n",
        "In Images we have H, W and Input, Output nodes for convolution layers \n",
        "\n",
        "e.g., 3 x 3 x 5 x 64\n",
        "\n",
        "We can migrate this idea to text by using T, input and output nodes as the filter dimensions  \n"
      ]
    },
    {
      "cell_type": "code",
      "metadata": {
        "id": "CaBxIWkog_i-",
        "colab_type": "code",
        "colab": {}
      },
      "source": [
        "from tensorflow.keras.layers import Input, Dense, Conv1D, MaxPooling1D, GlobalMaxPooling1D, Embedding, Dropout\n",
        "from tensorflow.keras.models import Model\n",
        "from tensorflow.keras.optimizers import SGD, Adam, Adamax\n",
        "from tensorflow.keras.preprocessing.text import Tokenizer\n",
        "from tensorflow.keras.preprocessing.sequence import pad_sequences"
      ],
      "execution_count": 0,
      "outputs": []
    },
    {
      "cell_type": "markdown",
      "metadata": {
        "id": "ofiCPRlY3MUV",
        "colab_type": "text"
      },
      "source": [
        "## Let's import the dataset\n"
      ]
    },
    {
      "cell_type": "code",
      "metadata": {
        "id": "bT8adT2k2K0q",
        "colab_type": "code",
        "colab": {}
      },
      "source": [
        "def evaluation_tf(report, y_test, y_pred, classes):\n",
        "  plt.plot(report.history['loss'], label = 'training_loss')\n",
        "  plt.plot(report.history['val_loss'], label = 'validation_loss')\n",
        "  plt.legend()\n",
        "  plt.show()\n",
        "  plt.plot(report.history['accuracy'], label = 'training_accuracy')\n",
        "  plt.plot(report.history['val_accuracy'], label = 'validation_accuracy')\n",
        "  plt.legend()\n",
        "  plt.show()\n",
        "\n",
        "  from sklearn.metrics import confusion_matrix\n",
        "  import itertools\n",
        "  cm = confusion_matrix(y_test, y_pred)\n",
        "\n",
        "  plt.figure(figsize=(10,10))\n",
        "  plt.imshow(cm, cmap=plt.cm.Blues)\n",
        "  for i,j in itertools.product(range(cm.shape[0]), range(cm.shape[1])):\n",
        "    plt.text(j, i, format(cm[i,j], 'd'),\n",
        "            horizontalalignment = 'center',\n",
        "            color='black')\n",
        "  plt.xlabel(\"Predicted labels\")\n",
        "  plt.ylabel(\"True labels\")\n",
        "  plt.xticks(range(0,classes))\n",
        "  plt.yticks(range(0,classes))\n",
        "  plt.title('Confusion matrix')\n",
        "  plt.colorbar()\n",
        "  plt.show()"
      ],
      "execution_count": 0,
      "outputs": []
    },
    {
      "cell_type": "code",
      "metadata": {
        "id": "PKsiBvQv3PKy",
        "colab_type": "code",
        "outputId": "ae7931e4-0650-4794-ef55-9e2fd7cc1afa",
        "colab": {
          "base_uri": "https://localhost:8080/",
          "height": 202
        }
      },
      "source": [
        "data = pd.read_csv(\"sample_data/train.tsv\", delimiter='\\t')\n",
        "data.head()\n"
      ],
      "execution_count": 5,
      "outputs": [
        {
          "output_type": "execute_result",
          "data": {
            "text/html": [
              "<div>\n",
              "<style scoped>\n",
              "    .dataframe tbody tr th:only-of-type {\n",
              "        vertical-align: middle;\n",
              "    }\n",
              "\n",
              "    .dataframe tbody tr th {\n",
              "        vertical-align: top;\n",
              "    }\n",
              "\n",
              "    .dataframe thead th {\n",
              "        text-align: right;\n",
              "    }\n",
              "</style>\n",
              "<table border=\"1\" class=\"dataframe\">\n",
              "  <thead>\n",
              "    <tr style=\"text-align: right;\">\n",
              "      <th></th>\n",
              "      <th>PhraseId</th>\n",
              "      <th>SentenceId</th>\n",
              "      <th>Phrase</th>\n",
              "      <th>Sentiment</th>\n",
              "    </tr>\n",
              "  </thead>\n",
              "  <tbody>\n",
              "    <tr>\n",
              "      <th>0</th>\n",
              "      <td>1</td>\n",
              "      <td>1</td>\n",
              "      <td>A series of escapades demonstrating the adage ...</td>\n",
              "      <td>1</td>\n",
              "    </tr>\n",
              "    <tr>\n",
              "      <th>1</th>\n",
              "      <td>2</td>\n",
              "      <td>1</td>\n",
              "      <td>A series of escapades demonstrating the adage ...</td>\n",
              "      <td>2</td>\n",
              "    </tr>\n",
              "    <tr>\n",
              "      <th>2</th>\n",
              "      <td>3</td>\n",
              "      <td>1</td>\n",
              "      <td>A series</td>\n",
              "      <td>2</td>\n",
              "    </tr>\n",
              "    <tr>\n",
              "      <th>3</th>\n",
              "      <td>4</td>\n",
              "      <td>1</td>\n",
              "      <td>A</td>\n",
              "      <td>2</td>\n",
              "    </tr>\n",
              "    <tr>\n",
              "      <th>4</th>\n",
              "      <td>5</td>\n",
              "      <td>1</td>\n",
              "      <td>series</td>\n",
              "      <td>2</td>\n",
              "    </tr>\n",
              "  </tbody>\n",
              "</table>\n",
              "</div>"
            ],
            "text/plain": [
              "   PhraseId  ...  Sentiment\n",
              "0         1  ...          1\n",
              "1         2  ...          2\n",
              "2         3  ...          2\n",
              "3         4  ...          2\n",
              "4         5  ...          2\n",
              "\n",
              "[5 rows x 4 columns]"
            ]
          },
          "metadata": {
            "tags": []
          },
          "execution_count": 5
        }
      ]
    },
    {
      "cell_type": "code",
      "metadata": {
        "id": "zcprBzurypnO",
        "colab_type": "code",
        "outputId": "710e8e30-9788-4866-cacd-a38723a02908",
        "colab": {
          "base_uri": "https://localhost:8080/",
          "height": 35
        }
      },
      "source": [
        "Y = len(data.Sentiment.unique())\n",
        "print(Y)"
      ],
      "execution_count": 6,
      "outputs": [
        {
          "output_type": "stream",
          "text": [
            "5\n"
          ],
          "name": "stdout"
        }
      ]
    },
    {
      "cell_type": "code",
      "metadata": {
        "id": "VuDp5lA6yntA",
        "colab_type": "code",
        "colab": {}
      },
      "source": [
        "X = data.iloc[:, 2]\n",
        "y = data.iloc[:, -1].values"
      ],
      "execution_count": 0,
      "outputs": []
    },
    {
      "cell_type": "code",
      "metadata": {
        "id": "JYDsmaT7saNC",
        "colab_type": "code",
        "colab": {}
      },
      "source": [
        "# TRAIN TEST SPLIT\n",
        "from sklearn.model_selection import train_test_split\n",
        "X_train, X_test, y_train, y_test = train_test_split(X, y, test_size = 0.2)"
      ],
      "execution_count": 0,
      "outputs": []
    },
    {
      "cell_type": "code",
      "metadata": {
        "id": "50xq7FV0sIm7",
        "colab_type": "code",
        "colab": {}
      },
      "source": [
        "MAX_SIZE = 20000\n",
        "tokenizer = Tokenizer(num_words=MAX_SIZE)\n",
        "tokenizer.fit_on_texts(X_train)\n",
        "sequences_train = tokenizer.texts_to_sequences(X_train)\n",
        "sequences_test = tokenizer.texts_to_sequences(X_test)\n"
      ],
      "execution_count": 0,
      "outputs": []
    },
    {
      "cell_type": "code",
      "metadata": {
        "id": "ht8S7bwxs4HL",
        "colab_type": "code",
        "outputId": "07d72acf-c426-4d50-88ac-d72f0a293278",
        "colab": {
          "base_uri": "https://localhost:8080/",
          "height": 35
        }
      },
      "source": [
        "word2index = tokenizer.word_index\n",
        "V = len(word2index)\n",
        "print(\"tokens = \" + str(V))"
      ],
      "execution_count": 10,
      "outputs": [
        {
          "output_type": "stream",
          "text": [
            "tokens = 15279\n"
          ],
          "name": "stdout"
        }
      ]
    },
    {
      "cell_type": "code",
      "metadata": {
        "id": "4n82_EtouTL4",
        "colab_type": "code",
        "colab": {}
      },
      "source": [
        "X_train = pad_sequences(sequences_train)"
      ],
      "execution_count": 0,
      "outputs": []
    },
    {
      "cell_type": "code",
      "metadata": {
        "id": "yNnkVkDcxh__",
        "colab_type": "code",
        "colab": {}
      },
      "source": [
        "X_test = pad_sequences(sequences_test, maxlen=X_train.shape[1])"
      ],
      "execution_count": 0,
      "outputs": []
    },
    {
      "cell_type": "code",
      "metadata": {
        "id": "JJuANjZRuIfg",
        "colab_type": "code",
        "outputId": "55b97d66-6c92-452c-be8e-7b7ea5675a8f",
        "colab": {
          "base_uri": "https://localhost:8080/",
          "height": 87
        }
      },
      "source": [
        "print(X_train.shape)\n",
        "print(X_test.shape)\n",
        "print(y_train.shape)\n",
        "print(y_test.shape)\n",
        "\n",
        "N, T = X_train.shape"
      ],
      "execution_count": 13,
      "outputs": [
        {
          "output_type": "stream",
          "text": [
            "(124848, 49)\n",
            "(31212, 49)\n",
            "(124848,)\n",
            "(31212,)\n"
          ],
          "name": "stdout"
        }
      ]
    },
    {
      "cell_type": "code",
      "metadata": {
        "id": "lPU77_iSvtAJ",
        "colab_type": "code",
        "colab": {}
      },
      "source": [
        "# Let's talk about D, what is it and how do we set it? \n",
        "# This is the dimensionality of the embedding layer, essentially the vector that each word becomes \n",
        "\n",
        "D = 40 \n"
      ],
      "execution_count": 0,
      "outputs": []
    },
    {
      "cell_type": "code",
      "metadata": {
        "id": "RqLDjaKpwQxP",
        "colab_type": "code",
        "colab": {}
      },
      "source": [
        "i_layer = Input(shape = (T,))\n",
        "h_layer = Embedding(V+1, D)(i_layer)\n",
        "# V+1 because https://github.com/tensorflow/tensorflow/issues/38619\n",
        "h_layer = Conv1D(128, 3, activation='relu')(h_layer)\n",
        "h_layer = MaxPooling1D(3)(h_layer)\n",
        "h_layer = Conv1D(254, 3, activation='relu')(h_layer)\n",
        "h_layer = GlobalMaxPooling1D()(h_layer)\n",
        "h_layer = Dense(20, activation='relu')(h_layer)\n",
        "h_layer = Dropout(0.5)(h_layer)\n",
        "o_layer = Dense(Y, activation='softmax')(h_layer)\n",
        "\n",
        "model = Model(i_layer, o_layer)"
      ],
      "execution_count": 0,
      "outputs": []
    },
    {
      "cell_type": "code",
      "metadata": {
        "id": "TW9j4VVFxVuS",
        "colab_type": "code",
        "colab": {}
      },
      "source": [
        "model.compile(\n",
        "    optimizer='adam',\n",
        "    loss='sparse_categorical_crossentropy',\n",
        "    metrics=['accuracy'])"
      ],
      "execution_count": 0,
      "outputs": []
    },
    {
      "cell_type": "code",
      "metadata": {
        "id": "lf9hTfOGxZn5",
        "colab_type": "code",
        "outputId": "99ed9f2b-258b-4382-b6e2-9930f6afb28c",
        "colab": {
          "base_uri": "https://localhost:8080/",
          "height": 364
        }
      },
      "source": [
        "report = model.fit(X_train, y_train, epochs = 10, validation_data=(X_test, y_test))"
      ],
      "execution_count": 42,
      "outputs": [
        {
          "output_type": "stream",
          "text": [
            "Epoch 1/10\n",
            "3902/3902 [==============================] - 32s 8ms/step - loss: 1.2143 - accuracy: 0.5263 - val_loss: 1.1185 - val_accuracy: 0.5532\n",
            "Epoch 2/10\n",
            "3902/3902 [==============================] - 32s 8ms/step - loss: 1.1086 - accuracy: 0.5533 - val_loss: 1.0640 - val_accuracy: 0.5617\n",
            "Epoch 3/10\n",
            "3902/3902 [==============================] - 32s 8ms/step - loss: 1.0529 - accuracy: 0.5972 - val_loss: 1.0259 - val_accuracy: 0.6035\n",
            "Epoch 4/10\n",
            "3902/3902 [==============================] - 33s 8ms/step - loss: 1.0022 - accuracy: 0.6021 - val_loss: 1.0258 - val_accuracy: 0.6038\n",
            "Epoch 5/10\n",
            "3902/3902 [==============================] - 33s 8ms/step - loss: 0.9705 - accuracy: 0.6167 - val_loss: 1.0203 - val_accuracy: 0.6111\n",
            "Epoch 6/10\n",
            "3902/3902 [==============================] - 33s 8ms/step - loss: 0.9462 - accuracy: 0.6308 - val_loss: 1.0312 - val_accuracy: 0.6126\n",
            "Epoch 7/10\n",
            "3902/3902 [==============================] - 32s 8ms/step - loss: 0.9189 - accuracy: 0.6390 - val_loss: 1.0305 - val_accuracy: 0.6152\n",
            "Epoch 8/10\n",
            "3902/3902 [==============================] - 33s 8ms/step - loss: 0.8975 - accuracy: 0.6463 - val_loss: 1.0377 - val_accuracy: 0.6154\n",
            "Epoch 9/10\n",
            "3902/3902 [==============================] - 33s 9ms/step - loss: 0.8791 - accuracy: 0.6543 - val_loss: 1.0778 - val_accuracy: 0.6166\n",
            "Epoch 10/10\n",
            "3902/3902 [==============================] - 32s 8ms/step - loss: 0.8589 - accuracy: 0.6681 - val_loss: 1.0959 - val_accuracy: 0.6190\n"
          ],
          "name": "stdout"
        }
      ]
    },
    {
      "cell_type": "markdown",
      "metadata": {
        "id": "LCDu_lnNk__z",
        "colab_type": "text"
      },
      "source": [
        "## Seems like the model is overfitting, let's see the results"
      ]
    },
    {
      "cell_type": "code",
      "metadata": {
        "id": "2UQR3P1VNyjR",
        "colab_type": "code",
        "colab": {}
      },
      "source": [
        "y_pred = model.predict(X_test).argmax(axis = 1)"
      ],
      "execution_count": 0,
      "outputs": []
    },
    {
      "cell_type": "code",
      "metadata": {
        "id": "LAWi36PA2x7H",
        "colab_type": "code",
        "colab": {
          "base_uri": "https://localhost:8080/",
          "height": 1000
        },
        "outputId": "931baed7-0f17-4c28-fd3e-c44e6965326b"
      },
      "source": [
        "evaluation_tf(report, y_test, y_pred, Y)"
      ],
      "execution_count": 44,
      "outputs": [
        {
          "output_type": "display_data",
          "data": {
            "image/png": "[encoded data removed]",
            "text/plain": [
              "<Figure size 432x288 with 1 Axes>"
            ]
          },
          "metadata": {
            "tags": [],
            "needs_background": "light"
          }
        },
        {
          "output_type": "display_data",
          "data": {
            "image/png": "[encoded data removed]",
            "text/plain": [
              "<Figure size 432x288 with 1 Axes>"
            ]
          },
          "metadata": {
            "tags": [],
            "needs_background": "light"
          }
        },
        {
          "output_type": "display_data",
          "data": {
            "image/png": "[encoded data removed]",
            "text/plain": [
              "<Figure size 720x720 with 2 Axes>"
            ]
          },
          "metadata": {
            "tags": [],
            "needs_background": "light"
          }
        }
      ]
    }
  ]
}