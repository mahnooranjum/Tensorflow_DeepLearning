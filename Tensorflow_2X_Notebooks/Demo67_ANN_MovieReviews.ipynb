{
  "nbformat": 4,
  "nbformat_minor": 0,
  "metadata": {
    "colab": {
      "name": "Demo67_ANN_MovieReviews.ipynb",
      "provenance": [],
      "collapsed_sections": []
    },
    "kernelspec": {
      "name": "python3",
      "display_name": "Python 3"
    },
    "accelerator": "GPU"
  },
  "cells": [
    {
      "cell_type": "markdown",
      "metadata": {
        "id": "P9bJCDjdlgG6",
        "colab_type": "text"
      },
      "source": [
        "# **Spit some [tensor] flow**\n",
        "\n",
        "We need to learn the intricacies of tensorflow to master deep learning\n",
        "\n",
        "`Let's get this over with`\n",
        "\n"
      ]
    },
    {
      "cell_type": "code",
      "metadata": {
        "id": "aQwc0re5mFld",
        "colab_type": "code",
        "outputId": "bbd3319a-70c1-4430-e6db-314fa5aa0c2b",
        "colab": {
          "base_uri": "https://localhost:8080/",
          "height": 35
        }
      },
      "source": [
        "import numpy as np\n",
        "import pandas as pd\n",
        "import matplotlib.pyplot as plt\n",
        "import tensorflow as tf\n",
        "import cv2\n",
        "print(tf.__version__)"
      ],
      "execution_count": 8,
      "outputs": [
        {
          "output_type": "stream",
          "text": [
            "2.2.0\n"
          ],
          "name": "stdout"
        }
      ]
    },
    {
      "cell_type": "code",
      "metadata": {
        "id": "CaBxIWkog_i-",
        "colab_type": "code",
        "colab": {}
      },
      "source": [
        "from tensorflow.keras.layers import Input, Dropout, Dense, Flatten, SimpleRNN, LSTM, GlobalMaxPooling1D, Embedding\n",
        "from tensorflow.keras.models import Model\n",
        "from tensorflow.keras.optimizers import SGD, Adam, Adamax\n",
        "from tensorflow.keras.preprocessing.text import Tokenizer\n",
        "from tensorflow.keras.preprocessing.sequence import pad_sequences"
      ],
      "execution_count": 0,
      "outputs": []
    },
    {
      "cell_type": "markdown",
      "metadata": {
        "id": "ofiCPRlY3MUV",
        "colab_type": "text"
      },
      "source": [
        "## Let's import the dataset\n"
      ]
    },
    {
      "cell_type": "code",
      "metadata": {
        "id": "ovloe8cp0wpa",
        "colab_type": "code",
        "colab": {}
      },
      "source": [
        "def evaluation_tf(report, y_test, y_pred, classes):\n",
        "  plt.plot(report.history['loss'], label = 'training_loss')\n",
        "  plt.plot(report.history['val_loss'], label = 'validation_loss')\n",
        "  plt.legend()\n",
        "  plt.show()\n",
        "  plt.plot(report.history['accuracy'], label = 'training_accuracy')\n",
        "  plt.plot(report.history['val_accuracy'], label = 'validation_accuracy')\n",
        "  plt.legend()\n",
        "  plt.show()\n",
        "\n",
        "  from sklearn.metrics import confusion_matrix\n",
        "  import itertools\n",
        "  cm = confusion_matrix(y_test, y_pred)\n",
        "\n",
        "  plt.figure(figsize=(10,10))\n",
        "  plt.imshow(cm, cmap=plt.cm.Blues)\n",
        "  for i,j in itertools.product(range(cm.shape[0]), range(cm.shape[1])):\n",
        "    plt.text(j, i, format(cm[i,j], 'd'),\n",
        "            horizontalalignment = 'center',\n",
        "            color='black')\n",
        "  plt.xlabel(\"Predicted labels\")\n",
        "  plt.ylabel(\"True labels\")\n",
        "  plt.xticks(range(0,classes))\n",
        "  plt.yticks(range(0,classes))\n",
        "  plt.title('Confusion matrix')\n",
        "  plt.colorbar()\n",
        "  plt.show()"
      ],
      "execution_count": 0,
      "outputs": []
    },
    {
      "cell_type": "code",
      "metadata": {
        "id": "PKsiBvQv3PKy",
        "colab_type": "code",
        "outputId": "a4b6f9d4-6f71-4851-8fcf-b0987ea18153",
        "colab": {
          "base_uri": "https://localhost:8080/",
          "height": 202
        }
      },
      "source": [
        "data = pd.read_csv(\"sample_data/train.tsv\", delimiter='\\t')\n",
        "data.head()\n"
      ],
      "execution_count": 11,
      "outputs": [
        {
          "output_type": "execute_result",
          "data": {
            "text/html": [
              "<div>\n",
              "<style scoped>\n",
              "    .dataframe tbody tr th:only-of-type {\n",
              "        vertical-align: middle;\n",
              "    }\n",
              "\n",
              "    .dataframe tbody tr th {\n",
              "        vertical-align: top;\n",
              "    }\n",
              "\n",
              "    .dataframe thead th {\n",
              "        text-align: right;\n",
              "    }\n",
              "</style>\n",
              "<table border=\"1\" class=\"dataframe\">\n",
              "  <thead>\n",
              "    <tr style=\"text-align: right;\">\n",
              "      <th></th>\n",
              "      <th>PhraseId</th>\n",
              "      <th>SentenceId</th>\n",
              "      <th>Phrase</th>\n",
              "      <th>Sentiment</th>\n",
              "    </tr>\n",
              "  </thead>\n",
              "  <tbody>\n",
              "    <tr>\n",
              "      <th>0</th>\n",
              "      <td>1</td>\n",
              "      <td>1</td>\n",
              "      <td>A series of escapades demonstrating the adage ...</td>\n",
              "      <td>1</td>\n",
              "    </tr>\n",
              "    <tr>\n",
              "      <th>1</th>\n",
              "      <td>2</td>\n",
              "      <td>1</td>\n",
              "      <td>A series of escapades demonstrating the adage ...</td>\n",
              "      <td>2</td>\n",
              "    </tr>\n",
              "    <tr>\n",
              "      <th>2</th>\n",
              "      <td>3</td>\n",
              "      <td>1</td>\n",
              "      <td>A series</td>\n",
              "      <td>2</td>\n",
              "    </tr>\n",
              "    <tr>\n",
              "      <th>3</th>\n",
              "      <td>4</td>\n",
              "      <td>1</td>\n",
              "      <td>A</td>\n",
              "      <td>2</td>\n",
              "    </tr>\n",
              "    <tr>\n",
              "      <th>4</th>\n",
              "      <td>5</td>\n",
              "      <td>1</td>\n",
              "      <td>series</td>\n",
              "      <td>2</td>\n",
              "    </tr>\n",
              "  </tbody>\n",
              "</table>\n",
              "</div>"
            ],
            "text/plain": [
              "   PhraseId  ...  Sentiment\n",
              "0         1  ...          1\n",
              "1         2  ...          2\n",
              "2         3  ...          2\n",
              "3         4  ...          2\n",
              "4         5  ...          2\n",
              "\n",
              "[5 rows x 4 columns]"
            ]
          },
          "metadata": {
            "tags": []
          },
          "execution_count": 11
        }
      ]
    },
    {
      "cell_type": "code",
      "metadata": {
        "id": "zcprBzurypnO",
        "colab_type": "code",
        "outputId": "3fef00d4-a323-4585-df47-1bef4493b0f2",
        "colab": {
          "base_uri": "https://localhost:8080/",
          "height": 35
        }
      },
      "source": [
        "Y = len(data.Sentiment.unique())\n",
        "print(Y)"
      ],
      "execution_count": 12,
      "outputs": [
        {
          "output_type": "stream",
          "text": [
            "5\n"
          ],
          "name": "stdout"
        }
      ]
    },
    {
      "cell_type": "code",
      "metadata": {
        "id": "VuDp5lA6yntA",
        "colab_type": "code",
        "colab": {}
      },
      "source": [
        "X = data.iloc[:, 2]\n",
        "y = data.iloc[:, -1].values"
      ],
      "execution_count": 0,
      "outputs": []
    },
    {
      "cell_type": "code",
      "metadata": {
        "id": "JYDsmaT7saNC",
        "colab_type": "code",
        "colab": {}
      },
      "source": [
        "# TRAIN TEST SPLIT\n",
        "from sklearn.model_selection import train_test_split\n",
        "X_train, X_test, y_train, y_test = train_test_split(X, y, test_size = 0.2)"
      ],
      "execution_count": 0,
      "outputs": []
    },
    {
      "cell_type": "code",
      "metadata": {
        "id": "50xq7FV0sIm7",
        "colab_type": "code",
        "colab": {}
      },
      "source": [
        "MAX_SIZE = 20000\n",
        "tokenizer = Tokenizer(num_words=MAX_SIZE)\n",
        "tokenizer.fit_on_texts(X_train)\n",
        "sequences_train = tokenizer.texts_to_sequences(X_train)\n",
        "sequences_test = tokenizer.texts_to_sequences(X_test)\n"
      ],
      "execution_count": 0,
      "outputs": []
    },
    {
      "cell_type": "code",
      "metadata": {
        "id": "ht8S7bwxs4HL",
        "colab_type": "code",
        "outputId": "5bce5e9c-99e6-4227-95c5-15858a28e2fa",
        "colab": {
          "base_uri": "https://localhost:8080/",
          "height": 35
        }
      },
      "source": [
        "word2index = tokenizer.word_index\n",
        "V = len(word2index)\n",
        "print(\"tokens = \" + str(V))"
      ],
      "execution_count": 16,
      "outputs": [
        {
          "output_type": "stream",
          "text": [
            "tokens = 15280\n"
          ],
          "name": "stdout"
        }
      ]
    },
    {
      "cell_type": "code",
      "metadata": {
        "id": "4n82_EtouTL4",
        "colab_type": "code",
        "colab": {}
      },
      "source": [
        "X_train = pad_sequences(sequences_train)"
      ],
      "execution_count": 0,
      "outputs": []
    },
    {
      "cell_type": "code",
      "metadata": {
        "id": "yNnkVkDcxh__",
        "colab_type": "code",
        "colab": {}
      },
      "source": [
        "X_test = pad_sequences(sequences_test, maxlen=X_train.shape[1])"
      ],
      "execution_count": 0,
      "outputs": []
    },
    {
      "cell_type": "code",
      "metadata": {
        "id": "JJuANjZRuIfg",
        "colab_type": "code",
        "outputId": "cf422ed7-1037-4d6a-973c-0a84a6ce5cdc",
        "colab": {
          "base_uri": "https://localhost:8080/",
          "height": 87
        }
      },
      "source": [
        "print(X_train.shape)\n",
        "print(X_test.shape)\n",
        "print(y_train.shape)\n",
        "print(y_test.shape)\n",
        "\n",
        "N, T = X_train.shape"
      ],
      "execution_count": 19,
      "outputs": [
        {
          "output_type": "stream",
          "text": [
            "(124848, 49)\n",
            "(31212, 49)\n",
            "(124848,)\n",
            "(31212,)\n"
          ],
          "name": "stdout"
        }
      ]
    },
    {
      "cell_type": "code",
      "metadata": {
        "id": "lPU77_iSvtAJ",
        "colab_type": "code",
        "colab": {}
      },
      "source": [
        "# Let's talk about D, what is it and how do we set it? \n",
        "# This is the dimensionality of the embedding layer, essentially the vector that each word becomes \n",
        "\n",
        "D = 30 \n",
        "# hidden units\n",
        "U = 20\n"
      ],
      "execution_count": 0,
      "outputs": []
    },
    {
      "cell_type": "code",
      "metadata": {
        "id": "RqLDjaKpwQxP",
        "colab_type": "code",
        "colab": {}
      },
      "source": [
        "i_layer = Input(shape = (T,))\n",
        "h_layer = Embedding(V+1, D)(i_layer)\n",
        "# V+1 because https://github.com/tensorflow/tensorflow/issues/38619\n",
        "h_layer = Dense(U, activation='relu')(h_layer)\n",
        "h_layer = Dense(U, activation='relu')(h_layer)\n",
        "h_layer = GlobalMaxPooling1D()(h_layer)\n",
        "o_layer = Dense(Y, activation='softmax')(h_layer)\n",
        "\n",
        "model = Model(i_layer, o_layer)"
      ],
      "execution_count": 0,
      "outputs": []
    },
    {
      "cell_type": "code",
      "metadata": {
        "id": "TW9j4VVFxVuS",
        "colab_type": "code",
        "colab": {}
      },
      "source": [
        "model.compile(\n",
        "    optimizer='adam',\n",
        "    loss='sparse_categorical_crossentropy',\n",
        "    metrics=['accuracy'])"
      ],
      "execution_count": 0,
      "outputs": []
    },
    {
      "cell_type": "code",
      "metadata": {
        "id": "lf9hTfOGxZn5",
        "colab_type": "code",
        "outputId": "08aef59e-7c71-4463-e02d-443a378513ef",
        "colab": {
          "base_uri": "https://localhost:8080/",
          "height": 711
        }
      },
      "source": [
        "report = model.fit(X_train, y_train, epochs = 20, validation_data=(X_test, y_test))"
      ],
      "execution_count": 26,
      "outputs": [
        {
          "output_type": "stream",
          "text": [
            "Epoch 1/20\n",
            "3902/3902 [==============================] - 27s 7ms/step - loss: 1.0084 - accuracy: 0.5930 - val_loss: 0.8995 - val_accuracy: 0.6316\n",
            "Epoch 2/20\n",
            "3902/3902 [==============================] - 27s 7ms/step - loss: 0.8134 - accuracy: 0.6631 - val_loss: 0.8638 - val_accuracy: 0.6469\n",
            "Epoch 3/20\n",
            "3902/3902 [==============================] - 27s 7ms/step - loss: 0.7454 - accuracy: 0.6884 - val_loss: 0.8594 - val_accuracy: 0.6511\n",
            "Epoch 4/20\n",
            "3902/3902 [==============================] - 28s 7ms/step - loss: 0.7008 - accuracy: 0.7063 - val_loss: 0.8636 - val_accuracy: 0.6561\n",
            "Epoch 5/20\n",
            "3902/3902 [==============================] - 27s 7ms/step - loss: 0.6675 - accuracy: 0.7198 - val_loss: 0.8720 - val_accuracy: 0.6568\n",
            "Epoch 6/20\n",
            "3902/3902 [==============================] - 27s 7ms/step - loss: 0.6401 - accuracy: 0.7307 - val_loss: 0.8733 - val_accuracy: 0.6556\n",
            "Epoch 7/20\n",
            "3902/3902 [==============================] - 27s 7ms/step - loss: 0.6179 - accuracy: 0.7409 - val_loss: 0.8839 - val_accuracy: 0.6593\n",
            "Epoch 8/20\n",
            "3902/3902 [==============================] - 27s 7ms/step - loss: 0.5984 - accuracy: 0.7482 - val_loss: 0.8962 - val_accuracy: 0.6510\n",
            "Epoch 9/20\n",
            "3902/3902 [==============================] - 28s 7ms/step - loss: 0.5834 - accuracy: 0.7544 - val_loss: 0.9137 - val_accuracy: 0.6530\n",
            "Epoch 10/20\n",
            "3902/3902 [==============================] - 27s 7ms/step - loss: 0.5674 - accuracy: 0.7606 - val_loss: 0.9247 - val_accuracy: 0.6535\n",
            "Epoch 11/20\n",
            "3902/3902 [==============================] - 27s 7ms/step - loss: 0.5545 - accuracy: 0.7655 - val_loss: 0.9382 - val_accuracy: 0.6522\n",
            "Epoch 12/20\n",
            "3902/3902 [==============================] - 27s 7ms/step - loss: 0.5432 - accuracy: 0.7701 - val_loss: 0.9528 - val_accuracy: 0.6493\n",
            "Epoch 13/20\n",
            "3902/3902 [==============================] - 27s 7ms/step - loss: 0.5331 - accuracy: 0.7740 - val_loss: 0.9522 - val_accuracy: 0.6501\n",
            "Epoch 14/20\n",
            "3902/3902 [==============================] - 27s 7ms/step - loss: 0.5229 - accuracy: 0.7788 - val_loss: 0.9800 - val_accuracy: 0.6489\n",
            "Epoch 15/20\n",
            "3902/3902 [==============================] - 27s 7ms/step - loss: 0.5146 - accuracy: 0.7822 - val_loss: 0.9908 - val_accuracy: 0.6480\n",
            "Epoch 16/20\n",
            "3902/3902 [==============================] - 27s 7ms/step - loss: 0.5067 - accuracy: 0.7859 - val_loss: 0.9893 - val_accuracy: 0.6481\n",
            "Epoch 17/20\n",
            "3902/3902 [==============================] - 27s 7ms/step - loss: 0.4994 - accuracy: 0.7886 - val_loss: 1.0106 - val_accuracy: 0.6500\n",
            "Epoch 18/20\n",
            "3902/3902 [==============================] - 27s 7ms/step - loss: 0.4923 - accuracy: 0.7920 - val_loss: 1.0267 - val_accuracy: 0.6485\n",
            "Epoch 19/20\n",
            "3902/3902 [==============================] - 27s 7ms/step - loss: 0.4858 - accuracy: 0.7929 - val_loss: 1.0339 - val_accuracy: 0.6530\n",
            "Epoch 20/20\n",
            "3902/3902 [==============================] - 28s 7ms/step - loss: 0.4801 - accuracy: 0.7950 - val_loss: 1.0365 - val_accuracy: 0.6483\n"
          ],
          "name": "stdout"
        }
      ]
    },
    {
      "cell_type": "code",
      "metadata": {
        "id": "8xVbWzu2BTjT",
        "colab_type": "code",
        "outputId": "84d9a45f-54ba-4c3f-e693-8efa8149b0d0",
        "colab": {
          "base_uri": "https://localhost:8080/",
          "height": 283
        }
      },
      "source": [
        "plt.plot(report.history['loss'], label='training_loss')\n",
        "plt.plot(report.history['val_loss'], label='validation_loss')\n",
        "plt.legend()"
      ],
      "execution_count": 27,
      "outputs": [
        {
          "output_type": "execute_result",
          "data": {
            "text/plain": [
              "<matplotlib.legend.Legend at 0x7f46dc633390>"
            ]
          },
          "metadata": {
            "tags": []
          },
          "execution_count": 27
        },
        {
          "output_type": "display_data",
          "data": {
            "image/png": "[encoded data removed]",
            "text/plain": [
              "<Figure size 432x288 with 1 Axes>"
            ]
          },
          "metadata": {
            "tags": [],
            "needs_background": "light"
          }
        }
      ]
    },
    {
      "cell_type": "markdown",
      "metadata": {
        "id": "LCDu_lnNk__z",
        "colab_type": "text"
      },
      "source": [
        "## Seems like the model is overfitting, let's tune it"
      ]
    },
    {
      "cell_type": "code",
      "metadata": {
        "id": "IdoyZVtylNyV",
        "colab_type": "code",
        "colab": {}
      },
      "source": [
        "# Let's talk about D, what is it and how do we set it? \n",
        "# This is the dimensionality of the embedding layer, essentially the vector that each word becomes \n",
        "\n",
        "D = 20 \n",
        "# hidden units\n",
        "U = 20\n"
      ],
      "execution_count": 0,
      "outputs": []
    },
    {
      "cell_type": "code",
      "metadata": {
        "id": "CN0HxNM7lGhe",
        "colab_type": "code",
        "colab": {}
      },
      "source": [
        "i_layer = Input(shape = (T,))\n",
        "h_layer = Embedding(V+1, D)(i_layer)\n",
        "# V+1 because https://github.com/tensorflow/tensorflow/issues/38619\n",
        "h_layer = Dense(U, activation='relu')(h_layer)\n",
        "h_layer = Dropout(0.5)(h_layer)\n",
        "h_layer = Dense(U, activation='relu')(h_layer)\n",
        "h_layer = Dropout(0.5)(h_layer)\n",
        "h_layer = GlobalMaxPooling1D()(h_layer)\n",
        "o_layer = Dense(Y, activation='softmax')(h_layer)\n",
        "\n",
        "model = Model(i_layer, o_layer)"
      ],
      "execution_count": 0,
      "outputs": []
    },
    {
      "cell_type": "code",
      "metadata": {
        "id": "8wGS96l5lInT",
        "colab_type": "code",
        "colab": {}
      },
      "source": [
        "model.compile(\n",
        "    optimizer='adam',\n",
        "    loss='sparse_categorical_crossentropy',\n",
        "    metrics=['accuracy'])"
      ],
      "execution_count": 0,
      "outputs": []
    },
    {
      "cell_type": "code",
      "metadata": {
        "id": "MP4d4FnNlYJq",
        "colab_type": "code",
        "outputId": "a4bc3ea1-f96f-4d3b-9d4d-f700c12aede4",
        "colab": {
          "base_uri": "https://localhost:8080/",
          "height": 711
        }
      },
      "source": [
        "report = model.fit(X_train, y_train, epochs = 20, validation_data=(X_test, y_test))"
      ],
      "execution_count": 36,
      "outputs": [
        {
          "output_type": "stream",
          "text": [
            "Epoch 1/20\n",
            "3902/3902 [==============================] - 25s 6ms/step - loss: 1.1755 - accuracy: 0.5370 - val_loss: 1.3402 - val_accuracy: 0.4976\n",
            "Epoch 2/20\n",
            "3902/3902 [==============================] - 25s 6ms/step - loss: 1.0247 - accuracy: 0.5891 - val_loss: 1.2539 - val_accuracy: 0.5434\n",
            "Epoch 3/20\n",
            "3902/3902 [==============================] - 25s 6ms/step - loss: 0.9804 - accuracy: 0.6039 - val_loss: 1.1903 - val_accuracy: 0.5766\n",
            "Epoch 4/20\n",
            "3902/3902 [==============================] - 25s 6ms/step - loss: 0.9521 - accuracy: 0.6134 - val_loss: 1.1714 - val_accuracy: 0.5813\n",
            "Epoch 5/20\n",
            "3902/3902 [==============================] - 25s 6ms/step - loss: 0.9383 - accuracy: 0.6195 - val_loss: 1.1533 - val_accuracy: 0.5883\n",
            "Epoch 6/20\n",
            "3902/3902 [==============================] - 25s 6ms/step - loss: 0.9283 - accuracy: 0.6236 - val_loss: 1.1263 - val_accuracy: 0.5969\n",
            "Epoch 7/20\n",
            "3902/3902 [==============================] - 25s 6ms/step - loss: 0.9200 - accuracy: 0.6240 - val_loss: 1.1375 - val_accuracy: 0.5894\n",
            "Epoch 8/20\n",
            "3902/3902 [==============================] - 25s 6ms/step - loss: 0.9129 - accuracy: 0.6262 - val_loss: 1.1044 - val_accuracy: 0.5999\n",
            "Epoch 9/20\n",
            "3902/3902 [==============================] - 25s 6ms/step - loss: 0.9088 - accuracy: 0.6292 - val_loss: 1.0952 - val_accuracy: 0.6052\n",
            "Epoch 10/20\n",
            "3902/3902 [==============================] - 25s 6ms/step - loss: 0.9009 - accuracy: 0.6324 - val_loss: 1.0807 - val_accuracy: 0.6068\n",
            "Epoch 11/20\n",
            "3902/3902 [==============================] - 25s 6ms/step - loss: 0.8963 - accuracy: 0.6341 - val_loss: 1.0506 - val_accuracy: 0.6169\n",
            "Epoch 12/20\n",
            "3902/3902 [==============================] - 24s 6ms/step - loss: 0.8918 - accuracy: 0.6354 - val_loss: 1.0277 - val_accuracy: 0.6203\n",
            "Epoch 13/20\n",
            "3902/3902 [==============================] - 25s 6ms/step - loss: 0.8838 - accuracy: 0.6373 - val_loss: 1.0343 - val_accuracy: 0.6186\n",
            "Epoch 14/20\n",
            "3902/3902 [==============================] - 25s 6ms/step - loss: 0.8812 - accuracy: 0.6385 - val_loss: 1.0234 - val_accuracy: 0.6198\n",
            "Epoch 15/20\n",
            "3902/3902 [==============================] - 25s 6ms/step - loss: 0.8776 - accuracy: 0.6410 - val_loss: 1.0046 - val_accuracy: 0.6158\n",
            "Epoch 16/20\n",
            "3902/3902 [==============================] - 25s 6ms/step - loss: 0.8767 - accuracy: 0.6398 - val_loss: 1.0005 - val_accuracy: 0.6177\n",
            "Epoch 17/20\n",
            "3902/3902 [==============================] - 25s 6ms/step - loss: 0.8721 - accuracy: 0.6429 - val_loss: 1.0002 - val_accuracy: 0.6164\n",
            "Epoch 18/20\n",
            "3902/3902 [==============================] - 25s 6ms/step - loss: 0.8690 - accuracy: 0.6439 - val_loss: 0.9931 - val_accuracy: 0.6153\n",
            "Epoch 19/20\n",
            "3902/3902 [==============================] - 25s 6ms/step - loss: 0.8661 - accuracy: 0.6441 - val_loss: 0.9906 - val_accuracy: 0.6144\n",
            "Epoch 20/20\n",
            "3902/3902 [==============================] - 25s 7ms/step - loss: 0.8663 - accuracy: 0.6446 - val_loss: 0.9979 - val_accuracy: 0.6090\n"
          ],
          "name": "stdout"
        }
      ]
    },
    {
      "cell_type": "code",
      "metadata": {
        "id": "pJiPuixjn7mK",
        "colab_type": "code",
        "outputId": "df4530b6-0279-4284-f666-a79cb070c2b7",
        "colab": {
          "base_uri": "https://localhost:8080/",
          "height": 283
        }
      },
      "source": [
        "plt.plot(report.history['loss'], label='training_loss')\n",
        "plt.plot(report.history['val_loss'], label='validation_loss')\n",
        "plt.legend()"
      ],
      "execution_count": 37,
      "outputs": [
        {
          "output_type": "execute_result",
          "data": {
            "text/plain": [
              "<matplotlib.legend.Legend at 0x7f46d74bccf8>"
            ]
          },
          "metadata": {
            "tags": []
          },
          "execution_count": 37
        },
        {
          "output_type": "display_data",
          "data": {
            "image/png": "[encoded data removed]",
            "text/plain": [
              "<Figure size 432x288 with 1 Axes>"
            ]
          },
          "metadata": {
            "tags": [],
            "needs_background": "light"
          }
        }
      ]
    },
    {
      "cell_type": "code",
      "metadata": {
        "id": "nc6iaHLX0cnt",
        "colab_type": "code",
        "colab": {}
      },
      "source": [
        "y_pred= model.predict(X_test).argmax(axis = 1)"
      ],
      "execution_count": 0,
      "outputs": []
    },
    {
      "cell_type": "code",
      "metadata": {
        "id": "9n8i58Dd1q19",
        "colab_type": "code",
        "outputId": "ee830307-a5e1-400e-911d-a845553e65af",
        "colab": {
          "base_uri": "https://localhost:8080/",
          "height": 1000
        }
      },
      "source": [
        "evaluation_tf(report, y_test, y_pred, Y)"
      ],
      "execution_count": 40,
      "outputs": [
        {
          "output_type": "display_data",
          "data": {
            "image/png": "[encoded data removed]",
            "text/plain": [
              "<Figure size 432x288 with 1 Axes>"
            ]
          },
          "metadata": {
            "tags": [],
            "needs_background": "light"
          }
        },
        {
          "output_type": "display_data",
          "data": {
            "image/png": "[encoded data removed]",
            "text/plain": [
              "<Figure size 432x288 with 1 Axes>"
            ]
          },
          "metadata": {
            "tags": [],
            "needs_background": "light"
          }
        },
        {
          "output_type": "display_data",
          "data": {
            "image/png": "[encoded data removed]",
            "text/plain": [
              "<Figure size 720x720 with 2 Axes>"
            ]
          },
          "metadata": {
            "tags": [],
            "needs_background": "light"
          }
        }
      ]
    }
  ]
}