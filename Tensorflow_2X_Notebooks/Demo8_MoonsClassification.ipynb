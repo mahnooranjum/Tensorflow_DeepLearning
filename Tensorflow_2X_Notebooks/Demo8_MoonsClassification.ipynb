{
  "nbformat": 4,
  "nbformat_minor": 0,
  "metadata": {
    "colab": {
      "name": "Demo8_MoonsClassification.ipynb",
      "provenance": [],
      "collapsed_sections": []
    },
    "kernelspec": {
      "name": "python3",
      "display_name": "Python 3"
    }
  },
  "cells": [
    {
      "cell_type": "markdown",
      "metadata": {
        "id": "P9bJCDjdlgG6",
        "colab_type": "text"
      },
      "source": [
        "# **Spit some [tensor] flow**\n",
        "\n",
        "We need to learn the intricacies of tensorflow to master deep learning\n",
        "\n",
        "`This is how we write code`\n",
        "\n",
        "## Let's make some data to work on"
      ]
    },
    {
      "cell_type": "code",
      "metadata": {
        "id": "aQwc0re5mFld",
        "colab_type": "code",
        "outputId": "b4a8ee0f-d9c4-41f5-da9e-d805eae1cfb1",
        "colab": {
          "base_uri": "https://localhost:8080/",
          "height": 35
        }
      },
      "source": [
        "import numpy as np\n",
        "import pandas as pd\n",
        "import matplotlib.pyplot as plt\n",
        "import tensorflow as tf\n",
        "print(tf.__version__)"
      ],
      "execution_count": 2,
      "outputs": [
        {
          "output_type": "stream",
          "text": [
            "2.2.0-rc4\n"
          ],
          "name": "stdout"
        }
      ]
    },
    {
      "cell_type": "code",
      "metadata": {
        "id": "qyw8HvOuBEZm",
        "colab_type": "code",
        "outputId": "64d29a5d-76e3-4a89-fd5c-46e6bdc1de2e",
        "colab": {
          "base_uri": "https://localhost:8080/",
          "height": 279
        }
      },
      "source": [
        "from sklearn.datasets.samples_generator import make_moons\n",
        "from sklearn.datasets.samples_generator import make_circles\n",
        "from sklearn.datasets.samples_generator import make_blobs\n",
        "# generate 2d classification dataset\n",
        "n = 10000\n",
        "X, y = make_moons(n_samples=n, noise=0.1)\n",
        "# scatter plot, dots colored by class value\n",
        "df = pd.DataFrame(dict(x=X[:,0], y=X[:,1], label=y))\n",
        "colors = {0:'red', 1:'blue'}\n",
        "fig, ax = plt.subplots()\n",
        "grouped = df.groupby('label')\n",
        "for key, group in grouped:\n",
        "    group.plot(ax=ax, kind='scatter', x='x', y='y', label=key, color=colors[key])\n",
        "plt.show()\n",
        "\n",
        "datadict = {'X1': X[:,0],'X2' : X[:,1], 'target': y}\n",
        "data = pd.DataFrame(data=datadict)\n"
      ],
      "execution_count": 4,
      "outputs": [
        {
          "output_type": "display_data",
          "data": {
            "image/png": "[encoded data removed]",
            "text/plain": [
              "<Figure size 432x288 with 1 Axes>"
            ]
          },
          "metadata": {
            "tags": [],
            "needs_background": "light"
          }
        }
      ]
    },
    {
      "cell_type": "code",
      "metadata": {
        "id": "7hQGKjLvBT6z",
        "colab_type": "code",
        "outputId": "c476a590-8fbb-4212-e973-2b60f3de9f15",
        "colab": {
          "base_uri": "https://localhost:8080/",
          "height": 35
        }
      },
      "source": [
        "X = data.iloc[:,[0, 1]].values\n",
        "type(X)"
      ],
      "execution_count": 5,
      "outputs": [
        {
          "output_type": "execute_result",
          "data": {
            "text/plain": [
              "numpy.ndarray"
            ]
          },
          "metadata": {
            "tags": []
          },
          "execution_count": 5
        }
      ]
    },
    {
      "cell_type": "code",
      "metadata": {
        "id": "ovyPUHaZBqu8",
        "colab_type": "code",
        "colab": {}
      },
      "source": [
        "y = data.target.values"
      ],
      "execution_count": 0,
      "outputs": []
    },
    {
      "cell_type": "code",
      "metadata": {
        "id": "BSOcVLhKCGOa",
        "colab_type": "code",
        "colab": {}
      },
      "source": [
        "# TRAIN TEST SPLIT\n",
        "from sklearn.model_selection import train_test_split\n",
        "\n",
        "X_train, X_test, y_train, y_test = train_test_split(X, y, test_size = 0.2)"
      ],
      "execution_count": 0,
      "outputs": []
    },
    {
      "cell_type": "code",
      "metadata": {
        "id": "bqh-eNkNCb7D",
        "colab_type": "code",
        "colab": {}
      },
      "source": [
        "N, D = X_train.shape"
      ],
      "execution_count": 0,
      "outputs": []
    },
    {
      "cell_type": "code",
      "metadata": {
        "id": "WA8o1DP8CvGT",
        "colab_type": "code",
        "colab": {}
      },
      "source": [
        "from sklearn.preprocessing import StandardScaler \n",
        "scaleObj = StandardScaler()\n",
        "X_train = scaleObj.fit_transform(X_train)\n",
        "X_test = scaleObj.transform(X_test)\n"
      ],
      "execution_count": 0,
      "outputs": []
    },
    {
      "cell_type": "code",
      "metadata": {
        "id": "mIv1FdhRDRrc",
        "colab_type": "code",
        "outputId": "7379c2bb-2770-4545-c6be-17ac2f9f9aae",
        "colab": {
          "base_uri": "https://localhost:8080/",
          "height": 1000
        }
      },
      "source": [
        "from tensorflow.keras.layers import Input, Dense, Activation,Dropout\n",
        "from tensorflow.keras.models import Model\n",
        "\n",
        "input_layer = Input(shape=(D,))\n",
        "dense_layer_1 = Dense(20, activation='relu')(input_layer)\n",
        "dense_layer_2 = Dense(20, activation='relu')(input_layer)\n",
        "output = Dense(1, activation='sigmoid')(dense_layer_2)\n",
        "\n",
        "model = Model(inputs=input_layer, outputs=output)\n",
        "\n",
        "model.compile(\n",
        "    optimizer = 'adam',\n",
        "    loss = 'binary_crossentropy',\n",
        "    metrics = ['accuracy']\n",
        ")\n",
        "\n",
        "# https://www.tensorflow.org/api_docs/python/tf/keras/callbacks/LearningRateScheduler\n",
        "def scheduler(epoch):\n",
        "  if epoch < 10:\n",
        "    return 0.001\n",
        "  else:\n",
        "    return 0.001 * tf.math.exp(0.1 * (10 - epoch))\n",
        "\n",
        "\n",
        "callback = tf.keras.callbacks.LearningRateScheduler(scheduler)\n",
        "\n",
        "report = model.fit(X_train, y_train, validation_data=(X_test, y_test), epochs=50)"
      ],
      "execution_count": 16,
      "outputs": [
        {
          "output_type": "stream",
          "text": [
            "Epoch 1/50\n",
            "250/250 [==============================] - 0s 2ms/step - loss: 0.4123 - accuracy: 0.8211 - val_loss: 0.2865 - val_accuracy: 0.8780\n",
            "Epoch 2/50\n",
            "250/250 [==============================] - 0s 1ms/step - loss: 0.2714 - accuracy: 0.8769 - val_loss: 0.2384 - val_accuracy: 0.8945\n",
            "Epoch 3/50\n",
            "250/250 [==============================] - 0s 1ms/step - loss: 0.2425 - accuracy: 0.8892 - val_loss: 0.2196 - val_accuracy: 0.8990\n",
            "Epoch 4/50\n",
            "250/250 [==============================] - 0s 1ms/step - loss: 0.2229 - accuracy: 0.8986 - val_loss: 0.1999 - val_accuracy: 0.9075\n",
            "Epoch 5/50\n",
            "250/250 [==============================] - 0s 1ms/step - loss: 0.2001 - accuracy: 0.9099 - val_loss: 0.1769 - val_accuracy: 0.9225\n",
            "Epoch 6/50\n",
            "250/250 [==============================] - 0s 1ms/step - loss: 0.1736 - accuracy: 0.9240 - val_loss: 0.1508 - val_accuracy: 0.9380\n",
            "Epoch 7/50\n",
            "250/250 [==============================] - 0s 1ms/step - loss: 0.1464 - accuracy: 0.9380 - val_loss: 0.1248 - val_accuracy: 0.9535\n",
            "Epoch 8/50\n",
            "250/250 [==============================] - 0s 1ms/step - loss: 0.1203 - accuracy: 0.9571 - val_loss: 0.1018 - val_accuracy: 0.9665\n",
            "Epoch 9/50\n",
            "250/250 [==============================] - 0s 1ms/step - loss: 0.0979 - accuracy: 0.9699 - val_loss: 0.0824 - val_accuracy: 0.9800\n",
            "Epoch 10/50\n",
            "250/250 [==============================] - 0s 1ms/step - loss: 0.0793 - accuracy: 0.9795 - val_loss: 0.0665 - val_accuracy: 0.9870\n",
            "Epoch 11/50\n",
            "250/250 [==============================] - 0s 1ms/step - loss: 0.0644 - accuracy: 0.9860 - val_loss: 0.0538 - val_accuracy: 0.9895\n",
            "Epoch 12/50\n",
            "250/250 [==============================] - 0s 1ms/step - loss: 0.0529 - accuracy: 0.9900 - val_loss: 0.0441 - val_accuracy: 0.9925\n",
            "Epoch 13/50\n",
            "250/250 [==============================] - 0s 2ms/step - loss: 0.0440 - accuracy: 0.9918 - val_loss: 0.0368 - val_accuracy: 0.9935\n",
            "Epoch 14/50\n",
            "250/250 [==============================] - 0s 1ms/step - loss: 0.0371 - accuracy: 0.9930 - val_loss: 0.0310 - val_accuracy: 0.9935\n",
            "Epoch 15/50\n",
            "250/250 [==============================] - 0s 1ms/step - loss: 0.0319 - accuracy: 0.9942 - val_loss: 0.0265 - val_accuracy: 0.9940\n",
            "Epoch 16/50\n",
            "250/250 [==============================] - 0s 1ms/step - loss: 0.0276 - accuracy: 0.9956 - val_loss: 0.0230 - val_accuracy: 0.9940\n",
            "Epoch 17/50\n",
            "250/250 [==============================] - 0s 1ms/step - loss: 0.0243 - accuracy: 0.9959 - val_loss: 0.0201 - val_accuracy: 0.9945\n",
            "Epoch 18/50\n",
            "250/250 [==============================] - 0s 1ms/step - loss: 0.0216 - accuracy: 0.9967 - val_loss: 0.0178 - val_accuracy: 0.9970\n",
            "Epoch 19/50\n",
            "250/250 [==============================] - 0s 1ms/step - loss: 0.0193 - accuracy: 0.9966 - val_loss: 0.0158 - val_accuracy: 0.9975\n",
            "Epoch 20/50\n",
            "250/250 [==============================] - 0s 1ms/step - loss: 0.0174 - accuracy: 0.9967 - val_loss: 0.0142 - val_accuracy: 0.9975\n",
            "Epoch 21/50\n",
            "250/250 [==============================] - 0s 1ms/step - loss: 0.0159 - accuracy: 0.9969 - val_loss: 0.0129 - val_accuracy: 0.9985\n",
            "Epoch 22/50\n",
            "250/250 [==============================] - 0s 1ms/step - loss: 0.0145 - accuracy: 0.9974 - val_loss: 0.0118 - val_accuracy: 0.9985\n",
            "Epoch 23/50\n",
            "250/250 [==============================] - 0s 1ms/step - loss: 0.0135 - accuracy: 0.9973 - val_loss: 0.0107 - val_accuracy: 0.9995\n",
            "Epoch 24/50\n",
            "250/250 [==============================] - 0s 1ms/step - loss: 0.0125 - accuracy: 0.9974 - val_loss: 0.0098 - val_accuracy: 0.9990\n",
            "Epoch 25/50\n",
            "250/250 [==============================] - 0s 1ms/step - loss: 0.0116 - accuracy: 0.9976 - val_loss: 0.0092 - val_accuracy: 0.9985\n",
            "Epoch 26/50\n",
            "250/250 [==============================] - 0s 1ms/step - loss: 0.0110 - accuracy: 0.9979 - val_loss: 0.0085 - val_accuracy: 0.9990\n",
            "Epoch 27/50\n",
            "250/250 [==============================] - 0s 1ms/step - loss: 0.0102 - accuracy: 0.9980 - val_loss: 0.0079 - val_accuracy: 0.9990\n",
            "Epoch 28/50\n",
            "250/250 [==============================] - 0s 1ms/step - loss: 0.0096 - accuracy: 0.9984 - val_loss: 0.0074 - val_accuracy: 0.9990\n",
            "Epoch 29/50\n",
            "250/250 [==============================] - 0s 1ms/step - loss: 0.0091 - accuracy: 0.9984 - val_loss: 0.0069 - val_accuracy: 0.9995\n",
            "Epoch 30/50\n",
            "250/250 [==============================] - 0s 1ms/step - loss: 0.0087 - accuracy: 0.9983 - val_loss: 0.0066 - val_accuracy: 1.0000\n",
            "Epoch 31/50\n",
            "250/250 [==============================] - 0s 1ms/step - loss: 0.0084 - accuracy: 0.9984 - val_loss: 0.0061 - val_accuracy: 0.9995\n",
            "Epoch 32/50\n",
            "250/250 [==============================] - 0s 1ms/step - loss: 0.0079 - accuracy: 0.9983 - val_loss: 0.0058 - val_accuracy: 1.0000\n",
            "Epoch 33/50\n",
            "250/250 [==============================] - 0s 1ms/step - loss: 0.0077 - accuracy: 0.9985 - val_loss: 0.0055 - val_accuracy: 1.0000\n",
            "Epoch 34/50\n",
            "250/250 [==============================] - 0s 1ms/step - loss: 0.0073 - accuracy: 0.9984 - val_loss: 0.0054 - val_accuracy: 1.0000\n",
            "Epoch 35/50\n",
            "250/250 [==============================] - 0s 1ms/step - loss: 0.0071 - accuracy: 0.9984 - val_loss: 0.0052 - val_accuracy: 1.0000\n",
            "Epoch 36/50\n",
            "250/250 [==============================] - 0s 1ms/step - loss: 0.0068 - accuracy: 0.9986 - val_loss: 0.0050 - val_accuracy: 1.0000\n",
            "Epoch 37/50\n",
            "250/250 [==============================] - 0s 1ms/step - loss: 0.0066 - accuracy: 0.9986 - val_loss: 0.0047 - val_accuracy: 1.0000\n",
            "Epoch 38/50\n",
            "250/250 [==============================] - 0s 1ms/step - loss: 0.0064 - accuracy: 0.9986 - val_loss: 0.0044 - val_accuracy: 1.0000\n",
            "Epoch 39/50\n",
            "250/250 [==============================] - 0s 1ms/step - loss: 0.0062 - accuracy: 0.9986 - val_loss: 0.0043 - val_accuracy: 1.0000\n",
            "Epoch 40/50\n",
            "250/250 [==============================] - 0s 1ms/step - loss: 0.0060 - accuracy: 0.9986 - val_loss: 0.0041 - val_accuracy: 1.0000\n",
            "Epoch 41/50\n",
            "250/250 [==============================] - 0s 1ms/step - loss: 0.0058 - accuracy: 0.9986 - val_loss: 0.0039 - val_accuracy: 1.0000\n",
            "Epoch 42/50\n",
            "250/250 [==============================] - 0s 1ms/step - loss: 0.0056 - accuracy: 0.9985 - val_loss: 0.0042 - val_accuracy: 0.9995\n",
            "Epoch 43/50\n",
            "250/250 [==============================] - 0s 1ms/step - loss: 0.0056 - accuracy: 0.9986 - val_loss: 0.0038 - val_accuracy: 1.0000\n",
            "Epoch 44/50\n",
            "250/250 [==============================] - 0s 1ms/step - loss: 0.0054 - accuracy: 0.9986 - val_loss: 0.0039 - val_accuracy: 0.9995\n",
            "Epoch 45/50\n",
            "250/250 [==============================] - 0s 1ms/step - loss: 0.0053 - accuracy: 0.9987 - val_loss: 0.0035 - val_accuracy: 1.0000\n",
            "Epoch 46/50\n",
            "250/250 [==============================] - 0s 1ms/step - loss: 0.0052 - accuracy: 0.9987 - val_loss: 0.0035 - val_accuracy: 1.0000\n",
            "Epoch 47/50\n",
            "250/250 [==============================] - 0s 1ms/step - loss: 0.0051 - accuracy: 0.9986 - val_loss: 0.0033 - val_accuracy: 1.0000\n",
            "Epoch 48/50\n",
            "250/250 [==============================] - 0s 1ms/step - loss: 0.0050 - accuracy: 0.9987 - val_loss: 0.0032 - val_accuracy: 1.0000\n",
            "Epoch 49/50\n",
            "250/250 [==============================] - 0s 1ms/step - loss: 0.0049 - accuracy: 0.9987 - val_loss: 0.0031 - val_accuracy: 1.0000\n",
            "Epoch 50/50\n",
            "250/250 [==============================] - 0s 1ms/step - loss: 0.0048 - accuracy: 0.9987 - val_loss: 0.0032 - val_accuracy: 0.9995\n"
          ],
          "name": "stdout"
        }
      ]
    },
    {
      "cell_type": "code",
      "metadata": {
        "id": "MSj0kifiSDfW",
        "colab_type": "code",
        "outputId": "f3cc7d2d-3bcd-4afb-c1f4-0e61ffcc9f15",
        "colab": {
          "base_uri": "https://localhost:8080/",
          "height": 283
        }
      },
      "source": [
        "plt.plot(report.history['loss'], label=\"loss = SGD\")"
      ],
      "execution_count": 17,
      "outputs": [
        {
          "output_type": "execute_result",
          "data": {
            "text/plain": [
              "[<matplotlib.lines.Line2D at 0x7f6d4ef8e0b8>]"
            ]
          },
          "metadata": {
            "tags": []
          },
          "execution_count": 17
        },
        {
          "output_type": "display_data",
          "data": {
            "image/png": "[encoded data removed]",
            "text/plain": [
              "<Figure size 432x288 with 1 Axes>"
            ]
          },
          "metadata": {
            "tags": [],
            "needs_background": "light"
          }
        }
      ]
    },
    {
      "cell_type": "code",
      "metadata": {
        "id": "JgHtyGJCtS-_",
        "colab_type": "code",
        "outputId": "751d5c47-3e25-43fe-ec77-3cd1532403e1",
        "colab": {
          "base_uri": "https://localhost:8080/",
          "height": 52
        }
      },
      "source": [
        "print(X.shape)\n",
        "print(y.shape)"
      ],
      "execution_count": 18,
      "outputs": [
        {
          "output_type": "stream",
          "text": [
            "(10000, 2)\n",
            "(10000,)\n"
          ],
          "name": "stdout"
        }
      ]
    },
    {
      "cell_type": "code",
      "metadata": {
        "id": "yt3ghC0xt1oF",
        "colab_type": "code",
        "colab": {}
      },
      "source": [
        "y_predicted = model.predict(X)"
      ],
      "execution_count": 0,
      "outputs": []
    },
    {
      "cell_type": "code",
      "metadata": {
        "id": "YkSm0fifC78S",
        "colab_type": "code",
        "outputId": "385d3622-51f6-417d-93d3-ca65662ed103",
        "colab": {
          "base_uri": "https://localhost:8080/",
          "height": 350
        }
      },
      "source": [
        "\n",
        "# Visualising the Training set results\n",
        "from matplotlib.colors import ListedColormap\n",
        "X_set, y_set = X_train, y_train\n",
        "X1, X2 = np.meshgrid(np.arange(start = X_set[:, 0].min() - 1, stop = X_set[:, 0].max() + 1, step = 0.01),\n",
        "                     np.arange(start = X_set[:, 1].min() - 1, stop = X_set[:, 1].max() + 1, step = 0.01))\n",
        "plt.contourf(X1, X2, model.predict(np.array([X1.ravel(), X2.ravel()]).T).reshape(X1.shape),\n",
        "             alpha = 0.75, cmap = ListedColormap(('pink', 'cyan')))\n",
        "plt.xlim(X1.min(), X1.max())\n",
        "plt.ylim(X2.min(), X2.max())\n",
        "for i, j in enumerate(np.unique(y_set)):\n",
        "    plt.scatter(X_set[y_set == j, 0], X_set[y_set == j, 1],\n",
        "                c = ListedColormap(('red', 'blue'))(i), label = j)\n",
        "plt.title('Model')\n",
        "plt.xlabel('X')\n",
        "plt.ylabel('y')\n",
        "plt.legend()\n",
        "plt.show()"
      ],
      "execution_count": 21,
      "outputs": [
        {
          "output_type": "stream",
          "text": [
            "'c' argument looks like a single numeric RGB or RGBA sequence, which should be avoided as value-mapping will have precedence in case its length matches with 'x' & 'y'.  Please use a 2-D array with a single row if you really want to specify the same RGB or RGBA value for all points.\n",
            "'c' argument looks like a single numeric RGB or RGBA sequence, which should be avoided as value-mapping will have precedence in case its length matches with 'x' & 'y'.  Please use a 2-D array with a single row if you really want to specify the same RGB or RGBA value for all points.\n"
          ],
          "name": "stderr"
        },
        {
          "output_type": "display_data",
          "data": {
            "image/png": "[encoded data removed]",
            "text/plain": [
              "<Figure size 432x288 with 1 Axes>"
            ]
          },
          "metadata": {
            "tags": [],
            "needs_background": "light"
          }
        }
      ]
    },
    {
      "cell_type": "code",
      "metadata": {
        "id": "LuietUFpEG5a",
        "colab_type": "code",
        "outputId": "271b3198-8b88-406a-a39a-0f4e6e52a7fd",
        "colab": {
          "base_uri": "https://localhost:8080/",
          "height": 87
        }
      },
      "source": [
        "print(\"Train eval: \", model.evaluate(X_train, y_train))\n",
        "print(\"Test eval: \", model.evaluate(X_test, y_test))"
      ],
      "execution_count": 0,
      "outputs": [
        {
          "output_type": "stream",
          "text": [
            "250/250 [==============================] - 0s 1ms/step - loss: 0.1263 - accuracy: 0.9510\n",
            "Train eval:  [0.12628374993801117, 0.9509999752044678]\n",
            "63/63 [==============================] - 0s 1ms/step - loss: 0.1409 - accuracy: 0.9480\n",
            "Test eval:  [0.1409088373184204, 0.9480000138282776]\n"
          ],
          "name": "stdout"
        }
      ]
    }
  ]
}