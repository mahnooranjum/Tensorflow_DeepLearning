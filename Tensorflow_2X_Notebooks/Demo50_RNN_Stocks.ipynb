{
  "nbformat": 4,
  "nbformat_minor": 0,
  "metadata": {
    "colab": {
      "name": "Demo50_RNN_Stocks.ipynb",
      "provenance": [],
      "collapsed_sections": []
    },
    "kernelspec": {
      "name": "python3",
      "display_name": "Python 3"
    },
    "accelerator": "GPU"
  },
  "cells": [
    {
      "cell_type": "markdown",
      "metadata": {
        "id": "P9bJCDjdlgG6",
        "colab_type": "text"
      },
      "source": [
        "# **Spit some [tensor] flow**\n",
        "\n",
        "We need to learn the intricacies of tensorflow to master deep learning\n",
        "\n",
        "`Let's get this over with`\n",
        "\n"
      ]
    },
    {
      "cell_type": "markdown",
      "metadata": {
        "id": "0KL1p_roy9zM",
        "colab_type": "text"
      },
      "source": [
        "## Look at the following equations \n",
        "\n",
        "Well now we're going to go into the details of the implementation; \n",
        "\n",
        "```\n",
        "x_pred_t = w0 + w1 * x_t-1 + w2 * x_t-2 + w3 * x_t-3 + w4 * x_t-4\n",
        "\n",
        "x_pred_t+1 = w0 + w1 * x_pred_t + w2 * x_t-1 + w3 * x_t-2 + w4 * x_t-3\n",
        "```\n",
        "\n",
        "This is an autoregressive model now. \n",
        "\n",
        "```\n",
        "x_pred_5 = w0 + w1 * x_4 + w2 * x_3 + w3 * x_2 + w4 * x_1\n",
        "\n",
        "x_pred_6 = w0 + w1 * x_pred_5 + w2 * x_4 + w3 * x_3 + w4 * x_2\n",
        "\n",
        "```\n",
        "\n",
        "We know that the predictions at time T in an RNN depend on all the previous times. Thus, indirectly, y(t) depends on x(t), x(t-1), x(t-2),....., x(2), x(1)\n",
        "\n",
        "To optimize the weights, we must take the derivative of the equation containing the weights; however, there will be numerous W_input_to_hidden weights in the network. \n",
        "\n",
        "\n",
        "The RNN keeps nesting the older timestamps; the derivatives use multiplication and chain rule in composite functions, thus, the more older the timestamp, the more its gradient vanishes.\n",
        "\n",
        "## So how do GRU's work?\n",
        "\n",
        "Throwback to the RNN equation: \n",
        "\n",
        "h(t) = activation(W(x,h) x(t) + W(h,h) h(t-1) + b(h))\n",
        "\n",
        "GRU's calulate two other things to calculate h(t):\n",
        "\n",
        "- update gate vector z(t)\n",
        "\n",
        "- reset gate vector r(t)\n",
        "\n",
        "z(t) = sigmoid(W(x,z) x(t) + W(h,z) h(t-1) + b(z))\n",
        "\n",
        "r(t) = sigmoid(W(x,r) x(t) + W(h,r) h(t-1) + b(r))\n",
        "\n",
        "```\n",
        "h(t) = (1 - z(t)) * h(t-1)  +\n",
        "\n",
        "        z(t) tanh(W(x,h) x(t) + W(h,h) (r(t) * h(t-1)) + b(h))\n",
        "```\n",
        "\n",
        "(*) ==== element wise multiplication\n",
        "\n",
        "z(t), r(t), h(t) ===== Size U\n",
        "\n",
        "## Z(t) \n",
        "\n",
        "Should we take the new value of h(t)? or keep h(t-1)? \n",
        "\n",
        "- z(t) close to 0, take h(t-1)\n",
        "\n",
        "- z(t) close to 1, take h(t)\n",
        "\n",
        "So: \n",
        "\n",
        "```\n",
        "h(t) = (1 - z(t)) * h(t-1)  +\n",
        "\n",
        "        z(t) tanh(W(x,h) x(t) + W(h,h) (r(t) * h(t-1)) + b(h))\n",
        "```\n",
        "\n",
        "Becomes \n",
        "\n",
        "```\n",
        "h(t) = (factor keep h(t-1)) * h(t-1) + \n",
        "\n",
        "       (discard h(t-1)) * RNN(x(t), h(t-1))\n",
        "```\n",
        "\n",
        "## R(t) \n",
        "\n",
        "Change the value of h(t-1) \n",
        "\n",
        "- r(t) close to 0, zero value h(t-1)\n",
        "\n",
        "- r(t) close to 1, keep value h(t-1)\n",
        "\n",
        "\n",
        "## So how do LSTM's work?\n",
        "\n",
        "### https://towardsdatascience.com/\n",
        "\n",
        "We add another state to the mix, the cell state c(t)\n",
        "\n",
        "we add three different neurons:\n",
        "\n",
        "forget neuron = f(t) \n",
        "\n",
        "This gate decides which information should be thrown away or kept. Input from h(t-1) and x(t) is passed through this gate; and it uses sigmoid to either forget (0) or remember (1) it.\n",
        "\n",
        "\n",
        "input gate neuron = i(t)\n",
        "\n",
        "We use this to update the cell state. We pass the h(t-1) and x(t) to the sigmoid function. This will decide which values will be updated in the cell state.\n",
        "\n",
        "output gate neuron = o(t) \n",
        "\n",
        "The output gate decides what the next hidden state h(t) should be. Remember that the hidden state contains information on previous inputs. The hidden state is also used for predictions. \n",
        "\n",
        "First, we pass the previous hidden state and the current input into a sigmoid function.\n",
        "\n",
        "Then we pass the newly modified cell state to the tanh function. \n",
        "\n",
        "We multiply the tanh output with the sigmoid output to decide what information the hidden state should carry. \n",
        "\n",
        "The output is the hidden state. \n",
        "\n",
        "The new cell state and the new hidden is then carried over to the next time step.\n",
        "\n",
        "```\n",
        "\n",
        "f(t) = sigmoid ( W(x,f) x(t) + W(h, f)h(t-1) + b(f) )\n",
        "\n",
        "i(t) = sigmoid ( W(x,i) x(t) + W(h, i)h(t-1) + b(i) ) \n",
        "\n",
        "o(t) = sigmoid ( W(x,o) x(t) + W(h, o)h(t-1) + b(o) ) \n",
        "\n",
        "\n",
        "c(t) = f(t) * c(t-1) + \n",
        "\n",
        "       i(t) * tanh ( W(x,c) x(t) + W(h,c) h(t-1) + b(c) ) \n",
        "\n",
        "\n",
        "h(t) = o(t) * tanh( c(t) )\n",
        "\n",
        "```\n",
        "\n",
        "\n"
      ]
    },
    {
      "cell_type": "markdown",
      "metadata": {
        "id": "7zaHQPie5Fqx",
        "colab_type": "text"
      },
      "source": [
        "## In this notebook, we will check how the single step versus the multi step forecast can make it or break it in Deep learning"
      ]
    },
    {
      "cell_type": "code",
      "metadata": {
        "id": "aQwc0re5mFld",
        "colab_type": "code",
        "outputId": "5b817a7b-9c6f-4801-c3b8-45d0f9ee5b37",
        "colab": {
          "base_uri": "https://localhost:8080/",
          "height": 34
        }
      },
      "source": [
        "import numpy as np\n",
        "import pandas as pd\n",
        "import matplotlib.pyplot as plt\n",
        "import tensorflow as tf\n",
        "import cv2\n",
        "print(tf.__version__)"
      ],
      "execution_count": 13,
      "outputs": [
        {
          "output_type": "stream",
          "text": [
            "2.2.0\n"
          ],
          "name": "stdout"
        }
      ]
    },
    {
      "cell_type": "code",
      "metadata": {
        "id": "CaBxIWkog_i-",
        "colab_type": "code",
        "colab": {}
      },
      "source": [
        "from tensorflow.keras.layers import Input, Dropout, Dense, Flatten, SimpleRNN, GRU, LSTM\n",
        "from tensorflow.keras.models import Model\n",
        "from tensorflow.keras.optimizers import SGD, Adam, Adamax"
      ],
      "execution_count": 0,
      "outputs": []
    },
    {
      "cell_type": "code",
      "metadata": {
        "id": "NF_YwK9591J7",
        "colab_type": "code",
        "colab": {}
      },
      "source": [
        "def make_series(T, D, data):\n",
        "  X = []\n",
        "  y = []\n",
        "  print(len(data))  \n",
        "  print(\"The last sample would be: \" + str(len(data)) + \" - \" + str(T) + \" = \" + str((len(data)-T)) )\n",
        "\n",
        "  for i in range(len(data) - T):\n",
        "    x = data[i:i+T]\n",
        "    X.append(x)\n",
        "    y_temp = data[i+T]\n",
        "    y.append(y_temp)\n",
        "\n",
        "  # Since we need an N x T x D input\n",
        "  X = np.array(X).reshape(-1, T, D) \n",
        "  y = np.array(y)\n",
        "\n",
        "  print(X.shape)\n",
        "  print(y.shape)\n",
        "\n",
        "  N, T, D = X.shape\n",
        "\n",
        "  return N, T, D, X, y"
      ],
      "execution_count": 0,
      "outputs": []
    },
    {
      "cell_type": "markdown",
      "metadata": {
        "id": "ofiCPRlY3MUV",
        "colab_type": "text"
      },
      "source": [
        "## Let's get some synthetic data"
      ]
    },
    {
      "cell_type": "code",
      "metadata": {
        "id": "pI_3hPMTy4Zt",
        "colab_type": "code",
        "colab": {}
      },
      "source": [
        "# Importing the training set\n",
        "dataset = pd.read_csv('sample_data/Google_Stock_Price_Train.csv')\n",
        "data = dataset.iloc[:, 1:2].values\n",
        "from sklearn.preprocessing import StandardScaler\n",
        "scaler = StandardScaler()\n",
        "data = scaler.fit_transform(data)\n"
      ],
      "execution_count": 0,
      "outputs": []
    },
    {
      "cell_type": "code",
      "metadata": {
        "id": "AqRMI-50-xoY",
        "colab_type": "code",
        "colab": {}
      },
      "source": [
        "N, T, D, X, y = make_series(40, 1, data)"
      ],
      "execution_count": 0,
      "outputs": []
    },
    {
      "cell_type": "code",
      "metadata": {
        "id": "9Ob8G90SDwfb",
        "colab_type": "code",
        "colab": {}
      },
      "source": [
        "i_layer = Input(shape = (T, D))\n",
        "h_layer = SimpleRNN(10)(i_layer)\n",
        "o_layer = Dense(1)(h_layer)\n",
        "model = Model(i_layer, o_layer)\n",
        "model.compile(loss = 'mse',\n",
        "              optimizer = Adam(lr = 0.1))"
      ],
      "execution_count": 0,
      "outputs": []
    },
    {
      "cell_type": "code",
      "metadata": {
        "id": "A936E2iuElkz",
        "colab_type": "code",
        "outputId": "d1191873-fda1-4097-ccf4-d8178b4a14b0",
        "colab": {
          "base_uri": "https://localhost:8080/",
          "height": 1000
        }
      },
      "source": [
        "index = -N//4\n",
        "report = model.fit(X[:index], y[:index], epochs=50, validation_data=(X[index:], y[index:]))"
      ],
      "execution_count": 54,
      "outputs": [
        {
          "output_type": "stream",
          "text": [
            "Epoch 1/50\n",
            "29/29 [==============================] - 1s 36ms/step - loss: 0.0785 - val_loss: 0.2074\n",
            "Epoch 2/50\n",
            "29/29 [==============================] - 1s 34ms/step - loss: 0.0073 - val_loss: 0.0785\n",
            "Epoch 3/50\n",
            "29/29 [==============================] - 1s 33ms/step - loss: 0.0064 - val_loss: 0.1319\n",
            "Epoch 4/50\n",
            "29/29 [==============================] - 1s 33ms/step - loss: 0.0039 - val_loss: 0.0834\n",
            "Epoch 5/50\n",
            "29/29 [==============================] - 1s 35ms/step - loss: 0.0037 - val_loss: 0.0603\n",
            "Epoch 6/50\n",
            "29/29 [==============================] - 1s 34ms/step - loss: 0.0052 - val_loss: 0.1130\n",
            "Epoch 7/50\n",
            "29/29 [==============================] - 1s 34ms/step - loss: 0.0051 - val_loss: 0.0557\n",
            "Epoch 8/50\n",
            "29/29 [==============================] - 1s 32ms/step - loss: 0.0071 - val_loss: 0.0430\n",
            "Epoch 9/50\n",
            "29/29 [==============================] - 1s 34ms/step - loss: 0.0055 - val_loss: 0.0653\n",
            "Epoch 10/50\n",
            "29/29 [==============================] - 1s 33ms/step - loss: 0.0047 - val_loss: 0.0780\n",
            "Epoch 11/50\n",
            "29/29 [==============================] - 1s 35ms/step - loss: 0.0073 - val_loss: 0.0833\n",
            "Epoch 12/50\n",
            "29/29 [==============================] - 1s 34ms/step - loss: 0.0058 - val_loss: 0.1723\n",
            "Epoch 13/50\n",
            "29/29 [==============================] - 1s 34ms/step - loss: 0.0036 - val_loss: 0.1575\n",
            "Epoch 14/50\n",
            "29/29 [==============================] - 1s 33ms/step - loss: 0.0079 - val_loss: 0.1808\n",
            "Epoch 15/50\n",
            "29/29 [==============================] - 1s 33ms/step - loss: 0.0183 - val_loss: 0.1650\n",
            "Epoch 16/50\n",
            "29/29 [==============================] - 1s 33ms/step - loss: 0.1621 - val_loss: 0.7997\n",
            "Epoch 17/50\n",
            "29/29 [==============================] - 1s 35ms/step - loss: 0.2177 - val_loss: 1.1204\n",
            "Epoch 18/50\n",
            "29/29 [==============================] - 1s 34ms/step - loss: 0.1995 - val_loss: 2.3520\n",
            "Epoch 19/50\n",
            "29/29 [==============================] - 1s 34ms/step - loss: 0.2843 - val_loss: 1.5397\n",
            "Epoch 20/50\n",
            "29/29 [==============================] - 1s 33ms/step - loss: 0.1659 - val_loss: 0.7207\n",
            "Epoch 21/50\n",
            "29/29 [==============================] - 1s 34ms/step - loss: 0.1835 - val_loss: 0.9625\n",
            "Epoch 22/50\n",
            "29/29 [==============================] - 1s 33ms/step - loss: 0.1671 - val_loss: 1.6368\n",
            "Epoch 23/50\n",
            "29/29 [==============================] - 1s 34ms/step - loss: 0.2015 - val_loss: 1.6177\n",
            "Epoch 24/50\n",
            "29/29 [==============================] - 1s 34ms/step - loss: 0.1598 - val_loss: 1.6486\n",
            "Epoch 25/50\n",
            "29/29 [==============================] - 1s 33ms/step - loss: 0.1531 - val_loss: 0.7845\n",
            "Epoch 26/50\n",
            "29/29 [==============================] - 1s 33ms/step - loss: 0.1667 - val_loss: 1.6951\n",
            "Epoch 27/50\n",
            "29/29 [==============================] - 1s 35ms/step - loss: 0.2096 - val_loss: 1.1797\n",
            "Epoch 28/50\n",
            "29/29 [==============================] - 1s 34ms/step - loss: 0.1488 - val_loss: 0.9409\n",
            "Epoch 29/50\n",
            "29/29 [==============================] - 1s 33ms/step - loss: 0.1621 - val_loss: 1.1006\n",
            "Epoch 30/50\n",
            "29/29 [==============================] - 1s 34ms/step - loss: 0.1537 - val_loss: 1.5333\n",
            "Epoch 31/50\n",
            "29/29 [==============================] - 1s 33ms/step - loss: 0.1517 - val_loss: 0.5853\n",
            "Epoch 32/50\n",
            "29/29 [==============================] - 1s 33ms/step - loss: 0.1803 - val_loss: 1.7880\n",
            "Epoch 33/50\n",
            "29/29 [==============================] - 1s 35ms/step - loss: 0.1607 - val_loss: 1.0285\n",
            "Epoch 34/50\n",
            "29/29 [==============================] - 1s 33ms/step - loss: 0.1622 - val_loss: 1.4136\n",
            "Epoch 35/50\n",
            "29/29 [==============================] - 1s 35ms/step - loss: 0.1749 - val_loss: 0.6473\n",
            "Epoch 36/50\n",
            "29/29 [==============================] - 1s 34ms/step - loss: 0.1704 - val_loss: 1.4275\n",
            "Epoch 37/50\n",
            "29/29 [==============================] - 1s 33ms/step - loss: 0.1590 - val_loss: 0.9371\n",
            "Epoch 38/50\n",
            "29/29 [==============================] - 1s 33ms/step - loss: 0.1547 - val_loss: 1.2848\n",
            "Epoch 39/50\n",
            "29/29 [==============================] - 1s 34ms/step - loss: 0.1756 - val_loss: 1.3864\n",
            "Epoch 40/50\n",
            "29/29 [==============================] - 1s 33ms/step - loss: 0.1653 - val_loss: 1.1767\n",
            "Epoch 41/50\n",
            "29/29 [==============================] - 1s 33ms/step - loss: 0.1517 - val_loss: 1.1895\n",
            "Epoch 42/50\n",
            "29/29 [==============================] - 1s 33ms/step - loss: 0.1632 - val_loss: 0.9935\n",
            "Epoch 43/50\n",
            "29/29 [==============================] - 1s 34ms/step - loss: 0.1722 - val_loss: 1.8683\n",
            "Epoch 44/50\n",
            "29/29 [==============================] - 1s 34ms/step - loss: 0.1741 - val_loss: 0.9521\n",
            "Epoch 45/50\n",
            "29/29 [==============================] - 1s 33ms/step - loss: 0.1584 - val_loss: 1.2753\n",
            "Epoch 46/50\n",
            "29/29 [==============================] - 1s 33ms/step - loss: 0.1510 - val_loss: 0.9411\n",
            "Epoch 47/50\n",
            "29/29 [==============================] - 1s 33ms/step - loss: 0.1463 - val_loss: 1.1237\n",
            "Epoch 48/50\n",
            "29/29 [==============================] - 1s 34ms/step - loss: 0.1501 - val_loss: 2.0817\n",
            "Epoch 49/50\n",
            "29/29 [==============================] - 1s 34ms/step - loss: 0.1686 - val_loss: 0.9776\n",
            "Epoch 50/50\n",
            "29/29 [==============================] - 1s 33ms/step - loss: 0.1687 - val_loss: 1.5880\n"
          ],
          "name": "stdout"
        }
      ]
    },
    {
      "cell_type": "code",
      "metadata": {
        "id": "8xVbWzu2BTjT",
        "colab_type": "code",
        "outputId": "2e177357-f4b2-4ac2-c36d-813f927c0e27",
        "colab": {
          "base_uri": "https://localhost:8080/",
          "height": 282
        }
      },
      "source": [
        "plt.plot(report.history['loss'], label='training_loss')\n",
        "plt.plot(report.history['val_loss'], label='validation_loss')\n",
        "plt.legend()"
      ],
      "execution_count": 55,
      "outputs": [
        {
          "output_type": "execute_result",
          "data": {
            "text/plain": [
              "<matplotlib.legend.Legend at 0x7f48a76020b8>"
            ]
          },
          "metadata": {
            "tags": []
          },
          "execution_count": 55
        },
        {
          "output_type": "display_data",
          "data": {
            "image/png": "[encoded data removed]",
            "text/plain": [
              "<Figure size 432x288 with 1 Axes>"
            ]
          },
          "metadata": {
            "tags": [],
            "needs_background": "light"
          }
        }
      ]
    },
    {
      "cell_type": "code",
      "metadata": {
        "id": "IuarNdxvFvEW",
        "colab_type": "code",
        "colab": {}
      },
      "source": [
        "y_test = y[index:]\n",
        "y_pred = []"
      ],
      "execution_count": 0,
      "outputs": []
    },
    {
      "cell_type": "code",
      "metadata": {
        "id": "qWRNknWnF3U4",
        "colab_type": "code",
        "colab": {}
      },
      "source": [
        "X_end = X[index]\n",
        "while len(y_pred) < len(y_test):\n",
        "  pred = model.predict(X_end.reshape(1, -1))[0,0]\n",
        "  y_pred.append(pred)\n",
        "  X_end = np.roll(X_end, -1)\n",
        "  X_end[-1] = pred"
      ],
      "execution_count": 0,
      "outputs": []
    },
    {
      "cell_type": "code",
      "metadata": {
        "id": "i8dR2ZYJHt_A",
        "colab_type": "code",
        "outputId": "acf2b32e-3f89-4a98-b8e5-97a086fc9862",
        "colab": {
          "base_uri": "https://localhost:8080/",
          "height": 51
        }
      },
      "source": [
        "print(len(y_pred))\n",
        "print(len(y_test))"
      ],
      "execution_count": 58,
      "outputs": [
        {
          "output_type": "stream",
          "text": [
            "300\n",
            "300\n"
          ],
          "name": "stdout"
        }
      ]
    },
    {
      "cell_type": "code",
      "metadata": {
        "id": "ckP1_2XYHi0h",
        "colab_type": "code",
        "outputId": "06976b7f-ef3f-4f3b-e1b1-31209661610e",
        "colab": {
          "base_uri": "https://localhost:8080/",
          "height": 282
        }
      },
      "source": [
        "plt.plot(y_test, label='y_test')\n",
        "plt.plot(y_pred, label='y_pred')\n",
        "plt.legend()"
      ],
      "execution_count": 59,
      "outputs": [
        {
          "output_type": "execute_result",
          "data": {
            "text/plain": [
              "<matplotlib.legend.Legend at 0x7f49101be0f0>"
            ]
          },
          "metadata": {
            "tags": []
          },
          "execution_count": 59
        },
        {
          "output_type": "display_data",
          "data": {
            "image/png": "[encoded data removed]",
            "text/plain": [
              "<Figure size 432x288 with 1 Axes>"
            ]
          },
          "metadata": {
            "tags": [],
            "needs_background": "light"
          }
        }
      ]
    },
    {
      "cell_type": "code",
      "metadata": {
        "id": "HC3bV6Lsa-ai",
        "colab_type": "code",
        "outputId": "e4deea8b-b7c0-4b3a-f1ae-9bb3570c3327",
        "colab": {
          "base_uri": "https://localhost:8080/",
          "height": 282
        }
      },
      "source": [
        "y_test_single = y[index:]\n",
        "y_pred_single = []\n",
        "\n",
        "i = index\n",
        "while len(y_pred_single) < len(y_test_single):\n",
        "  pred = model.predict(X[i].reshape(1,T, D))[0,0]\n",
        "  i+=1\n",
        "  y_pred_single.append(pred)\n",
        "\n",
        "plt.plot(y_test_single, label='y_test_single')\n",
        "plt.plot(y_pred_single, label='y_pred_singe')\n",
        "plt.legend()"
      ],
      "execution_count": 60,
      "outputs": [
        {
          "output_type": "execute_result",
          "data": {
            "text/plain": [
              "<matplotlib.legend.Legend at 0x7f48a778eb70>"
            ]
          },
          "metadata": {
            "tags": []
          },
          "execution_count": 60
        },
        {
          "output_type": "display_data",
          "data": {
            "image/png": "[encoded data removed]",
            "text/plain": [
              "<Figure size 432x288 with 1 Axes>"
            ]
          },
          "metadata": {
            "tags": [],
            "needs_background": "light"
          }
        }
      ]
    },
    {
      "cell_type": "markdown",
      "metadata": {
        "id": "4rp827FMc-Uy",
        "colab_type": "text"
      },
      "source": [
        "## This is bad, the single prediction shows that our model just does not learn anything, this is bad bad bad\n",
        "\n",
        "But we're in too deep in the world of deep learning, we must find a way! Let's fix our window\n"
      ]
    },
    {
      "cell_type": "code",
      "metadata": {
        "id": "_9hHMWhNsRrY",
        "colab_type": "code",
        "outputId": "9f5fcc6c-1f74-4c66-f941-ccf70c2e3921",
        "colab": {
          "base_uri": "https://localhost:8080/",
          "height": 1000
        }
      },
      "source": [
        "N, T, D, X, y = make_series(10, 1, data)\n",
        "\n",
        "i_layer = Input(shape = (T, D))\n",
        "h_layer = GRU(10, activation='tanh')(i_layer)\n",
        "o_layer = Dense(1)(h_layer)\n",
        "model = Model(i_layer, o_layer)\n",
        "model.compile(loss = 'mse',\n",
        "              optimizer = Adam(lr = 0.1))\n",
        "\n",
        "index = -N//6\n",
        "report = model.fit(X[:index], y[:index], epochs=60, validation_data=(X[index:], y[index:]))\n",
        "\n",
        "plt.plot(report.history['loss'], label='training_loss')\n",
        "plt.plot(report.history['val_loss'], label='validation_loss')\n",
        "plt.legend()"
      ],
      "execution_count": 82,
      "outputs": [
        {
          "output_type": "stream",
          "text": [
            "1258\n",
            "The last sample would be: 1258 - 10 = 1248\n",
            "Epoch 1/60\n",
            "33/33 [==============================] - 0s 11ms/step - loss: 0.0679 - val_loss: 0.0400\n",
            "Epoch 2/60\n",
            "33/33 [==============================] - 0s 4ms/step - loss: 0.0068 - val_loss: 0.0232\n",
            "Epoch 3/60\n",
            "33/33 [==============================] - 0s 4ms/step - loss: 0.0044 - val_loss: 0.0250\n",
            "Epoch 4/60\n",
            "33/33 [==============================] - 0s 4ms/step - loss: 0.0050 - val_loss: 0.0108\n",
            "Epoch 5/60\n",
            "33/33 [==============================] - 0s 4ms/step - loss: 0.0041 - val_loss: 0.0098\n",
            "Epoch 6/60\n",
            "33/33 [==============================] - 0s 4ms/step - loss: 0.0049 - val_loss: 0.0142\n",
            "Epoch 7/60\n",
            "33/33 [==============================] - 0s 4ms/step - loss: 0.0042 - val_loss: 0.0098\n",
            "Epoch 8/60\n",
            "33/33 [==============================] - 0s 4ms/step - loss: 0.0042 - val_loss: 0.0083\n",
            "Epoch 9/60\n",
            "33/33 [==============================] - 0s 4ms/step - loss: 0.0039 - val_loss: 0.0125\n",
            "Epoch 10/60\n",
            "33/33 [==============================] - 0s 4ms/step - loss: 0.0043 - val_loss: 0.0071\n",
            "Epoch 11/60\n",
            "33/33 [==============================] - 0s 4ms/step - loss: 0.0044 - val_loss: 0.0132\n",
            "Epoch 12/60\n",
            "33/33 [==============================] - 0s 4ms/step - loss: 0.0050 - val_loss: 0.0228\n",
            "Epoch 13/60\n",
            "33/33 [==============================] - 0s 4ms/step - loss: 0.0046 - val_loss: 0.0126\n",
            "Epoch 14/60\n",
            "33/33 [==============================] - 0s 4ms/step - loss: 0.0059 - val_loss: 0.0157\n",
            "Epoch 15/60\n",
            "33/33 [==============================] - 0s 4ms/step - loss: 0.0044 - val_loss: 0.0109\n",
            "Epoch 16/60\n",
            "33/33 [==============================] - 0s 4ms/step - loss: 0.0053 - val_loss: 0.0046\n",
            "Epoch 17/60\n",
            "33/33 [==============================] - 0s 4ms/step - loss: 0.0054 - val_loss: 0.0119\n",
            "Epoch 18/60\n",
            "33/33 [==============================] - 0s 4ms/step - loss: 0.0045 - val_loss: 0.0124\n",
            "Epoch 19/60\n",
            "33/33 [==============================] - 0s 4ms/step - loss: 0.0039 - val_loss: 0.0044\n",
            "Epoch 20/60\n",
            "33/33 [==============================] - 0s 4ms/step - loss: 0.0037 - val_loss: 0.0057\n",
            "Epoch 21/60\n",
            "33/33 [==============================] - 0s 4ms/step - loss: 0.0042 - val_loss: 0.0055\n",
            "Epoch 22/60\n",
            "33/33 [==============================] - 0s 4ms/step - loss: 0.0040 - val_loss: 0.0064\n",
            "Epoch 23/60\n",
            "33/33 [==============================] - 0s 4ms/step - loss: 0.0035 - val_loss: 0.0080\n",
            "Epoch 24/60\n",
            "33/33 [==============================] - 0s 4ms/step - loss: 0.0040 - val_loss: 0.0051\n",
            "Epoch 25/60\n",
            "33/33 [==============================] - 0s 4ms/step - loss: 0.0051 - val_loss: 0.0065\n",
            "Epoch 26/60\n",
            "33/33 [==============================] - 0s 4ms/step - loss: 0.0060 - val_loss: 0.0134\n",
            "Epoch 27/60\n",
            "33/33 [==============================] - 0s 4ms/step - loss: 0.0056 - val_loss: 0.0103\n",
            "Epoch 28/60\n",
            "33/33 [==============================] - 0s 4ms/step - loss: 0.0043 - val_loss: 0.0082\n",
            "Epoch 29/60\n",
            "33/33 [==============================] - 0s 4ms/step - loss: 0.0052 - val_loss: 0.0042\n",
            "Epoch 30/60\n",
            "33/33 [==============================] - 0s 4ms/step - loss: 0.0042 - val_loss: 0.0060\n",
            "Epoch 31/60\n",
            "33/33 [==============================] - 0s 4ms/step - loss: 0.0049 - val_loss: 0.0213\n",
            "Epoch 32/60\n",
            "33/33 [==============================] - 0s 4ms/step - loss: 0.0047 - val_loss: 0.0073\n",
            "Epoch 33/60\n",
            "33/33 [==============================] - 0s 4ms/step - loss: 0.0043 - val_loss: 0.0050\n",
            "Epoch 34/60\n",
            "33/33 [==============================] - 0s 4ms/step - loss: 0.0046 - val_loss: 0.0084\n",
            "Epoch 35/60\n",
            "33/33 [==============================] - 0s 4ms/step - loss: 0.0043 - val_loss: 0.0066\n",
            "Epoch 36/60\n",
            "33/33 [==============================] - 0s 4ms/step - loss: 0.0046 - val_loss: 0.0136\n",
            "Epoch 37/60\n",
            "33/33 [==============================] - 0s 4ms/step - loss: 0.0038 - val_loss: 0.0046\n",
            "Epoch 38/60\n",
            "33/33 [==============================] - 0s 4ms/step - loss: 0.0051 - val_loss: 0.0131\n",
            "Epoch 39/60\n",
            "33/33 [==============================] - 0s 4ms/step - loss: 0.0050 - val_loss: 0.0130\n",
            "Epoch 40/60\n",
            "33/33 [==============================] - 0s 4ms/step - loss: 0.0039 - val_loss: 0.0142\n",
            "Epoch 41/60\n",
            "33/33 [==============================] - 0s 4ms/step - loss: 0.0042 - val_loss: 0.0060\n",
            "Epoch 42/60\n",
            "33/33 [==============================] - 0s 4ms/step - loss: 0.0038 - val_loss: 0.0049\n",
            "Epoch 43/60\n",
            "33/33 [==============================] - 0s 4ms/step - loss: 0.0039 - val_loss: 0.0054\n",
            "Epoch 44/60\n",
            "33/33 [==============================] - 0s 4ms/step - loss: 0.0042 - val_loss: 0.0156\n",
            "Epoch 45/60\n",
            "33/33 [==============================] - 0s 4ms/step - loss: 0.0038 - val_loss: 0.0057\n",
            "Epoch 46/60\n",
            "33/33 [==============================] - 0s 4ms/step - loss: 0.0037 - val_loss: 0.0085\n",
            "Epoch 47/60\n",
            "33/33 [==============================] - 0s 4ms/step - loss: 0.0038 - val_loss: 0.0045\n",
            "Epoch 48/60\n",
            "33/33 [==============================] - 0s 4ms/step - loss: 0.0036 - val_loss: 0.0127\n",
            "Epoch 49/60\n",
            "33/33 [==============================] - 0s 4ms/step - loss: 0.0042 - val_loss: 0.0133\n",
            "Epoch 50/60\n",
            "33/33 [==============================] - 0s 4ms/step - loss: 0.0041 - val_loss: 0.0059\n",
            "Epoch 51/60\n",
            "33/33 [==============================] - 0s 4ms/step - loss: 0.0038 - val_loss: 0.0065\n",
            "Epoch 52/60\n",
            "33/33 [==============================] - 0s 4ms/step - loss: 0.0040 - val_loss: 0.0131\n",
            "Epoch 53/60\n",
            "33/33 [==============================] - 0s 4ms/step - loss: 0.0037 - val_loss: 0.0048\n",
            "Epoch 54/60\n",
            "33/33 [==============================] - 0s 4ms/step - loss: 0.0038 - val_loss: 0.0072\n",
            "Epoch 55/60\n",
            "33/33 [==============================] - 0s 4ms/step - loss: 0.0056 - val_loss: 0.0058\n",
            "Epoch 56/60\n",
            "33/33 [==============================] - 0s 4ms/step - loss: 0.0042 - val_loss: 0.0162\n",
            "Epoch 57/60\n",
            "33/33 [==============================] - 0s 4ms/step - loss: 0.0040 - val_loss: 0.0060\n",
            "Epoch 58/60\n",
            "33/33 [==============================] - 0s 4ms/step - loss: 0.0046 - val_loss: 0.0062\n",
            "Epoch 59/60\n",
            "33/33 [==============================] - 0s 4ms/step - loss: 0.0039 - val_loss: 0.0071\n",
            "Epoch 60/60\n",
            "33/33 [==============================] - 0s 4ms/step - loss: 0.0039 - val_loss: 0.0047\n"
          ],
          "name": "stdout"
        },
        {
          "output_type": "execute_result",
          "data": {
            "text/plain": [
              "<matplotlib.legend.Legend at 0x7f48a6576908>"
            ]
          },
          "metadata": {
            "tags": []
          },
          "execution_count": 82
        },
        {
          "output_type": "display_data",
          "data": {
            "image/png": "[encoded data removed]",
            "text/plain": [
              "<Figure size 432x288 with 1 Axes>"
            ]
          },
          "metadata": {
            "tags": [],
            "needs_background": "light"
          }
        }
      ]
    },
    {
      "cell_type": "code",
      "metadata": {
        "id": "mT8NwdRDt7gO",
        "colab_type": "code",
        "outputId": "0b62c967-7ecc-47ec-d8da-e51529ca1b6a",
        "colab": {
          "base_uri": "https://localhost:8080/",
          "height": 282
        }
      },
      "source": [
        "y_test_single = y[index:]\n",
        "y_pred_single = []\n",
        "\n",
        "i = index\n",
        "while len(y_pred_single) < len(y_test_single):\n",
        "  pred = model.predict(X[i].reshape(1,T, D))[0,0]\n",
        "  i+=1\n",
        "  y_pred_single.append(pred)\n",
        "\n",
        "plt.plot(y_test_single, label='y_test_single')\n",
        "plt.plot(y_pred_single, label='y_pred_singe')\n",
        "plt.legend()"
      ],
      "execution_count": 84,
      "outputs": [
        {
          "output_type": "execute_result",
          "data": {
            "text/plain": [
              "<matplotlib.legend.Legend at 0x7f48a7754a58>"
            ]
          },
          "metadata": {
            "tags": []
          },
          "execution_count": 84
        },
        {
          "output_type": "display_data",
          "data": {
            "image/png": "[encoded data removed]",
            "text/plain": [
              "<Figure size 432x288 with 1 Axes>"
            ]
          },
          "metadata": {
            "tags": [],
            "needs_background": "light"
          }
        }
      ]
    },
    {
      "cell_type": "code",
      "metadata": {
        "id": "GvZgWolzsfW0",
        "colab_type": "code",
        "outputId": "ff9e26e8-548b-4ae9-c4f7-074dcd46d46f",
        "colab": {
          "base_uri": "https://localhost:8080/",
          "height": 282
        }
      },
      "source": [
        "y_test = y[index:]\n",
        "y_pred = []\n",
        "X_end = X[index]\n",
        "while len(y_pred) < len(y_test):\n",
        "  pred = model.predict(X_end.reshape(1, -1))[0,0]\n",
        "  y_pred.append(pred)\n",
        "  X_end = np.roll(X_end, -1)\n",
        "  X_end[-1] = pred\n",
        "plt.plot(y_test, label='y_test')\n",
        "plt.plot(y_pred, label='y_pred')\n",
        "plt.legend()"
      ],
      "execution_count": 83,
      "outputs": [
        {
          "output_type": "execute_result",
          "data": {
            "text/plain": [
              "<matplotlib.legend.Legend at 0x7f48a72bc128>"
            ]
          },
          "metadata": {
            "tags": []
          },
          "execution_count": 83
        },
        {
          "output_type": "display_data",
          "data": {
            "image/png": "[encoded data removed]",
            "text/plain": [
              "<Figure size 432x288 with 1 Axes>"
            ]
          },
          "metadata": {
            "tags": [],
            "needs_background": "light"
          }
        }
      ]
    },
    {
      "cell_type": "markdown",
      "metadata": {
        "id": "2Zw_SDc_6NgR",
        "colab_type": "text"
      },
      "source": [
        "## So the single versus multi-step has absolutely demolished the concept of an RNN for us :/ But wait a minute, how do people predict this? They predict the returns"
      ]
    },
    {
      "cell_type": "code",
      "metadata": {
        "id": "0VmQM5986Vw7",
        "colab_type": "code",
        "colab": {}
      },
      "source": [
        "# Importing the training set\n",
        "dataset = pd.read_csv('sample_data/Google_Stock_Price_Train.csv', thousands= ',')\n",
        "dataset['ShiftedClose'] = dataset['Close'].shift(1)\n"
      ],
      "execution_count": 0,
      "outputs": []
    },
    {
      "cell_type": "code",
      "metadata": {
        "id": "ayatRll37uqR",
        "colab_type": "code",
        "colab": {}
      },
      "source": [
        "dataset['Return'] = (dataset['Close'] - dataset['ShiftedClose']) /  dataset['ShiftedClose']"
      ],
      "execution_count": 0,
      "outputs": []
    },
    {
      "cell_type": "code",
      "metadata": {
        "id": "DuEKsIbKARHq",
        "colab_type": "code",
        "colab": {
          "base_uri": "https://localhost:8080/",
          "height": 203
        },
        "outputId": "0c99a2d6-7404-464b-8899-8ec36c25cef4"
      },
      "source": [
        "dataset.head()"
      ],
      "execution_count": 162,
      "outputs": [
        {
          "output_type": "execute_result",
          "data": {
            "text/html": [
              "<div>\n",
              "<style scoped>\n",
              "    .dataframe tbody tr th:only-of-type {\n",
              "        vertical-align: middle;\n",
              "    }\n",
              "\n",
              "    .dataframe tbody tr th {\n",
              "        vertical-align: top;\n",
              "    }\n",
              "\n",
              "    .dataframe thead th {\n",
              "        text-align: right;\n",
              "    }\n",
              "</style>\n",
              "<table border=\"1\" class=\"dataframe\">\n",
              "  <thead>\n",
              "    <tr style=\"text-align: right;\">\n",
              "      <th></th>\n",
              "      <th>Date</th>\n",
              "      <th>Open</th>\n",
              "      <th>High</th>\n",
              "      <th>Low</th>\n",
              "      <th>Close</th>\n",
              "      <th>Volume</th>\n",
              "      <th>ShiftedClose</th>\n",
              "      <th>Return</th>\n",
              "    </tr>\n",
              "  </thead>\n",
              "  <tbody>\n",
              "    <tr>\n",
              "      <th>0</th>\n",
              "      <td>1/3/2012</td>\n",
              "      <td>325.25</td>\n",
              "      <td>332.83</td>\n",
              "      <td>324.97</td>\n",
              "      <td>663.59</td>\n",
              "      <td>7380500</td>\n",
              "      <td>NaN</td>\n",
              "      <td>NaN</td>\n",
              "    </tr>\n",
              "    <tr>\n",
              "      <th>1</th>\n",
              "      <td>1/4/2012</td>\n",
              "      <td>331.27</td>\n",
              "      <td>333.87</td>\n",
              "      <td>329.08</td>\n",
              "      <td>666.45</td>\n",
              "      <td>5749400</td>\n",
              "      <td>663.59</td>\n",
              "      <td>0.004310</td>\n",
              "    </tr>\n",
              "    <tr>\n",
              "      <th>2</th>\n",
              "      <td>1/5/2012</td>\n",
              "      <td>329.83</td>\n",
              "      <td>330.75</td>\n",
              "      <td>326.89</td>\n",
              "      <td>657.21</td>\n",
              "      <td>6590300</td>\n",
              "      <td>666.45</td>\n",
              "      <td>-0.013865</td>\n",
              "    </tr>\n",
              "    <tr>\n",
              "      <th>3</th>\n",
              "      <td>1/6/2012</td>\n",
              "      <td>328.34</td>\n",
              "      <td>328.77</td>\n",
              "      <td>323.68</td>\n",
              "      <td>648.24</td>\n",
              "      <td>5405900</td>\n",
              "      <td>657.21</td>\n",
              "      <td>-0.013649</td>\n",
              "    </tr>\n",
              "    <tr>\n",
              "      <th>4</th>\n",
              "      <td>1/9/2012</td>\n",
              "      <td>322.04</td>\n",
              "      <td>322.29</td>\n",
              "      <td>309.46</td>\n",
              "      <td>620.76</td>\n",
              "      <td>11688800</td>\n",
              "      <td>648.24</td>\n",
              "      <td>-0.042392</td>\n",
              "    </tr>\n",
              "  </tbody>\n",
              "</table>\n",
              "</div>"
            ],
            "text/plain": [
              "       Date    Open    High     Low   Close    Volume  ShiftedClose    Return\n",
              "0  1/3/2012  325.25  332.83  324.97  663.59   7380500           NaN       NaN\n",
              "1  1/4/2012  331.27  333.87  329.08  666.45   5749400        663.59  0.004310\n",
              "2  1/5/2012  329.83  330.75  326.89  657.21   6590300        666.45 -0.013865\n",
              "3  1/6/2012  328.34  328.77  323.68  648.24   5405900        657.21 -0.013649\n",
              "4  1/9/2012  322.04  322.29  309.46  620.76  11688800        648.24 -0.042392"
            ]
          },
          "metadata": {
            "tags": []
          },
          "execution_count": 162
        }
      ]
    },
    {
      "cell_type": "code",
      "metadata": {
        "id": "Mpl9aWBJ6yO_",
        "colab_type": "code",
        "colab": {
          "base_uri": "https://localhost:8080/",
          "height": 137
        },
        "outputId": "2313d142-3187-4904-8a9d-97089666a562"
      },
      "source": [
        "# Normalize \n",
        "from sklearn.preprocessing import StandardScaler\n",
        "data = dataset.iloc[:, [-1]]\n",
        "scaler = StandardScaler()\n",
        "data = scaler.fit_transform(data)\n",
        "\n",
        "data = data[1:]\n",
        "data"
      ],
      "execution_count": 164,
      "outputs": [
        {
          "output_type": "execute_result",
          "data": {
            "text/plain": [
              "array([[ 0.19146114],\n",
              "       [-0.69526603],\n",
              "       [-0.68473227],\n",
              "       ...,\n",
              "       [-0.41946791],\n",
              "       [-0.1592743 ],\n",
              "       [-0.70255865]])"
            ]
          },
          "metadata": {
            "tags": []
          },
          "execution_count": 164
        }
      ]
    },
    {
      "cell_type": "code",
      "metadata": {
        "id": "iIeMhvGw-k84",
        "colab_type": "code",
        "colab": {
          "base_uri": "https://localhost:8080/",
          "height": 86
        },
        "outputId": "63cd8147-668f-438c-b487-c7e61dd8d6cb"
      },
      "source": [
        "N, T, D, X, y = make_series(60, 1, data)"
      ],
      "execution_count": 165,
      "outputs": [
        {
          "output_type": "stream",
          "text": [
            "1257\n",
            "The last sample would be: 1257 - 60 = 1197\n",
            "(1197, 60, 1)\n",
            "(1197, 1)\n"
          ],
          "name": "stdout"
        }
      ]
    },
    {
      "cell_type": "code",
      "metadata": {
        "id": "emM_edZH_I1A",
        "colab_type": "code",
        "colab": {
          "base_uri": "https://localhost:8080/",
          "height": 1000
        },
        "outputId": "678c85f5-a05f-4580-a0e6-d2a761d496a9"
      },
      "source": [
        "i_layer = Input(shape = (T, D))\n",
        "h_layer = LSTM(10)(i_layer)\n",
        "o_layer = Dense(1)(h_layer)\n",
        "model = Model(i_layer, o_layer)\n",
        "model.compile(loss = 'mse',\n",
        "              optimizer = Adam(lr = 0.01))\n",
        "\n",
        "index = -N//2\n",
        "report = model.fit(X[:index], y[:index], epochs=60, validation_data=(X[index:], y[index:]))\n",
        "\n",
        "plt.plot(report.history['loss'], label='training_loss')\n",
        "plt.plot(report.history['val_loss'], label='validation_loss')\n",
        "plt.legend()"
      ],
      "execution_count": 167,
      "outputs": [
        {
          "output_type": "stream",
          "text": [
            "Epoch 1/60\n",
            "19/19 [==============================] - 0s 22ms/step - loss: 1.5137 - val_loss: 0.5625\n",
            "Epoch 2/60\n",
            "19/19 [==============================] - 0s 7ms/step - loss: 1.4894 - val_loss: 0.5607\n",
            "Epoch 3/60\n",
            "19/19 [==============================] - 0s 7ms/step - loss: 1.4842 - val_loss: 0.5601\n",
            "Epoch 4/60\n",
            "19/19 [==============================] - 0s 7ms/step - loss: 1.4845 - val_loss: 0.5610\n",
            "Epoch 5/60\n",
            "19/19 [==============================] - 0s 7ms/step - loss: 1.4806 - val_loss: 0.5618\n",
            "Epoch 6/60\n",
            "19/19 [==============================] - 0s 7ms/step - loss: 1.4819 - val_loss: 0.5660\n",
            "Epoch 7/60\n",
            "19/19 [==============================] - 0s 7ms/step - loss: 1.4807 - val_loss: 0.5657\n",
            "Epoch 8/60\n",
            "19/19 [==============================] - 0s 8ms/step - loss: 1.4803 - val_loss: 0.5694\n",
            "Epoch 9/60\n",
            "19/19 [==============================] - 0s 7ms/step - loss: 1.4748 - val_loss: 0.5713\n",
            "Epoch 10/60\n",
            "19/19 [==============================] - 0s 7ms/step - loss: 1.4779 - val_loss: 0.5716\n",
            "Epoch 11/60\n",
            "19/19 [==============================] - 0s 7ms/step - loss: 1.4901 - val_loss: 0.5829\n",
            "Epoch 12/60\n",
            "19/19 [==============================] - 0s 8ms/step - loss: 1.4675 - val_loss: 0.5833\n",
            "Epoch 13/60\n",
            "19/19 [==============================] - 0s 7ms/step - loss: 1.4616 - val_loss: 0.5967\n",
            "Epoch 14/60\n",
            "19/19 [==============================] - 0s 7ms/step - loss: 1.4547 - val_loss: 0.6078\n",
            "Epoch 15/60\n",
            "19/19 [==============================] - 0s 8ms/step - loss: 1.4659 - val_loss: 0.6128\n",
            "Epoch 16/60\n",
            "19/19 [==============================] - 0s 7ms/step - loss: 1.4542 - val_loss: 0.6002\n",
            "Epoch 17/60\n",
            "19/19 [==============================] - 0s 7ms/step - loss: 1.4436 - val_loss: 0.6055\n",
            "Epoch 18/60\n",
            "19/19 [==============================] - 0s 7ms/step - loss: 1.4466 - val_loss: 0.6483\n",
            "Epoch 19/60\n",
            "19/19 [==============================] - 0s 8ms/step - loss: 1.4389 - val_loss: 0.6335\n",
            "Epoch 20/60\n",
            "19/19 [==============================] - 0s 7ms/step - loss: 1.4262 - val_loss: 0.6837\n",
            "Epoch 21/60\n",
            "19/19 [==============================] - 0s 8ms/step - loss: 1.4134 - val_loss: 0.6353\n",
            "Epoch 22/60\n",
            "19/19 [==============================] - 0s 8ms/step - loss: 1.4402 - val_loss: 0.6363\n",
            "Epoch 23/60\n",
            "19/19 [==============================] - 0s 8ms/step - loss: 1.4086 - val_loss: 0.6906\n",
            "Epoch 24/60\n",
            "19/19 [==============================] - 0s 8ms/step - loss: 1.3908 - val_loss: 0.7109\n",
            "Epoch 25/60\n",
            "19/19 [==============================] - 0s 7ms/step - loss: 1.3617 - val_loss: 0.7449\n",
            "Epoch 26/60\n",
            "19/19 [==============================] - 0s 8ms/step - loss: 1.3685 - val_loss: 0.7450\n",
            "Epoch 27/60\n",
            "19/19 [==============================] - 0s 8ms/step - loss: 1.3485 - val_loss: 0.6840\n",
            "Epoch 28/60\n",
            "19/19 [==============================] - 0s 8ms/step - loss: 1.2911 - val_loss: 0.8170\n",
            "Epoch 29/60\n",
            "19/19 [==============================] - 0s 7ms/step - loss: 1.3819 - val_loss: 0.7809\n",
            "Epoch 30/60\n",
            "19/19 [==============================] - 0s 7ms/step - loss: 1.2883 - val_loss: 0.6369\n",
            "Epoch 31/60\n",
            "19/19 [==============================] - 0s 7ms/step - loss: 1.4103 - val_loss: 0.6621\n",
            "Epoch 32/60\n",
            "19/19 [==============================] - 0s 8ms/step - loss: 1.3375 - val_loss: 0.6597\n",
            "Epoch 33/60\n",
            "19/19 [==============================] - 0s 7ms/step - loss: 1.2920 - val_loss: 0.6868\n",
            "Epoch 34/60\n",
            "19/19 [==============================] - 0s 7ms/step - loss: 1.2628 - val_loss: 0.7053\n",
            "Epoch 35/60\n",
            "19/19 [==============================] - 0s 8ms/step - loss: 1.2419 - val_loss: 0.6965\n",
            "Epoch 36/60\n",
            "19/19 [==============================] - 0s 8ms/step - loss: 1.2479 - val_loss: 0.6875\n",
            "Epoch 37/60\n",
            "19/19 [==============================] - 0s 7ms/step - loss: 1.2380 - val_loss: 0.6847\n",
            "Epoch 38/60\n",
            "19/19 [==============================] - 0s 8ms/step - loss: 1.1770 - val_loss: 0.7181\n",
            "Epoch 39/60\n",
            "19/19 [==============================] - 0s 7ms/step - loss: 1.1616 - val_loss: 0.6948\n",
            "Epoch 40/60\n",
            "19/19 [==============================] - 0s 8ms/step - loss: 1.1332 - val_loss: 0.7080\n",
            "Epoch 41/60\n",
            "19/19 [==============================] - 0s 7ms/step - loss: 1.1005 - val_loss: 0.7066\n",
            "Epoch 42/60\n",
            "19/19 [==============================] - 0s 8ms/step - loss: 1.0811 - val_loss: 0.6952\n",
            "Epoch 43/60\n",
            "19/19 [==============================] - 1s 27ms/step - loss: 1.0506 - val_loss: 0.7453\n",
            "Epoch 44/60\n",
            "19/19 [==============================] - 0s 8ms/step - loss: 1.0291 - val_loss: 0.7944\n",
            "Epoch 45/60\n",
            "19/19 [==============================] - 0s 8ms/step - loss: 1.0160 - val_loss: 0.7665\n",
            "Epoch 46/60\n",
            "19/19 [==============================] - 0s 8ms/step - loss: 0.9971 - val_loss: 0.8308\n",
            "Epoch 47/60\n",
            "19/19 [==============================] - 0s 8ms/step - loss: 0.9663 - val_loss: 0.8356\n",
            "Epoch 48/60\n",
            "19/19 [==============================] - 0s 8ms/step - loss: 0.9598 - val_loss: 0.8121\n",
            "Epoch 49/60\n",
            "19/19 [==============================] - 0s 7ms/step - loss: 0.9231 - val_loss: 0.9363\n",
            "Epoch 50/60\n",
            "19/19 [==============================] - 0s 8ms/step - loss: 0.9298 - val_loss: 0.8556\n",
            "Epoch 51/60\n",
            "19/19 [==============================] - 0s 8ms/step - loss: 0.9369 - val_loss: 0.8974\n",
            "Epoch 52/60\n",
            "19/19 [==============================] - 0s 8ms/step - loss: 1.0523 - val_loss: 0.8483\n",
            "Epoch 53/60\n",
            "19/19 [==============================] - 0s 8ms/step - loss: 1.0241 - val_loss: 0.7818\n",
            "Epoch 54/60\n",
            "19/19 [==============================] - 0s 7ms/step - loss: 1.0129 - val_loss: 0.7750\n",
            "Epoch 55/60\n",
            "19/19 [==============================] - 0s 8ms/step - loss: 0.8897 - val_loss: 1.0574\n",
            "Epoch 56/60\n",
            "19/19 [==============================] - 0s 8ms/step - loss: 0.8545 - val_loss: 0.8305\n",
            "Epoch 57/60\n",
            "19/19 [==============================] - 0s 7ms/step - loss: 0.8179 - val_loss: 0.8515\n",
            "Epoch 58/60\n",
            "19/19 [==============================] - 0s 8ms/step - loss: 0.7963 - val_loss: 0.9586\n",
            "Epoch 59/60\n",
            "19/19 [==============================] - 0s 8ms/step - loss: 0.7803 - val_loss: 0.9082\n",
            "Epoch 60/60\n",
            "19/19 [==============================] - 0s 8ms/step - loss: 0.7667 - val_loss: 0.9308\n"
          ],
          "name": "stdout"
        },
        {
          "output_type": "execute_result",
          "data": {
            "text/plain": [
              "<matplotlib.legend.Legend at 0x7f48a4c175f8>"
            ]
          },
          "metadata": {
            "tags": []
          },
          "execution_count": 167
        },
        {
          "output_type": "display_data",
          "data": {
            "image/png": "[encoded data removed]",
            "text/plain": [
              "<Figure size 432x288 with 1 Axes>"
            ]
          },
          "metadata": {
            "tags": [],
            "needs_background": "light"
          }
        }
      ]
    },
    {
      "cell_type": "code",
      "metadata": {
        "id": "EIsCQ7S3BXvu",
        "colab_type": "code",
        "colab": {
          "base_uri": "https://localhost:8080/",
          "height": 282
        },
        "outputId": "e57e3d6a-8678-42a8-ebb1-ff24f460bd16"
      },
      "source": [
        "\n",
        "y_test_single = y[index:]\n",
        "y_pred_single = []\n",
        "\n",
        "i = index\n",
        "while len(y_pred_single) < len(y_test_single):\n",
        "  pred = model.predict(X[i].reshape(1,T, D))[0,0]\n",
        "  i+=1\n",
        "  y_pred_single.append(pred)\n",
        "\n",
        "plt.plot(y_test_single, label='y_test_single')\n",
        "plt.plot(y_pred_single, label='y_pred_singe')\n",
        "plt.legend()"
      ],
      "execution_count": 168,
      "outputs": [
        {
          "output_type": "execute_result",
          "data": {
            "text/plain": [
              "<matplotlib.legend.Legend at 0x7f48a469b390>"
            ]
          },
          "metadata": {
            "tags": []
          },
          "execution_count": 168
        },
        {
          "output_type": "display_data",
          "data": {
            "image/png": "[encoded data removed]",
            "text/plain": [
              "<Figure size 432x288 with 1 Axes>"
            ]
          },
          "metadata": {
            "tags": [],
            "needs_background": "light"
          }
        }
      ]
    },
    {
      "cell_type": "code",
      "metadata": {
        "id": "8Rc5IgK9BhXO",
        "colab_type": "code",
        "colab": {
          "base_uri": "https://localhost:8080/",
          "height": 282
        },
        "outputId": "34962991-c551-432d-d4b8-7e9cbc90ad64"
      },
      "source": [
        "y_test = y[index:]\n",
        "y_pred = []\n",
        "X_end = X[index]\n",
        "while len(y_pred) < len(y_test):\n",
        "  pred = model.predict(X_end.reshape(1, -1))[0,0]\n",
        "  y_pred.append(pred)\n",
        "  X_end = np.roll(X_end, -1)\n",
        "  X_end[-1] = pred\n",
        "plt.plot(y_test, label='y_test')\n",
        "plt.plot(y_pred, label='y_pred')\n",
        "plt.legend()"
      ],
      "execution_count": 169,
      "outputs": [
        {
          "output_type": "execute_result",
          "data": {
            "text/plain": [
              "<matplotlib.legend.Legend at 0x7f48a5037a90>"
            ]
          },
          "metadata": {
            "tags": []
          },
          "execution_count": 169
        },
        {
          "output_type": "display_data",
          "data": {
            "image/png": "[encoded data removed]",
            "text/plain": [
              "<Figure size 432x288 with 1 Axes>"
            ]
          },
          "metadata": {
            "tags": [],
            "needs_background": "light"
          }
        }
      ]
    }
  ]
}