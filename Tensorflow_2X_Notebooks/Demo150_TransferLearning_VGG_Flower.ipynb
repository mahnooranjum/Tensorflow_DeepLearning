{
  "nbformat": 4,
  "nbformat_minor": 0,
  "metadata": {
    "colab": {
      "name": "Demo150_TransferLearning_VGG_Flower.ipynb",
      "provenance": [],
      "collapsed_sections": []
    },
    "kernelspec": {
      "name": "python3",
      "display_name": "Python 3"
    },
    "accelerator": "GPU"
  },
  "cells": [
    {
      "cell_type": "markdown",
      "metadata": {
        "id": "P9bJCDjdlgG6",
        "colab_type": "text"
      },
      "source": [
        "# **Spit some [tensor] flow**\n",
        "\n"
      ]
    },
    {
      "cell_type": "code",
      "metadata": {
        "id": "aQwc0re5mFld",
        "colab_type": "code",
        "outputId": "658bf8d2-dec8-491b-deab-33ae8907ae65",
        "colab": {
          "base_uri": "https://localhost:8080/",
          "height": 34
        }
      },
      "source": [
        "import numpy as np\n",
        "import pandas as pd\n",
        "import matplotlib.pyplot as plt\n",
        "import tensorflow as tf\n",
        "print(tf.__version__)"
      ],
      "execution_count": 50,
      "outputs": [
        {
          "output_type": "stream",
          "text": [
            "2.2.0\n"
          ],
          "name": "stdout"
        }
      ]
    },
    {
      "cell_type": "markdown",
      "metadata": {
        "id": "rOBIh9V2wcZ_",
        "colab_type": "text"
      },
      "source": [
        "## The basic idea is that the CNNs learn things in a hierarchical manner\n",
        "\n",
        "Thus, if we have a great classifier that can classify 10k objects with 99% accuracy, it must have great primary layers that learn the basic features perfectly. \n",
        "\n",
        "So we can use the primary layers for other things, like classifying 11k objects !\n"
      ]
    },
    {
      "cell_type": "code",
      "metadata": {
        "id": "CaBxIWkog_i-",
        "colab_type": "code",
        "colab": {}
      },
      "source": [
        "from tensorflow.keras.layers import Input, Dense, Dropout, Flatten\n",
        "from tensorflow.keras.models import Model\n",
        "from tensorflow.keras.optimizers import SGD, Adam\n",
        "from tensorflow.keras.preprocessing import image\n",
        "from tensorflow.keras.preprocessing.image import ImageDataGenerator\n",
        "from glob import glob\n",
        "import sys, os\n"
      ],
      "execution_count": 0,
      "outputs": []
    },
    {
      "cell_type": "code",
      "metadata": {
        "id": "uyxFT0aYoa2G",
        "colab_type": "code",
        "colab": {}
      },
      "source": [
        "from tensorflow.keras.applications.vgg16 import VGG16 as pretrained, preprocess_input"
      ],
      "execution_count": 0,
      "outputs": []
    },
    {
      "cell_type": "markdown",
      "metadata": {
        "id": "ofiCPRlY3MUV",
        "colab_type": "text"
      },
      "source": [
        "## Let's import the dataset\n"
      ]
    },
    {
      "cell_type": "code",
      "metadata": {
        "id": "J7kJZMyFp83c",
        "colab_type": "code",
        "outputId": "40572f48-8209-4ae7-f775-93a74052ebc4",
        "colab": {
          "base_uri": "https://localhost:8080/",
          "height": 210
        }
      },
      "source": [
        "!wget --passive-ftp --prefer-family=ipv4 https://www.robots.ox.ac.uk/~vgg/data/flowers/17/17flowers.tgz"
      ],
      "execution_count": 53,
      "outputs": [
        {
          "output_type": "stream",
          "text": [
            "--2020-06-12 14:18:45--  https://www.robots.ox.ac.uk/~vgg/data/flowers/17/17flowers.tgz\n",
            "Resolving www.robots.ox.ac.uk (www.robots.ox.ac.uk)... 129.67.94.2\n",
            "Connecting to www.robots.ox.ac.uk (www.robots.ox.ac.uk)|129.67.94.2|:443... connected.\n",
            "HTTP request sent, awaiting response... 200 OK\n",
            "Length: 60270631 (57M) [application/x-gzip]\n",
            "Saving to: ‘17flowers.tgz.2’\n",
            "\n",
            "17flowers.tgz.2     100%[===================>]  57.48M  22.1MB/s    in 2.6s    \n",
            "\n",
            "2020-06-12 14:18:48 (22.1 MB/s) - ‘17flowers.tgz.2’ saved [60270631/60270631]\n",
            "\n"
          ],
          "name": "stdout"
        }
      ]
    },
    {
      "cell_type": "code",
      "metadata": {
        "id": "rDELS-Tvp8zV",
        "colab_type": "code",
        "outputId": "142b1dd7-1dcd-407b-b4a5-ae19a758c714",
        "colab": {
          "base_uri": "https://localhost:8080/",
          "height": 52
        }
      },
      "source": [
        "!ls"
      ],
      "execution_count": 54,
      "outputs": [
        {
          "output_type": "stream",
          "text": [
            "17flowers.tgz\t 17flowers.tgz.2   jpg\n",
            "17flowers.tgz.1  flower17_dataset  sample_data\n"
          ],
          "name": "stdout"
        }
      ]
    },
    {
      "cell_type": "code",
      "metadata": {
        "id": "Y1MagQscqOSE",
        "colab_type": "code",
        "outputId": "4e69798c-064a-4cb0-a2ee-467ae428eeab",
        "colab": {
          "base_uri": "https://localhost:8080/",
          "height": 1000
        }
      },
      "source": [
        "!tar -xzvf 17flowers.tgz"
      ],
      "execution_count": 55,
      "outputs": [
        {
          "output_type": "stream",
          "text": [
            "jpg/files.txt\n",
            "jpg/files.txt~\n",
            "jpg/image_0001.jpg\n",
            "jpg/image_0002.jpg\n",
            "jpg/image_0003.jpg\n",
            "jpg/image_0004.jpg\n",
            "jpg/image_0005.jpg\n",
            "jpg/image_0006.jpg\n",
            "jpg/image_0007.jpg\n",
            "jpg/image_0008.jpg\n",
            "jpg/image_0009.jpg\n",
            "jpg/image_0010.jpg\n",
            "jpg/image_0011.jpg\n",
            "jpg/image_0012.jpg\n",
            "jpg/image_0013.jpg\n",
            "jpg/image_0014.jpg\n",
            "jpg/image_0015.jpg\n",
            "jpg/image_0016.jpg\n",
            "jpg/image_0017.jpg\n",
            "jpg/image_0018.jpg\n",
            "jpg/image_0019.jpg\n",
            "jpg/image_0020.jpg\n",
            "jpg/image_0021.jpg\n",
            "jpg/image_0022.jpg\n",
            "jpg/image_0023.jpg\n",
            "jpg/image_0024.jpg\n",
            "jpg/image_0025.jpg\n",
            "jpg/image_0026.jpg\n",
            "jpg/image_0027.jpg\n",
            "jpg/image_0028.jpg\n",
            "jpg/image_0029.jpg\n",
            "jpg/image_0030.jpg\n",
            "jpg/image_0031.jpg\n",
            "jpg/image_0032.jpg\n",
            "jpg/image_0033.jpg\n",
            "jpg/image_0034.jpg\n",
            "jpg/image_0035.jpg\n",
            "jpg/image_0036.jpg\n",
            "jpg/image_0037.jpg\n",
            "jpg/image_0038.jpg\n",
            "jpg/image_0039.jpg\n",
            "jpg/image_0040.jpg\n",
            "jpg/image_0041.jpg\n",
            "jpg/image_0042.jpg\n",
            "jpg/image_0043.jpg\n",
            "jpg/image_0044.jpg\n",
            "jpg/image_0045.jpg\n",
            "jpg/image_0046.jpg\n",
            "jpg/image_0047.jpg\n",
            "jpg/image_0048.jpg\n",
            "jpg/image_0049.jpg\n",
            "jpg/image_0050.jpg\n",
            "jpg/image_0051.jpg\n",
            "jpg/image_0052.jpg\n",
            "jpg/image_0053.jpg\n",
            "jpg/image_0054.jpg\n",
            "jpg/image_0055.jpg\n",
            "jpg/image_0056.jpg\n",
            "jpg/image_0057.jpg\n",
            "jpg/image_0058.jpg\n",
            "jpg/image_0059.jpg\n",
            "jpg/image_0060.jpg\n",
            "jpg/image_0061.jpg\n",
            "jpg/image_0062.jpg\n",
            "jpg/image_0063.jpg\n",
            "jpg/image_0064.jpg\n",
            "jpg/image_0065.jpg\n",
            "jpg/image_0066.jpg\n",
            "jpg/image_0067.jpg\n",
            "jpg/image_0068.jpg\n",
            "jpg/image_0069.jpg\n",
            "jpg/image_0070.jpg\n",
            "jpg/image_0071.jpg\n",
            "jpg/image_0072.jpg\n",
            "jpg/image_0073.jpg\n",
            "jpg/image_0074.jpg\n",
            "jpg/image_0075.jpg\n",
            "jpg/image_0076.jpg\n",
            "jpg/image_0077.jpg\n",
            "jpg/image_0078.jpg\n",
            "jpg/image_0079.jpg\n",
            "jpg/image_0080.jpg\n",
            "jpg/image_0081.jpg\n",
            "jpg/image_0082.jpg\n",
            "jpg/image_0083.jpg\n",
            "jpg/image_0084.jpg\n",
            "jpg/image_0085.jpg\n",
            "jpg/image_0086.jpg\n",
            "jpg/image_0087.jpg\n",
            "jpg/image_0088.jpg\n",
            "jpg/image_0089.jpg\n",
            "jpg/image_0090.jpg\n",
            "jpg/image_0091.jpg\n",
            "jpg/image_0092.jpg\n",
            "jpg/image_0093.jpg\n",
            "jpg/image_0094.jpg\n",
            "jpg/image_0095.jpg\n",
            "jpg/image_0096.jpg\n",
            "jpg/image_0097.jpg\n",
            "jpg/image_0098.jpg\n",
            "jpg/image_0099.jpg\n",
            "jpg/image_0100.jpg\n",
            "jpg/image_0101.jpg\n",
            "jpg/image_0102.jpg\n",
            "jpg/image_0103.jpg\n",
            "jpg/image_0104.jpg\n",
            "jpg/image_0105.jpg\n",
            "jpg/image_0106.jpg\n",
            "jpg/image_0107.jpg\n",
            "jpg/image_0108.jpg\n",
            "jpg/image_0109.jpg\n",
            "jpg/image_0110.jpg\n",
            "jpg/image_0111.jpg\n",
            "jpg/image_0112.jpg\n",
            "jpg/image_0113.jpg\n",
            "jpg/image_0114.jpg\n",
            "jpg/image_0115.jpg\n",
            "jpg/image_0116.jpg\n",
            "jpg/image_0117.jpg\n",
            "jpg/image_0118.jpg\n",
            "jpg/image_0119.jpg\n",
            "jpg/image_0120.jpg\n",
            "jpg/image_0121.jpg\n",
            "jpg/image_0122.jpg\n",
            "jpg/image_0123.jpg\n",
            "jpg/image_0124.jpg\n",
            "jpg/image_0125.jpg\n",
            "jpg/image_0126.jpg\n",
            "jpg/image_0127.jpg\n",
            "jpg/image_0128.jpg\n",
            "jpg/image_0129.jpg\n",
            "jpg/image_0130.jpg\n",
            "jpg/image_0131.jpg\n",
            "jpg/image_0132.jpg\n",
            "jpg/image_0133.jpg\n",
            "jpg/image_0134.jpg\n",
            "jpg/image_0135.jpg\n",
            "jpg/image_0136.jpg\n",
            "jpg/image_0137.jpg\n",
            "jpg/image_0138.jpg\n",
            "jpg/image_0139.jpg\n",
            "jpg/image_0140.jpg\n",
            "jpg/image_0141.jpg\n",
            "jpg/image_0142.jpg\n",
            "jpg/image_0143.jpg\n",
            "jpg/image_0144.jpg\n",
            "jpg/image_0145.jpg\n",
            "jpg/image_0146.jpg\n",
            "jpg/image_0147.jpg\n",
            "jpg/image_0148.jpg\n",
            "jpg/image_0149.jpg\n",
            "jpg/image_0150.jpg\n",
            "jpg/image_0151.jpg\n",
            "jpg/image_0152.jpg\n",
            "jpg/image_0153.jpg\n",
            "jpg/image_0154.jpg\n",
            "jpg/image_0155.jpg\n",
            "jpg/image_0156.jpg\n",
            "jpg/image_0157.jpg\n",
            "jpg/image_0158.jpg\n",
            "jpg/image_0159.jpg\n",
            "jpg/image_0160.jpg\n",
            "jpg/image_0161.jpg\n",
            "jpg/image_0162.jpg\n",
            "jpg/image_0163.jpg\n",
            "jpg/image_0164.jpg\n",
            "jpg/image_0165.jpg\n",
            "jpg/image_0166.jpg\n",
            "jpg/image_0167.jpg\n",
            "jpg/image_0168.jpg\n",
            "jpg/image_0169.jpg\n",
            "jpg/image_0170.jpg\n",
            "jpg/image_0171.jpg\n",
            "jpg/image_0172.jpg\n",
            "jpg/image_0173.jpg\n",
            "jpg/image_0174.jpg\n",
            "jpg/image_0175.jpg\n",
            "jpg/image_0176.jpg\n",
            "jpg/image_0177.jpg\n",
            "jpg/image_0178.jpg\n",
            "jpg/image_0179.jpg\n",
            "jpg/image_0180.jpg\n",
            "jpg/image_0181.jpg\n",
            "jpg/image_0182.jpg\n",
            "jpg/image_0183.jpg\n",
            "jpg/image_0184.jpg\n",
            "jpg/image_0185.jpg\n",
            "jpg/image_0186.jpg\n",
            "jpg/image_0187.jpg\n",
            "jpg/image_0188.jpg\n",
            "jpg/image_0189.jpg\n",
            "jpg/image_0190.jpg\n",
            "jpg/image_0191.jpg\n",
            "jpg/image_0192.jpg\n",
            "jpg/image_0193.jpg\n",
            "jpg/image_0194.jpg\n",
            "jpg/image_0195.jpg\n",
            "jpg/image_0196.jpg\n",
            "jpg/image_0197.jpg\n",
            "jpg/image_0198.jpg\n",
            "jpg/image_0199.jpg\n",
            "jpg/image_0200.jpg\n",
            "jpg/image_0201.jpg\n",
            "jpg/image_0202.jpg\n",
            "jpg/image_0203.jpg\n",
            "jpg/image_0204.jpg\n",
            "jpg/image_0205.jpg\n",
            "jpg/image_0206.jpg\n",
            "jpg/image_0207.jpg\n",
            "jpg/image_0208.jpg\n",
            "jpg/image_0209.jpg\n",
            "jpg/image_0210.jpg\n",
            "jpg/image_0211.jpg\n",
            "jpg/image_0212.jpg\n",
            "jpg/image_0213.jpg\n",
            "jpg/image_0214.jpg\n",
            "jpg/image_0215.jpg\n",
            "jpg/image_0216.jpg\n",
            "jpg/image_0217.jpg\n",
            "jpg/image_0218.jpg\n",
            "jpg/image_0219.jpg\n",
            "jpg/image_0220.jpg\n",
            "jpg/image_0221.jpg\n",
            "jpg/image_0222.jpg\n",
            "jpg/image_0223.jpg\n",
            "jpg/image_0224.jpg\n",
            "jpg/image_0225.jpg\n",
            "jpg/image_0226.jpg\n",
            "jpg/image_0227.jpg\n",
            "jpg/image_0228.jpg\n",
            "jpg/image_0229.jpg\n",
            "jpg/image_0230.jpg\n",
            "jpg/image_0231.jpg\n",
            "jpg/image_0232.jpg\n",
            "jpg/image_0233.jpg\n",
            "jpg/image_0234.jpg\n",
            "jpg/image_0235.jpg\n",
            "jpg/image_0236.jpg\n",
            "jpg/image_0237.jpg\n",
            "jpg/image_0238.jpg\n",
            "jpg/image_0239.jpg\n",
            "jpg/image_0240.jpg\n",
            "jpg/image_0241.jpg\n",
            "jpg/image_0242.jpg\n",
            "jpg/image_0243.jpg\n",
            "jpg/image_0244.jpg\n",
            "jpg/image_0245.jpg\n",
            "jpg/image_0246.jpg\n",
            "jpg/image_0247.jpg\n",
            "jpg/image_0248.jpg\n",
            "jpg/image_0249.jpg\n",
            "jpg/image_0250.jpg\n",
            "jpg/image_0251.jpg\n",
            "jpg/image_0252.jpg\n",
            "jpg/image_0253.jpg\n",
            "jpg/image_0254.jpg\n",
            "jpg/image_0255.jpg\n",
            "jpg/image_0256.jpg\n",
            "jpg/image_0257.jpg\n",
            "jpg/image_0258.jpg\n",
            "jpg/image_0259.jpg\n",
            "jpg/image_0260.jpg\n",
            "jpg/image_0261.jpg\n",
            "jpg/image_0262.jpg\n",
            "jpg/image_0263.jpg\n",
            "jpg/image_0264.jpg\n",
            "jpg/image_0265.jpg\n",
            "jpg/image_0266.jpg\n",
            "jpg/image_0267.jpg\n",
            "jpg/image_0268.jpg\n",
            "jpg/image_0269.jpg\n",
            "jpg/image_0270.jpg\n",
            "jpg/image_0271.jpg\n",
            "jpg/image_0272.jpg\n",
            "jpg/image_0273.jpg\n",
            "jpg/image_0274.jpg\n",
            "jpg/image_0275.jpg\n",
            "jpg/image_0276.jpg\n",
            "jpg/image_0277.jpg\n",
            "jpg/image_0278.jpg\n",
            "jpg/image_0279.jpg\n",
            "jpg/image_0280.jpg\n",
            "jpg/image_0281.jpg\n",
            "jpg/image_0282.jpg\n",
            "jpg/image_0283.jpg\n",
            "jpg/image_0284.jpg\n",
            "jpg/image_0285.jpg\n",
            "jpg/image_0286.jpg\n",
            "jpg/image_0287.jpg\n",
            "jpg/image_0288.jpg\n",
            "jpg/image_0289.jpg\n",
            "jpg/image_0290.jpg\n",
            "jpg/image_0291.jpg\n",
            "jpg/image_0292.jpg\n",
            "jpg/image_0293.jpg\n",
            "jpg/image_0294.jpg\n",
            "jpg/image_0295.jpg\n",
            "jpg/image_0296.jpg\n",
            "jpg/image_0297.jpg\n",
            "jpg/image_0298.jpg\n",
            "jpg/image_0299.jpg\n",
            "jpg/image_0300.jpg\n",
            "jpg/image_0301.jpg\n",
            "jpg/image_0302.jpg\n",
            "jpg/image_0303.jpg\n",
            "jpg/image_0304.jpg\n",
            "jpg/image_0305.jpg\n",
            "jpg/image_0306.jpg\n",
            "jpg/image_0307.jpg\n",
            "jpg/image_0308.jpg\n",
            "jpg/image_0309.jpg\n",
            "jpg/image_0310.jpg\n",
            "jpg/image_0311.jpg\n",
            "jpg/image_0312.jpg\n",
            "jpg/image_0313.jpg\n",
            "jpg/image_0314.jpg\n",
            "jpg/image_0315.jpg\n",
            "jpg/image_0316.jpg\n",
            "jpg/image_0317.jpg\n",
            "jpg/image_0318.jpg\n",
            "jpg/image_0319.jpg\n",
            "jpg/image_0320.jpg\n",
            "jpg/image_0321.jpg\n",
            "jpg/image_0322.jpg\n",
            "jpg/image_0323.jpg\n",
            "jpg/image_0324.jpg\n",
            "jpg/image_0325.jpg\n",
            "jpg/image_0326.jpg\n",
            "jpg/image_0327.jpg\n",
            "jpg/image_0328.jpg\n",
            "jpg/image_0329.jpg\n",
            "jpg/image_0330.jpg\n",
            "jpg/image_0331.jpg\n",
            "jpg/image_0332.jpg\n",
            "jpg/image_0333.jpg\n",
            "jpg/image_0334.jpg\n",
            "jpg/image_0335.jpg\n",
            "jpg/image_0336.jpg\n",
            "jpg/image_0337.jpg\n",
            "jpg/image_0338.jpg\n",
            "jpg/image_0339.jpg\n",
            "jpg/image_0340.jpg\n",
            "jpg/image_0341.jpg\n",
            "jpg/image_0342.jpg\n",
            "jpg/image_0343.jpg\n",
            "jpg/image_0344.jpg\n",
            "jpg/image_0345.jpg\n",
            "jpg/image_0346.jpg\n",
            "jpg/image_0347.jpg\n",
            "jpg/image_0348.jpg\n",
            "jpg/image_0349.jpg\n",
            "jpg/image_0350.jpg\n",
            "jpg/image_0351.jpg\n",
            "jpg/image_0352.jpg\n",
            "jpg/image_0353.jpg\n",
            "jpg/image_0354.jpg\n",
            "jpg/image_0355.jpg\n",
            "jpg/image_0356.jpg\n",
            "jpg/image_0357.jpg\n",
            "jpg/image_0358.jpg\n",
            "jpg/image_0359.jpg\n",
            "jpg/image_0360.jpg\n",
            "jpg/image_0361.jpg\n",
            "jpg/image_0362.jpg\n",
            "jpg/image_0363.jpg\n",
            "jpg/image_0364.jpg\n",
            "jpg/image_0365.jpg\n",
            "jpg/image_0366.jpg\n",
            "jpg/image_0367.jpg\n",
            "jpg/image_0368.jpg\n",
            "jpg/image_0369.jpg\n",
            "jpg/image_0370.jpg\n",
            "jpg/image_0371.jpg\n",
            "jpg/image_0372.jpg\n",
            "jpg/image_0373.jpg\n",
            "jpg/image_0374.jpg\n",
            "jpg/image_0375.jpg\n",
            "jpg/image_0376.jpg\n",
            "jpg/image_0377.jpg\n",
            "jpg/image_0378.jpg\n",
            "jpg/image_0379.jpg\n",
            "jpg/image_0380.jpg\n",
            "jpg/image_0381.jpg\n",
            "jpg/image_0382.jpg\n",
            "jpg/image_0383.jpg\n",
            "jpg/image_0384.jpg\n",
            "jpg/image_0385.jpg\n",
            "jpg/image_0386.jpg\n",
            "jpg/image_0387.jpg\n",
            "jpg/image_0388.jpg\n",
            "jpg/image_0389.jpg\n",
            "jpg/image_0390.jpg\n",
            "jpg/image_0391.jpg\n",
            "jpg/image_0392.jpg\n",
            "jpg/image_0393.jpg\n",
            "jpg/image_0394.jpg\n",
            "jpg/image_0395.jpg\n",
            "jpg/image_0396.jpg\n",
            "jpg/image_0397.jpg\n",
            "jpg/image_0398.jpg\n",
            "jpg/image_0399.jpg\n",
            "jpg/image_0400.jpg\n",
            "jpg/image_0401.jpg\n",
            "jpg/image_0402.jpg\n",
            "jpg/image_0403.jpg\n",
            "jpg/image_0404.jpg\n",
            "jpg/image_0405.jpg\n",
            "jpg/image_0406.jpg\n",
            "jpg/image_0407.jpg\n",
            "jpg/image_0408.jpg\n",
            "jpg/image_0409.jpg\n",
            "jpg/image_0410.jpg\n",
            "jpg/image_0411.jpg\n",
            "jpg/image_0412.jpg\n",
            "jpg/image_0413.jpg\n",
            "jpg/image_0414.jpg\n",
            "jpg/image_0415.jpg\n",
            "jpg/image_0416.jpg\n",
            "jpg/image_0417.jpg\n",
            "jpg/image_0418.jpg\n",
            "jpg/image_0419.jpg\n",
            "jpg/image_0420.jpg\n",
            "jpg/image_0421.jpg\n",
            "jpg/image_0422.jpg\n",
            "jpg/image_0423.jpg\n",
            "jpg/image_0424.jpg\n",
            "jpg/image_0425.jpg\n",
            "jpg/image_0426.jpg\n",
            "jpg/image_0427.jpg\n",
            "jpg/image_0428.jpg\n",
            "jpg/image_0429.jpg\n",
            "jpg/image_0430.jpg\n",
            "jpg/image_0431.jpg\n",
            "jpg/image_0432.jpg\n",
            "jpg/image_0433.jpg\n",
            "jpg/image_0434.jpg\n",
            "jpg/image_0435.jpg\n",
            "jpg/image_0436.jpg\n",
            "jpg/image_0437.jpg\n",
            "jpg/image_0438.jpg\n",
            "jpg/image_0439.jpg\n",
            "jpg/image_0440.jpg\n",
            "jpg/image_0441.jpg\n",
            "jpg/image_0442.jpg\n",
            "jpg/image_0443.jpg\n",
            "jpg/image_0444.jpg\n",
            "jpg/image_0445.jpg\n",
            "jpg/image_0446.jpg\n",
            "jpg/image_0447.jpg\n",
            "jpg/image_0448.jpg\n",
            "jpg/image_0449.jpg\n",
            "jpg/image_0450.jpg\n",
            "jpg/image_0451.jpg\n",
            "jpg/image_0452.jpg\n",
            "jpg/image_0453.jpg\n",
            "jpg/image_0454.jpg\n",
            "jpg/image_0455.jpg\n",
            "jpg/image_0456.jpg\n",
            "jpg/image_0457.jpg\n",
            "jpg/image_0458.jpg\n",
            "jpg/image_0459.jpg\n",
            "jpg/image_0460.jpg\n",
            "jpg/image_0461.jpg\n",
            "jpg/image_0462.jpg\n",
            "jpg/image_0463.jpg\n",
            "jpg/image_0464.jpg\n",
            "jpg/image_0465.jpg\n",
            "jpg/image_0466.jpg\n",
            "jpg/image_0467.jpg\n",
            "jpg/image_0468.jpg\n",
            "jpg/image_0469.jpg\n",
            "jpg/image_0470.jpg\n",
            "jpg/image_0471.jpg\n",
            "jpg/image_0472.jpg\n",
            "jpg/image_0473.jpg\n",
            "jpg/image_0474.jpg\n",
            "jpg/image_0475.jpg\n",
            "jpg/image_0476.jpg\n",
            "jpg/image_0477.jpg\n",
            "jpg/image_0478.jpg\n",
            "jpg/image_0479.jpg\n",
            "jpg/image_0480.jpg\n",
            "jpg/image_0481.jpg\n",
            "jpg/image_0482.jpg\n",
            "jpg/image_0483.jpg\n",
            "jpg/image_0484.jpg\n",
            "jpg/image_0485.jpg\n",
            "jpg/image_0486.jpg\n",
            "jpg/image_0487.jpg\n",
            "jpg/image_0488.jpg\n",
            "jpg/image_0489.jpg\n",
            "jpg/image_0490.jpg\n",
            "jpg/image_0491.jpg\n",
            "jpg/image_0492.jpg\n",
            "jpg/image_0493.jpg\n",
            "jpg/image_0494.jpg\n",
            "jpg/image_0495.jpg\n",
            "jpg/image_0496.jpg\n",
            "jpg/image_0497.jpg\n",
            "jpg/image_0498.jpg\n",
            "jpg/image_0499.jpg\n",
            "jpg/image_0500.jpg\n",
            "jpg/image_0501.jpg\n",
            "jpg/image_0502.jpg\n",
            "jpg/image_0503.jpg\n",
            "jpg/image_0504.jpg\n",
            "jpg/image_0505.jpg\n",
            "jpg/image_0506.jpg\n",
            "jpg/image_0507.jpg\n",
            "jpg/image_0508.jpg\n",
            "jpg/image_0509.jpg\n",
            "jpg/image_0510.jpg\n",
            "jpg/image_0511.jpg\n",
            "jpg/image_0512.jpg\n",
            "jpg/image_0513.jpg\n",
            "jpg/image_0514.jpg\n",
            "jpg/image_0515.jpg\n",
            "jpg/image_0516.jpg\n",
            "jpg/image_0517.jpg\n",
            "jpg/image_0518.jpg\n",
            "jpg/image_0519.jpg\n",
            "jpg/image_0520.jpg\n",
            "jpg/image_0521.jpg\n",
            "jpg/image_0522.jpg\n",
            "jpg/image_0523.jpg\n",
            "jpg/image_0524.jpg\n",
            "jpg/image_0525.jpg\n",
            "jpg/image_0526.jpg\n",
            "jpg/image_0527.jpg\n",
            "jpg/image_0528.jpg\n",
            "jpg/image_0529.jpg\n",
            "jpg/image_0530.jpg\n",
            "jpg/image_0531.jpg\n",
            "jpg/image_0532.jpg\n",
            "jpg/image_0533.jpg\n",
            "jpg/image_0534.jpg\n",
            "jpg/image_0535.jpg\n",
            "jpg/image_0536.jpg\n",
            "jpg/image_0537.jpg\n",
            "jpg/image_0538.jpg\n",
            "jpg/image_0539.jpg\n",
            "jpg/image_0540.jpg\n",
            "jpg/image_0541.jpg\n",
            "jpg/image_0542.jpg\n",
            "jpg/image_0543.jpg\n",
            "jpg/image_0544.jpg\n",
            "jpg/image_0545.jpg\n",
            "jpg/image_0546.jpg\n",
            "jpg/image_0547.jpg\n",
            "jpg/image_0548.jpg\n",
            "jpg/image_0549.jpg\n",
            "jpg/image_0550.jpg\n",
            "jpg/image_0551.jpg\n",
            "jpg/image_0552.jpg\n",
            "jpg/image_0553.jpg\n",
            "jpg/image_0554.jpg\n",
            "jpg/image_0555.jpg\n",
            "jpg/image_0556.jpg\n",
            "jpg/image_0557.jpg\n",
            "jpg/image_0558.jpg\n",
            "jpg/image_0559.jpg\n",
            "jpg/image_0560.jpg\n",
            "jpg/image_0561.jpg\n",
            "jpg/image_0562.jpg\n",
            "jpg/image_0563.jpg\n",
            "jpg/image_0564.jpg\n",
            "jpg/image_0565.jpg\n",
            "jpg/image_0566.jpg\n",
            "jpg/image_0567.jpg\n",
            "jpg/image_0568.jpg\n",
            "jpg/image_0569.jpg\n",
            "jpg/image_0570.jpg\n",
            "jpg/image_0571.jpg\n",
            "jpg/image_0572.jpg\n",
            "jpg/image_0573.jpg\n",
            "jpg/image_0574.jpg\n",
            "jpg/image_0575.jpg\n",
            "jpg/image_0576.jpg\n",
            "jpg/image_0577.jpg\n",
            "jpg/image_0578.jpg\n",
            "jpg/image_0579.jpg\n",
            "jpg/image_0580.jpg\n",
            "jpg/image_0581.jpg\n",
            "jpg/image_0582.jpg\n",
            "jpg/image_0583.jpg\n",
            "jpg/image_0584.jpg\n",
            "jpg/image_0585.jpg\n",
            "jpg/image_0586.jpg\n",
            "jpg/image_0587.jpg\n",
            "jpg/image_0588.jpg\n",
            "jpg/image_0589.jpg\n",
            "jpg/image_0590.jpg\n",
            "jpg/image_0591.jpg\n",
            "jpg/image_0592.jpg\n",
            "jpg/image_0593.jpg\n",
            "jpg/image_0594.jpg\n",
            "jpg/image_0595.jpg\n",
            "jpg/image_0596.jpg\n",
            "jpg/image_0597.jpg\n",
            "jpg/image_0598.jpg\n",
            "jpg/image_0599.jpg\n",
            "jpg/image_0600.jpg\n",
            "jpg/image_0601.jpg\n",
            "jpg/image_0602.jpg\n",
            "jpg/image_0603.jpg\n",
            "jpg/image_0604.jpg\n",
            "jpg/image_0605.jpg\n",
            "jpg/image_0606.jpg\n",
            "jpg/image_0607.jpg\n",
            "jpg/image_0608.jpg\n",
            "jpg/image_0609.jpg\n",
            "jpg/image_0610.jpg\n",
            "jpg/image_0611.jpg\n",
            "jpg/image_0612.jpg\n",
            "jpg/image_0613.jpg\n",
            "jpg/image_0614.jpg\n",
            "jpg/image_0615.jpg\n",
            "jpg/image_0616.jpg\n",
            "jpg/image_0617.jpg\n",
            "jpg/image_0618.jpg\n",
            "jpg/image_0619.jpg\n",
            "jpg/image_0620.jpg\n",
            "jpg/image_0621.jpg\n",
            "jpg/image_0622.jpg\n",
            "jpg/image_0623.jpg\n",
            "jpg/image_0624.jpg\n",
            "jpg/image_0625.jpg\n",
            "jpg/image_0626.jpg\n",
            "jpg/image_0627.jpg\n",
            "jpg/image_0628.jpg\n",
            "jpg/image_0629.jpg\n",
            "jpg/image_0630.jpg\n",
            "jpg/image_0631.jpg\n",
            "jpg/image_0632.jpg\n",
            "jpg/image_0633.jpg\n",
            "jpg/image_0634.jpg\n",
            "jpg/image_0635.jpg\n",
            "jpg/image_0636.jpg\n",
            "jpg/image_0637.jpg\n",
            "jpg/image_0638.jpg\n",
            "jpg/image_0639.jpg\n",
            "jpg/image_0640.jpg\n",
            "jpg/image_0641.jpg\n",
            "jpg/image_0642.jpg\n",
            "jpg/image_0643.jpg\n",
            "jpg/image_0644.jpg\n",
            "jpg/image_0645.jpg\n",
            "jpg/image_0646.jpg\n",
            "jpg/image_0647.jpg\n",
            "jpg/image_0648.jpg\n",
            "jpg/image_0649.jpg\n",
            "jpg/image_0650.jpg\n",
            "jpg/image_0651.jpg\n",
            "jpg/image_0652.jpg\n",
            "jpg/image_0653.jpg\n",
            "jpg/image_0654.jpg\n",
            "jpg/image_0655.jpg\n",
            "jpg/image_0656.jpg\n",
            "jpg/image_0657.jpg\n",
            "jpg/image_0658.jpg\n",
            "jpg/image_0659.jpg\n",
            "jpg/image_0660.jpg\n",
            "jpg/image_0661.jpg\n",
            "jpg/image_0662.jpg\n",
            "jpg/image_0663.jpg\n",
            "jpg/image_0664.jpg\n",
            "jpg/image_0665.jpg\n",
            "jpg/image_0666.jpg\n",
            "jpg/image_0667.jpg\n",
            "jpg/image_0668.jpg\n",
            "jpg/image_0669.jpg\n",
            "jpg/image_0670.jpg\n",
            "jpg/image_0671.jpg\n",
            "jpg/image_0672.jpg\n",
            "jpg/image_0673.jpg\n",
            "jpg/image_0674.jpg\n",
            "jpg/image_0675.jpg\n",
            "jpg/image_0676.jpg\n",
            "jpg/image_0677.jpg\n",
            "jpg/image_0678.jpg\n",
            "jpg/image_0679.jpg\n",
            "jpg/image_0680.jpg\n",
            "jpg/image_0681.jpg\n",
            "jpg/image_0682.jpg\n",
            "jpg/image_0683.jpg\n",
            "jpg/image_0684.jpg\n",
            "jpg/image_0685.jpg\n",
            "jpg/image_0686.jpg\n",
            "jpg/image_0687.jpg\n",
            "jpg/image_0688.jpg\n",
            "jpg/image_0689.jpg\n",
            "jpg/image_0690.jpg\n",
            "jpg/image_0691.jpg\n",
            "jpg/image_0692.jpg\n",
            "jpg/image_0693.jpg\n",
            "jpg/image_0694.jpg\n",
            "jpg/image_0695.jpg\n",
            "jpg/image_0696.jpg\n",
            "jpg/image_0697.jpg\n",
            "jpg/image_0698.jpg\n",
            "jpg/image_0699.jpg\n",
            "jpg/image_0700.jpg\n",
            "jpg/image_0701.jpg\n",
            "jpg/image_0702.jpg\n",
            "jpg/image_0703.jpg\n",
            "jpg/image_0704.jpg\n",
            "jpg/image_0705.jpg\n",
            "jpg/image_0706.jpg\n",
            "jpg/image_0707.jpg\n",
            "jpg/image_0708.jpg\n",
            "jpg/image_0709.jpg\n",
            "jpg/image_0710.jpg\n",
            "jpg/image_0711.jpg\n",
            "jpg/image_0712.jpg\n",
            "jpg/image_0713.jpg\n",
            "jpg/image_0714.jpg\n",
            "jpg/image_0715.jpg\n",
            "jpg/image_0716.jpg\n",
            "jpg/image_0717.jpg\n",
            "jpg/image_0718.jpg\n",
            "jpg/image_0719.jpg\n",
            "jpg/image_0720.jpg\n",
            "jpg/image_0721.jpg\n",
            "jpg/image_0722.jpg\n",
            "jpg/image_0723.jpg\n",
            "jpg/image_0724.jpg\n",
            "jpg/image_0725.jpg\n",
            "jpg/image_0726.jpg\n",
            "jpg/image_0727.jpg\n",
            "jpg/image_0728.jpg\n",
            "jpg/image_0729.jpg\n",
            "jpg/image_0730.jpg\n",
            "jpg/image_0731.jpg\n",
            "jpg/image_0732.jpg\n",
            "jpg/image_0733.jpg\n",
            "jpg/image_0734.jpg\n",
            "jpg/image_0735.jpg\n",
            "jpg/image_0736.jpg\n",
            "jpg/image_0737.jpg\n",
            "jpg/image_0738.jpg\n",
            "jpg/image_0739.jpg\n",
            "jpg/image_0740.jpg\n",
            "jpg/image_0741.jpg\n",
            "jpg/image_0742.jpg\n",
            "jpg/image_0743.jpg\n",
            "jpg/image_0744.jpg\n",
            "jpg/image_0745.jpg\n",
            "jpg/image_0746.jpg\n",
            "jpg/image_0747.jpg\n",
            "jpg/image_0748.jpg\n",
            "jpg/image_0749.jpg\n",
            "jpg/image_0750.jpg\n",
            "jpg/image_0751.jpg\n",
            "jpg/image_0752.jpg\n",
            "jpg/image_0753.jpg\n",
            "jpg/image_0754.jpg\n",
            "jpg/image_0755.jpg\n",
            "jpg/image_0756.jpg\n",
            "jpg/image_0757.jpg\n",
            "jpg/image_0758.jpg\n",
            "jpg/image_0759.jpg\n",
            "jpg/image_0760.jpg\n",
            "jpg/image_0761.jpg\n",
            "jpg/image_0762.jpg\n",
            "jpg/image_0763.jpg\n",
            "jpg/image_0764.jpg\n",
            "jpg/image_0765.jpg\n",
            "jpg/image_0766.jpg\n",
            "jpg/image_0767.jpg\n",
            "jpg/image_0768.jpg\n",
            "jpg/image_0769.jpg\n",
            "jpg/image_0770.jpg\n",
            "jpg/image_0771.jpg\n",
            "jpg/image_0772.jpg\n",
            "jpg/image_0773.jpg\n",
            "jpg/image_0774.jpg\n",
            "jpg/image_0775.jpg\n",
            "jpg/image_0776.jpg\n",
            "jpg/image_0777.jpg\n",
            "jpg/image_0778.jpg\n",
            "jpg/image_0779.jpg\n",
            "jpg/image_0780.jpg\n",
            "jpg/image_0781.jpg\n",
            "jpg/image_0782.jpg\n",
            "jpg/image_0783.jpg\n",
            "jpg/image_0784.jpg\n",
            "jpg/image_0785.jpg\n",
            "jpg/image_0786.jpg\n",
            "jpg/image_0787.jpg\n",
            "jpg/image_0788.jpg\n",
            "jpg/image_0789.jpg\n",
            "jpg/image_0790.jpg\n",
            "jpg/image_0791.jpg\n",
            "jpg/image_0792.jpg\n",
            "jpg/image_0793.jpg\n",
            "jpg/image_0794.jpg\n",
            "jpg/image_0795.jpg\n",
            "jpg/image_0796.jpg\n",
            "jpg/image_0797.jpg\n",
            "jpg/image_0798.jpg\n",
            "jpg/image_0799.jpg\n",
            "jpg/image_0800.jpg\n",
            "jpg/image_0801.jpg\n",
            "jpg/image_0802.jpg\n",
            "jpg/image_0803.jpg\n",
            "jpg/image_0804.jpg\n",
            "jpg/image_0805.jpg\n",
            "jpg/image_0806.jpg\n",
            "jpg/image_0807.jpg\n",
            "jpg/image_0808.jpg\n",
            "jpg/image_0809.jpg\n",
            "jpg/image_0810.jpg\n",
            "jpg/image_0811.jpg\n",
            "jpg/image_0812.jpg\n",
            "jpg/image_0813.jpg\n",
            "jpg/image_0814.jpg\n",
            "jpg/image_0815.jpg\n",
            "jpg/image_0816.jpg\n",
            "jpg/image_0817.jpg\n",
            "jpg/image_0818.jpg\n",
            "jpg/image_0819.jpg\n",
            "jpg/image_0820.jpg\n",
            "jpg/image_0821.jpg\n",
            "jpg/image_0822.jpg\n",
            "jpg/image_0823.jpg\n",
            "jpg/image_0824.jpg\n",
            "jpg/image_0825.jpg\n",
            "jpg/image_0826.jpg\n",
            "jpg/image_0827.jpg\n",
            "jpg/image_0828.jpg\n",
            "jpg/image_0829.jpg\n",
            "jpg/image_0830.jpg\n",
            "jpg/image_0831.jpg\n",
            "jpg/image_0832.jpg\n",
            "jpg/image_0833.jpg\n",
            "jpg/image_0834.jpg\n",
            "jpg/image_0835.jpg\n",
            "jpg/image_0836.jpg\n",
            "jpg/image_0837.jpg\n",
            "jpg/image_0838.jpg\n",
            "jpg/image_0839.jpg\n",
            "jpg/image_0840.jpg\n",
            "jpg/image_0841.jpg\n",
            "jpg/image_0842.jpg\n",
            "jpg/image_0843.jpg\n",
            "jpg/image_0844.jpg\n",
            "jpg/image_0845.jpg\n",
            "jpg/image_0846.jpg\n",
            "jpg/image_0847.jpg\n",
            "jpg/image_0848.jpg\n",
            "jpg/image_0849.jpg\n",
            "jpg/image_0850.jpg\n",
            "jpg/image_0851.jpg\n",
            "jpg/image_0852.jpg\n",
            "jpg/image_0853.jpg\n",
            "jpg/image_0854.jpg\n",
            "jpg/image_0855.jpg\n",
            "jpg/image_0856.jpg\n",
            "jpg/image_0857.jpg\n",
            "jpg/image_0858.jpg\n",
            "jpg/image_0859.jpg\n",
            "jpg/image_0860.jpg\n",
            "jpg/image_0861.jpg\n",
            "jpg/image_0862.jpg\n",
            "jpg/image_0863.jpg\n",
            "jpg/image_0864.jpg\n",
            "jpg/image_0865.jpg\n",
            "jpg/image_0866.jpg\n",
            "jpg/image_0867.jpg\n",
            "jpg/image_0868.jpg\n",
            "jpg/image_0869.jpg\n",
            "jpg/image_0870.jpg\n",
            "jpg/image_0871.jpg\n",
            "jpg/image_0872.jpg\n",
            "jpg/image_0873.jpg\n",
            "jpg/image_0874.jpg\n",
            "jpg/image_0875.jpg\n",
            "jpg/image_0876.jpg\n",
            "jpg/image_0877.jpg\n",
            "jpg/image_0878.jpg\n",
            "jpg/image_0879.jpg\n",
            "jpg/image_0880.jpg\n",
            "jpg/image_0881.jpg\n",
            "jpg/image_0882.jpg\n",
            "jpg/image_0883.jpg\n",
            "jpg/image_0884.jpg\n",
            "jpg/image_0885.jpg\n",
            "jpg/image_0886.jpg\n",
            "jpg/image_0887.jpg\n",
            "jpg/image_0888.jpg\n",
            "jpg/image_0889.jpg\n",
            "jpg/image_0890.jpg\n",
            "jpg/image_0891.jpg\n",
            "jpg/image_0892.jpg\n",
            "jpg/image_0893.jpg\n",
            "jpg/image_0894.jpg\n",
            "jpg/image_0895.jpg\n",
            "jpg/image_0896.jpg\n",
            "jpg/image_0897.jpg\n",
            "jpg/image_0898.jpg\n",
            "jpg/image_0899.jpg\n",
            "jpg/image_0900.jpg\n",
            "jpg/image_0901.jpg\n",
            "jpg/image_0902.jpg\n",
            "jpg/image_0903.jpg\n",
            "jpg/image_0904.jpg\n",
            "jpg/image_0905.jpg\n",
            "jpg/image_0906.jpg\n",
            "jpg/image_0907.jpg\n",
            "jpg/image_0908.jpg\n",
            "jpg/image_0909.jpg\n",
            "jpg/image_0910.jpg\n",
            "jpg/image_0911.jpg\n",
            "jpg/image_0912.jpg\n",
            "jpg/image_0913.jpg\n",
            "jpg/image_0914.jpg\n",
            "jpg/image_0915.jpg\n",
            "jpg/image_0916.jpg\n",
            "jpg/image_0917.jpg\n",
            "jpg/image_0918.jpg\n",
            "jpg/image_0919.jpg\n",
            "jpg/image_0920.jpg\n",
            "jpg/image_0921.jpg\n",
            "jpg/image_0922.jpg\n",
            "jpg/image_0923.jpg\n",
            "jpg/image_0924.jpg\n",
            "jpg/image_0925.jpg\n",
            "jpg/image_0926.jpg\n",
            "jpg/image_0927.jpg\n",
            "jpg/image_0928.jpg\n",
            "jpg/image_0929.jpg\n",
            "jpg/image_0930.jpg\n",
            "jpg/image_0931.jpg\n",
            "jpg/image_0932.jpg\n",
            "jpg/image_0933.jpg\n",
            "jpg/image_0934.jpg\n",
            "jpg/image_0935.jpg\n",
            "jpg/image_0936.jpg\n",
            "jpg/image_0937.jpg\n",
            "jpg/image_0938.jpg\n",
            "jpg/image_0939.jpg\n",
            "jpg/image_0940.jpg\n",
            "jpg/image_0941.jpg\n",
            "jpg/image_0942.jpg\n",
            "jpg/image_0943.jpg\n",
            "jpg/image_0944.jpg\n",
            "jpg/image_0945.jpg\n",
            "jpg/image_0946.jpg\n",
            "jpg/image_0947.jpg\n",
            "jpg/image_0948.jpg\n",
            "jpg/image_0949.jpg\n",
            "jpg/image_0950.jpg\n",
            "jpg/image_0951.jpg\n",
            "jpg/image_0952.jpg\n",
            "jpg/image_0953.jpg\n",
            "jpg/image_0954.jpg\n",
            "jpg/image_0955.jpg\n",
            "jpg/image_0956.jpg\n",
            "jpg/image_0957.jpg\n",
            "jpg/image_0958.jpg\n",
            "jpg/image_0959.jpg\n",
            "jpg/image_0960.jpg\n",
            "jpg/image_0961.jpg\n",
            "jpg/image_0962.jpg\n",
            "jpg/image_0963.jpg\n",
            "jpg/image_0964.jpg\n",
            "jpg/image_0965.jpg\n",
            "jpg/image_0966.jpg\n",
            "jpg/image_0967.jpg\n",
            "jpg/image_0968.jpg\n",
            "jpg/image_0969.jpg\n",
            "jpg/image_0970.jpg\n",
            "jpg/image_0971.jpg\n",
            "jpg/image_0972.jpg\n",
            "jpg/image_0973.jpg\n",
            "jpg/image_0974.jpg\n",
            "jpg/image_0975.jpg\n",
            "jpg/image_0976.jpg\n",
            "jpg/image_0977.jpg\n",
            "jpg/image_0978.jpg\n",
            "jpg/image_0979.jpg\n",
            "jpg/image_0980.jpg\n",
            "jpg/image_0981.jpg\n",
            "jpg/image_0982.jpg\n",
            "jpg/image_0983.jpg\n",
            "jpg/image_0984.jpg\n",
            "jpg/image_0985.jpg\n",
            "jpg/image_0986.jpg\n",
            "jpg/image_0987.jpg\n",
            "jpg/image_0988.jpg\n",
            "jpg/image_0989.jpg\n",
            "jpg/image_0990.jpg\n",
            "jpg/image_0991.jpg\n",
            "jpg/image_0992.jpg\n",
            "jpg/image_0993.jpg\n",
            "jpg/image_0994.jpg\n",
            "jpg/image_0995.jpg\n",
            "jpg/image_0996.jpg\n",
            "jpg/image_0997.jpg\n",
            "jpg/image_0998.jpg\n",
            "jpg/image_0999.jpg\n",
            "jpg/image_1000.jpg\n",
            "jpg/image_1001.jpg\n",
            "jpg/image_1002.jpg\n",
            "jpg/image_1003.jpg\n",
            "jpg/image_1004.jpg\n",
            "jpg/image_1005.jpg\n",
            "jpg/image_1006.jpg\n",
            "jpg/image_1007.jpg\n",
            "jpg/image_1008.jpg\n",
            "jpg/image_1009.jpg\n",
            "jpg/image_1010.jpg\n",
            "jpg/image_1011.jpg\n",
            "jpg/image_1012.jpg\n",
            "jpg/image_1013.jpg\n",
            "jpg/image_1014.jpg\n",
            "jpg/image_1015.jpg\n",
            "jpg/image_1016.jpg\n",
            "jpg/image_1017.jpg\n",
            "jpg/image_1018.jpg\n",
            "jpg/image_1019.jpg\n",
            "jpg/image_1020.jpg\n",
            "jpg/image_1021.jpg\n",
            "jpg/image_1022.jpg\n",
            "jpg/image_1023.jpg\n",
            "jpg/image_1024.jpg\n",
            "jpg/image_1025.jpg\n",
            "jpg/image_1026.jpg\n",
            "jpg/image_1027.jpg\n",
            "jpg/image_1028.jpg\n",
            "jpg/image_1029.jpg\n",
            "jpg/image_1030.jpg\n",
            "jpg/image_1031.jpg\n",
            "jpg/image_1032.jpg\n",
            "jpg/image_1033.jpg\n",
            "jpg/image_1034.jpg\n",
            "jpg/image_1035.jpg\n",
            "jpg/image_1036.jpg\n",
            "jpg/image_1037.jpg\n",
            "jpg/image_1038.jpg\n",
            "jpg/image_1039.jpg\n",
            "jpg/image_1040.jpg\n",
            "jpg/image_1041.jpg\n",
            "jpg/image_1042.jpg\n",
            "jpg/image_1043.jpg\n",
            "jpg/image_1044.jpg\n",
            "jpg/image_1045.jpg\n",
            "jpg/image_1046.jpg\n",
            "jpg/image_1047.jpg\n",
            "jpg/image_1048.jpg\n",
            "jpg/image_1049.jpg\n",
            "jpg/image_1050.jpg\n",
            "jpg/image_1051.jpg\n",
            "jpg/image_1052.jpg\n",
            "jpg/image_1053.jpg\n",
            "jpg/image_1054.jpg\n",
            "jpg/image_1055.jpg\n",
            "jpg/image_1056.jpg\n",
            "jpg/image_1057.jpg\n",
            "jpg/image_1058.jpg\n",
            "jpg/image_1059.jpg\n",
            "jpg/image_1060.jpg\n",
            "jpg/image_1061.jpg\n",
            "jpg/image_1062.jpg\n",
            "jpg/image_1063.jpg\n",
            "jpg/image_1064.jpg\n",
            "jpg/image_1065.jpg\n",
            "jpg/image_1066.jpg\n",
            "jpg/image_1067.jpg\n",
            "jpg/image_1068.jpg\n",
            "jpg/image_1069.jpg\n",
            "jpg/image_1070.jpg\n",
            "jpg/image_1071.jpg\n",
            "jpg/image_1072.jpg\n",
            "jpg/image_1073.jpg\n",
            "jpg/image_1074.jpg\n",
            "jpg/image_1075.jpg\n",
            "jpg/image_1076.jpg\n",
            "jpg/image_1077.jpg\n",
            "jpg/image_1078.jpg\n",
            "jpg/image_1079.jpg\n",
            "jpg/image_1080.jpg\n",
            "jpg/image_1081.jpg\n",
            "jpg/image_1082.jpg\n",
            "jpg/image_1083.jpg\n",
            "jpg/image_1084.jpg\n",
            "jpg/image_1085.jpg\n",
            "jpg/image_1086.jpg\n",
            "jpg/image_1087.jpg\n",
            "jpg/image_1088.jpg\n",
            "jpg/image_1089.jpg\n",
            "jpg/image_1090.jpg\n",
            "jpg/image_1091.jpg\n",
            "jpg/image_1092.jpg\n",
            "jpg/image_1093.jpg\n",
            "jpg/image_1094.jpg\n",
            "jpg/image_1095.jpg\n",
            "jpg/image_1096.jpg\n",
            "jpg/image_1097.jpg\n",
            "jpg/image_1098.jpg\n",
            "jpg/image_1099.jpg\n",
            "jpg/image_1100.jpg\n",
            "jpg/image_1101.jpg\n",
            "jpg/image_1102.jpg\n",
            "jpg/image_1103.jpg\n",
            "jpg/image_1104.jpg\n",
            "jpg/image_1105.jpg\n",
            "jpg/image_1106.jpg\n",
            "jpg/image_1107.jpg\n",
            "jpg/image_1108.jpg\n",
            "jpg/image_1109.jpg\n",
            "jpg/image_1110.jpg\n",
            "jpg/image_1111.jpg\n",
            "jpg/image_1112.jpg\n",
            "jpg/image_1113.jpg\n",
            "jpg/image_1114.jpg\n",
            "jpg/image_1115.jpg\n",
            "jpg/image_1116.jpg\n",
            "jpg/image_1117.jpg\n",
            "jpg/image_1118.jpg\n",
            "jpg/image_1119.jpg\n",
            "jpg/image_1120.jpg\n",
            "jpg/image_1121.jpg\n",
            "jpg/image_1122.jpg\n",
            "jpg/image_1123.jpg\n",
            "jpg/image_1124.jpg\n",
            "jpg/image_1125.jpg\n",
            "jpg/image_1126.jpg\n",
            "jpg/image_1127.jpg\n",
            "jpg/image_1128.jpg\n",
            "jpg/image_1129.jpg\n",
            "jpg/image_1130.jpg\n",
            "jpg/image_1131.jpg\n",
            "jpg/image_1132.jpg\n",
            "jpg/image_1133.jpg\n",
            "jpg/image_1134.jpg\n",
            "jpg/image_1135.jpg\n",
            "jpg/image_1136.jpg\n",
            "jpg/image_1137.jpg\n",
            "jpg/image_1138.jpg\n",
            "jpg/image_1139.jpg\n",
            "jpg/image_1140.jpg\n",
            "jpg/image_1141.jpg\n",
            "jpg/image_1142.jpg\n",
            "jpg/image_1143.jpg\n",
            "jpg/image_1144.jpg\n",
            "jpg/image_1145.jpg\n",
            "jpg/image_1146.jpg\n",
            "jpg/image_1147.jpg\n",
            "jpg/image_1148.jpg\n",
            "jpg/image_1149.jpg\n",
            "jpg/image_1150.jpg\n",
            "jpg/image_1151.jpg\n",
            "jpg/image_1152.jpg\n",
            "jpg/image_1153.jpg\n",
            "jpg/image_1154.jpg\n",
            "jpg/image_1155.jpg\n",
            "jpg/image_1156.jpg\n",
            "jpg/image_1157.jpg\n",
            "jpg/image_1158.jpg\n",
            "jpg/image_1159.jpg\n",
            "jpg/image_1160.jpg\n",
            "jpg/image_1161.jpg\n",
            "jpg/image_1162.jpg\n",
            "jpg/image_1163.jpg\n",
            "jpg/image_1164.jpg\n",
            "jpg/image_1165.jpg\n",
            "jpg/image_1166.jpg\n",
            "jpg/image_1167.jpg\n",
            "jpg/image_1168.jpg\n",
            "jpg/image_1169.jpg\n",
            "jpg/image_1170.jpg\n",
            "jpg/image_1171.jpg\n",
            "jpg/image_1172.jpg\n",
            "jpg/image_1173.jpg\n",
            "jpg/image_1174.jpg\n",
            "jpg/image_1175.jpg\n",
            "jpg/image_1176.jpg\n",
            "jpg/image_1177.jpg\n",
            "jpg/image_1178.jpg\n",
            "jpg/image_1179.jpg\n",
            "jpg/image_1180.jpg\n",
            "jpg/image_1181.jpg\n",
            "jpg/image_1182.jpg\n",
            "jpg/image_1183.jpg\n",
            "jpg/image_1184.jpg\n",
            "jpg/image_1185.jpg\n",
            "jpg/image_1186.jpg\n",
            "jpg/image_1187.jpg\n",
            "jpg/image_1188.jpg\n",
            "jpg/image_1189.jpg\n",
            "jpg/image_1190.jpg\n",
            "jpg/image_1191.jpg\n",
            "jpg/image_1192.jpg\n",
            "jpg/image_1193.jpg\n",
            "jpg/image_1194.jpg\n",
            "jpg/image_1195.jpg\n",
            "jpg/image_1196.jpg\n",
            "jpg/image_1197.jpg\n",
            "jpg/image_1198.jpg\n",
            "jpg/image_1199.jpg\n",
            "jpg/image_1200.jpg\n",
            "jpg/image_1201.jpg\n",
            "jpg/image_1202.jpg\n",
            "jpg/image_1203.jpg\n",
            "jpg/image_1204.jpg\n",
            "jpg/image_1205.jpg\n",
            "jpg/image_1206.jpg\n",
            "jpg/image_1207.jpg\n",
            "jpg/image_1208.jpg\n",
            "jpg/image_1209.jpg\n",
            "jpg/image_1210.jpg\n",
            "jpg/image_1211.jpg\n",
            "jpg/image_1212.jpg\n",
            "jpg/image_1213.jpg\n",
            "jpg/image_1214.jpg\n",
            "jpg/image_1215.jpg\n",
            "jpg/image_1216.jpg\n",
            "jpg/image_1217.jpg\n",
            "jpg/image_1218.jpg\n",
            "jpg/image_1219.jpg\n",
            "jpg/image_1220.jpg\n",
            "jpg/image_1221.jpg\n",
            "jpg/image_1222.jpg\n",
            "jpg/image_1223.jpg\n",
            "jpg/image_1224.jpg\n",
            "jpg/image_1225.jpg\n",
            "jpg/image_1226.jpg\n",
            "jpg/image_1227.jpg\n",
            "jpg/image_1228.jpg\n",
            "jpg/image_1229.jpg\n",
            "jpg/image_1230.jpg\n",
            "jpg/image_1231.jpg\n",
            "jpg/image_1232.jpg\n",
            "jpg/image_1233.jpg\n",
            "jpg/image_1234.jpg\n",
            "jpg/image_1235.jpg\n",
            "jpg/image_1236.jpg\n",
            "jpg/image_1237.jpg\n",
            "jpg/image_1238.jpg\n",
            "jpg/image_1239.jpg\n",
            "jpg/image_1240.jpg\n",
            "jpg/image_1241.jpg\n",
            "jpg/image_1242.jpg\n",
            "jpg/image_1243.jpg\n",
            "jpg/image_1244.jpg\n",
            "jpg/image_1245.jpg\n",
            "jpg/image_1246.jpg\n",
            "jpg/image_1247.jpg\n",
            "jpg/image_1248.jpg\n",
            "jpg/image_1249.jpg\n",
            "jpg/image_1250.jpg\n",
            "jpg/image_1251.jpg\n",
            "jpg/image_1252.jpg\n",
            "jpg/image_1253.jpg\n",
            "jpg/image_1254.jpg\n",
            "jpg/image_1255.jpg\n",
            "jpg/image_1256.jpg\n",
            "jpg/image_1257.jpg\n",
            "jpg/image_1258.jpg\n",
            "jpg/image_1259.jpg\n",
            "jpg/image_1260.jpg\n",
            "jpg/image_1261.jpg\n",
            "jpg/image_1262.jpg\n",
            "jpg/image_1263.jpg\n",
            "jpg/image_1264.jpg\n",
            "jpg/image_1265.jpg\n",
            "jpg/image_1266.jpg\n",
            "jpg/image_1267.jpg\n",
            "jpg/image_1268.jpg\n",
            "jpg/image_1269.jpg\n",
            "jpg/image_1270.jpg\n",
            "jpg/image_1271.jpg\n",
            "jpg/image_1272.jpg\n",
            "jpg/image_1273.jpg\n",
            "jpg/image_1274.jpg\n",
            "jpg/image_1275.jpg\n",
            "jpg/image_1276.jpg\n",
            "jpg/image_1277.jpg\n",
            "jpg/image_1278.jpg\n",
            "jpg/image_1279.jpg\n",
            "jpg/image_1280.jpg\n",
            "jpg/image_1281.jpg\n",
            "jpg/image_1282.jpg\n",
            "jpg/image_1283.jpg\n",
            "jpg/image_1284.jpg\n",
            "jpg/image_1285.jpg\n",
            "jpg/image_1286.jpg\n",
            "jpg/image_1287.jpg\n",
            "jpg/image_1288.jpg\n",
            "jpg/image_1289.jpg\n",
            "jpg/image_1290.jpg\n",
            "jpg/image_1291.jpg\n",
            "jpg/image_1292.jpg\n",
            "jpg/image_1293.jpg\n",
            "jpg/image_1294.jpg\n",
            "jpg/image_1295.jpg\n",
            "jpg/image_1296.jpg\n",
            "jpg/image_1297.jpg\n",
            "jpg/image_1298.jpg\n",
            "jpg/image_1299.jpg\n",
            "jpg/image_1300.jpg\n",
            "jpg/image_1301.jpg\n",
            "jpg/image_1302.jpg\n",
            "jpg/image_1303.jpg\n",
            "jpg/image_1304.jpg\n",
            "jpg/image_1305.jpg\n",
            "jpg/image_1306.jpg\n",
            "jpg/image_1307.jpg\n",
            "jpg/image_1308.jpg\n",
            "jpg/image_1309.jpg\n",
            "jpg/image_1310.jpg\n",
            "jpg/image_1311.jpg\n",
            "jpg/image_1312.jpg\n",
            "jpg/image_1313.jpg\n",
            "jpg/image_1314.jpg\n",
            "jpg/image_1315.jpg\n",
            "jpg/image_1316.jpg\n",
            "jpg/image_1317.jpg\n",
            "jpg/image_1318.jpg\n",
            "jpg/image_1319.jpg\n",
            "jpg/image_1320.jpg\n",
            "jpg/image_1321.jpg\n",
            "jpg/image_1322.jpg\n",
            "jpg/image_1323.jpg\n",
            "jpg/image_1324.jpg\n",
            "jpg/image_1325.jpg\n",
            "jpg/image_1326.jpg\n",
            "jpg/image_1327.jpg\n",
            "jpg/image_1328.jpg\n",
            "jpg/image_1329.jpg\n",
            "jpg/image_1330.jpg\n",
            "jpg/image_1331.jpg\n",
            "jpg/image_1332.jpg\n",
            "jpg/image_1333.jpg\n",
            "jpg/image_1334.jpg\n",
            "jpg/image_1335.jpg\n",
            "jpg/image_1336.jpg\n",
            "jpg/image_1337.jpg\n",
            "jpg/image_1338.jpg\n",
            "jpg/image_1339.jpg\n",
            "jpg/image_1340.jpg\n",
            "jpg/image_1341.jpg\n",
            "jpg/image_1342.jpg\n",
            "jpg/image_1343.jpg\n",
            "jpg/image_1344.jpg\n",
            "jpg/image_1345.jpg\n",
            "jpg/image_1346.jpg\n",
            "jpg/image_1347.jpg\n",
            "jpg/image_1348.jpg\n",
            "jpg/image_1349.jpg\n",
            "jpg/image_1350.jpg\n",
            "jpg/image_1351.jpg\n",
            "jpg/image_1352.jpg\n",
            "jpg/image_1353.jpg\n",
            "jpg/image_1354.jpg\n",
            "jpg/image_1355.jpg\n",
            "jpg/image_1356.jpg\n",
            "jpg/image_1357.jpg\n",
            "jpg/image_1358.jpg\n",
            "jpg/image_1359.jpg\n",
            "jpg/image_1360.jpg\n"
          ],
          "name": "stdout"
        }
      ]
    },
    {
      "cell_type": "code",
      "metadata": {
        "id": "qUZgIL6Xj_ID",
        "colab_type": "code",
        "colab": {
          "base_uri": "https://localhost:8080/",
          "height": 34
        },
        "outputId": "094b4c68-7447-4026-cdc7-eb4619b8c9a1"
      },
      "source": [
        "!ls jpg/ -1 | wc -l"
      ],
      "execution_count": 56,
      "outputs": [
        {
          "output_type": "stream",
          "text": [
            "1362\n"
          ],
          "name": "stdout"
        }
      ]
    },
    {
      "cell_type": "code",
      "metadata": {
        "id": "BAtBwWmakY2x",
        "colab_type": "code",
        "colab": {
          "base_uri": "https://localhost:8080/",
          "height": 52
        },
        "outputId": "c4c89ab1-367a-45d9-f6e8-f380e5d57c17"
      },
      "source": [
        "!find jpg/ -type f ! -name '*.jpg'"
      ],
      "execution_count": 57,
      "outputs": [
        {
          "output_type": "stream",
          "text": [
            "jpg/files.txt~\n",
            "jpg/files.txt\n"
          ],
          "name": "stdout"
        }
      ]
    },
    {
      "cell_type": "code",
      "metadata": {
        "id": "QiFkPBqcwjK2",
        "colab_type": "code",
        "colab": {}
      },
      "source": [
        "!rm jpg/files.txt jpg/files.txt~"
      ],
      "execution_count": 0,
      "outputs": []
    },
    {
      "cell_type": "code",
      "metadata": {
        "id": "6KeME4d5wmwr",
        "colab_type": "code",
        "colab": {}
      },
      "source": [
        "!find jpg/ -type f ! -name '*.jpg'"
      ],
      "execution_count": 0,
      "outputs": []
    },
    {
      "cell_type": "code",
      "metadata": {
        "id": "djCSXEZMwtpM",
        "colab_type": "code",
        "colab": {
          "base_uri": "https://localhost:8080/",
          "height": 34
        },
        "outputId": "550848fa-9c84-46a0-b45c-38d25e340f68"
      },
      "source": [
        "!ls jpg/ -1 | wc -l"
      ],
      "execution_count": 60,
      "outputs": [
        {
          "output_type": "stream",
          "text": [
            "1360\n"
          ],
          "name": "stdout"
        }
      ]
    },
    {
      "cell_type": "code",
      "metadata": {
        "id": "vJnAJAjijSYT",
        "colab_type": "code",
        "colab": {}
      },
      "source": [
        "#Forming data directories:\n",
        "import shutil\n",
        "j = 1\n",
        "total = 1360\n",
        "for i  in range(1, total):\n",
        "    fpath = f\"jpg/image_{str(i).zfill(4)}.jpg\"\n",
        "    destPath = 'flower17_dataset/'+str(j)\n",
        "    if not os.path.exists(destPath):\n",
        "        os.makedirs(destPath)\n",
        "    shutil.copy(fpath, destPath)\n",
        "\n",
        "    if i%80==0:\n",
        "        j+=1"
      ],
      "execution_count": 0,
      "outputs": []
    },
    {
      "cell_type": "code",
      "metadata": {
        "id": "lPxOXN0kqnG7",
        "colab_type": "code",
        "outputId": "4e5bc950-a0c5-41f5-a899-255fcd149cf9",
        "colab": {
          "base_uri": "https://localhost:8080/",
          "height": 34
        }
      },
      "source": [
        "!ls flower17_dataset"
      ],
      "execution_count": 62,
      "outputs": [
        {
          "output_type": "stream",
          "text": [
            "1  10  11  12  13  14  15  16  17  2  3  4  5  6  7  8\t9\n"
          ],
          "name": "stdout"
        }
      ]
    },
    {
      "cell_type": "code",
      "metadata": {
        "id": "_BPYwUYWvXnj",
        "colab_type": "code",
        "colab": {}
      },
      "source": [
        "path = 'flower17_dataset'"
      ],
      "execution_count": 0,
      "outputs": []
    },
    {
      "cell_type": "code",
      "metadata": {
        "id": "PyGorPhasSsU",
        "colab_type": "code",
        "colab": {}
      },
      "source": [
        "IMAGE_SIZE = [200,200]\n",
        "train_images = glob(path + '/*/*.jpg')"
      ],
      "execution_count": 0,
      "outputs": []
    },
    {
      "cell_type": "code",
      "metadata": {
        "id": "A_fO2L3Sstdr",
        "colab_type": "code",
        "colab": {}
      },
      "source": [
        "# Number of classes \n",
        "classes = glob(path + '/*')"
      ],
      "execution_count": 0,
      "outputs": []
    },
    {
      "cell_type": "code",
      "metadata": {
        "id": "1BsbbCb6s1iT",
        "colab_type": "code",
        "outputId": "3117b241-3894-4a4e-e690-411dbe765b7a",
        "colab": {
          "base_uri": "https://localhost:8080/",
          "height": 316
        }
      },
      "source": [
        "classes"
      ],
      "execution_count": 66,
      "outputs": [
        {
          "output_type": "execute_result",
          "data": {
            "text/plain": [
              "['flower17_dataset/8',\n",
              " 'flower17_dataset/15',\n",
              " 'flower17_dataset/2',\n",
              " 'flower17_dataset/1',\n",
              " 'flower17_dataset/9',\n",
              " 'flower17_dataset/3',\n",
              " 'flower17_dataset/6',\n",
              " 'flower17_dataset/7',\n",
              " 'flower17_dataset/14',\n",
              " 'flower17_dataset/16',\n",
              " 'flower17_dataset/11',\n",
              " 'flower17_dataset/12',\n",
              " 'flower17_dataset/4',\n",
              " 'flower17_dataset/17',\n",
              " 'flower17_dataset/13',\n",
              " 'flower17_dataset/10',\n",
              " 'flower17_dataset/5']"
            ]
          },
          "metadata": {
            "tags": []
          },
          "execution_count": 66
        }
      ]
    },
    {
      "cell_type": "code",
      "metadata": {
        "id": "MAkupiWbs9kF",
        "colab_type": "code",
        "outputId": "a2b99c67-ba76-448a-d6f4-034d3564ee52",
        "colab": {
          "base_uri": "https://localhost:8080/",
          "height": 269
        }
      },
      "source": [
        "plt.imshow(image.load_img(np.random.choice(train_images)))\n",
        "plt.show()"
      ],
      "execution_count": 67,
      "outputs": [
        {
          "output_type": "display_data",
          "data": {
            "image/png": "[encoded data removed]",
            "text/plain": [
              "<Figure size 432x288 with 1 Axes>"
            ]
          },
          "metadata": {
            "tags": [],
            "needs_background": "light"
          }
        }
      ]
    },
    {
      "cell_type": "code",
      "metadata": {
        "id": "nOVrc_lUtccy",
        "colab_type": "code",
        "colab": {}
      },
      "source": [
        "C = 3\n",
        "pretrained_model = pretrained(input_shape = IMAGE_SIZE + [C],\n",
        "                              weights = 'imagenet',\n",
        "                              include_top = False)\n",
        "pretrained_model.trainable = False"
      ],
      "execution_count": 0,
      "outputs": []
    },
    {
      "cell_type": "code",
      "metadata": {
        "id": "JLcQM2tVtrEn",
        "colab_type": "code",
        "colab": {}
      },
      "source": [
        "Y = len(classes)\n",
        "h_layer = Flatten()(pretrained_model.output)\n",
        "o_layer = Dense(Y, activation= 'softmax')(h_layer)"
      ],
      "execution_count": 0,
      "outputs": []
    },
    {
      "cell_type": "code",
      "metadata": {
        "id": "JFKqFP3MufSF",
        "colab_type": "code",
        "colab": {}
      },
      "source": [
        "model = Model(pretrained_model.input, o_layer)"
      ],
      "execution_count": 0,
      "outputs": []
    },
    {
      "cell_type": "code",
      "metadata": {
        "id": "eGcoAoVyumT6",
        "colab_type": "code",
        "outputId": "9496b4ef-aefa-4223-ca9a-d54b5068030a",
        "colab": {
          "base_uri": "https://localhost:8080/",
          "height": 897
        }
      },
      "source": [
        "model.summary()"
      ],
      "execution_count": 71,
      "outputs": [
        {
          "output_type": "stream",
          "text": [
            "Model: \"model_1\"\n",
            "_________________________________________________________________\n",
            "Layer (type)                 Output Shape              Param #   \n",
            "=================================================================\n",
            "input_2 (InputLayer)         [(None, 200, 200, 3)]     0         \n",
            "_________________________________________________________________\n",
            "block1_conv1 (Conv2D)        (None, 200, 200, 64)      1792      \n",
            "_________________________________________________________________\n",
            "block1_conv2 (Conv2D)        (None, 200, 200, 64)      36928     \n",
            "_________________________________________________________________\n",
            "block1_pool (MaxPooling2D)   (None, 100, 100, 64)      0         \n",
            "_________________________________________________________________\n",
            "block2_conv1 (Conv2D)        (None, 100, 100, 128)     73856     \n",
            "_________________________________________________________________\n",
            "block2_conv2 (Conv2D)        (None, 100, 100, 128)     147584    \n",
            "_________________________________________________________________\n",
            "block2_pool (MaxPooling2D)   (None, 50, 50, 128)       0         \n",
            "_________________________________________________________________\n",
            "block3_conv1 (Conv2D)        (None, 50, 50, 256)       295168    \n",
            "_________________________________________________________________\n",
            "block3_conv2 (Conv2D)        (None, 50, 50, 256)       590080    \n",
            "_________________________________________________________________\n",
            "block3_conv3 (Conv2D)        (None, 50, 50, 256)       590080    \n",
            "_________________________________________________________________\n",
            "block3_pool (MaxPooling2D)   (None, 25, 25, 256)       0         \n",
            "_________________________________________________________________\n",
            "block4_conv1 (Conv2D)        (None, 25, 25, 512)       1180160   \n",
            "_________________________________________________________________\n",
            "block4_conv2 (Conv2D)        (None, 25, 25, 512)       2359808   \n",
            "_________________________________________________________________\n",
            "block4_conv3 (Conv2D)        (None, 25, 25, 512)       2359808   \n",
            "_________________________________________________________________\n",
            "block4_pool (MaxPooling2D)   (None, 12, 12, 512)       0         \n",
            "_________________________________________________________________\n",
            "block5_conv1 (Conv2D)        (None, 12, 12, 512)       2359808   \n",
            "_________________________________________________________________\n",
            "block5_conv2 (Conv2D)        (None, 12, 12, 512)       2359808   \n",
            "_________________________________________________________________\n",
            "block5_conv3 (Conv2D)        (None, 12, 12, 512)       2359808   \n",
            "_________________________________________________________________\n",
            "block5_pool (MaxPooling2D)   (None, 6, 6, 512)         0         \n",
            "_________________________________________________________________\n",
            "flatten_1 (Flatten)          (None, 18432)             0         \n",
            "_________________________________________________________________\n",
            "dense_1 (Dense)              (None, 17)                313361    \n",
            "=================================================================\n",
            "Total params: 15,028,049\n",
            "Trainable params: 313,361\n",
            "Non-trainable params: 14,714,688\n",
            "_________________________________________________________________\n"
          ],
          "name": "stdout"
        }
      ]
    },
    {
      "cell_type": "code",
      "metadata": {
        "id": "PD4Z0DcGuvDT",
        "colab_type": "code",
        "colab": {}
      },
      "source": [
        "gen_object = ImageDataGenerator(rotation_range = 10,\n",
        "                                width_shift_range = 0.1, \n",
        "                                height_shift_range = 0.1, \n",
        "                                zoom_range = 0.2,\n",
        "                                horizontal_flip = True,\n",
        "                                preprocessing_function = preprocess_input, \n",
        "                                validation_split=0.3)"
      ],
      "execution_count": 0,
      "outputs": []
    },
    {
      "cell_type": "code",
      "metadata": {
        "id": "m90I0RC4vGRj",
        "colab_type": "code",
        "outputId": "b086bacb-812b-4a8d-ac83-e0d28b5ea4f6",
        "colab": {
          "base_uri": "https://localhost:8080/",
          "height": 34
        }
      },
      "source": [
        "len(train_images)"
      ],
      "execution_count": 73,
      "outputs": [
        {
          "output_type": "execute_result",
          "data": {
            "text/plain": [
              "1359"
            ]
          },
          "metadata": {
            "tags": []
          },
          "execution_count": 73
        }
      ]
    },
    {
      "cell_type": "code",
      "metadata": {
        "id": "X6chBGeH0kLW",
        "colab_type": "code",
        "colab": {
          "base_uri": "https://localhost:8080/",
          "height": 34
        },
        "outputId": "644e2c86-3d27-4d41-b5d4-1a8d4dc92bbe"
      },
      "source": [
        "n_trains = int(np.ceil(1359*0.7))\n",
        "print(n_trains)"
      ],
      "execution_count": 74,
      "outputs": [
        {
          "output_type": "stream",
          "text": [
            "952\n"
          ],
          "name": "stdout"
        }
      ]
    },
    {
      "cell_type": "code",
      "metadata": {
        "id": "XERqEKTY01w-",
        "colab_type": "code",
        "colab": {
          "base_uri": "https://localhost:8080/",
          "height": 34
        },
        "outputId": "4ba59d3d-9fff-4e13-fd77-32c9623a99f8"
      },
      "source": [
        "n_vals = int(np.floor(1359*0.3))\n",
        "print(n_vals)"
      ],
      "execution_count": 75,
      "outputs": [
        {
          "output_type": "stream",
          "text": [
            "407\n"
          ],
          "name": "stdout"
        }
      ]
    },
    {
      "cell_type": "code",
      "metadata": {
        "id": "3Ds28EYdvCzb",
        "colab_type": "code",
        "colab": {}
      },
      "source": [
        "batch_size = 254"
      ],
      "execution_count": 0,
      "outputs": []
    },
    {
      "cell_type": "code",
      "metadata": {
        "id": "e-cpvMzCvKPD",
        "colab_type": "code",
        "outputId": "a67bbaa8-3a9c-4b29-ec36-7b00799a9517",
        "colab": {
          "base_uri": "https://localhost:8080/",
          "height": 52
        }
      },
      "source": [
        "train_generator = gen_object.flow_from_directory(path, shuffle=True, target_size=IMAGE_SIZE, batch_size=batch_size, subset='training')\n",
        "validation_generator = gen_object.flow_from_directory(path, target_size=IMAGE_SIZE, batch_size=batch_size, subset='validation')"
      ],
      "execution_count": 77,
      "outputs": [
        {
          "output_type": "stream",
          "text": [
            "Found 952 images belonging to 17 classes.\n",
            "Found 407 images belonging to 17 classes.\n"
          ],
          "name": "stdout"
        }
      ]
    },
    {
      "cell_type": "code",
      "metadata": {
        "id": "rZjQm5Sjv2Qn",
        "colab_type": "code",
        "colab": {}
      },
      "source": [
        "model.compile(loss = 'categorical_crossentropy', \n",
        "              optimizer = 'adam',\n",
        "              metrics = ['accuracy'])"
      ],
      "execution_count": 0,
      "outputs": []
    },
    {
      "cell_type": "code",
      "metadata": {
        "id": "GsV110zav_YW",
        "colab_type": "code",
        "outputId": "95c47fda-8ca0-46c1-c4a9-0cc2dd289820",
        "colab": {
          "base_uri": "https://localhost:8080/",
          "height": 389
        }
      },
      "source": [
        "report = model.fit_generator(train_generator, \n",
        "                             validation_data=validation_generator, \n",
        "                             epochs=10,\n",
        "                             steps_per_epoch = int(np.ceil(n_trains/batch_size)),\n",
        "                             validation_steps = int(np.ceil(n_vals/batch_size)))"
      ],
      "execution_count": 79,
      "outputs": [
        {
          "output_type": "stream",
          "text": [
            "Epoch 1/10\n",
            "4/4 [==============================] - 23s 6s/step - loss: 13.5480 - accuracy: 0.2311 - val_loss: 7.4272 - val_accuracy: 0.5479\n",
            "Epoch 2/10\n",
            "4/4 [==============================] - 23s 6s/step - loss: 3.6265 - accuracy: 0.6891 - val_loss: 3.3243 - val_accuracy: 0.7568\n",
            "Epoch 3/10\n",
            "4/4 [==============================] - 23s 6s/step - loss: 1.6730 - accuracy: 0.8298 - val_loss: 2.3164 - val_accuracy: 0.8206\n",
            "Epoch 4/10\n",
            "4/4 [==============================] - 23s 6s/step - loss: 0.9638 - accuracy: 0.8813 - val_loss: 2.7476 - val_accuracy: 0.8157\n",
            "Epoch 5/10\n",
            "4/4 [==============================] - 23s 6s/step - loss: 0.6892 - accuracy: 0.9202 - val_loss: 2.3851 - val_accuracy: 0.8501\n",
            "Epoch 6/10\n",
            "4/4 [==============================] - 23s 6s/step - loss: 0.4375 - accuracy: 0.9412 - val_loss: 2.0139 - val_accuracy: 0.8698\n",
            "Epoch 7/10\n",
            "4/4 [==============================] - 23s 6s/step - loss: 0.2830 - accuracy: 0.9590 - val_loss: 2.3279 - val_accuracy: 0.8698\n",
            "Epoch 8/10\n",
            "4/4 [==============================] - 23s 6s/step - loss: 0.2367 - accuracy: 0.9569 - val_loss: 2.0588 - val_accuracy: 0.8698\n",
            "Epoch 9/10\n",
            "4/4 [==============================] - 24s 6s/step - loss: 0.2269 - accuracy: 0.9695 - val_loss: 1.7554 - val_accuracy: 0.8698\n",
            "Epoch 10/10\n",
            "4/4 [==============================] - 25s 6s/step - loss: 0.3014 - accuracy: 0.9580 - val_loss: 1.9435 - val_accuracy: 0.8821\n"
          ],
          "name": "stdout"
        }
      ]
    },
    {
      "cell_type": "code",
      "metadata": {
        "id": "4zZ9w2ep5jH5",
        "colab_type": "code",
        "outputId": "a17fee75-ffa8-4f19-f598-af4dea91054d",
        "colab": {
          "base_uri": "https://localhost:8080/",
          "height": 517
        }
      },
      "source": [
        "  plt.plot(report.history['loss'], label = 'training_loss')\n",
        "  plt.plot(report.history['val_loss'], label = 'validation_loss')\n",
        "  plt.legend()\n",
        "  plt.show()\n",
        "  plt.plot(report.history['accuracy'], label = 'training_accuracy')\n",
        "  plt.plot(report.history['val_accuracy'], label = 'validation_accuracy')\n",
        "  plt.legend()\n",
        "  plt.show()"
      ],
      "execution_count": 80,
      "outputs": [
        {
          "output_type": "display_data",
          "data": {
            "image/png": "[encoded data removed]",
            "text/plain": [
              "<Figure size 432x288 with 1 Axes>"
            ]
          },
          "metadata": {
            "tags": [],
            "needs_background": "light"
          }
        },
        {
          "output_type": "display_data",
          "data": {
            "image/png": "[encoded data removed]",
            "text/plain": [
              "<Figure size 432x288 with 1 Axes>"
            ]
          },
          "metadata": {
            "tags": [],
            "needs_background": "light"
          }
        }
      ]
    },
    {
      "cell_type": "code",
      "metadata": {
        "id": "OBO1LFKP3N91",
        "colab_type": "code",
        "colab": {
          "base_uri": "https://localhost:8080/",
          "height": 34
        },
        "outputId": "5b49feb5-9784-40f1-a0ec-067788f0dfbb"
      },
      "source": [
        "validation_generator[0][0][253].shape"
      ],
      "execution_count": 81,
      "outputs": [
        {
          "output_type": "execute_result",
          "data": {
            "text/plain": [
              "(200, 200, 3)"
            ]
          },
          "metadata": {
            "tags": []
          },
          "execution_count": 81
        }
      ]
    },
    {
      "cell_type": "code",
      "metadata": {
        "id": "CWk5dUyJ4ILj",
        "colab_type": "code",
        "colab": {
          "base_uri": "https://localhost:8080/",
          "height": 34
        },
        "outputId": "93da971f-2cd1-4645-b44e-fa841f3e96bf"
      },
      "source": [
        "validation_generator[0][1][253].shape"
      ],
      "execution_count": 82,
      "outputs": [
        {
          "output_type": "execute_result",
          "data": {
            "text/plain": [
              "(17,)"
            ]
          },
          "metadata": {
            "tags": []
          },
          "execution_count": 82
        }
      ]
    },
    {
      "cell_type": "code",
      "metadata": {
        "id": "l1LQPbHR73jO",
        "colab_type": "code",
        "colab": {}
      },
      "source": [
        "y_pred = model.predict_generator(validation_generator, steps=np.ceil(n_vals/254))"
      ],
      "execution_count": 0,
      "outputs": []
    },
    {
      "cell_type": "code",
      "metadata": {
        "id": "buGWH1ur8Gm0",
        "colab_type": "code",
        "colab": {}
      },
      "source": [
        "y_pred = y_pred.argmax(axis=1)"
      ],
      "execution_count": 0,
      "outputs": []
    },
    {
      "cell_type": "code",
      "metadata": {
        "id": "87kc-rEK8fVD",
        "colab_type": "code",
        "colab": {}
      },
      "source": [
        "y_test = validation_generator.classes"
      ],
      "execution_count": 0,
      "outputs": []
    },
    {
      "cell_type": "code",
      "metadata": {
        "id": "E0aRsMMo9O-k",
        "colab_type": "code",
        "colab": {
          "base_uri": "https://localhost:8080/",
          "height": 34
        },
        "outputId": "f144adf9-f878-493f-a4bc-240a179d5da1"
      },
      "source": [
        "y_test.shape"
      ],
      "execution_count": 117,
      "outputs": [
        {
          "output_type": "execute_result",
          "data": {
            "text/plain": [
              "(407,)"
            ]
          },
          "metadata": {
            "tags": []
          },
          "execution_count": 117
        }
      ]
    },
    {
      "cell_type": "code",
      "metadata": {
        "id": "wWiudCOy9tTk",
        "colab_type": "code",
        "colab": {
          "base_uri": "https://localhost:8080/",
          "height": 34
        },
        "outputId": "a66b34b5-cc5f-4957-ae43-38f38067ee7c"
      },
      "source": [
        "y_pred.shape"
      ],
      "execution_count": 118,
      "outputs": [
        {
          "output_type": "execute_result",
          "data": {
            "text/plain": [
              "(407,)"
            ]
          },
          "metadata": {
            "tags": []
          },
          "execution_count": 118
        }
      ]
    },
    {
      "cell_type": "code",
      "metadata": {
        "id": "-j8lD7os-I-e",
        "colab_type": "code",
        "colab": {}
      },
      "source": [
        "import cv2\n",
        "from google.colab.patches import cv2_imshow"
      ],
      "execution_count": 0,
      "outputs": []
    },
    {
      "cell_type": "code",
      "metadata": {
        "id": "ljlHzR4u30Sl",
        "colab_type": "code",
        "colab": {
          "base_uri": "https://localhost:8080/",
          "height": 234
        },
        "outputId": "af1527b7-4a77-4cf1-af70-33f442c0c33e"
      },
      "source": [
        "index = np.random.randint(0,407)\n",
        "y_test_idx = y_test[index]\n",
        "X_test_idx = validation_generator[0][0][index] \n",
        "y_pred_idx = y_pred[index]\n",
        "print(\"Predicted = \" + str(y_pred[index]) + \", Real = \" + str(y_test[index]))\n",
        "cv2_imshow((X_test_idx+(255/2)))\n",
        "#plt.imshow((X_test_idx+(255/2))/255)\n",
        "#plt.title(\"Predicted = \" + str(y_pred[index]) + \", Real = \" + str(y_test[index]))"
      ],
      "execution_count": 221,
      "outputs": [
        {
          "output_type": "stream",
          "text": [
            "Predicted = 4, Real = 3\n"
          ],
          "name": "stdout"
        },
        {
          "output_type": "display_data",
          "data": {
            "image/png": "[encoded data removed]",
            "text/plain": [
              "<PIL.Image.Image image mode=RGB size=200x200 at 0x7F2B83219A90>"
            ]
          },
          "metadata": {
            "tags": []
          }
        }
      ]
    }
  ]
}