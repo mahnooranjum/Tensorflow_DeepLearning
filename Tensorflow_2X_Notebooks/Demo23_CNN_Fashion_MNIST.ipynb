{
  "nbformat": 4,
  "nbformat_minor": 0,
  "metadata": {
    "colab": {
      "name": "Demo23_CNN_Fashion_MNIST.ipynb",
      "provenance": [],
      "collapsed_sections": []
    },
    "kernelspec": {
      "name": "python3",
      "display_name": "Python 3"
    }
  },
  "cells": [
    {
      "cell_type": "markdown",
      "metadata": {
        "id": "P9bJCDjdlgG6",
        "colab_type": "text"
      },
      "source": [
        "# **Spit some [tensor] flow**\n",
        "\n",
        "We need to learn the intricacies of tensorflow to master deep learning\n",
        "\n",
        "`Let's get this over with`\n",
        "\n"
      ]
    },
    {
      "cell_type": "code",
      "metadata": {
        "id": "aQwc0re5mFld",
        "colab_type": "code",
        "outputId": "0f69d95a-1e43-40e3-fbc0-09c765164de6",
        "colab": {
          "base_uri": "https://localhost:8080/",
          "height": 35
        }
      },
      "source": [
        "import numpy as np\n",
        "import pandas as pd\n",
        "import matplotlib.pyplot as plt\n",
        "import tensorflow as tf\n",
        "import cv2\n",
        "print(tf.__version__)"
      ],
      "execution_count": 0,
      "outputs": [
        {
          "output_type": "stream",
          "text": [
            "2.2.0\n"
          ],
          "name": "stdout"
        }
      ]
    },
    {
      "cell_type": "markdown",
      "metadata": {
        "id": "2prPNQ7eg1iT",
        "colab_type": "text"
      },
      "source": [
        "## As a rule of thumb\n",
        "\n",
        "Remember that the pooling operation decreases the size of the image, and we lose information.\n",
        "\n",
        "However, the number of features generally increases and we get more features extracted from the images.\n",
        "\n",
        "The choices of hyperparams bother us sometimes, because DL has a lot of trial and error involved, we can choose the \n",
        "\n",
        "- learning rate\n",
        "\n",
        "- number of layers\n",
        "\n",
        "- number of neurons per layer \n",
        "\n",
        "- feature size \n",
        "\n",
        "- feature number \n",
        "\n",
        "- pooling size \n",
        "\n",
        "- stride \n",
        "\n",
        "On a side note, if you use strided convolution layers, they will decrease the size of the image as well\n",
        "\n",
        "\n",
        "If we have images with different sizes as inputs; for example; H1 x W1 x 3 and H2 x W2 x 3, then the output will be flatten-ed to different sizes, this won't work for DENSE layers as they do not have change-able input sizes, so we use global max pooling to make a vector of size 1 x 1 x (#_Of_Feature_Maps_)"
      ]
    },
    {
      "cell_type": "code",
      "metadata": {
        "id": "CaBxIWkog_i-",
        "colab_type": "code",
        "colab": {}
      },
      "source": [
        "from tensorflow.keras.layers import Input, Conv2D, Dropout, Dense, Flatten\n",
        "from tensorflow.keras.models import Model"
      ],
      "execution_count": 0,
      "outputs": []
    },
    {
      "cell_type": "code",
      "metadata": {
        "id": "zhCnvW2e2Xrv",
        "colab_type": "code",
        "colab": {}
      },
      "source": [
        "from tensorflow.keras.datasets import fashion_mnist\n",
        "(X_train, y_train), (X_test, y_test) = fashion_mnist.load_data()"
      ],
      "execution_count": 0,
      "outputs": []
    },
    {
      "cell_type": "code",
      "metadata": {
        "id": "w6qLYai-2x-O",
        "colab_type": "code",
        "outputId": "0baf12fb-fea5-47dd-94e2-abe39e7e4e65",
        "colab": {
          "base_uri": "https://localhost:8080/",
          "height": 52
        }
      },
      "source": [
        "X_train, X_test = X_train / 255.0 , X_test / 255.0 \n",
        "print(X_train.shape)\n",
        "print(X_test.shape)"
      ],
      "execution_count": 0,
      "outputs": [
        {
          "output_type": "stream",
          "text": [
            "(60000, 28, 28)\n",
            "(10000, 28, 28)\n"
          ],
          "name": "stdout"
        }
      ]
    },
    {
      "cell_type": "code",
      "metadata": {
        "id": "UEphzMZC3DRu",
        "colab_type": "code",
        "outputId": "9fb40ee7-e260-400c-9b0a-51ade4e1a980",
        "colab": {
          "base_uri": "https://localhost:8080/",
          "height": 52
        }
      },
      "source": [
        "X_train = np.expand_dims(X_train, -1)\n",
        "X_test = np.expand_dims(X_test, -1)\n",
        "print(X_train.shape)\n",
        "print(X_test.shape)\n",
        "# SHAPE \n",
        "# N x H x W x Colors \n",
        "# Colors = 1 for grayscale \n",
        "# Fashion MNIST is grayscale"
      ],
      "execution_count": 0,
      "outputs": [
        {
          "output_type": "stream",
          "text": [
            "(60000, 28, 28, 1)\n",
            "(10000, 28, 28, 1)\n"
          ],
          "name": "stdout"
        }
      ]
    },
    {
      "cell_type": "code",
      "metadata": {
        "id": "F-F3OFyE3QiF",
        "colab_type": "code",
        "outputId": "662d2c6e-62de-431f-8a52-b5395ac3b591",
        "colab": {
          "base_uri": "https://localhost:8080/",
          "height": 35
        }
      },
      "source": [
        "classes = len(set(y_train))\n",
        "print(classes)"
      ],
      "execution_count": 0,
      "outputs": [
        {
          "output_type": "stream",
          "text": [
            "10\n"
          ],
          "name": "stdout"
        }
      ]
    },
    {
      "cell_type": "code",
      "metadata": {
        "id": "gsm4l9-Z3kX2",
        "colab_type": "code",
        "colab": {}
      },
      "source": [
        "input_shape = X_train[0].shape"
      ],
      "execution_count": 0,
      "outputs": []
    },
    {
      "cell_type": "code",
      "metadata": {
        "id": "35SNHNC74Gk2",
        "colab_type": "code",
        "colab": {}
      },
      "source": [
        "i_layer = Input(shape = input_shape)\n",
        "h_layer = Conv2D(16, (3,3), strides = 2, activation='relu')(i_layer)\n",
        "h_layer = Conv2D(32, (3,3), strides = 2, activation='relu')(h_layer)\n",
        "h_layer = Conv2D(64, (3,3), strides = 2, activation='relu')(h_layer)\n",
        "h_layer = Flatten()(h_layer)\n",
        "h_layer = Dropout(0.4)(h_layer)\n",
        "h_layer = Dense(512, activation='relu')(h_layer)\n",
        "h_layer = Dropout(0.4)(h_layer)\n",
        "o_layer = Dense(classes, activation='softmax')(h_layer)\n",
        "\n",
        "model = Model(i_layer, o_layer)\n"
      ],
      "execution_count": 0,
      "outputs": []
    },
    {
      "cell_type": "code",
      "metadata": {
        "id": "PK4XdoUd5q7n",
        "colab_type": "code",
        "outputId": "2fe909d4-a2f3-4d68-bb6c-1c890b7d0d3c",
        "colab": {
          "base_uri": "https://localhost:8080/",
          "height": 1000
        }
      },
      "source": [
        "model.compile(optimizer='adam', \n",
        "              loss = 'sparse_categorical_crossentropy',\n",
        "              metrics = ['accuracy'])\n",
        "\n",
        "report = model.fit(X_train, y_train, validation_data=(X_test, y_test), epochs=30)"
      ],
      "execution_count": 0,
      "outputs": [
        {
          "output_type": "stream",
          "text": [
            "Epoch 1/30\n",
            "1875/1875 [==============================] - 16s 9ms/step - loss: 0.6185 - accuracy: 0.7731 - val_loss: 0.4478 - val_accuracy: 0.8321\n",
            "Epoch 2/30\n",
            "1875/1875 [==============================] - 15s 8ms/step - loss: 0.4480 - accuracy: 0.8341 - val_loss: 0.3971 - val_accuracy: 0.8527\n",
            "Epoch 3/30\n",
            "1875/1875 [==============================] - 16s 8ms/step - loss: 0.4022 - accuracy: 0.8505 - val_loss: 0.3773 - val_accuracy: 0.8580\n",
            "Epoch 4/30\n",
            "1875/1875 [==============================] - 16s 8ms/step - loss: 0.3720 - accuracy: 0.8612 - val_loss: 0.3534 - val_accuracy: 0.8676\n",
            "Epoch 5/30\n",
            "1875/1875 [==============================] - 16s 8ms/step - loss: 0.3505 - accuracy: 0.8682 - val_loss: 0.3405 - val_accuracy: 0.8736\n",
            "Epoch 6/30\n",
            "1875/1875 [==============================] - 16s 8ms/step - loss: 0.3354 - accuracy: 0.8746 - val_loss: 0.3315 - val_accuracy: 0.8784\n",
            "Epoch 7/30\n",
            "1875/1875 [==============================] - 16s 8ms/step - loss: 0.3225 - accuracy: 0.8791 - val_loss: 0.3203 - val_accuracy: 0.8803\n",
            "Epoch 8/30\n",
            "1875/1875 [==============================] - 16s 9ms/step - loss: 0.3133 - accuracy: 0.8822 - val_loss: 0.3183 - val_accuracy: 0.8832\n",
            "Epoch 9/30\n",
            "1875/1875 [==============================] - 16s 8ms/step - loss: 0.3029 - accuracy: 0.8858 - val_loss: 0.3024 - val_accuracy: 0.8890\n",
            "Epoch 10/30\n",
            "1875/1875 [==============================] - 16s 8ms/step - loss: 0.2967 - accuracy: 0.8885 - val_loss: 0.3013 - val_accuracy: 0.8902\n",
            "Epoch 11/30\n",
            "1875/1875 [==============================] - 16s 8ms/step - loss: 0.2910 - accuracy: 0.8900 - val_loss: 0.2979 - val_accuracy: 0.8923\n",
            "Epoch 12/30\n",
            "1875/1875 [==============================] - 15s 8ms/step - loss: 0.2825 - accuracy: 0.8931 - val_loss: 0.3051 - val_accuracy: 0.8888\n",
            "Epoch 13/30\n",
            "1875/1875 [==============================] - 16s 8ms/step - loss: 0.2804 - accuracy: 0.8950 - val_loss: 0.2935 - val_accuracy: 0.8946\n",
            "Epoch 14/30\n",
            "1875/1875 [==============================] - 15s 8ms/step - loss: 0.2738 - accuracy: 0.8980 - val_loss: 0.2934 - val_accuracy: 0.8927\n",
            "Epoch 15/30\n",
            "1875/1875 [==============================] - 16s 8ms/step - loss: 0.2689 - accuracy: 0.8997 - val_loss: 0.2963 - val_accuracy: 0.8946\n",
            "Epoch 16/30\n",
            "1875/1875 [==============================] - 15s 8ms/step - loss: 0.2647 - accuracy: 0.9007 - val_loss: 0.2947 - val_accuracy: 0.8935\n",
            "Epoch 17/30\n",
            "1875/1875 [==============================] - 15s 8ms/step - loss: 0.2638 - accuracy: 0.9023 - val_loss: 0.2890 - val_accuracy: 0.8964\n",
            "Epoch 18/30\n",
            "1875/1875 [==============================] - 16s 8ms/step - loss: 0.2591 - accuracy: 0.9018 - val_loss: 0.2988 - val_accuracy: 0.8925\n",
            "Epoch 19/30\n",
            "1875/1875 [==============================] - 16s 8ms/step - loss: 0.2566 - accuracy: 0.9039 - val_loss: 0.2903 - val_accuracy: 0.8972\n",
            "Epoch 20/30\n",
            "1875/1875 [==============================] - 16s 8ms/step - loss: 0.2518 - accuracy: 0.9056 - val_loss: 0.2946 - val_accuracy: 0.8921\n",
            "Epoch 21/30\n",
            "1875/1875 [==============================] - 15s 8ms/step - loss: 0.2507 - accuracy: 0.9050 - val_loss: 0.2920 - val_accuracy: 0.8951\n",
            "Epoch 22/30\n",
            "1875/1875 [==============================] - 16s 9ms/step - loss: 0.2441 - accuracy: 0.9077 - val_loss: 0.2926 - val_accuracy: 0.8969\n",
            "Epoch 23/30\n",
            "1875/1875 [==============================] - 16s 9ms/step - loss: 0.2482 - accuracy: 0.9061 - val_loss: 0.2963 - val_accuracy: 0.8991\n",
            "Epoch 24/30\n",
            "1875/1875 [==============================] - 16s 8ms/step - loss: 0.2457 - accuracy: 0.9076 - val_loss: 0.2975 - val_accuracy: 0.8969\n",
            "Epoch 25/30\n",
            "1875/1875 [==============================] - 16s 8ms/step - loss: 0.2409 - accuracy: 0.9093 - val_loss: 0.2886 - val_accuracy: 0.8995\n",
            "Epoch 26/30\n",
            "1875/1875 [==============================] - 16s 8ms/step - loss: 0.2387 - accuracy: 0.9100 - val_loss: 0.2985 - val_accuracy: 0.8960\n",
            "Epoch 27/30\n",
            "1875/1875 [==============================] - 16s 8ms/step - loss: 0.2351 - accuracy: 0.9108 - val_loss: 0.2911 - val_accuracy: 0.8993\n",
            "Epoch 28/30\n",
            "1875/1875 [==============================] - 16s 9ms/step - loss: 0.2354 - accuracy: 0.9118 - val_loss: 0.2946 - val_accuracy: 0.8987\n",
            "Epoch 29/30\n",
            "1875/1875 [==============================] - 16s 8ms/step - loss: 0.2317 - accuracy: 0.9122 - val_loss: 0.2978 - val_accuracy: 0.8953\n",
            "Epoch 30/30\n",
            "1875/1875 [==============================] - 16s 8ms/step - loss: 0.2337 - accuracy: 0.9119 - val_loss: 0.2887 - val_accuracy: 0.8996\n"
          ],
          "name": "stdout"
        }
      ]
    },
    {
      "cell_type": "code",
      "metadata": {
        "id": "j3lYJaM27c6P",
        "colab_type": "code",
        "colab": {}
      },
      "source": [
        "y_pred = model.predict(X_test).argmax(axis=1) \n",
        "# only for sparse categorical crossentropy"
      ],
      "execution_count": 0,
      "outputs": []
    },
    {
      "cell_type": "code",
      "metadata": {
        "id": "q6QCr7_78B8Q",
        "colab_type": "code",
        "colab": {}
      },
      "source": [
        "# Taken from https://www.kaggle.com/zalando-research/fashionmnist?select=fashion-mnist_test.csv\n",
        "labels = \"T-shirt/top,Trouser,Pullover,Dress,Coat,Sandal,Shirt,Sneaker,Bag,AnkleBoot\".split(\",\")"
      ],
      "execution_count": 0,
      "outputs": []
    },
    {
      "cell_type": "code",
      "metadata": {
        "id": "duq0lNCE7FoP",
        "colab_type": "code",
        "colab": {}
      },
      "source": [
        "def evaluation_tf(report, y_test, y_pred, classes):\n",
        "  plt.plot(report.history['loss'], label = 'training_loss')\n",
        "  plt.plot(report.history['val_loss'], label = 'validation_loss')\n",
        "  plt.legend()\n",
        "\n",
        "  plt.plot(report.history['accuracy'], label = 'training_accuracy')\n",
        "  plt.plot(report.history['val_accuracy'], label = 'validation_accuracy')\n",
        "  plt.legend()\n",
        "\n",
        "  from sklearn.metrics import confusion_matrix\n",
        "  import itertools\n",
        "  cm = confusion_matrix(y_test, y_pred)\n",
        "\n",
        "  plt.figure(figsize=(10,10))\n",
        "  plt.imshow(cm, cmap=plt.cm.Blues)\n",
        "  for i,j in itertools.product(range(cm.shape[0]), range(cm.shape[1])):\n",
        "    plt.text(j, i, format(cm[i,j], 'd'),\n",
        "            horizontalalignment = 'center',\n",
        "            color='black')\n",
        "  plt.xlabel(\"Predicted labels\")\n",
        "  plt.ylabel(\"True labels\")\n",
        "  plt.xticks(range(0,classes))\n",
        "  plt.yticks(range(0,classes))\n",
        "  plt.title('Confusion matrix')\n",
        "  plt.colorbar()\n",
        "  plt.show()"
      ],
      "execution_count": 0,
      "outputs": []
    },
    {
      "cell_type": "code",
      "metadata": {
        "id": "y95yLDYa8pvG",
        "colab_type": "code",
        "outputId": "7f5868a5-c992-45e6-87d3-a845856776a6",
        "colab": {
          "base_uri": "https://localhost:8080/",
          "height": 828
        }
      },
      "source": [
        "evaluation_tf(report, y_test, y_pred, classes)"
      ],
      "execution_count": 0,
      "outputs": [
        {
          "output_type": "display_data",
          "data": {
            "image/png": "[encoded data removed]",
            "text/plain": [
              "<Figure size 432x288 with 1 Axes>"
            ]
          },
          "metadata": {
            "tags": [],
            "needs_background": "light"
          }
        },
        {
          "output_type": "display_data",
          "data": {
            "image/png": "[encoded data removed]",
            "text/plain": [
              "<Figure size 720x720 with 2 Axes>"
            ]
          },
          "metadata": {
            "tags": [],
            "needs_background": "light"
          }
        }
      ]
    },
    {
      "cell_type": "code",
      "metadata": {
        "id": "SjUTUYEe7peW",
        "colab_type": "code",
        "outputId": "2a43326d-603f-4500-b766-0f8189744c2e",
        "colab": {
          "base_uri": "https://localhost:8080/",
          "height": 299
        }
      },
      "source": [
        "misshits = np.where(y_pred!=y_test)[0]\n",
        "index = np.random.choice(misshits)\n",
        "plt.imshow(X_test[index].reshape(28,28), cmap='gray')\n",
        "plt.title(\"Predicted = \" + str(labels[y_pred[index]]) + \", Real = \" + str(labels[y_test[index]]))"
      ],
      "execution_count": 0,
      "outputs": [
        {
          "output_type": "execute_result",
          "data": {
            "text/plain": [
              "Text(0.5, 1.0, 'Predicted = Coat, Real = Shirt')"
            ]
          },
          "metadata": {
            "tags": []
          },
          "execution_count": 69
        },
        {
          "output_type": "display_data",
          "data": {
            "image/png": "[encoded data removed]",
            "text/plain": [
              "<Figure size 432x288 with 1 Axes>"
            ]
          },
          "metadata": {
            "tags": [],
            "needs_background": "light"
          }
        }
      ]
    }
  ]
}