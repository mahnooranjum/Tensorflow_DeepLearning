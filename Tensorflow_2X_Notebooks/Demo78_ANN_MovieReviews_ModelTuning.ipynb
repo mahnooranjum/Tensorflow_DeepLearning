{
  "nbformat": 4,
  "nbformat_minor": 0,
  "metadata": {
    "colab": {
      "name": "Demo78_ANN_MovieReviews_ModelTuning.ipynb",
      "provenance": [],
      "collapsed_sections": []
    },
    "kernelspec": {
      "name": "python3",
      "display_name": "Python 3"
    },
    "accelerator": "GPU"
  },
  "cells": [
    {
      "cell_type": "markdown",
      "metadata": {
        "id": "P9bJCDjdlgG6",
        "colab_type": "text"
      },
      "source": [
        "# **Spit some [tensor] flow**\n",
        "\n",
        "We need to learn the intricacies of tensorflow to master deep learning\n",
        "\n",
        "`Let's get this over with`\n",
        "\n"
      ]
    },
    {
      "cell_type": "code",
      "metadata": {
        "id": "aQwc0re5mFld",
        "colab_type": "code",
        "outputId": "e569f659-faa1-416e-beba-a7d6609865e1",
        "colab": {
          "base_uri": "https://localhost:8080/",
          "height": 52
        }
      },
      "source": [
        "import numpy as np\n",
        "import pandas as pd\n",
        "import matplotlib.pyplot as plt\n",
        "import tensorflow as tf\n",
        "import keras\n",
        "import cv2\n",
        "print(tf.__version__)"
      ],
      "execution_count": 1,
      "outputs": [
        {
          "output_type": "stream",
          "text": [
            "Using TensorFlow backend.\n"
          ],
          "name": "stderr"
        },
        {
          "output_type": "stream",
          "text": [
            "2.2.0\n"
          ],
          "name": "stdout"
        }
      ]
    },
    {
      "cell_type": "code",
      "metadata": {
        "id": "CaBxIWkog_i-",
        "colab_type": "code",
        "colab": {}
      },
      "source": [
        "from tensorflow.keras.layers import Input, Dropout, Dense, Flatten, SimpleRNN, LSTM, GlobalMaxPooling1D, Embedding\n",
        "from tensorflow.keras.models import Model\n",
        "from tensorflow.keras.optimizers import SGD, Adam, Adagrad, Adadelta, RMSprop\n",
        "from tensorflow.keras.preprocessing.text import Tokenizer\n",
        "from tensorflow.keras.preprocessing.sequence import pad_sequences"
      ],
      "execution_count": 0,
      "outputs": []
    },
    {
      "cell_type": "markdown",
      "metadata": {
        "id": "ofiCPRlY3MUV",
        "colab_type": "text"
      },
      "source": [
        "## Let's import the dataset\n"
      ]
    },
    {
      "cell_type": "code",
      "metadata": {
        "id": "ovloe8cp0wpa",
        "colab_type": "code",
        "colab": {}
      },
      "source": [
        "def evaluation_tf(report, y_test, y_pred, classes):\n",
        "  plt.plot(report.history['loss'], label = 'training_loss')\n",
        "  plt.plot(report.history['val_loss'], label = 'validation_loss')\n",
        "  plt.legend()\n",
        "  plt.show()\n",
        "  plt.plot(report.history['accuracy'], label = 'training_accuracy')\n",
        "  plt.plot(report.history['val_accuracy'], label = 'validation_accuracy')\n",
        "  plt.legend()\n",
        "  plt.show()\n"
      ],
      "execution_count": 0,
      "outputs": []
    },
    {
      "cell_type": "code",
      "metadata": {
        "id": "PKsiBvQv3PKy",
        "colab_type": "code",
        "colab": {
          "base_uri": "https://localhost:8080/",
          "height": 52
        },
        "outputId": "44980e97-588a-41f0-f1e8-18f0bad6b1e7"
      },
      "source": [
        "from keras.datasets import imdb\n",
        "(X_train, y_train), (X_test, y_test) = imdb.load_data(path=\"imdb.npz\",\n",
        "                                                     num_words=None,\n",
        "                                                     skip_top=0,\n",
        "                                                     maxlen=None)"
      ],
      "execution_count": 6,
      "outputs": [
        {
          "output_type": "stream",
          "text": [
            "Downloading data from https://s3.amazonaws.com/text-datasets/imdb.npz\n",
            "17465344/17464789 [==============================] - 0s 0us/step\n"
          ],
          "name": "stdout"
        }
      ]
    },
    {
      "cell_type": "code",
      "metadata": {
        "id": "D3HkUWYLxYnX",
        "colab_type": "code",
        "outputId": "37e3bc83-448e-4a4b-8282-87dbac628a15",
        "colab": {
          "base_uri": "https://localhost:8080/",
          "height": 87
        }
      },
      "source": [
        "print(X_train.shape)\n",
        "print(X_test.shape)\n",
        "print(y_train.shape)\n",
        "print(y_test.shape)"
      ],
      "execution_count": 7,
      "outputs": [
        {
          "output_type": "stream",
          "text": [
            "(25000,)\n",
            "(25000,)\n",
            "(25000,)\n",
            "(25000,)\n"
          ],
          "name": "stdout"
        }
      ]
    },
    {
      "cell_type": "code",
      "metadata": {
        "id": "wFhGa3XryLfG",
        "colab_type": "code",
        "outputId": "d422d0da-2b8c-4ac5-d5d4-d61c782fa09a",
        "colab": {
          "base_uri": "https://localhost:8080/",
          "height": 55
        }
      },
      "source": [
        "print(X_train[np.random.randint(0,len(X_train))])"
      ],
      "execution_count": 8,
      "outputs": [
        {
          "output_type": "stream",
          "text": [
            "[1, 86, 125, 14, 66, 9, 61, 514, 22, 126, 13, 92, 359, 8, 202, 259, 6, 2786, 88, 175, 6, 2944, 127, 15, 13, 244, 1227, 2192, 19, 14, 2201, 11823, 954, 835, 302, 60720, 4572, 1231, 61425, 913, 1993, 1355, 2639, 189, 991, 4, 167, 13, 557, 69, 3205, 18, 6, 569, 33, 4, 953, 1052, 38, 15, 29, 100, 81, 2289, 5, 28, 6, 2281, 1655, 552, 7, 855, 18, 309, 1543, 13, 657, 15, 2856, 435, 180, 40, 15, 4, 51216, 81651, 4, 33835, 52, 808, 14, 36581, 46, 5, 101, 783, 254, 451, 46, 50, 235, 879, 8, 9493, 5, 8996, 6115, 62270, 13, 70, 30, 258, 33, 10310]\n"
          ],
          "name": "stdout"
        }
      ]
    },
    {
      "cell_type": "code",
      "metadata": {
        "id": "jn9Q5N70zL5V",
        "colab_type": "code",
        "outputId": "9c25af6b-8ed9-4d4c-832e-055dbd10d634",
        "colab": {
          "base_uri": "https://localhost:8080/",
          "height": 35
        }
      },
      "source": [
        "print(set(y_train))"
      ],
      "execution_count": 9,
      "outputs": [
        {
          "output_type": "stream",
          "text": [
            "{0, 1}\n"
          ],
          "name": "stdout"
        }
      ]
    },
    {
      "cell_type": "code",
      "metadata": {
        "id": "RB_v9dryyJu9",
        "colab_type": "code",
        "outputId": "7acd7bc0-a429-4335-b2b7-824d125ff863",
        "colab": {
          "base_uri": "https://localhost:8080/",
          "height": 35
        }
      },
      "source": [
        "V = 5000\n",
        "tokenizer = Tokenizer(num_words=V)\n",
        "X_train = tokenizer.sequences_to_matrix(X_train, mode='binary')\n",
        "X_test = tokenizer.sequences_to_matrix(X_test, mode='binary')\n",
        "print(X_train[np.random.randint(0,len(X_train))])"
      ],
      "execution_count": 10,
      "outputs": [
        {
          "output_type": "stream",
          "text": [
            "[0. 1. 0. ... 0. 0. 0.]\n"
          ],
          "name": "stdout"
        }
      ]
    },
    {
      "cell_type": "code",
      "metadata": {
        "id": "kyVWkX8kyzfB",
        "colab_type": "code",
        "outputId": "379899de-949b-431a-a7ff-d2c17cf5cf7d",
        "colab": {
          "base_uri": "https://localhost:8080/",
          "height": 52
        }
      },
      "source": [
        "print(X_train.shape)\n",
        "print(X_test.shape)"
      ],
      "execution_count": 11,
      "outputs": [
        {
          "output_type": "stream",
          "text": [
            "(25000, 5000)\n",
            "(25000, 5000)\n"
          ],
          "name": "stdout"
        }
      ]
    },
    {
      "cell_type": "code",
      "metadata": {
        "id": "p4Dx83zny-mO",
        "colab_type": "code",
        "outputId": "49a60a48-5f3d-467e-c7ff-42ffaaa9cfe1",
        "colab": {
          "base_uri": "https://localhost:8080/",
          "height": 52
        }
      },
      "source": [
        "classes = len(set(y_train))\n",
        "y_train = keras.utils.to_categorical(y_train, classes)\n",
        "y_test = keras.utils.to_categorical(y_test, classes)\n",
        "print(y_train.shape)\n",
        "print(y_test.shape)"
      ],
      "execution_count": 12,
      "outputs": [
        {
          "output_type": "stream",
          "text": [
            "(25000, 2)\n",
            "(25000, 2)\n"
          ],
          "name": "stdout"
        }
      ]
    },
    {
      "cell_type": "code",
      "metadata": {
        "id": "ht8S7bwxs4HL",
        "colab_type": "code",
        "outputId": "efb81df1-e961-40ce-93f9-cb80bc388b27",
        "colab": {
          "base_uri": "https://localhost:8080/",
          "height": 35
        }
      },
      "source": [
        "print(\"tokens = \" + str(V))"
      ],
      "execution_count": 13,
      "outputs": [
        {
          "output_type": "stream",
          "text": [
            "tokens = 5000\n"
          ],
          "name": "stdout"
        }
      ]
    },
    {
      "cell_type": "code",
      "metadata": {
        "id": "RqLDjaKpwQxP",
        "colab_type": "code",
        "colab": {}
      },
      "source": [
        "i_layer = Input(shape = (V,))\n",
        "h_layer = Dense(254, activation='relu')(i_layer)\n",
        "h_layer = Dropout(0.9)(h_layer)\n",
        "o_layer = Dense(classes, activation='softmax')(h_layer)\n",
        "\n",
        "model = Model(i_layer, o_layer)"
      ],
      "execution_count": 0,
      "outputs": []
    },
    {
      "cell_type": "code",
      "metadata": {
        "id": "TW9j4VVFxVuS",
        "colab_type": "code",
        "colab": {}
      },
      "source": [
        "model.compile(\n",
        "    optimizer=Adagrad(0.01),\n",
        "    loss='categorical_crossentropy',\n",
        "    metrics=['accuracy'])"
      ],
      "execution_count": 0,
      "outputs": []
    },
    {
      "cell_type": "code",
      "metadata": {
        "id": "lf9hTfOGxZn5",
        "colab_type": "code",
        "outputId": "21a8b9c4-87b1-4da1-c845-fa659c8518f1",
        "colab": {
          "base_uri": "https://localhost:8080/",
          "height": 1000
        }
      },
      "source": [
        "report = model.fit(X_train, y_train, epochs = 30, validation_data=(X_test, y_test))"
      ],
      "execution_count": 16,
      "outputs": [
        {
          "output_type": "stream",
          "text": [
            "Epoch 1/30\n",
            "782/782 [==============================] - 4s 5ms/step - loss: 0.5899 - accuracy: 0.6783 - val_loss: 0.4231 - val_accuracy: 0.8364\n",
            "Epoch 2/30\n",
            "782/782 [==============================] - 4s 5ms/step - loss: 0.4481 - accuracy: 0.7916 - val_loss: 0.3602 - val_accuracy: 0.8548\n",
            "Epoch 3/30\n",
            "782/782 [==============================] - 4s 5ms/step - loss: 0.3935 - accuracy: 0.8241 - val_loss: 0.3313 - val_accuracy: 0.8631\n",
            "Epoch 4/30\n",
            "782/782 [==============================] - 4s 5ms/step - loss: 0.3596 - accuracy: 0.8458 - val_loss: 0.3125 - val_accuracy: 0.8690\n",
            "Epoch 5/30\n",
            "782/782 [==============================] - 4s 5ms/step - loss: 0.3410 - accuracy: 0.8556 - val_loss: 0.3052 - val_accuracy: 0.8722\n",
            "Epoch 6/30\n",
            "782/782 [==============================] - 4s 5ms/step - loss: 0.3198 - accuracy: 0.8686 - val_loss: 0.2968 - val_accuracy: 0.8756\n",
            "Epoch 7/30\n",
            "782/782 [==============================] - 4s 5ms/step - loss: 0.3053 - accuracy: 0.8732 - val_loss: 0.2917 - val_accuracy: 0.8782\n",
            "Epoch 8/30\n",
            "782/782 [==============================] - 4s 5ms/step - loss: 0.2953 - accuracy: 0.8774 - val_loss: 0.2876 - val_accuracy: 0.8791\n",
            "Epoch 9/30\n",
            "782/782 [==============================] - 4s 5ms/step - loss: 0.2839 - accuracy: 0.8818 - val_loss: 0.2893 - val_accuracy: 0.8762\n",
            "Epoch 10/30\n",
            "782/782 [==============================] - 4s 5ms/step - loss: 0.2708 - accuracy: 0.8912 - val_loss: 0.2826 - val_accuracy: 0.8806\n",
            "Epoch 11/30\n",
            "782/782 [==============================] - 4s 5ms/step - loss: 0.2607 - accuracy: 0.8944 - val_loss: 0.2802 - val_accuracy: 0.8818\n",
            "Epoch 12/30\n",
            "782/782 [==============================] - 4s 5ms/step - loss: 0.2525 - accuracy: 0.8976 - val_loss: 0.2788 - val_accuracy: 0.8829\n",
            "Epoch 13/30\n",
            "782/782 [==============================] - 4s 5ms/step - loss: 0.2506 - accuracy: 0.8998 - val_loss: 0.2789 - val_accuracy: 0.8812\n",
            "Epoch 14/30\n",
            "782/782 [==============================] - 4s 5ms/step - loss: 0.2364 - accuracy: 0.9067 - val_loss: 0.2773 - val_accuracy: 0.8837\n",
            "Epoch 15/30\n",
            "782/782 [==============================] - 4s 5ms/step - loss: 0.2321 - accuracy: 0.9081 - val_loss: 0.2764 - val_accuracy: 0.8843\n",
            "Epoch 16/30\n",
            "782/782 [==============================] - 4s 5ms/step - loss: 0.2284 - accuracy: 0.9104 - val_loss: 0.2761 - val_accuracy: 0.8850\n",
            "Epoch 17/30\n",
            "782/782 [==============================] - 4s 5ms/step - loss: 0.2216 - accuracy: 0.9121 - val_loss: 0.2772 - val_accuracy: 0.8848\n",
            "Epoch 18/30\n",
            "782/782 [==============================] - 4s 5ms/step - loss: 0.2170 - accuracy: 0.9149 - val_loss: 0.2763 - val_accuracy: 0.8856\n",
            "Epoch 19/30\n",
            "782/782 [==============================] - 4s 5ms/step - loss: 0.2149 - accuracy: 0.9167 - val_loss: 0.2761 - val_accuracy: 0.8859\n",
            "Epoch 20/30\n",
            "782/782 [==============================] - 4s 5ms/step - loss: 0.2073 - accuracy: 0.9210 - val_loss: 0.2764 - val_accuracy: 0.8855\n",
            "Epoch 21/30\n",
            "782/782 [==============================] - 4s 5ms/step - loss: 0.2005 - accuracy: 0.9230 - val_loss: 0.2775 - val_accuracy: 0.8850\n",
            "Epoch 22/30\n",
            "782/782 [==============================] - 4s 5ms/step - loss: 0.1956 - accuracy: 0.9248 - val_loss: 0.2777 - val_accuracy: 0.8857\n",
            "Epoch 23/30\n",
            "782/782 [==============================] - 4s 5ms/step - loss: 0.1927 - accuracy: 0.9270 - val_loss: 0.2781 - val_accuracy: 0.8854\n",
            "Epoch 24/30\n",
            "782/782 [==============================] - 4s 5ms/step - loss: 0.1890 - accuracy: 0.9288 - val_loss: 0.2787 - val_accuracy: 0.8858\n",
            "Epoch 25/30\n",
            "782/782 [==============================] - 4s 5ms/step - loss: 0.1822 - accuracy: 0.9315 - val_loss: 0.2818 - val_accuracy: 0.8852\n",
            "Epoch 26/30\n",
            "782/782 [==============================] - 4s 5ms/step - loss: 0.1794 - accuracy: 0.9327 - val_loss: 0.2805 - val_accuracy: 0.8856\n",
            "Epoch 27/30\n",
            "782/782 [==============================] - 4s 5ms/step - loss: 0.1745 - accuracy: 0.9345 - val_loss: 0.2838 - val_accuracy: 0.8859\n",
            "Epoch 28/30\n",
            "782/782 [==============================] - 4s 5ms/step - loss: 0.1746 - accuracy: 0.9343 - val_loss: 0.2840 - val_accuracy: 0.8856\n",
            "Epoch 29/30\n",
            "782/782 [==============================] - 4s 5ms/step - loss: 0.1681 - accuracy: 0.9378 - val_loss: 0.2843 - val_accuracy: 0.8858\n",
            "Epoch 30/30\n",
            "782/782 [==============================] - 4s 5ms/step - loss: 0.1663 - accuracy: 0.9381 - val_loss: 0.2844 - val_accuracy: 0.8852\n"
          ],
          "name": "stdout"
        }
      ]
    },
    {
      "cell_type": "code",
      "metadata": {
        "id": "rM-24Obb109W",
        "colab_type": "code",
        "colab": {}
      },
      "source": [
        "y_pred = model.predict(X_test)"
      ],
      "execution_count": 0,
      "outputs": []
    },
    {
      "cell_type": "code",
      "metadata": {
        "id": "9n8i58Dd1q19",
        "colab_type": "code",
        "outputId": "21231472-58c8-4ea3-9595-a8ba12837d00",
        "colab": {
          "base_uri": "https://localhost:8080/",
          "height": 517
        }
      },
      "source": [
        "evaluation_tf(report, y_test, y_pred, classes)"
      ],
      "execution_count": 20,
      "outputs": [
        {
          "output_type": "display_data",
          "data": {
            "image/png": "[encoded data removed]",
            "text/plain": [
              "<Figure size 432x288 with 1 Axes>"
            ]
          },
          "metadata": {
            "tags": [],
            "needs_background": "light"
          }
        },
        {
          "output_type": "display_data",
          "data": {
            "image/png": "[encoded data removed]",
            "text/plain": [
              "<Figure size 432x288 with 1 Axes>"
            ]
          },
          "metadata": {
            "tags": [],
            "needs_background": "light"
          }
        }
      ]
    },
    {
      "cell_type": "code",
      "metadata": {
        "id": "RRQKgGPxNUiH",
        "colab_type": "code",
        "colab": {
          "base_uri": "https://localhost:8080/",
          "height": 1000
        },
        "outputId": "4cd87e2e-6cff-4748-c243-33ece12e9ac4"
      },
      "source": [
        "callback = tf.keras.callbacks.EarlyStopping(monitor='loss', patience=3)\n",
        "\n",
        "i_layer = Input(shape = (V,))\n",
        "h_layer = Dense(254, activation='relu')(i_layer)\n",
        "h_layer = Dropout(0.9)(h_layer)\n",
        "o_layer = Dense(classes, activation='softmax')(h_layer)\n",
        "model = Model(i_layer, o_layer)\n",
        "\n",
        "\n",
        "model.compile(\n",
        "    optimizer=Adadelta(0.06),\n",
        "    loss='categorical_crossentropy',\n",
        "    metrics=['accuracy'])\n",
        "\n",
        "report = model.fit(X_train, y_train, epochs = 30, validation_data=(X_test, y_test), callbacks = [callback])\n",
        "\n"
      ],
      "execution_count": 25,
      "outputs": [
        {
          "output_type": "stream",
          "text": [
            "Epoch 1/30\n",
            "782/782 [==============================] - 4s 5ms/step - loss: 0.7050 - accuracy: 0.5558 - val_loss: 0.6249 - val_accuracy: 0.7505\n",
            "Epoch 2/30\n",
            "782/782 [==============================] - 4s 5ms/step - loss: 0.6294 - accuracy: 0.6454 - val_loss: 0.5609 - val_accuracy: 0.7936\n",
            "Epoch 3/30\n",
            "782/782 [==============================] - 4s 5ms/step - loss: 0.5758 - accuracy: 0.7042 - val_loss: 0.5006 - val_accuracy: 0.8148\n",
            "Epoch 4/30\n",
            "782/782 [==============================] - 4s 5ms/step - loss: 0.5342 - accuracy: 0.7382 - val_loss: 0.4582 - val_accuracy: 0.8273\n",
            "Epoch 5/30\n",
            "782/782 [==============================] - 4s 5ms/step - loss: 0.5004 - accuracy: 0.7604 - val_loss: 0.4276 - val_accuracy: 0.8357\n",
            "Epoch 6/30\n",
            "782/782 [==============================] - 4s 5ms/step - loss: 0.4702 - accuracy: 0.7811 - val_loss: 0.4032 - val_accuracy: 0.8418\n",
            "Epoch 7/30\n",
            "782/782 [==============================] - 4s 5ms/step - loss: 0.4459 - accuracy: 0.7978 - val_loss: 0.3849 - val_accuracy: 0.8468\n",
            "Epoch 8/30\n",
            "782/782 [==============================] - 4s 5ms/step - loss: 0.4323 - accuracy: 0.8068 - val_loss: 0.3719 - val_accuracy: 0.8516\n",
            "Epoch 9/30\n",
            "782/782 [==============================] - 4s 5ms/step - loss: 0.4177 - accuracy: 0.8163 - val_loss: 0.3609 - val_accuracy: 0.8556\n",
            "Epoch 10/30\n",
            "782/782 [==============================] - 4s 5ms/step - loss: 0.4036 - accuracy: 0.8258 - val_loss: 0.3524 - val_accuracy: 0.8574\n",
            "Epoch 11/30\n",
            "782/782 [==============================] - 4s 5ms/step - loss: 0.3939 - accuracy: 0.8300 - val_loss: 0.3453 - val_accuracy: 0.8606\n",
            "Epoch 12/30\n",
            "782/782 [==============================] - 4s 5ms/step - loss: 0.3848 - accuracy: 0.8352 - val_loss: 0.3396 - val_accuracy: 0.8620\n",
            "Epoch 13/30\n",
            "782/782 [==============================] - 4s 5ms/step - loss: 0.3740 - accuracy: 0.8403 - val_loss: 0.3342 - val_accuracy: 0.8640\n",
            "Epoch 14/30\n",
            "782/782 [==============================] - 4s 5ms/step - loss: 0.3716 - accuracy: 0.8437 - val_loss: 0.3304 - val_accuracy: 0.8650\n",
            "Epoch 15/30\n",
            "782/782 [==============================] - 4s 5ms/step - loss: 0.3619 - accuracy: 0.8492 - val_loss: 0.3266 - val_accuracy: 0.8666\n",
            "Epoch 16/30\n",
            "782/782 [==============================] - 4s 5ms/step - loss: 0.3574 - accuracy: 0.8504 - val_loss: 0.3235 - val_accuracy: 0.8689\n",
            "Epoch 17/30\n",
            "782/782 [==============================] - 4s 5ms/step - loss: 0.3481 - accuracy: 0.8561 - val_loss: 0.3206 - val_accuracy: 0.8691\n",
            "Epoch 18/30\n",
            "782/782 [==============================] - 4s 5ms/step - loss: 0.3442 - accuracy: 0.8577 - val_loss: 0.3186 - val_accuracy: 0.8702\n",
            "Epoch 19/30\n",
            "782/782 [==============================] - 4s 5ms/step - loss: 0.3421 - accuracy: 0.8616 - val_loss: 0.3165 - val_accuracy: 0.8718\n",
            "Epoch 20/30\n",
            "782/782 [==============================] - 4s 5ms/step - loss: 0.3387 - accuracy: 0.8646 - val_loss: 0.3150 - val_accuracy: 0.8729\n",
            "Epoch 21/30\n",
            "782/782 [==============================] - 4s 5ms/step - loss: 0.3353 - accuracy: 0.8659 - val_loss: 0.3134 - val_accuracy: 0.8739\n",
            "Epoch 22/30\n",
            "782/782 [==============================] - 4s 5ms/step - loss: 0.3289 - accuracy: 0.8653 - val_loss: 0.3121 - val_accuracy: 0.8757\n",
            "Epoch 23/30\n",
            "782/782 [==============================] - 4s 5ms/step - loss: 0.3268 - accuracy: 0.8697 - val_loss: 0.3109 - val_accuracy: 0.8768\n",
            "Epoch 24/30\n",
            "782/782 [==============================] - 4s 5ms/step - loss: 0.3274 - accuracy: 0.8686 - val_loss: 0.3101 - val_accuracy: 0.8772\n",
            "Epoch 25/30\n",
            "782/782 [==============================] - 4s 5ms/step - loss: 0.3245 - accuracy: 0.8747 - val_loss: 0.3091 - val_accuracy: 0.8776\n",
            "Epoch 26/30\n",
            "782/782 [==============================] - 4s 5ms/step - loss: 0.3215 - accuracy: 0.8743 - val_loss: 0.3084 - val_accuracy: 0.8779\n",
            "Epoch 27/30\n",
            "782/782 [==============================] - 4s 5ms/step - loss: 0.3167 - accuracy: 0.8763 - val_loss: 0.3076 - val_accuracy: 0.8784\n",
            "Epoch 28/30\n",
            "782/782 [==============================] - 4s 5ms/step - loss: 0.3133 - accuracy: 0.8789 - val_loss: 0.3072 - val_accuracy: 0.8790\n",
            "Epoch 29/30\n",
            "782/782 [==============================] - 4s 5ms/step - loss: 0.3158 - accuracy: 0.8759 - val_loss: 0.3067 - val_accuracy: 0.8795\n",
            "Epoch 30/30\n",
            "782/782 [==============================] - 4s 5ms/step - loss: 0.3132 - accuracy: 0.8816 - val_loss: 0.3063 - val_accuracy: 0.8799\n"
          ],
          "name": "stdout"
        }
      ]
    },
    {
      "cell_type": "code",
      "metadata": {
        "id": "tVclXR4FNc72",
        "colab_type": "code",
        "colab": {
          "base_uri": "https://localhost:8080/",
          "height": 513
        },
        "outputId": "b4f6daea-dd7b-488b-d123-ef02d21a1e69"
      },
      "source": [
        "evaluation_tf(report, y_test, y_pred, classes)"
      ],
      "execution_count": 26,
      "outputs": [
        {
          "output_type": "display_data",
          "data": {
            "image/png": "[encoded data removed]",
            "text/plain": [
              "<Figure size 432x288 with 1 Axes>"
            ]
          },
          "metadata": {
            "tags": [],
            "needs_background": "light"
          }
        },
        {
          "output_type": "display_data",
          "data": {
            "image/png": "[encoded data removed]",
            "text/plain": [
              "<Figure size 432x288 with 1 Axes>"
            ]
          },
          "metadata": {
            "tags": [],
            "needs_background": "light"
          }
        }
      ]
    }
  ]
}