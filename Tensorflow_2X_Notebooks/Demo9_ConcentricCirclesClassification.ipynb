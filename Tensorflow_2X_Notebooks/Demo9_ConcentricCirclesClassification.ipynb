{
  "nbformat": 4,
  "nbformat_minor": 0,
  "metadata": {
    "colab": {
      "name": "Demo9_ConcentricCirclesClassification.ipynb",
      "provenance": [],
      "collapsed_sections": []
    },
    "kernelspec": {
      "name": "python3",
      "display_name": "Python 3"
    }
  },
  "cells": [
    {
      "cell_type": "markdown",
      "metadata": {
        "id": "P9bJCDjdlgG6",
        "colab_type": "text"
      },
      "source": [
        "# **Spit some [tensor] flow**\n",
        "\n",
        "We need to learn the intricacies of tensorflow to master deep learning\n",
        "\n",
        "`This is how we write code`\n",
        "\n",
        "## Let's make some data to work on"
      ]
    },
    {
      "cell_type": "code",
      "metadata": {
        "id": "aQwc0re5mFld",
        "colab_type": "code",
        "outputId": "58a77563-8c85-45a1-8f2c-85edb3b6a324",
        "colab": {
          "base_uri": "https://localhost:8080/",
          "height": 35
        }
      },
      "source": [
        "import numpy as np\n",
        "import pandas as pd\n",
        "import matplotlib.pyplot as plt\n",
        "import tensorflow as tf\n",
        "print(tf.__version__)"
      ],
      "execution_count": 1,
      "outputs": [
        {
          "output_type": "stream",
          "text": [
            "2.2.0-rc4\n"
          ],
          "name": "stdout"
        }
      ]
    },
    {
      "cell_type": "code",
      "metadata": {
        "id": "qyw8HvOuBEZm",
        "colab_type": "code",
        "outputId": "a6c1ca98-cec1-40d2-9e89-07822f05e5ed",
        "colab": {
          "base_uri": "https://localhost:8080/",
          "height": 334
        }
      },
      "source": [
        "from sklearn.datasets.samples_generator import make_moons\n",
        "from sklearn.datasets.samples_generator import make_circles\n",
        "from sklearn.datasets.samples_generator import make_blobs\n",
        "# generate 2d classification dataset\n",
        "n = 10000\n",
        "X, y = make_circles(n_samples=n, noise=0.05)\n",
        "# scatter plot, dots colored by class value\n",
        "df = pd.DataFrame(dict(x=X[:,0], y=X[:,1], label=y))\n",
        "colors = {0:'red', 1:'blue'}\n",
        "fig, ax = plt.subplots()\n",
        "grouped = df.groupby('label')\n",
        "for key, group in grouped:\n",
        "    group.plot(ax=ax, kind='scatter', x='x', y='y', label=key, color=colors[key])\n",
        "plt.show()\n",
        "datadict = {'X1': X[:,0],'X2' : X[:,1], 'target': y}\n",
        "data = pd.DataFrame(data=datadict)\n"
      ],
      "execution_count": 2,
      "outputs": [
        {
          "output_type": "stream",
          "text": [
            "/usr/local/lib/python3.6/dist-packages/sklearn/utils/deprecation.py:144: FutureWarning: The sklearn.datasets.samples_generator module is  deprecated in version 0.22 and will be removed in version 0.24. The corresponding classes / functions should instead be imported from sklearn.datasets. Anything that cannot be imported from sklearn.datasets is now part of the private API.\n",
            "  warnings.warn(message, FutureWarning)\n"
          ],
          "name": "stderr"
        },
        {
          "output_type": "display_data",
          "data": {
            "image/png": "[encoded data removed]",
            "text/plain": [
              "<Figure size 432x288 with 1 Axes>"
            ]
          },
          "metadata": {
            "tags": [],
            "needs_background": "light"
          }
        }
      ]
    },
    {
      "cell_type": "code",
      "metadata": {
        "id": "7hQGKjLvBT6z",
        "colab_type": "code",
        "outputId": "85424bbf-7746-4855-e562-cd70dc5e0045",
        "colab": {
          "base_uri": "https://localhost:8080/",
          "height": 35
        }
      },
      "source": [
        "X = data.iloc[:,[0, 1]].values\n",
        "type(X)"
      ],
      "execution_count": 3,
      "outputs": [
        {
          "output_type": "execute_result",
          "data": {
            "text/plain": [
              "numpy.ndarray"
            ]
          },
          "metadata": {
            "tags": []
          },
          "execution_count": 3
        }
      ]
    },
    {
      "cell_type": "code",
      "metadata": {
        "id": "ovyPUHaZBqu8",
        "colab_type": "code",
        "colab": {}
      },
      "source": [
        "y = data.target.values"
      ],
      "execution_count": 0,
      "outputs": []
    },
    {
      "cell_type": "code",
      "metadata": {
        "id": "BSOcVLhKCGOa",
        "colab_type": "code",
        "colab": {}
      },
      "source": [
        "# TRAIN TEST SPLIT\n",
        "from sklearn.model_selection import train_test_split\n",
        "\n",
        "X_train, X_test, y_train, y_test = train_test_split(X, y, test_size = 0.2)"
      ],
      "execution_count": 0,
      "outputs": []
    },
    {
      "cell_type": "code",
      "metadata": {
        "id": "bqh-eNkNCb7D",
        "colab_type": "code",
        "colab": {}
      },
      "source": [
        "N, D = X_train.shape"
      ],
      "execution_count": 0,
      "outputs": []
    },
    {
      "cell_type": "code",
      "metadata": {
        "id": "WA8o1DP8CvGT",
        "colab_type": "code",
        "colab": {}
      },
      "source": [
        "from sklearn.preprocessing import StandardScaler \n",
        "scaleObj = StandardScaler()\n",
        "X_train = scaleObj.fit_transform(X_train)\n",
        "X_test = scaleObj.transform(X_test)\n"
      ],
      "execution_count": 0,
      "outputs": []
    },
    {
      "cell_type": "code",
      "metadata": {
        "id": "mIv1FdhRDRrc",
        "colab_type": "code",
        "outputId": "2cb02405-a28b-4dad-87c5-2ad4e090895c",
        "colab": {
          "base_uri": "https://localhost:8080/",
          "height": 1000
        }
      },
      "source": [
        "from tensorflow.keras.layers import Input, Dense, Activation,Dropout\n",
        "from tensorflow.keras.models import Model\n",
        "\n",
        "input_layer = Input(shape=(D,))\n",
        "dense_layer_1 = Dense(20, activation='relu')(input_layer)\n",
        "dense_layer_2 = Dense(20, activation='relu')(input_layer)\n",
        "output = Dense(1, activation='sigmoid')(dense_layer_2)\n",
        "\n",
        "model = Model(inputs=input_layer, outputs=output)\n",
        "\n",
        "model.compile(\n",
        "    optimizer = 'adam',\n",
        "    loss = 'binary_crossentropy',\n",
        "    metrics = ['accuracy']\n",
        ")\n",
        "\n",
        "# https://www.tensorflow.org/api_docs/python/tf/keras/callbacks/LearningRateScheduler\n",
        "def scheduler(epoch):\n",
        "  if epoch < 10:\n",
        "    return 0.001\n",
        "  else:\n",
        "    return 0.001 * tf.math.exp(0.1 * (10 - epoch))\n",
        "\n",
        "\n",
        "callback = tf.keras.callbacks.LearningRateScheduler(scheduler)\n",
        "\n",
        "report = model.fit(X_train, y_train, validation_data=(X_test, y_test), epochs=50)"
      ],
      "execution_count": 8,
      "outputs": [
        {
          "output_type": "stream",
          "text": [
            "Epoch 1/50\n",
            "250/250 [==============================] - 1s 2ms/step - loss: 0.6863 - accuracy: 0.5136 - val_loss: 0.6788 - val_accuracy: 0.5445\n",
            "Epoch 2/50\n",
            "250/250 [==============================] - 0s 1ms/step - loss: 0.6729 - accuracy: 0.5391 - val_loss: 0.6651 - val_accuracy: 0.5715\n",
            "Epoch 3/50\n",
            "250/250 [==============================] - 0s 1ms/step - loss: 0.6575 - accuracy: 0.6488 - val_loss: 0.6478 - val_accuracy: 0.6310\n",
            "Epoch 4/50\n",
            "250/250 [==============================] - 0s 1ms/step - loss: 0.6366 - accuracy: 0.7828 - val_loss: 0.6248 - val_accuracy: 0.7325\n",
            "Epoch 5/50\n",
            "250/250 [==============================] - 0s 1ms/step - loss: 0.6084 - accuracy: 0.8597 - val_loss: 0.5926 - val_accuracy: 0.9200\n",
            "Epoch 6/50\n",
            "250/250 [==============================] - 0s 1ms/step - loss: 0.5772 - accuracy: 0.9337 - val_loss: 0.5617 - val_accuracy: 0.9145\n",
            "Epoch 7/50\n",
            "250/250 [==============================] - 0s 1ms/step - loss: 0.5441 - accuracy: 0.9461 - val_loss: 0.5270 - val_accuracy: 0.9635\n",
            "Epoch 8/50\n",
            "250/250 [==============================] - 0s 1ms/step - loss: 0.5094 - accuracy: 0.9580 - val_loss: 0.4927 - val_accuracy: 0.9640\n",
            "Epoch 9/50\n",
            "250/250 [==============================] - 0s 1ms/step - loss: 0.4741 - accuracy: 0.9616 - val_loss: 0.4594 - val_accuracy: 0.9585\n",
            "Epoch 10/50\n",
            "250/250 [==============================] - 0s 1ms/step - loss: 0.4401 - accuracy: 0.9647 - val_loss: 0.4244 - val_accuracy: 0.9680\n",
            "Epoch 11/50\n",
            "250/250 [==============================] - 0s 1ms/step - loss: 0.4076 - accuracy: 0.9676 - val_loss: 0.3935 - val_accuracy: 0.9700\n",
            "Epoch 12/50\n",
            "250/250 [==============================] - 0s 1ms/step - loss: 0.3772 - accuracy: 0.9693 - val_loss: 0.3654 - val_accuracy: 0.9640\n",
            "Epoch 13/50\n",
            "250/250 [==============================] - 0s 1ms/step - loss: 0.3499 - accuracy: 0.9701 - val_loss: 0.3399 - val_accuracy: 0.9680\n",
            "Epoch 14/50\n",
            "250/250 [==============================] - 0s 1ms/step - loss: 0.3247 - accuracy: 0.9711 - val_loss: 0.3149 - val_accuracy: 0.9690\n",
            "Epoch 15/50\n",
            "250/250 [==============================] - 0s 1ms/step - loss: 0.3022 - accuracy: 0.9712 - val_loss: 0.2933 - val_accuracy: 0.9730\n",
            "Epoch 16/50\n",
            "250/250 [==============================] - 0s 2ms/step - loss: 0.2819 - accuracy: 0.9725 - val_loss: 0.2739 - val_accuracy: 0.9720\n",
            "Epoch 17/50\n",
            "250/250 [==============================] - 0s 1ms/step - loss: 0.2640 - accuracy: 0.9730 - val_loss: 0.2579 - val_accuracy: 0.9715\n",
            "Epoch 18/50\n",
            "250/250 [==============================] - 0s 1ms/step - loss: 0.2477 - accuracy: 0.9718 - val_loss: 0.2408 - val_accuracy: 0.9720\n",
            "Epoch 19/50\n",
            "250/250 [==============================] - 0s 2ms/step - loss: 0.2329 - accuracy: 0.9724 - val_loss: 0.2279 - val_accuracy: 0.9745\n",
            "Epoch 20/50\n",
            "250/250 [==============================] - 0s 1ms/step - loss: 0.2197 - accuracy: 0.9720 - val_loss: 0.2142 - val_accuracy: 0.9730\n",
            "Epoch 21/50\n",
            "250/250 [==============================] - 0s 2ms/step - loss: 0.2080 - accuracy: 0.9724 - val_loss: 0.2035 - val_accuracy: 0.9720\n",
            "Epoch 22/50\n",
            "250/250 [==============================] - 0s 2ms/step - loss: 0.1974 - accuracy: 0.9726 - val_loss: 0.1932 - val_accuracy: 0.9735\n",
            "Epoch 23/50\n",
            "250/250 [==============================] - 0s 1ms/step - loss: 0.1878 - accuracy: 0.9732 - val_loss: 0.1846 - val_accuracy: 0.9745\n",
            "Epoch 24/50\n",
            "250/250 [==============================] - 0s 1ms/step - loss: 0.1793 - accuracy: 0.9736 - val_loss: 0.1757 - val_accuracy: 0.9750\n",
            "Epoch 25/50\n",
            "250/250 [==============================] - 0s 2ms/step - loss: 0.1717 - accuracy: 0.9736 - val_loss: 0.1682 - val_accuracy: 0.9750\n",
            "Epoch 26/50\n",
            "250/250 [==============================] - 0s 2ms/step - loss: 0.1646 - accuracy: 0.9721 - val_loss: 0.1628 - val_accuracy: 0.9725\n",
            "Epoch 27/50\n",
            "250/250 [==============================] - 0s 2ms/step - loss: 0.1584 - accuracy: 0.9736 - val_loss: 0.1577 - val_accuracy: 0.9725\n",
            "Epoch 28/50\n",
            "250/250 [==============================] - 0s 1ms/step - loss: 0.1529 - accuracy: 0.9735 - val_loss: 0.1513 - val_accuracy: 0.9735\n",
            "Epoch 29/50\n",
            "250/250 [==============================] - 0s 2ms/step - loss: 0.1472 - accuracy: 0.9745 - val_loss: 0.1453 - val_accuracy: 0.9735\n",
            "Epoch 30/50\n",
            "250/250 [==============================] - 0s 2ms/step - loss: 0.1426 - accuracy: 0.9751 - val_loss: 0.1407 - val_accuracy: 0.9750\n",
            "Epoch 31/50\n",
            "250/250 [==============================] - 0s 1ms/step - loss: 0.1383 - accuracy: 0.9747 - val_loss: 0.1370 - val_accuracy: 0.9745\n",
            "Epoch 32/50\n",
            "250/250 [==============================] - 0s 1ms/step - loss: 0.1343 - accuracy: 0.9744 - val_loss: 0.1333 - val_accuracy: 0.9745\n",
            "Epoch 33/50\n",
            "250/250 [==============================] - 0s 1ms/step - loss: 0.1307 - accuracy: 0.9735 - val_loss: 0.1297 - val_accuracy: 0.9730\n",
            "Epoch 34/50\n",
            "250/250 [==============================] - 0s 1ms/step - loss: 0.1276 - accuracy: 0.9735 - val_loss: 0.1262 - val_accuracy: 0.9740\n",
            "Epoch 35/50\n",
            "250/250 [==============================] - 0s 1ms/step - loss: 0.1242 - accuracy: 0.9737 - val_loss: 0.1229 - val_accuracy: 0.9740\n",
            "Epoch 36/50\n",
            "250/250 [==============================] - 0s 2ms/step - loss: 0.1211 - accuracy: 0.9737 - val_loss: 0.1211 - val_accuracy: 0.9745\n",
            "Epoch 37/50\n",
            "250/250 [==============================] - 0s 1ms/step - loss: 0.1188 - accuracy: 0.9734 - val_loss: 0.1175 - val_accuracy: 0.9740\n",
            "Epoch 38/50\n",
            "250/250 [==============================] - 0s 1ms/step - loss: 0.1162 - accuracy: 0.9743 - val_loss: 0.1149 - val_accuracy: 0.9750\n",
            "Epoch 39/50\n",
            "250/250 [==============================] - 0s 1ms/step - loss: 0.1140 - accuracy: 0.9739 - val_loss: 0.1128 - val_accuracy: 0.9740\n",
            "Epoch 40/50\n",
            "250/250 [==============================] - 0s 1ms/step - loss: 0.1117 - accuracy: 0.9740 - val_loss: 0.1112 - val_accuracy: 0.9740\n",
            "Epoch 41/50\n",
            "250/250 [==============================] - 0s 2ms/step - loss: 0.1098 - accuracy: 0.9735 - val_loss: 0.1096 - val_accuracy: 0.9735\n",
            "Epoch 42/50\n",
            "250/250 [==============================] - 0s 1ms/step - loss: 0.1080 - accuracy: 0.9746 - val_loss: 0.1079 - val_accuracy: 0.9750\n",
            "Epoch 43/50\n",
            "250/250 [==============================] - 0s 1ms/step - loss: 0.1062 - accuracy: 0.9739 - val_loss: 0.1053 - val_accuracy: 0.9750\n",
            "Epoch 44/50\n",
            "250/250 [==============================] - 0s 1ms/step - loss: 0.1046 - accuracy: 0.9746 - val_loss: 0.1043 - val_accuracy: 0.9755\n",
            "Epoch 45/50\n",
            "250/250 [==============================] - 0s 1ms/step - loss: 0.1030 - accuracy: 0.9743 - val_loss: 0.1030 - val_accuracy: 0.9745\n",
            "Epoch 46/50\n",
            "250/250 [==============================] - 0s 1ms/step - loss: 0.1018 - accuracy: 0.9746 - val_loss: 0.1009 - val_accuracy: 0.9750\n",
            "Epoch 47/50\n",
            "250/250 [==============================] - 0s 1ms/step - loss: 0.1002 - accuracy: 0.9749 - val_loss: 0.0997 - val_accuracy: 0.9750\n",
            "Epoch 48/50\n",
            "250/250 [==============================] - 0s 1ms/step - loss: 0.0989 - accuracy: 0.9731 - val_loss: 0.0992 - val_accuracy: 0.9745\n",
            "Epoch 49/50\n",
            "250/250 [==============================] - 0s 1ms/step - loss: 0.0980 - accuracy: 0.9743 - val_loss: 0.0977 - val_accuracy: 0.9745\n",
            "Epoch 50/50\n",
            "250/250 [==============================] - 0s 1ms/step - loss: 0.0965 - accuracy: 0.9736 - val_loss: 0.0980 - val_accuracy: 0.9725\n"
          ],
          "name": "stdout"
        }
      ]
    },
    {
      "cell_type": "code",
      "metadata": {
        "id": "MSj0kifiSDfW",
        "colab_type": "code",
        "outputId": "6a8076b3-6ed6-47ea-ebe1-3bc605937115",
        "colab": {
          "base_uri": "https://localhost:8080/",
          "height": 283
        }
      },
      "source": [
        "plt.plot(report.history['loss'], label=\"loss = SGD\")"
      ],
      "execution_count": 9,
      "outputs": [
        {
          "output_type": "execute_result",
          "data": {
            "text/plain": [
              "[<matplotlib.lines.Line2D at 0x7f3a74c18940>]"
            ]
          },
          "metadata": {
            "tags": []
          },
          "execution_count": 9
        },
        {
          "output_type": "display_data",
          "data": {
            "image/png": "[encoded data removed]",
            "text/plain": [
              "<Figure size 432x288 with 1 Axes>"
            ]
          },
          "metadata": {
            "tags": [],
            "needs_background": "light"
          }
        }
      ]
    },
    {
      "cell_type": "code",
      "metadata": {
        "id": "JgHtyGJCtS-_",
        "colab_type": "code",
        "outputId": "9a2d2e22-c816-45f1-9be5-5d0f8448d3b9",
        "colab": {
          "base_uri": "https://localhost:8080/",
          "height": 52
        }
      },
      "source": [
        "print(X.shape)\n",
        "print(y.shape)"
      ],
      "execution_count": 10,
      "outputs": [
        {
          "output_type": "stream",
          "text": [
            "(10000, 2)\n",
            "(10000,)\n"
          ],
          "name": "stdout"
        }
      ]
    },
    {
      "cell_type": "code",
      "metadata": {
        "id": "yt3ghC0xt1oF",
        "colab_type": "code",
        "colab": {}
      },
      "source": [
        "y_predicted = model.predict(X)"
      ],
      "execution_count": 0,
      "outputs": []
    },
    {
      "cell_type": "code",
      "metadata": {
        "id": "YkSm0fifC78S",
        "colab_type": "code",
        "outputId": "ebffece6-6ed1-414f-8a7c-9d8a45daf83f",
        "colab": {
          "base_uri": "https://localhost:8080/",
          "height": 350
        }
      },
      "source": [
        "# Visualising the results\n",
        "from matplotlib.colors import ListedColormap\n",
        "X_set, y_set = X_train, y_train\n",
        "X1, X2 = np.meshgrid(np.arange(start = X_set[:, 0].min() - 1, stop = X_set[:, 0].max() + 1, step = 0.01),\n",
        "                     np.arange(start = X_set[:, 1].min() - 1, stop = X_set[:, 1].max() + 1, step = 0.01))\n",
        "plt.contourf(X1, X2, model.predict(np.array([X1.ravel(), X2.ravel()]).T).reshape(X1.shape),\n",
        "             alpha = 0.75, cmap = ListedColormap(('pink', 'cyan')))\n",
        "plt.xlim(X1.min(), X1.max())\n",
        "plt.ylim(X2.min(), X2.max())\n",
        "for i, j in enumerate(np.unique(y_set)):\n",
        "    plt.scatter(X_set[y_set == j, 0], X_set[y_set == j, 1],\n",
        "                c = ListedColormap(('red', 'blue'))(i), label = j)\n",
        "plt.title('Model')\n",
        "plt.xlabel('X')\n",
        "plt.ylabel('y')\n",
        "plt.legend()\n",
        "plt.show()"
      ],
      "execution_count": 17,
      "outputs": [
        {
          "output_type": "stream",
          "text": [
            "'c' argument looks like a single numeric RGB or RGBA sequence, which should be avoided as value-mapping will have precedence in case its length matches with 'x' & 'y'.  Please use a 2-D array with a single row if you really want to specify the same RGB or RGBA value for all points.\n",
            "'c' argument looks like a single numeric RGB or RGBA sequence, which should be avoided as value-mapping will have precedence in case its length matches with 'x' & 'y'.  Please use a 2-D array with a single row if you really want to specify the same RGB or RGBA value for all points.\n"
          ],
          "name": "stderr"
        },
        {
          "output_type": "display_data",
          "data": {
            "image/png": "[encoded data removed]",
            "text/plain": [
              "<Figure size 432x288 with 1 Axes>"
            ]
          },
          "metadata": {
            "tags": [],
            "needs_background": "light"
          }
        }
      ]
    },
    {
      "cell_type": "code",
      "metadata": {
        "id": "dJ-VvORYRRI9",
        "colab_type": "code",
        "colab": {
          "base_uri": "https://localhost:8080/",
          "height": 313
        },
        "outputId": "5d65bc46-5321-4723-ce02-510d652b60d8"
      },
      "source": [
        "# Visualising the results\n",
        "from matplotlib.colors import ListedColormap\n",
        "X_set, y_set = X_train, y_train\n",
        "X1, X2 = np.meshgrid(np.arange(start = X_set[:, 0].min() - 1, stop = X_set[:, 0].max() + 1, step = 0.01),\n",
        "                     np.arange(start = X_set[:, 1].min() - 1, stop = X_set[:, 1].max() + 1, step = 0.01))\n",
        "plt.contourf(X1, X2, model.predict(np.array([X1.ravel(), X2.ravel()]).T).reshape(X1.shape),\n",
        "             alpha = 0.75, cmap = ListedColormap(('pink', 'cyan')))\n",
        "plt.xlim(X1.min(), X1.max())\n",
        "plt.ylim(X2.min(), X2.max())\n",
        "plt.title('Model')\n",
        "plt.xlabel('X')\n",
        "plt.ylabel('y')\n",
        "plt.legend()\n",
        "plt.show()"
      ],
      "execution_count": 18,
      "outputs": [
        {
          "output_type": "stream",
          "text": [
            "No handles with labels found to put in legend.\n"
          ],
          "name": "stderr"
        },
        {
          "output_type": "display_data",
          "data": {
            "image/png": "[encoded data removed]",
            "text/plain": [
              "<Figure size 432x288 with 1 Axes>"
            ]
          },
          "metadata": {
            "tags": [],
            "needs_background": "light"
          }
        }
      ]
    },
    {
      "cell_type": "code",
      "metadata": {
        "id": "LuietUFpEG5a",
        "colab_type": "code",
        "outputId": "d6c45246-2a4d-4c5e-ea47-0f510fc3cd41",
        "colab": {
          "base_uri": "https://localhost:8080/",
          "height": 87
        }
      },
      "source": [
        "print(\"Train eval: \", model.evaluate(X_train, y_train))\n",
        "print(\"Test eval: \", model.evaluate(X_test, y_test))"
      ],
      "execution_count": 19,
      "outputs": [
        {
          "output_type": "stream",
          "text": [
            "250/250 [==============================] - 0s 1ms/step - loss: 0.0969 - accuracy: 0.9736\n",
            "Train eval:  [0.09693623334169388, 0.9736250042915344]\n",
            "63/63 [==============================] - 0s 1ms/step - loss: 0.0980 - accuracy: 0.9725\n",
            "Test eval:  [0.09803852438926697, 0.9725000262260437]\n"
          ],
          "name": "stdout"
        }
      ]
    }
  ]
}