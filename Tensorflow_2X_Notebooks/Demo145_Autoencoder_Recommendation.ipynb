{
  "nbformat": 4,
  "nbformat_minor": 0,
  "metadata": {
    "colab": {
      "name": "Demo145_Autoencoder_Recommendation.ipynb",
      "provenance": [],
      "collapsed_sections": []
    },
    "kernelspec": {
      "name": "python3",
      "display_name": "Python 3"
    }
  },
  "cells": [
    {
      "cell_type": "markdown",
      "metadata": {
        "id": "P9bJCDjdlgG6",
        "colab_type": "text"
      },
      "source": [
        "# **Spit some [tensor] flow**\n",
        "\n",
        "We need to learn the intricacies of tensorflow to master deep learning\n",
        "\n"
      ]
    },
    {
      "cell_type": "code",
      "metadata": {
        "id": "aQwc0re5mFld",
        "colab_type": "code",
        "outputId": "d7beb7a4-9a31-4e8d-ef9b-09c360aa08d8",
        "colab": {
          "base_uri": "https://localhost:8080/",
          "height": 34
        }
      },
      "source": [
        "import numpy as np\n",
        "import pandas as pd\n",
        "import matplotlib.pyplot as plt\n",
        "import tensorflow as tf\n",
        "import cv2\n",
        "print(tf.__version__)"
      ],
      "execution_count": 1,
      "outputs": [
        {
          "output_type": "stream",
          "text": [
            "2.2.0\n"
          ],
          "name": "stdout"
        }
      ]
    },
    {
      "cell_type": "code",
      "metadata": {
        "id": "MP_w4xEofx3c",
        "colab_type": "code",
        "colab": {
          "base_uri": "https://localhost:8080/",
          "height": 210
        },
        "outputId": "eb23e450-e5d8-4d1c-e62c-70150e406caa"
      },
      "source": [
        "!wget http://files.grouplens.org/datasets/movielens/ml-1m.zip"
      ],
      "execution_count": 2,
      "outputs": [
        {
          "output_type": "stream",
          "text": [
            "--2020-06-08 19:59:26--  http://files.grouplens.org/datasets/movielens/ml-1m.zip\n",
            "Resolving files.grouplens.org (files.grouplens.org)... 128.101.65.152\n",
            "Connecting to files.grouplens.org (files.grouplens.org)|128.101.65.152|:80... connected.\n",
            "HTTP request sent, awaiting response... 200 OK\n",
            "Length: 5917549 (5.6M) [application/zip]\n",
            "Saving to: ‘ml-1m.zip.1’\n",
            "\n",
            "ml-1m.zip.1         100%[===================>]   5.64M  4.15MB/s    in 1.4s    \n",
            "\n",
            "2020-06-08 19:59:28 (4.15 MB/s) - ‘ml-1m.zip.1’ saved [5917549/5917549]\n",
            "\n"
          ],
          "name": "stdout"
        }
      ]
    },
    {
      "cell_type": "code",
      "metadata": {
        "id": "w26QN593gHt5",
        "colab_type": "code",
        "colab": {
          "base_uri": "https://localhost:8080/",
          "height": 34
        },
        "outputId": "67ee40a7-68a7-41a6-aea4-8d765aa69e85"
      },
      "source": [
        "!ls"
      ],
      "execution_count": 3,
      "outputs": [
        {
          "output_type": "stream",
          "text": [
            "ml-1m  ml-1m.zip  ml-1m.zip.1  sample_data\n"
          ],
          "name": "stdout"
        }
      ]
    },
    {
      "cell_type": "code",
      "metadata": {
        "id": "0wGxyUgOfz6n",
        "colab_type": "code",
        "colab": {
          "base_uri": "https://localhost:8080/",
          "height": 122
        },
        "outputId": "b5bd7b54-c2ca-4bab-8f64-0fabddb645fa"
      },
      "source": [
        "!unzip ml-1m.zip"
      ],
      "execution_count": 4,
      "outputs": [
        {
          "output_type": "stream",
          "text": [
            "Archive:  ml-1m.zip\n",
            "replace ml-1m/movies.dat? [y]es, [n]o, [A]ll, [N]one, [r]ename: A\n",
            "  inflating: ml-1m/movies.dat        \n",
            "  inflating: ml-1m/ratings.dat       \n",
            "  inflating: ml-1m/README            \n",
            "  inflating: ml-1m/users.dat         \n"
          ],
          "name": "stdout"
        }
      ]
    },
    {
      "cell_type": "code",
      "metadata": {
        "id": "pPXSZos2f3Rf",
        "colab_type": "code",
        "colab": {
          "base_uri": "https://localhost:8080/",
          "height": 34
        },
        "outputId": "6a92853c-68be-4295-8f4d-a19e57c1d0cc"
      },
      "source": [
        "!ls"
      ],
      "execution_count": 5,
      "outputs": [
        {
          "output_type": "stream",
          "text": [
            "ml-1m  ml-1m.zip  ml-1m.zip.1  sample_data\n"
          ],
          "name": "stdout"
        }
      ]
    },
    {
      "cell_type": "code",
      "metadata": {
        "id": "1qmklX7pg6Yf",
        "colab_type": "code",
        "colab": {}
      },
      "source": [
        "movies = pd.read_csv('ml-1m/movies.dat', sep = '::', header = None, engine = 'python', encoding = 'latin-1')\n",
        "users = pd.read_csv('ml-1m/users.dat', sep = '::', header = None, engine = 'python', encoding = 'latin-1')\n",
        "ratings = pd.read_csv('ml-1m/ratings.dat', sep = '::', header = None, engine = 'python', encoding = 'latin-1')"
      ],
      "execution_count": 0,
      "outputs": []
    },
    {
      "cell_type": "code",
      "metadata": {
        "id": "36Vah457i_KJ",
        "colab_type": "code",
        "colab": {
          "base_uri": "https://localhost:8080/",
          "height": 210
        },
        "outputId": "400d0524-11ca-4f4b-95b7-8efc91bb7027"
      },
      "source": [
        "!wget http://files.grouplens.org/datasets/movielens/ml-100k.zip"
      ],
      "execution_count": 12,
      "outputs": [
        {
          "output_type": "stream",
          "text": [
            "--2020-06-08 20:08:02--  http://files.grouplens.org/datasets/movielens/ml-100k.zip\n",
            "Resolving files.grouplens.org (files.grouplens.org)... 128.101.65.152\n",
            "Connecting to files.grouplens.org (files.grouplens.org)|128.101.65.152|:80... connected.\n",
            "HTTP request sent, awaiting response... 200 OK\n",
            "Length: 4924029 (4.7M) [application/zip]\n",
            "Saving to: ‘ml-100k.zip’\n",
            "\n",
            "ml-100k.zip         100%[===================>]   4.70M  3.46MB/s    in 1.4s    \n",
            "\n",
            "2020-06-08 20:08:04 (3.46 MB/s) - ‘ml-100k.zip’ saved [4924029/4924029]\n",
            "\n"
          ],
          "name": "stdout"
        }
      ]
    },
    {
      "cell_type": "code",
      "metadata": {
        "id": "KriKrQZhjBhn",
        "colab_type": "code",
        "colab": {
          "base_uri": "https://localhost:8080/",
          "height": 457
        },
        "outputId": "94f03b7d-f303-4144-c6ed-a60692054a54"
      },
      "source": [
        "!unzip ml-100k.zip"
      ],
      "execution_count": 13,
      "outputs": [
        {
          "output_type": "stream",
          "text": [
            "Archive:  ml-100k.zip\n",
            "   creating: ml-100k/\n",
            "  inflating: ml-100k/allbut.pl       \n",
            "  inflating: ml-100k/mku.sh          \n",
            "  inflating: ml-100k/README          \n",
            "  inflating: ml-100k/u.data          \n",
            "  inflating: ml-100k/u.genre         \n",
            "  inflating: ml-100k/u.info          \n",
            "  inflating: ml-100k/u.item          \n",
            "  inflating: ml-100k/u.occupation    \n",
            "  inflating: ml-100k/u.user          \n",
            "  inflating: ml-100k/u1.base         \n",
            "  inflating: ml-100k/u1.test         \n",
            "  inflating: ml-100k/u2.base         \n",
            "  inflating: ml-100k/u2.test         \n",
            "  inflating: ml-100k/u3.base         \n",
            "  inflating: ml-100k/u3.test         \n",
            "  inflating: ml-100k/u4.base         \n",
            "  inflating: ml-100k/u4.test         \n",
            "  inflating: ml-100k/u5.base         \n",
            "  inflating: ml-100k/u5.test         \n",
            "  inflating: ml-100k/ua.base         \n",
            "  inflating: ml-100k/ua.test         \n",
            "  inflating: ml-100k/ub.base         \n",
            "  inflating: ml-100k/ub.test         \n"
          ],
          "name": "stdout"
        }
      ]
    },
    {
      "cell_type": "code",
      "metadata": {
        "id": "FT7wTs2njOlI",
        "colab_type": "code",
        "colab": {}
      },
      "source": [
        "training_set = pd.read_csv('ml-100k/u1.base', delimiter = '\\t')\n",
        "training_set = np.array(training_set, dtype = 'int')\n",
        "test_set = pd.read_csv('ml-100k/u1.test', delimiter = '\\t')\n",
        "test_set = np.array(test_set, dtype = 'int')\n"
      ],
      "execution_count": 0,
      "outputs": []
    },
    {
      "cell_type": "code",
      "metadata": {
        "id": "WnuM8nAWk-jf",
        "colab_type": "code",
        "colab": {
          "base_uri": "https://localhost:8080/",
          "height": 34
        },
        "outputId": "4fc431a0-92bf-4a8e-ef88-a7aa287a6b4a"
      },
      "source": [
        "training_set.shape"
      ],
      "execution_count": 35,
      "outputs": [
        {
          "output_type": "execute_result",
          "data": {
            "text/plain": [
              "(79999, 4)"
            ]
          },
          "metadata": {
            "tags": []
          },
          "execution_count": 35
        }
      ]
    },
    {
      "cell_type": "code",
      "metadata": {
        "id": "vo8yjd8Mk9Fv",
        "colab_type": "code",
        "colab": {
          "base_uri": "https://localhost:8080/",
          "height": 34
        },
        "outputId": "b7b2f2ee-5fdd-4ff1-c6ae-fc80e2967156"
      },
      "source": [
        "test_set.shape"
      ],
      "execution_count": 34,
      "outputs": [
        {
          "output_type": "execute_result",
          "data": {
            "text/plain": [
              "(19999, 4)"
            ]
          },
          "metadata": {
            "tags": []
          },
          "execution_count": 34
        }
      ]
    },
    {
      "cell_type": "code",
      "metadata": {
        "id": "sCrxGMhvjsno",
        "colab_type": "code",
        "colab": {}
      },
      "source": [
        "num_users = int(max(max(training_set[:,0]), max(test_set[:,0])))\n",
        "num_movies = int(max(max(training_set[:,1]), max(test_set[:,1])))"
      ],
      "execution_count": 0,
      "outputs": []
    },
    {
      "cell_type": "code",
      "metadata": {
        "id": "RVrzB5e0jRHe",
        "colab_type": "code",
        "colab": {}
      },
      "source": [
        "def transform(data):\n",
        "    transformed = []\n",
        "    for user_id in range(1, num_users + 1):\n",
        "        id_movies = data[:,1][data[:,0] == user_id]\n",
        "        id_ratings = data[:,2][data[:,0] == user_id]\n",
        "        ratings = np.zeros(num_movies)\n",
        "        ratings[id_movies - 1] = id_ratings\n",
        "        transformed.append(list(ratings))\n",
        "    return transformed\n"
      ],
      "execution_count": 0,
      "outputs": []
    },
    {
      "cell_type": "code",
      "metadata": {
        "id": "2bnXqYE3jUF_",
        "colab_type": "code",
        "colab": {}
      },
      "source": [
        "training_set = transform(training_set)\n",
        "test_set = transform(test_set)"
      ],
      "execution_count": 0,
      "outputs": []
    },
    {
      "cell_type": "code",
      "metadata": {
        "id": "f_p5wXexj2ck",
        "colab_type": "code",
        "colab": {
          "base_uri": "https://localhost:8080/",
          "height": 34
        },
        "outputId": "13731c4e-787d-436f-fcd9-24b446e14a94"
      },
      "source": [
        "len(training_set)"
      ],
      "execution_count": 39,
      "outputs": [
        {
          "output_type": "execute_result",
          "data": {
            "text/plain": [
              "943"
            ]
          },
          "metadata": {
            "tags": []
          },
          "execution_count": 39
        }
      ]
    },
    {
      "cell_type": "code",
      "metadata": {
        "id": "Xbm393v0j-7v",
        "colab_type": "code",
        "colab": {
          "base_uri": "https://localhost:8080/",
          "height": 34
        },
        "outputId": "3da18819-1f1f-4b79-f6e7-9a9ffdc371e5"
      },
      "source": [
        "len(training_set[0])"
      ],
      "execution_count": 40,
      "outputs": [
        {
          "output_type": "execute_result",
          "data": {
            "text/plain": [
              "1682"
            ]
          },
          "metadata": {
            "tags": []
          },
          "execution_count": 40
        }
      ]
    },
    {
      "cell_type": "code",
      "metadata": {
        "id": "lGfYd5qxkE53",
        "colab_type": "code",
        "colab": {
          "base_uri": "https://localhost:8080/",
          "height": 34
        },
        "outputId": "d7b699ab-bd3a-4eb4-82c4-a3ddd2a1b7c4"
      },
      "source": [
        "num_movies"
      ],
      "execution_count": 41,
      "outputs": [
        {
          "output_type": "execute_result",
          "data": {
            "text/plain": [
              "1682"
            ]
          },
          "metadata": {
            "tags": []
          },
          "execution_count": 41
        }
      ]
    },
    {
      "cell_type": "code",
      "metadata": {
        "id": "CaBxIWkog_i-",
        "colab_type": "code",
        "colab": {}
      },
      "source": [
        "from tensorflow.keras.layers import Input, Dropout, Dense\n",
        "from tensorflow.keras.models import Model"
      ],
      "execution_count": 0,
      "outputs": []
    },
    {
      "cell_type": "code",
      "metadata": {
        "id": "kOcsQFYwkngQ",
        "colab_type": "code",
        "colab": {}
      },
      "source": [
        "X_train = np.array(training_set)\n",
        "X_test = np.array(test_set)"
      ],
      "execution_count": 0,
      "outputs": []
    },
    {
      "cell_type": "code",
      "metadata": {
        "id": "IBVVrC-znpYd",
        "colab_type": "code",
        "outputId": "0f64c203-bc25-4de3-f5ec-9dbeae132b7d",
        "colab": {
          "base_uri": "https://localhost:8080/",
          "height": 52
        }
      },
      "source": [
        "print(X_train.shape)\n",
        "print(X_test.shape)"
      ],
      "execution_count": 44,
      "outputs": [
        {
          "output_type": "stream",
          "text": [
            "(943, 1682)\n",
            "(943, 1682)\n"
          ],
          "name": "stdout"
        }
      ]
    },
    {
      "cell_type": "code",
      "metadata": {
        "id": "lU69-vZIlMS4",
        "colab_type": "code",
        "colab": {
          "base_uri": "https://localhost:8080/",
          "height": 34
        },
        "outputId": "d2a39097-2cec-42e7-c342-cbaadab0e244"
      },
      "source": [
        "num_users"
      ],
      "execution_count": 45,
      "outputs": [
        {
          "output_type": "execute_result",
          "data": {
            "text/plain": [
              "943"
            ]
          },
          "metadata": {
            "tags": []
          },
          "execution_count": 45
        }
      ]
    },
    {
      "cell_type": "code",
      "metadata": {
        "id": "Z42Ozm3Np5me",
        "colab_type": "code",
        "outputId": "63d8c541-96fa-4b88-d17c-9dca8381db12",
        "colab": {
          "base_uri": "https://localhost:8080/",
          "height": 34
        }
      },
      "source": [
        "X_train[0].shape"
      ],
      "execution_count": 46,
      "outputs": [
        {
          "output_type": "execute_result",
          "data": {
            "text/plain": [
              "(1682,)"
            ]
          },
          "metadata": {
            "tags": []
          },
          "execution_count": 46
        }
      ]
    },
    {
      "cell_type": "code",
      "metadata": {
        "id": "hjPYhEfslfcv",
        "colab_type": "code",
        "colab": {
          "base_uri": "https://localhost:8080/",
          "height": 34
        },
        "outputId": "370ddbe3-8206-458c-d945-659acf6a487c"
      },
      "source": [
        "set(X_train[0])"
      ],
      "execution_count": 50,
      "outputs": [
        {
          "output_type": "execute_result",
          "data": {
            "text/plain": [
              "{0.0, 1.0, 2.0, 3.0, 4.0, 5.0}"
            ]
          },
          "metadata": {
            "tags": []
          },
          "execution_count": 50
        }
      ]
    },
    {
      "cell_type": "code",
      "metadata": {
        "id": "gsm4l9-Z3kX2",
        "colab_type": "code",
        "colab": {}
      },
      "source": [
        "input_shape = X_train[0].shape"
      ],
      "execution_count": 0,
      "outputs": []
    },
    {
      "cell_type": "code",
      "metadata": {
        "id": "35SNHNC74Gk2",
        "colab_type": "code",
        "colab": {}
      },
      "source": [
        "i_layer = Input(shape = input_shape)\n",
        "h_layer = Dense(512, activation='relu')(i_layer)\n",
        "h_layer = Dense(254, activation='relu')(h_layer)\n",
        "h_layer = Dense(128, activation='relu')(h_layer)\n",
        "h_layer = Dense(254, activation='relu')(h_layer)\n",
        "h_layer = Dense(512, activation='relu')(h_layer)\n",
        "o_layer = Dense(X_train[0].shape[0], activation=None)(h_layer)\n",
        "model = Model(i_layer, o_layer)\n"
      ],
      "execution_count": 0,
      "outputs": []
    },
    {
      "cell_type": "code",
      "metadata": {
        "id": "PK4XdoUd5q7n",
        "colab_type": "code",
        "outputId": "39638c25-39a0-4d7e-f2d5-806c6d9d9380",
        "colab": {
          "base_uri": "https://localhost:8080/",
          "height": 1000
        }
      },
      "source": [
        "model.compile(optimizer='adam', \n",
        "              loss = \"mse\")\n",
        "\n",
        "report = model.fit(X_train, X_train, epochs=100, batch_size=10)"
      ],
      "execution_count": 62,
      "outputs": [
        {
          "output_type": "stream",
          "text": [
            "Epoch 1/100\n",
            "95/95 [==============================] - 1s 13ms/step - loss: 0.5212\n",
            "Epoch 2/100\n",
            "95/95 [==============================] - 1s 13ms/step - loss: 0.4747\n",
            "Epoch 3/100\n",
            "95/95 [==============================] - 1s 13ms/step - loss: 0.4580\n",
            "Epoch 4/100\n",
            "95/95 [==============================] - 1s 13ms/step - loss: 0.4453\n",
            "Epoch 5/100\n",
            "95/95 [==============================] - 1s 13ms/step - loss: 0.4387\n",
            "Epoch 6/100\n",
            "95/95 [==============================] - 1s 13ms/step - loss: 0.4293\n",
            "Epoch 7/100\n",
            "95/95 [==============================] - 1s 13ms/step - loss: 0.4209\n",
            "Epoch 8/100\n",
            "95/95 [==============================] - 1s 13ms/step - loss: 0.4187\n",
            "Epoch 9/100\n",
            "95/95 [==============================] - 1s 13ms/step - loss: 0.4172\n",
            "Epoch 10/100\n",
            "95/95 [==============================] - 1s 13ms/step - loss: 0.4176\n",
            "Epoch 11/100\n",
            "95/95 [==============================] - 1s 13ms/step - loss: 0.4081\n",
            "Epoch 12/100\n",
            "95/95 [==============================] - 1s 13ms/step - loss: 0.4001\n",
            "Epoch 13/100\n",
            "95/95 [==============================] - 1s 13ms/step - loss: 0.3885\n",
            "Epoch 14/100\n",
            "95/95 [==============================] - 1s 13ms/step - loss: 0.3843\n",
            "Epoch 15/100\n",
            "95/95 [==============================] - 1s 13ms/step - loss: 0.3764\n",
            "Epoch 16/100\n",
            "95/95 [==============================] - 1s 13ms/step - loss: 0.3681\n",
            "Epoch 17/100\n",
            "95/95 [==============================] - 1s 13ms/step - loss: 0.3596\n",
            "Epoch 18/100\n",
            "95/95 [==============================] - 1s 13ms/step - loss: 0.3523\n",
            "Epoch 19/100\n",
            "95/95 [==============================] - 1s 13ms/step - loss: 0.3466\n",
            "Epoch 20/100\n",
            "95/95 [==============================] - 1s 13ms/step - loss: 0.3355\n",
            "Epoch 21/100\n",
            "95/95 [==============================] - 1s 13ms/step - loss: 0.3395\n",
            "Epoch 22/100\n",
            "95/95 [==============================] - 1s 13ms/step - loss: 0.3340\n",
            "Epoch 23/100\n",
            "95/95 [==============================] - 1s 13ms/step - loss: 0.3268\n",
            "Epoch 24/100\n",
            "95/95 [==============================] - 1s 13ms/step - loss: 0.3134\n",
            "Epoch 25/100\n",
            "95/95 [==============================] - 1s 13ms/step - loss: 0.3021\n",
            "Epoch 26/100\n",
            "95/95 [==============================] - 1s 13ms/step - loss: 0.2982\n",
            "Epoch 27/100\n",
            "95/95 [==============================] - 1s 13ms/step - loss: 0.2927\n",
            "Epoch 28/100\n",
            "95/95 [==============================] - 1s 13ms/step - loss: 0.2863\n",
            "Epoch 29/100\n",
            "95/95 [==============================] - 1s 13ms/step - loss: 0.2852\n",
            "Epoch 30/100\n",
            "95/95 [==============================] - 1s 13ms/step - loss: 0.2728\n",
            "Epoch 31/100\n",
            "95/95 [==============================] - 1s 13ms/step - loss: 0.2625\n",
            "Epoch 32/100\n",
            "95/95 [==============================] - 1s 13ms/step - loss: 0.2590\n",
            "Epoch 33/100\n",
            "95/95 [==============================] - 1s 13ms/step - loss: 0.2547\n",
            "Epoch 34/100\n",
            "95/95 [==============================] - 1s 13ms/step - loss: 0.2488\n",
            "Epoch 35/100\n",
            "95/95 [==============================] - 1s 13ms/step - loss: 0.2383\n",
            "Epoch 36/100\n",
            "95/95 [==============================] - 1s 13ms/step - loss: 0.2311\n",
            "Epoch 37/100\n",
            "95/95 [==============================] - 1s 13ms/step - loss: 0.2275\n",
            "Epoch 38/100\n",
            "95/95 [==============================] - 1s 13ms/step - loss: 0.2239\n",
            "Epoch 39/100\n",
            "95/95 [==============================] - 1s 13ms/step - loss: 0.2209\n",
            "Epoch 40/100\n",
            "95/95 [==============================] - 1s 13ms/step - loss: 0.2131\n",
            "Epoch 41/100\n",
            "95/95 [==============================] - 1s 13ms/step - loss: 0.2094\n",
            "Epoch 42/100\n",
            "95/95 [==============================] - 1s 13ms/step - loss: 0.2058\n",
            "Epoch 43/100\n",
            "95/95 [==============================] - 1s 13ms/step - loss: 0.2094\n",
            "Epoch 44/100\n",
            "95/95 [==============================] - 1s 13ms/step - loss: 0.2031\n",
            "Epoch 45/100\n",
            "95/95 [==============================] - 1s 13ms/step - loss: 0.1970\n",
            "Epoch 46/100\n",
            "95/95 [==============================] - 1s 13ms/step - loss: 0.1923\n",
            "Epoch 47/100\n",
            "95/95 [==============================] - 1s 13ms/step - loss: 0.1880\n",
            "Epoch 48/100\n",
            "95/95 [==============================] - 1s 13ms/step - loss: 0.1853\n",
            "Epoch 49/100\n",
            "95/95 [==============================] - 1s 13ms/step - loss: 0.1795\n",
            "Epoch 50/100\n",
            "95/95 [==============================] - 1s 13ms/step - loss: 0.1730\n",
            "Epoch 51/100\n",
            "95/95 [==============================] - 1s 13ms/step - loss: 0.1685\n",
            "Epoch 52/100\n",
            "95/95 [==============================] - 1s 13ms/step - loss: 0.1693\n",
            "Epoch 53/100\n",
            "95/95 [==============================] - 1s 13ms/step - loss: 0.1713\n",
            "Epoch 54/100\n",
            "95/95 [==============================] - 1s 13ms/step - loss: 0.1689\n",
            "Epoch 55/100\n",
            "95/95 [==============================] - 1s 13ms/step - loss: 0.1650\n",
            "Epoch 56/100\n",
            "95/95 [==============================] - 1s 12ms/step - loss: 0.1677\n",
            "Epoch 57/100\n",
            "95/95 [==============================] - 1s 12ms/step - loss: 0.1662\n",
            "Epoch 58/100\n",
            "95/95 [==============================] - 1s 13ms/step - loss: 0.1598\n",
            "Epoch 59/100\n",
            "95/95 [==============================] - 1s 13ms/step - loss: 0.1563\n",
            "Epoch 60/100\n",
            "95/95 [==============================] - 1s 13ms/step - loss: 0.1572\n",
            "Epoch 61/100\n",
            "95/95 [==============================] - 1s 13ms/step - loss: 0.1570\n",
            "Epoch 62/100\n",
            "95/95 [==============================] - 1s 13ms/step - loss: 0.1552\n",
            "Epoch 63/100\n",
            "95/95 [==============================] - 1s 13ms/step - loss: 0.1491\n",
            "Epoch 64/100\n",
            "95/95 [==============================] - 1s 13ms/step - loss: 0.1469\n",
            "Epoch 65/100\n",
            "95/95 [==============================] - 1s 13ms/step - loss: 0.1466\n",
            "Epoch 66/100\n",
            "95/95 [==============================] - 1s 13ms/step - loss: 0.1428\n",
            "Epoch 67/100\n",
            "95/95 [==============================] - 1s 13ms/step - loss: 0.1449\n",
            "Epoch 68/100\n",
            "95/95 [==============================] - 1s 13ms/step - loss: 0.1417\n",
            "Epoch 69/100\n",
            "95/95 [==============================] - 1s 13ms/step - loss: 0.1408\n",
            "Epoch 70/100\n",
            "95/95 [==============================] - 1s 13ms/step - loss: 0.1433\n",
            "Epoch 71/100\n",
            "95/95 [==============================] - 1s 13ms/step - loss: 0.1402\n",
            "Epoch 72/100\n",
            "95/95 [==============================] - 1s 13ms/step - loss: 0.1378\n",
            "Epoch 73/100\n",
            "95/95 [==============================] - 1s 13ms/step - loss: 0.1375\n",
            "Epoch 74/100\n",
            "95/95 [==============================] - 1s 13ms/step - loss: 0.1331\n",
            "Epoch 75/100\n",
            "95/95 [==============================] - 1s 13ms/step - loss: 0.1295\n",
            "Epoch 76/100\n",
            "95/95 [==============================] - 1s 13ms/step - loss: 0.1262\n",
            "Epoch 77/100\n",
            "95/95 [==============================] - 1s 13ms/step - loss: 0.1317\n",
            "Epoch 78/100\n",
            "95/95 [==============================] - 1s 13ms/step - loss: 0.1341\n",
            "Epoch 79/100\n",
            "95/95 [==============================] - 1s 13ms/step - loss: 0.1314\n",
            "Epoch 80/100\n",
            "95/95 [==============================] - 1s 13ms/step - loss: 0.1285\n",
            "Epoch 81/100\n",
            "95/95 [==============================] - 1s 13ms/step - loss: 0.1276\n",
            "Epoch 82/100\n",
            "95/95 [==============================] - 1s 13ms/step - loss: 0.1250\n",
            "Epoch 83/100\n",
            "95/95 [==============================] - 1s 13ms/step - loss: 0.1255\n",
            "Epoch 84/100\n",
            "95/95 [==============================] - 1s 13ms/step - loss: 0.1225\n",
            "Epoch 85/100\n",
            "95/95 [==============================] - 1s 13ms/step - loss: 0.1210\n",
            "Epoch 86/100\n",
            "95/95 [==============================] - 1s 13ms/step - loss: 0.1210\n",
            "Epoch 87/100\n",
            "95/95 [==============================] - 1s 13ms/step - loss: 0.1197\n",
            "Epoch 88/100\n",
            "95/95 [==============================] - 1s 13ms/step - loss: 0.1210\n",
            "Epoch 89/100\n",
            "95/95 [==============================] - 1s 13ms/step - loss: 0.1190\n",
            "Epoch 90/100\n",
            "95/95 [==============================] - 1s 13ms/step - loss: 0.1169\n",
            "Epoch 91/100\n",
            "95/95 [==============================] - 1s 13ms/step - loss: 0.1188\n",
            "Epoch 92/100\n",
            "95/95 [==============================] - 1s 13ms/step - loss: 0.1188\n",
            "Epoch 93/100\n",
            "95/95 [==============================] - 1s 13ms/step - loss: 0.1175\n",
            "Epoch 94/100\n",
            "95/95 [==============================] - 1s 13ms/step - loss: 0.1155\n",
            "Epoch 95/100\n",
            "95/95 [==============================] - 1s 13ms/step - loss: 0.1167\n",
            "Epoch 96/100\n",
            "95/95 [==============================] - 1s 13ms/step - loss: 0.1141\n",
            "Epoch 97/100\n",
            "95/95 [==============================] - 1s 13ms/step - loss: 0.1118\n",
            "Epoch 98/100\n",
            "95/95 [==============================] - 1s 13ms/step - loss: 0.1117\n",
            "Epoch 99/100\n",
            "95/95 [==============================] - 1s 13ms/step - loss: 0.1103\n",
            "Epoch 100/100\n",
            "95/95 [==============================] - 1s 13ms/step - loss: 0.1084\n"
          ],
          "name": "stdout"
        }
      ]
    },
    {
      "cell_type": "code",
      "metadata": {
        "id": "4-R6Ju97tX03",
        "colab_type": "code",
        "colab": {}
      },
      "source": [
        "X_decoded = model.predict(X_test)"
      ],
      "execution_count": 0,
      "outputs": []
    },
    {
      "cell_type": "code",
      "metadata": {
        "id": "9lJtnIT2vXI4",
        "colab_type": "code",
        "colab": {
          "base_uri": "https://localhost:8080/",
          "height": 34
        },
        "outputId": "5fafed72-e6a6-4ad1-e03c-4afb71fa0ff0"
      },
      "source": [
        "X_decoded.shape"
      ],
      "execution_count": 93,
      "outputs": [
        {
          "output_type": "execute_result",
          "data": {
            "text/plain": [
              "(943, 1682)"
            ]
          },
          "metadata": {
            "tags": []
          },
          "execution_count": 93
        }
      ]
    },
    {
      "cell_type": "code",
      "metadata": {
        "id": "koror46Wmici",
        "colab_type": "code",
        "colab": {
          "base_uri": "https://localhost:8080/",
          "height": 34
        },
        "outputId": "df443686-b1d7-4c7a-b4bb-c8fd90c71877"
      },
      "source": [
        "X_test.shape"
      ],
      "execution_count": 94,
      "outputs": [
        {
          "output_type": "execute_result",
          "data": {
            "text/plain": [
              "(943, 1682)"
            ]
          },
          "metadata": {
            "tags": []
          },
          "execution_count": 94
        }
      ]
    },
    {
      "cell_type": "code",
      "metadata": {
        "id": "epTbtirDrtQs",
        "colab_type": "code",
        "colab": {}
      },
      "source": [
        "def map(_temp):\n",
        "  for i in range(len(_temp)):\n",
        "    interval = (_temp.max()-_temp.min())/5\n",
        "    if _temp[i]>=_temp.min() and _temp[i]<(_temp.min()+(1* interval)):\n",
        "      _temp[i] = 1\n",
        "    elif (_temp[i]>=(_temp.min()+(1* interval)) and (_temp[i]<(_temp.min()+(2* interval)))):\n",
        "      _temp[i] = 2\n",
        "    elif (_temp[i]>=(_temp.min()+(2* interval)) and (_temp[i]<(_temp.min()+(3* interval)))):\n",
        "      _temp[i] = 3\n",
        "    elif (_temp[i]>=(_temp.min()+(3* interval)) and (_temp[i]<(_temp.min()+(4* interval)))):\n",
        "      _temp[i] = 4\n",
        "    elif (_temp[i]>=(_temp.min()+(4* interval)) and (_temp[i]<(_temp.min()+(5* interval)))):\n",
        "      _temp[i] = 5\n",
        "    else:\n",
        "      pass\n",
        "  return _temp"
      ],
      "execution_count": 0,
      "outputs": []
    },
    {
      "cell_type": "code",
      "metadata": {
        "id": "NzPl6Y-ymkui",
        "colab_type": "code",
        "colab": {
          "base_uri": "https://localhost:8080/",
          "height": 404
        },
        "outputId": "17f59a82-7802-4396-cc64-7b786ba6e2e4"
      },
      "source": [
        "idx = np.random.randint(0, len(X_test))\n",
        "for i in range(len(X_test[idx])):\n",
        "  if X_test[idx][i] != 0:\n",
        "    print(\"Rating by User {u} for Movie {a} = {b}\".format(u = idx, a=i, b=X_test[idx][i]))\n",
        "    print(\"Prediction by User {u} for Movie {a} = {b}\".format(u = idx, a=i, b=map(X_decoded[idx])[i]))"
      ],
      "execution_count": 97,
      "outputs": [
        {
          "output_type": "stream",
          "text": [
            "Rating by User 389 for Movie 99 = 5.0\n",
            "Prediction by User 389 for Movie 99 = 1.0\n",
            "Rating by User 389 for Movie 123 = 4.0\n",
            "Prediction by User 389 for Movie 123 = 1.0\n",
            "Rating by User 389 for Movie 180 = 4.0\n",
            "Prediction by User 389 for Movie 180 = 4.0\n",
            "Rating by User 389 for Movie 288 = 3.0\n",
            "Prediction by User 389 for Movie 288 = 4.0\n",
            "Rating by User 389 for Movie 303 = 5.0\n",
            "Prediction by User 389 for Movie 303 = 4.0\n",
            "Rating by User 389 for Movie 327 = 4.0\n",
            "Prediction by User 389 for Movie 327 = 4.0\n",
            "Rating by User 389 for Movie 330 = 2.0\n",
            "Prediction by User 389 for Movie 330 = 2.0\n",
            "Rating by User 389 for Movie 712 = 4.0\n",
            "Prediction by User 389 for Movie 712 = 1.0\n",
            "Rating by User 389 for Movie 739 = 4.0\n",
            "Prediction by User 389 for Movie 739 = 1.0\n",
            "Rating by User 389 for Movie 988 = 5.0\n",
            "Prediction by User 389 for Movie 988 = 1.0\n",
            "Rating by User 389 for Movie 989 = 4.0\n",
            "Prediction by User 389 for Movie 989 = 2.0\n"
          ],
          "name": "stdout"
        }
      ]
    },
    {
      "cell_type": "code",
      "metadata": {
        "id": "Lo2ktXUrmvBd",
        "colab_type": "code",
        "colab": {}
      },
      "source": [
        ""
      ],
      "execution_count": 0,
      "outputs": []
    }
  ]
}