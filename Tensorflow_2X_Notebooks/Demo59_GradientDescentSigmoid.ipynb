{
  "nbformat": 4,
  "nbformat_minor": 0,
  "metadata": {
    "colab": {
      "name": "Demo59_GradientDescentSigmoid.ipynb",
      "provenance": [],
      "collapsed_sections": []
    },
    "kernelspec": {
      "name": "python3",
      "display_name": "Python 3"
    }
  },
  "cells": [
    {
      "cell_type": "markdown",
      "metadata": {
        "id": "P9bJCDjdlgG6",
        "colab_type": "text"
      },
      "source": [
        "# **Delve Deeper**\n",
        "\n",
        "We need sound conceptual foundation to be good Machine Learning Artists\n",
        "\n",
        "## Leggo\n"
      ]
    },
    {
      "cell_type": "code",
      "metadata": {
        "id": "aQwc0re5mFld",
        "colab_type": "code",
        "outputId": "bdea56a9-95a0-41e8-ddc9-4bcd116fc4c1",
        "colab": {
          "base_uri": "https://localhost:8080/",
          "height": 35
        }
      },
      "source": [
        "import numpy as np\n",
        "import pandas as pd\n",
        "import matplotlib.pyplot as plt\n",
        "import tensorflow as tf\n",
        "print(tf.__version__)"
      ],
      "execution_count": 10,
      "outputs": [
        {
          "output_type": "stream",
          "text": [
            "2.2.0\n"
          ],
          "name": "stdout"
        }
      ]
    },
    {
      "cell_type": "code",
      "metadata": {
        "id": "AMiRjMTwmi--",
        "colab_type": "code",
        "colab": {}
      },
      "source": [
        "def sigmoid(x):\n",
        "    return 1/(1+np.exp(-x))\n",
        "\n",
        "def sigmoid_hat(x):\n",
        "    return sigmoid(x) * (1 - sigmoid(x))\n",
        "\n"
      ],
      "execution_count": 0,
      "outputs": []
    },
    {
      "cell_type": "code",
      "metadata": {
        "id": "qyw8HvOuBEZm",
        "colab_type": "code",
        "outputId": "65b3b9af-2d43-4f35-b686-b56e7570e818",
        "colab": {
          "base_uri": "https://localhost:8080/",
          "height": 279
        }
      },
      "source": [
        "from sklearn.datasets.samples_generator import make_moons\n",
        "from sklearn.datasets.samples_generator import make_circles\n",
        "from sklearn.datasets.samples_generator import make_blobs\n",
        "# generate 2d classification dataset\n",
        "n = 500\n",
        "X, y = make_moons(n_samples=n, noise=0.1)\n",
        "# scatter plot, dots colored by class value\n",
        "df = pd.DataFrame(dict(x=X[:,0], y=X[:,1], label=y))\n",
        "colors = {0:'red', 1:'blue'}\n",
        "fig, ax = plt.subplots()\n",
        "grouped = df.groupby('label')\n",
        "for key, group in grouped:\n",
        "    group.plot(ax=ax, kind='scatter', x='x', y='y', label=key, color=colors[key])\n",
        "plt.show()\n",
        "\n",
        "datadict = {'X1': X[:,0],'X2' : X[:,1], 'target': y}\n",
        "data = pd.DataFrame(data=datadict)\n"
      ],
      "execution_count": 12,
      "outputs": [
        {
          "output_type": "display_data",
          "data": {
            "image/png": "[encoded data removed]",
            "text/plain": [
              "<Figure size 432x288 with 1 Axes>"
            ]
          },
          "metadata": {
            "tags": [],
            "needs_background": "light"
          }
        }
      ]
    },
    {
      "cell_type": "code",
      "metadata": {
        "id": "9KMWbjZekFYQ",
        "colab_type": "code",
        "outputId": "a82ca197-9d83-4989-c355-4c3731d8aba1",
        "colab": {
          "base_uri": "https://localhost:8080/",
          "height": 35
        }
      },
      "source": [
        "dof = 2\n",
        "# Initialize weights\n",
        "weights = np.random.normal(scale= 1/dof**.5, size=dof)\n",
        "print(weights)\n",
        "epochs = 2000\n",
        "lr = 0.2"
      ],
      "execution_count": 13,
      "outputs": [
        {
          "output_type": "stream",
          "text": [
            "[0.68809121 0.46307165]\n"
          ],
          "name": "stdout"
        }
      ]
    },
    {
      "cell_type": "code",
      "metadata": {
        "id": "078quGqzzBVF",
        "colab_type": "code",
        "colab": {}
      },
      "source": [
        "X = data.iloc[:, [0,1]].values\n",
        "Y = data.iloc[:, 2].values"
      ],
      "execution_count": 0,
      "outputs": []
    },
    {
      "cell_type": "code",
      "metadata": {
        "id": "-rNRcY-REIaD",
        "colab_type": "code",
        "outputId": "86f75e7d-6fc5-4a37-8052-c579885e6b49",
        "colab": {
          "base_uri": "https://localhost:8080/",
          "height": 364
        }
      },
      "source": [
        "for e in range(epochs):\n",
        "    delta_w = np.zeros(weights.shape)\n",
        "    for x, y in zip(X, Y):\n",
        "        pred = sigmoid(np.dot(x, weights))\n",
        "        error = y - pred\n",
        "\n",
        "        sigma = error * pred * (1 - pred)\n",
        "\n",
        "        # error x gradient x inputs\n",
        "        delta_w += sigma * x\n",
        "\n",
        "    weights += lr * delta_w / n\n",
        "\n",
        "\n",
        "    if e % (epochs / 20) == 0:\n",
        "        Y_pred = sigmoid(np.dot(X, weights))\n",
        "        loss = np.mean((Y_pred - Y) ** 2)\n",
        "        print(\"Train loss: \", loss)\n",
        "\n"
      ],
      "execution_count": 17,
      "outputs": [
        {
          "output_type": "stream",
          "text": [
            "Train loss:  0.23832606346919133\n",
            "Train loss:  0.16188206744270348\n",
            "Train loss:  0.129863770747853\n",
            "Train loss:  0.11454874845897253\n",
            "Train loss:  0.10622782004241178\n",
            "Train loss:  0.1012022293635473\n",
            "Train loss:  0.09790880769033934\n",
            "Train loss:  0.09561395826180268\n",
            "Train loss:  0.09393904899174738\n",
            "Train loss:  0.09267218858046243\n",
            "Train loss:  0.09168664203680074\n",
            "Train loss:  0.09090238779485317\n",
            "Train loss:  0.0902666093107718\n",
            "Train loss:  0.08974314374286493\n",
            "Train loss:  0.08930645784375926\n",
            "Train loss:  0.08893804697488276\n",
            "Train loss:  0.08862419654592694\n",
            "Train loss:  0.08835454268723744\n",
            "Train loss:  0.08812111931823453\n",
            "Train loss:  0.08791771086692217\n"
          ],
          "name": "stdout"
        }
      ]
    },
    {
      "cell_type": "code",
      "metadata": {
        "id": "QvSqAoGVz7IE",
        "colab_type": "code",
        "colab": {}
      },
      "source": [
        "Y_pred = sigmoid(np.dot(X, weights))\n",
        "Y_pred = Y_pred > 0.5"
      ],
      "execution_count": 0,
      "outputs": []
    },
    {
      "cell_type": "code",
      "metadata": {
        "id": "Lt6211vl2qfP",
        "colab_type": "code",
        "colab": {
          "base_uri": "https://localhost:8080/",
          "height": 350
        },
        "outputId": "8c7c09b8-6fb5-4be6-8d83-b21d09377e52"
      },
      "source": [
        "from matplotlib.colors import ListedColormap\n",
        "X_set, y_set = X, Y_pred\n",
        "X1, X2 = np.meshgrid(np.arange(start = X_set[:, 0].min() - 1, stop = X_set[:, 0].max() + 1, step = 0.1),\n",
        "                  np.arange(start = X_set[:, 1].min() - 1, stop = X_set[:, 1].max() + 1, step = 0.1))\n",
        "plt.xlim(X1.min(), X1.max())\n",
        "plt.ylim(X2.min(), X2.max())\n",
        "for i, j in enumerate(np.unique(y_set)):\n",
        "  plt.scatter(X_set[y_set == j, 0], X_set[y_set == j, 1],\n",
        "              c = ListedColormap(('red', 'blue'))(i), label = j)\n",
        "plt.title('Output')\n",
        "plt.xlabel('X')\n",
        "plt.ylabel('y')\n",
        "plt.legend()\n",
        "plt.show()"
      ],
      "execution_count": 26,
      "outputs": [
        {
          "output_type": "stream",
          "text": [
            "'c' argument looks like a single numeric RGB or RGBA sequence, which should be avoided as value-mapping will have precedence in case its length matches with 'x' & 'y'.  Please use a 2-D array with a single row if you really want to specify the same RGB or RGBA value for all points.\n",
            "'c' argument looks like a single numeric RGB or RGBA sequence, which should be avoided as value-mapping will have precedence in case its length matches with 'x' & 'y'.  Please use a 2-D array with a single row if you really want to specify the same RGB or RGBA value for all points.\n"
          ],
          "name": "stderr"
        },
        {
          "output_type": "display_data",
          "data": {
            "image/png": "[encoded data removed]",
            "text/plain": [
              "<Figure size 432x288 with 1 Axes>"
            ]
          },
          "metadata": {
            "tags": [],
            "needs_background": "light"
          }
        }
      ]
    }
  ]
}