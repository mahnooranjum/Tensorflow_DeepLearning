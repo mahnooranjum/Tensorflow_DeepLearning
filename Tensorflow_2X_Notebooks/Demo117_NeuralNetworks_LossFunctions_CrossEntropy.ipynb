{
  "nbformat": 4,
  "nbformat_minor": 0,
  "metadata": {
    "colab": {
      "name": "Demo117_NeuralNetworks_LossFunctions_CrossEntropy.ipynb",
      "provenance": [],
      "collapsed_sections": []
    },
    "kernelspec": {
      "name": "python3",
      "display_name": "Python 3"
    }
  },
  "cells": [
    {
      "cell_type": "markdown",
      "metadata": {
        "id": "P9bJCDjdlgG6",
        "colab_type": "text"
      },
      "source": [
        "# **Tame Your Python**\n",
        "\n"
      ]
    },
    {
      "cell_type": "code",
      "metadata": {
        "id": "aQwc0re5mFld",
        "colab_type": "code",
        "outputId": "23142836-5b16-4610-cf5b-bdf435c1dfc1",
        "colab": {
          "base_uri": "https://localhost:8080/",
          "height": 35
        }
      },
      "source": [
        "import numpy as np\n",
        "import pandas as pd\n",
        "import matplotlib.pyplot as plt\n",
        "import tensorflow as tf\n",
        "print(tf.__version__)"
      ],
      "execution_count": 28,
      "outputs": [
        {
          "output_type": "stream",
          "text": [
            "2.2.0\n"
          ],
          "name": "stdout"
        }
      ]
    },
    {
      "cell_type": "code",
      "metadata": {
        "id": "_a1S1CA0LLp6",
        "colab_type": "code",
        "colab": {}
      },
      "source": [
        "def plot(X, out):\n",
        "  plt.plot(np.linspace(-2, 2, 100), X, 'r', label = 'X')\n",
        "  plt.plot(np.linspace(-2, 2, 100), out,'b', label = 'Activation')\n",
        "  plt.legend()\n",
        "  plt.grid()\n",
        "  plt.show()"
      ],
      "execution_count": 0,
      "outputs": []
    },
    {
      "cell_type": "code",
      "metadata": {
        "id": "aixB4U9iIcsk",
        "colab_type": "code",
        "colab": {}
      },
      "source": [
        "y_true = [0.0, 0.0, 1.0]\n",
        "y_pred = [0.2, 0.3, 0.5]"
      ],
      "execution_count": 0,
      "outputs": []
    },
    {
      "cell_type": "code",
      "metadata": {
        "id": "sSOvriMjObki",
        "colab_type": "code",
        "colab": {
          "base_uri": "https://localhost:8080/",
          "height": 35
        },
        "outputId": "62ddf1f2-ec33-4bb6-e147-b45026046576"
      },
      "source": [
        "layer = tf.keras.losses.CategoricalCrossentropy()\n",
        "output = layer(y_true,y_pred)\n",
        "print(output)"
      ],
      "execution_count": 31,
      "outputs": [
        {
          "output_type": "stream",
          "text": [
            "tf.Tensor(0.6931472, shape=(), dtype=float32)\n"
          ],
          "name": "stdout"
        }
      ]
    },
    {
      "cell_type": "code",
      "metadata": {
        "id": "N5dR49__Oi1B",
        "colab_type": "code",
        "colab": {}
      },
      "source": [
        "y_true = [0.0, 0.0, 1.0]\n",
        "y_pred = [0.0, 0.0, 1.0]"
      ],
      "execution_count": 0,
      "outputs": []
    },
    {
      "cell_type": "code",
      "metadata": {
        "id": "Vz6L7IEcOjf5",
        "colab_type": "code",
        "colab": {
          "base_uri": "https://localhost:8080/",
          "height": 35
        },
        "outputId": "282bb637-42eb-415f-bd8e-2305017b41b3"
      },
      "source": [
        "layer = tf.keras.losses.CategoricalCrossentropy()\n",
        "output = layer(y_true,y_pred)\n",
        "print(output)"
      ],
      "execution_count": 33,
      "outputs": [
        {
          "output_type": "stream",
          "text": [
            "tf.Tensor(1.1920929e-07, shape=(), dtype=float32)\n"
          ],
          "name": "stdout"
        }
      ]
    },
    {
      "cell_type": "code",
      "metadata": {
        "id": "ZDtF9s4OOyBh",
        "colab_type": "code",
        "colab": {}
      },
      "source": [
        "y_true = [0.0, 0.0, 1.0]\n",
        "y_pred = [1.0, 0.0, 0.0]"
      ],
      "execution_count": 0,
      "outputs": []
    },
    {
      "cell_type": "code",
      "metadata": {
        "id": "ok-EWw1AO0aR",
        "colab_type": "code",
        "colab": {
          "base_uri": "https://localhost:8080/",
          "height": 35
        },
        "outputId": "27e2ac38-63e5-4ad4-9531-f0aea88d136d"
      },
      "source": [
        "layer = tf.keras.losses.CategoricalCrossentropy()\n",
        "output = layer(y_true,y_pred)\n",
        "print(output)"
      ],
      "execution_count": 35,
      "outputs": [
        {
          "output_type": "stream",
          "text": [
            "tf.Tensor(16.118095, shape=(), dtype=float32)\n"
          ],
          "name": "stdout"
        }
      ]
    },
    {
      "cell_type": "code",
      "metadata": {
        "id": "RoTsbRwpO9O1",
        "colab_type": "code",
        "colab": {}
      },
      "source": [
        ""
      ],
      "execution_count": 0,
      "outputs": []
    }
  ]
}