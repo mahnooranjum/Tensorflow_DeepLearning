{
  "nbformat": 4,
  "nbformat_minor": 0,
  "metadata": {
    "colab": {
      "name": "Demo58_GradientDescentSSE.ipynb",
      "provenance": [],
      "collapsed_sections": []
    },
    "kernelspec": {
      "name": "python3",
      "display_name": "Python 3"
    }
  },
  "cells": [
    {
      "cell_type": "markdown",
      "metadata": {
        "id": "P9bJCDjdlgG6",
        "colab_type": "text"
      },
      "source": [
        "# **Delve Deeper**\n",
        "\n",
        "We need sound conceptual foundation to be good Machine Learning Artists\n",
        "\n",
        "## Leggo\n"
      ]
    },
    {
      "cell_type": "code",
      "metadata": {
        "id": "aQwc0re5mFld",
        "colab_type": "code",
        "outputId": "6688e848-8df4-466e-b6c6-2ee6b34153c6",
        "colab": {
          "base_uri": "https://localhost:8080/",
          "height": 35
        }
      },
      "source": [
        "import numpy as np\n",
        "import pandas as pd\n",
        "import matplotlib.pyplot as plt\n",
        "import tensorflow as tf\n",
        "print(tf.__version__)"
      ],
      "execution_count": 0,
      "outputs": [
        {
          "output_type": "stream",
          "text": [
            "2.2.0\n"
          ],
          "name": "stdout"
        }
      ]
    },
    {
      "cell_type": "code",
      "metadata": {
        "id": "h81dwtqvk4Iv",
        "colab_type": "code",
        "outputId": "ee834af0-7b08-4858-f6d4-88f72f704034",
        "colab": {
          "base_uri": "https://localhost:8080/",
          "height": 265
        }
      },
      "source": [
        "from sklearn.datasets import make_regression\n",
        "\n",
        "# Regression Dataset\n",
        "n = 1000\n",
        "X, y = make_regression(n_samples=n, n_features=1, noise=30)\n",
        "X = X.reshape(n)\n",
        "datadict = {'feature': X, 'target': y}\n",
        "data = pd.DataFrame(data=datadict)\n",
        "plt.scatter(X,y, color= 'blue')\n",
        "plt.grid()\n",
        "plt.show()"
      ],
      "execution_count": 0,
      "outputs": [
        {
          "output_type": "display_data",
          "data": {
            "image/png": "[encoded data removed]",
            "text/plain": [
              "<Figure size 432x288 with 1 Axes>"
            ]
          },
          "metadata": {
            "tags": [],
            "needs_background": "light"
          }
        }
      ]
    },
    {
      "cell_type": "code",
      "metadata": {
        "id": "9KMWbjZekFYQ",
        "colab_type": "code",
        "outputId": "1d21216a-9c27-4c53-8f40-5f5cded23cc0",
        "colab": {
          "base_uri": "https://localhost:8080/",
          "height": 35
        }
      },
      "source": [
        "dof = 2\n",
        "# Initialize weights\n",
        "weights = np.random.normal(scale= 1/dof**.5, size=dof)\n",
        "print(weights)\n",
        "epochs = 2000\n",
        "lr = 0.2"
      ],
      "execution_count": 0,
      "outputs": [
        {
          "output_type": "stream",
          "text": [
            "[-0.47853842 -0.13002173]\n"
          ],
          "name": "stdout"
        }
      ]
    },
    {
      "cell_type": "code",
      "metadata": {
        "id": "-rNRcY-REIaD",
        "colab_type": "code",
        "outputId": "df02772f-7cf2-4343-e163-35aea50663b4",
        "colab": {
          "base_uri": "https://localhost:8080/",
          "height": 191
        }
      },
      "source": [
        "for e in range(epochs):\n",
        "    delta_w = np.array([0], dtype='float64')\n",
        "    delta_b = np.array([0], dtype='float64')\n",
        "    for x, y in zip(X, data.target):\n",
        "        y_pred_current = weights[0] * x + weights[1]\n",
        "        error = (y - y_pred_current)**2\n",
        "\n",
        "        delta_w += (-2) * x * (y - y_pred_current)\n",
        "        delta_b += (-2) * (y - y_pred_current)\n",
        "\n",
        "    weights[0] -= lr * delta_w / (n*2)\n",
        "    weights[1] -= lr * delta_b / (n*2)\n",
        "\n",
        "    # Printing out the mean square error on the training set\n",
        "    if e % (epochs / 10) == 0:\n",
        "        pred= X.T * weights[0] + weights[1]\n",
        "        loss = np.mean((pred -  data.target) ** 2)\n",
        "        print(\"Train loss: \", loss)\n",
        "\n"
      ],
      "execution_count": 0,
      "outputs": [
        {
          "output_type": "stream",
          "text": [
            "Train loss:  929.890092479443\n",
            "Train loss:  897.2257333683657\n",
            "Train loss:  897.2257333683657\n",
            "Train loss:  897.2257333683657\n",
            "Train loss:  897.2257333683657\n",
            "Train loss:  897.2257333683657\n",
            "Train loss:  897.2257333683657\n",
            "Train loss:  897.2257333683657\n",
            "Train loss:  897.2257333683657\n",
            "Train loss:  897.2257333683657\n"
          ],
          "name": "stdout"
        }
      ]
    },
    {
      "cell_type": "code",
      "metadata": {
        "id": "0vDP6XXLwRWV",
        "colab_type": "code",
        "colab": {}
      },
      "source": [
        "y_pred = X.T * weights[0] + weights[1]"
      ],
      "execution_count": 0,
      "outputs": []
    },
    {
      "cell_type": "code",
      "metadata": {
        "id": "MK9gBPlPo4cf",
        "colab_type": "code",
        "outputId": "e3d1a247-3aa3-4298-bbe0-6c7d34d596a3",
        "colab": {
          "base_uri": "https://localhost:8080/",
          "height": 265
        }
      },
      "source": [
        "plt.scatter(X,data.target, color= 'blue')\n",
        "plt.scatter(X,y_pred, color= 'red')\n",
        "plt.grid()\n",
        "plt.show()"
      ],
      "execution_count": 0,
      "outputs": [
        {
          "output_type": "display_data",
          "data": {
            "image/png": "[encoded data removed]",
            "text/plain": [
              "<Figure size 432x288 with 1 Axes>"
            ]
          },
          "metadata": {
            "tags": [],
            "needs_background": "light"
          }
        }
      ]
    }
  ]
}