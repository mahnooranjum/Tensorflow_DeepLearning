{
  "nbformat": 4,
  "nbformat_minor": 0,
  "metadata": {
    "colab": {
      "name": "Demo143_ConvolutionalAutoencoder_Basic_MNIST.ipynb",
      "provenance": [],
      "collapsed_sections": []
    },
    "kernelspec": {
      "name": "python3",
      "display_name": "Python 3"
    }
  },
  "cells": [
    {
      "cell_type": "markdown",
      "metadata": {
        "id": "P9bJCDjdlgG6",
        "colab_type": "text"
      },
      "source": [
        "# **Spit some [tensor] flow**\n",
        "\n",
        "We need to learn the intricacies of tensorflow to master deep learning\n",
        "\n"
      ]
    },
    {
      "cell_type": "code",
      "metadata": {
        "id": "aQwc0re5mFld",
        "colab_type": "code",
        "outputId": "efa5c819-045e-4422-fb68-1b96a699f112",
        "colab": {
          "base_uri": "https://localhost:8080/",
          "height": 34
        }
      },
      "source": [
        "import numpy as np\n",
        "import pandas as pd\n",
        "import matplotlib.pyplot as plt\n",
        "import tensorflow as tf\n",
        "import cv2\n",
        "print(tf.__version__)"
      ],
      "execution_count": 1,
      "outputs": [
        {
          "output_type": "stream",
          "text": [
            "2.2.0\n"
          ],
          "name": "stdout"
        }
      ]
    },
    {
      "cell_type": "code",
      "metadata": {
        "id": "CaBxIWkog_i-",
        "colab_type": "code",
        "colab": {}
      },
      "source": [
        "from tensorflow.keras.layers import Input, Conv2D, Dropout, Dense, Flatten, MaxPool2D, UpSampling2D, Reshape\n",
        "from tensorflow.keras.models import Model"
      ],
      "execution_count": 0,
      "outputs": []
    },
    {
      "cell_type": "code",
      "metadata": {
        "id": "zhCnvW2e2Xrv",
        "colab_type": "code",
        "outputId": "a14aa7a2-ca36-4caf-fa43-49a90259dfc0",
        "colab": {
          "base_uri": "https://localhost:8080/",
          "height": 52
        }
      },
      "source": [
        "from tensorflow.keras.datasets import mnist\n",
        "(X_train, y_train), (X_test, y_test) = mnist.load_data()"
      ],
      "execution_count": 3,
      "outputs": [
        {
          "output_type": "stream",
          "text": [
            "Downloading data from https://storage.googleapis.com/tensorflow/tf-keras-datasets/mnist.npz\n",
            "11493376/11490434 [==============================] - 0s 0us/step\n"
          ],
          "name": "stdout"
        }
      ]
    },
    {
      "cell_type": "code",
      "metadata": {
        "id": "w6qLYai-2x-O",
        "colab_type": "code",
        "outputId": "47e8d7ee-65a9-4cac-dd37-c7738b21fc4f",
        "colab": {
          "base_uri": "https://localhost:8080/",
          "height": 52
        }
      },
      "source": [
        "X_train, X_test = X_train / 255.0 , X_test / 255.0 \n",
        "print(X_train.shape)\n",
        "print(X_test.shape)"
      ],
      "execution_count": 4,
      "outputs": [
        {
          "output_type": "stream",
          "text": [
            "(60000, 28, 28)\n",
            "(10000, 28, 28)\n"
          ],
          "name": "stdout"
        }
      ]
    },
    {
      "cell_type": "code",
      "metadata": {
        "id": "UEphzMZC3DRu",
        "colab_type": "code",
        "outputId": "cddb305b-30d4-4e22-9938-ddc8c29734ae",
        "colab": {
          "base_uri": "https://localhost:8080/",
          "height": 52
        }
      },
      "source": [
        "X_train = np.expand_dims(X_train, -1)\n",
        "X_test = np.expand_dims(X_test, -1)\n",
        "print(X_train.shape)\n",
        "print(X_test.shape)\n",
        "# SHAPE \n",
        "# N x H x W x Colors \n",
        "# Colors = 1 for grayscale \n",
        "# Fashion MNIST is grayscale"
      ],
      "execution_count": 5,
      "outputs": [
        {
          "output_type": "stream",
          "text": [
            "(60000, 28, 28, 1)\n",
            "(10000, 28, 28, 1)\n"
          ],
          "name": "stdout"
        }
      ]
    },
    {
      "cell_type": "code",
      "metadata": {
        "id": "F-F3OFyE3QiF",
        "colab_type": "code",
        "outputId": "95e38768-241b-466d-aa90-1ada238dd889",
        "colab": {
          "base_uri": "https://localhost:8080/",
          "height": 34
        }
      },
      "source": [
        "classes = len(set(y_train))\n",
        "print(classes)"
      ],
      "execution_count": 6,
      "outputs": [
        {
          "output_type": "stream",
          "text": [
            "10\n"
          ],
          "name": "stdout"
        }
      ]
    },
    {
      "cell_type": "code",
      "metadata": {
        "id": "Z42Ozm3Np5me",
        "colab_type": "code",
        "outputId": "32c03fd1-2413-47d8-8ca4-fc7dfcda3197",
        "colab": {
          "base_uri": "https://localhost:8080/",
          "height": 34
        }
      },
      "source": [
        " X_train[0].shape"
      ],
      "execution_count": 7,
      "outputs": [
        {
          "output_type": "execute_result",
          "data": {
            "text/plain": [
              "(28, 28, 1)"
            ]
          },
          "metadata": {
            "tags": []
          },
          "execution_count": 7
        }
      ]
    },
    {
      "cell_type": "code",
      "metadata": {
        "id": "gsm4l9-Z3kX2",
        "colab_type": "code",
        "colab": {}
      },
      "source": [
        "input_shape = X_train[0].shape"
      ],
      "execution_count": 0,
      "outputs": []
    },
    {
      "cell_type": "code",
      "metadata": {
        "id": "35SNHNC74Gk2",
        "colab_type": "code",
        "colab": {}
      },
      "source": [
        "i_layer = Input(shape = input_shape)\n",
        "h_layer = Conv2D(16, (3,3), activation='relu', padding='same')(i_layer)\n",
        "h_layer = MaxPool2D((2,2), padding = 'same')(h_layer)\n",
        "h_layer = Conv2D(8, (3,3), activation='relu', padding='same')(h_layer)\n",
        "h_layer = MaxPool2D((2,2), padding = 'same')(h_layer)\n",
        "h_layer = UpSampling2D((2,2))(h_layer)\n",
        "h_layer = Conv2D(8, (3,3), activation='relu', padding='same')(h_layer)\n",
        "h_layer = UpSampling2D((2,2))(h_layer)\n",
        "h_layer = Conv2D(16, (3,3), activation='relu', padding='same')(h_layer)\n",
        "o_layer = Conv2D(1, (3,3), activation=None, padding='same')(h_layer)\n",
        "model = Model(i_layer, o_layer)\n"
      ],
      "execution_count": 0,
      "outputs": []
    },
    {
      "cell_type": "code",
      "metadata": {
        "id": "qzeIXX1rw8Ae",
        "colab_type": "code",
        "colab": {
          "base_uri": "https://localhost:8080/",
          "height": 510
        },
        "outputId": "141e70de-ab81-4a8d-8473-4a10711a1bf3"
      },
      "source": [
        "model.summary()"
      ],
      "execution_count": 38,
      "outputs": [
        {
          "output_type": "stream",
          "text": [
            "Model: \"model_11\"\n",
            "_________________________________________________________________\n",
            "Layer (type)                 Output Shape              Param #   \n",
            "=================================================================\n",
            "input_14 (InputLayer)        [(None, 28, 28, 1)]       0         \n",
            "_________________________________________________________________\n",
            "conv2d_83 (Conv2D)           (None, 28, 28, 16)        160       \n",
            "_________________________________________________________________\n",
            "max_pooling2d_38 (MaxPooling (None, 14, 14, 16)        0         \n",
            "_________________________________________________________________\n",
            "conv2d_84 (Conv2D)           (None, 14, 14, 8)         1160      \n",
            "_________________________________________________________________\n",
            "max_pooling2d_39 (MaxPooling (None, 7, 7, 8)           0         \n",
            "_________________________________________________________________\n",
            "up_sampling2d_12 (UpSampling (None, 14, 14, 8)         0         \n",
            "_________________________________________________________________\n",
            "conv2d_85 (Conv2D)           (None, 14, 14, 8)         584       \n",
            "_________________________________________________________________\n",
            "up_sampling2d_13 (UpSampling (None, 28, 28, 8)         0         \n",
            "_________________________________________________________________\n",
            "conv2d_86 (Conv2D)           (None, 28, 28, 16)        1168      \n",
            "_________________________________________________________________\n",
            "conv2d_87 (Conv2D)           (None, 28, 28, 1)         145       \n",
            "=================================================================\n",
            "Total params: 3,217\n",
            "Trainable params: 3,217\n",
            "Non-trainable params: 0\n",
            "_________________________________________________________________\n"
          ],
          "name": "stdout"
        }
      ]
    },
    {
      "cell_type": "code",
      "metadata": {
        "id": "PK4XdoUd5q7n",
        "colab_type": "code",
        "outputId": "2a22566d-a9f9-4931-a953-553c23f238ce",
        "colab": {
          "base_uri": "https://localhost:8080/",
          "height": 369
        }
      },
      "source": [
        "model.compile(optimizer='adam', \n",
        "              loss = \"mse\")\n",
        "\n",
        "report = model.fit(X_train, X_train, epochs=10, batch_size=200)"
      ],
      "execution_count": 40,
      "outputs": [
        {
          "output_type": "stream",
          "text": [
            "Epoch 1/10\n",
            "300/300 [==============================] - 89s 297ms/step - loss: 0.0076\n",
            "Epoch 2/10\n",
            "300/300 [==============================] - 89s 298ms/step - loss: 0.0062\n",
            "Epoch 3/10\n",
            "300/300 [==============================] - 89s 298ms/step - loss: 0.0053\n",
            "Epoch 4/10\n",
            "300/300 [==============================] - 89s 297ms/step - loss: 0.0048\n",
            "Epoch 5/10\n",
            "300/300 [==============================] - 90s 299ms/step - loss: 0.0045\n",
            "Epoch 6/10\n",
            "300/300 [==============================] - 90s 301ms/step - loss: 0.0043\n",
            "Epoch 7/10\n",
            "300/300 [==============================] - 90s 301ms/step - loss: 0.0041\n",
            "Epoch 8/10\n",
            "300/300 [==============================] - 91s 304ms/step - loss: 0.0040\n",
            "Epoch 9/10\n",
            "300/300 [==============================] - 90s 301ms/step - loss: 0.0038\n",
            "Epoch 10/10\n",
            "300/300 [==============================] - 90s 300ms/step - loss: 0.0037\n"
          ],
          "name": "stdout"
        }
      ]
    },
    {
      "cell_type": "code",
      "metadata": {
        "id": "4-R6Ju97tX03",
        "colab_type": "code",
        "outputId": "59b0d356-1f29-4038-9af8-2d003966533f",
        "colab": {
          "base_uri": "https://localhost:8080/",
          "height": 282
        }
      },
      "source": [
        "idx = np.random.randint(0, len(X_train))\n",
        "fig,ax = plt.subplots(1,2,figsize=(10,4))\n",
        "ax[0].imshow(X_train[idx].reshape(28,28), cmap='gray')\n",
        "X_decoded = model.predict(X_train[[idx]])\n",
        "ax[1].imshow(X_decoded.reshape(28,28), cmap='gray')"
      ],
      "execution_count": 43,
      "outputs": [
        {
          "output_type": "execute_result",
          "data": {
            "text/plain": [
              "<matplotlib.image.AxesImage at 0x7fe6bd722160>"
            ]
          },
          "metadata": {
            "tags": []
          },
          "execution_count": 43
        },
        {
          "output_type": "display_data",
          "data": {
            "image/png": "[encoded data removed]",
            "text/plain": [
              "<Figure size 720x288 with 2 Axes>"
            ]
          },
          "metadata": {
            "tags": [],
            "needs_background": "light"
          }
        }
      ]
    },
    {
      "cell_type": "code",
      "metadata": {
        "id": "9lJtnIT2vXI4",
        "colab_type": "code",
        "colab": {}
      },
      "source": [
        ""
      ],
      "execution_count": 0,
      "outputs": []
    }
  ]
}