{
  "nbformat": 4,
  "nbformat_minor": 0,
  "metadata": {
    "colab": {
      "name": "Demo122_ANNforMNIST_Checkpointer.ipynb",
      "provenance": [],
      "collapsed_sections": []
    },
    "kernelspec": {
      "name": "python3",
      "display_name": "Python 3"
    }
  },
  "cells": [
    {
      "cell_type": "markdown",
      "metadata": {
        "id": "P9bJCDjdlgG6",
        "colab_type": "text"
      },
      "source": [
        "# **Spit some [tensor] flow**\n",
        "\n",
        "We need to learn the intricacies of tensorflow to master deep learning\n",
        "\n",
        "`Let's get this over with`\n",
        "\n",
        "## We'll take over the MNIST dataset and use a basic ANN to classify the digits"
      ]
    },
    {
      "cell_type": "code",
      "metadata": {
        "id": "aQwc0re5mFld",
        "colab_type": "code",
        "outputId": "afdad4b2-4929-4a8e-fe2a-c37ecceec9a3",
        "colab": {
          "base_uri": "https://localhost:8080/",
          "height": 35
        }
      },
      "source": [
        "import numpy as np\n",
        "import pandas as pd\n",
        "import matplotlib.pyplot as plt\n",
        "import tensorflow as tf\n",
        "print(tf.__version__)"
      ],
      "execution_count": 1,
      "outputs": [
        {
          "output_type": "stream",
          "text": [
            "2.2.0\n"
          ],
          "name": "stdout"
        }
      ]
    },
    {
      "cell_type": "markdown",
      "metadata": {
        "id": "S4l0LuYW_Txu",
        "colab_type": "text"
      },
      "source": [
        "## Let's load the dataset using keras datasets "
      ]
    },
    {
      "cell_type": "code",
      "metadata": {
        "id": "qyw8HvOuBEZm",
        "colab_type": "code",
        "colab": {}
      },
      "source": [
        "dataset = tf.keras.datasets.mnist"
      ],
      "execution_count": 0,
      "outputs": []
    },
    {
      "cell_type": "code",
      "metadata": {
        "id": "kOrWzVnkLFng",
        "colab_type": "code",
        "colab": {
          "base_uri": "https://localhost:8080/",
          "height": 52
        },
        "outputId": "4aa309db-01fb-4b9b-a673-023fe6d3aa95"
      },
      "source": [
        "(X_train, y_train), (X_test, y_test) = dataset.load_data()\n",
        "X_train, X_test = X_train/255.0 , X_test/255.0"
      ],
      "execution_count": 8,
      "outputs": [
        {
          "output_type": "stream",
          "text": [
            "Downloading data from https://storage.googleapis.com/tensorflow/tf-keras-datasets/mnist.npz\n",
            "11493376/11490434 [==============================] - 0s 0us/step\n"
          ],
          "name": "stdout"
        }
      ]
    },
    {
      "cell_type": "code",
      "metadata": {
        "id": "7hQGKjLvBT6z",
        "colab_type": "code",
        "outputId": "834f6558-3506-45b3-cbbc-56d5ac7d2b8e",
        "colab": {
          "base_uri": "https://localhost:8080/",
          "height": 87
        }
      },
      "source": [
        "print(X_train.shape)\n",
        "print(y_train.shape)\n",
        "print(X_test.shape)\n",
        "print(y_test.shape)"
      ],
      "execution_count": 9,
      "outputs": [
        {
          "output_type": "stream",
          "text": [
            "(60000, 28, 28)\n",
            "(60000,)\n",
            "(10000, 28, 28)\n",
            "(10000,)\n"
          ],
          "name": "stdout"
        }
      ]
    },
    {
      "cell_type": "code",
      "metadata": {
        "id": "ovyPUHaZBqu8",
        "colab_type": "code",
        "colab": {}
      },
      "source": [
        "model = tf.keras.models.Sequential([\n",
        "                                    tf.keras.layers.Flatten(input_shape = (X_train.shape[1], X_train.shape[2])),\n",
        "                                    tf.keras.layers.Dense(64, activation='relu'),\n",
        "                                    tf.keras.layers.Dropout(0.1),\n",
        "                                    tf.keras.layers.Dense(10, activation='softmax')\n",
        "])"
      ],
      "execution_count": 0,
      "outputs": []
    },
    {
      "cell_type": "code",
      "metadata": {
        "id": "bYip2sQaNiNI",
        "colab_type": "code",
        "colab": {}
      },
      "source": [
        "model.compile(\n",
        "    optimizer='adam',\n",
        "    loss='sparse_categorical_crossentropy',\n",
        "    metrics=['accuracy'])"
      ],
      "execution_count": 0,
      "outputs": []
    },
    {
      "cell_type": "code",
      "metadata": {
        "id": "tEsZnuikNwv3",
        "colab_type": "code",
        "outputId": "5a530fd1-8db6-44b6-9b27-b0c3465366bb",
        "colab": {
          "base_uri": "https://localhost:8080/",
          "height": 1000
        }
      },
      "source": [
        "report = model.fit(X_train, y_train, validation_data=(X_test, y_test), epochs = 30)"
      ],
      "execution_count": 0,
      "outputs": [
        {
          "output_type": "stream",
          "text": [
            "Epoch 1/30\n",
            "1875/1875 [==============================] - 4s 2ms/step - loss: 0.3338 - accuracy: 0.9045 - val_loss: 0.1713 - val_accuracy: 0.9493\n",
            "Epoch 2/30\n",
            "1875/1875 [==============================] - 4s 2ms/step - loss: 0.1705 - accuracy: 0.9500 - val_loss: 0.1257 - val_accuracy: 0.9619\n",
            "Epoch 3/30\n",
            "1875/1875 [==============================] - 3s 2ms/step - loss: 0.1295 - accuracy: 0.9622 - val_loss: 0.1070 - val_accuracy: 0.9680\n",
            "Epoch 4/30\n",
            "1875/1875 [==============================] - 3s 2ms/step - loss: 0.1092 - accuracy: 0.9667 - val_loss: 0.1009 - val_accuracy: 0.9706\n",
            "Epoch 5/30\n",
            "1875/1875 [==============================] - 4s 2ms/step - loss: 0.0942 - accuracy: 0.9710 - val_loss: 0.0935 - val_accuracy: 0.9703\n",
            "Epoch 6/30\n",
            "1875/1875 [==============================] - 4s 2ms/step - loss: 0.0829 - accuracy: 0.9745 - val_loss: 0.0900 - val_accuracy: 0.9719\n",
            "Epoch 7/30\n",
            "1875/1875 [==============================] - 3s 2ms/step - loss: 0.0761 - accuracy: 0.9761 - val_loss: 0.0894 - val_accuracy: 0.9732\n",
            "Epoch 8/30\n",
            "1875/1875 [==============================] - 4s 2ms/step - loss: 0.0700 - accuracy: 0.9777 - val_loss: 0.0888 - val_accuracy: 0.9728\n",
            "Epoch 9/30\n",
            "1875/1875 [==============================] - 3s 2ms/step - loss: 0.0649 - accuracy: 0.9790 - val_loss: 0.0858 - val_accuracy: 0.9727\n",
            "Epoch 10/30\n",
            "1875/1875 [==============================] - 4s 2ms/step - loss: 0.0580 - accuracy: 0.9812 - val_loss: 0.0888 - val_accuracy: 0.9746\n",
            "Epoch 11/30\n",
            "1875/1875 [==============================] - 3s 2ms/step - loss: 0.0552 - accuracy: 0.9819 - val_loss: 0.0881 - val_accuracy: 0.9756\n",
            "Epoch 12/30\n",
            "1875/1875 [==============================] - 4s 2ms/step - loss: 0.0516 - accuracy: 0.9831 - val_loss: 0.0923 - val_accuracy: 0.9746\n",
            "Epoch 13/30\n",
            "1875/1875 [==============================] - 4s 2ms/step - loss: 0.0488 - accuracy: 0.9840 - val_loss: 0.0965 - val_accuracy: 0.9729\n",
            "Epoch 14/30\n",
            "1875/1875 [==============================] - 4s 2ms/step - loss: 0.0484 - accuracy: 0.9838 - val_loss: 0.0982 - val_accuracy: 0.9733\n",
            "Epoch 15/30\n",
            "1875/1875 [==============================] - 4s 2ms/step - loss: 0.0441 - accuracy: 0.9853 - val_loss: 0.0945 - val_accuracy: 0.9724\n",
            "Epoch 16/30\n",
            "1875/1875 [==============================] - 3s 2ms/step - loss: 0.0433 - accuracy: 0.9857 - val_loss: 0.0955 - val_accuracy: 0.9744\n",
            "Epoch 17/30\n",
            "1875/1875 [==============================] - 3s 2ms/step - loss: 0.0400 - accuracy: 0.9866 - val_loss: 0.0997 - val_accuracy: 0.9732\n",
            "Epoch 18/30\n",
            "1875/1875 [==============================] - 4s 2ms/step - loss: 0.0405 - accuracy: 0.9864 - val_loss: 0.0913 - val_accuracy: 0.9759\n",
            "Epoch 19/30\n",
            "1875/1875 [==============================] - 4s 2ms/step - loss: 0.0380 - accuracy: 0.9872 - val_loss: 0.0997 - val_accuracy: 0.9726\n",
            "Epoch 20/30\n",
            "1875/1875 [==============================] - 4s 2ms/step - loss: 0.0367 - accuracy: 0.9874 - val_loss: 0.1055 - val_accuracy: 0.9744\n",
            "Epoch 21/30\n",
            "1875/1875 [==============================] - 4s 2ms/step - loss: 0.0370 - accuracy: 0.9873 - val_loss: 0.1060 - val_accuracy: 0.9728\n",
            "Epoch 22/30\n",
            "1875/1875 [==============================] - 4s 2ms/step - loss: 0.0327 - accuracy: 0.9890 - val_loss: 0.1015 - val_accuracy: 0.9746\n",
            "Epoch 23/30\n",
            "1875/1875 [==============================] - 4s 2ms/step - loss: 0.0354 - accuracy: 0.9880 - val_loss: 0.1083 - val_accuracy: 0.9737\n",
            "Epoch 24/30\n",
            "1875/1875 [==============================] - 4s 2ms/step - loss: 0.0335 - accuracy: 0.9885 - val_loss: 0.1018 - val_accuracy: 0.9745\n",
            "Epoch 25/30\n",
            "1875/1875 [==============================] - 4s 2ms/step - loss: 0.0330 - accuracy: 0.9892 - val_loss: 0.1076 - val_accuracy: 0.9740\n",
            "Epoch 26/30\n",
            "1875/1875 [==============================] - 3s 2ms/step - loss: 0.0296 - accuracy: 0.9897 - val_loss: 0.1119 - val_accuracy: 0.9724\n",
            "Epoch 27/30\n",
            "1875/1875 [==============================] - 4s 2ms/step - loss: 0.0303 - accuracy: 0.9893 - val_loss: 0.1160 - val_accuracy: 0.9726\n",
            "Epoch 28/30\n",
            "1875/1875 [==============================] - 3s 2ms/step - loss: 0.0290 - accuracy: 0.9906 - val_loss: 0.1193 - val_accuracy: 0.9725\n",
            "Epoch 29/30\n",
            "1875/1875 [==============================] - 3s 2ms/step - loss: 0.0295 - accuracy: 0.9901 - val_loss: 0.1102 - val_accuracy: 0.9750\n",
            "Epoch 30/30\n",
            "1875/1875 [==============================] - 3s 2ms/step - loss: 0.0284 - accuracy: 0.9903 - val_loss: 0.1171 - val_accuracy: 0.9730\n"
          ],
          "name": "stdout"
        }
      ]
    },
    {
      "cell_type": "code",
      "metadata": {
        "id": "MSj0kifiSDfW",
        "colab_type": "code",
        "outputId": "025a581b-ea49-4cf7-e058-9dc9e503f447",
        "colab": {
          "base_uri": "https://localhost:8080/",
          "height": 283
        }
      },
      "source": [
        "plt.plot(report.history['loss'], label=\"loss\")\n",
        "plt.plot(report.history['val_loss'], label=\"validation_loss\")\n",
        "plt.legend()"
      ],
      "execution_count": 0,
      "outputs": [
        {
          "output_type": "execute_result",
          "data": {
            "text/plain": [
              "<matplotlib.legend.Legend at 0x7f6b146c9eb8>"
            ]
          },
          "metadata": {
            "tags": []
          },
          "execution_count": 21
        },
        {
          "output_type": "display_data",
          "data": {
            "image/png": "[encoded data removed]",
            "text/plain": [
              "<Figure size 432x288 with 1 Axes>"
            ]
          },
          "metadata": {
            "tags": [],
            "needs_background": "light"
          }
        }
      ]
    },
    {
      "cell_type": "code",
      "metadata": {
        "id": "unry0DbzOTKh",
        "colab_type": "code",
        "outputId": "c2f97c54-dd36-4b0e-ad11-2d7155be0724",
        "colab": {
          "base_uri": "https://localhost:8080/",
          "height": 283
        }
      },
      "source": [
        "plt.plot(report.history['accuracy'], label=\"accuracy\")\n",
        "plt.plot(report.history['val_accuracy'], label=\"validation_accuracy\")\n",
        "plt.legend()"
      ],
      "execution_count": 0,
      "outputs": [
        {
          "output_type": "execute_result",
          "data": {
            "text/plain": [
              "<matplotlib.legend.Legend at 0x7f6b141f8f60>"
            ]
          },
          "metadata": {
            "tags": []
          },
          "execution_count": 22
        },
        {
          "output_type": "display_data",
          "data": {
            "image/png": "[encoded data removed]",
            "text/plain": [
              "<Figure size 432x288 with 1 Axes>"
            ]
          },
          "metadata": {
            "tags": [],
            "needs_background": "light"
          }
        }
      ]
    },
    {
      "cell_type": "code",
      "metadata": {
        "id": "LuietUFpEG5a",
        "colab_type": "code",
        "outputId": "bc530522-8d6d-4e39-b330-1bbd95becdfe",
        "colab": {
          "base_uri": "https://localhost:8080/",
          "height": 87
        }
      },
      "source": [
        "print(\"Train eval: \", model.evaluate(X_train, y_train))\n",
        "print(\"Test eval: \", model.evaluate(X_test, y_test))\n"
      ],
      "execution_count": 0,
      "outputs": [
        {
          "output_type": "stream",
          "text": [
            "1875/1875 [==============================] - 2s 1ms/step - loss: 0.0116 - accuracy: 0.9967\n",
            "Train eval:  [0.011624787002801895, 0.9966833591461182]\n",
            "313/313 [==============================] - 0s 1ms/step - loss: 0.1171 - accuracy: 0.9730\n",
            "Test eval:  [0.11707121878862381, 0.9729999899864197]\n"
          ],
          "name": "stdout"
        }
      ]
    },
    {
      "cell_type": "code",
      "metadata": {
        "id": "OWba2a1fPZtn",
        "colab_type": "code",
        "colab": {}
      },
      "source": [
        "y_pred = model.predict(X_test).argmax(axis=1)"
      ],
      "execution_count": 0,
      "outputs": []
    },
    {
      "cell_type": "code",
      "metadata": {
        "id": "4MH550mZPdjG",
        "colab_type": "code",
        "outputId": "4e34baed-2d5a-4c93-c000-f0acaf5af141",
        "colab": {
          "base_uri": "https://localhost:8080/",
          "height": 52
        }
      },
      "source": [
        "print(y_test.shape)\n",
        "print(y_pred.shape)"
      ],
      "execution_count": 0,
      "outputs": [
        {
          "output_type": "stream",
          "text": [
            "(10000,)\n",
            "(10000,)\n"
          ],
          "name": "stdout"
        }
      ]
    },
    {
      "cell_type": "code",
      "metadata": {
        "id": "4TVvUj8ROdNP",
        "colab_type": "code",
        "outputId": "da72f066-7637-4e5a-f82d-606841f62912",
        "colab": {
          "base_uri": "https://localhost:8080/",
          "height": 580
        }
      },
      "source": [
        "from sklearn.metrics import confusion_matrix\n",
        "import itertools\n",
        "cm = confusion_matrix(y_test, y_pred)\n",
        "\n",
        "plt.figure(figsize=(10,10))\n",
        "plt.imshow(cm, cmap=plt.cm.Blues)\n",
        "for i,j in itertools.product(range(cm.shape[0]), range(cm.shape[1])):\n",
        "  plt.text(j, i, format(cm[i,j], 'd'),\n",
        "           horizontalalignment = 'center',\n",
        "           color='black')\n",
        "plt.xlabel(\"Predicted labels\")\n",
        "plt.ylabel(\"True labels\")\n",
        "plt.xticks(list(range(10)))\n",
        "plt.yticks(list(range(10)))\n",
        "plt.title('Confusion matrix')\n",
        "plt.colorbar()\n",
        "plt.show()\n"
      ],
      "execution_count": 0,
      "outputs": [
        {
          "output_type": "display_data",
          "data": {
            "image/png": "[encoded data removed]",
            "text/plain": [
              "<Figure size 720x720 with 2 Axes>"
            ]
          },
          "metadata": {
            "tags": [],
            "needs_background": "light"
          }
        }
      ]
    },
    {
      "cell_type": "code",
      "metadata": {
        "id": "4O2RlW9QTgEq",
        "colab_type": "code",
        "outputId": "6ddba6be-d4fd-4796-d9b8-073e030bc1fa",
        "colab": {
          "base_uri": "https://localhost:8080/",
          "height": 299
        }
      },
      "source": [
        "misshits = np.where(y_pred!=y_test)[0]\n",
        "index = np.random.choice(misshits)\n",
        "plt.imshow(X_test[index], cmap='gray')\n",
        "plt.title(\"Predicted = \" + str(y_pred[index]) + \", Real = \" + str(y_test[index]))"
      ],
      "execution_count": 0,
      "outputs": [
        {
          "output_type": "execute_result",
          "data": {
            "text/plain": [
              "Text(0.5, 1.0, 'Predicted = 4, Real = 2')"
            ]
          },
          "metadata": {
            "tags": []
          },
          "execution_count": 46
        },
        {
          "output_type": "display_data",
          "data": {
            "image/png": "[encoded data removed]",
            "text/plain": [
              "<Figure size 432x288 with 1 Axes>"
            ]
          },
          "metadata": {
            "tags": [],
            "needs_background": "light"
          }
        }
      ]
    },
    {
      "cell_type": "code",
      "metadata": {
        "id": "ZGYzYLlPOi-c",
        "colab_type": "code",
        "colab": {}
      },
      "source": [
        ""
      ],
      "execution_count": 0,
      "outputs": []
    },
    {
      "cell_type": "code",
      "metadata": {
        "id": "CCuTqwl1Vtvu",
        "colab_type": "code",
        "colab": {}
      },
      "source": [
        ""
      ],
      "execution_count": 0,
      "outputs": []
    },
    {
      "cell_type": "code",
      "metadata": {
        "id": "KEUXLju-Vt9c",
        "colab_type": "code",
        "colab": {}
      },
      "source": [
        ""
      ],
      "execution_count": 0,
      "outputs": []
    },
    {
      "cell_type": "code",
      "metadata": {
        "id": "zORnc9YsV7Gv",
        "colab_type": "code",
        "colab": {}
      },
      "source": [
        "from tensorflow.keras.callbacks import ModelCheckpoint "
      ],
      "execution_count": 0,
      "outputs": []
    },
    {
      "cell_type": "code",
      "metadata": {
        "id": "2HjJHfQjWePk",
        "colab_type": "code",
        "colab": {}
      },
      "source": [
        "checkpointer = ModelCheckpoint(filepath='mnist.best.hdf5', save_best_only = True)"
      ],
      "execution_count": 0,
      "outputs": []
    },
    {
      "cell_type": "code",
      "metadata": {
        "colab_type": "code",
        "id": "tINIcSBBVuMq",
        "colab": {}
      },
      "source": [
        "model = tf.keras.models.Sequential([\n",
        "                                    tf.keras.layers.Flatten(input_shape = (X_train.shape[1], X_train.shape[2])),\n",
        "                                    tf.keras.layers.Dense(64, activation='relu'),\n",
        "                                    tf.keras.layers.Dropout(0.1),\n",
        "                                    tf.keras.layers.Dense(10, activation='softmax')\n",
        "])"
      ],
      "execution_count": 0,
      "outputs": []
    },
    {
      "cell_type": "code",
      "metadata": {
        "colab_type": "code",
        "id": "WpnhvJr1VuM2",
        "colab": {}
      },
      "source": [
        "model.compile(\n",
        "    optimizer='adam',\n",
        "    loss='sparse_categorical_crossentropy',\n",
        "    metrics=['accuracy'])"
      ],
      "execution_count": 0,
      "outputs": []
    },
    {
      "cell_type": "code",
      "metadata": {
        "colab_type": "code",
        "outputId": "f59565ff-3adc-4b7d-9019-90bc3605fbf9",
        "id": "REOh84OIVuM7",
        "colab": {
          "base_uri": "https://localhost:8080/",
          "height": 1000
        }
      },
      "source": [
        "report = model.fit(X_train, y_train, validation_data=(X_test, y_test), epochs = 30, callbacks = [checkpointer])"
      ],
      "execution_count": 34,
      "outputs": [
        {
          "output_type": "stream",
          "text": [
            "Epoch 1/30\n",
            "1875/1875 [==============================] - 4s 2ms/step - loss: 0.3416 - accuracy: 0.9027 - val_loss: 0.1802 - val_accuracy: 0.9447\n",
            "Epoch 2/30\n",
            "1875/1875 [==============================] - 4s 2ms/step - loss: 0.1755 - accuracy: 0.9479 - val_loss: 0.1226 - val_accuracy: 0.9632\n",
            "Epoch 3/30\n",
            "1875/1875 [==============================] - 4s 2ms/step - loss: 0.1321 - accuracy: 0.9595 - val_loss: 0.1026 - val_accuracy: 0.9696\n",
            "Epoch 4/30\n",
            "1875/1875 [==============================] - 4s 2ms/step - loss: 0.1090 - accuracy: 0.9662 - val_loss: 0.0940 - val_accuracy: 0.9723\n",
            "Epoch 5/30\n",
            "1875/1875 [==============================] - 4s 2ms/step - loss: 0.0948 - accuracy: 0.9702 - val_loss: 0.0934 - val_accuracy: 0.9726\n",
            "Epoch 6/30\n",
            "1875/1875 [==============================] - 4s 2ms/step - loss: 0.0855 - accuracy: 0.9728 - val_loss: 0.0850 - val_accuracy: 0.9747\n",
            "Epoch 7/30\n",
            "1875/1875 [==============================] - 4s 2ms/step - loss: 0.0769 - accuracy: 0.9753 - val_loss: 0.0802 - val_accuracy: 0.9757\n",
            "Epoch 8/30\n",
            "1875/1875 [==============================] - 4s 2ms/step - loss: 0.0700 - accuracy: 0.9775 - val_loss: 0.0799 - val_accuracy: 0.9767\n",
            "Epoch 9/30\n",
            "1875/1875 [==============================] - 4s 2ms/step - loss: 0.0657 - accuracy: 0.9789 - val_loss: 0.0787 - val_accuracy: 0.9754\n",
            "Epoch 10/30\n",
            "1875/1875 [==============================] - 4s 2ms/step - loss: 0.0613 - accuracy: 0.9801 - val_loss: 0.0839 - val_accuracy: 0.9761\n",
            "Epoch 11/30\n",
            "1875/1875 [==============================] - 4s 2ms/step - loss: 0.0589 - accuracy: 0.9809 - val_loss: 0.0786 - val_accuracy: 0.9782\n",
            "Epoch 12/30\n",
            "1875/1875 [==============================] - 4s 2ms/step - loss: 0.0514 - accuracy: 0.9834 - val_loss: 0.0815 - val_accuracy: 0.9783\n",
            "Epoch 13/30\n",
            "1875/1875 [==============================] - 4s 2ms/step - loss: 0.0503 - accuracy: 0.9835 - val_loss: 0.0792 - val_accuracy: 0.9776\n",
            "Epoch 14/30\n",
            "1875/1875 [==============================] - 5s 3ms/step - loss: 0.0486 - accuracy: 0.9834 - val_loss: 0.0825 - val_accuracy: 0.9763\n",
            "Epoch 15/30\n",
            "1875/1875 [==============================] - 5s 3ms/step - loss: 0.0451 - accuracy: 0.9849 - val_loss: 0.0846 - val_accuracy: 0.9786\n",
            "Epoch 16/30\n",
            "1875/1875 [==============================] - 4s 2ms/step - loss: 0.0429 - accuracy: 0.9851 - val_loss: 0.0889 - val_accuracy: 0.9773\n",
            "Epoch 17/30\n",
            "1875/1875 [==============================] - 4s 2ms/step - loss: 0.0415 - accuracy: 0.9865 - val_loss: 0.0938 - val_accuracy: 0.9762\n",
            "Epoch 18/30\n",
            "1875/1875 [==============================] - 4s 2ms/step - loss: 0.0399 - accuracy: 0.9865 - val_loss: 0.0834 - val_accuracy: 0.9781\n",
            "Epoch 19/30\n",
            "1875/1875 [==============================] - 4s 2ms/step - loss: 0.0393 - accuracy: 0.9869 - val_loss: 0.0987 - val_accuracy: 0.9744\n",
            "Epoch 20/30\n",
            "1875/1875 [==============================] - 4s 2ms/step - loss: 0.0373 - accuracy: 0.9875 - val_loss: 0.0925 - val_accuracy: 0.9776\n",
            "Epoch 21/30\n",
            "1875/1875 [==============================] - 4s 2ms/step - loss: 0.0362 - accuracy: 0.9878 - val_loss: 0.0963 - val_accuracy: 0.9771\n",
            "Epoch 22/30\n",
            "1875/1875 [==============================] - 4s 2ms/step - loss: 0.0352 - accuracy: 0.9878 - val_loss: 0.0898 - val_accuracy: 0.9786\n",
            "Epoch 23/30\n",
            "1875/1875 [==============================] - 3s 2ms/step - loss: 0.0339 - accuracy: 0.9881 - val_loss: 0.0898 - val_accuracy: 0.9767\n",
            "Epoch 24/30\n",
            "1875/1875 [==============================] - 4s 2ms/step - loss: 0.0330 - accuracy: 0.9881 - val_loss: 0.0944 - val_accuracy: 0.9767\n",
            "Epoch 25/30\n",
            "1875/1875 [==============================] - 4s 2ms/step - loss: 0.0318 - accuracy: 0.9892 - val_loss: 0.0964 - val_accuracy: 0.9775\n",
            "Epoch 26/30\n",
            "1875/1875 [==============================] - 4s 2ms/step - loss: 0.0287 - accuracy: 0.9906 - val_loss: 0.1024 - val_accuracy: 0.9766\n",
            "Epoch 27/30\n",
            "1875/1875 [==============================] - 4s 2ms/step - loss: 0.0296 - accuracy: 0.9901 - val_loss: 0.0921 - val_accuracy: 0.9800\n",
            "Epoch 28/30\n",
            "1875/1875 [==============================] - 4s 2ms/step - loss: 0.0284 - accuracy: 0.9904 - val_loss: 0.0913 - val_accuracy: 0.9777\n",
            "Epoch 29/30\n",
            "1875/1875 [==============================] - 4s 2ms/step - loss: 0.0287 - accuracy: 0.9908 - val_loss: 0.0959 - val_accuracy: 0.9777\n",
            "Epoch 30/30\n",
            "1875/1875 [==============================] - 4s 2ms/step - loss: 0.0281 - accuracy: 0.9906 - val_loss: 0.0997 - val_accuracy: 0.9778\n"
          ],
          "name": "stdout"
        }
      ]
    },
    {
      "cell_type": "code",
      "metadata": {
        "colab_type": "code",
        "outputId": "5b78e7d4-cb65-46a4-eb9c-67595cfe8bf4",
        "id": "xf-3AtlfVuNA",
        "colab": {
          "base_uri": "https://localhost:8080/",
          "height": 283
        }
      },
      "source": [
        "plt.plot(report.history['loss'], label=\"loss\")\n",
        "plt.plot(report.history['val_loss'], label=\"validation_loss\")\n",
        "plt.legend()"
      ],
      "execution_count": 35,
      "outputs": [
        {
          "output_type": "execute_result",
          "data": {
            "text/plain": [
              "<matplotlib.legend.Legend at 0x7fed716fb400>"
            ]
          },
          "metadata": {
            "tags": []
          },
          "execution_count": 35
        },
        {
          "output_type": "display_data",
          "data": {
            "image/png": "[encoded data removed]",
            "text/plain": [
              "<Figure size 432x288 with 1 Axes>"
            ]
          },
          "metadata": {
            "tags": [],
            "needs_background": "light"
          }
        }
      ]
    },
    {
      "cell_type": "code",
      "metadata": {
        "colab_type": "code",
        "outputId": "212fa370-dee9-444b-a202-31af2bbe398c",
        "id": "ojFCKnuqVuNF",
        "colab": {
          "base_uri": "https://localhost:8080/",
          "height": 283
        }
      },
      "source": [
        "plt.plot(report.history['accuracy'], label=\"accuracy\")\n",
        "plt.plot(report.history['val_accuracy'], label=\"validation_accuracy\")\n",
        "plt.legend()"
      ],
      "execution_count": 36,
      "outputs": [
        {
          "output_type": "execute_result",
          "data": {
            "text/plain": [
              "<matplotlib.legend.Legend at 0x7fed717b9630>"
            ]
          },
          "metadata": {
            "tags": []
          },
          "execution_count": 36
        },
        {
          "output_type": "display_data",
          "data": {
            "image/png": "[encoded data removed]",
            "text/plain": [
              "<Figure size 432x288 with 1 Axes>"
            ]
          },
          "metadata": {
            "tags": [],
            "needs_background": "light"
          }
        }
      ]
    },
    {
      "cell_type": "code",
      "metadata": {
        "colab_type": "code",
        "outputId": "2d2be561-0778-4f82-a5ba-cf54a148d7ba",
        "id": "xZv6eA0vVuNI",
        "colab": {
          "base_uri": "https://localhost:8080/",
          "height": 87
        }
      },
      "source": [
        "print(\"Train eval: \", model.evaluate(X_train, y_train))\n",
        "print(\"Test eval: \", model.evaluate(X_test, y_test))\n"
      ],
      "execution_count": 37,
      "outputs": [
        {
          "output_type": "stream",
          "text": [
            "1875/1875 [==============================] - 3s 1ms/step - loss: 0.0094 - accuracy: 0.9971\n",
            "Train eval:  [0.009392145089805126, 0.9971333146095276]\n",
            "313/313 [==============================] - 0s 1ms/step - loss: 0.0997 - accuracy: 0.9778\n",
            "Test eval:  [0.09967707097530365, 0.9778000116348267]\n"
          ],
          "name": "stdout"
        }
      ]
    },
    {
      "cell_type": "code",
      "metadata": {
        "id": "7vVk7J6CX2hs",
        "colab_type": "code",
        "colab": {}
      },
      "source": [
        "model_saved = tf.keras.models.Sequential([\n",
        "                                    tf.keras.layers.Flatten(input_shape = (X_train.shape[1], X_train.shape[2])),\n",
        "                                    tf.keras.layers.Dense(64, activation='relu'),\n",
        "                                    tf.keras.layers.Dropout(0.1),\n",
        "                                    tf.keras.layers.Dense(10, activation='softmax')\n",
        "])"
      ],
      "execution_count": 0,
      "outputs": []
    },
    {
      "cell_type": "code",
      "metadata": {
        "id": "HBDbMfIoXaRu",
        "colab_type": "code",
        "colab": {}
      },
      "source": [
        "model_saved.load_weights('mnist.best.hdf5')"
      ],
      "execution_count": 0,
      "outputs": []
    },
    {
      "cell_type": "code",
      "metadata": {
        "id": "D5yrRDWnYa3E",
        "colab_type": "code",
        "colab": {}
      },
      "source": [
        "model_saved.compile(\n",
        "    optimizer='adam',\n",
        "    loss='sparse_categorical_crossentropy',\n",
        "    metrics=['accuracy'])"
      ],
      "execution_count": 0,
      "outputs": []
    },
    {
      "cell_type": "code",
      "metadata": {
        "id": "UEwJ1czMX0ca",
        "colab_type": "code",
        "colab": {
          "base_uri": "https://localhost:8080/",
          "height": 87
        },
        "outputId": "20614fee-e61b-45fb-dbc4-d85868bdc16d"
      },
      "source": [
        "print(\"Train eval: \", model_saved.evaluate(X_train, y_train))\n",
        "print(\"Test eval: \", model_saved.evaluate(X_test, y_test))"
      ],
      "execution_count": 41,
      "outputs": [
        {
          "output_type": "stream",
          "text": [
            "1875/1875 [==============================] - 2s 1ms/step - loss: 0.0277 - accuracy: 0.9918\n",
            "Train eval:  [0.027722148224711418, 0.9917666912078857]\n",
            "313/313 [==============================] - 0s 1ms/step - loss: 0.0786 - accuracy: 0.9782\n",
            "Test eval:  [0.07857372611761093, 0.9782000184059143]\n"
          ],
          "name": "stdout"
        }
      ]
    },
    {
      "cell_type": "code",
      "metadata": {
        "id": "-rMmvRpyYUoz",
        "colab_type": "code",
        "colab": {}
      },
      "source": [
        ""
      ],
      "execution_count": 0,
      "outputs": []
    }
  ]
}