{
  "nbformat": 4,
  "nbformat_minor": 0,
  "metadata": {
    "colab": {
      "name": "Demo60_GradientDescentMultiLayeredPerceptron.ipynb",
      "provenance": [],
      "collapsed_sections": []
    },
    "kernelspec": {
      "name": "python3",
      "display_name": "Python 3"
    }
  },
  "cells": [
    {
      "cell_type": "markdown",
      "metadata": {
        "id": "P9bJCDjdlgG6",
        "colab_type": "text"
      },
      "source": [
        "# **Delve Deeper**\n",
        "\n",
        "We need sound conceptual foundation to be good Machine Learning Artists\n",
        "\n",
        "## Leggo\n"
      ]
    },
    {
      "cell_type": "markdown",
      "metadata": {
        "id": "eCqC3BxsfJpR",
        "colab_type": "text"
      },
      "source": [
        "## Structure of NN \n",
        "\n",
        "Layer1 = Input = X1, X2\n",
        "\n",
        "Layer2 = Hidden = H1, H2\n",
        "\n",
        "Layer3 = Output = H"
      ]
    },
    {
      "cell_type": "code",
      "metadata": {
        "id": "aQwc0re5mFld",
        "colab_type": "code",
        "outputId": "87dce6ad-fe1f-424c-8080-98bba665fa06",
        "colab": {
          "base_uri": "https://localhost:8080/",
          "height": 35
        }
      },
      "source": [
        "import numpy as np\n",
        "import pandas as pd\n",
        "import matplotlib.pyplot as plt\n",
        "import tensorflow as tf\n",
        "print(tf.__version__)"
      ],
      "execution_count": 69,
      "outputs": [
        {
          "output_type": "stream",
          "text": [
            "2.2.0\n"
          ],
          "name": "stdout"
        }
      ]
    },
    {
      "cell_type": "code",
      "metadata": {
        "id": "AMiRjMTwmi--",
        "colab_type": "code",
        "colab": {}
      },
      "source": [
        "def sigmoid(x):\n",
        "    return 1/(1+np.exp(-x))\n",
        "\n",
        "def sigmoid_hat(x):\n",
        "    return sigmoid(x) * (1 - sigmoid(x))\n",
        "\n"
      ],
      "execution_count": 0,
      "outputs": []
    },
    {
      "cell_type": "code",
      "metadata": {
        "id": "qyw8HvOuBEZm",
        "colab_type": "code",
        "outputId": "ab1f74b1-6f76-4305-941d-3365acd2c147",
        "colab": {
          "base_uri": "https://localhost:8080/",
          "height": 279
        }
      },
      "source": [
        "from sklearn.datasets.samples_generator import make_moons\n",
        "from sklearn.datasets.samples_generator import make_circles\n",
        "from sklearn.datasets.samples_generator import make_blobs\n",
        "# generate 2d classification dataset\n",
        "n = 500\n",
        "X, y = make_moons(n_samples=n, noise=0.1)\n",
        "# scatter plot, dots colored by class value\n",
        "df = pd.DataFrame(dict(x=X[:,0], y=X[:,1], label=y))\n",
        "colors = {0:'red', 1:'blue'}\n",
        "fig, ax = plt.subplots()\n",
        "grouped = df.groupby('label')\n",
        "for key, group in grouped:\n",
        "    group.plot(ax=ax, kind='scatter', x='x', y='y', label=key, color=colors[key])\n",
        "plt.show()\n",
        "\n",
        "datadict = {'X1': X[:,0],'X2' : X[:,1], 'target': y}\n",
        "data = pd.DataFrame(data=datadict)\n"
      ],
      "execution_count": 71,
      "outputs": [
        {
          "output_type": "display_data",
          "data": {
            "image/png": "[encoded data removed]",
            "text/plain": [
              "<Figure size 432x288 with 1 Axes>"
            ]
          },
          "metadata": {
            "tags": [],
            "needs_background": "light"
          }
        }
      ]
    },
    {
      "cell_type": "code",
      "metadata": {
        "id": "9KMWbjZekFYQ",
        "colab_type": "code",
        "outputId": "532a8295-ef06-480c-a0bb-365b71a8886f",
        "colab": {
          "base_uri": "https://localhost:8080/",
          "height": 52
        }
      },
      "source": [
        "# Number of input units\n",
        "D = 2\n",
        "# Hidden units\n",
        "U = 2 \n",
        "\n",
        "# Initialize weights\n",
        "weights_L1L2 = np.random.normal(scale= 1/D**.5, size=(D,U))\n",
        "weights_L2L3 = np.random.normal(0, scale=0.1, size=(U, 1))\n",
        "print(weights_L1L2)\n",
        "epochs = 2000\n",
        "lr = 0.2"
      ],
      "execution_count": 72,
      "outputs": [
        {
          "output_type": "stream",
          "text": [
            "[[ 0.63369217 -0.19259209]\n",
            " [-0.55996049  0.55821332]]\n"
          ],
          "name": "stdout"
        }
      ]
    },
    {
      "cell_type": "code",
      "metadata": {
        "id": "078quGqzzBVF",
        "colab_type": "code",
        "colab": {}
      },
      "source": [
        "X = data.iloc[:, [0,1]].values\n",
        "Y = data.iloc[:, 2].values"
      ],
      "execution_count": 0,
      "outputs": []
    },
    {
      "cell_type": "code",
      "metadata": {
        "id": "Pj_HVhfVeCLV",
        "colab_type": "code",
        "colab": {
          "base_uri": "https://localhost:8080/",
          "height": 69
        },
        "outputId": "37e0fb6d-5fad-464b-db12-af53957d277c"
      },
      "source": [
        "print(X.shape)\n",
        "print(weights_L1L2.shape)\n",
        "Layer2_input = np.dot(X, weights_L1L2)\n",
        "print(Layer2_input.shape)"
      ],
      "execution_count": 74,
      "outputs": [
        {
          "output_type": "stream",
          "text": [
            "(500, 2)\n",
            "(2, 2)\n",
            "(500, 2)\n"
          ],
          "name": "stdout"
        }
      ]
    },
    {
      "cell_type": "code",
      "metadata": {
        "id": "CqQYQi9be_Cn",
        "colab_type": "code",
        "colab": {}
      },
      "source": [
        "Layer2_output = sigmoid(Layer2_input)"
      ],
      "execution_count": 0,
      "outputs": []
    },
    {
      "cell_type": "code",
      "metadata": {
        "id": "-gbdExHbftg9",
        "colab_type": "code",
        "colab": {
          "base_uri": "https://localhost:8080/",
          "height": 35
        },
        "outputId": "dcee0ce0-db6f-4774-a00f-f1e7ef1ab8ef"
      },
      "source": [
        "Layer3_input = np.dot(Layer2_output,weights_L2L3 )\n",
        "print(Layer3_input.shape)"
      ],
      "execution_count": 76,
      "outputs": [
        {
          "output_type": "stream",
          "text": [
            "(500, 1)\n"
          ],
          "name": "stdout"
        }
      ]
    },
    {
      "cell_type": "code",
      "metadata": {
        "id": "4YcOB8nmgXLd",
        "colab_type": "code",
        "colab": {
          "base_uri": "https://localhost:8080/",
          "height": 35
        },
        "outputId": "b798260f-dc4d-4f41-d600-d7e294b2c7f4"
      },
      "source": [
        "Layer3_output = sigmoid(Layer3_input)\n",
        "Layer3_output.shape"
      ],
      "execution_count": 77,
      "outputs": [
        {
          "output_type": "execute_result",
          "data": {
            "text/plain": [
              "(500, 1)"
            ]
          },
          "metadata": {
            "tags": []
          },
          "execution_count": 77
        }
      ]
    },
    {
      "cell_type": "markdown",
      "metadata": {
        "id": "_EvWojOMhV17",
        "colab_type": "text"
      },
      "source": [
        "## You know the problem? We need more derivatives? When we have a perceptron, we can just calculate the derivative wrt to weights in the output layer, but we have a hidden layer that needs more error terms, what must we do? "
      ]
    },
    {
      "cell_type": "code",
      "metadata": {
        "id": "aq-CBm-On8as",
        "colab_type": "code",
        "colab": {
          "base_uri": "https://localhost:8080/",
          "height": 35
        },
        "outputId": "6acf96e1-1f07-432a-c7cc-cb8cb7fdebd0"
      },
      "source": [
        "print(Y.shape)"
      ],
      "execution_count": 78,
      "outputs": [
        {
          "output_type": "stream",
          "text": [
            "(500,)\n"
          ],
          "name": "stdout"
        }
      ]
    },
    {
      "cell_type": "code",
      "metadata": {
        "id": "YmbtNLynfDXs",
        "colab_type": "code",
        "colab": {
          "base_uri": "https://localhost:8080/",
          "height": 35
        },
        "outputId": "d2a9b130-4a30-4604-df78-bdd1ec97a600"
      },
      "source": [
        "error = Y.reshape(-1,1) - Layer3_output\n",
        "print(error.shape)"
      ],
      "execution_count": 80,
      "outputs": [
        {
          "output_type": "stream",
          "text": [
            "(500, 1)\n"
          ],
          "name": "stdout"
        }
      ]
    },
    {
      "cell_type": "code",
      "metadata": {
        "id": "CwD6TVBPoCIs",
        "colab_type": "code",
        "colab": {
          "base_uri": "https://localhost:8080/",
          "height": 35
        },
        "outputId": "90005864-6b0d-4e7f-ab33-59dd0878e3c3"
      },
      "source": [
        "Layer3_error_term = error * Layer3_output * (1 - Layer3_output)\n",
        "print(Layer3_error_term.shape)"
      ],
      "execution_count": 81,
      "outputs": [
        {
          "output_type": "stream",
          "text": [
            "(500, 1)\n"
          ],
          "name": "stdout"
        }
      ]
    },
    {
      "cell_type": "code",
      "metadata": {
        "id": "btrrEiAEnj07",
        "colab_type": "code",
        "colab": {
          "base_uri": "https://localhost:8080/",
          "height": 35
        },
        "outputId": "0f82fa79-39ba-43c6-f3bb-c96d755cc9be"
      },
      "source": [
        "Layer2_error_term = np.dot(Layer3_error_term, weights_L2L3.T) * Layer2_output * (1 - Layer2_output)\n",
        "print(Layer2_error_term.shape)"
      ],
      "execution_count": 82,
      "outputs": [
        {
          "output_type": "stream",
          "text": [
            "(500, 2)\n"
          ],
          "name": "stdout"
        }
      ]
    },
    {
      "cell_type": "code",
      "metadata": {
        "id": "JFpY3ANTofUM",
        "colab_type": "code",
        "colab": {
          "base_uri": "https://localhost:8080/",
          "height": 35
        },
        "outputId": "99e91146-f325-436d-b75e-79707450030d"
      },
      "source": [
        "delta_L2L3 = lr * Layer3_error_term * Layer2_output\n",
        "print(delta_L2L3.shape)"
      ],
      "execution_count": 83,
      "outputs": [
        {
          "output_type": "stream",
          "text": [
            "(500, 2)\n"
          ],
          "name": "stdout"
        }
      ]
    },
    {
      "cell_type": "code",
      "metadata": {
        "id": "K1LdHuaAooQa",
        "colab_type": "code",
        "colab": {
          "base_uri": "https://localhost:8080/",
          "height": 35
        },
        "outputId": "c722beb9-ad87-4fd5-adae-e5edeed84a53"
      },
      "source": [
        "delta_L1L2 = lr * Layer2_error_term * X\n",
        "print(delta_L1L2.shape)"
      ],
      "execution_count": 84,
      "outputs": [
        {
          "output_type": "stream",
          "text": [
            "(500, 2)\n"
          ],
          "name": "stdout"
        }
      ]
    }
  ]
}