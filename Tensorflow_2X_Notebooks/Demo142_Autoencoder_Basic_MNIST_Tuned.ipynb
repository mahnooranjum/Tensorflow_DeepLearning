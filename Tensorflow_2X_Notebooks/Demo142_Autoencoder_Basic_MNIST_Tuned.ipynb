{
  "nbformat": 4,
  "nbformat_minor": 0,
  "metadata": {
    "colab": {
      "name": "Demo142_Autoencoder_Basic_MNIST_Tuned.ipynb",
      "provenance": [],
      "collapsed_sections": []
    },
    "kernelspec": {
      "name": "python3",
      "display_name": "Python 3"
    }
  },
  "cells": [
    {
      "cell_type": "markdown",
      "metadata": {
        "id": "P9bJCDjdlgG6",
        "colab_type": "text"
      },
      "source": [
        "# **Spit some [tensor] flow**\n",
        "\n",
        "We need to learn the intricacies of tensorflow to master deep learning\n",
        "\n"
      ]
    },
    {
      "cell_type": "code",
      "metadata": {
        "id": "aQwc0re5mFld",
        "colab_type": "code",
        "outputId": "2a9a197f-7c1e-4ac0-c065-3148abea4957",
        "colab": {
          "base_uri": "https://localhost:8080/",
          "height": 34
        }
      },
      "source": [
        "import numpy as np\n",
        "import pandas as pd\n",
        "import matplotlib.pyplot as plt\n",
        "import tensorflow as tf\n",
        "import cv2\n",
        "print(tf.__version__)"
      ],
      "execution_count": 1,
      "outputs": [
        {
          "output_type": "stream",
          "text": [
            "2.2.0\n"
          ],
          "name": "stdout"
        }
      ]
    },
    {
      "cell_type": "code",
      "metadata": {
        "id": "CaBxIWkog_i-",
        "colab_type": "code",
        "colab": {}
      },
      "source": [
        "from tensorflow.keras.layers import Input, Conv2D, Dropout, Dense, Flatten\n",
        "from tensorflow.keras.models import Model"
      ],
      "execution_count": 0,
      "outputs": []
    },
    {
      "cell_type": "code",
      "metadata": {
        "id": "zhCnvW2e2Xrv",
        "colab_type": "code",
        "colab": {
          "base_uri": "https://localhost:8080/",
          "height": 52
        },
        "outputId": "0edb0587-43c0-4296-b52c-2b752b50e284"
      },
      "source": [
        "from tensorflow.keras.datasets import mnist\n",
        "(X_train, y_train), (X_test, y_test) = mnist.load_data()"
      ],
      "execution_count": 3,
      "outputs": [
        {
          "output_type": "stream",
          "text": [
            "Downloading data from https://storage.googleapis.com/tensorflow/tf-keras-datasets/mnist.npz\n",
            "11493376/11490434 [==============================] - 0s 0us/step\n"
          ],
          "name": "stdout"
        }
      ]
    },
    {
      "cell_type": "code",
      "metadata": {
        "id": "w6qLYai-2x-O",
        "colab_type": "code",
        "outputId": "04a41c83-f5e5-47b3-b815-b83cc1481b2a",
        "colab": {
          "base_uri": "https://localhost:8080/",
          "height": 52
        }
      },
      "source": [
        "X_train, X_test = X_train / 255.0 , X_test / 255.0 \n",
        "print(X_train.shape)\n",
        "print(X_test.shape)"
      ],
      "execution_count": 4,
      "outputs": [
        {
          "output_type": "stream",
          "text": [
            "(60000, 28, 28)\n",
            "(10000, 28, 28)\n"
          ],
          "name": "stdout"
        }
      ]
    },
    {
      "cell_type": "code",
      "metadata": {
        "id": "UEphzMZC3DRu",
        "colab_type": "code",
        "outputId": "55c7931a-d6b8-4adf-e370-98dc526a443d",
        "colab": {
          "base_uri": "https://localhost:8080/",
          "height": 52
        }
      },
      "source": [
        "# X_train = np.expand_dims(X_train, -1)\n",
        "# X_test = np.expand_dims(X_test, -1)\n",
        "print(X_train.shape)\n",
        "print(X_test.shape)\n",
        "# SHAPE \n",
        "# N x H x W x Colors \n",
        "# Colors = 1 for grayscale \n",
        "# Fashion MNIST is grayscale"
      ],
      "execution_count": 5,
      "outputs": [
        {
          "output_type": "stream",
          "text": [
            "(60000, 28, 28)\n",
            "(10000, 28, 28)\n"
          ],
          "name": "stdout"
        }
      ]
    },
    {
      "cell_type": "code",
      "metadata": {
        "id": "IBVVrC-znpYd",
        "colab_type": "code",
        "outputId": "aee8bee7-d0f5-4bb9-da3d-7ecb7716a2ff",
        "colab": {
          "base_uri": "https://localhost:8080/",
          "height": 52
        }
      },
      "source": [
        "X_train = X_train.reshape(X_train.shape[0],-1)\n",
        "X_test = X_test.reshape(X_test.shape[0],-1)\n",
        "print(X_train.shape)\n",
        "print(X_test.shape)"
      ],
      "execution_count": 6,
      "outputs": [
        {
          "output_type": "stream",
          "text": [
            "(60000, 784)\n",
            "(10000, 784)\n"
          ],
          "name": "stdout"
        }
      ]
    },
    {
      "cell_type": "code",
      "metadata": {
        "id": "F-F3OFyE3QiF",
        "colab_type": "code",
        "outputId": "124235ba-33d2-4403-fb6a-e9a44a4d05cb",
        "colab": {
          "base_uri": "https://localhost:8080/",
          "height": 34
        }
      },
      "source": [
        "classes = len(set(y_train))\n",
        "print(classes)"
      ],
      "execution_count": 7,
      "outputs": [
        {
          "output_type": "stream",
          "text": [
            "10\n"
          ],
          "name": "stdout"
        }
      ]
    },
    {
      "cell_type": "code",
      "metadata": {
        "id": "Z42Ozm3Np5me",
        "colab_type": "code",
        "outputId": "3b92c500-d254-42d8-f0ea-5bf7f6202d41",
        "colab": {
          "base_uri": "https://localhost:8080/",
          "height": 34
        }
      },
      "source": [
        " X_train[0].shape"
      ],
      "execution_count": 8,
      "outputs": [
        {
          "output_type": "execute_result",
          "data": {
            "text/plain": [
              "(784,)"
            ]
          },
          "metadata": {
            "tags": []
          },
          "execution_count": 8
        }
      ]
    },
    {
      "cell_type": "code",
      "metadata": {
        "id": "gsm4l9-Z3kX2",
        "colab_type": "code",
        "colab": {}
      },
      "source": [
        "input_shape = X_train[0].shape"
      ],
      "execution_count": 0,
      "outputs": []
    },
    {
      "cell_type": "code",
      "metadata": {
        "id": "35SNHNC74Gk2",
        "colab_type": "code",
        "colab": {}
      },
      "source": [
        "i_layer = Input(shape = input_shape)\n",
        "h_layer = Dense(512, activation='relu')(i_layer)\n",
        "h_layer = Dense(254, activation='relu')(h_layer)\n",
        "h_layer = Dense(128, activation='relu')(h_layer)\n",
        "h_layer = Dense(254, activation='relu')(h_layer)\n",
        "h_layer = Dense(512, activation='relu')(h_layer)\n",
        "o_layer = Dense(X_train[0].shape[0], activation=None)(h_layer)\n",
        "model = Model(i_layer, o_layer)\n"
      ],
      "execution_count": 0,
      "outputs": []
    },
    {
      "cell_type": "code",
      "metadata": {
        "id": "PK4XdoUd5q7n",
        "colab_type": "code",
        "outputId": "9cffa8c5-c902-476c-8616-084299e5344d",
        "colab": {
          "base_uri": "https://localhost:8080/",
          "height": 1000
        }
      },
      "source": [
        "model.compile(optimizer='adam', \n",
        "              loss = \"mse\")\n",
        "\n",
        "report = model.fit(X_train, X_train, epochs=40, batch_size=200)"
      ],
      "execution_count": 13,
      "outputs": [
        {
          "output_type": "stream",
          "text": [
            "Epoch 1/40\n",
            "300/300 [==============================] - 10s 34ms/step - loss: 0.0096\n",
            "Epoch 2/40\n",
            "300/300 [==============================] - 10s 34ms/step - loss: 0.0068\n",
            "Epoch 3/40\n",
            "300/300 [==============================] - 9s 32ms/step - loss: 0.0068\n",
            "Epoch 4/40\n",
            "300/300 [==============================] - 10s 33ms/step - loss: 0.0068\n",
            "Epoch 5/40\n",
            "300/300 [==============================] - 10s 33ms/step - loss: 0.0068\n",
            "Epoch 6/40\n",
            "300/300 [==============================] - 9s 31ms/step - loss: 0.0067\n",
            "Epoch 7/40\n",
            "300/300 [==============================] - 9s 31ms/step - loss: 0.0067\n",
            "Epoch 8/40\n",
            "300/300 [==============================] - 10s 33ms/step - loss: 0.0066\n",
            "Epoch 9/40\n",
            "300/300 [==============================] - 10s 33ms/step - loss: 0.0066\n",
            "Epoch 10/40\n",
            "300/300 [==============================] - 10s 32ms/step - loss: 0.0066\n",
            "Epoch 11/40\n",
            "300/300 [==============================] - 10s 32ms/step - loss: 0.0066\n",
            "Epoch 12/40\n",
            "300/300 [==============================] - 10s 32ms/step - loss: 0.0065\n",
            "Epoch 13/40\n",
            "300/300 [==============================] - 10s 32ms/step - loss: 0.0065\n",
            "Epoch 14/40\n",
            "300/300 [==============================] - 10s 32ms/step - loss: 0.0065\n",
            "Epoch 15/40\n",
            "300/300 [==============================] - 10s 32ms/step - loss: 0.0064\n",
            "Epoch 16/40\n",
            "300/300 [==============================] - 10s 34ms/step - loss: 0.0064\n",
            "Epoch 17/40\n",
            "300/300 [==============================] - 9s 31ms/step - loss: 0.0063\n",
            "Epoch 18/40\n",
            "300/300 [==============================] - 10s 32ms/step - loss: 0.0063\n",
            "Epoch 19/40\n",
            "300/300 [==============================] - 10s 33ms/step - loss: 0.0063\n",
            "Epoch 20/40\n",
            "300/300 [==============================] - 10s 32ms/step - loss: 0.0062\n",
            "Epoch 21/40\n",
            "300/300 [==============================] - 10s 35ms/step - loss: 0.0062\n",
            "Epoch 22/40\n",
            "300/300 [==============================] - 10s 33ms/step - loss: 0.0062\n",
            "Epoch 23/40\n",
            "300/300 [==============================] - 10s 33ms/step - loss: 0.0061\n",
            "Epoch 24/40\n",
            "300/300 [==============================] - 10s 32ms/step - loss: 0.0062\n",
            "Epoch 25/40\n",
            "300/300 [==============================] - 10s 33ms/step - loss: 0.0061\n",
            "Epoch 26/40\n",
            "300/300 [==============================] - 10s 33ms/step - loss: 0.0060\n",
            "Epoch 27/40\n",
            "300/300 [==============================] - 10s 33ms/step - loss: 0.0060\n",
            "Epoch 28/40\n",
            "300/300 [==============================] - 10s 33ms/step - loss: 0.0060\n",
            "Epoch 29/40\n",
            "300/300 [==============================] - 10s 32ms/step - loss: 0.0060\n",
            "Epoch 30/40\n",
            "300/300 [==============================] - 9s 31ms/step - loss: 0.0059\n",
            "Epoch 31/40\n",
            "300/300 [==============================] - 9s 31ms/step - loss: 0.0059\n",
            "Epoch 32/40\n",
            "300/300 [==============================] - 9s 31ms/step - loss: 0.0059\n",
            "Epoch 33/40\n",
            "300/300 [==============================] - 10s 33ms/step - loss: 0.0059\n",
            "Epoch 34/40\n",
            "300/300 [==============================] - 10s 32ms/step - loss: 0.0058\n",
            "Epoch 35/40\n",
            "300/300 [==============================] - 10s 32ms/step - loss: 0.0058\n",
            "Epoch 36/40\n",
            "300/300 [==============================] - 10s 32ms/step - loss: 0.0058\n",
            "Epoch 37/40\n",
            "300/300 [==============================] - 10s 32ms/step - loss: 0.0058\n",
            "Epoch 38/40\n",
            "300/300 [==============================] - 10s 34ms/step - loss: 0.0057\n",
            "Epoch 39/40\n",
            "300/300 [==============================] - 10s 33ms/step - loss: 0.0058\n",
            "Epoch 40/40\n",
            "300/300 [==============================] - 10s 34ms/step - loss: 0.0057\n"
          ],
          "name": "stdout"
        }
      ]
    },
    {
      "cell_type": "code",
      "metadata": {
        "id": "4-R6Ju97tX03",
        "colab_type": "code",
        "outputId": "3d644e21-97d3-43c1-a1b5-f53f42905094",
        "colab": {
          "base_uri": "https://localhost:8080/",
          "height": 282
        }
      },
      "source": [
        "idx = np.random.randint(0, len(X_train))\n",
        "fig,ax = plt.subplots(1,2,figsize=(10,4))\n",
        "ax[0].imshow(X_train[idx].reshape(28,28), cmap='gray')\n",
        "X_decoded = model.predict(X_train[[idx]])\n",
        "ax[1].imshow(X_decoded.reshape(28,28), cmap='gray')"
      ],
      "execution_count": 14,
      "outputs": [
        {
          "output_type": "execute_result",
          "data": {
            "text/plain": [
              "<matplotlib.image.AxesImage at 0x7f0f900fe940>"
            ]
          },
          "metadata": {
            "tags": []
          },
          "execution_count": 14
        },
        {
          "output_type": "display_data",
          "data": {
            "image/png": "[encoded data removed]",
            "text/plain": [
              "<Figure size 720x288 with 2 Axes>"
            ]
          },
          "metadata": {
            "tags": [],
            "needs_background": "light"
          }
        }
      ]
    },
    {
      "cell_type": "code",
      "metadata": {
        "id": "9lJtnIT2vXI4",
        "colab_type": "code",
        "colab": {}
      },
      "source": [
        ""
      ],
      "execution_count": 0,
      "outputs": []
    }
  ]
}