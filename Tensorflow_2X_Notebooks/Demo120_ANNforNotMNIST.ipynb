{
  "nbformat": 4,
  "nbformat_minor": 0,
  "metadata": {
    "colab": {
      "name": "Demo120_ANNforNotMNIST.ipynb",
      "provenance": [],
      "collapsed_sections": []
    },
    "kernelspec": {
      "name": "python3",
      "display_name": "Python 3"
    }
  },
  "cells": [
    {
      "cell_type": "markdown",
      "metadata": {
        "id": "P9bJCDjdlgG6",
        "colab_type": "text"
      },
      "source": [
        "# **Spit some [tensor] flow**\n",
        "\n",
        "We need to learn the intricacies of tensorflow to master deep learning\n",
        "\n",
        "`Let's get this over with`\n",
        "\n",
        "## We'll take over the NotMNIST dataset and use a basic ANN to classify the digits"
      ]
    },
    {
      "cell_type": "code",
      "metadata": {
        "id": "aQwc0re5mFld",
        "colab_type": "code",
        "outputId": "0ac9462a-107a-4c81-d377-2a5abacc6df9",
        "colab": {
          "base_uri": "https://localhost:8080/",
          "height": 35
        }
      },
      "source": [
        "import numpy as np\n",
        "import pandas as pd\n",
        "import matplotlib.pyplot as plt\n",
        "import tensorflow as tf\n",
        "print(tf.__version__)"
      ],
      "execution_count": 1,
      "outputs": [
        {
          "output_type": "stream",
          "text": [
            "2.2.0\n"
          ],
          "name": "stdout"
        }
      ]
    },
    {
      "cell_type": "code",
      "metadata": {
        "id": "snz824BefAC-",
        "colab_type": "code",
        "colab": {}
      },
      "source": [
        "from tensorflow.keras.layers import Input, Dense, Dropout, Flatten\n",
        "from tensorflow.keras.models import Model\n",
        "from tensorflow.keras.optimizers import SGD, Adam\n",
        "from tensorflow.keras.preprocessing import image\n",
        "from tensorflow.keras.preprocessing.image import ImageDataGenerator\n",
        "from glob import glob\n",
        "import sys, os\n"
      ],
      "execution_count": 0,
      "outputs": []
    },
    {
      "cell_type": "code",
      "metadata": {
        "id": "qyw8HvOuBEZm",
        "colab_type": "code",
        "outputId": "d12b5ff5-0397-4b46-e1a5-80cf104e14a9",
        "colab": {
          "base_uri": "https://localhost:8080/",
          "height": 399
        }
      },
      "source": [
        "!wget http://yaroslavvb.com/upload/notMNIST/notMNIST_large.tar.gz\n",
        "!wget http://yaroslavvb.com/upload/notMNIST/notMNIST_small.tar.gz"
      ],
      "execution_count": 3,
      "outputs": [
        {
          "output_type": "stream",
          "text": [
            "--2020-06-02 12:39:31--  http://yaroslavvb.com/upload/notMNIST/notMNIST_large.tar.gz\n",
            "Resolving yaroslavvb.com (yaroslavvb.com)... 129.121.4.193\n",
            "Connecting to yaroslavvb.com (yaroslavvb.com)|129.121.4.193|:80... connected.\n",
            "HTTP request sent, awaiting response... 200 OK\n",
            "Length: 247336696 (236M) [application/x-gzip]\n",
            "Saving to: ‘notMNIST_large.tar.gz.2’\n",
            "\n",
            "notMNIST_large.tar. 100%[===================>] 235.88M  55.4MB/s    in 4.6s    \n",
            "\n",
            "2020-06-02 12:39:36 (51.4 MB/s) - ‘notMNIST_large.tar.gz.2’ saved [247336696/247336696]\n",
            "\n",
            "--2020-06-02 12:39:37--  http://yaroslavvb.com/upload/notMNIST/notMNIST_small.tar.gz\n",
            "Resolving yaroslavvb.com (yaroslavvb.com)... 129.121.4.193\n",
            "Connecting to yaroslavvb.com (yaroslavvb.com)|129.121.4.193|:80... connected.\n",
            "HTTP request sent, awaiting response... 200 OK\n",
            "Length: 8458043 (8.1M) [application/x-gzip]\n",
            "Saving to: ‘notMNIST_small.tar.gz.2’\n",
            "\n",
            "notMNIST_small.tar. 100%[===================>]   8.07M  17.5MB/s    in 0.5s    \n",
            "\n",
            "2020-06-02 12:39:38 (17.5 MB/s) - ‘notMNIST_small.tar.gz.2’ saved [8458043/8458043]\n",
            "\n"
          ],
          "name": "stdout"
        }
      ]
    },
    {
      "cell_type": "code",
      "metadata": {
        "id": "DXPaWBYPZlJj",
        "colab_type": "code",
        "outputId": "1a081405-3169-4600-bd59-3318613a1a0c",
        "colab": {
          "base_uri": "https://localhost:8080/",
          "height": 69
        }
      },
      "source": [
        "!ls "
      ],
      "execution_count": 4,
      "outputs": [
        {
          "output_type": "stream",
          "text": [
            "notMNIST_large\t\t notMNIST_large.tar.gz.2  notMNIST_small.tar.gz.1\n",
            "notMNIST_large.tar.gz\t notMNIST_small\t\t  notMNIST_small.tar.gz.2\n",
            "notMNIST_large.tar.gz.1  notMNIST_small.tar.gz\t  sample_data\n"
          ],
          "name": "stdout"
        }
      ]
    },
    {
      "cell_type": "code",
      "metadata": {
        "id": "lpuwJ23ka6Ia",
        "colab_type": "code",
        "colab": {}
      },
      "source": [
        "!tar -xzf notMNIST_large.tar.gz\n",
        "!tar -xzf notMNIST_small.tar.gz"
      ],
      "execution_count": 0,
      "outputs": []
    },
    {
      "cell_type": "code",
      "metadata": {
        "id": "l4oJJRlna--w",
        "colab_type": "code",
        "outputId": "a190ce51-3cf0-4d82-d121-862d5bb74a48",
        "colab": {
          "base_uri": "https://localhost:8080/",
          "height": 69
        }
      },
      "source": [
        "!ls"
      ],
      "execution_count": 6,
      "outputs": [
        {
          "output_type": "stream",
          "text": [
            "notMNIST_large\t\t notMNIST_large.tar.gz.2  notMNIST_small.tar.gz.1\n",
            "notMNIST_large.tar.gz\t notMNIST_small\t\t  notMNIST_small.tar.gz.2\n",
            "notMNIST_large.tar.gz.1  notMNIST_small.tar.gz\t  sample_data\n"
          ],
          "name": "stdout"
        }
      ]
    },
    {
      "cell_type": "code",
      "metadata": {
        "id": "SMfQgVANd2Yk",
        "colab_type": "code",
        "outputId": "dbc2e790-9192-4337-d07c-a3e447bd2e8c",
        "colab": {
          "base_uri": "https://localhost:8080/",
          "height": 35
        }
      },
      "source": [
        "!ls notMNIST_large"
      ],
      "execution_count": 7,
      "outputs": [
        {
          "output_type": "stream",
          "text": [
            "A  B  C  D  E  F  G  H\tI  J\n"
          ],
          "name": "stdout"
        }
      ]
    },
    {
      "cell_type": "code",
      "metadata": {
        "id": "1J1uBpp4emAn",
        "colab_type": "code",
        "outputId": "527fa05f-8f47-4d09-b426-fc04b69ebd73",
        "colab": {
          "base_uri": "https://localhost:8080/",
          "height": 35
        }
      },
      "source": [
        "!ls notMNIST_small"
      ],
      "execution_count": 8,
      "outputs": [
        {
          "output_type": "stream",
          "text": [
            "A  B  C  D  E  F  G  H\tI  J\n"
          ],
          "name": "stdout"
        }
      ]
    },
    {
      "cell_type": "code",
      "metadata": {
        "id": "CKkrOs4NeoLF",
        "colab_type": "code",
        "colab": {}
      },
      "source": [
        "path = 'notMNIST_large'\n",
        "path_val = 'notMNIST_small'"
      ],
      "execution_count": 0,
      "outputs": []
    },
    {
      "cell_type": "code",
      "metadata": {
        "id": "E4OgFqA6ezQH",
        "colab_type": "code",
        "outputId": "9a8e349e-1a08-41c4-c850-21ea3a3725f1",
        "colab": {
          "base_uri": "https://localhost:8080/",
          "height": 265
        }
      },
      "source": [
        "plt.imshow(image.load_img(path + '/A/ZGVhckpvZSBJdGFsaWMudHRm.png'))\n",
        "plt.show()"
      ],
      "execution_count": 10,
      "outputs": [
        {
          "output_type": "display_data",
          "data": {
            "image/png": "[encoded data removed]",
            "text/plain": [
              "<Figure size 432x288 with 1 Axes>"
            ]
          },
          "metadata": {
            "tags": [],
            "needs_background": "light"
          }
        }
      ]
    },
    {
      "cell_type": "code",
      "metadata": {
        "id": "PS8lVPWffQQ4",
        "colab_type": "code",
        "colab": {}
      },
      "source": [
        "IMAGE_SIZE = [28,28]\n",
        "train_images = glob(path + '/*/*.png')\n",
        "validation_images = glob(path_val + '/*/*.png')"
      ],
      "execution_count": 0,
      "outputs": []
    },
    {
      "cell_type": "code",
      "metadata": {
        "id": "A_fO2L3Sstdr",
        "colab_type": "code",
        "colab": {}
      },
      "source": [
        "# Number of classes \n",
        "classes = glob(path + '/*')"
      ],
      "execution_count": 0,
      "outputs": []
    },
    {
      "cell_type": "code",
      "metadata": {
        "id": "rM2ItewLfaPL",
        "colab_type": "code",
        "outputId": "99537a52-b228-4ed8-b000-7fef6724b4bd",
        "colab": {
          "base_uri": "https://localhost:8080/",
          "height": 55
        }
      },
      "source": [
        "print(classes)"
      ],
      "execution_count": 13,
      "outputs": [
        {
          "output_type": "stream",
          "text": [
            "['notMNIST_large/F', 'notMNIST_large/C', 'notMNIST_large/A', 'notMNIST_large/E', 'notMNIST_large/B', 'notMNIST_large/G', 'notMNIST_large/J', 'notMNIST_large/D', 'notMNIST_large/I', 'notMNIST_large/H']\n"
          ],
          "name": "stdout"
        }
      ]
    },
    {
      "cell_type": "code",
      "metadata": {
        "id": "dnbVz_5ffdIJ",
        "colab_type": "code",
        "outputId": "a26bac75-94a8-4e5b-b0d2-39d06fe3d9a7",
        "colab": {
          "base_uri": "https://localhost:8080/",
          "height": 265
        }
      },
      "source": [
        "plt.imshow(image.load_img(np.random.choice(train_images)))\n",
        "plt.show()"
      ],
      "execution_count": 14,
      "outputs": [
        {
          "output_type": "display_data",
          "data": {
            "image/png": "[encoded data removed]",
            "text/plain": [
              "<Figure size 432x288 with 1 Axes>"
            ]
          },
          "metadata": {
            "tags": [],
            "needs_background": "light"
          }
        }
      ]
    },
    {
      "cell_type": "code",
      "metadata": {
        "id": "IUyMIfMwfgQn",
        "colab_type": "code",
        "outputId": "125b5a53-10e9-400a-9197-ea1ddd0726db",
        "colab": {
          "base_uri": "https://localhost:8080/",
          "height": 265
        }
      },
      "source": [
        "plt.imshow(image.load_img(np.random.choice(validation_images)))\n",
        "plt.show()"
      ],
      "execution_count": 15,
      "outputs": [
        {
          "output_type": "display_data",
          "data": {
            "image/png": "[encoded data removed]",
            "text/plain": [
              "<Figure size 432x288 with 1 Axes>"
            ]
          },
          "metadata": {
            "tags": [],
            "needs_background": "light"
          }
        }
      ]
    },
    {
      "cell_type": "code",
      "metadata": {
        "id": "ojdaDUeot7A5",
        "colab_type": "code",
        "colab": {}
      },
      "source": [
        "sample = image.load_img(np.random.choice(validation_images))"
      ],
      "execution_count": 0,
      "outputs": []
    },
    {
      "cell_type": "code",
      "metadata": {
        "id": "LMiK7RcLt8zg",
        "colab_type": "code",
        "outputId": "9cd33804-225c-4626-88d0-b95e3f845378",
        "colab": {
          "base_uri": "https://localhost:8080/",
          "height": 35
        }
      },
      "source": [
        "type(sample)"
      ],
      "execution_count": 17,
      "outputs": [
        {
          "output_type": "execute_result",
          "data": {
            "text/plain": [
              "PIL.Image.Image"
            ]
          },
          "metadata": {
            "tags": []
          },
          "execution_count": 17
        }
      ]
    },
    {
      "cell_type": "code",
      "metadata": {
        "id": "X9qESpzyuFH_",
        "colab_type": "code",
        "outputId": "6033c0ae-e9c7-4082-be63-9667bfbde8af",
        "colab": {
          "base_uri": "https://localhost:8080/",
          "height": 35
        }
      },
      "source": [
        "sample.size"
      ],
      "execution_count": 18,
      "outputs": [
        {
          "output_type": "execute_result",
          "data": {
            "text/plain": [
              "(28, 28)"
            ]
          },
          "metadata": {
            "tags": []
          },
          "execution_count": 18
        }
      ]
    },
    {
      "cell_type": "code",
      "metadata": {
        "id": "3h6ftCh8gDEM",
        "colab_type": "code",
        "colab": {}
      },
      "source": [
        "Y = len(classes)"
      ],
      "execution_count": 0,
      "outputs": []
    },
    {
      "cell_type": "code",
      "metadata": {
        "id": "uo0LLj7Blkn5",
        "colab_type": "code",
        "outputId": "ea7e7a75-ae81-441f-e7c9-549de1582259",
        "colab": {
          "base_uri": "https://localhost:8080/",
          "height": 35
        }
      },
      "source": [
        "Y"
      ],
      "execution_count": 20,
      "outputs": [
        {
          "output_type": "execute_result",
          "data": {
            "text/plain": [
              "10"
            ]
          },
          "metadata": {
            "tags": []
          },
          "execution_count": 20
        }
      ]
    },
    {
      "cell_type": "code",
      "metadata": {
        "id": "DaHCwEoNglvt",
        "colab_type": "code",
        "outputId": "bf1e3798-1ff2-40bf-eb8e-3ea5d5e9d716",
        "colab": {
          "base_uri": "https://localhost:8080/",
          "height": 52
        }
      },
      "source": [
        "print(len(train_images))\n",
        "print(len(validation_images))"
      ],
      "execution_count": 21,
      "outputs": [
        {
          "output_type": "stream",
          "text": [
            "529119\n",
            "18726\n"
          ],
          "name": "stdout"
        }
      ]
    },
    {
      "cell_type": "code",
      "metadata": {
        "id": "VYg5zxDBgiCY",
        "colab_type": "code",
        "colab": {}
      },
      "source": [
        "batch_size = 254"
      ],
      "execution_count": 0,
      "outputs": []
    },
    {
      "cell_type": "code",
      "metadata": {
        "id": "UoS_5Xr_gZOl",
        "colab_type": "code",
        "colab": {}
      },
      "source": [
        "gen_object = ImageDataGenerator(rescale=1.0/255.0)"
      ],
      "execution_count": 0,
      "outputs": []
    },
    {
      "cell_type": "code",
      "metadata": {
        "id": "Ye5Fpqs2idl5",
        "colab_type": "code",
        "colab": {}
      },
      "source": [
        "I_SIZE = IMAGE_SIZE[0] * IMAGE_SIZE[1]"
      ],
      "execution_count": 0,
      "outputs": []
    },
    {
      "cell_type": "code",
      "metadata": {
        "id": "ynH5d94Kig-4",
        "colab_type": "code",
        "outputId": "394da25b-eac7-4923-ae5a-3087e1ecc936",
        "colab": {
          "base_uri": "https://localhost:8080/",
          "height": 35
        }
      },
      "source": [
        "print(I_SIZE)"
      ],
      "execution_count": 25,
      "outputs": [
        {
          "output_type": "stream",
          "text": [
            "784\n"
          ],
          "name": "stdout"
        }
      ]
    },
    {
      "cell_type": "code",
      "metadata": {
        "id": "Dabkac9UgID1",
        "colab_type": "code",
        "outputId": "202eb2c1-6cac-43ab-cb75-22bdbe68506a",
        "colab": {
          "base_uri": "https://localhost:8080/",
          "height": 52
        }
      },
      "source": [
        "train_generator = gen_object.flow_from_directory(path, target_size=IMAGE_SIZE, batch_size=1, color_mode=\"grayscale\", shuffle=True)\n",
        "validation_generator = gen_object.flow_from_directory(path_val, target_size=IMAGE_SIZE, batch_size=1,color_mode=\"grayscale\",  shuffle=True)"
      ],
      "execution_count": 26,
      "outputs": [
        {
          "output_type": "stream",
          "text": [
            "Found 529119 images belonging to 10 classes.\n",
            "Found 18726 images belonging to 10 classes.\n"
          ],
          "name": "stdout"
        }
      ]
    },
    {
      "cell_type": "code",
      "metadata": {
        "id": "ucXwF7c9hAFR",
        "colab_type": "code",
        "colab": {}
      },
      "source": [
        "N = len(train_images)\n",
        "N_val = len(validation_images)\n"
      ],
      "execution_count": 0,
      "outputs": []
    },
    {
      "cell_type": "code",
      "metadata": {
        "id": "oalQ5QEvu1oQ",
        "colab_type": "code",
        "outputId": "ff0b1ba4-7df8-431a-eb92-ccf910bf7361",
        "colab": {
          "base_uri": "https://localhost:8080/",
          "height": 35
        }
      },
      "source": [
        "train_generator[1][0].shape"
      ],
      "execution_count": 28,
      "outputs": [
        {
          "output_type": "execute_result",
          "data": {
            "text/plain": [
              "(1, 28, 28, 1)"
            ]
          },
          "metadata": {
            "tags": []
          },
          "execution_count": 28
        }
      ]
    },
    {
      "cell_type": "code",
      "metadata": {
        "id": "Ky2Ip2_cwMnZ",
        "colab_type": "code",
        "outputId": "eb5465be-dd6f-475e-ad1e-fb3c9ea5ae25",
        "colab": {
          "base_uri": "https://localhost:8080/",
          "height": 283
        }
      },
      "source": [
        "plt.imshow(train_generator[10][0].reshape(28,28))"
      ],
      "execution_count": 29,
      "outputs": [
        {
          "output_type": "execute_result",
          "data": {
            "text/plain": [
              "<matplotlib.image.AxesImage at 0x7fb6d57025c0>"
            ]
          },
          "metadata": {
            "tags": []
          },
          "execution_count": 29
        },
        {
          "output_type": "display_data",
          "data": {
            "image/png": "[encoded data removed]",
            "text/plain": [
              "<Figure size 432x288 with 1 Axes>"
            ]
          },
          "metadata": {
            "tags": [],
            "needs_background": "light"
          }
        }
      ]
    },
    {
      "cell_type": "code",
      "metadata": {
        "id": "BIm5U1SotZL5",
        "colab_type": "code",
        "outputId": "196e3a15-e5cd-4cc5-9364-47b905330fce",
        "colab": {
          "base_uri": "https://localhost:8080/",
          "height": 35
        }
      },
      "source": [
        "train_generator[1][1].shape"
      ],
      "execution_count": 30,
      "outputs": [
        {
          "output_type": "execute_result",
          "data": {
            "text/plain": [
              "(1, 10)"
            ]
          },
          "metadata": {
            "tags": []
          },
          "execution_count": 30
        }
      ]
    },
    {
      "cell_type": "code",
      "metadata": {
        "id": "9v9owT-1u4iJ",
        "colab_type": "code",
        "outputId": "6ad24599-b871-43b6-e823-e677eccd5312",
        "colab": {
          "base_uri": "https://localhost:8080/",
          "height": 35
        }
      },
      "source": [
        "len(train_generator)"
      ],
      "execution_count": 31,
      "outputs": [
        {
          "output_type": "execute_result",
          "data": {
            "text/plain": [
              "529119"
            ]
          },
          "metadata": {
            "tags": []
          },
          "execution_count": 31
        }
      ]
    },
    {
      "cell_type": "code",
      "metadata": {
        "id": "BPItH4x5vbr5",
        "colab_type": "code",
        "colab": {}
      },
      "source": [
        "X_train = np.zeros((N, 28, 28))\n",
        "y_train = np.zeros((N, Y))"
      ],
      "execution_count": 0,
      "outputs": []
    },
    {
      "cell_type": "code",
      "metadata": {
        "id": "OGtMeXBbymkc",
        "colab_type": "code",
        "outputId": "76acf0b5-fd4e-4881-a4b3-fdf8cf3279d3",
        "colab": {
          "base_uri": "https://localhost:8080/",
          "height": 35
        }
      },
      "source": [
        "X_train.shape"
      ],
      "execution_count": 33,
      "outputs": [
        {
          "output_type": "execute_result",
          "data": {
            "text/plain": [
              "(529119, 28, 28)"
            ]
          },
          "metadata": {
            "tags": []
          },
          "execution_count": 33
        }
      ]
    },
    {
      "cell_type": "code",
      "metadata": {
        "id": "6aiz-H9fsy9g",
        "colab_type": "code",
        "colab": {}
      },
      "source": [
        "k = 0\n",
        "while k != N:\n",
        "  try:\n",
        "    i = np.random.randint(0, N)\n",
        "    X_train[k,:] = train_generator[i][0].reshape(28,28)\n",
        "    y_train[k,:] = train_generator[i][1]\n",
        "    k+=1\n",
        "  except:\n",
        "    pass\n"
      ],
      "execution_count": 0,
      "outputs": []
    },
    {
      "cell_type": "code",
      "metadata": {
        "id": "vsbf2EJtzJz_",
        "colab_type": "code",
        "outputId": "61ff2069-ceca-4665-c78b-07d5d9a0cab1",
        "colab": {
          "base_uri": "https://localhost:8080/",
          "height": 35
        }
      },
      "source": [
        "y_train[0]"
      ],
      "execution_count": 35,
      "outputs": [
        {
          "output_type": "execute_result",
          "data": {
            "text/plain": [
              "array([0., 0., 0., 0., 0., 0., 0., 1., 0., 0.])"
            ]
          },
          "metadata": {
            "tags": []
          },
          "execution_count": 35
        }
      ]
    },
    {
      "cell_type": "code",
      "metadata": {
        "id": "4TyHrYeXy1gd",
        "colab_type": "code",
        "outputId": "5046bb4d-ea9c-48c3-edd8-a786a96f14e2",
        "colab": {
          "base_uri": "https://localhost:8080/",
          "height": 121
        }
      },
      "source": [
        "X_train[0, 0]"
      ],
      "execution_count": 36,
      "outputs": [
        {
          "output_type": "execute_result",
          "data": {
            "text/plain": [
              "array([0.        , 0.        , 0.        , 0.        , 0.        ,\n",
              "       0.02352941, 0.39607847, 0.70980394, 1.        , 0.99607849,\n",
              "       0.99607849, 0.99607849, 0.97647065, 0.62352943, 0.34509805,\n",
              "       0.00784314, 0.        , 0.        , 0.00392157, 0.34509805,\n",
              "       0.66666669, 0.98823535, 0.99607849, 0.99607849, 0.99607849,\n",
              "       1.        , 0.67450982, 0.42352945])"
            ]
          },
          "metadata": {
            "tags": []
          },
          "execution_count": 36
        }
      ]
    },
    {
      "cell_type": "code",
      "metadata": {
        "id": "cpC86rU3vmp4",
        "colab_type": "code",
        "outputId": "bf2a319a-3438-47f2-f89d-5a988afdae38",
        "colab": {
          "base_uri": "https://localhost:8080/",
          "height": 35
        }
      },
      "source": [
        "X_train.shape"
      ],
      "execution_count": 37,
      "outputs": [
        {
          "output_type": "execute_result",
          "data": {
            "text/plain": [
              "(529119, 28, 28)"
            ]
          },
          "metadata": {
            "tags": []
          },
          "execution_count": 37
        }
      ]
    },
    {
      "cell_type": "code",
      "metadata": {
        "id": "87XAlOjLvoso",
        "colab_type": "code",
        "outputId": "cad582a8-9ac9-4ff8-fc55-07d186ec5a0c",
        "colab": {
          "base_uri": "https://localhost:8080/",
          "height": 35
        }
      },
      "source": [
        "y_train.shape"
      ],
      "execution_count": 38,
      "outputs": [
        {
          "output_type": "execute_result",
          "data": {
            "text/plain": [
              "(529119, 10)"
            ]
          },
          "metadata": {
            "tags": []
          },
          "execution_count": 38
        }
      ]
    },
    {
      "cell_type": "code",
      "metadata": {
        "id": "cjl-Ji_pwX3-",
        "colab_type": "code",
        "outputId": "ad9a04ca-d1e2-4751-e18f-b787bc68843c",
        "colab": {
          "base_uri": "https://localhost:8080/",
          "height": 283
        }
      },
      "source": [
        "plt.imshow(X_train[10].reshape(28,28))"
      ],
      "execution_count": 39,
      "outputs": [
        {
          "output_type": "execute_result",
          "data": {
            "text/plain": [
              "<matplotlib.image.AxesImage at 0x7fb6d5145048>"
            ]
          },
          "metadata": {
            "tags": []
          },
          "execution_count": 39
        },
        {
          "output_type": "display_data",
          "data": {
            "image/png": "[encoded data removed]",
            "text/plain": [
              "<Figure size 432x288 with 1 Axes>"
            ]
          },
          "metadata": {
            "tags": [],
            "needs_background": "light"
          }
        }
      ]
    },
    {
      "cell_type": "code",
      "metadata": {
        "id": "QKOvER_P0TGW",
        "colab_type": "code",
        "colab": {}
      },
      "source": [
        "X_train = X_train.reshape(N, I_SIZE)"
      ],
      "execution_count": 0,
      "outputs": []
    },
    {
      "cell_type": "code",
      "metadata": {
        "id": "wsiSGzbt0O-P",
        "colab_type": "code",
        "outputId": "053986aa-f4b6-4612-f98e-37fa4980d4f3",
        "colab": {
          "base_uri": "https://localhost:8080/",
          "height": 283
        }
      },
      "source": [
        "plt.imshow(X_train[10].reshape(28,28))"
      ],
      "execution_count": 41,
      "outputs": [
        {
          "output_type": "execute_result",
          "data": {
            "text/plain": [
              "<matplotlib.image.AxesImage at 0x7fb6e0ceb2b0>"
            ]
          },
          "metadata": {
            "tags": []
          },
          "execution_count": 41
        },
        {
          "output_type": "display_data",
          "data": {
            "image/png": "[encoded data removed]",
            "text/plain": [
              "<Figure size 432x288 with 1 Axes>"
            ]
          },
          "metadata": {
            "tags": [],
            "needs_background": "light"
          }
        }
      ]
    },
    {
      "cell_type": "code",
      "metadata": {
        "id": "UPupKYKJ0153",
        "colab_type": "code",
        "colab": {}
      },
      "source": [
        "X_test = np.zeros((N_val, 28, 28))\n",
        "y_test = np.zeros((N_val, Y))"
      ],
      "execution_count": 0,
      "outputs": []
    },
    {
      "cell_type": "code",
      "metadata": {
        "id": "6CiwUBBE0uag",
        "colab_type": "code",
        "colab": {}
      },
      "source": [
        "k = 0\n",
        "while k != N_val:\n",
        "  try:\n",
        "    i = np.random.randint(0, N_val)\n",
        "    X_test[k,:] = validation_generator[i][0].reshape(28,28)\n",
        "    y_test[k,:] = validation_generator[i][1]\n",
        "    k+=1\n",
        "  except:\n",
        "    pass\n"
      ],
      "execution_count": 0,
      "outputs": []
    },
    {
      "cell_type": "code",
      "metadata": {
        "id": "t_NAZwnOAeoo",
        "colab_type": "code",
        "colab": {
          "base_uri": "https://localhost:8080/",
          "height": 35
        },
        "outputId": "7d7a3cb5-8107-4923-8005-4795203af216"
      },
      "source": [
        "X_test.shape"
      ],
      "execution_count": 44,
      "outputs": [
        {
          "output_type": "execute_result",
          "data": {
            "text/plain": [
              "(18726, 28, 28)"
            ]
          },
          "metadata": {
            "tags": []
          },
          "execution_count": 44
        }
      ]
    },
    {
      "cell_type": "code",
      "metadata": {
        "id": "tUL9bMtIAgpm",
        "colab_type": "code",
        "colab": {
          "base_uri": "https://localhost:8080/",
          "height": 35
        },
        "outputId": "51dc97d4-d44b-48d8-d3e6-e656276678e0"
      },
      "source": [
        "X_train.shape"
      ],
      "execution_count": 45,
      "outputs": [
        {
          "output_type": "execute_result",
          "data": {
            "text/plain": [
              "(529119, 784)"
            ]
          },
          "metadata": {
            "tags": []
          },
          "execution_count": 45
        }
      ]
    },
    {
      "cell_type": "code",
      "metadata": {
        "id": "8WN6ac7JAkBO",
        "colab_type": "code",
        "colab": {}
      },
      "source": [
        "X_test = X_test.reshape(-1, I_SIZE)"
      ],
      "execution_count": 0,
      "outputs": []
    },
    {
      "cell_type": "code",
      "metadata": {
        "id": "6GHV6ySnAqu_",
        "colab_type": "code",
        "colab": {
          "base_uri": "https://localhost:8080/",
          "height": 35
        },
        "outputId": "00aee297-07ba-43f0-dc32-e260dac4b42d"
      },
      "source": [
        "X_test.shape"
      ],
      "execution_count": 47,
      "outputs": [
        {
          "output_type": "execute_result",
          "data": {
            "text/plain": [
              "(18726, 784)"
            ]
          },
          "metadata": {
            "tags": []
          },
          "execution_count": 47
        }
      ]
    },
    {
      "cell_type": "code",
      "metadata": {
        "id": "nWPuiHK9Ar4f",
        "colab_type": "code",
        "colab": {
          "base_uri": "https://localhost:8080/",
          "height": 35
        },
        "outputId": "e1f75b86-0cd2-4b04-d398-6e0d4c6d31a3"
      },
      "source": [
        "y_train.shape"
      ],
      "execution_count": 48,
      "outputs": [
        {
          "output_type": "execute_result",
          "data": {
            "text/plain": [
              "(529119, 10)"
            ]
          },
          "metadata": {
            "tags": []
          },
          "execution_count": 48
        }
      ]
    },
    {
      "cell_type": "code",
      "metadata": {
        "id": "LS5I2wOeAvBO",
        "colab_type": "code",
        "colab": {
          "base_uri": "https://localhost:8080/",
          "height": 35
        },
        "outputId": "fac043d0-0b47-4c7a-9e06-b8bee258223c"
      },
      "source": [
        "y_test.shape"
      ],
      "execution_count": 49,
      "outputs": [
        {
          "output_type": "execute_result",
          "data": {
            "text/plain": [
              "(18726, 10)"
            ]
          },
          "metadata": {
            "tags": []
          },
          "execution_count": 49
        }
      ]
    },
    {
      "cell_type": "code",
      "metadata": {
        "id": "2PGHMmndhxfa",
        "colab_type": "code",
        "colab": {}
      },
      "source": [
        "i_layer = Input(shape = (I_SIZE,))\n",
        "h_layer = Dense(256, activation='relu')(i_layer)\n",
        "h_layer = Dense(512, activation='relu')(h_layer)\n",
        "h_layer = Dense(1024, activation='relu')(h_layer)\n",
        "o_layer = Dense(Y, activation='softmax')(h_layer)\n",
        "\n",
        "model = Model(i_layer, o_layer)"
      ],
      "execution_count": 0,
      "outputs": []
    },
    {
      "cell_type": "code",
      "metadata": {
        "id": "rsDKDP41nW2Z",
        "colab_type": "code",
        "outputId": "fd9265b7-28e0-4271-bf8c-05fbfaa6172c",
        "colab": {
          "base_uri": "https://localhost:8080/",
          "height": 329
        }
      },
      "source": [
        "model.summary()"
      ],
      "execution_count": 61,
      "outputs": [
        {
          "output_type": "stream",
          "text": [
            "Model: \"model_3\"\n",
            "_________________________________________________________________\n",
            "Layer (type)                 Output Shape              Param #   \n",
            "=================================================================\n",
            "input_4 (InputLayer)         [(None, 784)]             0         \n",
            "_________________________________________________________________\n",
            "dense_12 (Dense)             (None, 256)               200960    \n",
            "_________________________________________________________________\n",
            "dense_13 (Dense)             (None, 512)               131584    \n",
            "_________________________________________________________________\n",
            "dense_14 (Dense)             (None, 1024)              525312    \n",
            "_________________________________________________________________\n",
            "dense_15 (Dense)             (None, 10)                10250     \n",
            "=================================================================\n",
            "Total params: 868,106\n",
            "Trainable params: 868,106\n",
            "Non-trainable params: 0\n",
            "_________________________________________________________________\n"
          ],
          "name": "stdout"
        }
      ]
    },
    {
      "cell_type": "code",
      "metadata": {
        "id": "bYip2sQaNiNI",
        "colab_type": "code",
        "colab": {}
      },
      "source": [
        "model.compile(\n",
        "    optimizer='adam',\n",
        "    loss='categorical_crossentropy',\n",
        "    metrics=['accuracy'])"
      ],
      "execution_count": 0,
      "outputs": []
    },
    {
      "cell_type": "code",
      "metadata": {
        "id": "tEsZnuikNwv3",
        "colab_type": "code",
        "colab": {
          "base_uri": "https://localhost:8080/",
          "height": 35
        },
        "outputId": "825c55c2-ed61-4b9a-96ad-a0523799565c"
      },
      "source": [
        "report = model.fit(X_train, y_train, validation_data=(X_test, y_test), epochs = 1)"
      ],
      "execution_count": 53,
      "outputs": [
        {
          "output_type": "stream",
          "text": [
            "16535/16535 [==============================] - 173s 10ms/step - loss: 0.3728 - accuracy: 0.8859 - val_loss: 0.1781 - val_accuracy: 0.9462\n"
          ],
          "name": "stdout"
        }
      ]
    },
    {
      "cell_type": "code",
      "metadata": {
        "id": "LuietUFpEG5a",
        "colab_type": "code",
        "outputId": "6ded30fb-a458-49b4-ae2e-f48f8bc9ab1f",
        "colab": {
          "base_uri": "https://localhost:8080/",
          "height": 87
        }
      },
      "source": [
        "print(\"Train eval: \", model.evaluate(X_train, y_train))\n",
        "print(\"Test eval: \", model.evaluate(X_test, y_test))\n"
      ],
      "execution_count": 56,
      "outputs": [
        {
          "output_type": "stream",
          "text": [
            "16535/16535 [==============================] - 48s 3ms/step - loss: 0.3132 - accuracy: 0.9020\n",
            "Train eval:  [0.3132292926311493, 0.9019880294799805]\n",
            "586/586 [==============================] - 2s 3ms/step - loss: 0.1781 - accuracy: 0.9462\n",
            "Test eval:  [0.178140327334404, 0.9462245106697083]\n"
          ],
          "name": "stdout"
        }
      ]
    },
    {
      "cell_type": "code",
      "metadata": {
        "id": "OWba2a1fPZtn",
        "colab_type": "code",
        "colab": {}
      },
      "source": [
        "y_pred = model.predict(X_test).argmax(axis=1)"
      ],
      "execution_count": 0,
      "outputs": []
    },
    {
      "cell_type": "code",
      "metadata": {
        "id": "4MH550mZPdjG",
        "colab_type": "code",
        "outputId": "281f976c-5701-41a3-fb4a-a0e769b9a13a",
        "colab": {
          "base_uri": "https://localhost:8080/",
          "height": 52
        }
      },
      "source": [
        "print(y_test.shape)\n",
        "print(y_pred.shape)"
      ],
      "execution_count": 58,
      "outputs": [
        {
          "output_type": "stream",
          "text": [
            "(18726, 10)\n",
            "(18726,)\n"
          ],
          "name": "stdout"
        }
      ]
    },
    {
      "cell_type": "code",
      "metadata": {
        "id": "jhEiFmkLF1TL",
        "colab_type": "code",
        "colab": {
          "base_uri": "https://localhost:8080/",
          "height": 52
        },
        "outputId": "d4e10ef9-4346-4624-e9b5-2edabe1faae6"
      },
      "source": [
        "y_test = y_test.argmax(axis=1)\n",
        "print(y_test.shape)\n",
        "print(y_pred.shape)"
      ],
      "execution_count": 59,
      "outputs": [
        {
          "output_type": "stream",
          "text": [
            "(18726,)\n",
            "(18726,)\n"
          ],
          "name": "stdout"
        }
      ]
    },
    {
      "cell_type": "code",
      "metadata": {
        "id": "4TVvUj8ROdNP",
        "colab_type": "code",
        "outputId": "b29c3285-a965-4d09-ad3b-787ef174d61e",
        "colab": {
          "base_uri": "https://localhost:8080/",
          "height": 580
        }
      },
      "source": [
        "from sklearn.metrics import confusion_matrix\n",
        "import itertools\n",
        "cm = confusion_matrix(y_test, y_pred)\n",
        "\n",
        "plt.figure(figsize=(10,10))\n",
        "plt.imshow(cm, cmap=plt.cm.Blues)\n",
        "for i,j in itertools.product(range(cm.shape[0]), range(cm.shape[1])):\n",
        "  plt.text(j, i, format(cm[i,j], 'd'),\n",
        "           horizontalalignment = 'center',\n",
        "           color='black')\n",
        "plt.xlabel(\"Predicted labels\")\n",
        "plt.ylabel(\"True labels\")\n",
        "plt.xticks(list(range(10)))\n",
        "plt.yticks(list(range(10)))\n",
        "plt.title('Confusion matrix')\n",
        "plt.colorbar()\n",
        "plt.show()\n"
      ],
      "execution_count": 60,
      "outputs": [
        {
          "output_type": "display_data",
          "data": {
            "image/png": "[encoded data removed]",
            "text/plain": [
              "<Figure size 720x720 with 2 Axes>"
            ]
          },
          "metadata": {
            "tags": [],
            "needs_background": "light"
          }
        }
      ]
    },
    {
      "cell_type": "code",
      "metadata": {
        "id": "g8YuWtRqGDG1",
        "colab_type": "code",
        "colab": {}
      },
      "source": [
        "labels = \"A,B,C,D,E,F,G,H,I,J\".split(\",\")"
      ],
      "execution_count": 0,
      "outputs": []
    },
    {
      "cell_type": "code",
      "metadata": {
        "id": "4O2RlW9QTgEq",
        "colab_type": "code",
        "outputId": "c5cf57a0-e675-4149-9d70-90706f58c185",
        "colab": {
          "base_uri": "https://localhost:8080/",
          "height": 299
        }
      },
      "source": [
        "misshits = np.where(y_pred!=y_test)[0]\n",
        "index = np.random.choice(misshits)\n",
        "plt.imshow(X_test[index].reshape(28,28), cmap='gray')\n",
        "plt.title(\"Predicted = \" + str(labels[y_pred[index]]) + \", Real = \" + str(labels[y_test[index]]))"
      ],
      "execution_count": 67,
      "outputs": [
        {
          "output_type": "execute_result",
          "data": {
            "text/plain": [
              "Text(0.5, 1.0, 'Predicted = G, Real = C')"
            ]
          },
          "metadata": {
            "tags": []
          },
          "execution_count": 67
        },
        {
          "output_type": "display_data",
          "data": {
            "image/png": "[encoded data removed]",
            "text/plain": [
              "<Figure size 432x288 with 1 Axes>"
            ]
          },
          "metadata": {
            "tags": [],
            "needs_background": "light"
          }
        }
      ]
    }
  ]
}