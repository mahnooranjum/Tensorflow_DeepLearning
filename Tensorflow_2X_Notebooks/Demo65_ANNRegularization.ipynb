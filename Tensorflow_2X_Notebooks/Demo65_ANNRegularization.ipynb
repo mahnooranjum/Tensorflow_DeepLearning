{
  "nbformat": 4,
  "nbformat_minor": 0,
  "metadata": {
    "colab": {
      "name": "Demo65_ANNRegularization.ipynb",
      "provenance": [],
      "collapsed_sections": []
    },
    "kernelspec": {
      "name": "python3",
      "display_name": "Python 3"
    }
  },
  "cells": [
    {
      "cell_type": "markdown",
      "metadata": {
        "id": "P9bJCDjdlgG6",
        "colab_type": "text"
      },
      "source": [
        "# **Spit some [tensor] flow**\n",
        "\n",
        "Practice makes perfect\n",
        "\n",
        "`Let's get this over with`\n"
      ]
    },
    {
      "cell_type": "code",
      "metadata": {
        "id": "aQwc0re5mFld",
        "colab_type": "code",
        "outputId": "252a1c2b-e231-40d7-a2c1-73e9f91053b9",
        "colab": {
          "base_uri": "https://localhost:8080/",
          "height": 34
        }
      },
      "source": [
        "import numpy as np\n",
        "import pandas as pd\n",
        "import matplotlib.pyplot as plt\n",
        "import tensorflow as tf\n",
        "print(tf.__version__)"
      ],
      "execution_count": 1,
      "outputs": [
        {
          "output_type": "stream",
          "text": [
            "2.2.0\n"
          ],
          "name": "stdout"
        }
      ]
    },
    {
      "cell_type": "markdown",
      "metadata": {
        "id": "S4l0LuYW_Txu",
        "colab_type": "text"
      },
      "source": [
        "## Let's load the dataset using keras datasets "
      ]
    },
    {
      "cell_type": "code",
      "metadata": {
        "id": "lWqPtyknSxV8",
        "colab_type": "code",
        "colab": {}
      },
      "source": [
        "from sklearn.datasets import load_diabetes\n",
        "X, y = load_diabetes(return_X_y = True)\n"
      ],
      "execution_count": 0,
      "outputs": []
    },
    {
      "cell_type": "code",
      "metadata": {
        "id": "kOrWzVnkLFng",
        "colab_type": "code",
        "colab": {}
      },
      "source": [
        "from sklearn.model_selection import train_test_split\n",
        "X_train, X_test, y_train, y_test = train_test_split(X, y, test_size = 0.2)"
      ],
      "execution_count": 0,
      "outputs": []
    },
    {
      "cell_type": "code",
      "metadata": {
        "id": "7hQGKjLvBT6z",
        "colab_type": "code",
        "outputId": "19712e96-c287-4b1e-ba54-e1dae3d6c5bb",
        "colab": {
          "base_uri": "https://localhost:8080/",
          "height": 87
        }
      },
      "source": [
        "print(X_train.shape)\n",
        "print(y_train.shape)\n",
        "print(X_test.shape)\n",
        "print(y_test.shape)"
      ],
      "execution_count": 4,
      "outputs": [
        {
          "output_type": "stream",
          "text": [
            "(353, 10)\n",
            "(353,)\n",
            "(89, 10)\n",
            "(89,)\n"
          ],
          "name": "stdout"
        }
      ]
    },
    {
      "cell_type": "code",
      "metadata": {
        "id": "po-0_QG_qaMr",
        "colab_type": "code",
        "colab": {}
      },
      "source": [
        "# Feature Scaling\n",
        "from sklearn.preprocessing import StandardScaler\n",
        "sc_X = StandardScaler()\n",
        "X_train = sc_X.fit_transform(X_train)\n",
        "X_test = sc_X.transform(X_test)"
      ],
      "execution_count": 0,
      "outputs": []
    },
    {
      "cell_type": "code",
      "metadata": {
        "id": "FoFPHGhBqyVm",
        "colab_type": "code",
        "colab": {}
      },
      "source": [
        "N, D = X_train.shape"
      ],
      "execution_count": 0,
      "outputs": []
    },
    {
      "cell_type": "code",
      "metadata": {
        "id": "7DdfOVKfXHTa",
        "colab_type": "code",
        "colab": {}
      },
      "source": [
        "from tensorflow.keras.layers import Input, Dense, Dropout\n",
        "from tensorflow.keras.models import Model\n",
        "from tensorflow.keras.regularizers import l2"
      ],
      "execution_count": 0,
      "outputs": []
    },
    {
      "cell_type": "code",
      "metadata": {
        "id": "ovyPUHaZBqu8",
        "colab_type": "code",
        "colab": {}
      },
      "source": [
        "i_layer = Input(shape = (D,))\n",
        "h_layer = Dense(128, activation='relu')(i_layer)\n",
        "h_layer = Dense(256, activation='relu')(h_layer)\n",
        "h_layer = Dense(256, activation='relu')(h_layer)\n",
        "o_layer = Dense(1, activation='relu')(h_layer)\n",
        "model = Model(i_layer, o_layer)"
      ],
      "execution_count": 0,
      "outputs": []
    },
    {
      "cell_type": "code",
      "metadata": {
        "id": "bYip2sQaNiNI",
        "colab_type": "code",
        "colab": {}
      },
      "source": [
        "#custom_opt = tf.keras.optimizers.Adam(0.01)\n",
        "model.compile(\n",
        "    optimizer='adam',\n",
        "    loss='mse')"
      ],
      "execution_count": 0,
      "outputs": []
    },
    {
      "cell_type": "code",
      "metadata": {
        "id": "tEsZnuikNwv3",
        "colab_type": "code",
        "colab": {}
      },
      "source": [
        "report = model.fit(X_train, y_train, validation_data=(X_test, y_test), epochs =300, verbose=False)"
      ],
      "execution_count": 0,
      "outputs": []
    },
    {
      "cell_type": "code",
      "metadata": {
        "id": "MSj0kifiSDfW",
        "colab_type": "code",
        "outputId": "592db35c-220f-4417-a3a0-0e765f2f4cb0",
        "colab": {
          "base_uri": "https://localhost:8080/",
          "height": 284
        }
      },
      "source": [
        "plt.plot(report.history['loss'], label=\"loss\")\n",
        "plt.plot(report.history['val_loss'], label=\"validation_loss\")\n",
        "plt.legend()"
      ],
      "execution_count": 53,
      "outputs": [
        {
          "output_type": "execute_result",
          "data": {
            "text/plain": [
              "<matplotlib.legend.Legend at 0x7f96b779e710>"
            ]
          },
          "metadata": {
            "tags": []
          },
          "execution_count": 53
        },
        {
          "output_type": "display_data",
          "data": {
            "image/png": "[encoded data removed]",
            "text/plain": [
              "<Figure size 432x288 with 1 Axes>"
            ]
          },
          "metadata": {
            "tags": [],
            "needs_background": "light"
          }
        }
      ]
    },
    {
      "cell_type": "markdown",
      "metadata": {
        "id": "DcOZdnOYVWdt",
        "colab_type": "text"
      },
      "source": [
        "## Great, the model is overfitting, let's try dropout"
      ]
    },
    {
      "cell_type": "code",
      "metadata": {
        "id": "WHT6eXUJVafz",
        "colab_type": "code",
        "colab": {}
      },
      "source": [
        "i_layer = Input(shape = (D,))\n",
        "h_layer = Dense(128, activation='relu', kernel_regularizer = l2(0.9))(i_layer)\n",
        "h_layer = Dense(256, activation='relu', kernel_regularizer = l2(0.9))(h_layer)\n",
        "h_layer = Dense(256, activation='relu', kernel_regularizer = l2(0.9))(h_layer)\n",
        "o_layer = Dense(1, activation='relu')(h_layer)\n",
        "model = Model(i_layer, o_layer)"
      ],
      "execution_count": 0,
      "outputs": []
    },
    {
      "cell_type": "code",
      "metadata": {
        "id": "xjvQVYUDVw4U",
        "colab_type": "code",
        "colab": {}
      },
      "source": [
        "#custom_opt = tf.keras.optimizers.Adam(0.01)\n",
        "model.compile(\n",
        "    optimizer='adam',\n",
        "    loss='mse')\n",
        "report = model.fit(X_train, y_train, validation_data=(X_test, y_test), epochs = 300, verbose=False)\n"
      ],
      "execution_count": 0,
      "outputs": []
    },
    {
      "cell_type": "code",
      "metadata": {
        "id": "Jw19rfOqV5ai",
        "colab_type": "code",
        "outputId": "f94214d2-23b5-4b09-8780-ced5970eb73a",
        "colab": {
          "base_uri": "https://localhost:8080/",
          "height": 282
        }
      },
      "source": [
        "plt.plot(report.history['loss'], label=\"loss\")\n",
        "plt.plot(report.history['val_loss'], label=\"validation_loss\")\n",
        "plt.legend()"
      ],
      "execution_count": 56,
      "outputs": [
        {
          "output_type": "execute_result",
          "data": {
            "text/plain": [
              "<matplotlib.legend.Legend at 0x7f96b6dfdbe0>"
            ]
          },
          "metadata": {
            "tags": []
          },
          "execution_count": 56
        },
        {
          "output_type": "display_data",
          "data": {
            "image/png": "[encoded data removed]",
            "text/plain": [
              "<Figure size 432x288 with 1 Axes>"
            ]
          },
          "metadata": {
            "tags": [],
            "needs_background": "light"
          }
        }
      ]
    }
  ]
}