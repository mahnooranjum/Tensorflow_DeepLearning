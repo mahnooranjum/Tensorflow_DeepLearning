{
  "nbformat": 4,
  "nbformat_minor": 0,
  "metadata": {
    "colab": {
      "name": "Demo119_NeuralNetworks_LossFunctions_RMSE.ipynb",
      "provenance": [],
      "collapsed_sections": []
    },
    "kernelspec": {
      "name": "python3",
      "display_name": "Python 3"
    }
  },
  "cells": [
    {
      "cell_type": "markdown",
      "metadata": {
        "id": "P9bJCDjdlgG6",
        "colab_type": "text"
      },
      "source": [
        "# **Tame Your Python**\n",
        "\n"
      ]
    },
    {
      "cell_type": "code",
      "metadata": {
        "id": "aQwc0re5mFld",
        "colab_type": "code",
        "outputId": "a521f7e1-8bf1-4693-e3a5-a63f2f325cf2",
        "colab": {
          "base_uri": "https://localhost:8080/",
          "height": 35
        }
      },
      "source": [
        "import numpy as np\n",
        "import pandas as pd\n",
        "import matplotlib.pyplot as plt\n",
        "import tensorflow as tf\n",
        "print(tf.__version__)"
      ],
      "execution_count": 8,
      "outputs": [
        {
          "output_type": "stream",
          "text": [
            "2.2.0\n"
          ],
          "name": "stdout"
        }
      ]
    },
    {
      "cell_type": "code",
      "metadata": {
        "id": "_a1S1CA0LLp6",
        "colab_type": "code",
        "colab": {}
      },
      "source": [
        "def plot(X, out):\n",
        "  plt.plot(np.linspace(-2, 2, 100), X, 'r', label = 'X')\n",
        "  plt.plot(np.linspace(-2, 2, 100), out,'b', label = 'Activation')\n",
        "  plt.legend()\n",
        "  plt.grid()\n",
        "  plt.show()"
      ],
      "execution_count": 0,
      "outputs": []
    },
    {
      "cell_type": "code",
      "metadata": {
        "id": "aixB4U9iIcsk",
        "colab_type": "code",
        "colab": {}
      },
      "source": [
        "y_true = [54]\n",
        "y_pred = [10]"
      ],
      "execution_count": 0,
      "outputs": []
    },
    {
      "cell_type": "code",
      "metadata": {
        "id": "sSOvriMjObki",
        "colab_type": "code",
        "outputId": "c8904c22-be39-4639-a160-2b59bd3b3285",
        "colab": {
          "base_uri": "https://localhost:8080/",
          "height": 35
        }
      },
      "source": [
        "layer = tf.keras.losses.MeanSquaredError()\n",
        "output = layer(y_true,y_pred)\n",
        "print(output)"
      ],
      "execution_count": 11,
      "outputs": [
        {
          "output_type": "stream",
          "text": [
            "tf.Tensor(1936, shape=(), dtype=int32)\n"
          ],
          "name": "stdout"
        }
      ]
    },
    {
      "cell_type": "code",
      "metadata": {
        "id": "N5dR49__Oi1B",
        "colab_type": "code",
        "colab": {}
      },
      "source": [
        "y_true = [54]\n",
        "y_pred = [54]"
      ],
      "execution_count": 0,
      "outputs": []
    },
    {
      "cell_type": "code",
      "metadata": {
        "id": "Vz6L7IEcOjf5",
        "colab_type": "code",
        "outputId": "46f868c8-caed-49d9-b5b1-9463780eb7ae",
        "colab": {
          "base_uri": "https://localhost:8080/",
          "height": 35
        }
      },
      "source": [
        "layer = tf.keras.losses.MeanSquaredError()\n",
        "output = layer(y_true,y_pred)\n",
        "print(output)"
      ],
      "execution_count": 13,
      "outputs": [
        {
          "output_type": "stream",
          "text": [
            "tf.Tensor(0, shape=(), dtype=int32)\n"
          ],
          "name": "stdout"
        }
      ]
    },
    {
      "cell_type": "code",
      "metadata": {
        "id": "ZDtF9s4OOyBh",
        "colab_type": "code",
        "colab": {}
      },
      "source": [
        "y_true = [54]\n",
        "y_pred = [-54]"
      ],
      "execution_count": 0,
      "outputs": []
    },
    {
      "cell_type": "code",
      "metadata": {
        "id": "ok-EWw1AO0aR",
        "colab_type": "code",
        "outputId": "7b40d675-32d8-4efa-aa6e-76cd20d674f7",
        "colab": {
          "base_uri": "https://localhost:8080/",
          "height": 35
        }
      },
      "source": [
        "layer = tf.keras.losses.MeanSquaredError()\n",
        "output = layer(y_true,y_pred)\n",
        "print(output)"
      ],
      "execution_count": 15,
      "outputs": [
        {
          "output_type": "stream",
          "text": [
            "tf.Tensor(11664, shape=(), dtype=int32)\n"
          ],
          "name": "stdout"
        }
      ]
    },
    {
      "cell_type": "code",
      "metadata": {
        "id": "RoTsbRwpO9O1",
        "colab_type": "code",
        "colab": {}
      },
      "source": [
        ""
      ],
      "execution_count": 0,
      "outputs": []
    }
  ]
}