{
  "nbformat": 4,
  "nbformat_minor": 0,
  "metadata": {
    "colab": {
      "name": "Demo118_NeuralNetworks_LossFunctions_BinaryCE.ipynb",
      "provenance": [],
      "collapsed_sections": []
    },
    "kernelspec": {
      "name": "python3",
      "display_name": "Python 3"
    }
  },
  "cells": [
    {
      "cell_type": "markdown",
      "metadata": {
        "id": "P9bJCDjdlgG6",
        "colab_type": "text"
      },
      "source": [
        "# **Tame Your Python**\n",
        "\n"
      ]
    },
    {
      "cell_type": "code",
      "metadata": {
        "id": "aQwc0re5mFld",
        "colab_type": "code",
        "outputId": "2ef9ace8-623c-40ff-b21c-0ae6c1d64d39",
        "colab": {
          "base_uri": "https://localhost:8080/",
          "height": 35
        }
      },
      "source": [
        "import numpy as np\n",
        "import pandas as pd\n",
        "import matplotlib.pyplot as plt\n",
        "import tensorflow as tf\n",
        "print(tf.__version__)"
      ],
      "execution_count": 1,
      "outputs": [
        {
          "output_type": "stream",
          "text": [
            "2.2.0\n"
          ],
          "name": "stdout"
        }
      ]
    },
    {
      "cell_type": "code",
      "metadata": {
        "id": "_a1S1CA0LLp6",
        "colab_type": "code",
        "colab": {}
      },
      "source": [
        "def plot(X, out):\n",
        "  plt.plot(np.linspace(-2, 2, 100), X, 'r', label = 'X')\n",
        "  plt.plot(np.linspace(-2, 2, 100), out,'b', label = 'Activation')\n",
        "  plt.legend()\n",
        "  plt.grid()\n",
        "  plt.show()"
      ],
      "execution_count": 0,
      "outputs": []
    },
    {
      "cell_type": "code",
      "metadata": {
        "id": "aixB4U9iIcsk",
        "colab_type": "code",
        "colab": {}
      },
      "source": [
        "y_true = [1.0]\n",
        "y_pred = [0.0]"
      ],
      "execution_count": 0,
      "outputs": []
    },
    {
      "cell_type": "code",
      "metadata": {
        "id": "sSOvriMjObki",
        "colab_type": "code",
        "outputId": "9f816ea8-ee15-4596-f393-57b6fb1159a2",
        "colab": {
          "base_uri": "https://localhost:8080/",
          "height": 35
        }
      },
      "source": [
        "layer = tf.keras.losses.BinaryCrossentropy()\n",
        "output = layer(y_true,y_pred)\n",
        "print(output)"
      ],
      "execution_count": 7,
      "outputs": [
        {
          "output_type": "stream",
          "text": [
            "tf.Tensor(15.424949, shape=(), dtype=float32)\n"
          ],
          "name": "stdout"
        }
      ]
    },
    {
      "cell_type": "code",
      "metadata": {
        "id": "N5dR49__Oi1B",
        "colab_type": "code",
        "colab": {}
      },
      "source": [
        "y_true = [1.0]\n",
        "y_pred = [0.5]"
      ],
      "execution_count": 0,
      "outputs": []
    },
    {
      "cell_type": "code",
      "metadata": {
        "id": "Vz6L7IEcOjf5",
        "colab_type": "code",
        "outputId": "b54ef8f3-bb04-4412-d52b-7c032f51cd4a",
        "colab": {
          "base_uri": "https://localhost:8080/",
          "height": 35
        }
      },
      "source": [
        "layer = tf.keras.losses.BinaryCrossentropy()\n",
        "output = layer(y_true,y_pred)\n",
        "print(output)"
      ],
      "execution_count": 9,
      "outputs": [
        {
          "output_type": "stream",
          "text": [
            "tf.Tensor(0.69314694, shape=(), dtype=float32)\n"
          ],
          "name": "stdout"
        }
      ]
    },
    {
      "cell_type": "code",
      "metadata": {
        "id": "ZDtF9s4OOyBh",
        "colab_type": "code",
        "colab": {}
      },
      "source": [
        "y_true = [1.0]\n",
        "y_pred = [1.0]"
      ],
      "execution_count": 0,
      "outputs": []
    },
    {
      "cell_type": "code",
      "metadata": {
        "id": "ok-EWw1AO0aR",
        "colab_type": "code",
        "outputId": "e90ae239-df1d-4f5a-c8c4-566bf4aedc3e",
        "colab": {
          "base_uri": "https://localhost:8080/",
          "height": 35
        }
      },
      "source": [
        "layer = tf.keras.losses.BinaryCrossentropy()\n",
        "output = layer(y_true,y_pred)\n",
        "print(output)"
      ],
      "execution_count": 11,
      "outputs": [
        {
          "output_type": "stream",
          "text": [
            "tf.Tensor(-0.0, shape=(), dtype=float32)\n"
          ],
          "name": "stdout"
        }
      ]
    },
    {
      "cell_type": "code",
      "metadata": {
        "id": "RoTsbRwpO9O1",
        "colab_type": "code",
        "colab": {}
      },
      "source": [
        ""
      ],
      "execution_count": 0,
      "outputs": []
    }
  ]
}