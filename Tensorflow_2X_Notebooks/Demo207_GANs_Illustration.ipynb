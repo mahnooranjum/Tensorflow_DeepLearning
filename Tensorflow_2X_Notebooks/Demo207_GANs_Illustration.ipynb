{
  "nbformat": 4,
  "nbformat_minor": 0,
  "metadata": {
    "kernelspec": {
      "display_name": "Python 3",
      "language": "python",
      "name": "python3"
    },
    "language_info": {
      "codemirror_mode": {
        "name": "ipython",
        "version": 3
      },
      "file_extension": ".py",
      "mimetype": "text/x-python",
      "name": "python",
      "nbconvert_exporter": "python",
      "pygments_lexer": "ipython3",
      "version": "3.8.1"
    },
    "colab": {
      "name": "Demo207_GANs_Illustration.ipynb",
      "provenance": [],
      "collapsed_sections": []
    }
  },
  "cells": [
    {
      "cell_type": "markdown",
      "metadata": {
        "id": "_IVy9VZuQQJZ",
        "colab_type": "text"
      },
      "source": [
        "# Generative Adversarial Networks in 3 x 3 \n",
        "\n",
        "Special thanks to Luis Serrano for a friendly introduction to GANs.\n",
        "https://github.com/luisguiserrano"
      ]
    },
    {
      "cell_type": "code",
      "metadata": {
        "id": "Vhr3K8n5QQJe",
        "colab_type": "code",
        "colab": {
          "base_uri": "https://localhost:8080/",
          "height": 35
        },
        "outputId": "5cc368c4-c9dc-40b2-e76c-2c7a31d4a2ac"
      },
      "source": [
        "import numpy as np\n",
        "import pandas as pd\n",
        "import matplotlib.pyplot as plt\n",
        "import tensorflow as tf\n",
        "print(tf.__version__)"
      ],
      "execution_count": 1,
      "outputs": [
        {
          "output_type": "stream",
          "text": [
            "2.3.0\n"
          ],
          "name": "stdout"
        }
      ]
    },
    {
      "cell_type": "code",
      "metadata": {
        "id": "XcZW_Jxx8bUk",
        "colab_type": "code",
        "colab": {}
      },
      "source": [
        "from tensorflow.keras.layers import Input, Dense, Dropout, LeakyReLU, BatchNormalization, Conv2DTranspose\n",
        "from tensorflow.keras.models import Model\n",
        "from tensorflow.keras.optimizers import Adam, SGD\n",
        "import os\n",
        "import sys"
      ],
      "execution_count": 2,
      "outputs": []
    },
    {
      "cell_type": "code",
      "metadata": {
        "id": "5BbKLwScQQJj",
        "colab_type": "code",
        "colab": {}
      },
      "source": [
        "X = [np.array([0,1,0, 1,1,1,0,1,0]),\n",
        "     np.array([0,0.8,0, 0.75,0.7,0.8,0,0.6,0]),\n",
        "     np.array([0.3,0.8,0.2, 0.75,0.7,0.8,0.1,0.8,0.25]),\n",
        "     np.array([0.1,0.7,0.2, 0.76,0.7,0.8,0.1,0.9,0.2]),\n",
        "     np.array([0,0.6,0, 0.75,0.7,0.8,0,0.8,0]),\n",
        "     np.array([0.2,0.7,0.2, 0.7,0.8,0.6,0.1,0.8,0.25]),\n",
        "     np.array([0,1,0, 1,1,1,0,1,0]),\n",
        "     np.array([0,1,0, 1,1,1,0,1,0]),\n",
        "     np.array([0,1,0, 1,1,1,0,1,0])]\n",
        "X = np.array(X)\n",
        "X = 1 - X\n"
      ],
      "execution_count": 4,
      "outputs": []
    },
    {
      "cell_type": "code",
      "metadata": {
        "id": "R7A4JMQr8hKV",
        "colab_type": "code",
        "colab": {
          "base_uri": "https://localhost:8080/",
          "height": 35
        },
        "outputId": "aa7b3eaf-6ae2-4a67-bd65-b46ba78c2551"
      },
      "source": [
        "print(X.shape)"
      ],
      "execution_count": 5,
      "outputs": [
        {
          "output_type": "stream",
          "text": [
            "(9, 9)\n"
          ],
          "name": "stdout"
        }
      ]
    },
    {
      "cell_type": "code",
      "metadata": {
        "id": "ICX6yGDm8qtc",
        "colab_type": "code",
        "colab": {
          "base_uri": "https://localhost:8080/",
          "height": 35
        },
        "outputId": "4446ef33-a166-4fc2-dfbc-7cc3d75f6023"
      },
      "source": [
        "X = X.reshape([-1, 3,3])\n",
        "print(X.shape)"
      ],
      "execution_count": 6,
      "outputs": [
        {
          "output_type": "stream",
          "text": [
            "(9, 3, 3)\n"
          ],
          "name": "stdout"
        }
      ]
    },
    {
      "cell_type": "code",
      "metadata": {
        "id": "85XJbbHJ8zmE",
        "colab_type": "code",
        "colab": {}
      },
      "source": [
        "N, H, W = X.shape\n",
        "D = H * W "
      ],
      "execution_count": 7,
      "outputs": []
    },
    {
      "cell_type": "code",
      "metadata": {
        "id": "F0a9bUBMFtnP",
        "colab_type": "code",
        "colab": {
          "base_uri": "https://localhost:8080/",
          "height": 248
        },
        "outputId": "d4ece5ee-e9dd-4d9a-8dfe-fdfc013013e6"
      },
      "source": [
        "rows = 3\n",
        "columns = 3\n",
        "fig, ax = plt.subplots(rows, columns)\n",
        "index = 0\n",
        "for i in range(rows):\n",
        "  for j in range(columns):\n",
        "    ax[i,j].imshow(X[index].reshape(H,W), cmap='gray')\n",
        "    ax[i,j].axis('off')\n",
        "    index+=1"
      ],
      "execution_count": 9,
      "outputs": [
        {
          "output_type": "display_data",
          "data": {
            "image/png": "[encoded data removed]",
            "text/plain": [
              "<Figure size 432x288 with 9 Axes>"
            ]
          },
          "metadata": {
            "tags": [],
            "needs_background": "light"
          }
        }
      ]
    },
    {
      "cell_type": "code",
      "metadata": {
        "id": "YO8dEhT7822E",
        "colab_type": "code",
        "colab": {}
      },
      "source": [
        "X_train = X.reshape(-1, D)"
      ],
      "execution_count": 10,
      "outputs": []
    },
    {
      "cell_type": "code",
      "metadata": {
        "id": "TghFjI8J85b1",
        "colab_type": "code",
        "colab": {
          "base_uri": "https://localhost:8080/",
          "height": 52
        },
        "outputId": "0664f46b-a7db-4e1c-bdaf-4745a87704bc"
      },
      "source": [
        "print(X.shape)\n",
        "print(X_train.shape)"
      ],
      "execution_count": 11,
      "outputs": [
        {
          "output_type": "stream",
          "text": [
            "(9, 3, 3)\n",
            "(9, 9)\n"
          ],
          "name": "stdout"
        }
      ]
    },
    {
      "cell_type": "code",
      "metadata": {
        "id": "DvAJcd00BCEG",
        "colab_type": "code",
        "colab": {}
      },
      "source": [
        "LD = 9"
      ],
      "execution_count": 12,
      "outputs": []
    },
    {
      "cell_type": "code",
      "metadata": {
        "id": "aiUY16skBGzd",
        "colab_type": "code",
        "colab": {}
      },
      "source": [
        "def make_generator(LD, D):\n",
        "  i_layer = Input(shape=(LD,))\n",
        "  h_layer = Dense(9, activation='sigmoid')(i_layer)\n",
        "  h_layer = Dense(9, activation='sigmoid')(h_layer)\n",
        "  o_layer = Dense(D, activation='sigmoid')(h_layer)\n",
        "  return Model(i_layer, o_layer)"
      ],
      "execution_count": 13,
      "outputs": []
    },
    {
      "cell_type": "code",
      "metadata": {
        "id": "dR7SQm62BRZo",
        "colab_type": "code",
        "colab": {}
      },
      "source": [
        "def make_discriminator(D):\n",
        "  i_layer = Input(shape=(D,))\n",
        "  h_layer = Dense(9, activation='sigmoid')(i_layer)\n",
        "  h_layer = Dense(9, activation='sigmoid')(h_layer)\n",
        "  o_layer = Dense(1, activation='sigmoid')(h_layer)\n",
        "  return Model(i_layer, o_layer)"
      ],
      "execution_count": 14,
      "outputs": []
    },
    {
      "cell_type": "code",
      "metadata": {
        "id": "1_Ug5BjDBY5l",
        "colab_type": "code",
        "colab": {}
      },
      "source": [
        "d = make_discriminator(D)"
      ],
      "execution_count": 15,
      "outputs": []
    },
    {
      "cell_type": "code",
      "metadata": {
        "id": "2QSxRhtYBa-W",
        "colab_type": "code",
        "colab": {}
      },
      "source": [
        "d.compile(loss='binary_crossentropy',\n",
        "          optimizer = Adam(0.01),\n",
        "          metrics = ['accuracy'])"
      ],
      "execution_count": 16,
      "outputs": []
    },
    {
      "cell_type": "code",
      "metadata": {
        "id": "f7ajyx55Bckm",
        "colab_type": "code",
        "colab": {}
      },
      "source": [
        "g = make_generator(LD, D)"
      ],
      "execution_count": 17,
      "outputs": []
    },
    {
      "cell_type": "code",
      "metadata": {
        "id": "IeKxpDNYBe3O",
        "colab_type": "code",
        "colab": {}
      },
      "source": [
        "noise_i_layer = Input(shape=(LD,))\n",
        "image = g(noise_i_layer, D)\n",
        "d.trainable = False\n",
        "prediction = d(image)\n",
        "gan = Model(noise_i_layer, prediction)"
      ],
      "execution_count": 18,
      "outputs": []
    },
    {
      "cell_type": "code",
      "metadata": {
        "id": "Ed3owTq-BkYO",
        "colab_type": "code",
        "colab": {}
      },
      "source": [
        "gan.compile(loss='binary_crossentropy',\n",
        "          optimizer = Adam(0.01))"
      ],
      "execution_count": 19,
      "outputs": []
    },
    {
      "cell_type": "code",
      "metadata": {
        "id": "DHM8jnxiBuzu",
        "colab_type": "code",
        "colab": {}
      },
      "source": [
        "batch_size = 1\n",
        "epochs = 200\n",
        "export_period = 50"
      ],
      "execution_count": 20,
      "outputs": []
    },
    {
      "cell_type": "code",
      "metadata": {
        "id": "eCsgXuJnBz8_",
        "colab_type": "code",
        "colab": {}
      },
      "source": [
        "ones = np.ones(batch_size)\n",
        "zeros = np.zeros(batch_size)"
      ],
      "execution_count": 21,
      "outputs": []
    },
    {
      "cell_type": "code",
      "metadata": {
        "id": "9Vc0lcUEB19P",
        "colab_type": "code",
        "colab": {}
      },
      "source": [
        "d_loss_list = []\n",
        "g_loss_list = []"
      ],
      "execution_count": 22,
      "outputs": []
    },
    {
      "cell_type": "code",
      "metadata": {
        "id": "XtJwbgaZB3ze",
        "colab_type": "code",
        "colab": {}
      },
      "source": [
        "if not os.path.exists('GANS'):\n",
        "  os.makedirs('GANS')"
      ],
      "execution_count": 23,
      "outputs": []
    },
    {
      "cell_type": "code",
      "metadata": {
        "id": "DVE8S_GPB5RW",
        "colab_type": "code",
        "colab": {}
      },
      "source": [
        "def get_images(epochs, rows, columns, LD, g):\n",
        "  noise = np.random.randn(rows * columns, LD)\n",
        "  images_by_generator = g.predict(noise)\n",
        "  images_by_generator = 0.5 * images_by_generator + 0.5\n",
        "\n",
        "  fig, ax = plt.subplots(rows, columns)\n",
        "  index = 0\n",
        "  for i in range(rows):\n",
        "    for j in range(columns):\n",
        "      ax[i,j].imshow(images_by_generator[index].reshape(H,W), cmap='gray')\n",
        "      ax[i,j].axis('off')\n",
        "      index+=1\n",
        "  fig.savefig(\"GANS/%d.png\" % epochs)\n",
        "  plt.close"
      ],
      "execution_count": 24,
      "outputs": []
    },
    {
      "cell_type": "code",
      "metadata": {
        "id": "e3z3Nfc4B8jm",
        "colab_type": "code",
        "colab": {
          "base_uri": "https://localhost:8080/",
          "height": 959
        },
        "outputId": "cd1f0bc1-f391-4863-9752-8bca4e81897d"
      },
      "source": [
        "for e in range(epochs):\n",
        "  index = np.random.randint(0, X_train.shape[0], batch_size)\n",
        "  real = X_train[index]\n",
        "\n",
        "  noise = np.random.randn(batch_size, LD)\n",
        "  fake = g.predict(noise)\n",
        "\n",
        "  d_loss_real, d_accuracy_real = d.train_on_batch(real, ones)\n",
        "  d_loss_fake, d_accuracy_fake= d.train_on_batch(fake, zeros)\n",
        "  d_loss = (d_loss_real + d_loss_fake) * 1/2 \n",
        "  d_accuracy = (d_loss_real + d_loss_fake) * 1/2\n",
        "\n",
        "\n",
        "  noise = np.random.randn(batch_size, LD)\n",
        "  g_loss = gan.train_on_batch(noise, ones)\n",
        "\n",
        "  d_loss_list.append(d_loss)\n",
        "  g_loss_list.append(g_loss)\n",
        "\n",
        "  if e % 200 == 0:\n",
        "    print(\"epoch = {} d_loss = {} and g_loss = {}\".format(e, d_loss, g_loss))\n",
        "  if e % export_period == 0:\n",
        "    get_images(e , 4,4, LD, g)"
      ],
      "execution_count": 25,
      "outputs": [
        {
          "output_type": "stream",
          "text": [
            "epoch = 0 d_loss = 0.8079031556844711 and g_loss = 0.37892863154411316\n"
          ],
          "name": "stdout"
        },
        {
          "output_type": "display_data",
          "data": {
            "image/png": "[encoded data removed]",
            "text/plain": [
              "<Figure size 432x288 with 16 Axes>"
            ]
          },
          "metadata": {
            "tags": [],
            "needs_background": "light"
          }
        },
        {
          "output_type": "display_data",
          "data": {
            "image/png": "[encoded data removed]",
            "text/plain": [
              "<Figure size 432x288 with 16 Axes>"
            ]
          },
          "metadata": {
            "tags": [],
            "needs_background": "light"
          }
        },
        {
          "output_type": "display_data",
          "data": {
            "image/png": "[encoded data removed]",
            "text/plain": [
              "<Figure size 432x288 with 16 Axes>"
            ]
          },
          "metadata": {
            "tags": [],
            "needs_background": "light"
          }
        },
        {
          "output_type": "display_data",
          "data": {
            "image/png": "[encoded data removed]",
            "text/plain": [
              "<Figure size 432x288 with 16 Axes>"
            ]
          },
          "metadata": {
            "tags": [],
            "needs_background": "light"
          }
        }
      ]
    },
    {
      "cell_type": "code",
      "metadata": {
        "id": "Hrs-xpNkCM8A",
        "colab_type": "code",
        "colab": {
          "base_uri": "https://localhost:8080/",
          "height": 265
        },
        "outputId": "cab94519-6b88-44fb-be42-8fe81e5a20b6"
      },
      "source": [
        "plt.plot(d_loss_list)\n",
        "plt.plot(g_loss_list)\n",
        "plt.show()"
      ],
      "execution_count": 26,
      "outputs": [
        {
          "output_type": "display_data",
          "data": {
            "image/png": "[encoded data removed]",
            "text/plain": [
              "<Figure size 432x288 with 1 Axes>"
            ]
          },
          "metadata": {
            "tags": [],
            "needs_background": "light"
          }
        }
      ]
    },
    {
      "cell_type": "code",
      "metadata": {
        "id": "QpW1ZlYeCNJC",
        "colab_type": "code",
        "colab": {}
      },
      "source": [
        ""
      ],
      "execution_count": null,
      "outputs": []
    }
  ]
}