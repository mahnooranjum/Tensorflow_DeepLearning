{
  "nbformat": 4,
  "nbformat_minor": 0,
  "metadata": {
    "colab": {
      "name": "Demo140_CNN_Weights.ipynb",
      "provenance": [],
      "collapsed_sections": []
    },
    "kernelspec": {
      "name": "python3",
      "display_name": "Python 3"
    }
  },
  "cells": [
    {
      "cell_type": "markdown",
      "metadata": {
        "id": "P9bJCDjdlgG6",
        "colab_type": "text"
      },
      "source": [
        "# **Spit some [tensor] flow**\n",
        "\n",
        "We need to learn the intricacies of tensorflow to master deep learning\n",
        "\n"
      ]
    },
    {
      "cell_type": "code",
      "metadata": {
        "id": "aQwc0re5mFld",
        "colab_type": "code",
        "outputId": "9c22ec13-0c36-4f85-aefb-b6b67a033111",
        "colab": {
          "base_uri": "https://localhost:8080/",
          "height": 34
        }
      },
      "source": [
        "import numpy as np\n",
        "import pandas as pd\n",
        "import matplotlib.pyplot as plt\n",
        "import tensorflow as tf\n",
        "import cv2\n",
        "print(tf.__version__)"
      ],
      "execution_count": 1,
      "outputs": [
        {
          "output_type": "stream",
          "text": [
            "2.2.0\n"
          ],
          "name": "stdout"
        }
      ]
    },
    {
      "cell_type": "code",
      "metadata": {
        "id": "CaBxIWkog_i-",
        "colab_type": "code",
        "colab": {}
      },
      "source": [
        "from tensorflow.keras.layers import Input, Conv2D, Dropout, Dense, Flatten\n",
        "from tensorflow.keras.models import Model"
      ],
      "execution_count": 0,
      "outputs": []
    },
    {
      "cell_type": "code",
      "metadata": {
        "id": "zhCnvW2e2Xrv",
        "colab_type": "code",
        "colab": {}
      },
      "source": [
        "from tensorflow.keras.datasets import mnist\n",
        "(X_train, y_train), (X_test, y_test) = mnist.load_data()"
      ],
      "execution_count": 0,
      "outputs": []
    },
    {
      "cell_type": "code",
      "metadata": {
        "id": "w6qLYai-2x-O",
        "colab_type": "code",
        "outputId": "af56bc28-fa77-46cc-b70f-8c263dc4a4da",
        "colab": {
          "base_uri": "https://localhost:8080/",
          "height": 52
        }
      },
      "source": [
        "X_train, X_test = X_train / 255.0 , X_test / 255.0 \n",
        "print(X_train.shape)\n",
        "print(X_test.shape)"
      ],
      "execution_count": 4,
      "outputs": [
        {
          "output_type": "stream",
          "text": [
            "(60000, 28, 28)\n",
            "(10000, 28, 28)\n"
          ],
          "name": "stdout"
        }
      ]
    },
    {
      "cell_type": "code",
      "metadata": {
        "id": "UEphzMZC3DRu",
        "colab_type": "code",
        "outputId": "365d3cd4-afea-4e66-ebeb-cbf5d5cb2f7f",
        "colab": {
          "base_uri": "https://localhost:8080/",
          "height": 52
        }
      },
      "source": [
        "X_train = np.expand_dims(X_train, -1)\n",
        "X_test = np.expand_dims(X_test, -1)\n",
        "print(X_train.shape)\n",
        "print(X_test.shape)\n",
        "# SHAPE \n",
        "# N x H x W x Colors \n",
        "# Colors = 1 for grayscale \n",
        "# Fashion MNIST is grayscale"
      ],
      "execution_count": 5,
      "outputs": [
        {
          "output_type": "stream",
          "text": [
            "(60000, 28, 28, 1)\n",
            "(10000, 28, 28, 1)\n"
          ],
          "name": "stdout"
        }
      ]
    },
    {
      "cell_type": "code",
      "metadata": {
        "id": "F-F3OFyE3QiF",
        "colab_type": "code",
        "outputId": "0b09d740-6d4f-4132-f688-772d61034d88",
        "colab": {
          "base_uri": "https://localhost:8080/",
          "height": 34
        }
      },
      "source": [
        "classes = len(set(y_train))\n",
        "print(classes)"
      ],
      "execution_count": 6,
      "outputs": [
        {
          "output_type": "stream",
          "text": [
            "10\n"
          ],
          "name": "stdout"
        }
      ]
    },
    {
      "cell_type": "code",
      "metadata": {
        "id": "gsm4l9-Z3kX2",
        "colab_type": "code",
        "colab": {}
      },
      "source": [
        "input_shape = X_train[0].shape"
      ],
      "execution_count": 0,
      "outputs": []
    },
    {
      "cell_type": "markdown",
      "metadata": {
        "id": "5mvydbDkBxW5",
        "colab_type": "text"
      },
      "source": [
        "## ZEROS\n"
      ]
    },
    {
      "cell_type": "code",
      "metadata": {
        "id": "35SNHNC74Gk2",
        "colab_type": "code",
        "colab": {}
      },
      "source": [
        "i_layer = Input(shape = input_shape)\n",
        "h_layer = Conv2D(64, (3,3), strides = 2, activation='relu', \n",
        "                 kernel_initializer=tf.zeros_initializer())(i_layer)\n",
        "h_layer = Flatten()(h_layer)\n",
        "h_layer = Dropout(0.4)(h_layer)\n",
        "h_layer = Dense(128, activation='relu',kernel_initializer=tf.zeros_initializer())(h_layer)\n",
        "h_layer = Dropout(0.4)(h_layer)\n",
        "o_layer = Dense(classes, activation='softmax')(h_layer)\n",
        "\n",
        "model = Model(i_layer, o_layer)\n"
      ],
      "execution_count": 0,
      "outputs": []
    },
    {
      "cell_type": "code",
      "metadata": {
        "id": "PK4XdoUd5q7n",
        "colab_type": "code",
        "colab": {
          "base_uri": "https://localhost:8080/",
          "height": 54
        },
        "outputId": "88f43407-df00-48d5-b3c4-6adb0b85f4ac"
      },
      "source": [
        "model.compile(optimizer='adam', \n",
        "              loss = 'sparse_categorical_crossentropy',\n",
        "              metrics = ['accuracy'])\n",
        "\n",
        "report = model.fit(X_train, y_train, validation_data=(X_test, y_test), epochs=1)"
      ],
      "execution_count": 9,
      "outputs": [
        {
          "output_type": "stream",
          "text": [
            "1875/1875 [==============================] - 37s 20ms/step - loss: 2.3015 - accuracy: 0.1120 - val_loss: 2.3012 - val_accuracy: 0.1135\n"
          ],
          "name": "stdout"
        }
      ]
    },
    {
      "cell_type": "markdown",
      "metadata": {
        "colab_type": "text",
        "id": "XBKMCFMHCswV"
      },
      "source": [
        "## ONES\n"
      ]
    },
    {
      "cell_type": "code",
      "metadata": {
        "colab_type": "code",
        "id": "LSv6f6MRCswY",
        "colab": {}
      },
      "source": [
        "i_layer = Input(shape = input_shape)\n",
        "h_layer = Conv2D(64, (3,3), strides = 2, activation='relu', \n",
        "                 kernel_initializer=tf.ones_initializer())(i_layer)\n",
        "h_layer = Flatten()(h_layer)\n",
        "h_layer = Dropout(0.4)(h_layer)\n",
        "h_layer = Dense(128, activation='relu',kernel_initializer= tf.ones_initializer())(h_layer)\n",
        "h_layer = Dropout(0.4)(h_layer)\n",
        "o_layer = Dense(classes, activation='softmax')(h_layer)\n",
        "\n",
        "model = Model(i_layer, o_layer)\n"
      ],
      "execution_count": 0,
      "outputs": []
    },
    {
      "cell_type": "code",
      "metadata": {
        "colab_type": "code",
        "outputId": "76f78e23-be3e-4d66-d77a-04961a14b79a",
        "id": "OqcnxSnwCswf",
        "colab": {
          "base_uri": "https://localhost:8080/",
          "height": 54
        }
      },
      "source": [
        "model.compile(optimizer='adam', \n",
        "              loss = 'sparse_categorical_crossentropy',\n",
        "              metrics = ['accuracy'])\n",
        "\n",
        "report = model.fit(X_train, y_train, validation_data=(X_test, y_test), epochs=1)"
      ],
      "execution_count": 11,
      "outputs": [
        {
          "output_type": "stream",
          "text": [
            "1875/1875 [==============================] - 37s 20ms/step - loss: 4848.0942 - accuracy: 0.1620 - val_loss: 2.2739 - val_accuracy: 0.1361\n"
          ],
          "name": "stdout"
        }
      ]
    },
    {
      "cell_type": "markdown",
      "metadata": {
        "colab_type": "text",
        "id": "CJ1zGMvTCxwx"
      },
      "source": [
        "## UNIFORM\n"
      ]
    },
    {
      "cell_type": "code",
      "metadata": {
        "colab_type": "code",
        "id": "I4nUfIvqCxwx",
        "colab": {}
      },
      "source": [
        "weights_init = tf.random_uniform_initializer(minval=-0.05, maxval=0.05)\n",
        "i_layer = Input(shape = input_shape)\n",
        "h_layer = Conv2D(64, (3,3), strides = 2, activation='relu', \n",
        "                 kernel_initializer=weights_init)(i_layer)\n",
        "h_layer = Flatten()(h_layer)\n",
        "h_layer = Dropout(0.4)(h_layer)\n",
        "h_layer = Dense(128, activation='relu',kernel_initializer= weights_init)(h_layer)\n",
        "h_layer = Dropout(0.4)(h_layer)\n",
        "o_layer = Dense(classes, activation='softmax')(h_layer)\n",
        "\n",
        "model = Model(i_layer, o_layer)\n"
      ],
      "execution_count": 0,
      "outputs": []
    },
    {
      "cell_type": "code",
      "metadata": {
        "colab_type": "code",
        "outputId": "0fa41beb-179c-4161-af90-1064d23b5434",
        "id": "ZfniIKzPCxwz",
        "colab": {
          "base_uri": "https://localhost:8080/",
          "height": 54
        }
      },
      "source": [
        "model.compile(optimizer='adam', \n",
        "              loss = 'sparse_categorical_crossentropy',\n",
        "              metrics = ['accuracy'])\n",
        "\n",
        "report = model.fit(X_train, y_train, validation_data=(X_test, y_test), epochs=1)"
      ],
      "execution_count": 13,
      "outputs": [
        {
          "output_type": "stream",
          "text": [
            "1875/1875 [==============================] - 38s 20ms/step - loss: 0.2681 - accuracy: 0.9188 - val_loss: 0.0850 - val_accuracy: 0.9731\n"
          ],
          "name": "stdout"
        }
      ]
    },
    {
      "cell_type": "code",
      "metadata": {
        "id": "o2Rf5mS_DJt0",
        "colab_type": "code",
        "colab": {}
      },
      "source": [
        ""
      ],
      "execution_count": 0,
      "outputs": []
    },
    {
      "cell_type": "markdown",
      "metadata": {
        "colab_type": "text",
        "id": "3InrIO-wDOA0"
      },
      "source": [
        "## ORTHOGONAL"
      ]
    },
    {
      "cell_type": "code",
      "metadata": {
        "colab_type": "code",
        "id": "b39p-50pDOA3",
        "colab": {}
      },
      "source": [
        "weights_init = tf.keras.initializers.Orthogonal()\n",
        "\n",
        "i_layer = Input(shape = input_shape)\n",
        "h_layer = Conv2D(64, (3,3), strides = 2, activation='relu', \n",
        "                 kernel_initializer=weights_init)(i_layer)\n",
        "h_layer = Flatten()(h_layer)\n",
        "h_layer = Dropout(0.4)(h_layer)\n",
        "h_layer = Dense(128, activation='relu',kernel_initializer= weights_init)(h_layer)\n",
        "h_layer = Dropout(0.4)(h_layer)\n",
        "o_layer = Dense(classes, activation='softmax')(h_layer)\n",
        "\n",
        "model = Model(i_layer, o_layer)\n"
      ],
      "execution_count": 0,
      "outputs": []
    },
    {
      "cell_type": "code",
      "metadata": {
        "colab_type": "code",
        "outputId": "34e7474c-8241-4b5b-c588-f223bd95e286",
        "id": "5TAC4xBlDOA9",
        "colab": {
          "base_uri": "https://localhost:8080/",
          "height": 54
        }
      },
      "source": [
        "model.compile(optimizer='adam', \n",
        "              loss = 'sparse_categorical_crossentropy',\n",
        "              metrics = ['accuracy'])\n",
        "\n",
        "report = model.fit(X_train, y_train, validation_data=(X_test, y_test), epochs=1)"
      ],
      "execution_count": 15,
      "outputs": [
        {
          "output_type": "stream",
          "text": [
            "1875/1875 [==============================] - 38s 20ms/step - loss: 0.2464 - accuracy: 0.9248 - val_loss: 0.0789 - val_accuracy: 0.9746\n"
          ],
          "name": "stdout"
        }
      ]
    },
    {
      "cell_type": "markdown",
      "metadata": {
        "colab_type": "text",
        "id": "UVmhUGQIELk0"
      },
      "source": [
        "## XAVIER UNIFORM"
      ]
    },
    {
      "cell_type": "code",
      "metadata": {
        "colab_type": "code",
        "id": "uDbqE6x5ELk1",
        "colab": {}
      },
      "source": [
        "weights_init = tf.keras.initializers.GlorotUniform()\n",
        "\n",
        "\n",
        "i_layer = Input(shape = input_shape)\n",
        "h_layer = Conv2D(64, (3,3), strides = 2, activation='relu', \n",
        "                 kernel_initializer=weights_init)(i_layer)\n",
        "h_layer = Flatten()(h_layer)\n",
        "h_layer = Dropout(0.4)(h_layer)\n",
        "h_layer = Dense(128, activation='relu',kernel_initializer= weights_init)(h_layer)\n",
        "h_layer = Dropout(0.4)(h_layer)\n",
        "o_layer = Dense(classes, activation='softmax')(h_layer)\n",
        "\n",
        "model = Model(i_layer, o_layer)\n"
      ],
      "execution_count": 0,
      "outputs": []
    },
    {
      "cell_type": "code",
      "metadata": {
        "colab_type": "code",
        "outputId": "50a377f1-f2e3-401f-a7a4-a73858a82feb",
        "id": "fwZiWVcCELk3",
        "colab": {
          "base_uri": "https://localhost:8080/",
          "height": 54
        }
      },
      "source": [
        "model.compile(optimizer='adam', \n",
        "              loss = 'sparse_categorical_crossentropy',\n",
        "              metrics = ['accuracy'])\n",
        "\n",
        "report = model.fit(X_train, y_train, validation_data=(X_test, y_test), epochs=1)"
      ],
      "execution_count": 18,
      "outputs": [
        {
          "output_type": "stream",
          "text": [
            "1875/1875 [==============================] - 37s 20ms/step - loss: 0.2515 - accuracy: 0.9239 - val_loss: 0.0874 - val_accuracy: 0.9723\n"
          ],
          "name": "stdout"
        }
      ]
    },
    {
      "cell_type": "code",
      "metadata": {
        "id": "UCyhJL8QETmX",
        "colab_type": "code",
        "colab": {}
      },
      "source": [
        ""
      ],
      "execution_count": 0,
      "outputs": []
    },
    {
      "cell_type": "markdown",
      "metadata": {
        "colab_type": "text",
        "id": "iM3XmGvsETtH"
      },
      "source": [
        "## XAVIER NORMAL"
      ]
    },
    {
      "cell_type": "code",
      "metadata": {
        "colab_type": "code",
        "id": "Ojaclem0ETtI",
        "colab": {}
      },
      "source": [
        "weights_init = tf.keras.initializers.GlorotNormal()\n",
        "\n",
        "\n",
        "i_layer = Input(shape = input_shape)\n",
        "h_layer = Conv2D(64, (3,3), strides = 2, activation='relu', \n",
        "                 kernel_initializer=weights_init)(i_layer)\n",
        "h_layer = Flatten()(h_layer)\n",
        "h_layer = Dropout(0.4)(h_layer)\n",
        "h_layer = Dense(128, activation='relu',kernel_initializer= weights_init)(h_layer)\n",
        "h_layer = Dropout(0.4)(h_layer)\n",
        "o_layer = Dense(classes, activation='softmax')(h_layer)\n",
        "\n",
        "model = Model(i_layer, o_layer)\n"
      ],
      "execution_count": 0,
      "outputs": []
    },
    {
      "cell_type": "code",
      "metadata": {
        "colab_type": "code",
        "outputId": "e4c530f6-946c-4e72-9b94-549acd18eede",
        "id": "Ud1Zu4TtETtO",
        "colab": {
          "base_uri": "https://localhost:8080/",
          "height": 54
        }
      },
      "source": [
        "model.compile(optimizer='adam', \n",
        "              loss = 'sparse_categorical_crossentropy',\n",
        "              metrics = ['accuracy'])\n",
        "\n",
        "report = model.fit(X_train, y_train, validation_data=(X_test, y_test), epochs=1)"
      ],
      "execution_count": 20,
      "outputs": [
        {
          "output_type": "stream",
          "text": [
            "1875/1875 [==============================] - 38s 20ms/step - loss: 0.2582 - accuracy: 0.9215 - val_loss: 0.0828 - val_accuracy: 0.9727\n"
          ],
          "name": "stdout"
        }
      ]
    },
    {
      "cell_type": "code",
      "metadata": {
        "id": "ZeZ2M6hdEYgD",
        "colab_type": "code",
        "colab": {}
      },
      "source": [
        ""
      ],
      "execution_count": 0,
      "outputs": []
    },
    {
      "cell_type": "markdown",
      "metadata": {
        "colab_type": "text",
        "id": "_RLL1tEkEYsh"
      },
      "source": [
        "## CONSTANT"
      ]
    },
    {
      "cell_type": "code",
      "metadata": {
        "colab_type": "code",
        "id": "MZHNtF2GEYsj",
        "colab": {}
      },
      "source": [
        "weights_init = tf.constant_initializer(5)\n",
        "\n",
        "\n",
        "i_layer = Input(shape = input_shape)\n",
        "h_layer = Conv2D(64, (3,3), strides = 2, activation='relu', \n",
        "                 kernel_initializer=weights_init)(i_layer)\n",
        "h_layer = Flatten()(h_layer)\n",
        "h_layer = Dropout(0.4)(h_layer)\n",
        "h_layer = Dense(128, activation='relu',kernel_initializer= weights_init)(h_layer)\n",
        "h_layer = Dropout(0.4)(h_layer)\n",
        "o_layer = Dense(classes, activation='softmax')(h_layer)\n",
        "\n",
        "model = Model(i_layer, o_layer)\n"
      ],
      "execution_count": 0,
      "outputs": []
    },
    {
      "cell_type": "code",
      "metadata": {
        "colab_type": "code",
        "outputId": "76c32976-03b4-44d6-a083-fbfb96f1ad7e",
        "id": "FnjYFLr6EYss",
        "colab": {
          "base_uri": "https://localhost:8080/",
          "height": 54
        }
      },
      "source": [
        "model.compile(optimizer='adam', \n",
        "              loss = 'sparse_categorical_crossentropy',\n",
        "              metrics = ['accuracy'])\n",
        "\n",
        "report = model.fit(X_train, y_train, validation_data=(X_test, y_test), epochs=1)"
      ],
      "execution_count": 22,
      "outputs": [
        {
          "output_type": "stream",
          "text": [
            "1875/1875 [==============================] - 38s 20ms/step - loss: 191924.3906 - accuracy: 0.1064 - val_loss: 15867.6465 - val_accuracy: 0.1028\n"
          ],
          "name": "stdout"
        }
      ]
    },
    {
      "cell_type": "code",
      "metadata": {
        "id": "wjGRO7QcEfFc",
        "colab_type": "code",
        "colab": {}
      },
      "source": [
        ""
      ],
      "execution_count": 0,
      "outputs": []
    },
    {
      "cell_type": "markdown",
      "metadata": {
        "colab_type": "text",
        "id": "UJWTjMKNEfH3"
      },
      "source": [
        "## VARIANCE SCALING"
      ]
    },
    {
      "cell_type": "code",
      "metadata": {
        "colab_type": "code",
        "id": "CvQj_rmTEfH4",
        "colab": {}
      },
      "source": [
        "weights_init = tf.keras.initializers.VarianceScaling()\n",
        "\n",
        "\n",
        "i_layer = Input(shape = input_shape)\n",
        "h_layer = Conv2D(64, (3,3), strides = 2, activation='relu', \n",
        "                 kernel_initializer=weights_init)(i_layer)\n",
        "h_layer = Flatten()(h_layer)\n",
        "h_layer = Dropout(0.4)(h_layer)\n",
        "h_layer = Dense(128, activation='relu',kernel_initializer= weights_init)(h_layer)\n",
        "h_layer = Dropout(0.4)(h_layer)\n",
        "o_layer = Dense(classes, activation='softmax')(h_layer)\n",
        "\n",
        "model = Model(i_layer, o_layer)\n"
      ],
      "execution_count": 0,
      "outputs": []
    },
    {
      "cell_type": "code",
      "metadata": {
        "colab_type": "code",
        "outputId": "4c377a27-2f93-4eb1-f2b3-ce17a7198198",
        "id": "VH94DFmEEfH6",
        "colab": {
          "base_uri": "https://localhost:8080/",
          "height": 54
        }
      },
      "source": [
        "model.compile(optimizer='adam', \n",
        "              loss = 'sparse_categorical_crossentropy',\n",
        "              metrics = ['accuracy'])\n",
        "\n",
        "report = model.fit(X_train, y_train, validation_data=(X_test, y_test), epochs=1)"
      ],
      "execution_count": 24,
      "outputs": [
        {
          "output_type": "stream",
          "text": [
            "1875/1875 [==============================] - 38s 20ms/step - loss: 0.2404 - accuracy: 0.9271 - val_loss: 0.0708 - val_accuracy: 0.9773\n"
          ],
          "name": "stdout"
        }
      ]
    },
    {
      "cell_type": "markdown",
      "metadata": {
        "colab_type": "text",
        "id": "aGRJydZ5Eq7U"
      },
      "source": [
        "## TRUNCATED NORMAL"
      ]
    },
    {
      "cell_type": "code",
      "metadata": {
        "colab_type": "code",
        "id": "ynk2A3jgEq7V",
        "colab": {}
      },
      "source": [
        "weights_init = tf.keras.initializers.TruncatedNormal()\n",
        "\n",
        "\n",
        "i_layer = Input(shape = input_shape)\n",
        "h_layer = Conv2D(64, (3,3), strides = 2, activation='relu', \n",
        "                 kernel_initializer=weights_init)(i_layer)\n",
        "h_layer = Flatten()(h_layer)\n",
        "h_layer = Dropout(0.4)(h_layer)\n",
        "h_layer = Dense(128, activation='relu',kernel_initializer= weights_init)(h_layer)\n",
        "h_layer = Dropout(0.4)(h_layer)\n",
        "o_layer = Dense(classes, activation='softmax')(h_layer)\n",
        "\n",
        "model = Model(i_layer, o_layer)\n"
      ],
      "execution_count": 0,
      "outputs": []
    },
    {
      "cell_type": "code",
      "metadata": {
        "colab_type": "code",
        "outputId": "7ded24a9-a2f3-40f8-d2f0-d922c5ef5215",
        "id": "hjIWREsCEq7X",
        "colab": {
          "base_uri": "https://localhost:8080/",
          "height": 54
        }
      },
      "source": [
        "model.compile(optimizer='adam', \n",
        "              loss = 'sparse_categorical_crossentropy',\n",
        "              metrics = ['accuracy'])\n",
        "\n",
        "report = model.fit(X_train, y_train, validation_data=(X_test, y_test), epochs=1)"
      ],
      "execution_count": 26,
      "outputs": [
        {
          "output_type": "stream",
          "text": [
            "1875/1875 [==============================] - 37s 20ms/step - loss: 0.2694 - accuracy: 0.9186 - val_loss: 0.0887 - val_accuracy: 0.9723\n"
          ],
          "name": "stdout"
        }
      ]
    },
    {
      "cell_type": "markdown",
      "metadata": {
        "colab_type": "text",
        "id": "Xbbs0K19E1Rj"
      },
      "source": [
        "## RANDOM NORMAL"
      ]
    },
    {
      "cell_type": "code",
      "metadata": {
        "colab_type": "code",
        "id": "Bv9Aiee6E1Rl",
        "colab": {}
      },
      "source": [
        "weights_init = tf.random_normal_initializer()\n",
        "\n",
        "\n",
        "i_layer = Input(shape = input_shape)\n",
        "h_layer = Conv2D(64, (3,3), strides = 2, activation='relu', \n",
        "                 kernel_initializer=weights_init)(i_layer)\n",
        "h_layer = Flatten()(h_layer)\n",
        "h_layer = Dropout(0.4)(h_layer)\n",
        "h_layer = Dense(128, activation='relu',kernel_initializer= weights_init)(h_layer)\n",
        "h_layer = Dropout(0.4)(h_layer)\n",
        "o_layer = Dense(classes, activation='softmax')(h_layer)\n",
        "\n",
        "model = Model(i_layer, o_layer)\n"
      ],
      "execution_count": 0,
      "outputs": []
    },
    {
      "cell_type": "code",
      "metadata": {
        "colab_type": "code",
        "outputId": "4bc68f2b-603c-410c-9fc2-85e0bf18e451",
        "id": "YKlhHmozE1Ro",
        "colab": {
          "base_uri": "https://localhost:8080/",
          "height": 54
        }
      },
      "source": [
        "model.compile(optimizer='adam', \n",
        "              loss = 'sparse_categorical_crossentropy',\n",
        "              metrics = ['accuracy'])\n",
        "\n",
        "report = model.fit(X_train, y_train, validation_data=(X_test, y_test), epochs=1)"
      ],
      "execution_count": 28,
      "outputs": [
        {
          "output_type": "stream",
          "text": [
            "1875/1875 [==============================] - 37s 20ms/step - loss: 0.2681 - accuracy: 0.9182 - val_loss: 0.0820 - val_accuracy: 0.9730\n"
          ],
          "name": "stdout"
        }
      ]
    },
    {
      "cell_type": "code",
      "metadata": {
        "id": "Woac9z9tFtll",
        "colab_type": "code",
        "colab": {}
      },
      "source": [
        ""
      ],
      "execution_count": 0,
      "outputs": []
    }
  ]
}