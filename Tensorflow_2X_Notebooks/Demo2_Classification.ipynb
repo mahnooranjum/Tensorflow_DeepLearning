{
  "nbformat": 4,
  "nbformat_minor": 0,
  "metadata": {
    "colab": {
      "name": "Demo2_Classification.ipynb",
      "provenance": [],
      "collapsed_sections": []
    },
    "kernelspec": {
      "name": "python3",
      "display_name": "Python 3"
    }
  },
  "cells": [
    {
      "cell_type": "markdown",
      "metadata": {
        "id": "P9bJCDjdlgG6",
        "colab_type": "text"
      },
      "source": [
        "# **Spit some [tensor] flow**\n",
        "\n",
        "We need to learn the intricacies of tensorflow to master deep learning\n",
        "\n",
        "`This is how we write code`"
      ]
    },
    {
      "cell_type": "code",
      "metadata": {
        "id": "aQwc0re5mFld",
        "colab_type": "code",
        "colab": {
          "base_uri": "https://localhost:8080/",
          "height": 35
        },
        "outputId": "a0482ae3-15c0-43e1-cb2d-2c1c57945265"
      },
      "source": [
        "import numpy as np\n",
        "import matplotlib.pyplot as plt\n",
        "import tensorflow as tf\n",
        "print(tf.__version__)"
      ],
      "execution_count": 50,
      "outputs": [
        {
          "output_type": "stream",
          "text": [
            "2.2.0-rc4\n"
          ],
          "name": "stdout"
        }
      ]
    },
    {
      "cell_type": "code",
      "metadata": {
        "id": "qyw8HvOuBEZm",
        "colab_type": "code",
        "colab": {
          "base_uri": "https://localhost:8080/",
          "height": 35
        },
        "outputId": "c5d24df7-f725-462d-9519-f90806f13fd6"
      },
      "source": [
        "from sklearn.datasets import load_breast_cancer\n",
        "data = load_breast_cancer()\n",
        "type(data)\n",
        "print(data.keys())"
      ],
      "execution_count": 51,
      "outputs": [
        {
          "output_type": "stream",
          "text": [
            "dict_keys(['data', 'target', 'target_names', 'DESCR', 'feature_names', 'filename'])\n"
          ],
          "name": "stdout"
        }
      ]
    },
    {
      "cell_type": "code",
      "metadata": {
        "id": "41JwZflmB4qr",
        "colab_type": "code",
        "colab": {
          "base_uri": "https://localhost:8080/",
          "height": 208
        },
        "outputId": "6cdf3d53-ecf8-4c05-c248-963ea1e0e7c8"
      },
      "source": [
        "print(data.target_names)\n",
        "print(\"============================================\")\n",
        "print(data.feature_names)"
      ],
      "execution_count": 52,
      "outputs": [
        {
          "output_type": "stream",
          "text": [
            "['malignant' 'benign']\n",
            "============================================\n",
            "['mean radius' 'mean texture' 'mean perimeter' 'mean area'\n",
            " 'mean smoothness' 'mean compactness' 'mean concavity'\n",
            " 'mean concave points' 'mean symmetry' 'mean fractal dimension'\n",
            " 'radius error' 'texture error' 'perimeter error' 'area error'\n",
            " 'smoothness error' 'compactness error' 'concavity error'\n",
            " 'concave points error' 'symmetry error' 'fractal dimension error'\n",
            " 'worst radius' 'worst texture' 'worst perimeter' 'worst area'\n",
            " 'worst smoothness' 'worst compactness' 'worst concavity'\n",
            " 'worst concave points' 'worst symmetry' 'worst fractal dimension']\n"
          ],
          "name": "stdout"
        }
      ]
    },
    {
      "cell_type": "code",
      "metadata": {
        "id": "7hQGKjLvBT6z",
        "colab_type": "code",
        "colab": {}
      },
      "source": [
        "X = data.data"
      ],
      "execution_count": 0,
      "outputs": []
    },
    {
      "cell_type": "code",
      "metadata": {
        "id": "ovyPUHaZBqu8",
        "colab_type": "code",
        "colab": {}
      },
      "source": [
        "y = data.target"
      ],
      "execution_count": 0,
      "outputs": []
    },
    {
      "cell_type": "code",
      "metadata": {
        "id": "BSOcVLhKCGOa",
        "colab_type": "code",
        "colab": {}
      },
      "source": [
        "# TRAIN TEST SPLIT\n",
        "from sklearn.model_selection import train_test_split\n",
        "\n",
        "X_train, X_test, y_train, y_test = train_test_split(X, y, test_size = 0.2)"
      ],
      "execution_count": 0,
      "outputs": []
    },
    {
      "cell_type": "code",
      "metadata": {
        "id": "bqh-eNkNCb7D",
        "colab_type": "code",
        "colab": {}
      },
      "source": [
        "N, D = X_train.shape"
      ],
      "execution_count": 0,
      "outputs": []
    },
    {
      "cell_type": "code",
      "metadata": {
        "id": "WA8o1DP8CvGT",
        "colab_type": "code",
        "colab": {}
      },
      "source": [
        "from sklearn.preprocessing import StandardScaler \n",
        "scaleObj = StandardScaler()\n",
        "X_train = scaleObj.fit_transform(X_train)\n",
        "X_test = scaleObj.transform(X_test)\n"
      ],
      "execution_count": 0,
      "outputs": []
    },
    {
      "cell_type": "code",
      "metadata": {
        "id": "mIv1FdhRDRrc",
        "colab_type": "code",
        "colab": {
          "base_uri": "https://localhost:8080/",
          "height": 1000
        },
        "outputId": "0d660385-9065-4131-eed2-1daaacf7cbf8"
      },
      "source": [
        "model = tf.keras.models.Sequential([\n",
        "                                    tf.keras.layers.Input(shape=(D,)),\n",
        "                                    tf.keras.layers.Dense(1,activation='sigmoid')\n",
        "])\n",
        "\n",
        "\n",
        "model.compile(\n",
        "    optimizer = 'adam',\n",
        "    loss = 'binary_crossentropy',\n",
        "    metrics = ['accuracy']\n",
        ")\n",
        "\n",
        "report = model.fit(X_train, y_train, validation_data=(X_test, y_test), epochs=100)"
      ],
      "execution_count": 58,
      "outputs": [
        {
          "output_type": "stream",
          "text": [
            "Epoch 1/100\n",
            "15/15 [==============================] - 0s 8ms/step - loss: 0.4620 - accuracy: 0.8330 - val_loss: 0.3903 - val_accuracy: 0.9123\n",
            "Epoch 2/100\n",
            "15/15 [==============================] - 0s 3ms/step - loss: 0.4137 - accuracy: 0.8813 - val_loss: 0.3540 - val_accuracy: 0.9123\n",
            "Epoch 3/100\n",
            "15/15 [==============================] - 0s 3ms/step - loss: 0.3752 - accuracy: 0.8989 - val_loss: 0.3248 - val_accuracy: 0.9211\n",
            "Epoch 4/100\n",
            "15/15 [==============================] - 0s 4ms/step - loss: 0.3443 - accuracy: 0.9099 - val_loss: 0.3012 - val_accuracy: 0.9298\n",
            "Epoch 5/100\n",
            "15/15 [==============================] - 0s 3ms/step - loss: 0.3184 - accuracy: 0.9209 - val_loss: 0.2815 - val_accuracy: 0.9298\n",
            "Epoch 6/100\n",
            "15/15 [==============================] - 0s 3ms/step - loss: 0.2968 - accuracy: 0.9297 - val_loss: 0.2655 - val_accuracy: 0.9298\n",
            "Epoch 7/100\n",
            "15/15 [==============================] - 0s 4ms/step - loss: 0.2790 - accuracy: 0.9297 - val_loss: 0.2511 - val_accuracy: 0.9298\n",
            "Epoch 8/100\n",
            "15/15 [==============================] - 0s 3ms/step - loss: 0.2634 - accuracy: 0.9297 - val_loss: 0.2390 - val_accuracy: 0.9298\n",
            "Epoch 9/100\n",
            "15/15 [==============================] - 0s 3ms/step - loss: 0.2498 - accuracy: 0.9363 - val_loss: 0.2283 - val_accuracy: 0.9298\n",
            "Epoch 10/100\n",
            "15/15 [==============================] - 0s 3ms/step - loss: 0.2381 - accuracy: 0.9385 - val_loss: 0.2190 - val_accuracy: 0.9298\n",
            "Epoch 11/100\n",
            "15/15 [==============================] - 0s 3ms/step - loss: 0.2276 - accuracy: 0.9429 - val_loss: 0.2106 - val_accuracy: 0.9298\n",
            "Epoch 12/100\n",
            "15/15 [==============================] - 0s 3ms/step - loss: 0.2183 - accuracy: 0.9429 - val_loss: 0.2029 - val_accuracy: 0.9298\n",
            "Epoch 13/100\n",
            "15/15 [==============================] - 0s 4ms/step - loss: 0.2096 - accuracy: 0.9473 - val_loss: 0.1964 - val_accuracy: 0.9298\n",
            "Epoch 14/100\n",
            "15/15 [==============================] - 0s 3ms/step - loss: 0.2021 - accuracy: 0.9495 - val_loss: 0.1895 - val_accuracy: 0.9386\n",
            "Epoch 15/100\n",
            "15/15 [==============================] - 0s 3ms/step - loss: 0.1950 - accuracy: 0.9538 - val_loss: 0.1833 - val_accuracy: 0.9386\n",
            "Epoch 16/100\n",
            "15/15 [==============================] - 0s 3ms/step - loss: 0.1885 - accuracy: 0.9582 - val_loss: 0.1777 - val_accuracy: 0.9386\n",
            "Epoch 17/100\n",
            "15/15 [==============================] - 0s 3ms/step - loss: 0.1826 - accuracy: 0.9604 - val_loss: 0.1725 - val_accuracy: 0.9386\n",
            "Epoch 18/100\n",
            "15/15 [==============================] - 0s 3ms/step - loss: 0.1771 - accuracy: 0.9604 - val_loss: 0.1681 - val_accuracy: 0.9386\n",
            "Epoch 19/100\n",
            "15/15 [==============================] - 0s 3ms/step - loss: 0.1721 - accuracy: 0.9604 - val_loss: 0.1638 - val_accuracy: 0.9386\n",
            "Epoch 20/100\n",
            "15/15 [==============================] - 0s 3ms/step - loss: 0.1672 - accuracy: 0.9604 - val_loss: 0.1598 - val_accuracy: 0.9386\n",
            "Epoch 21/100\n",
            "15/15 [==============================] - 0s 3ms/step - loss: 0.1632 - accuracy: 0.9604 - val_loss: 0.1554 - val_accuracy: 0.9386\n",
            "Epoch 22/100\n",
            "15/15 [==============================] - 0s 3ms/step - loss: 0.1588 - accuracy: 0.9604 - val_loss: 0.1519 - val_accuracy: 0.9386\n",
            "Epoch 23/100\n",
            "15/15 [==============================] - 0s 3ms/step - loss: 0.1552 - accuracy: 0.9626 - val_loss: 0.1481 - val_accuracy: 0.9386\n",
            "Epoch 24/100\n",
            "15/15 [==============================] - 0s 3ms/step - loss: 0.1514 - accuracy: 0.9626 - val_loss: 0.1446 - val_accuracy: 0.9474\n",
            "Epoch 25/100\n",
            "15/15 [==============================] - 0s 4ms/step - loss: 0.1480 - accuracy: 0.9626 - val_loss: 0.1417 - val_accuracy: 0.9474\n",
            "Epoch 26/100\n",
            "15/15 [==============================] - 0s 3ms/step - loss: 0.1447 - accuracy: 0.9626 - val_loss: 0.1391 - val_accuracy: 0.9474\n",
            "Epoch 27/100\n",
            "15/15 [==============================] - 0s 3ms/step - loss: 0.1418 - accuracy: 0.9626 - val_loss: 0.1365 - val_accuracy: 0.9474\n",
            "Epoch 28/100\n",
            "15/15 [==============================] - 0s 4ms/step - loss: 0.1390 - accuracy: 0.9648 - val_loss: 0.1339 - val_accuracy: 0.9474\n",
            "Epoch 29/100\n",
            "15/15 [==============================] - 0s 3ms/step - loss: 0.1363 - accuracy: 0.9648 - val_loss: 0.1315 - val_accuracy: 0.9474\n",
            "Epoch 30/100\n",
            "15/15 [==============================] - 0s 3ms/step - loss: 0.1338 - accuracy: 0.9648 - val_loss: 0.1293 - val_accuracy: 0.9561\n",
            "Epoch 31/100\n",
            "15/15 [==============================] - 0s 4ms/step - loss: 0.1314 - accuracy: 0.9648 - val_loss: 0.1272 - val_accuracy: 0.9561\n",
            "Epoch 32/100\n",
            "15/15 [==============================] - 0s 3ms/step - loss: 0.1291 - accuracy: 0.9670 - val_loss: 0.1251 - val_accuracy: 0.9561\n",
            "Epoch 33/100\n",
            "15/15 [==============================] - 0s 3ms/step - loss: 0.1268 - accuracy: 0.9670 - val_loss: 0.1229 - val_accuracy: 0.9561\n",
            "Epoch 34/100\n",
            "15/15 [==============================] - 0s 3ms/step - loss: 0.1247 - accuracy: 0.9670 - val_loss: 0.1213 - val_accuracy: 0.9561\n",
            "Epoch 35/100\n",
            "15/15 [==============================] - 0s 3ms/step - loss: 0.1228 - accuracy: 0.9670 - val_loss: 0.1196 - val_accuracy: 0.9649\n",
            "Epoch 36/100\n",
            "15/15 [==============================] - 0s 3ms/step - loss: 0.1210 - accuracy: 0.9670 - val_loss: 0.1179 - val_accuracy: 0.9649\n",
            "Epoch 37/100\n",
            "15/15 [==============================] - 0s 3ms/step - loss: 0.1192 - accuracy: 0.9692 - val_loss: 0.1162 - val_accuracy: 0.9649\n",
            "Epoch 38/100\n",
            "15/15 [==============================] - 0s 3ms/step - loss: 0.1175 - accuracy: 0.9714 - val_loss: 0.1145 - val_accuracy: 0.9649\n",
            "Epoch 39/100\n",
            "15/15 [==============================] - 0s 3ms/step - loss: 0.1158 - accuracy: 0.9714 - val_loss: 0.1131 - val_accuracy: 0.9649\n",
            "Epoch 40/100\n",
            "15/15 [==============================] - 0s 3ms/step - loss: 0.1143 - accuracy: 0.9714 - val_loss: 0.1121 - val_accuracy: 0.9649\n",
            "Epoch 41/100\n",
            "15/15 [==============================] - 0s 4ms/step - loss: 0.1128 - accuracy: 0.9714 - val_loss: 0.1106 - val_accuracy: 0.9649\n",
            "Epoch 42/100\n",
            "15/15 [==============================] - 0s 3ms/step - loss: 0.1115 - accuracy: 0.9714 - val_loss: 0.1092 - val_accuracy: 0.9649\n",
            "Epoch 43/100\n",
            "15/15 [==============================] - 0s 3ms/step - loss: 0.1101 - accuracy: 0.9714 - val_loss: 0.1083 - val_accuracy: 0.9649\n",
            "Epoch 44/100\n",
            "15/15 [==============================] - 0s 3ms/step - loss: 0.1088 - accuracy: 0.9714 - val_loss: 0.1073 - val_accuracy: 0.9649\n",
            "Epoch 45/100\n",
            "15/15 [==============================] - 0s 3ms/step - loss: 0.1075 - accuracy: 0.9714 - val_loss: 0.1063 - val_accuracy: 0.9649\n",
            "Epoch 46/100\n",
            "15/15 [==============================] - 0s 4ms/step - loss: 0.1063 - accuracy: 0.9736 - val_loss: 0.1055 - val_accuracy: 0.9649\n",
            "Epoch 47/100\n",
            "15/15 [==============================] - 0s 3ms/step - loss: 0.1052 - accuracy: 0.9758 - val_loss: 0.1044 - val_accuracy: 0.9649\n",
            "Epoch 48/100\n",
            "15/15 [==============================] - 0s 3ms/step - loss: 0.1040 - accuracy: 0.9758 - val_loss: 0.1036 - val_accuracy: 0.9649\n",
            "Epoch 49/100\n",
            "15/15 [==============================] - 0s 4ms/step - loss: 0.1029 - accuracy: 0.9758 - val_loss: 0.1027 - val_accuracy: 0.9649\n",
            "Epoch 50/100\n",
            "15/15 [==============================] - 0s 4ms/step - loss: 0.1018 - accuracy: 0.9758 - val_loss: 0.1017 - val_accuracy: 0.9649\n",
            "Epoch 51/100\n",
            "15/15 [==============================] - 0s 3ms/step - loss: 0.1008 - accuracy: 0.9758 - val_loss: 0.1006 - val_accuracy: 0.9649\n",
            "Epoch 52/100\n",
            "15/15 [==============================] - 0s 3ms/step - loss: 0.0998 - accuracy: 0.9780 - val_loss: 0.0998 - val_accuracy: 0.9649\n",
            "Epoch 53/100\n",
            "15/15 [==============================] - 0s 3ms/step - loss: 0.0989 - accuracy: 0.9780 - val_loss: 0.0992 - val_accuracy: 0.9649\n",
            "Epoch 54/100\n",
            "15/15 [==============================] - 0s 3ms/step - loss: 0.0979 - accuracy: 0.9780 - val_loss: 0.0986 - val_accuracy: 0.9649\n",
            "Epoch 55/100\n",
            "15/15 [==============================] - 0s 3ms/step - loss: 0.0971 - accuracy: 0.9780 - val_loss: 0.0980 - val_accuracy: 0.9737\n",
            "Epoch 56/100\n",
            "15/15 [==============================] - 0s 3ms/step - loss: 0.0962 - accuracy: 0.9780 - val_loss: 0.0973 - val_accuracy: 0.9737\n",
            "Epoch 57/100\n",
            "15/15 [==============================] - 0s 3ms/step - loss: 0.0954 - accuracy: 0.9780 - val_loss: 0.0967 - val_accuracy: 0.9737\n",
            "Epoch 58/100\n",
            "15/15 [==============================] - 0s 3ms/step - loss: 0.0946 - accuracy: 0.9780 - val_loss: 0.0961 - val_accuracy: 0.9737\n",
            "Epoch 59/100\n",
            "15/15 [==============================] - 0s 4ms/step - loss: 0.0938 - accuracy: 0.9780 - val_loss: 0.0957 - val_accuracy: 0.9737\n",
            "Epoch 60/100\n",
            "15/15 [==============================] - 0s 3ms/step - loss: 0.0931 - accuracy: 0.9780 - val_loss: 0.0951 - val_accuracy: 0.9737\n",
            "Epoch 61/100\n",
            "15/15 [==============================] - 0s 4ms/step - loss: 0.0924 - accuracy: 0.9780 - val_loss: 0.0945 - val_accuracy: 0.9737\n",
            "Epoch 62/100\n",
            "15/15 [==============================] - 0s 3ms/step - loss: 0.0917 - accuracy: 0.9780 - val_loss: 0.0940 - val_accuracy: 0.9737\n",
            "Epoch 63/100\n",
            "15/15 [==============================] - 0s 3ms/step - loss: 0.0910 - accuracy: 0.9780 - val_loss: 0.0935 - val_accuracy: 0.9737\n",
            "Epoch 64/100\n",
            "15/15 [==============================] - 0s 3ms/step - loss: 0.0903 - accuracy: 0.9780 - val_loss: 0.0930 - val_accuracy: 0.9737\n",
            "Epoch 65/100\n",
            "15/15 [==============================] - 0s 3ms/step - loss: 0.0897 - accuracy: 0.9780 - val_loss: 0.0927 - val_accuracy: 0.9737\n",
            "Epoch 66/100\n",
            "15/15 [==============================] - 0s 3ms/step - loss: 0.0890 - accuracy: 0.9802 - val_loss: 0.0922 - val_accuracy: 0.9737\n",
            "Epoch 67/100\n",
            "15/15 [==============================] - 0s 3ms/step - loss: 0.0884 - accuracy: 0.9824 - val_loss: 0.0917 - val_accuracy: 0.9737\n",
            "Epoch 68/100\n",
            "15/15 [==============================] - 0s 3ms/step - loss: 0.0878 - accuracy: 0.9824 - val_loss: 0.0914 - val_accuracy: 0.9737\n",
            "Epoch 69/100\n",
            "15/15 [==============================] - 0s 4ms/step - loss: 0.0872 - accuracy: 0.9824 - val_loss: 0.0908 - val_accuracy: 0.9737\n",
            "Epoch 70/100\n",
            "15/15 [==============================] - 0s 3ms/step - loss: 0.0866 - accuracy: 0.9824 - val_loss: 0.0905 - val_accuracy: 0.9737\n",
            "Epoch 71/100\n",
            "15/15 [==============================] - 0s 3ms/step - loss: 0.0860 - accuracy: 0.9824 - val_loss: 0.0900 - val_accuracy: 0.9737\n",
            "Epoch 72/100\n",
            "15/15 [==============================] - 0s 3ms/step - loss: 0.0855 - accuracy: 0.9824 - val_loss: 0.0897 - val_accuracy: 0.9737\n",
            "Epoch 73/100\n",
            "15/15 [==============================] - 0s 3ms/step - loss: 0.0850 - accuracy: 0.9824 - val_loss: 0.0894 - val_accuracy: 0.9737\n",
            "Epoch 74/100\n",
            "15/15 [==============================] - 0s 3ms/step - loss: 0.0844 - accuracy: 0.9824 - val_loss: 0.0889 - val_accuracy: 0.9737\n",
            "Epoch 75/100\n",
            "15/15 [==============================] - 0s 3ms/step - loss: 0.0839 - accuracy: 0.9824 - val_loss: 0.0885 - val_accuracy: 0.9737\n",
            "Epoch 76/100\n",
            "15/15 [==============================] - 0s 3ms/step - loss: 0.0834 - accuracy: 0.9824 - val_loss: 0.0881 - val_accuracy: 0.9737\n",
            "Epoch 77/100\n",
            "15/15 [==============================] - 0s 3ms/step - loss: 0.0829 - accuracy: 0.9824 - val_loss: 0.0877 - val_accuracy: 0.9737\n",
            "Epoch 78/100\n",
            "15/15 [==============================] - 0s 4ms/step - loss: 0.0825 - accuracy: 0.9824 - val_loss: 0.0874 - val_accuracy: 0.9737\n",
            "Epoch 79/100\n",
            "15/15 [==============================] - 0s 3ms/step - loss: 0.0821 - accuracy: 0.9824 - val_loss: 0.0871 - val_accuracy: 0.9737\n",
            "Epoch 80/100\n",
            "15/15 [==============================] - 0s 3ms/step - loss: 0.0816 - accuracy: 0.9824 - val_loss: 0.0869 - val_accuracy: 0.9737\n",
            "Epoch 81/100\n",
            "15/15 [==============================] - 0s 3ms/step - loss: 0.0812 - accuracy: 0.9824 - val_loss: 0.0868 - val_accuracy: 0.9737\n",
            "Epoch 82/100\n",
            "15/15 [==============================] - 0s 3ms/step - loss: 0.0807 - accuracy: 0.9824 - val_loss: 0.0865 - val_accuracy: 0.9737\n",
            "Epoch 83/100\n",
            "15/15 [==============================] - 0s 4ms/step - loss: 0.0803 - accuracy: 0.9824 - val_loss: 0.0863 - val_accuracy: 0.9737\n",
            "Epoch 84/100\n",
            "15/15 [==============================] - 0s 4ms/step - loss: 0.0799 - accuracy: 0.9824 - val_loss: 0.0860 - val_accuracy: 0.9737\n",
            "Epoch 85/100\n",
            "15/15 [==============================] - 0s 3ms/step - loss: 0.0795 - accuracy: 0.9824 - val_loss: 0.0857 - val_accuracy: 0.9737\n",
            "Epoch 86/100\n",
            "15/15 [==============================] - 0s 3ms/step - loss: 0.0791 - accuracy: 0.9824 - val_loss: 0.0854 - val_accuracy: 0.9737\n",
            "Epoch 87/100\n",
            "15/15 [==============================] - 0s 4ms/step - loss: 0.0787 - accuracy: 0.9824 - val_loss: 0.0852 - val_accuracy: 0.9737\n",
            "Epoch 88/100\n",
            "15/15 [==============================] - 0s 3ms/step - loss: 0.0783 - accuracy: 0.9824 - val_loss: 0.0851 - val_accuracy: 0.9737\n",
            "Epoch 89/100\n",
            "15/15 [==============================] - 0s 3ms/step - loss: 0.0779 - accuracy: 0.9824 - val_loss: 0.0847 - val_accuracy: 0.9825\n",
            "Epoch 90/100\n",
            "15/15 [==============================] - 0s 3ms/step - loss: 0.0775 - accuracy: 0.9824 - val_loss: 0.0845 - val_accuracy: 0.9825\n",
            "Epoch 91/100\n",
            "15/15 [==============================] - 0s 3ms/step - loss: 0.0771 - accuracy: 0.9824 - val_loss: 0.0844 - val_accuracy: 0.9825\n",
            "Epoch 92/100\n",
            "15/15 [==============================] - 0s 3ms/step - loss: 0.0768 - accuracy: 0.9824 - val_loss: 0.0842 - val_accuracy: 0.9825\n",
            "Epoch 93/100\n",
            "15/15 [==============================] - 0s 3ms/step - loss: 0.0764 - accuracy: 0.9824 - val_loss: 0.0840 - val_accuracy: 0.9825\n",
            "Epoch 94/100\n",
            "15/15 [==============================] - 0s 3ms/step - loss: 0.0761 - accuracy: 0.9846 - val_loss: 0.0839 - val_accuracy: 0.9825\n",
            "Epoch 95/100\n",
            "15/15 [==============================] - 0s 3ms/step - loss: 0.0757 - accuracy: 0.9846 - val_loss: 0.0839 - val_accuracy: 0.9825\n",
            "Epoch 96/100\n",
            "15/15 [==============================] - 0s 3ms/step - loss: 0.0753 - accuracy: 0.9846 - val_loss: 0.0837 - val_accuracy: 0.9825\n",
            "Epoch 97/100\n",
            "15/15 [==============================] - 0s 4ms/step - loss: 0.0750 - accuracy: 0.9846 - val_loss: 0.0835 - val_accuracy: 0.9825\n",
            "Epoch 98/100\n",
            "15/15 [==============================] - 0s 3ms/step - loss: 0.0747 - accuracy: 0.9846 - val_loss: 0.0834 - val_accuracy: 0.9825\n",
            "Epoch 99/100\n",
            "15/15 [==============================] - 0s 3ms/step - loss: 0.0744 - accuracy: 0.9846 - val_loss: 0.0832 - val_accuracy: 0.9825\n",
            "Epoch 100/100\n",
            "15/15 [==============================] - 0s 3ms/step - loss: 0.0740 - accuracy: 0.9846 - val_loss: 0.0830 - val_accuracy: 0.9825\n"
          ],
          "name": "stdout"
        }
      ]
    },
    {
      "cell_type": "code",
      "metadata": {
        "id": "LuietUFpEG5a",
        "colab_type": "code",
        "colab": {
          "base_uri": "https://localhost:8080/",
          "height": 87
        },
        "outputId": "db9b5217-90f2-4ef5-d900-c4c0534a267e"
      },
      "source": [
        "print(\"Train eval: \", model.evaluate(X_train, y_train))\n",
        "print(\"Test eval: \", model.evaluate(X_test, y_test))"
      ],
      "execution_count": 59,
      "outputs": [
        {
          "output_type": "stream",
          "text": [
            "15/15 [==============================] - 0s 1ms/step - loss: 0.0739 - accuracy: 0.9846\n",
            "Train eval:  [0.07385173439979553, 0.9846153855323792]\n",
            "4/4 [==============================] - 0s 2ms/step - loss: 0.0830 - accuracy: 0.9825\n",
            "Test eval:  [0.08298742026090622, 0.9824561476707458]\n"
          ],
          "name": "stdout"
        }
      ]
    }
  ]
}