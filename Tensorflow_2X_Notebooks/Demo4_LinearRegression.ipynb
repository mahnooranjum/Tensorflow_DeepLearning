{
  "nbformat": 4,
  "nbformat_minor": 0,
  "metadata": {
    "colab": {
      "name": "Demo4_LinearRegression.ipynb",
      "provenance": [],
      "collapsed_sections": []
    },
    "kernelspec": {
      "name": "python3",
      "display_name": "Python 3"
    }
  },
  "cells": [
    {
      "cell_type": "markdown",
      "metadata": {
        "id": "P9bJCDjdlgG6",
        "colab_type": "text"
      },
      "source": [
        "# **Spit some [tensor] flow**\n",
        "\n",
        "We need to learn the intricacies of tensorflow to master deep learning\n",
        "\n",
        "`This is how we write code`\n",
        "\n",
        "## Let's make some data to work on"
      ]
    },
    {
      "cell_type": "code",
      "metadata": {
        "id": "aQwc0re5mFld",
        "colab_type": "code",
        "outputId": "0d2d45fc-d452-4e92-81c8-a492256e4d54",
        "colab": {
          "base_uri": "https://localhost:8080/",
          "height": 35
        }
      },
      "source": [
        "import numpy as np\n",
        "import pandas as pd\n",
        "import matplotlib.pyplot as plt\n",
        "import tensorflow as tf\n",
        "print(tf.__version__)"
      ],
      "execution_count": 1,
      "outputs": [
        {
          "output_type": "stream",
          "text": [
            "2.2.0-rc4\n"
          ],
          "name": "stdout"
        }
      ]
    },
    {
      "cell_type": "code",
      "metadata": {
        "id": "qyw8HvOuBEZm",
        "colab_type": "code",
        "outputId": "e74343b3-2444-4e5e-de9e-987b04a393f7",
        "colab": {
          "base_uri": "https://localhost:8080/",
          "height": 265
        }
      },
      "source": [
        "from sklearn.datasets import make_regression\n",
        "\n",
        "# Regression Dataset\n",
        "n = 10000\n",
        "X, y = make_regression(n_samples=n, n_features=1, noise=70)\n",
        "X = X.reshape(n)\n",
        "datadict = {'data': X, 'target': y}\n",
        "data = pd.DataFrame(data=datadict)\n",
        "plt.scatter(X,y)\n",
        "plt.show()"
      ],
      "execution_count": 2,
      "outputs": [
        {
          "output_type": "display_data",
          "data": {
            "image/png": "[encoded data removed]",
            "text/plain": [
              "<Figure size 432x288 with 1 Axes>"
            ]
          },
          "metadata": {
            "tags": [],
            "needs_background": "light"
          }
        }
      ]
    },
    {
      "cell_type": "code",
      "metadata": {
        "id": "7hQGKjLvBT6z",
        "colab_type": "code",
        "colab": {
          "base_uri": "https://localhost:8080/",
          "height": 35
        },
        "outputId": "9aaf0c6d-3bb8-44bf-8a66-c5af7815fafd"
      },
      "source": [
        "X = data.iloc[:,[0]].values\n",
        "type(X)"
      ],
      "execution_count": 3,
      "outputs": [
        {
          "output_type": "execute_result",
          "data": {
            "text/plain": [
              "numpy.ndarray"
            ]
          },
          "metadata": {
            "tags": []
          },
          "execution_count": 3
        }
      ]
    },
    {
      "cell_type": "code",
      "metadata": {
        "id": "ovyPUHaZBqu8",
        "colab_type": "code",
        "colab": {}
      },
      "source": [
        "y = data.target.values"
      ],
      "execution_count": 0,
      "outputs": []
    },
    {
      "cell_type": "code",
      "metadata": {
        "id": "BSOcVLhKCGOa",
        "colab_type": "code",
        "colab": {}
      },
      "source": [
        "# TRAIN TEST SPLIT\n",
        "from sklearn.model_selection import train_test_split\n",
        "\n",
        "X_train, X_test, y_train, y_test = train_test_split(X, y, test_size = 0.2)"
      ],
      "execution_count": 0,
      "outputs": []
    },
    {
      "cell_type": "code",
      "metadata": {
        "id": "bqh-eNkNCb7D",
        "colab_type": "code",
        "colab": {}
      },
      "source": [
        "N, D = X_train.shape"
      ],
      "execution_count": 0,
      "outputs": []
    },
    {
      "cell_type": "code",
      "metadata": {
        "id": "WA8o1DP8CvGT",
        "colab_type": "code",
        "colab": {}
      },
      "source": [
        "from sklearn.preprocessing import StandardScaler \n",
        "scaleObj = StandardScaler()\n",
        "X_train = scaleObj.fit_transform(X_train)\n",
        "X_test = scaleObj.transform(X_test)\n"
      ],
      "execution_count": 0,
      "outputs": []
    },
    {
      "cell_type": "code",
      "metadata": {
        "id": "mIv1FdhRDRrc",
        "colab_type": "code",
        "outputId": "9c731acc-eaf1-464a-b017-68171d0440cc",
        "colab": {
          "base_uri": "https://localhost:8080/",
          "height": 1000
        }
      },
      "source": [
        "model = tf.keras.models.Sequential([\n",
        "                                    tf.keras.layers.Input(shape=(D,)),\n",
        "                                    tf.keras.layers.Dense(1)\n",
        "])\n",
        "\n",
        "\n",
        "model.compile(\n",
        "    optimizer = tf.keras.optimizers.SGD(0.001, 0.99),\n",
        "    loss = 'mse',\n",
        "    metrics = ['mse']\n",
        ")\n",
        "\n",
        "# https://www.tensorflow.org/api_docs/python/tf/keras/callbacks/LearningRateScheduler\n",
        "def scheduler(epoch):\n",
        "  if epoch < 10:\n",
        "    return 0.001\n",
        "  else:\n",
        "    return 0.001 * tf.math.exp(0.1 * (10 - epoch))\n",
        "\n",
        "\n",
        "callback = tf.keras.callbacks.LearningRateScheduler(scheduler)\n",
        "\n",
        "report = model.fit(X_train, y_train, validation_data=(X_test, y_test), epochs=100)"
      ],
      "execution_count": 8,
      "outputs": [
        {
          "output_type": "stream",
          "text": [
            "Epoch 1/100\n",
            "250/250 [==============================] - 0s 2ms/step - loss: 5606.2559 - mse: 5606.2559 - val_loss: 4829.6831 - val_mse: 4829.6831\n",
            "Epoch 2/100\n",
            "250/250 [==============================] - 0s 1ms/step - loss: 5039.5249 - mse: 5039.5249 - val_loss: 4842.0654 - val_mse: 4842.0654\n",
            "Epoch 3/100\n",
            "250/250 [==============================] - 0s 1ms/step - loss: 5003.7100 - mse: 5003.7100 - val_loss: 4860.5254 - val_mse: 4860.5254\n",
            "Epoch 4/100\n",
            "250/250 [==============================] - 0s 1ms/step - loss: 4988.3599 - mse: 4988.3599 - val_loss: 4839.4199 - val_mse: 4839.4199\n",
            "Epoch 5/100\n",
            "250/250 [==============================] - 0s 1ms/step - loss: 4983.6836 - mse: 4983.6836 - val_loss: 4858.5532 - val_mse: 4858.5532\n",
            "Epoch 6/100\n",
            "250/250 [==============================] - 0s 1ms/step - loss: 4978.8320 - mse: 4978.8320 - val_loss: 4835.7817 - val_mse: 4835.7817\n",
            "Epoch 7/100\n",
            "250/250 [==============================] - 0s 1ms/step - loss: 4979.4067 - mse: 4979.4067 - val_loss: 4830.6060 - val_mse: 4830.6060\n",
            "Epoch 8/100\n",
            "250/250 [==============================] - 0s 1ms/step - loss: 4985.6392 - mse: 4985.6392 - val_loss: 4847.2788 - val_mse: 4847.2788\n",
            "Epoch 9/100\n",
            "250/250 [==============================] - 0s 1ms/step - loss: 4999.7344 - mse: 4999.7344 - val_loss: 4849.8447 - val_mse: 4849.8447\n",
            "Epoch 10/100\n",
            "250/250 [==============================] - 0s 1ms/step - loss: 4977.2334 - mse: 4977.2334 - val_loss: 4856.6841 - val_mse: 4856.6841\n",
            "Epoch 11/100\n",
            "250/250 [==============================] - 0s 1ms/step - loss: 4975.5527 - mse: 4975.5527 - val_loss: 4903.7710 - val_mse: 4903.7710\n",
            "Epoch 12/100\n",
            "250/250 [==============================] - 0s 1ms/step - loss: 5005.8374 - mse: 5005.8374 - val_loss: 4823.0781 - val_mse: 4823.0781\n",
            "Epoch 13/100\n",
            "250/250 [==============================] - 0s 1ms/step - loss: 4996.7510 - mse: 4996.7510 - val_loss: 4839.6030 - val_mse: 4839.6030\n",
            "Epoch 14/100\n",
            "250/250 [==============================] - 0s 1ms/step - loss: 4976.6133 - mse: 4976.6133 - val_loss: 4835.1079 - val_mse: 4835.1079\n",
            "Epoch 15/100\n",
            "250/250 [==============================] - 0s 1ms/step - loss: 4969.6050 - mse: 4969.6050 - val_loss: 4853.5527 - val_mse: 4853.5527\n",
            "Epoch 16/100\n",
            "250/250 [==============================] - 0s 1ms/step - loss: 4991.4165 - mse: 4991.4165 - val_loss: 4844.0630 - val_mse: 4844.0630\n",
            "Epoch 17/100\n",
            "250/250 [==============================] - 0s 1ms/step - loss: 4994.8486 - mse: 4994.8486 - val_loss: 4861.1118 - val_mse: 4861.1118\n",
            "Epoch 18/100\n",
            "250/250 [==============================] - 0s 1ms/step - loss: 4971.2920 - mse: 4971.2920 - val_loss: 4823.4658 - val_mse: 4823.4658\n",
            "Epoch 19/100\n",
            "250/250 [==============================] - 0s 1ms/step - loss: 4979.3335 - mse: 4979.3335 - val_loss: 4836.0967 - val_mse: 4836.0967\n",
            "Epoch 20/100\n",
            "250/250 [==============================] - 0s 1ms/step - loss: 4988.1714 - mse: 4988.1714 - val_loss: 4832.0859 - val_mse: 4832.0859\n",
            "Epoch 21/100\n",
            "250/250 [==============================] - 0s 1ms/step - loss: 5000.5786 - mse: 5000.5786 - val_loss: 4826.3237 - val_mse: 4826.3237\n",
            "Epoch 22/100\n",
            "250/250 [==============================] - 0s 1ms/step - loss: 4976.5029 - mse: 4976.5029 - val_loss: 4836.4541 - val_mse: 4836.4541\n",
            "Epoch 23/100\n",
            "250/250 [==============================] - 0s 1ms/step - loss: 4982.0142 - mse: 4982.0142 - val_loss: 4842.4048 - val_mse: 4842.4048\n",
            "Epoch 24/100\n",
            "250/250 [==============================] - 0s 1ms/step - loss: 4985.8589 - mse: 4985.8589 - val_loss: 4849.2539 - val_mse: 4849.2539\n",
            "Epoch 25/100\n",
            "250/250 [==============================] - 0s 1ms/step - loss: 5006.4922 - mse: 5006.4922 - val_loss: 4823.9102 - val_mse: 4823.9102\n",
            "Epoch 26/100\n",
            "250/250 [==============================] - 0s 1ms/step - loss: 4983.5005 - mse: 4983.5005 - val_loss: 4857.1689 - val_mse: 4857.1689\n",
            "Epoch 27/100\n",
            "250/250 [==============================] - 0s 1ms/step - loss: 4981.2378 - mse: 4981.2378 - val_loss: 4851.4941 - val_mse: 4851.4941\n",
            "Epoch 28/100\n",
            "250/250 [==============================] - 0s 1ms/step - loss: 4989.9009 - mse: 4989.9009 - val_loss: 4839.7944 - val_mse: 4839.7944\n",
            "Epoch 29/100\n",
            "250/250 [==============================] - 0s 1ms/step - loss: 4978.7915 - mse: 4978.7915 - val_loss: 4826.2871 - val_mse: 4826.2871\n",
            "Epoch 30/100\n",
            "250/250 [==============================] - 0s 1ms/step - loss: 5001.1338 - mse: 5001.1338 - val_loss: 4915.4292 - val_mse: 4915.4292\n",
            "Epoch 31/100\n",
            "250/250 [==============================] - 0s 1ms/step - loss: 4989.3242 - mse: 4989.3242 - val_loss: 4872.6123 - val_mse: 4872.6123\n",
            "Epoch 32/100\n",
            "250/250 [==============================] - 0s 1ms/step - loss: 4981.4077 - mse: 4981.4077 - val_loss: 4831.1646 - val_mse: 4831.1646\n",
            "Epoch 33/100\n",
            "250/250 [==============================] - 0s 1ms/step - loss: 4991.5967 - mse: 4991.5967 - val_loss: 4838.3389 - val_mse: 4838.3389\n",
            "Epoch 34/100\n",
            "250/250 [==============================] - 0s 1ms/step - loss: 4991.1069 - mse: 4991.1069 - val_loss: 4841.2632 - val_mse: 4841.2632\n",
            "Epoch 35/100\n",
            "250/250 [==============================] - 0s 1ms/step - loss: 4977.9526 - mse: 4977.9526 - val_loss: 4823.0825 - val_mse: 4823.0825\n",
            "Epoch 36/100\n",
            "250/250 [==============================] - 0s 1ms/step - loss: 4985.1104 - mse: 4985.1104 - val_loss: 4847.4287 - val_mse: 4847.4287\n",
            "Epoch 37/100\n",
            "250/250 [==============================] - 0s 1ms/step - loss: 4986.8721 - mse: 4986.8721 - val_loss: 4840.8125 - val_mse: 4840.8125\n",
            "Epoch 38/100\n",
            "250/250 [==============================] - 0s 1ms/step - loss: 4990.2383 - mse: 4990.2383 - val_loss: 4825.4097 - val_mse: 4825.4097\n",
            "Epoch 39/100\n",
            "250/250 [==============================] - 0s 1ms/step - loss: 4972.2959 - mse: 4972.2959 - val_loss: 4852.9863 - val_mse: 4852.9863\n",
            "Epoch 40/100\n",
            "250/250 [==============================] - 0s 1ms/step - loss: 4992.5225 - mse: 4992.5225 - val_loss: 4842.1738 - val_mse: 4842.1738\n",
            "Epoch 41/100\n",
            "250/250 [==============================] - 0s 1ms/step - loss: 4992.0508 - mse: 4992.0508 - val_loss: 4953.2432 - val_mse: 4953.2432\n",
            "Epoch 42/100\n",
            "250/250 [==============================] - 0s 1ms/step - loss: 4998.2690 - mse: 4998.2690 - val_loss: 4824.1948 - val_mse: 4824.1948\n",
            "Epoch 43/100\n",
            "250/250 [==============================] - 0s 1ms/step - loss: 4980.5039 - mse: 4980.5039 - val_loss: 4879.0376 - val_mse: 4879.0376\n",
            "Epoch 44/100\n",
            "250/250 [==============================] - 0s 1ms/step - loss: 5000.1377 - mse: 5000.1377 - val_loss: 4894.0537 - val_mse: 4894.0537\n",
            "Epoch 45/100\n",
            "250/250 [==============================] - 0s 1ms/step - loss: 4977.2046 - mse: 4977.2046 - val_loss: 4836.4751 - val_mse: 4836.4751\n",
            "Epoch 46/100\n",
            "250/250 [==============================] - 0s 1ms/step - loss: 5006.9590 - mse: 5006.9590 - val_loss: 4871.0215 - val_mse: 4871.0215\n",
            "Epoch 47/100\n",
            "250/250 [==============================] - 0s 1ms/step - loss: 4993.2217 - mse: 4993.2217 - val_loss: 4822.8599 - val_mse: 4822.8599\n",
            "Epoch 48/100\n",
            "250/250 [==============================] - 0s 1ms/step - loss: 4980.9819 - mse: 4980.9819 - val_loss: 4845.3862 - val_mse: 4845.3862\n",
            "Epoch 49/100\n",
            "250/250 [==============================] - 0s 1ms/step - loss: 4980.1689 - mse: 4980.1689 - val_loss: 4847.2710 - val_mse: 4847.2710\n",
            "Epoch 50/100\n",
            "250/250 [==============================] - 0s 1ms/step - loss: 4984.9990 - mse: 4984.9990 - val_loss: 4935.1138 - val_mse: 4935.1138\n",
            "Epoch 51/100\n",
            "250/250 [==============================] - 0s 1ms/step - loss: 5003.9351 - mse: 5003.9351 - val_loss: 4899.9639 - val_mse: 4899.9639\n",
            "Epoch 52/100\n",
            "250/250 [==============================] - 0s 1ms/step - loss: 5019.6064 - mse: 5019.6064 - val_loss: 4875.3447 - val_mse: 4875.3447\n",
            "Epoch 53/100\n",
            "250/250 [==============================] - 0s 1ms/step - loss: 4973.6123 - mse: 4973.6123 - val_loss: 4864.1523 - val_mse: 4864.1523\n",
            "Epoch 54/100\n",
            "250/250 [==============================] - 0s 1ms/step - loss: 4972.6260 - mse: 4972.6260 - val_loss: 4837.8320 - val_mse: 4837.8320\n",
            "Epoch 55/100\n",
            "250/250 [==============================] - 0s 1ms/step - loss: 5005.0825 - mse: 5005.0825 - val_loss: 4845.1987 - val_mse: 4845.1987\n",
            "Epoch 56/100\n",
            "250/250 [==============================] - 0s 1ms/step - loss: 4988.9907 - mse: 4988.9907 - val_loss: 4839.5410 - val_mse: 4839.5410\n",
            "Epoch 57/100\n",
            "250/250 [==============================] - 0s 1ms/step - loss: 4985.8784 - mse: 4985.8784 - val_loss: 4838.4658 - val_mse: 4838.4658\n",
            "Epoch 58/100\n",
            "250/250 [==============================] - 0s 1ms/step - loss: 4989.0762 - mse: 4989.0762 - val_loss: 4845.6738 - val_mse: 4845.6738\n",
            "Epoch 59/100\n",
            "250/250 [==============================] - 0s 1ms/step - loss: 4977.7720 - mse: 4977.7720 - val_loss: 4849.4170 - val_mse: 4849.4170\n",
            "Epoch 60/100\n",
            "250/250 [==============================] - 0s 1ms/step - loss: 4977.7725 - mse: 4977.7725 - val_loss: 4826.2246 - val_mse: 4826.2246\n",
            "Epoch 61/100\n",
            "250/250 [==============================] - 0s 1ms/step - loss: 4988.3511 - mse: 4988.3511 - val_loss: 4831.3760 - val_mse: 4831.3760\n",
            "Epoch 62/100\n",
            "250/250 [==============================] - 0s 1ms/step - loss: 5013.7051 - mse: 5013.7051 - val_loss: 4833.1675 - val_mse: 4833.1675\n",
            "Epoch 63/100\n",
            "250/250 [==============================] - 0s 1ms/step - loss: 5001.1025 - mse: 5001.1025 - val_loss: 4848.6855 - val_mse: 4848.6855\n",
            "Epoch 64/100\n",
            "250/250 [==============================] - 0s 1ms/step - loss: 4987.6821 - mse: 4987.6821 - val_loss: 4865.5586 - val_mse: 4865.5586\n",
            "Epoch 65/100\n",
            "250/250 [==============================] - 0s 1ms/step - loss: 4984.9849 - mse: 4984.9849 - val_loss: 4838.3799 - val_mse: 4838.3799\n",
            "Epoch 66/100\n",
            "250/250 [==============================] - 0s 1ms/step - loss: 4990.4312 - mse: 4990.4312 - val_loss: 4873.5605 - val_mse: 4873.5605\n",
            "Epoch 67/100\n",
            "250/250 [==============================] - 0s 1ms/step - loss: 4983.2222 - mse: 4983.2222 - val_loss: 4830.5703 - val_mse: 4830.5703\n",
            "Epoch 68/100\n",
            "250/250 [==============================] - 0s 1ms/step - loss: 5010.1489 - mse: 5010.1489 - val_loss: 4835.7021 - val_mse: 4835.7021\n",
            "Epoch 69/100\n",
            "250/250 [==============================] - 0s 1ms/step - loss: 4998.3726 - mse: 4998.3726 - val_loss: 4998.1206 - val_mse: 4998.1206\n",
            "Epoch 70/100\n",
            "250/250 [==============================] - 0s 1ms/step - loss: 5020.9424 - mse: 5020.9424 - val_loss: 4827.0337 - val_mse: 4827.0337\n",
            "Epoch 71/100\n",
            "250/250 [==============================] - 0s 1ms/step - loss: 4984.6587 - mse: 4984.6587 - val_loss: 4940.2710 - val_mse: 4940.2710\n",
            "Epoch 72/100\n",
            "250/250 [==============================] - 0s 1ms/step - loss: 5024.6777 - mse: 5024.6777 - val_loss: 4835.3604 - val_mse: 4835.3604\n",
            "Epoch 73/100\n",
            "250/250 [==============================] - 0s 1ms/step - loss: 4994.3223 - mse: 4994.3223 - val_loss: 4876.3223 - val_mse: 4876.3223\n",
            "Epoch 74/100\n",
            "250/250 [==============================] - 0s 1ms/step - loss: 4995.9878 - mse: 4995.9878 - val_loss: 5004.3809 - val_mse: 5004.3809\n",
            "Epoch 75/100\n",
            "250/250 [==============================] - 0s 1ms/step - loss: 5031.9253 - mse: 5031.9253 - val_loss: 4908.1953 - val_mse: 4908.1953\n",
            "Epoch 76/100\n",
            "250/250 [==============================] - 0s 1ms/step - loss: 4985.6514 - mse: 4985.6514 - val_loss: 4827.7856 - val_mse: 4827.7856\n",
            "Epoch 77/100\n",
            "250/250 [==============================] - 0s 1ms/step - loss: 4999.9927 - mse: 4999.9927 - val_loss: 4951.3481 - val_mse: 4951.3481\n",
            "Epoch 78/100\n",
            "250/250 [==============================] - 0s 1ms/step - loss: 5037.4443 - mse: 5037.4443 - val_loss: 4881.9536 - val_mse: 4881.9536\n",
            "Epoch 79/100\n",
            "250/250 [==============================] - 0s 1ms/step - loss: 5024.2578 - mse: 5024.2578 - val_loss: 4864.5698 - val_mse: 4864.5698\n",
            "Epoch 80/100\n",
            "250/250 [==============================] - 0s 1ms/step - loss: 4982.1836 - mse: 4982.1836 - val_loss: 4825.5083 - val_mse: 4825.5083\n",
            "Epoch 81/100\n",
            "250/250 [==============================] - 0s 1ms/step - loss: 4969.5845 - mse: 4969.5845 - val_loss: 4828.5801 - val_mse: 4828.5801\n",
            "Epoch 82/100\n",
            "250/250 [==============================] - 0s 1ms/step - loss: 4984.8125 - mse: 4984.8125 - val_loss: 4830.0947 - val_mse: 4830.0947\n",
            "Epoch 83/100\n",
            "250/250 [==============================] - 0s 1ms/step - loss: 4999.7061 - mse: 4999.7061 - val_loss: 4861.0073 - val_mse: 4861.0073\n",
            "Epoch 84/100\n",
            "250/250 [==============================] - 0s 1ms/step - loss: 5000.9888 - mse: 5000.9888 - val_loss: 4855.3423 - val_mse: 4855.3423\n",
            "Epoch 85/100\n",
            "250/250 [==============================] - 0s 1ms/step - loss: 5007.0229 - mse: 5007.0229 - val_loss: 4918.2329 - val_mse: 4918.2329\n",
            "Epoch 86/100\n",
            "250/250 [==============================] - 0s 1ms/step - loss: 4992.1255 - mse: 4992.1255 - val_loss: 4874.8105 - val_mse: 4874.8105\n",
            "Epoch 87/100\n",
            "250/250 [==============================] - 0s 1ms/step - loss: 4984.9297 - mse: 4984.9297 - val_loss: 4824.5566 - val_mse: 4824.5566\n",
            "Epoch 88/100\n",
            "250/250 [==============================] - 0s 1ms/step - loss: 4988.4155 - mse: 4988.4155 - val_loss: 4915.9873 - val_mse: 4915.9873\n",
            "Epoch 89/100\n",
            "250/250 [==============================] - 0s 1ms/step - loss: 5012.2012 - mse: 5012.2012 - val_loss: 4840.8379 - val_mse: 4840.8379\n",
            "Epoch 90/100\n",
            "250/250 [==============================] - 0s 1ms/step - loss: 5016.8540 - mse: 5016.8540 - val_loss: 4884.4902 - val_mse: 4884.4902\n",
            "Epoch 91/100\n",
            "250/250 [==============================] - 0s 1ms/step - loss: 4995.8545 - mse: 4995.8545 - val_loss: 4832.5591 - val_mse: 4832.5591\n",
            "Epoch 92/100\n",
            "250/250 [==============================] - 0s 1ms/step - loss: 4984.5776 - mse: 4984.5776 - val_loss: 4827.9595 - val_mse: 4827.9595\n",
            "Epoch 93/100\n",
            "250/250 [==============================] - 0s 1ms/step - loss: 4999.0464 - mse: 4999.0464 - val_loss: 4840.3301 - val_mse: 4840.3301\n",
            "Epoch 94/100\n",
            "250/250 [==============================] - 0s 1ms/step - loss: 5030.0264 - mse: 5030.0264 - val_loss: 4892.4868 - val_mse: 4892.4868\n",
            "Epoch 95/100\n",
            "250/250 [==============================] - 0s 1ms/step - loss: 4986.3892 - mse: 4986.3892 - val_loss: 4853.9517 - val_mse: 4853.9517\n",
            "Epoch 96/100\n",
            "250/250 [==============================] - 0s 1ms/step - loss: 4979.2104 - mse: 4979.2104 - val_loss: 4833.3867 - val_mse: 4833.3867\n",
            "Epoch 97/100\n",
            "250/250 [==============================] - 0s 1ms/step - loss: 4967.4028 - mse: 4967.4028 - val_loss: 4925.1177 - val_mse: 4925.1177\n",
            "Epoch 98/100\n",
            "250/250 [==============================] - 0s 1ms/step - loss: 4999.3848 - mse: 4999.3848 - val_loss: 4874.8125 - val_mse: 4874.8125\n",
            "Epoch 99/100\n",
            "250/250 [==============================] - 0s 1ms/step - loss: 4982.0361 - mse: 4982.0361 - val_loss: 4837.7363 - val_mse: 4837.7363\n",
            "Epoch 100/100\n",
            "250/250 [==============================] - 0s 1ms/step - loss: 5018.6748 - mse: 5018.6748 - val_loss: 4866.8159 - val_mse: 4866.8159\n"
          ],
          "name": "stdout"
        }
      ]
    },
    {
      "cell_type": "code",
      "metadata": {
        "id": "MSj0kifiSDfW",
        "colab_type": "code",
        "outputId": "11315b46-8058-46f3-9edf-c81116457278",
        "colab": {
          "base_uri": "https://localhost:8080/",
          "height": 283
        }
      },
      "source": [
        "plt.plot(report.history['loss'], label=\"loss = SGD\")"
      ],
      "execution_count": 9,
      "outputs": [
        {
          "output_type": "execute_result",
          "data": {
            "text/plain": [
              "[<matplotlib.lines.Line2D at 0x7f2e70a56940>]"
            ]
          },
          "metadata": {
            "tags": []
          },
          "execution_count": 9
        },
        {
          "output_type": "display_data",
          "data": {
            "image/png": "[encoded data removed]",
            "text/plain": [
              "<Figure size 432x288 with 1 Axes>"
            ]
          },
          "metadata": {
            "tags": [],
            "needs_background": "light"
          }
        }
      ]
    },
    {
      "cell_type": "code",
      "metadata": {
        "id": "kVRFwm6HSN0s",
        "colab_type": "code",
        "outputId": "238ba376-a6f5-405f-f75b-c587243416ce",
        "colab": {
          "base_uri": "https://localhost:8080/",
          "height": 35
        }
      },
      "source": [
        "w = model.layers[0].get_weights()[0][0]\n",
        "print(w)"
      ],
      "execution_count": 20,
      "outputs": [
        {
          "output_type": "stream",
          "text": [
            "[59.29902]\n"
          ],
          "name": "stdout"
        }
      ]
    },
    {
      "cell_type": "code",
      "metadata": {
        "id": "JgHtyGJCtS-_",
        "colab_type": "code",
        "colab": {
          "base_uri": "https://localhost:8080/",
          "height": 69
        },
        "outputId": "c6fb8720-567d-4e1c-86a5-3e050a6666fb"
      },
      "source": [
        "print(X.shape)\n",
        "print(y.shape)\n",
        "print(w.shape)"
      ],
      "execution_count": 21,
      "outputs": [
        {
          "output_type": "stream",
          "text": [
            "(10000, 1)\n",
            "(10000,)\n",
            "(1,)\n"
          ],
          "name": "stdout"
        }
      ]
    },
    {
      "cell_type": "code",
      "metadata": {
        "id": "go6hbWDAuEfp",
        "colab_type": "code",
        "colab": {
          "base_uri": "https://localhost:8080/",
          "height": 52
        },
        "outputId": "9cdb456e-c2a4-4eb6-b6c2-b3e75d391b98"
      },
      "source": [
        "print(type(X))\n",
        "print(type(w))"
      ],
      "execution_count": 25,
      "outputs": [
        {
          "output_type": "stream",
          "text": [
            "<class 'numpy.ndarray'>\n",
            "<class 'numpy.ndarray'>\n"
          ],
          "name": "stdout"
        }
      ]
    },
    {
      "cell_type": "code",
      "metadata": {
        "id": "yt3ghC0xt1oF",
        "colab_type": "code",
        "colab": {
          "base_uri": "https://localhost:8080/",
          "height": 265
        },
        "outputId": "3060c992-5e80-4888-b2e4-88418a317e46"
      },
      "source": [
        "y_predicted = w.dot(X.transpose())\n",
        "plt.scatter(X,y)\n",
        "plt.plot(X,y_predicted, 'r', 5)\n",
        "plt.show()"
      ],
      "execution_count": 28,
      "outputs": [
        {
          "output_type": "display_data",
          "data": {
            "image/png": "[encoded data removed]",
            "text/plain": [
              "<Figure size 432x288 with 1 Axes>"
            ]
          },
          "metadata": {
            "tags": [],
            "needs_background": "light"
          }
        }
      ]
    },
    {
      "cell_type": "code",
      "metadata": {
        "id": "LuietUFpEG5a",
        "colab_type": "code",
        "outputId": "6d111653-652e-452a-da24-f3e625b4be4f",
        "colab": {
          "base_uri": "https://localhost:8080/",
          "height": 87
        }
      },
      "source": [
        "print(\"Train eval: \", model.evaluate(X_train, y_train))\n",
        "print(\"Test eval: \", model.evaluate(X_test, y_test))"
      ],
      "execution_count": 29,
      "outputs": [
        {
          "output_type": "stream",
          "text": [
            "250/250 [==============================] - 0s 930us/step - loss: 5025.0532 - mse: 5025.0532\n",
            "Train eval:  [5025.05322265625, 5025.05322265625]\n",
            "63/63 [==============================] - 0s 846us/step - loss: 4866.8159 - mse: 4866.8159\n",
            "Test eval:  [4866.81591796875, 4866.81591796875]\n"
          ],
          "name": "stdout"
        }
      ]
    }
  ]
}