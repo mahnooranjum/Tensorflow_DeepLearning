{
  "nbformat": 4,
  "nbformat_minor": 0,
  "metadata": {
    "colab": {
      "name": "Demo7_BlobsClassification.ipynb",
      "provenance": [],
      "collapsed_sections": []
    },
    "kernelspec": {
      "name": "python3",
      "display_name": "Python 3"
    }
  },
  "cells": [
    {
      "cell_type": "markdown",
      "metadata": {
        "id": "P9bJCDjdlgG6",
        "colab_type": "text"
      },
      "source": [
        "# **Spit some [tensor] flow**\n",
        "\n",
        "We need to learn the intricacies of tensorflow to master deep learning\n",
        "\n",
        "`This is how we write code`\n",
        "\n",
        "## Let's make some data to work on"
      ]
    },
    {
      "cell_type": "code",
      "metadata": {
        "id": "aQwc0re5mFld",
        "colab_type": "code",
        "outputId": "7d6f1849-4867-4b5f-b7bc-c75389514812",
        "colab": {
          "base_uri": "https://localhost:8080/",
          "height": 35
        }
      },
      "source": [
        "import numpy as np\n",
        "import pandas as pd\n",
        "import matplotlib.pyplot as plt\n",
        "import tensorflow as tf\n",
        "print(tf.__version__)"
      ],
      "execution_count": 0,
      "outputs": [
        {
          "output_type": "stream",
          "text": [
            "2.2.0-rc4\n"
          ],
          "name": "stdout"
        }
      ]
    },
    {
      "cell_type": "code",
      "metadata": {
        "id": "qyw8HvOuBEZm",
        "colab_type": "code",
        "outputId": "826ebf94-e85a-4f6c-be06-db2a28e95de8",
        "colab": {
          "base_uri": "https://localhost:8080/",
          "height": 279
        }
      },
      "source": [
        "from sklearn.datasets.samples_generator import make_moons\n",
        "from sklearn.datasets.samples_generator import make_circles\n",
        "from sklearn.datasets.samples_generator import make_blobs\n",
        "n = 10000\n",
        "# generate 2d classification dataset\n",
        "X, y = make_blobs(n_samples=n, centers=2,cluster_std=2.5, n_features=2)\n",
        "# scatter plot, dots colored by class value\n",
        "df = pd.DataFrame(dict(x=X[:,0], y=X[:,1], label=y))\n",
        "colors = {0:'red', 1:'blue'}\n",
        "fig, ax = plt.subplots()\n",
        "grouped = df.groupby('label')\n",
        "for key, group in grouped:\n",
        "    group.plot(ax=ax, kind='scatter', x='x', y='y', label=key, color=colors[key])\n",
        "plt.show()\n",
        "\n",
        "datadict = {'X1': X[:,0],'X2' : X[:,1], 'target': y}\n",
        "data = pd.DataFrame(data=datadict)"
      ],
      "execution_count": 0,
      "outputs": [
        {
          "output_type": "display_data",
          "data": {
            "image/png": "[encoded data removed]",
            "text/plain": [
              "<Figure size 432x288 with 1 Axes>"
            ]
          },
          "metadata": {
            "tags": [],
            "needs_background": "light"
          }
        }
      ]
    },
    {
      "cell_type": "code",
      "metadata": {
        "id": "7hQGKjLvBT6z",
        "colab_type": "code",
        "outputId": "db2275b4-c010-401a-bdc8-44724f9d957f",
        "colab": {
          "base_uri": "https://localhost:8080/",
          "height": 35
        }
      },
      "source": [
        "X = data.iloc[:,[0, 1]].values\n",
        "type(X)"
      ],
      "execution_count": 0,
      "outputs": [
        {
          "output_type": "execute_result",
          "data": {
            "text/plain": [
              "numpy.ndarray"
            ]
          },
          "metadata": {
            "tags": []
          },
          "execution_count": 7
        }
      ]
    },
    {
      "cell_type": "code",
      "metadata": {
        "id": "ovyPUHaZBqu8",
        "colab_type": "code",
        "colab": {}
      },
      "source": [
        "y = data.target.values"
      ],
      "execution_count": 0,
      "outputs": []
    },
    {
      "cell_type": "code",
      "metadata": {
        "id": "BSOcVLhKCGOa",
        "colab_type": "code",
        "colab": {}
      },
      "source": [
        "# TRAIN TEST SPLIT\n",
        "from sklearn.model_selection import train_test_split\n",
        "\n",
        "X_train, X_test, y_train, y_test = train_test_split(X, y, test_size = 0.2)"
      ],
      "execution_count": 0,
      "outputs": []
    },
    {
      "cell_type": "code",
      "metadata": {
        "id": "bqh-eNkNCb7D",
        "colab_type": "code",
        "colab": {}
      },
      "source": [
        "N, D = X_train.shape"
      ],
      "execution_count": 0,
      "outputs": []
    },
    {
      "cell_type": "code",
      "metadata": {
        "id": "WA8o1DP8CvGT",
        "colab_type": "code",
        "colab": {}
      },
      "source": [
        "from sklearn.preprocessing import StandardScaler \n",
        "scaleObj = StandardScaler()\n",
        "X_train = scaleObj.fit_transform(X_train)\n",
        "X_test = scaleObj.transform(X_test)\n"
      ],
      "execution_count": 0,
      "outputs": []
    },
    {
      "cell_type": "code",
      "metadata": {
        "id": "mIv1FdhRDRrc",
        "colab_type": "code",
        "outputId": "9ee37288-2088-4c9d-a619-6e3e8026714a",
        "colab": {
          "base_uri": "https://localhost:8080/",
          "height": 1000
        }
      },
      "source": [
        "from tensorflow.keras.layers import Input, Dense, Activation,Dropout\n",
        "from tensorflow.keras.models import Model\n",
        "\n",
        "input_layer = Input(shape=(D,))\n",
        "dense_layer_1 = Dense(4, activation='tanh')(input_layer)\n",
        "dense_layer_2 = Dense(2, activation='sigmoid')(input_layer)\n",
        "output = Dense(1, activation='sigmoid')(dense_layer_2)\n",
        "\n",
        "model = Model(inputs=input_layer, outputs=output)\n",
        "\n",
        "model.compile(\n",
        "    optimizer = 'adam',\n",
        "    loss = 'binary_crossentropy',\n",
        "    metrics = ['accuracy']\n",
        ")\n",
        "\n",
        "# https://www.tensorflow.org/api_docs/python/tf/keras/callbacks/LearningRateScheduler\n",
        "def scheduler(epoch):\n",
        "  if epoch < 10:\n",
        "    return 0.001\n",
        "  else:\n",
        "    return 0.001 * tf.math.exp(0.1 * (10 - epoch))\n",
        "\n",
        "\n",
        "callback = tf.keras.callbacks.LearningRateScheduler(scheduler)\n",
        "\n",
        "report = model.fit(X_train, y_train, validation_data=(X_test, y_test), epochs=50)"
      ],
      "execution_count": 0,
      "outputs": [
        {
          "output_type": "stream",
          "text": [
            "Epoch 1/50\n",
            "250/250 [==============================] - 1s 3ms/step - loss: 0.7467 - accuracy: 0.3548 - val_loss: 0.7063 - val_accuracy: 0.4795\n",
            "Epoch 2/50\n",
            "250/250 [==============================] - 0s 1ms/step - loss: 0.6702 - accuracy: 0.5794 - val_loss: 0.6387 - val_accuracy: 0.7325\n",
            "Epoch 3/50\n",
            "250/250 [==============================] - 0s 1ms/step - loss: 0.6054 - accuracy: 0.8547 - val_loss: 0.5751 - val_accuracy: 0.9000\n",
            "Epoch 4/50\n",
            "250/250 [==============================] - 0s 2ms/step - loss: 0.5412 - accuracy: 0.9133 - val_loss: 0.5104 - val_accuracy: 0.9215\n",
            "Epoch 5/50\n",
            "250/250 [==============================] - 0s 1ms/step - loss: 0.4770 - accuracy: 0.9216 - val_loss: 0.4478 - val_accuracy: 0.9235\n",
            "Epoch 6/50\n",
            "250/250 [==============================] - 0s 2ms/step - loss: 0.4169 - accuracy: 0.9273 - val_loss: 0.3915 - val_accuracy: 0.9285\n",
            "Epoch 7/50\n",
            "250/250 [==============================] - 0s 2ms/step - loss: 0.3643 - accuracy: 0.9341 - val_loss: 0.3437 - val_accuracy: 0.9360\n",
            "Epoch 8/50\n",
            "250/250 [==============================] - 0s 2ms/step - loss: 0.3201 - accuracy: 0.9385 - val_loss: 0.3045 - val_accuracy: 0.9415\n",
            "Epoch 9/50\n",
            "250/250 [==============================] - 0s 1ms/step - loss: 0.2837 - accuracy: 0.9415 - val_loss: 0.2724 - val_accuracy: 0.9415\n",
            "Epoch 10/50\n",
            "250/250 [==============================] - 0s 1ms/step - loss: 0.2542 - accuracy: 0.9455 - val_loss: 0.2466 - val_accuracy: 0.9425\n",
            "Epoch 11/50\n",
            "250/250 [==============================] - 0s 1ms/step - loss: 0.2303 - accuracy: 0.9471 - val_loss: 0.2260 - val_accuracy: 0.9430\n",
            "Epoch 12/50\n",
            "250/250 [==============================] - 0s 2ms/step - loss: 0.2109 - accuracy: 0.9477 - val_loss: 0.2092 - val_accuracy: 0.9445\n",
            "Epoch 13/50\n",
            "250/250 [==============================] - 0s 1ms/step - loss: 0.1952 - accuracy: 0.9482 - val_loss: 0.1958 - val_accuracy: 0.9455\n",
            "Epoch 14/50\n",
            "250/250 [==============================] - 0s 1ms/step - loss: 0.1825 - accuracy: 0.9486 - val_loss: 0.1848 - val_accuracy: 0.9465\n",
            "Epoch 15/50\n",
            "250/250 [==============================] - 0s 2ms/step - loss: 0.1721 - accuracy: 0.9498 - val_loss: 0.1760 - val_accuracy: 0.9470\n",
            "Epoch 16/50\n",
            "250/250 [==============================] - 0s 2ms/step - loss: 0.1637 - accuracy: 0.9506 - val_loss: 0.1690 - val_accuracy: 0.9475\n",
            "Epoch 17/50\n",
            "250/250 [==============================] - 0s 2ms/step - loss: 0.1567 - accuracy: 0.9507 - val_loss: 0.1632 - val_accuracy: 0.9475\n",
            "Epoch 18/50\n",
            "250/250 [==============================] - 0s 1ms/step - loss: 0.1511 - accuracy: 0.9506 - val_loss: 0.1586 - val_accuracy: 0.9475\n",
            "Epoch 19/50\n",
            "250/250 [==============================] - 0s 2ms/step - loss: 0.1465 - accuracy: 0.9505 - val_loss: 0.1549 - val_accuracy: 0.9475\n",
            "Epoch 20/50\n",
            "250/250 [==============================] - 0s 2ms/step - loss: 0.1426 - accuracy: 0.9509 - val_loss: 0.1518 - val_accuracy: 0.9475\n",
            "Epoch 21/50\n",
            "250/250 [==============================] - 0s 1ms/step - loss: 0.1396 - accuracy: 0.9510 - val_loss: 0.1495 - val_accuracy: 0.9490\n",
            "Epoch 22/50\n",
            "250/250 [==============================] - 0s 2ms/step - loss: 0.1371 - accuracy: 0.9514 - val_loss: 0.1477 - val_accuracy: 0.9485\n",
            "Epoch 23/50\n",
            "250/250 [==============================] - 0s 1ms/step - loss: 0.1352 - accuracy: 0.9506 - val_loss: 0.1462 - val_accuracy: 0.9480\n",
            "Epoch 24/50\n",
            "250/250 [==============================] - 0s 1ms/step - loss: 0.1336 - accuracy: 0.9510 - val_loss: 0.1450 - val_accuracy: 0.9480\n",
            "Epoch 25/50\n",
            "250/250 [==============================] - 0s 2ms/step - loss: 0.1323 - accuracy: 0.9511 - val_loss: 0.1442 - val_accuracy: 0.9480\n",
            "Epoch 26/50\n",
            "250/250 [==============================] - 0s 1ms/step - loss: 0.1313 - accuracy: 0.9506 - val_loss: 0.1436 - val_accuracy: 0.9485\n",
            "Epoch 27/50\n",
            "250/250 [==============================] - 0s 2ms/step - loss: 0.1306 - accuracy: 0.9514 - val_loss: 0.1431 - val_accuracy: 0.9485\n",
            "Epoch 28/50\n",
            "250/250 [==============================] - 0s 2ms/step - loss: 0.1299 - accuracy: 0.9505 - val_loss: 0.1428 - val_accuracy: 0.9485\n",
            "Epoch 29/50\n",
            "250/250 [==============================] - 0s 2ms/step - loss: 0.1294 - accuracy: 0.9504 - val_loss: 0.1425 - val_accuracy: 0.9485\n",
            "Epoch 30/50\n",
            "250/250 [==============================] - 0s 2ms/step - loss: 0.1290 - accuracy: 0.9506 - val_loss: 0.1423 - val_accuracy: 0.9480\n",
            "Epoch 31/50\n",
            "250/250 [==============================] - 0s 1ms/step - loss: 0.1287 - accuracy: 0.9507 - val_loss: 0.1421 - val_accuracy: 0.9480\n",
            "Epoch 32/50\n",
            "250/250 [==============================] - 0s 1ms/step - loss: 0.1284 - accuracy: 0.9509 - val_loss: 0.1420 - val_accuracy: 0.9480\n",
            "Epoch 33/50\n",
            "250/250 [==============================] - 0s 2ms/step - loss: 0.1282 - accuracy: 0.9501 - val_loss: 0.1420 - val_accuracy: 0.9480\n",
            "Epoch 34/50\n",
            "250/250 [==============================] - 0s 2ms/step - loss: 0.1280 - accuracy: 0.9507 - val_loss: 0.1418 - val_accuracy: 0.9480\n",
            "Epoch 35/50\n",
            "250/250 [==============================] - 0s 1ms/step - loss: 0.1279 - accuracy: 0.9506 - val_loss: 0.1418 - val_accuracy: 0.9480\n",
            "Epoch 36/50\n",
            "250/250 [==============================] - 0s 2ms/step - loss: 0.1277 - accuracy: 0.9504 - val_loss: 0.1417 - val_accuracy: 0.9480\n",
            "Epoch 37/50\n",
            "250/250 [==============================] - 0s 2ms/step - loss: 0.1276 - accuracy: 0.9506 - val_loss: 0.1416 - val_accuracy: 0.9485\n",
            "Epoch 38/50\n",
            "250/250 [==============================] - 0s 2ms/step - loss: 0.1275 - accuracy: 0.9506 - val_loss: 0.1416 - val_accuracy: 0.9480\n",
            "Epoch 39/50\n",
            "250/250 [==============================] - 0s 2ms/step - loss: 0.1273 - accuracy: 0.9509 - val_loss: 0.1415 - val_accuracy: 0.9480\n",
            "Epoch 40/50\n",
            "250/250 [==============================] - 0s 2ms/step - loss: 0.1273 - accuracy: 0.9505 - val_loss: 0.1415 - val_accuracy: 0.9480\n",
            "Epoch 41/50\n",
            "250/250 [==============================] - 0s 2ms/step - loss: 0.1272 - accuracy: 0.9505 - val_loss: 0.1414 - val_accuracy: 0.9480\n",
            "Epoch 42/50\n",
            "250/250 [==============================] - 0s 2ms/step - loss: 0.1271 - accuracy: 0.9506 - val_loss: 0.1414 - val_accuracy: 0.9480\n",
            "Epoch 43/50\n",
            "250/250 [==============================] - 0s 2ms/step - loss: 0.1269 - accuracy: 0.9506 - val_loss: 0.1413 - val_accuracy: 0.9490\n",
            "Epoch 44/50\n",
            "250/250 [==============================] - 0s 2ms/step - loss: 0.1269 - accuracy: 0.9506 - val_loss: 0.1413 - val_accuracy: 0.9480\n",
            "Epoch 45/50\n",
            "250/250 [==============================] - 0s 2ms/step - loss: 0.1268 - accuracy: 0.9507 - val_loss: 0.1412 - val_accuracy: 0.9480\n",
            "Epoch 46/50\n",
            "250/250 [==============================] - 0s 2ms/step - loss: 0.1267 - accuracy: 0.9506 - val_loss: 0.1412 - val_accuracy: 0.9480\n",
            "Epoch 47/50\n",
            "250/250 [==============================] - 0s 1ms/step - loss: 0.1267 - accuracy: 0.9505 - val_loss: 0.1411 - val_accuracy: 0.9480\n",
            "Epoch 48/50\n",
            "250/250 [==============================] - 0s 1ms/step - loss: 0.1266 - accuracy: 0.9506 - val_loss: 0.1410 - val_accuracy: 0.9480\n",
            "Epoch 49/50\n",
            "250/250 [==============================] - 0s 2ms/step - loss: 0.1265 - accuracy: 0.9505 - val_loss: 0.1410 - val_accuracy: 0.9480\n",
            "Epoch 50/50\n",
            "250/250 [==============================] - 0s 2ms/step - loss: 0.1264 - accuracy: 0.9505 - val_loss: 0.1409 - val_accuracy: 0.9480\n"
          ],
          "name": "stdout"
        }
      ]
    },
    {
      "cell_type": "code",
      "metadata": {
        "id": "MSj0kifiSDfW",
        "colab_type": "code",
        "outputId": "3d8f1f4c-a668-4973-c771-8f65fb2ca483",
        "colab": {
          "base_uri": "https://localhost:8080/",
          "height": 283
        }
      },
      "source": [
        "plt.plot(report.history['loss'], label=\"loss = SGD\")"
      ],
      "execution_count": 0,
      "outputs": [
        {
          "output_type": "execute_result",
          "data": {
            "text/plain": [
              "[<matplotlib.lines.Line2D at 0x7f02ccd198d0>]"
            ]
          },
          "metadata": {
            "tags": []
          },
          "execution_count": 14
        },
        {
          "output_type": "display_data",
          "data": {
            "image/png": "[encoded data removed]",
            "text/plain": [
              "<Figure size 432x288 with 1 Axes>"
            ]
          },
          "metadata": {
            "tags": [],
            "needs_background": "light"
          }
        }
      ]
    },
    {
      "cell_type": "code",
      "metadata": {
        "id": "JgHtyGJCtS-_",
        "colab_type": "code",
        "outputId": "8e0e1a20-f601-4d49-f279-151c9566fe8b",
        "colab": {
          "base_uri": "https://localhost:8080/",
          "height": 52
        }
      },
      "source": [
        "print(X.shape)\n",
        "print(y.shape)"
      ],
      "execution_count": 0,
      "outputs": [
        {
          "output_type": "stream",
          "text": [
            "(10000, 2)\n",
            "(10000,)\n"
          ],
          "name": "stdout"
        }
      ]
    },
    {
      "cell_type": "code",
      "metadata": {
        "id": "yt3ghC0xt1oF",
        "colab_type": "code",
        "colab": {}
      },
      "source": [
        "y_predicted = model.predict(X)"
      ],
      "execution_count": 0,
      "outputs": []
    },
    {
      "cell_type": "code",
      "metadata": {
        "id": "YkSm0fifC78S",
        "colab_type": "code",
        "outputId": "eb1b6175-b9df-4715-8ea1-1116f395d032",
        "colab": {
          "base_uri": "https://localhost:8080/",
          "height": 350
        }
      },
      "source": [
        "\n",
        "# Visualising the Training set results\n",
        "from matplotlib.colors import ListedColormap\n",
        "X_set, y_set = X_train, y_train\n",
        "X1, X2 = np.meshgrid(np.arange(start = X_set[:, 0].min() - 1, stop = X_set[:, 0].max() + 1, step = 0.01),\n",
        "                     np.arange(start = X_set[:, 1].min() - 1, stop = X_set[:, 1].max() + 1, step = 0.01))\n",
        "plt.contourf(X1, X2, model.predict(np.array([X1.ravel(), X2.ravel()]).T).reshape(X1.shape),\n",
        "             alpha = 0.75, cmap = ListedColormap(('pink', 'cyan')))\n",
        "plt.xlim(X1.min(), X1.max())\n",
        "plt.ylim(X2.min(), X2.max())\n",
        "for i, j in enumerate(np.unique(y_set)):\n",
        "    plt.scatter(X_set[y_set == j, 0], X_set[y_set == j, 1],\n",
        "                c = ListedColormap(('red', 'blue'))(i), label = j)\n",
        "plt.title('Model')\n",
        "plt.xlabel('X')\n",
        "plt.ylabel('y')\n",
        "plt.legend()\n",
        "plt.show()"
      ],
      "execution_count": 0,
      "outputs": [
        {
          "output_type": "stream",
          "text": [
            "'c' argument looks like a single numeric RGB or RGBA sequence, which should be avoided as value-mapping will have precedence in case its length matches with 'x' & 'y'.  Please use a 2-D array with a single row if you really want to specify the same RGB or RGBA value for all points.\n",
            "'c' argument looks like a single numeric RGB or RGBA sequence, which should be avoided as value-mapping will have precedence in case its length matches with 'x' & 'y'.  Please use a 2-D array with a single row if you really want to specify the same RGB or RGBA value for all points.\n"
          ],
          "name": "stderr"
        },
        {
          "output_type": "display_data",
          "data": {
            "image/png": "[encoded data removed]",
            "text/plain": [
              "<Figure size 432x288 with 1 Axes>"
            ]
          },
          "metadata": {
            "tags": [],
            "needs_background": "light"
          }
        }
      ]
    },
    {
      "cell_type": "code",
      "metadata": {
        "id": "LuietUFpEG5a",
        "colab_type": "code",
        "outputId": "271b3198-8b88-406a-a39a-0f4e6e52a7fd",
        "colab": {
          "base_uri": "https://localhost:8080/",
          "height": 87
        }
      },
      "source": [
        "print(\"Train eval: \", model.evaluate(X_train, y_train))\n",
        "print(\"Test eval: \", model.evaluate(X_test, y_test))"
      ],
      "execution_count": 0,
      "outputs": [
        {
          "output_type": "stream",
          "text": [
            "250/250 [==============================] - 0s 1ms/step - loss: 0.1263 - accuracy: 0.9510\n",
            "Train eval:  [0.12628374993801117, 0.9509999752044678]\n",
            "63/63 [==============================] - 0s 1ms/step - loss: 0.1409 - accuracy: 0.9480\n",
            "Test eval:  [0.1409088373184204, 0.9480000138282776]\n"
          ],
          "name": "stdout"
        }
      ]
    }
  ]
}