{
  "nbformat": 4,
  "nbformat_minor": 0,
  "metadata": {
    "colab": {
      "name": "Demo5_PolynomialRegression.ipynb",
      "provenance": [],
      "collapsed_sections": []
    },
    "kernelspec": {
      "name": "python3",
      "display_name": "Python 3"
    }
  },
  "cells": [
    {
      "cell_type": "markdown",
      "metadata": {
        "id": "P9bJCDjdlgG6",
        "colab_type": "text"
      },
      "source": [
        "# **Spit some [tensor] flow**\n",
        "\n",
        "We need to learn the intricacies of tensorflow to master deep learning\n",
        "\n",
        "`This is how we write code`\n",
        "\n",
        "## Let's make some data to work on"
      ]
    },
    {
      "cell_type": "code",
      "metadata": {
        "id": "aQwc0re5mFld",
        "colab_type": "code",
        "outputId": "e49a5208-e2b2-4437-dcb7-d13513ae6311",
        "colab": {
          "base_uri": "https://localhost:8080/",
          "height": 35
        }
      },
      "source": [
        "import numpy as np\n",
        "import pandas as pd\n",
        "import matplotlib.pyplot as plt\n",
        "import tensorflow as tf\n",
        "print(tf.__version__)"
      ],
      "execution_count": 42,
      "outputs": [
        {
          "output_type": "stream",
          "text": [
            "2.2.0-rc4\n"
          ],
          "name": "stdout"
        }
      ]
    },
    {
      "cell_type": "code",
      "metadata": {
        "id": "qyw8HvOuBEZm",
        "colab_type": "code",
        "outputId": "2a9ba45b-5eee-437b-880f-43963d388e6f",
        "colab": {
          "base_uri": "https://localhost:8080/",
          "height": 265
        }
      },
      "source": [
        "from sklearn.datasets import make_regression\n",
        "\n",
        "# the equation 2 * x^3 - 40 * x^2 + 9 * x + 24\n",
        "n = 10000\n",
        "X = np.random.randn(n)\n",
        "randomize = np.random.randint(-100,100, size = n)\n",
        "y = []\n",
        "for i in range(n):\n",
        "    y.append((2*X[i]**3)-(40*X[i]**2)+(9*X[i])+24)\n",
        "\n",
        "for i in range(n):\n",
        "    y[i] = y[i] + randomize[i]\n",
        "    \n",
        "datadict = {'data': X, 'target': y}\n",
        "data = pd.DataFrame(data=datadict)\n",
        "plt.scatter(X,y)\n",
        "plt.show()\n"
      ],
      "execution_count": 104,
      "outputs": [
        {
          "output_type": "display_data",
          "data": {
            "image/png": "[encoded data removed]",
            "text/plain": [
              "<Figure size 432x288 with 1 Axes>"
            ]
          },
          "metadata": {
            "tags": [],
            "needs_background": "light"
          }
        }
      ]
    },
    {
      "cell_type": "code",
      "metadata": {
        "id": "7hQGKjLvBT6z",
        "colab_type": "code",
        "outputId": "9abba55f-cff5-4040-919c-10388f0a5c8a",
        "colab": {
          "base_uri": "https://localhost:8080/",
          "height": 35
        }
      },
      "source": [
        "X = data.iloc[:,[0]].values\n",
        "type(X)"
      ],
      "execution_count": 105,
      "outputs": [
        {
          "output_type": "execute_result",
          "data": {
            "text/plain": [
              "numpy.ndarray"
            ]
          },
          "metadata": {
            "tags": []
          },
          "execution_count": 105
        }
      ]
    },
    {
      "cell_type": "code",
      "metadata": {
        "id": "ovyPUHaZBqu8",
        "colab_type": "code",
        "colab": {}
      },
      "source": [
        "y = data.target.values"
      ],
      "execution_count": 0,
      "outputs": []
    },
    {
      "cell_type": "code",
      "metadata": {
        "id": "BSOcVLhKCGOa",
        "colab_type": "code",
        "colab": {}
      },
      "source": [
        "# TRAIN TEST SPLIT\n",
        "from sklearn.model_selection import train_test_split\n",
        "\n",
        "X_train, X_test, y_train, y_test = train_test_split(X, y, test_size = 0.2)"
      ],
      "execution_count": 0,
      "outputs": []
    },
    {
      "cell_type": "code",
      "metadata": {
        "id": "bqh-eNkNCb7D",
        "colab_type": "code",
        "colab": {}
      },
      "source": [
        "N, D = X_train.shape"
      ],
      "execution_count": 0,
      "outputs": []
    },
    {
      "cell_type": "code",
      "metadata": {
        "id": "WA8o1DP8CvGT",
        "colab_type": "code",
        "colab": {}
      },
      "source": [
        "from sklearn.preprocessing import StandardScaler \n",
        "scaleObj = StandardScaler()\n",
        "X_train = scaleObj.fit_transform(X_train)\n",
        "X_test = scaleObj.transform(X_test)\n"
      ],
      "execution_count": 0,
      "outputs": []
    },
    {
      "cell_type": "code",
      "metadata": {
        "id": "mIv1FdhRDRrc",
        "colab_type": "code",
        "outputId": "28bf0904-928a-487f-b842-c756a485311f",
        "colab": {
          "base_uri": "https://localhost:8080/",
          "height": 1000
        }
      },
      "source": [
        "from tensorflow.keras.layers import Input, Dense, Activation,Dropout\n",
        "from tensorflow.keras.models import Model\n",
        "\n",
        "input_layer = Input(shape=(D,))\n",
        "dense_layer_1 = Dense(20, activation='relu')(input_layer)\n",
        "dense_layer_2 = Dense(20, activation='relu')(input_layer)\n",
        "output = Dense(1)(dense_layer_2)\n",
        "\n",
        "model = Model(inputs=input_layer, outputs=output)\n",
        "\n",
        "model.compile(\n",
        "    optimizer = 'adam',\n",
        "    loss = 'mse',\n",
        "    metrics = ['mse']\n",
        ")\n",
        "\n",
        "# https://www.tensorflow.org/api_docs/python/tf/keras/callbacks/LearningRateScheduler\n",
        "def scheduler(epoch):\n",
        "  if epoch < 10:\n",
        "    return 0.001\n",
        "  else:\n",
        "    return 0.001 * tf.math.exp(0.1 * (10 - epoch))\n",
        "\n",
        "\n",
        "callback = tf.keras.callbacks.LearningRateScheduler(scheduler)\n",
        "\n",
        "report = model.fit(X_train, y_train, validation_data=(X_test, y_test), epochs=200)"
      ],
      "execution_count": 111,
      "outputs": [
        {
          "output_type": "stream",
          "text": [
            "Epoch 1/200\n",
            "250/250 [==============================] - 0s 1ms/step - loss: 6891.2241 - mse: 6891.2241 - val_loss: 7508.6895 - val_mse: 7508.6895\n",
            "Epoch 2/200\n",
            "250/250 [==============================] - 0s 1ms/step - loss: 6725.5806 - mse: 6725.5806 - val_loss: 7258.7969 - val_mse: 7258.7969\n",
            "Epoch 3/200\n",
            "250/250 [==============================] - 0s 1ms/step - loss: 6492.4126 - mse: 6492.4126 - val_loss: 6953.0410 - val_mse: 6953.0410\n",
            "Epoch 4/200\n",
            "250/250 [==============================] - 0s 1ms/step - loss: 6228.4580 - mse: 6228.4580 - val_loss: 6622.1758 - val_mse: 6622.1758\n",
            "Epoch 5/200\n",
            "250/250 [==============================] - 0s 1ms/step - loss: 5962.8447 - mse: 5962.8447 - val_loss: 6313.7588 - val_mse: 6313.7588\n",
            "Epoch 6/200\n",
            "250/250 [==============================] - 0s 1ms/step - loss: 5724.8008 - mse: 5724.8008 - val_loss: 6036.6836 - val_mse: 6036.6836\n",
            "Epoch 7/200\n",
            "250/250 [==============================] - 0s 1ms/step - loss: 5511.6875 - mse: 5511.6875 - val_loss: 5789.6143 - val_mse: 5789.6143\n",
            "Epoch 8/200\n",
            "250/250 [==============================] - 0s 1ms/step - loss: 5322.2598 - mse: 5322.2598 - val_loss: 5579.2446 - val_mse: 5579.2446\n",
            "Epoch 9/200\n",
            "250/250 [==============================] - 0s 1ms/step - loss: 5156.9019 - mse: 5156.9019 - val_loss: 5394.3154 - val_mse: 5394.3154\n",
            "Epoch 10/200\n",
            "250/250 [==============================] - 0s 1ms/step - loss: 5011.1685 - mse: 5011.1685 - val_loss: 5231.4536 - val_mse: 5231.4536\n",
            "Epoch 11/200\n",
            "250/250 [==============================] - 0s 1ms/step - loss: 4881.5518 - mse: 4881.5518 - val_loss: 5084.2104 - val_mse: 5084.2104\n",
            "Epoch 12/200\n",
            "250/250 [==============================] - 0s 1ms/step - loss: 4767.0425 - mse: 4767.0425 - val_loss: 4958.8843 - val_mse: 4958.8843\n",
            "Epoch 13/200\n",
            "250/250 [==============================] - 0s 1ms/step - loss: 4664.9653 - mse: 4664.9653 - val_loss: 4845.6045 - val_mse: 4845.6045\n",
            "Epoch 14/200\n",
            "250/250 [==============================] - 0s 1ms/step - loss: 4573.4194 - mse: 4573.4194 - val_loss: 4743.8564 - val_mse: 4743.8564\n",
            "Epoch 15/200\n",
            "250/250 [==============================] - 0s 1ms/step - loss: 4490.9751 - mse: 4490.9751 - val_loss: 4652.7822 - val_mse: 4652.7822\n",
            "Epoch 16/200\n",
            "250/250 [==============================] - 0s 1ms/step - loss: 4415.6260 - mse: 4415.6260 - val_loss: 4572.2524 - val_mse: 4572.2524\n",
            "Epoch 17/200\n",
            "250/250 [==============================] - 0s 1ms/step - loss: 4347.7183 - mse: 4347.7183 - val_loss: 4499.6289 - val_mse: 4499.6289\n",
            "Epoch 18/200\n",
            "250/250 [==============================] - 0s 1ms/step - loss: 4284.4609 - mse: 4284.4609 - val_loss: 4434.3662 - val_mse: 4434.3662\n",
            "Epoch 19/200\n",
            "250/250 [==============================] - 0s 1ms/step - loss: 4226.4082 - mse: 4226.4082 - val_loss: 4372.9761 - val_mse: 4372.9761\n",
            "Epoch 20/200\n",
            "250/250 [==============================] - 0s 1ms/step - loss: 4173.6338 - mse: 4173.6338 - val_loss: 4315.8652 - val_mse: 4315.8652\n",
            "Epoch 21/200\n",
            "250/250 [==============================] - 0s 1ms/step - loss: 4125.5073 - mse: 4125.5073 - val_loss: 4266.3535 - val_mse: 4266.3535\n",
            "Epoch 22/200\n",
            "250/250 [==============================] - 0s 1ms/step - loss: 4082.3679 - mse: 4082.3679 - val_loss: 4219.7788 - val_mse: 4219.7788\n",
            "Epoch 23/200\n",
            "250/250 [==============================] - 0s 1ms/step - loss: 4042.5557 - mse: 4042.5557 - val_loss: 4179.8965 - val_mse: 4179.8965\n",
            "Epoch 24/200\n",
            "250/250 [==============================] - 0s 1ms/step - loss: 4005.7466 - mse: 4005.7466 - val_loss: 4141.3569 - val_mse: 4141.3569\n",
            "Epoch 25/200\n",
            "250/250 [==============================] - 0s 1ms/step - loss: 3972.1978 - mse: 3972.1978 - val_loss: 4105.7729 - val_mse: 4105.7729\n",
            "Epoch 26/200\n",
            "250/250 [==============================] - 0s 1ms/step - loss: 3940.7546 - mse: 3940.7546 - val_loss: 4073.8342 - val_mse: 4073.8342\n",
            "Epoch 27/200\n",
            "250/250 [==============================] - 0s 1ms/step - loss: 3911.5000 - mse: 3911.5000 - val_loss: 4042.1602 - val_mse: 4042.1602\n",
            "Epoch 28/200\n",
            "250/250 [==============================] - 0s 1ms/step - loss: 3884.5620 - mse: 3884.5620 - val_loss: 4012.5833 - val_mse: 4012.5833\n",
            "Epoch 29/200\n",
            "250/250 [==============================] - 0s 1ms/step - loss: 3859.2087 - mse: 3859.2087 - val_loss: 3986.6602 - val_mse: 3986.6602\n",
            "Epoch 30/200\n",
            "250/250 [==============================] - 0s 1ms/step - loss: 3835.0190 - mse: 3835.0190 - val_loss: 3961.9275 - val_mse: 3961.9275\n",
            "Epoch 31/200\n",
            "250/250 [==============================] - 0s 1ms/step - loss: 3812.5046 - mse: 3812.5046 - val_loss: 3939.1729 - val_mse: 3939.1729\n",
            "Epoch 32/200\n",
            "250/250 [==============================] - 0s 1ms/step - loss: 3791.6821 - mse: 3791.6821 - val_loss: 3917.1091 - val_mse: 3917.1091\n",
            "Epoch 33/200\n",
            "250/250 [==============================] - 0s 1ms/step - loss: 3772.0806 - mse: 3772.0806 - val_loss: 3895.6428 - val_mse: 3895.6428\n",
            "Epoch 34/200\n",
            "250/250 [==============================] - 0s 1ms/step - loss: 3754.0017 - mse: 3754.0017 - val_loss: 3878.2534 - val_mse: 3878.2534\n",
            "Epoch 35/200\n",
            "250/250 [==============================] - 0s 1ms/step - loss: 3736.1709 - mse: 3736.1709 - val_loss: 3859.7351 - val_mse: 3859.7351\n",
            "Epoch 36/200\n",
            "250/250 [==============================] - 0s 1ms/step - loss: 3720.1816 - mse: 3720.1816 - val_loss: 3842.2290 - val_mse: 3842.2290\n",
            "Epoch 37/200\n",
            "250/250 [==============================] - 0s 1ms/step - loss: 3705.2373 - mse: 3705.2373 - val_loss: 3825.5476 - val_mse: 3825.5476\n",
            "Epoch 38/200\n",
            "250/250 [==============================] - 0s 1ms/step - loss: 3691.4119 - mse: 3691.4119 - val_loss: 3809.8423 - val_mse: 3809.8423\n",
            "Epoch 39/200\n",
            "250/250 [==============================] - 0s 1ms/step - loss: 3678.7112 - mse: 3678.7112 - val_loss: 3795.3054 - val_mse: 3795.3054\n",
            "Epoch 40/200\n",
            "250/250 [==============================] - 0s 1ms/step - loss: 3666.5417 - mse: 3666.5417 - val_loss: 3781.1504 - val_mse: 3781.1504\n",
            "Epoch 41/200\n",
            "250/250 [==============================] - 0s 1ms/step - loss: 3655.5215 - mse: 3655.5215 - val_loss: 3768.0000 - val_mse: 3768.0000\n",
            "Epoch 42/200\n",
            "250/250 [==============================] - 0s 1ms/step - loss: 3645.2966 - mse: 3645.2966 - val_loss: 3756.2410 - val_mse: 3756.2410\n",
            "Epoch 43/200\n",
            "250/250 [==============================] - 0s 1ms/step - loss: 3635.6516 - mse: 3635.6516 - val_loss: 3743.9736 - val_mse: 3743.9736\n",
            "Epoch 44/200\n",
            "250/250 [==============================] - 0s 1ms/step - loss: 3627.0049 - mse: 3627.0049 - val_loss: 3731.9019 - val_mse: 3731.9019\n",
            "Epoch 45/200\n",
            "250/250 [==============================] - 0s 1ms/step - loss: 3618.6462 - mse: 3618.6462 - val_loss: 3721.9155 - val_mse: 3721.9155\n",
            "Epoch 46/200\n",
            "250/250 [==============================] - 0s 1ms/step - loss: 3611.0789 - mse: 3611.0789 - val_loss: 3712.2483 - val_mse: 3712.2483\n",
            "Epoch 47/200\n",
            "250/250 [==============================] - 0s 1ms/step - loss: 3604.0081 - mse: 3604.0081 - val_loss: 3703.8113 - val_mse: 3703.8113\n",
            "Epoch 48/200\n",
            "250/250 [==============================] - 0s 1ms/step - loss: 3596.9536 - mse: 3596.9536 - val_loss: 3694.9270 - val_mse: 3694.9270\n",
            "Epoch 49/200\n",
            "250/250 [==============================] - 0s 1ms/step - loss: 3590.8066 - mse: 3590.8066 - val_loss: 3686.7542 - val_mse: 3686.7542\n",
            "Epoch 50/200\n",
            "250/250 [==============================] - 0s 1ms/step - loss: 3584.5718 - mse: 3584.5718 - val_loss: 3679.5769 - val_mse: 3679.5769\n",
            "Epoch 51/200\n",
            "250/250 [==============================] - 0s 1ms/step - loss: 3578.9553 - mse: 3578.9553 - val_loss: 3672.1226 - val_mse: 3672.1226\n",
            "Epoch 52/200\n",
            "250/250 [==============================] - 0s 1ms/step - loss: 3573.5754 - mse: 3573.5754 - val_loss: 3664.5681 - val_mse: 3664.5681\n",
            "Epoch 53/200\n",
            "250/250 [==============================] - 0s 1ms/step - loss: 3568.4810 - mse: 3568.4810 - val_loss: 3658.7524 - val_mse: 3658.7524\n",
            "Epoch 54/200\n",
            "250/250 [==============================] - 0s 1ms/step - loss: 3563.4441 - mse: 3563.4441 - val_loss: 3651.7644 - val_mse: 3651.7644\n",
            "Epoch 55/200\n",
            "250/250 [==============================] - 0s 1ms/step - loss: 3559.1619 - mse: 3559.1619 - val_loss: 3646.0422 - val_mse: 3646.0422\n",
            "Epoch 56/200\n",
            "250/250 [==============================] - 0s 1ms/step - loss: 3554.6951 - mse: 3554.6951 - val_loss: 3640.4812 - val_mse: 3640.4812\n",
            "Epoch 57/200\n",
            "250/250 [==============================] - 0s 1ms/step - loss: 3550.4663 - mse: 3550.4663 - val_loss: 3635.4558 - val_mse: 3635.4558\n",
            "Epoch 58/200\n",
            "250/250 [==============================] - 0s 1ms/step - loss: 3546.2527 - mse: 3546.2527 - val_loss: 3630.7371 - val_mse: 3630.7371\n",
            "Epoch 59/200\n",
            "250/250 [==============================] - 0s 1ms/step - loss: 3543.0010 - mse: 3543.0010 - val_loss: 3625.1846 - val_mse: 3625.1846\n",
            "Epoch 60/200\n",
            "250/250 [==============================] - 0s 1ms/step - loss: 3539.2759 - mse: 3539.2759 - val_loss: 3620.5303 - val_mse: 3620.5303\n",
            "Epoch 61/200\n",
            "250/250 [==============================] - 0s 1ms/step - loss: 3535.7837 - mse: 3535.7837 - val_loss: 3616.5078 - val_mse: 3616.5078\n",
            "Epoch 62/200\n",
            "250/250 [==============================] - 0s 1ms/step - loss: 3532.6353 - mse: 3532.6353 - val_loss: 3612.4565 - val_mse: 3612.4565\n",
            "Epoch 63/200\n",
            "250/250 [==============================] - 0s 1ms/step - loss: 3529.6887 - mse: 3529.6887 - val_loss: 3608.5339 - val_mse: 3608.5339\n",
            "Epoch 64/200\n",
            "250/250 [==============================] - 0s 1ms/step - loss: 3526.5884 - mse: 3526.5884 - val_loss: 3604.5146 - val_mse: 3604.5146\n",
            "Epoch 65/200\n",
            "250/250 [==============================] - 0s 1ms/step - loss: 3523.3655 - mse: 3523.3655 - val_loss: 3600.9907 - val_mse: 3600.9907\n",
            "Epoch 66/200\n",
            "250/250 [==============================] - 0s 1ms/step - loss: 3520.6392 - mse: 3520.6392 - val_loss: 3597.5889 - val_mse: 3597.5889\n",
            "Epoch 67/200\n",
            "250/250 [==============================] - 0s 2ms/step - loss: 3518.1118 - mse: 3518.1118 - val_loss: 3594.4080 - val_mse: 3594.4080\n",
            "Epoch 68/200\n",
            "250/250 [==============================] - 0s 1ms/step - loss: 3515.2993 - mse: 3515.2993 - val_loss: 3590.9397 - val_mse: 3590.9397\n",
            "Epoch 69/200\n",
            "250/250 [==============================] - 0s 1ms/step - loss: 3512.7515 - mse: 3512.7515 - val_loss: 3588.1431 - val_mse: 3588.1431\n",
            "Epoch 70/200\n",
            "250/250 [==============================] - 0s 1ms/step - loss: 3510.0366 - mse: 3510.0366 - val_loss: 3584.8638 - val_mse: 3584.8638\n",
            "Epoch 71/200\n",
            "250/250 [==============================] - 0s 1ms/step - loss: 3507.9729 - mse: 3507.9729 - val_loss: 3581.7732 - val_mse: 3581.7732\n",
            "Epoch 72/200\n",
            "250/250 [==============================] - 0s 1ms/step - loss: 3505.3550 - mse: 3505.3550 - val_loss: 3578.7820 - val_mse: 3578.7820\n",
            "Epoch 73/200\n",
            "250/250 [==============================] - 0s 1ms/step - loss: 3503.4062 - mse: 3503.4062 - val_loss: 3576.0735 - val_mse: 3576.0735\n",
            "Epoch 74/200\n",
            "250/250 [==============================] - 0s 1ms/step - loss: 3500.9458 - mse: 3500.9458 - val_loss: 3573.2092 - val_mse: 3573.2092\n",
            "Epoch 75/200\n",
            "250/250 [==============================] - 0s 1ms/step - loss: 3498.5845 - mse: 3498.5845 - val_loss: 3569.8586 - val_mse: 3569.8586\n",
            "Epoch 76/200\n",
            "250/250 [==============================] - 0s 1ms/step - loss: 3496.6506 - mse: 3496.6506 - val_loss: 3566.6726 - val_mse: 3566.6726\n",
            "Epoch 77/200\n",
            "250/250 [==============================] - 0s 1ms/step - loss: 3494.2437 - mse: 3494.2437 - val_loss: 3564.9487 - val_mse: 3564.9487\n",
            "Epoch 78/200\n",
            "250/250 [==============================] - 0s 1ms/step - loss: 3492.4104 - mse: 3492.4104 - val_loss: 3561.3220 - val_mse: 3561.3220\n",
            "Epoch 79/200\n",
            "250/250 [==============================] - 0s 1ms/step - loss: 3490.0200 - mse: 3490.0200 - val_loss: 3558.9048 - val_mse: 3558.9048\n",
            "Epoch 80/200\n",
            "250/250 [==============================] - 0s 1ms/step - loss: 3488.0193 - mse: 3488.0193 - val_loss: 3556.2080 - val_mse: 3556.2080\n",
            "Epoch 81/200\n",
            "250/250 [==============================] - 0s 1ms/step - loss: 3485.7581 - mse: 3485.7581 - val_loss: 3554.2642 - val_mse: 3554.2642\n",
            "Epoch 82/200\n",
            "250/250 [==============================] - 0s 1ms/step - loss: 3484.0959 - mse: 3484.0959 - val_loss: 3551.0884 - val_mse: 3551.0884\n",
            "Epoch 83/200\n",
            "250/250 [==============================] - 0s 1ms/step - loss: 3482.0791 - mse: 3482.0791 - val_loss: 3549.0706 - val_mse: 3549.0706\n",
            "Epoch 84/200\n",
            "250/250 [==============================] - 0s 1ms/step - loss: 3480.5791 - mse: 3480.5791 - val_loss: 3546.8032 - val_mse: 3546.8032\n",
            "Epoch 85/200\n",
            "250/250 [==============================] - 0s 1ms/step - loss: 3478.6624 - mse: 3478.6624 - val_loss: 3544.7109 - val_mse: 3544.7109\n",
            "Epoch 86/200\n",
            "250/250 [==============================] - 0s 1ms/step - loss: 3476.7070 - mse: 3476.7070 - val_loss: 3541.9377 - val_mse: 3541.9377\n",
            "Epoch 87/200\n",
            "250/250 [==============================] - 0s 1ms/step - loss: 3474.9287 - mse: 3474.9287 - val_loss: 3539.4861 - val_mse: 3539.4861\n",
            "Epoch 88/200\n",
            "250/250 [==============================] - 0s 1ms/step - loss: 3473.1458 - mse: 3473.1458 - val_loss: 3537.0427 - val_mse: 3537.0427\n",
            "Epoch 89/200\n",
            "250/250 [==============================] - 0s 1ms/step - loss: 3471.5310 - mse: 3471.5310 - val_loss: 3535.1060 - val_mse: 3535.1060\n",
            "Epoch 90/200\n",
            "250/250 [==============================] - 0s 1ms/step - loss: 3469.9897 - mse: 3469.9897 - val_loss: 3532.8047 - val_mse: 3532.8047\n",
            "Epoch 91/200\n",
            "250/250 [==============================] - 0s 1ms/step - loss: 3468.4128 - mse: 3468.4128 - val_loss: 3531.0464 - val_mse: 3531.0464\n",
            "Epoch 92/200\n",
            "250/250 [==============================] - 0s 1ms/step - loss: 3466.9250 - mse: 3466.9250 - val_loss: 3528.3652 - val_mse: 3528.3652\n",
            "Epoch 93/200\n",
            "250/250 [==============================] - 0s 1ms/step - loss: 3465.3586 - mse: 3465.3586 - val_loss: 3526.6328 - val_mse: 3526.6328\n",
            "Epoch 94/200\n",
            "250/250 [==============================] - 0s 1ms/step - loss: 3463.9500 - mse: 3463.9500 - val_loss: 3524.8535 - val_mse: 3524.8535\n",
            "Epoch 95/200\n",
            "250/250 [==============================] - 0s 1ms/step - loss: 3462.5142 - mse: 3462.5142 - val_loss: 3522.5554 - val_mse: 3522.5554\n",
            "Epoch 96/200\n",
            "250/250 [==============================] - 0s 1ms/step - loss: 3461.3130 - mse: 3461.3130 - val_loss: 3520.5701 - val_mse: 3520.5701\n",
            "Epoch 97/200\n",
            "250/250 [==============================] - 0s 1ms/step - loss: 3459.7664 - mse: 3459.7664 - val_loss: 3518.0071 - val_mse: 3518.0071\n",
            "Epoch 98/200\n",
            "250/250 [==============================] - 0s 1ms/step - loss: 3457.9517 - mse: 3457.9517 - val_loss: 3515.9055 - val_mse: 3515.9055\n",
            "Epoch 99/200\n",
            "250/250 [==============================] - 0s 1ms/step - loss: 3456.6082 - mse: 3456.6082 - val_loss: 3513.9116 - val_mse: 3513.9116\n",
            "Epoch 100/200\n",
            "250/250 [==============================] - 0s 1ms/step - loss: 3455.0454 - mse: 3455.0454 - val_loss: 3512.1416 - val_mse: 3512.1416\n",
            "Epoch 101/200\n",
            "250/250 [==============================] - 0s 1ms/step - loss: 3453.9275 - mse: 3453.9275 - val_loss: 3510.4492 - val_mse: 3510.4492\n",
            "Epoch 102/200\n",
            "250/250 [==============================] - 0s 1ms/step - loss: 3452.6113 - mse: 3452.6113 - val_loss: 3508.3694 - val_mse: 3508.3694\n",
            "Epoch 103/200\n",
            "250/250 [==============================] - 0s 1ms/step - loss: 3451.1646 - mse: 3451.1646 - val_loss: 3506.2605 - val_mse: 3506.2605\n",
            "Epoch 104/200\n",
            "250/250 [==============================] - 0s 1ms/step - loss: 3449.6775 - mse: 3449.6775 - val_loss: 3504.3474 - val_mse: 3504.3474\n",
            "Epoch 105/200\n",
            "250/250 [==============================] - 0s 1ms/step - loss: 3448.2817 - mse: 3448.2817 - val_loss: 3502.3613 - val_mse: 3502.3613\n",
            "Epoch 106/200\n",
            "250/250 [==============================] - 0s 1ms/step - loss: 3446.9116 - mse: 3446.9116 - val_loss: 3500.1880 - val_mse: 3500.1880\n",
            "Epoch 107/200\n",
            "250/250 [==============================] - 0s 1ms/step - loss: 3445.4756 - mse: 3445.4756 - val_loss: 3498.1240 - val_mse: 3498.1240\n",
            "Epoch 108/200\n",
            "250/250 [==============================] - 0s 1ms/step - loss: 3444.3015 - mse: 3444.3015 - val_loss: 3496.3933 - val_mse: 3496.3933\n",
            "Epoch 109/200\n",
            "250/250 [==============================] - 0s 1ms/step - loss: 3443.0374 - mse: 3443.0374 - val_loss: 3494.5244 - val_mse: 3494.5244\n",
            "Epoch 110/200\n",
            "250/250 [==============================] - 0s 1ms/step - loss: 3441.8965 - mse: 3441.8965 - val_loss: 3492.7554 - val_mse: 3492.7554\n",
            "Epoch 111/200\n",
            "250/250 [==============================] - 0s 1ms/step - loss: 3440.3630 - mse: 3440.3630 - val_loss: 3490.6580 - val_mse: 3490.6580\n",
            "Epoch 112/200\n",
            "250/250 [==============================] - 0s 1ms/step - loss: 3439.1497 - mse: 3439.1497 - val_loss: 3488.6497 - val_mse: 3488.6497\n",
            "Epoch 113/200\n",
            "250/250 [==============================] - 0s 1ms/step - loss: 3438.0120 - mse: 3438.0120 - val_loss: 3487.0198 - val_mse: 3487.0198\n",
            "Epoch 114/200\n",
            "250/250 [==============================] - 0s 1ms/step - loss: 3436.8560 - mse: 3436.8560 - val_loss: 3485.6082 - val_mse: 3485.6082\n",
            "Epoch 115/200\n",
            "250/250 [==============================] - 0s 1ms/step - loss: 3435.5481 - mse: 3435.5481 - val_loss: 3483.3853 - val_mse: 3483.3853\n",
            "Epoch 116/200\n",
            "250/250 [==============================] - 0s 1ms/step - loss: 3434.1721 - mse: 3434.1721 - val_loss: 3481.2437 - val_mse: 3481.2437\n",
            "Epoch 117/200\n",
            "250/250 [==============================] - 0s 1ms/step - loss: 3432.9021 - mse: 3432.9021 - val_loss: 3479.8738 - val_mse: 3479.8738\n",
            "Epoch 118/200\n",
            "250/250 [==============================] - 0s 1ms/step - loss: 3431.9827 - mse: 3431.9827 - val_loss: 3478.4451 - val_mse: 3478.4451\n",
            "Epoch 119/200\n",
            "250/250 [==============================] - 0s 1ms/step - loss: 3430.6592 - mse: 3430.6592 - val_loss: 3476.4778 - val_mse: 3476.4778\n",
            "Epoch 120/200\n",
            "250/250 [==============================] - 0s 1ms/step - loss: 3429.5862 - mse: 3429.5862 - val_loss: 3474.6379 - val_mse: 3474.6379\n",
            "Epoch 121/200\n",
            "250/250 [==============================] - 0s 1ms/step - loss: 3428.2666 - mse: 3428.2666 - val_loss: 3473.5276 - val_mse: 3473.5276\n",
            "Epoch 122/200\n",
            "250/250 [==============================] - 0s 1ms/step - loss: 3427.5281 - mse: 3427.5281 - val_loss: 3471.6042 - val_mse: 3471.6042\n",
            "Epoch 123/200\n",
            "250/250 [==============================] - 0s 1ms/step - loss: 3426.4246 - mse: 3426.4246 - val_loss: 3469.7500 - val_mse: 3469.7500\n",
            "Epoch 124/200\n",
            "250/250 [==============================] - 0s 1ms/step - loss: 3425.4421 - mse: 3425.4421 - val_loss: 3468.4719 - val_mse: 3468.4719\n",
            "Epoch 125/200\n",
            "250/250 [==============================] - 0s 1ms/step - loss: 3424.2600 - mse: 3424.2600 - val_loss: 3466.6711 - val_mse: 3466.6711\n",
            "Epoch 126/200\n",
            "250/250 [==============================] - 0s 1ms/step - loss: 3423.1016 - mse: 3423.1016 - val_loss: 3465.2952 - val_mse: 3465.2952\n",
            "Epoch 127/200\n",
            "250/250 [==============================] - 0s 1ms/step - loss: 3422.1353 - mse: 3422.1353 - val_loss: 3463.5891 - val_mse: 3463.5891\n",
            "Epoch 128/200\n",
            "250/250 [==============================] - 0s 1ms/step - loss: 3421.1477 - mse: 3421.1477 - val_loss: 3462.2603 - val_mse: 3462.2603\n",
            "Epoch 129/200\n",
            "250/250 [==============================] - 0s 1ms/step - loss: 3420.4480 - mse: 3420.4480 - val_loss: 3460.9656 - val_mse: 3460.9656\n",
            "Epoch 130/200\n",
            "250/250 [==============================] - 0s 1ms/step - loss: 3419.1072 - mse: 3419.1072 - val_loss: 3459.9973 - val_mse: 3459.9973\n",
            "Epoch 131/200\n",
            "250/250 [==============================] - 0s 1ms/step - loss: 3418.1035 - mse: 3418.1035 - val_loss: 3458.4382 - val_mse: 3458.4382\n",
            "Epoch 132/200\n",
            "250/250 [==============================] - 0s 1ms/step - loss: 3417.1584 - mse: 3417.1584 - val_loss: 3456.9858 - val_mse: 3456.9858\n",
            "Epoch 133/200\n",
            "250/250 [==============================] - 0s 1ms/step - loss: 3416.4280 - mse: 3416.4280 - val_loss: 3455.6890 - val_mse: 3455.6890\n",
            "Epoch 134/200\n",
            "250/250 [==============================] - 0s 1ms/step - loss: 3415.5005 - mse: 3415.5005 - val_loss: 3455.0115 - val_mse: 3455.0115\n",
            "Epoch 135/200\n",
            "250/250 [==============================] - 0s 1ms/step - loss: 3414.7402 - mse: 3414.7402 - val_loss: 3453.5752 - val_mse: 3453.5752\n",
            "Epoch 136/200\n",
            "250/250 [==============================] - 0s 1ms/step - loss: 3413.9382 - mse: 3413.9382 - val_loss: 3451.9836 - val_mse: 3451.9836\n",
            "Epoch 137/200\n",
            "250/250 [==============================] - 0s 1ms/step - loss: 3412.9578 - mse: 3412.9578 - val_loss: 3450.8240 - val_mse: 3450.8240\n",
            "Epoch 138/200\n",
            "250/250 [==============================] - 0s 1ms/step - loss: 3412.4675 - mse: 3412.4675 - val_loss: 3449.8259 - val_mse: 3449.8259\n",
            "Epoch 139/200\n",
            "250/250 [==============================] - 0s 1ms/step - loss: 3411.7024 - mse: 3411.7024 - val_loss: 3448.3030 - val_mse: 3448.3030\n",
            "Epoch 140/200\n",
            "250/250 [==============================] - 0s 1ms/step - loss: 3410.6335 - mse: 3410.6335 - val_loss: 3446.9280 - val_mse: 3446.9280\n",
            "Epoch 141/200\n",
            "250/250 [==============================] - 0s 1ms/step - loss: 3409.9158 - mse: 3409.9158 - val_loss: 3445.8618 - val_mse: 3445.8618\n",
            "Epoch 142/200\n",
            "250/250 [==============================] - 0s 1ms/step - loss: 3409.3230 - mse: 3409.3230 - val_loss: 3444.5203 - val_mse: 3444.5203\n",
            "Epoch 143/200\n",
            "250/250 [==============================] - 0s 1ms/step - loss: 3408.4138 - mse: 3408.4138 - val_loss: 3443.3186 - val_mse: 3443.3186\n",
            "Epoch 144/200\n",
            "250/250 [==============================] - 0s 1ms/step - loss: 3407.6660 - mse: 3407.6660 - val_loss: 3441.7080 - val_mse: 3441.7080\n",
            "Epoch 145/200\n",
            "250/250 [==============================] - 0s 1ms/step - loss: 3406.7375 - mse: 3406.7375 - val_loss: 3440.7217 - val_mse: 3440.7217\n",
            "Epoch 146/200\n",
            "250/250 [==============================] - 0s 1ms/step - loss: 3406.2910 - mse: 3406.2910 - val_loss: 3439.0459 - val_mse: 3439.0459\n",
            "Epoch 147/200\n",
            "250/250 [==============================] - 0s 1ms/step - loss: 3405.3608 - mse: 3405.3608 - val_loss: 3437.9690 - val_mse: 3437.9690\n",
            "Epoch 148/200\n",
            "250/250 [==============================] - 0s 1ms/step - loss: 3404.5076 - mse: 3404.5076 - val_loss: 3436.4819 - val_mse: 3436.4819\n",
            "Epoch 149/200\n",
            "250/250 [==============================] - 0s 1ms/step - loss: 3403.9836 - mse: 3403.9836 - val_loss: 3435.2827 - val_mse: 3435.2827\n",
            "Epoch 150/200\n",
            "250/250 [==============================] - 0s 1ms/step - loss: 3403.1697 - mse: 3403.1697 - val_loss: 3434.5471 - val_mse: 3434.5471\n",
            "Epoch 151/200\n",
            "250/250 [==============================] - 0s 1ms/step - loss: 3402.6694 - mse: 3402.6694 - val_loss: 3433.6802 - val_mse: 3433.6802\n",
            "Epoch 152/200\n",
            "250/250 [==============================] - 0s 1ms/step - loss: 3401.8369 - mse: 3401.8369 - val_loss: 3432.3523 - val_mse: 3432.3523\n",
            "Epoch 153/200\n",
            "250/250 [==============================] - 0s 1ms/step - loss: 3401.3452 - mse: 3401.3452 - val_loss: 3430.9941 - val_mse: 3430.9941\n",
            "Epoch 154/200\n",
            "250/250 [==============================] - 0s 1ms/step - loss: 3400.3599 - mse: 3400.3599 - val_loss: 3429.8140 - val_mse: 3429.8140\n",
            "Epoch 155/200\n",
            "250/250 [==============================] - 0s 1ms/step - loss: 3399.6023 - mse: 3399.6023 - val_loss: 3428.5088 - val_mse: 3428.5088\n",
            "Epoch 156/200\n",
            "250/250 [==============================] - 0s 1ms/step - loss: 3399.0044 - mse: 3399.0044 - val_loss: 3427.5972 - val_mse: 3427.5972\n",
            "Epoch 157/200\n",
            "250/250 [==============================] - 0s 1ms/step - loss: 3398.3230 - mse: 3398.3230 - val_loss: 3426.0159 - val_mse: 3426.0159\n",
            "Epoch 158/200\n",
            "250/250 [==============================] - 0s 1ms/step - loss: 3397.3582 - mse: 3397.3582 - val_loss: 3425.1506 - val_mse: 3425.1506\n",
            "Epoch 159/200\n",
            "250/250 [==============================] - 0s 1ms/step - loss: 3396.8406 - mse: 3396.8406 - val_loss: 3424.2786 - val_mse: 3424.2786\n",
            "Epoch 160/200\n",
            "250/250 [==============================] - 0s 1ms/step - loss: 3396.1211 - mse: 3396.1211 - val_loss: 3422.9473 - val_mse: 3422.9473\n",
            "Epoch 161/200\n",
            "250/250 [==============================] - 0s 1ms/step - loss: 3395.4399 - mse: 3395.4399 - val_loss: 3422.1111 - val_mse: 3422.1111\n",
            "Epoch 162/200\n",
            "250/250 [==============================] - 0s 1ms/step - loss: 3394.7629 - mse: 3394.7629 - val_loss: 3420.8809 - val_mse: 3420.8809\n",
            "Epoch 163/200\n",
            "250/250 [==============================] - 0s 1ms/step - loss: 3394.1116 - mse: 3394.1116 - val_loss: 3419.9004 - val_mse: 3419.9004\n",
            "Epoch 164/200\n",
            "250/250 [==============================] - 0s 1ms/step - loss: 3393.1089 - mse: 3393.1089 - val_loss: 3419.0525 - val_mse: 3419.0525\n",
            "Epoch 165/200\n",
            "250/250 [==============================] - 0s 1ms/step - loss: 3392.5178 - mse: 3392.5178 - val_loss: 3418.4541 - val_mse: 3418.4541\n",
            "Epoch 166/200\n",
            "250/250 [==============================] - 0s 1ms/step - loss: 3391.7590 - mse: 3391.7590 - val_loss: 3418.2087 - val_mse: 3418.2087\n",
            "Epoch 167/200\n",
            "250/250 [==============================] - 0s 1ms/step - loss: 3391.1829 - mse: 3391.1829 - val_loss: 3416.6902 - val_mse: 3416.6902\n",
            "Epoch 168/200\n",
            "250/250 [==============================] - 0s 1ms/step - loss: 3390.3945 - mse: 3390.3945 - val_loss: 3415.3184 - val_mse: 3415.3184\n",
            "Epoch 169/200\n",
            "250/250 [==============================] - 0s 1ms/step - loss: 3390.1809 - mse: 3390.1809 - val_loss: 3414.3108 - val_mse: 3414.3108\n",
            "Epoch 170/200\n",
            "250/250 [==============================] - 0s 1ms/step - loss: 3389.3621 - mse: 3389.3621 - val_loss: 3413.7754 - val_mse: 3413.7754\n",
            "Epoch 171/200\n",
            "250/250 [==============================] - 0s 1ms/step - loss: 3388.7156 - mse: 3388.7156 - val_loss: 3413.1296 - val_mse: 3413.1296\n",
            "Epoch 172/200\n",
            "250/250 [==============================] - 0s 1ms/step - loss: 3388.4685 - mse: 3388.4685 - val_loss: 3412.6733 - val_mse: 3412.6733\n",
            "Epoch 173/200\n",
            "250/250 [==============================] - 0s 1ms/step - loss: 3387.9382 - mse: 3387.9382 - val_loss: 3411.2361 - val_mse: 3411.2361\n",
            "Epoch 174/200\n",
            "250/250 [==============================] - 0s 1ms/step - loss: 3387.2913 - mse: 3387.2913 - val_loss: 3410.4995 - val_mse: 3410.4995\n",
            "Epoch 175/200\n",
            "250/250 [==============================] - 0s 1ms/step - loss: 3386.6494 - mse: 3386.6494 - val_loss: 3409.4294 - val_mse: 3409.4294\n",
            "Epoch 176/200\n",
            "250/250 [==============================] - 0s 1ms/step - loss: 3386.4153 - mse: 3386.4153 - val_loss: 3408.7422 - val_mse: 3408.7422\n",
            "Epoch 177/200\n",
            "250/250 [==============================] - 0s 1ms/step - loss: 3385.9402 - mse: 3385.9402 - val_loss: 3408.2705 - val_mse: 3408.2705\n",
            "Epoch 178/200\n",
            "250/250 [==============================] - 0s 1ms/step - loss: 3385.4307 - mse: 3385.4307 - val_loss: 3407.4309 - val_mse: 3407.4309\n",
            "Epoch 179/200\n",
            "250/250 [==============================] - 0s 1ms/step - loss: 3384.5684 - mse: 3384.5684 - val_loss: 3406.4519 - val_mse: 3406.4519\n",
            "Epoch 180/200\n",
            "250/250 [==============================] - 0s 1ms/step - loss: 3384.1423 - mse: 3384.1423 - val_loss: 3406.1980 - val_mse: 3406.1980\n",
            "Epoch 181/200\n",
            "250/250 [==============================] - 0s 1ms/step - loss: 3383.7478 - mse: 3383.7478 - val_loss: 3405.1509 - val_mse: 3405.1509\n",
            "Epoch 182/200\n",
            "250/250 [==============================] - 0s 1ms/step - loss: 3383.5906 - mse: 3383.5906 - val_loss: 3404.2830 - val_mse: 3404.2830\n",
            "Epoch 183/200\n",
            "250/250 [==============================] - 0s 1ms/step - loss: 3382.8584 - mse: 3382.8584 - val_loss: 3403.4897 - val_mse: 3403.4897\n",
            "Epoch 184/200\n",
            "250/250 [==============================] - 0s 1ms/step - loss: 3382.2205 - mse: 3382.2205 - val_loss: 3403.2676 - val_mse: 3403.2676\n",
            "Epoch 185/200\n",
            "250/250 [==============================] - 0s 1ms/step - loss: 3381.8789 - mse: 3381.8789 - val_loss: 3401.5955 - val_mse: 3401.5955\n",
            "Epoch 186/200\n",
            "250/250 [==============================] - 0s 1ms/step - loss: 3381.7495 - mse: 3381.7495 - val_loss: 3401.0789 - val_mse: 3401.0789\n",
            "Epoch 187/200\n",
            "250/250 [==============================] - 0s 1ms/step - loss: 3381.0918 - mse: 3381.0918 - val_loss: 3400.4846 - val_mse: 3400.4846\n",
            "Epoch 188/200\n",
            "250/250 [==============================] - 0s 1ms/step - loss: 3380.4993 - mse: 3380.4993 - val_loss: 3400.1072 - val_mse: 3400.1072\n",
            "Epoch 189/200\n",
            "250/250 [==============================] - 0s 1ms/step - loss: 3380.2898 - mse: 3380.2898 - val_loss: 3398.8987 - val_mse: 3398.8987\n",
            "Epoch 190/200\n",
            "250/250 [==============================] - 0s 1ms/step - loss: 3379.8350 - mse: 3379.8350 - val_loss: 3398.5371 - val_mse: 3398.5371\n",
            "Epoch 191/200\n",
            "250/250 [==============================] - 0s 1ms/step - loss: 3379.3894 - mse: 3379.3894 - val_loss: 3397.9526 - val_mse: 3397.9526\n",
            "Epoch 192/200\n",
            "250/250 [==============================] - 0s 1ms/step - loss: 3379.1375 - mse: 3379.1375 - val_loss: 3397.3796 - val_mse: 3397.3796\n",
            "Epoch 193/200\n",
            "250/250 [==============================] - 0s 1ms/step - loss: 3378.6770 - mse: 3378.6770 - val_loss: 3396.7659 - val_mse: 3396.7659\n",
            "Epoch 194/200\n",
            "250/250 [==============================] - 0s 1ms/step - loss: 3378.7109 - mse: 3378.7109 - val_loss: 3395.8127 - val_mse: 3395.8127\n",
            "Epoch 195/200\n",
            "250/250 [==============================] - 0s 1ms/step - loss: 3378.0864 - mse: 3378.0864 - val_loss: 3395.3301 - val_mse: 3395.3301\n",
            "Epoch 196/200\n",
            "250/250 [==============================] - 0s 1ms/step - loss: 3378.0386 - mse: 3378.0386 - val_loss: 3394.5425 - val_mse: 3394.5425\n",
            "Epoch 197/200\n",
            "250/250 [==============================] - 0s 1ms/step - loss: 3377.7651 - mse: 3377.7651 - val_loss: 3394.0945 - val_mse: 3394.0945\n",
            "Epoch 198/200\n",
            "250/250 [==============================] - 0s 1ms/step - loss: 3377.1667 - mse: 3377.1667 - val_loss: 3393.1240 - val_mse: 3393.1240\n",
            "Epoch 199/200\n",
            "250/250 [==============================] - 0s 1ms/step - loss: 3376.9766 - mse: 3376.9766 - val_loss: 3393.2437 - val_mse: 3393.2437\n",
            "Epoch 200/200\n",
            "250/250 [==============================] - 0s 1ms/step - loss: 3376.6702 - mse: 3376.6702 - val_loss: 3392.4543 - val_mse: 3392.4543\n"
          ],
          "name": "stdout"
        }
      ]
    },
    {
      "cell_type": "code",
      "metadata": {
        "id": "MSj0kifiSDfW",
        "colab_type": "code",
        "outputId": "d5743d06-b40e-42cf-f6d1-e3ac56aeffa4",
        "colab": {
          "base_uri": "https://localhost:8080/",
          "height": 283
        }
      },
      "source": [
        "plt.plot(report.history['loss'], label=\"loss = SGD\")"
      ],
      "execution_count": 113,
      "outputs": [
        {
          "output_type": "execute_result",
          "data": {
            "text/plain": [
              "[<matplotlib.lines.Line2D at 0x7fc683cdbc88>]"
            ]
          },
          "metadata": {
            "tags": []
          },
          "execution_count": 113
        },
        {
          "output_type": "display_data",
          "data": {
            "image/png": "[encoded data removed]",
            "text/plain": [
              "<Figure size 432x288 with 1 Axes>"
            ]
          },
          "metadata": {
            "tags": [],
            "needs_background": "light"
          }
        }
      ]
    },
    {
      "cell_type": "code",
      "metadata": {
        "id": "JgHtyGJCtS-_",
        "colab_type": "code",
        "outputId": "bbbfa360-072c-46ad-c321-f63675213e0d",
        "colab": {
          "base_uri": "https://localhost:8080/",
          "height": 52
        }
      },
      "source": [
        "print(X.shape)\n",
        "print(y.shape)"
      ],
      "execution_count": 114,
      "outputs": [
        {
          "output_type": "stream",
          "text": [
            "(10000, 1)\n",
            "(10000,)\n"
          ],
          "name": "stdout"
        }
      ]
    },
    {
      "cell_type": "code",
      "metadata": {
        "id": "yt3ghC0xt1oF",
        "colab_type": "code",
        "outputId": "ae863c86-90f1-48ca-9cc7-ed9de051f7ab",
        "colab": {
          "base_uri": "https://localhost:8080/",
          "height": 265
        }
      },
      "source": [
        "y_predicted = model.predict(X)\n",
        "plt.scatter(X,y, color='b')\n",
        "plt.scatter(X,y_predicted, color='r')\n",
        "plt.show()"
      ],
      "execution_count": 115,
      "outputs": [
        {
          "output_type": "display_data",
          "data": {
            "image/png": "[encoded data removed]",
            "text/plain": [
              "<Figure size 432x288 with 1 Axes>"
            ]
          },
          "metadata": {
            "tags": [],
            "needs_background": "light"
          }
        }
      ]
    },
    {
      "cell_type": "code",
      "metadata": {
        "id": "LuietUFpEG5a",
        "colab_type": "code",
        "outputId": "62da1de0-3e39-400a-f909-4b7f89557841",
        "colab": {
          "base_uri": "https://localhost:8080/",
          "height": 87
        }
      },
      "source": [
        "print(\"Train eval: \", model.evaluate(X_train, y_train))\n",
        "print(\"Test eval: \", model.evaluate(X_test, y_test))"
      ],
      "execution_count": 116,
      "outputs": [
        {
          "output_type": "stream",
          "text": [
            "250/250 [==============================] - 0s 928us/step - loss: 3375.7932 - mse: 3375.7932\n",
            "Train eval:  [3375.793212890625, 3375.793212890625]\n",
            "63/63 [==============================] - 0s 764us/step - loss: 3392.4543 - mse: 3392.4543\n",
            "Test eval:  [3392.454345703125, 3392.454345703125]\n"
          ],
          "name": "stdout"
        }
      ]
    }
  ]
}