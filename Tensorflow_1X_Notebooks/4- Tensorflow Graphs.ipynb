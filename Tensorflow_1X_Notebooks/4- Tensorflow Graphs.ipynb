{
 "cells": [
  {
   "cell_type": "markdown",
   "metadata": {},
   "source": [
    "# TENSORFLOW GRAPHS\n",
    "\n",
    "Welcome to the second tensorflow tutorial. In this tutorial we will get acquainted with the tensorflow graphs. \n",
    "\n",
    "Graphs are a set of connected nodes. The nodes are connected via edges. Each node can have inputs, evaluate some operation on them and shoot an output. The graphs are working behind the scenes hence we will only get a basic knowledge of them.\n",
    "\n",
    "The main purpose of this tutorial is to give you a conceptual picture of graphs as a lot of errors in tensorflow are observed due to being in the wrong graph. "
   ]
  },
  {
   "cell_type": "code",
   "execution_count": 18,
   "metadata": {},
   "outputs": [
    {
     "data": {
      "text/plain": [
       "<tensorflow.python.framework.ops.Graph at 0x1af8e788978>"
      ]
     },
     "execution_count": 18,
     "metadata": {},
     "output_type": "execute_result"
    }
   ],
   "source": [
    "# Tensorflow has a default graph variable in place\n",
    "import tensorflow as tf\n",
    "default = tf.get_default_graph()\n",
    "default"
   ]
  },
  {
   "cell_type": "code",
   "execution_count": 19,
   "metadata": {},
   "outputs": [
    {
     "data": {
      "text/plain": [
       "<tensorflow.python.framework.ops.Graph at 0x1af93c3a278>"
      ]
     },
     "execution_count": 19,
     "metadata": {},
     "output_type": "execute_result"
    }
   ],
   "source": [
    "new_graph = tf.Graph()\n",
    "new_graph"
   ]
  },
  {
   "cell_type": "code",
   "execution_count": 20,
   "metadata": {},
   "outputs": [
    {
     "data": {
      "text/plain": [
       "True"
      ]
     },
     "execution_count": 20,
     "metadata": {},
     "output_type": "execute_result"
    }
   ],
   "source": [
    "default is tf.get_default_graph()"
   ]
  },
  {
   "cell_type": "code",
   "execution_count": 21,
   "metadata": {},
   "outputs": [
    {
     "data": {
      "text/plain": [
       "False"
      ]
     },
     "execution_count": 21,
     "metadata": {},
     "output_type": "execute_result"
    }
   ],
   "source": [
    "new_graph is tf.get_default_graph()"
   ]
  },
  {
   "cell_type": "markdown",
   "metadata": {},
   "source": [
    "The following image provides a clear understanding of Graphs.\n",
    "\n",
    "<img src=\"graph.png\" width=\"500\"> \n",
    "\n",
    "Image taken from Hands-On Machine Learning with Scikit-Learn and TensorFlow by Aurélien Géron.\n"
   ]
  },
  {
   "cell_type": "code",
   "execution_count": 26,
   "metadata": {},
   "outputs": [
    {
     "name": "stdout",
     "output_type": "stream",
     "text": [
      "True\n",
      "53\n"
     ]
    }
   ],
   "source": [
    "with new_graph.as_default():\n",
    "    print(new_graph is tf.get_default_graph())\n",
    "    x = tf.constant(4)\n",
    "    y = tf.constant(3)\n",
    "    xsquare = x * x \n",
    "    yplus2 = y + tf.constant(2)\n",
    "    xsquarey = xsquare * y\n",
    "    result = xsquarey + yplus2\n",
    "    with tf.Session() as sess:\n",
    "        print(result.eval())\n"
   ]
  },
  {
   "cell_type": "code",
   "execution_count": 27,
   "metadata": {},
   "outputs": [
    {
     "data": {
      "text/plain": [
       "53"
      ]
     },
     "execution_count": 27,
     "metadata": {},
     "output_type": "execute_result"
    }
   ],
   "source": [
    "x = 4\n",
    "y = 3\n",
    "xsquare = x * x \n",
    "yplus2 = y + 2\n",
    "xsquarey = xsquare * y\n",
    "result = xsquarey + yplus2\n",
    "result"
   ]
  },
  {
   "cell_type": "markdown",
   "metadata": {},
   "source": [
    "### WELCOME TO THE END OF THE TUTORIAL\n",
    "\n",
    "Hope you enjoyed this tutorial. We will dive right into the tensorflow variables and placeholders starting from the next tutorial.\n",
    "\n",
    "---------------------------------------------------------------------------------------\n",
    "Copyrights © 2018, All Rights Reserved.\n",
    "- Author: Mahnoor Anjum.\n",
    "- Course: The Complete Hands-On Machine Learning Course\n",
    "- Date Created: 2018-07-08\n",
    "- Date Modified: -"
   ]
  }
 ],
 "metadata": {
  "kernelspec": {
   "display_name": "Python 3",
   "language": "python",
   "name": "python3"
  },
  "language_info": {
   "codemirror_mode": {
    "name": "ipython",
    "version": 3
   },
   "file_extension": ".py",
   "mimetype": "text/x-python",
   "name": "python",
   "nbconvert_exporter": "python",
   "pygments_lexer": "ipython3",
   "version": "3.5.4"
  }
 },
 "nbformat": 4,
 "nbformat_minor": 2
}
