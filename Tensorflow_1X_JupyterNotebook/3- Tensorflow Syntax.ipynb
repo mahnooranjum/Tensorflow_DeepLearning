{
 "cells": [
  {
   "cell_type": "markdown",
   "metadata": {},
   "source": [
    "# TENSORFLOW SYNTAX\n",
    "\n",
    "Welcome to the first tensorflow tutorial. Tensorflow is a library developed by Google for deploying deep learning models. \n",
    "\n",
    "It is an excellent tool for it's job and is the most widely used neural networks deployment library to date. \n",
    "\n",
    "We will be covering the basic syntax of tensorflow. For this section of the course, I will recommend a revision of the OOP tutorial of Section 1: Data Wrangling in Python."
   ]
  },
  {
   "cell_type": "code",
   "execution_count": 3,
   "metadata": {},
   "outputs": [
    {
     "name": "stdout",
     "output_type": "stream",
     "text": [
      "1.7.0\n"
     ]
    }
   ],
   "source": [
    "import tensorflow as tf\n",
    "print(tf.__version__) #THIS IS A DUNDER :D"
   ]
  },
  {
   "cell_type": "code",
   "execution_count": 6,
   "metadata": {},
   "outputs": [
    {
     "name": "stdout",
     "output_type": "stream",
     "text": [
      "<class 'tensorflow.python.framework.ops.Tensor'>\n",
      "Tensor(\"Const_3:0\", shape=(), dtype=string)\n"
     ]
    }
   ],
   "source": [
    "h = tf.constant(\"Hello \")\n",
    "w = tf.constant(\"World\")\n",
    "print(type(h))\n",
    "print(w)"
   ]
  },
  {
   "cell_type": "code",
   "execution_count": 11,
   "metadata": {},
   "outputs": [
    {
     "name": "stdout",
     "output_type": "stream",
     "text": [
      "b'Hello '\n",
      "b'World'\n",
      "b'Hello World'\n"
     ]
    }
   ],
   "source": [
    "with tf.Session()as sess:\n",
    "    hello = sess.run(h)\n",
    "    world = sess.run(w)\n",
    "    result = sess.run(h+w)\n",
    "\n",
    "    \n",
    "print(hello)\n",
    "print(world)\n",
    "print(result)\n",
    "#B SHOWS THE BYTES LITERAL"
   ]
  },
  {
   "cell_type": "code",
   "execution_count": 12,
   "metadata": {},
   "outputs": [
    {
     "name": "stdout",
     "output_type": "stream",
     "text": [
      "500\n"
     ]
    }
   ],
   "source": [
    "num = tf.constant(300)\n",
    "num1 = tf.constant(200)\n",
    "with tf.Session() as s:\n",
    "    result = s.run(num+num1)\n",
    "print(result)"
   ]
  },
  {
   "cell_type": "code",
   "execution_count": 18,
   "metadata": {},
   "outputs": [
    {
     "name": "stdout",
     "output_type": "stream",
     "text": [
      "10\n",
      "==============================\n",
      "[[23 23 23 23]\n",
      " [23 23 23 23]\n",
      " [23 23 23 23]\n",
      " [23 23 23 23]]\n",
      "==============================\n",
      "[[ 0.  0.  0.  0.]\n",
      " [ 0.  0.  0.  0.]\n",
      " [ 0.  0.  0.  0.]\n",
      " [ 0.  0.  0.  0.]]\n",
      "==============================\n",
      "[[ 1.  1.  1.  1.]\n",
      " [ 1.  1.  1.  1.]\n",
      " [ 1.  1.  1.  1.]\n",
      " [ 1.  1.  1.  1.]]\n",
      "==============================\n",
      "[[-0.08971488 -2.4489367  -0.5885253  -0.65666562]\n",
      " [ 1.09055328 -1.13941479 -2.79758286 -3.47856522]\n",
      " [ 2.50715923  0.1676262   1.47900081 -2.88066745]\n",
      " [-1.13349605  1.09865701 -2.19646621 -2.04656053]]\n",
      "==============================\n",
      "[[ 1.1987927   0.38766313  0.52204633  0.48264217]\n",
      " [ 1.41786647  1.25314617  1.62234402  0.37099385]\n",
      " [ 0.40050292  0.0166266   1.1379137   0.49119544]\n",
      " [ 0.98850083  0.52497005  0.57458401  1.70849514]]\n",
      "==============================\n"
     ]
    }
   ],
   "source": [
    "const = tf.constant(10)\n",
    "fill_mat = tf.fill((4,4),23)\n",
    "zeros = tf.zeros((4,4))\n",
    "ones = tf.ones((4,4))\n",
    "randn = tf.random_normal((4,4), mean=0, stddev = 2)\n",
    "randu = tf.random_uniform((4,4), minval=0, maxval=2)\n",
    "operations = [const, fill_mat, zeros, ones, randn, randu]\n",
    "s = tf.InteractiveSession()\n",
    "for operation in operations:\n",
    "    print(s.run(operation))\n",
    "    print(\"==============================\")"
   ]
  },
  {
   "cell_type": "code",
   "execution_count": 19,
   "metadata": {},
   "outputs": [
    {
     "name": "stdout",
     "output_type": "stream",
     "text": [
      "10\n",
      "==============================\n",
      "[[23 23 23 23]\n",
      " [23 23 23 23]\n",
      " [23 23 23 23]\n",
      " [23 23 23 23]]\n",
      "==============================\n",
      "[[ 0.  0.  0.  0.]\n",
      " [ 0.  0.  0.  0.]\n",
      " [ 0.  0.  0.  0.]\n",
      " [ 0.  0.  0.  0.]]\n",
      "==============================\n",
      "[[ 1.  1.  1.  1.]\n",
      " [ 1.  1.  1.  1.]\n",
      " [ 1.  1.  1.  1.]\n",
      " [ 1.  1.  1.  1.]]\n",
      "==============================\n",
      "[[ 0.40992892 -0.93508863  0.7543242  -2.13977218]\n",
      " [ 2.86707973  0.59480572 -3.8979075   3.71918488]\n",
      " [-0.65388137  0.62515414  1.63879418 -1.27152324]\n",
      " [-0.95493406  0.00869193  3.17239714 -3.65313268]]\n",
      "==============================\n",
      "[[ 1.30078387  0.41177964  1.37098885  1.97358489]\n",
      " [ 0.87096667  1.02447724  1.37420726  0.49381781]\n",
      " [ 0.72756815  1.73479152  0.66269803  1.9307456 ]\n",
      " [ 1.4154892   0.11774182  0.92721224  0.53510332]]\n",
      "==============================\n"
     ]
    }
   ],
   "source": [
    "for operation in operations:\n",
    "    print(operation.eval())\n",
    "    print(\"==============================\")"
   ]
  },
  {
   "cell_type": "code",
   "execution_count": 23,
   "metadata": {},
   "outputs": [
    {
     "name": "stdout",
     "output_type": "stream",
     "text": [
      "[[11]\n",
      " [25]]\n"
     ]
    }
   ],
   "source": [
    "mat1 = tf.constant([[1,2],\n",
    "                  [3,4]])\n",
    "mat2 = tf.constant([[3],[4]])\n",
    "mat1.get_shape()\n",
    "mat2.get_shape()\n",
    "result = tf.matmul(mat1,mat2)\n",
    "result = result.eval()\n",
    "print(result)"
   ]
  },
  {
   "cell_type": "markdown",
   "metadata": {},
   "source": [
    "### WELCOME TO THE END OF THE TUTORIAL\n",
    "\n",
    "Hope you enjoyed this light introduction to tensorflow. We will dive right into the tensorflow graphs starting from the next tutorial. Until then, enjoy deep learning!\n",
    "\n",
    "---------------------------------------------------------------------------------------\n",
    "Copyrights © 2018, All Rights Reserved.\n",
    "- Author: Mahnoor Anjum.\n",
    "- Course: The Complete Hands-On Machine Learning Course\n",
    "- Date Created: 2018-07-08\n",
    "- Date Modified: -"
   ]
  }
 ],
 "metadata": {
  "kernelspec": {
   "display_name": "Python 3",
   "language": "python",
   "name": "python3"
  },
  "language_info": {
   "codemirror_mode": {
    "name": "ipython",
    "version": 3
   },
   "file_extension": ".py",
   "mimetype": "text/x-python",
   "name": "python",
   "nbconvert_exporter": "python",
   "pygments_lexer": "ipython3",
   "version": "3.5.4"
  }
 },
 "nbformat": 4,
 "nbformat_minor": 2
}
