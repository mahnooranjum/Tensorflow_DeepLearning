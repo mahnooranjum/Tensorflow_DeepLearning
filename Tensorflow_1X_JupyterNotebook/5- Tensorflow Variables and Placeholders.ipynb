{
 "cells": [
  {
   "cell_type": "markdown",
   "metadata": {},
   "source": [
    "# TENSORFLOW VARIABLES AND PLACEHOLDERS\n",
    "\n",
    "Welcome to the third tensorflow tutorial. In this tutorial we will get acquainted with the tensorflow variables and placeholders. For a deeper understanding of the variables, let's go over the easier way of creating the graph."
   ]
  },
  {
   "cell_type": "markdown",
   "metadata": {},
   "source": [
    "Variables hold the values of weights and biases (tunable parameters) throughout sessions. They need to be initialized. \n",
    "Placeholders are empty with a declaration of data type. \n",
    "\n",
    "<img src=\"graph.png\" width=\"500\"> \n",
    "\n"
   ]
  },
  {
   "cell_type": "code",
   "execution_count": 25,
   "metadata": {},
   "outputs": [
    {
     "name": "stdout",
     "output_type": "stream",
     "text": [
      "53\n"
     ]
    }
   ],
   "source": [
    "import tensorflow as tf\n",
    "xv = tf.Variable(4, name='x')\n",
    "yv = tf.Variable(3, name='y')\n",
    "rv = xv*xv*yv + yv + 2\n",
    "sess = tf.Session()\n",
    "sess.run(xv.initializer)\n",
    "sess.run(yv.initializer)\n",
    "resultv = sess.run(rv)\n",
    "print(resultv)\n",
    "sess.close()"
   ]
  },
  {
   "cell_type": "code",
   "execution_count": 26,
   "metadata": {},
   "outputs": [
    {
     "data": {
      "text/plain": [
       "53"
      ]
     },
     "execution_count": 26,
     "metadata": {},
     "output_type": "execute_result"
    }
   ],
   "source": [
    "with tf.Session() as sess:\n",
    "    xv.initializer.run()\n",
    "    yv.initializer.run()\n",
    "    resultv = rv.eval()\n",
    "resultv"
   ]
  },
  {
   "cell_type": "code",
   "execution_count": 27,
   "metadata": {},
   "outputs": [
    {
     "data": {
      "text/plain": [
       "53"
      ]
     },
     "execution_count": 27,
     "metadata": {},
     "output_type": "execute_result"
    }
   ],
   "source": [
    "sess = tf.InteractiveSession()\n",
    "xv.initializer.run()\n",
    "yv.initializer.run()\n",
    "resultv = rv.eval()\n",
    "resultv"
   ]
  },
  {
   "cell_type": "code",
   "execution_count": 28,
   "metadata": {},
   "outputs": [
    {
     "name": "stdout",
     "output_type": "stream",
     "text": [
      "Tensor(\"random_uniform_6:0\", shape=(5, 5), dtype=float32)\n",
      "<tf.Variable 'Variable_6:0' shape=(5, 5) dtype=float32_ref>\n"
     ]
    },
    {
     "data": {
      "text/plain": [
       "array([[ 0.11244166,  0.98029923,  0.12963641,  0.03473532,  0.05956221],\n",
       "       [ 0.36414433,  0.56505144,  0.71076643,  0.38245571,  0.19753623],\n",
       "       [ 0.97933638,  0.71672094,  0.81935942,  0.89005268,  0.13637292],\n",
       "       [ 0.62339723,  0.57188368,  0.06897092,  0.7470963 ,  0.15252972],\n",
       "       [ 0.13535011,  0.54926693,  0.5186007 ,  0.49126935,  0.91440868]], dtype=float32)"
      ]
     },
     "execution_count": 28,
     "metadata": {},
     "output_type": "execute_result"
    }
   ],
   "source": [
    "sess = tf.InteractiveSession()\n",
    "values = tf.random_uniform((5,5), 0,1)\n",
    "print(values)\n",
    "variable = tf.Variable(initial_value = values)\n",
    "print(variable)\n",
    "variable.initializer.run()\n",
    "result = variable.eval()\n",
    "result"
   ]
  },
  {
   "cell_type": "code",
   "execution_count": 29,
   "metadata": {},
   "outputs": [
    {
     "name": "stdout",
     "output_type": "stream",
     "text": [
      "Tensor(\"random_uniform_7:0\", shape=(4, 4), dtype=float32)\n",
      "<tf.Variable 'Variable_7:0' shape=(4, 4) dtype=float32_ref>\n"
     ]
    },
    {
     "data": {
      "text/plain": [
       "array([[ 0.03605425,  0.84891546,  0.35849261,  0.04988337],\n",
       "       [ 0.35887408,  0.39182818,  0.34139442,  0.60338497],\n",
       "       [ 0.39240336,  0.07540441,  0.51883948,  0.99883306],\n",
       "       [ 0.03452265,  0.35440135,  0.21642506,  0.9774971 ]], dtype=float32)"
      ]
     },
     "execution_count": 29,
     "metadata": {},
     "output_type": "execute_result"
    }
   ],
   "source": [
    "val = tf.random_uniform((4,4),0,1)\n",
    "print(val)\n",
    "var = tf.Variable(initial_value = val)\n",
    "print(var)\n",
    "init = tf.global_variables_initializer()\n",
    "init.run()\n",
    "res = var.eval()\n",
    "res"
   ]
  },
  {
   "cell_type": "code",
   "execution_count": 30,
   "metadata": {},
   "outputs": [
    {
     "data": {
      "text/plain": [
       "53.0"
      ]
     },
     "execution_count": 30,
     "metadata": {},
     "output_type": "execute_result"
    }
   ],
   "source": [
    "xph = tf.placeholder(tf.float32)\n",
    "yph = tf.placeholder(tf.float32)\n",
    "rph = xph*xph*yph + yph + 2\n",
    "i = {xph: [[1,2,3],[3,4,5],[5,6,7]], yph:[[5,5,5],[7,7,7],[9,9,9]]}\n",
    "inp = {xph:4, yph:3}\n",
    "with tf.Session() as sess:\n",
    "    resultph = sess.run(rph, feed_dict = inp)\n",
    "resultph"
   ]
  },
  {
   "cell_type": "code",
   "execution_count": 31,
   "metadata": {},
   "outputs": [
    {
     "data": {
      "text/plain": [
       "()"
      ]
     },
     "execution_count": 31,
     "metadata": {},
     "output_type": "execute_result"
    }
   ],
   "source": [
    "import numpy as np\n",
    "np.shape(resultph)"
   ]
  },
  {
   "cell_type": "code",
   "execution_count": 32,
   "metadata": {},
   "outputs": [
    {
     "data": {
      "text/plain": [
       "numpy.float32"
      ]
     },
     "execution_count": 32,
     "metadata": {},
     "output_type": "execute_result"
    }
   ],
   "source": [
    "type(resultph)"
   ]
  },
  {
   "cell_type": "markdown",
   "metadata": {},
   "source": [
    "### WELCOME TO THE END OF THE TUTORIAL\n",
    "\n",
    "Hope you enjoyed this tutorial. We will start building an artificial neural network from the next tutorial. Until then, enjoy Deep Learning.\n",
    "\n",
    "---------------------------------------------------------------------------------------\n",
    "Copyrights © 2018, All Rights Reserved.\n",
    "- Author: Mahnoor Anjum.\n",
    "- Course: The Complete Hands-On Machine Learning Course\n",
    "- Date Created: 2018-07-08\n",
    "- Date Modified: -"
   ]
  }
 ],
 "metadata": {
  "kernelspec": {
   "display_name": "Python 3",
   "language": "python",
   "name": "python3"
  },
  "language_info": {
   "codemirror_mode": {
    "name": "ipython",
    "version": 3
   },
   "file_extension": ".py",
   "mimetype": "text/x-python",
   "name": "python",
   "nbconvert_exporter": "python",
   "pygments_lexer": "ipython3",
   "version": "3.5.4"
  }
 },
 "nbformat": 4,
 "nbformat_minor": 2
}
