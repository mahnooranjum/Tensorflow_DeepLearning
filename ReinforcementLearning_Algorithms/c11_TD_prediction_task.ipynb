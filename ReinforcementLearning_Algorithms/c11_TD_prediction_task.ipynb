{
 "cells": [
  {
   "cell_type": "markdown",
   "metadata": {},
   "source": [
    "# Reference: \n",
    "    \n",
    "Deep Reinforcement Learning with Python\n",
    "\n",
    "By: Sudharsan Ravichandiran\n",
    "\n"
   ]
  },
  {
   "cell_type": "code",
   "execution_count": 32,
   "metadata": {},
   "outputs": [],
   "source": [
    "import gym\n",
    "import pandas as pd\n",
    "import random"
   ]
  },
  {
   "cell_type": "code",
   "execution_count": 33,
   "metadata": {},
   "outputs": [],
   "source": [
    "env = gym.make('FrozenLake-v1')"
   ]
  },
  {
   "cell_type": "code",
   "execution_count": 34,
   "metadata": {},
   "outputs": [],
   "source": [
    "V = {}\n",
    "for s in range(env.observation_space.n):\n",
    "    V[s] = 0.0"
   ]
  },
  {
   "cell_type": "code",
   "execution_count": 35,
   "metadata": {},
   "outputs": [],
   "source": [
    "def random_policy():\n",
    "        return env.action_space.sample()"
   ]
  },
  {
   "cell_type": "code",
   "execution_count": 36,
   "metadata": {},
   "outputs": [],
   "source": [
    "alpha = 0.85\n",
    "gamma = 0.90\n"
   ]
  },
  {
   "cell_type": "code",
   "execution_count": 43,
   "metadata": {},
   "outputs": [],
   "source": [
    "num_episodes = 50000\n",
    "num_timesteps = 1000"
   ]
  },
  {
   "cell_type": "markdown",
   "metadata": {},
   "source": [
    "Compute the optimal policy using the SARSA update rule as:\n",
    "\n",
    "$$ Q(s,a) = Q(s,a) + \\alpha (r + \\gamma Q(s',a') - Q(s,a)) $$"
   ]
  },
  {
   "cell_type": "code",
   "execution_count": 44,
   "metadata": {},
   "outputs": [],
   "source": [
    "#for each episode\n",
    "for i in range(num_episodes):\n",
    "       \n",
    "    #initialize the state by resetting the environment\n",
    "    s = env.reset()[0]\n",
    "    \n",
    "  \n",
    "    #for each step in the episode:\n",
    "    for t in range(num_timesteps):\n",
    "        a = random_policy()\n",
    "        #perform the selected action and store the next state information: \n",
    "        s_, r, done, truncate,_ = env.step(a)\n",
    "\n",
    "        #compute the Q value of the state-action pair\n",
    "        V[s] += alpha * (r + gamma * V[s_]-V[s])\n",
    "        \n",
    "        #update next state to current state\n",
    "        s = s_\n",
    "        \n",
    "        #if the current state is the terminal state then break:\n",
    "        if done or truncate:\n",
    "            break\n",
    "     "
   ]
  },
  {
   "cell_type": "code",
   "execution_count": 45,
   "metadata": {
    "tags": []
   },
   "outputs": [
    {
     "data": {
      "text/plain": [
       "{0: 0.00027415717218546676,\n",
       " 1: 0.00014966705911687917,\n",
       " 2: 0.000897287524324569,\n",
       " 3: 0.001690766407623473,\n",
       " 4: 3.4840966768545402e-06,\n",
       " 5: 0.0,\n",
       " 6: 0.00011718714291477381,\n",
       " 7: 0.0,\n",
       " 8: 0.0004958972683960488,\n",
       " 9: 0.0031771892669757718,\n",
       " 10: 0.0007308570079512639,\n",
       " 11: 0.0,\n",
       " 12: 0.0,\n",
       " 13: 0.0008471720105047752,\n",
       " 14: 0.03460187002766085,\n",
       " 15: 0.0}"
      ]
     },
     "execution_count": 45,
     "metadata": {},
     "output_type": "execute_result"
    }
   ],
   "source": [
    "V"
   ]
  },
  {
   "cell_type": "code",
   "execution_count": null,
   "metadata": {},
   "outputs": [],
   "source": []
  }
 ],
 "metadata": {
  "kernelspec": {
   "display_name": "Python 3 (ipykernel)",
   "language": "python",
   "name": "python3"
  },
  "language_info": {
   "codemirror_mode": {
    "name": "ipython",
    "version": 3
   },
   "file_extension": ".py",
   "mimetype": "text/x-python",
   "name": "python",
   "nbconvert_exporter": "python",
   "pygments_lexer": "ipython3",
   "version": "3.10.9"
  }
 },
 "nbformat": 4,
 "nbformat_minor": 4
}
